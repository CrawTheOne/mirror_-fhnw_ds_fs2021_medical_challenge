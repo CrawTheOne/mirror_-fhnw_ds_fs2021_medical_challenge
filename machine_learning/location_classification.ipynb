{
 "cells": [
  {
   "cell_type": "markdown",
   "metadata": {},
   "source": [
    "# Location Classification\n",
    "The goal of this notebook is to find important lab tests per location of (positive) uveitis patients. \n",
    "The hypothesis is that an anterior inflammation can be identified by a different subset of lab tests as for example posterior inflammations. \n",
    "This would allow to order a subset of all possible lab tests after the location of the inflammation has been located to identify uveitis. One approach would be to train a model per location.\n",
    "\n",
    "Steps:\n",
    "\n",
    "1. Get Subset of Data (Target Featue: Location, Input Features: Lab Results) \n",
    "2. Define suitable Algorithms for Binary Classification (e.g. Logistic Regression, etc.)\n",
    "3. Call preprocessing pipe with appropriat parameters for the current algorithm\n",
    "4. Fit Model\n",
    "5. Extract and Discuss important Features"
   ]
  },
  {
   "cell_type": "code",
   "execution_count": 1,
   "metadata": {},
   "outputs": [],
   "source": [
    "RANDOM = 43\n",
    "\n",
    "import pandas as pd\n",
    "import numpy as np\n",
    "import os\n",
    "import seaborn as sns\n",
    "import matplotlib.pyplot as plt\n",
    "\n",
    "# sklearn standard imports\n",
    "from sklearn.model_selection import train_test_split\n",
    "from sklearn.preprocessing import StandardScaler, Binarizer, LabelEncoder, Normalizer, OneHotEncoder\n",
    "from sklearn.impute import SimpleImputer\n",
    "from sklearn.compose import ColumnTransformer\n",
    "from sklearn.pipeline import Pipeline\n",
    "from sklearn.dummy import DummyClassifier\n",
    "from sklearn.metrics import roc_curve, roc_auc_score\n",
    "from sklearn.model_selection import GridSearchCV\n",
    "from sklearn.model_selection import RandomizedSearchCV\n",
    "# !pip install scikit-optimize # = skopt\n",
    "from skopt import BayesSearchCV\n",
    "from sklearn.metrics import classification_report\n",
    "from sklearn.metrics import ConfusionMatrixDisplay\n",
    "from sklearn.metrics import confusion_matrix\n",
    "\n",
    "# import of pipe module\n",
    "os.chdir('../preprocessing/')\n",
    "import pipe\n",
    "\n",
    "os.chdir('../machine_learning/')\n",
    "import helpers"
   ]
  },
  {
   "cell_type": "markdown",
   "metadata": {},
   "source": [
    "## Data Preparation\n",
    "To predict the location of an inflammation, we need to drop all columns that contain information about the location. Meta-Information about the patient will also be dropped."
   ]
  },
  {
   "cell_type": "code",
   "execution_count": 2,
   "metadata": {},
   "outputs": [
    {
     "data": {
      "text/html": [
       "<div>\n",
       "<style scoped>\n",
       "    .dataframe tbody tr th:only-of-type {\n",
       "        vertical-align: middle;\n",
       "    }\n",
       "\n",
       "    .dataframe tbody tr th {\n",
       "        vertical-align: top;\n",
       "    }\n",
       "\n",
       "    .dataframe thead th {\n",
       "        text-align: right;\n",
       "    }\n",
       "</style>\n",
       "<table border=\"1\" class=\"dataframe\">\n",
       "  <thead>\n",
       "    <tr style=\"text-align: right;\">\n",
       "      <th></th>\n",
       "      <th>loc</th>\n",
       "      <th>calcium</th>\n",
       "      <th>lactate_dehydrogenase</th>\n",
       "      <th>c-reactive_protein,_normal_and_high_sensitivity</th>\n",
       "      <th>wbc</th>\n",
       "      <th>rbc</th>\n",
       "      <th>hemoglobin</th>\n",
       "      <th>hematocrit</th>\n",
       "      <th>mcv</th>\n",
       "      <th>mch</th>\n",
       "      <th>...</th>\n",
       "      <th>lysozyme,_plasma</th>\n",
       "      <th>anti-ccp_ab</th>\n",
       "      <th>anti-ena_screen</th>\n",
       "      <th>antinuclear_antibody</th>\n",
       "      <th>dna_double-stranded_ab</th>\n",
       "      <th>rheumatoid_factor</th>\n",
       "      <th>hbc__ab</th>\n",
       "      <th>hbs__ag</th>\n",
       "      <th>hcv__ab</th>\n",
       "      <th>uveitis</th>\n",
       "    </tr>\n",
       "  </thead>\n",
       "  <tbody>\n",
       "    <tr>\n",
       "      <th>0</th>\n",
       "      <td>anterior</td>\n",
       "      <td>2.27</td>\n",
       "      <td>184</td>\n",
       "      <td>1.83</td>\n",
       "      <td>6.91</td>\n",
       "      <td>4.97</td>\n",
       "      <td>14.6</td>\n",
       "      <td>41.4</td>\n",
       "      <td>83.3</td>\n",
       "      <td>29.4</td>\n",
       "      <td>...</td>\n",
       "      <td>3.0</td>\n",
       "      <td>0.0</td>\n",
       "      <td>0.0</td>\n",
       "      <td>0.0</td>\n",
       "      <td>0.0</td>\n",
       "      <td>0</td>\n",
       "      <td>0</td>\n",
       "      <td>0</td>\n",
       "      <td>0</td>\n",
       "      <td>False</td>\n",
       "    </tr>\n",
       "    <tr>\n",
       "      <th>1</th>\n",
       "      <td>intermediate</td>\n",
       "      <td>2.32</td>\n",
       "      <td>209</td>\n",
       "      <td>0.15</td>\n",
       "      <td>4.24</td>\n",
       "      <td>4.22</td>\n",
       "      <td>11.0</td>\n",
       "      <td>36.0</td>\n",
       "      <td>85.3</td>\n",
       "      <td>26.1</td>\n",
       "      <td>...</td>\n",
       "      <td>&lt;NA&gt;</td>\n",
       "      <td>0.0</td>\n",
       "      <td>0.0</td>\n",
       "      <td>0.0</td>\n",
       "      <td>0.0</td>\n",
       "      <td>0</td>\n",
       "      <td>0</td>\n",
       "      <td>0</td>\n",
       "      <td>0</td>\n",
       "      <td>True</td>\n",
       "    </tr>\n",
       "    <tr>\n",
       "      <th>2</th>\n",
       "      <td>panuveitis</td>\n",
       "      <td>2.44</td>\n",
       "      <td>194</td>\n",
       "      <td>0.137</td>\n",
       "      <td>6.38</td>\n",
       "      <td>4.31</td>\n",
       "      <td>13.6</td>\n",
       "      <td>38.7</td>\n",
       "      <td>89.8</td>\n",
       "      <td>31.6</td>\n",
       "      <td>...</td>\n",
       "      <td>4.8</td>\n",
       "      <td>0.0</td>\n",
       "      <td>0.0</td>\n",
       "      <td>0.0</td>\n",
       "      <td>0.0</td>\n",
       "      <td>0</td>\n",
       "      <td>0</td>\n",
       "      <td>0</td>\n",
       "      <td>0</td>\n",
       "      <td>True</td>\n",
       "    </tr>\n",
       "    <tr>\n",
       "      <th>3</th>\n",
       "      <td>anterior</td>\n",
       "      <td>2.45</td>\n",
       "      <td>156</td>\n",
       "      <td>3.5</td>\n",
       "      <td>5.24</td>\n",
       "      <td>4.82</td>\n",
       "      <td>14.6</td>\n",
       "      <td>43.6</td>\n",
       "      <td>90.5</td>\n",
       "      <td>30.3</td>\n",
       "      <td>...</td>\n",
       "      <td>&lt;NA&gt;</td>\n",
       "      <td>0.0</td>\n",
       "      <td>0.0</td>\n",
       "      <td>0.0</td>\n",
       "      <td>0.0</td>\n",
       "      <td>0</td>\n",
       "      <td>0</td>\n",
       "      <td>0</td>\n",
       "      <td>0</td>\n",
       "      <td>True</td>\n",
       "    </tr>\n",
       "    <tr>\n",
       "      <th>4</th>\n",
       "      <td>anterior</td>\n",
       "      <td>2.28</td>\n",
       "      <td>175</td>\n",
       "      <td>1.0</td>\n",
       "      <td>8.31</td>\n",
       "      <td>4.72</td>\n",
       "      <td>14.0</td>\n",
       "      <td>40.7</td>\n",
       "      <td>86.2</td>\n",
       "      <td>29.7</td>\n",
       "      <td>...</td>\n",
       "      <td>4.5</td>\n",
       "      <td>0.0</td>\n",
       "      <td>0.0</td>\n",
       "      <td>0.0</td>\n",
       "      <td>1.0</td>\n",
       "      <td>0</td>\n",
       "      <td>0</td>\n",
       "      <td>0</td>\n",
       "      <td>0</td>\n",
       "      <td>True</td>\n",
       "    </tr>\n",
       "  </tbody>\n",
       "</table>\n",
       "<p>5 rows × 26 columns</p>\n",
       "</div>"
      ],
      "text/plain": [
       "            loc  calcium  lactate_dehydrogenase  \\\n",
       "0      anterior     2.27                    184   \n",
       "1  intermediate     2.32                    209   \n",
       "2    panuveitis     2.44                    194   \n",
       "3      anterior     2.45                    156   \n",
       "4      anterior     2.28                    175   \n",
       "\n",
       "   c-reactive_protein,_normal_and_high_sensitivity   wbc   rbc  hemoglobin  \\\n",
       "0                                             1.83  6.91  4.97        14.6   \n",
       "1                                             0.15  4.24  4.22        11.0   \n",
       "2                                            0.137  6.38  4.31        13.6   \n",
       "3                                              3.5  5.24  4.82        14.6   \n",
       "4                                              1.0  8.31  4.72        14.0   \n",
       "\n",
       "   hematocrit   mcv   mch  ...  lysozyme,_plasma  anti-ccp_ab  \\\n",
       "0        41.4  83.3  29.4  ...               3.0          0.0   \n",
       "1        36.0  85.3  26.1  ...              <NA>          0.0   \n",
       "2        38.7  89.8  31.6  ...               4.8          0.0   \n",
       "3        43.6  90.5  30.3  ...              <NA>          0.0   \n",
       "4        40.7  86.2  29.7  ...               4.5          0.0   \n",
       "\n",
       "   anti-ena_screen  antinuclear_antibody  dna_double-stranded_ab  \\\n",
       "0              0.0                   0.0                     0.0   \n",
       "1              0.0                   0.0                     0.0   \n",
       "2              0.0                   0.0                     0.0   \n",
       "3              0.0                   0.0                     0.0   \n",
       "4              0.0                   0.0                     1.0   \n",
       "\n",
       "   rheumatoid_factor  hbc__ab  hbs__ag  hcv__ab  uveitis  \n",
       "0                  0        0        0        0    False  \n",
       "1                  0        0        0        0     True  \n",
       "2                  0        0        0        0     True  \n",
       "3                  0        0        0        0     True  \n",
       "4                  0        0        0        0     True  \n",
       "\n",
       "[5 rows x 26 columns]"
      ]
     },
     "execution_count": 2,
     "metadata": {},
     "output_type": "execute_result"
    }
   ],
   "source": [
    "# calling preprocessing function\n",
    "\n",
    "# num_to_cat = True: Range Date is now dtype Category \n",
    "# drop_filter: Drop every column that is not a lab test\n",
    "\n",
    "df = pipe.preprocessing_pipe(num_to_cat   = False,\n",
    "                             drop_filter  = ['hla', 'ac_', 'vit_', 'gender','race', 'cat','specific_diagnosis'],\n",
    "                             loc_approach = 'multi',\n",
    "                             binary_cat   = True,\n",
    "                             nan_percentage = 0.2,\n",
    "                             hot_encode_cat = True) \n",
    "df.head()"
   ]
  },
  {
   "cell_type": "markdown",
   "metadata": {},
   "source": [
    "### Split into uveitis and not_uveitis data"
   ]
  },
  {
   "cell_type": "code",
   "execution_count": 3,
   "metadata": {},
   "outputs": [],
   "source": [
    "df_uv_pos = df[df.uveitis == True]\n",
    "df_uv_neg = df[df.uveitis != True]"
   ]
  },
  {
   "cell_type": "markdown",
   "metadata": {},
   "source": [
    "# Multiclass classification\n",
    "In this section we try to predict the location of an inflammation of uveitis positive patients. For this we remove records of non uveitis patients.\n",
    "These models can be used as a comparison for the binary classification (see next chapter)"
   ]
  },
  {
   "cell_type": "code",
   "execution_count": 4,
   "metadata": {},
   "outputs": [
    {
     "data": {
      "image/png": "[encoded data removed]",
      "text/plain": [
       "<Figure size 432x288 with 1 Axes>"
      ]
     },
     "metadata": {
      "needs_background": "light"
     },
     "output_type": "display_data"
    }
   ],
   "source": [
    "df_uv_pos_clean = df_uv_pos.dropna(subset=['loc']) # drop records with missing location data (3)\n",
    "g = sns.countplot(x=df_uv_pos_clean['loc'])\n",
    "helpers.plot_wrapper(g, 'Location','Distribution of location classes','Location','Nr. of occurances')"
   ]
  },
  {
   "cell_type": "markdown",
   "metadata": {},
   "source": [
    "**Discussion** The target feature contains 5 classes. The three missing values have been removed. We can see that. with the execption of the location 'scleritis', that the classes are somewhat balanced."
   ]
  },
  {
   "cell_type": "markdown",
   "metadata": {},
   "source": [
    "### Upsampeld Data"
   ]
  },
  {
   "cell_type": "code",
   "execution_count": 5,
   "metadata": {},
   "outputs": [],
   "source": [
    "#################### TODO: ADD UPSAMPLING"
   ]
  },
  {
   "cell_type": "markdown",
   "metadata": {},
   "source": [
    "#### Train-Test Split\n",
    "Trainingset contains 75% of data. The target feature is the loc (Location)-Feature. \n",
    "The target feature contains 3 missing values. We initially drop these records."
   ]
  },
  {
   "cell_type": "code",
   "execution_count": 6,
   "metadata": {},
   "outputs": [],
   "source": [
    "# train_test_split\n",
    "X = df_uv_pos_clean.drop(columns=['loc','uveitis'])\n",
    "y = df_uv_pos_clean['loc']\n",
    "X_train, X_test, y_train, y_test = train_test_split(X, y, test_size=0.25, random_state=RANDOM, stratify = None)"
   ]
  },
  {
   "cell_type": "markdown",
   "metadata": {},
   "source": [
    "#### Imputation and Encoding"
   ]
  },
  {
   "cell_type": "code",
   "execution_count": 7,
   "metadata": {},
   "outputs": [],
   "source": [
    "# filter for numeric and categorical features\n",
    "numerics = ['Int64','float64']\n",
    "category = ['category','bool']\n",
    "\n",
    "# select list of numeric and categorical features\n",
    "numeric_features = X.select_dtypes(include=numerics).columns.tolist()\n",
    "categorical_features = X.select_dtypes(include=category).columns.tolist()\n",
    "\n",
    "# define imputer strategy (consult sklarn SimpleImputer and StandardScaler documentation for options)\n",
    "imputer = {'categorical':{'strategy':'most_frequent','fill_value':'most_frequent'}, 'numerical':{'strategy':'median', 'fill_value':'mean'}}\n",
    "imputer_encoder_no_onehot = pipe.impute_and_encode(categorical_features, numeric_features, imputer, one_hot=False)\n",
    "imputer_encoder_onehot = pipe.impute_and_encode(categorical_features, numeric_features, imputer, one_hot=True, knn_impute=True)\n",
    "imputer_encoder_onehot_knn = pipe.impute_and_encode(categorical_features, numeric_features, imputer, one_hot=True, knn_impute=True)\n",
    "imputer_encoder_no_onehot_knn = pipe.impute_and_encode(categorical_features, numeric_features, imputer, one_hot=False, knn_impute=True)"
   ]
  },
  {
   "cell_type": "markdown",
   "metadata": {},
   "source": [
    "## Baseline Model"
   ]
  },
  {
   "cell_type": "code",
   "execution_count": 8,
   "metadata": {},
   "outputs": [
    {
     "name": "stdout",
     "output_type": "stream",
     "text": [
      "Accuracy Dummy Classifier: 0.27896995708154504\n",
      "Class probabilites: [0.23529412 0.20659971 0.2266858  0.2553802  0.07604017]\n"
     ]
    }
   ],
   "source": [
    "dummy = DummyClassifier(strategy='prior', random_state=RANDOM)\n",
    "pipeline = Pipeline(steps=[('preprocessor', imputer_encoder_no_onehot),\n",
    "                      ('classifier', dummy)])\n",
    "pipeline.fit(X_train, y_train)\n",
    "print(f'Accuracy Dummy Classifier: {pipeline.score(X_test, y_test)}')\n",
    "print(f'Class probabilites: {pipeline.predict_proba(X_test)[0:1][0]}')"
   ]
  },
  {
   "cell_type": "markdown",
   "metadata": {},
   "source": [
    "This model acts as our basline. This model takes in the prior probability of a class occuring in the trainingset, and recommends blindly based on these probabilites. "
   ]
  },
  {
   "cell_type": "markdown",
   "metadata": {},
   "source": [
    "## Decision Tree"
   ]
  },
  {
   "cell_type": "code",
   "execution_count": 9,
   "metadata": {},
   "outputs": [],
   "source": [
    "# import decision tree\n",
    "from sklearn.tree import DecisionTreeClassifier, plot_tree, export_graphviz\n",
    "from dtreeviz.trees import dtreeviz"
   ]
  },
  {
   "cell_type": "code",
   "execution_count": 20,
   "metadata": {},
   "outputs": [
    {
     "name": "stdout",
     "output_type": "stream",
     "text": [
      "Best Parameters:\n",
      "{'tree__class_weight': 'balanced', 'tree__criterion': 'entropy', 'tree__max_depth': 18, 'tree__min_samples_split': 12, 'tree__random_state': 43, 'tree__splitter': 'best'}\n"
     ]
    }
   ],
   "source": [
    "from sklearn.metrics import make_scorer, f1_score, precision_score, accuracy_score\n",
    "\n",
    "# supress warnings of estimator fit failed\n",
    "def warn(*args, **kwargs):\n",
    "    pass\n",
    "import warnings\n",
    "warnings.warn = warn\n",
    "\n",
    "dectree = DecisionTreeClassifier()\n",
    "\n",
    "# without one_hot_encoded data\n",
    "pipeline = Pipeline(steps=[\n",
    "    ('prep', imputer_encoder_no_onehot),\n",
    "    ('tree', dectree)\n",
    "])\n",
    "\n",
    "# hyperparameterspace\n",
    "parameters = {\n",
    "    'tree__criterion':['gini','entropy'],\n",
    "    'tree__splitter' :['best','random'],\n",
    "    'tree__max_depth':np.arange(2,20,2),\n",
    "    'tree__min_samples_split':[int(i) for i in np.arange(2,20,10)],\n",
    "    'tree__random_state':[RANDOM],\n",
    "    'tree__class_weight':['balanced'] # {'anterior':0.23529412 , 'intermediate':0.20659971 , 'panuveitis':0.2266858  , 'posterior':0.2553802  , 'scleritis':0.07604017}]\n",
    "}\n",
    "\n",
    "# create scorer\n",
    "scorer = make_scorer(f1_score, average = 'weighted')\n",
    "\n",
    "# random search\n",
    "rv = GridSearchCV(pipeline, parameters, cv = 10, scoring=scorer)\n",
    "rv.fit(X_train, y_train)\n",
    "print('Best Parameters:')\n",
    "print(rv.best_params_)"
   ]
  },
  {
   "cell_type": "code",
   "execution_count": 21,
   "metadata": {},
   "outputs": [
    {
     "data": {
      "text/plain": [
       "0.2284415308377548"
      ]
     },
     "execution_count": 21,
     "metadata": {},
     "output_type": "execute_result"
    }
   ],
   "source": [
    "rv.score(X_test,y_test)"
   ]
  },
  {
   "cell_type": "code",
   "execution_count": 22,
   "metadata": {},
   "outputs": [
    {
     "data": {
      "image/png": "[encoded data removed]",
      "text/plain": [
       "<Figure size 432x288 with 2 Axes>"
      ]
     },
     "metadata": {
      "needs_background": "light"
     },
     "output_type": "display_data"
    }
   ],
   "source": [
    "ConfusionMatrixDisplay(confusion_matrix(y_test, rv.best_estimator_.predict(X_test)), display_labels=df_uv_pos_clean['loc'].unique()).plot()\n",
    "plt.xticks(rotation=45)\n",
    "plt.show()"
   ]
  },
  {
   "cell_type": "markdown",
   "metadata": {},
   "source": [
    "## Random Forest"
   ]
  },
  {
   "cell_type": "code",
   "execution_count": 24,
   "metadata": {},
   "outputs": [
    {
     "name": "stdout",
     "output_type": "stream",
     "text": [
      "Best Parameters:\n",
      "{'tree__max_features': 'log2', 'tree__n_estimators': 1000, 'tree__oob_score': True}\n"
     ]
    }
   ],
   "source": [
    "from sklearn.ensemble import RandomForestClassifier\n",
    "\n",
    "\n",
    "rantree = RandomForestClassifier(n_jobs=-1, random_state=RANDOM)\n",
    "\n",
    "# without one_hot_encoded data\n",
    "pipeline = Pipeline(steps=[\n",
    "    ('prep', imputer_encoder_no_onehot),\n",
    "    ('tree', rantree)\n",
    "])\n",
    "\n",
    "# hyperparameterspace\n",
    "parameters = {\n",
    "    'tree__n_estimators':[100,1000],\n",
    "    'tree__max_features':['log2', 'sqrt', 'auto'],\n",
    "    'tree__oob_score':[True,False]\n",
    "}\n",
    "\n",
    "# create scorer\n",
    "scorer = make_scorer(precision_score, average = 'weighted')\n",
    "\n",
    "# bayes search\n",
    "bv = GridSearchCV(pipeline, parameters, cv = 10, scoring=scorer)\n",
    "bv.fit(X_train, y_train)\n",
    "print('Best Parameters:')\n",
    "print(bv.best_params_)"
   ]
  },
  {
   "cell_type": "code",
   "execution_count": 25,
   "metadata": {},
   "outputs": [
    {
     "data": {
      "text/plain": [
       "0.3218884120171674"
      ]
     },
     "execution_count": 25,
     "metadata": {},
     "output_type": "execute_result"
    }
   ],
   "source": [
    "bv.best_estimator_.score(X_test,y_test)"
   ]
  },
  {
   "cell_type": "code",
   "execution_count": 26,
   "metadata": {},
   "outputs": [
    {
     "data": {
      "image/png": "[encoded data removed]",
      "text/plain": [
       "<Figure size 432x288 with 2 Axes>"
      ]
     },
     "metadata": {
      "needs_background": "light"
     },
     "output_type": "display_data"
    }
   ],
   "source": [
    "ConfusionMatrixDisplay(confusion_matrix(y_test, bv.best_estimator_.predict(X_test)), display_labels=df_uv_pos_clean['loc'].unique()).plot()\n",
    "plt.xticks(rotation=45)\n",
    "plt.show()"
   ]
  },
  {
   "cell_type": "code",
   "execution_count": 32,
   "metadata": {},
   "outputs": [
    {
     "data": {
      "text/plain": [
       "[<matplotlib.lines.Line2D at 0x1e047dc9430>]"
      ]
     },
     "execution_count": 32,
     "metadata": {},
     "output_type": "execute_result"
    },
    {
     "data": {
      "image/png": "[encoded data removed]",
      "text/plain": [
       "<Figure size 432x288 with 1 Axes>"
      ]
     },
     "metadata": {
      "needs_background": "light"
     },
     "output_type": "display_data"
    }
   ],
   "source": [
    "helpers.plot_validation_curve(bv.best_estimator_.fit(X_train, y_train), X_test, y_test, 'tree__n_estimators',np.arange(10,100,10), scorer)"
   ]
  },
  {
   "cell_type": "markdown",
   "metadata": {},
   "source": [
    "## KNN"
   ]
  },
  {
   "cell_type": "code",
   "execution_count": 34,
   "metadata": {},
   "outputs": [
    {
     "name": "stdout",
     "output_type": "stream",
     "text": [
      "Best Parameters:\n",
      "{'knn__algorithm': 'auto', 'knn__n_neighbors': 15, 'knn__weights': 'distance'}\n"
     ]
    }
   ],
   "source": [
    "from sklearn.neighbors import KNeighborsClassifier\n",
    "\n",
    "knn = KNeighborsClassifier(n_jobs=-1)\n",
    "\n",
    "# without one_hot_encoded data\n",
    "pipeline = Pipeline(steps=[\n",
    "    ('prep', imputer_encoder_no_onehot),\n",
    "    ('knn', knn)\n",
    "])\n",
    "\n",
    "# hyperparameterspace\n",
    "parameters = {\n",
    "    'knn__n_neighbors':np.arange(5,100,10),\n",
    "    'knn__weights':['uniform', 'distance'],\n",
    "    'knn__algorithm':['auto','ball_tree','kd_tree','brute']\n",
    "}\n",
    "\n",
    "# create scorer\n",
    "# scorer = make_scorer(precision_score, average = 'weighted')\n",
    "\n",
    "# bayes search\n",
    "bv = GridSearchCV(pipeline, parameters, cv = 10)\n",
    "bv.fit(X_train, y_train)\n",
    "print('Best Parameters:')\n",
    "print(bv.best_params_)"
   ]
  },
  {
   "cell_type": "code",
   "execution_count": 35,
   "metadata": {},
   "outputs": [
    {
     "data": {
      "text/plain": [
       "0.296137339055794"
      ]
     },
     "execution_count": 35,
     "metadata": {},
     "output_type": "execute_result"
    }
   ],
   "source": [
    "bv.best_estimator_.score(X_test,y_test)"
   ]
  },
  {
   "cell_type": "code",
   "execution_count": null,
   "metadata": {},
   "outputs": [],
   "source": [
    "################### TODO: TEST MORE CLASSIFIERS"
   ]
  },
  {
   "cell_type": "markdown",
   "metadata": {},
   "source": [
    "# Binary classification"
   ]
  }
 ],
 "metadata": {
  "kernelspec": {
   "display_name": "Python 3",
   "language": "python",
   "name": "python3"
  },
  "language_info": {
   "codemirror_mode": {
    "name": "ipython",
    "version": 3
   },
   "file_extension": ".py",
   "mimetype": "text/x-python",
   "name": "python",
   "nbconvert_exporter": "python",
   "pygments_lexer": "ipython3",
   "version": "3.8.8"
  }
 },
 "nbformat": 4,
 "nbformat_minor": 4
}
