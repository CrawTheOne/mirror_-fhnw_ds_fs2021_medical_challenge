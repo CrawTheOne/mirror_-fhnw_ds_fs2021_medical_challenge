{
 "cells": [
  {
   "cell_type": "code",
   "execution_count": 1,
   "metadata": {},
   "outputs": [],
   "source": [
    "# helper\n",
    "def plot_wrapper(plot_object, title, subtitle, xlabel, ylabel, xtick_rotation = None):\n",
    "    \"\"\"\n",
    "    Simple function to set title, labels etc. of a seaborn plot. Helps with readability.\n",
    "    The function prints the plot.\n",
    "    \n",
    "    Arguments\n",
    "    ---------\n",
    "    :param plot_object:    a seaborn plot object\n",
    "    :param title:          str, sets a bold title\n",
    "    :param subtitle:       str, sets a subtitle\n",
    "    :param xlabel:         str, replaces xlabel\n",
    "    :param ylabel:         str, replaces ylabel\n",
    "    :param xtich_rotation: int, rotates xticks  \n",
    "    \n",
    "    Returns\n",
    "    -------\n",
    "    :return None:          the function prints a plot\n",
    "    \"\"\"\n",
    "    g = plot_object\n",
    "\n",
    "    # Title, Subtitle and Axis\n",
    "    g.text(x=0.5, \n",
    "            y=1.06, \n",
    "            s=title, \n",
    "            fontsize=10, weight='bold', ha='center', va='bottom', transform=g.transAxes)\n",
    "    g.text(x=0.5, \n",
    "            y=1.01, \n",
    "            s=subtitle, \n",
    "            fontsize=10, alpha=0.75, ha='center', va='bottom', transform=g.transAxes)\n",
    "    plt.xlabel(xlabel)\n",
    "    plt.ylabel(ylabel)\n",
    "    if xtick_rotation is not None:\n",
    "        plt.xticks(rotation=xtick_rotation)\n",
    "    plt.show()"
   ]
  },
  {
   "cell_type": "markdown",
   "metadata": {},
   "source": [
    "**TODO:**\n",
    "- Check wbc feature. Seems to not be encoded when num_to_cat = True in preprocessing\n",
    "- Binarize Gender"
   ]
  },
  {
   "cell_type": "markdown",
   "metadata": {},
   "source": [
    "# Location Classification\n",
    "The goal of this notebook is to find important lab tests per location of (positive) uveitis patients. \n",
    "The hypothesis is that an anterior inflammation can be identified by a different subset of lab tests as for example posterior inflammations. \n",
    "This would allow to order a subset of all possible lab tests after the location of the inflammation has been located to identify uveitis. One approach would be to train a model per location.\n",
    "\n",
    "Steps:\n",
    "\n",
    "1. Get Subset of Data (Target Featue: Location, Input Features: Lab Results) \n",
    "2. Define suitable Algorithms for Binary Classification (e.g. Logistic Regression, etc.)\n",
    "3. Call preprocessing pipe with appropriat parameters for the current algorithm\n",
    "4. Fit Model\n",
    "5. Extract and Discuss important Features"
   ]
  },
  {
   "cell_type": "code",
   "execution_count": 2,
   "metadata": {},
   "outputs": [],
   "source": [
    "RANDOM = 43\n",
    "\n",
    "import pandas as pd\n",
    "import numpy as np\n",
    "import os\n",
    "import seaborn as sns\n",
    "import matplotlib.pyplot as plt\n",
    "\n",
    "# sklearn standard imports\n",
    "from sklearn.model_selection import train_test_split\n",
    "from sklearn.preprocessing import StandardScaler, Binarizer, LabelEncoder, Normalizer, OneHotEncoder\n",
    "from sklearn.impute import SimpleImputer\n",
    "from sklearn.compose import ColumnTransformer\n",
    "from sklearn.pipeline import Pipeline\n",
    "from sklearn.dummy import DummyClassifier\n",
    "from sklearn.metrics import roc_curve, roc_auc_score\n",
    "from sklearn.model_selection import GridSearchCV\n",
    "from sklearn.model_selection import RandomizedSearchCV\n",
    "# !pip install scikit-optimize # = skopt\n",
    "from skopt import BayesSearchCV\n",
    "from sklearn.metrics import classification_report\n",
    "from sklearn.metrics import ConfusionMatrixDisplay\n",
    "from sklearn.metrics import confusion_matrix\n",
    "\n",
    "# import of pipe module\n",
    "os.chdir('../preprocessing/')\n",
    "import pipe\n",
    "\n",
    "os.chdir('../machine_learning/')"
   ]
  },
  {
   "cell_type": "markdown",
   "metadata": {},
   "source": [
    "## Data Preparation\n",
    "To predict the location of an inflammation, we need to drop all columns that contain information about the location. Meta-Information about the patient will also be dropped."
   ]
  },
  {
   "cell_type": "code",
   "execution_count": 3,
   "metadata": {},
   "outputs": [
    {
     "data": {
      "text/html": [
       "<div>\n",
       "<style scoped>\n",
       "    .dataframe tbody tr th:only-of-type {\n",
       "        vertical-align: middle;\n",
       "    }\n",
       "\n",
       "    .dataframe tbody tr th {\n",
       "        vertical-align: top;\n",
       "    }\n",
       "\n",
       "    .dataframe thead th {\n",
       "        text-align: right;\n",
       "    }\n",
       "</style>\n",
       "<table border=\"1\" class=\"dataframe\">\n",
       "  <thead>\n",
       "    <tr style=\"text-align: right;\">\n",
       "      <th></th>\n",
       "      <th>gender</th>\n",
       "      <th>loc</th>\n",
       "      <th>calcium</th>\n",
       "      <th>lactate_dehydrogenase</th>\n",
       "      <th>c-reactive_protein,_normal_and_high_sensitivity</th>\n",
       "      <th>wbc</th>\n",
       "      <th>rbc</th>\n",
       "      <th>hemoglobin</th>\n",
       "      <th>hematocrit</th>\n",
       "      <th>mcv</th>\n",
       "      <th>...</th>\n",
       "      <th>lysozyme,_plasma</th>\n",
       "      <th>anti-ccp_ab</th>\n",
       "      <th>anti-ena_screen</th>\n",
       "      <th>antinuclear_antibody</th>\n",
       "      <th>dna_double-stranded_ab</th>\n",
       "      <th>rheumatoid_factor</th>\n",
       "      <th>hbc__ab</th>\n",
       "      <th>hbs__ag</th>\n",
       "      <th>hcv__ab</th>\n",
       "      <th>uveitis</th>\n",
       "    </tr>\n",
       "  </thead>\n",
       "  <tbody>\n",
       "    <tr>\n",
       "      <th>0</th>\n",
       "      <td>Male</td>\n",
       "      <td>anterior</td>\n",
       "      <td>2.27</td>\n",
       "      <td>1.0</td>\n",
       "      <td>1.0</td>\n",
       "      <td>1.0</td>\n",
       "      <td>1.0</td>\n",
       "      <td>1.0</td>\n",
       "      <td>1.0</td>\n",
       "      <td>1.0</td>\n",
       "      <td>...</td>\n",
       "      <td>1.0</td>\n",
       "      <td>False</td>\n",
       "      <td>True</td>\n",
       "      <td>True</td>\n",
       "      <td>True</td>\n",
       "      <td>0</td>\n",
       "      <td>False</td>\n",
       "      <td>False</td>\n",
       "      <td>False</td>\n",
       "      <td>False</td>\n",
       "    </tr>\n",
       "    <tr>\n",
       "      <th>1</th>\n",
       "      <td>Female</td>\n",
       "      <td>intermediate</td>\n",
       "      <td>2.32</td>\n",
       "      <td>1.0</td>\n",
       "      <td>1.0</td>\n",
       "      <td>1.0</td>\n",
       "      <td>1.0</td>\n",
       "      <td>0.0</td>\n",
       "      <td>1.0</td>\n",
       "      <td>1.0</td>\n",
       "      <td>...</td>\n",
       "      <td>NaN</td>\n",
       "      <td>False</td>\n",
       "      <td>True</td>\n",
       "      <td>True</td>\n",
       "      <td>True</td>\n",
       "      <td>0</td>\n",
       "      <td>False</td>\n",
       "      <td>False</td>\n",
       "      <td>False</td>\n",
       "      <td>True</td>\n",
       "    </tr>\n",
       "    <tr>\n",
       "      <th>2</th>\n",
       "      <td>Female</td>\n",
       "      <td>panuveitis</td>\n",
       "      <td>2.44</td>\n",
       "      <td>1.0</td>\n",
       "      <td>1.0</td>\n",
       "      <td>1.0</td>\n",
       "      <td>1.0</td>\n",
       "      <td>1.0</td>\n",
       "      <td>1.0</td>\n",
       "      <td>1.0</td>\n",
       "      <td>...</td>\n",
       "      <td>1.0</td>\n",
       "      <td>False</td>\n",
       "      <td>True</td>\n",
       "      <td>True</td>\n",
       "      <td>True</td>\n",
       "      <td>0</td>\n",
       "      <td>False</td>\n",
       "      <td>False</td>\n",
       "      <td>False</td>\n",
       "      <td>True</td>\n",
       "    </tr>\n",
       "    <tr>\n",
       "      <th>3</th>\n",
       "      <td>Female</td>\n",
       "      <td>anterior</td>\n",
       "      <td>2.45</td>\n",
       "      <td>1.0</td>\n",
       "      <td>1.0</td>\n",
       "      <td>1.0</td>\n",
       "      <td>1.0</td>\n",
       "      <td>1.0</td>\n",
       "      <td>1.0</td>\n",
       "      <td>1.0</td>\n",
       "      <td>...</td>\n",
       "      <td>NaN</td>\n",
       "      <td>False</td>\n",
       "      <td>True</td>\n",
       "      <td>True</td>\n",
       "      <td>True</td>\n",
       "      <td>0</td>\n",
       "      <td>False</td>\n",
       "      <td>False</td>\n",
       "      <td>False</td>\n",
       "      <td>True</td>\n",
       "    </tr>\n",
       "    <tr>\n",
       "      <th>4</th>\n",
       "      <td>Female</td>\n",
       "      <td>anterior</td>\n",
       "      <td>2.28</td>\n",
       "      <td>1.0</td>\n",
       "      <td>1.0</td>\n",
       "      <td>1.0</td>\n",
       "      <td>1.0</td>\n",
       "      <td>1.0</td>\n",
       "      <td>1.0</td>\n",
       "      <td>1.0</td>\n",
       "      <td>...</td>\n",
       "      <td>1.0</td>\n",
       "      <td>False</td>\n",
       "      <td>True</td>\n",
       "      <td>True</td>\n",
       "      <td>True</td>\n",
       "      <td>0</td>\n",
       "      <td>False</td>\n",
       "      <td>False</td>\n",
       "      <td>False</td>\n",
       "      <td>True</td>\n",
       "    </tr>\n",
       "  </tbody>\n",
       "</table>\n",
       "<p>5 rows × 27 columns</p>\n",
       "</div>"
      ],
      "text/plain": [
       "   gender           loc  calcium lactate_dehydrogenase  \\\n",
       "0    Male      anterior     2.27                   1.0   \n",
       "1  Female  intermediate     2.32                   1.0   \n",
       "2  Female    panuveitis     2.44                   1.0   \n",
       "3  Female      anterior     2.45                   1.0   \n",
       "4  Female      anterior     2.28                   1.0   \n",
       "\n",
       "  c-reactive_protein,_normal_and_high_sensitivity  wbc  rbc hemoglobin  \\\n",
       "0                                             1.0  1.0  1.0        1.0   \n",
       "1                                             1.0  1.0  1.0        0.0   \n",
       "2                                             1.0  1.0  1.0        1.0   \n",
       "3                                             1.0  1.0  1.0        1.0   \n",
       "4                                             1.0  1.0  1.0        1.0   \n",
       "\n",
       "  hematocrit  mcv  ... lysozyme,_plasma anti-ccp_ab anti-ena_screen  \\\n",
       "0        1.0  1.0  ...              1.0       False            True   \n",
       "1        1.0  1.0  ...              NaN       False            True   \n",
       "2        1.0  1.0  ...              1.0       False            True   \n",
       "3        1.0  1.0  ...              NaN       False            True   \n",
       "4        1.0  1.0  ...              1.0       False            True   \n",
       "\n",
       "  antinuclear_antibody dna_double-stranded_ab  rheumatoid_factor hbc__ab  \\\n",
       "0                 True                   True                  0   False   \n",
       "1                 True                   True                  0   False   \n",
       "2                 True                   True                  0   False   \n",
       "3                 True                   True                  0   False   \n",
       "4                 True                   True                  0   False   \n",
       "\n",
       "  hbs__ag  hcv__ab  uveitis  \n",
       "0   False    False    False  \n",
       "1   False    False     True  \n",
       "2   False    False     True  \n",
       "3   False    False     True  \n",
       "4   False    False     True  \n",
       "\n",
       "[5 rows x 27 columns]"
      ]
     },
     "execution_count": 3,
     "metadata": {},
     "output_type": "execute_result"
    }
   ],
   "source": [
    "# calling preprocessing function\n",
    "\n",
    "# num_to_cat = True: Range Date is now dtype Category \n",
    "# drop_filter: Drop every column that is not a lab test\n",
    "\n",
    "df = pipe.preprocessing_pipe(num_to_cat   = True,\n",
    "                             drop_filter  = ['hla', 'ac_', 'vit_', 'race', 'cat','specific_diagnosis'],\n",
    "                             loc_approach = 'multi',\n",
    "                             binary_cat   = True,\n",
    "                             nan_percentage = 0.2) \n",
    "df.head()"
   ]
  },
  {
   "cell_type": "code",
   "execution_count": 4,
   "metadata": {},
   "outputs": [
    {
     "data": {
      "text/html": [
       "<div>\n",
       "<style scoped>\n",
       "    .dataframe tbody tr th:only-of-type {\n",
       "        vertical-align: middle;\n",
       "    }\n",
       "\n",
       "    .dataframe tbody tr th {\n",
       "        vertical-align: top;\n",
       "    }\n",
       "\n",
       "    .dataframe thead th {\n",
       "        text-align: right;\n",
       "    }\n",
       "</style>\n",
       "<table border=\"1\" class=\"dataframe\">\n",
       "  <thead>\n",
       "    <tr style=\"text-align: right;\">\n",
       "      <th></th>\n",
       "      <th>gender</th>\n",
       "      <th>loc</th>\n",
       "      <th>calcium</th>\n",
       "      <th>lactate_dehydrogenase</th>\n",
       "      <th>c-reactive_protein,_normal_and_high_sensitivity</th>\n",
       "      <th>wbc</th>\n",
       "      <th>rbc</th>\n",
       "      <th>hemoglobin</th>\n",
       "      <th>hematocrit</th>\n",
       "      <th>mcv</th>\n",
       "      <th>...</th>\n",
       "      <th>lysozyme,_plasma</th>\n",
       "      <th>anti-ccp_ab</th>\n",
       "      <th>anti-ena_screen</th>\n",
       "      <th>antinuclear_antibody</th>\n",
       "      <th>dna_double-stranded_ab</th>\n",
       "      <th>rheumatoid_factor</th>\n",
       "      <th>hbc__ab</th>\n",
       "      <th>hbs__ag</th>\n",
       "      <th>hcv__ab</th>\n",
       "      <th>uveitis</th>\n",
       "    </tr>\n",
       "  </thead>\n",
       "  <tbody>\n",
       "    <tr>\n",
       "      <th>0</th>\n",
       "      <td>1</td>\n",
       "      <td>anterior</td>\n",
       "      <td>2.27</td>\n",
       "      <td>1.0</td>\n",
       "      <td>1.0</td>\n",
       "      <td>1.0</td>\n",
       "      <td>1.0</td>\n",
       "      <td>1.0</td>\n",
       "      <td>1.0</td>\n",
       "      <td>1.0</td>\n",
       "      <td>...</td>\n",
       "      <td>1.0</td>\n",
       "      <td>False</td>\n",
       "      <td>True</td>\n",
       "      <td>True</td>\n",
       "      <td>True</td>\n",
       "      <td>0</td>\n",
       "      <td>False</td>\n",
       "      <td>False</td>\n",
       "      <td>False</td>\n",
       "      <td>False</td>\n",
       "    </tr>\n",
       "    <tr>\n",
       "      <th>1</th>\n",
       "      <td>0</td>\n",
       "      <td>intermediate</td>\n",
       "      <td>2.32</td>\n",
       "      <td>1.0</td>\n",
       "      <td>1.0</td>\n",
       "      <td>1.0</td>\n",
       "      <td>1.0</td>\n",
       "      <td>0.0</td>\n",
       "      <td>1.0</td>\n",
       "      <td>1.0</td>\n",
       "      <td>...</td>\n",
       "      <td>NaN</td>\n",
       "      <td>False</td>\n",
       "      <td>True</td>\n",
       "      <td>True</td>\n",
       "      <td>True</td>\n",
       "      <td>0</td>\n",
       "      <td>False</td>\n",
       "      <td>False</td>\n",
       "      <td>False</td>\n",
       "      <td>True</td>\n",
       "    </tr>\n",
       "    <tr>\n",
       "      <th>2</th>\n",
       "      <td>0</td>\n",
       "      <td>panuveitis</td>\n",
       "      <td>2.44</td>\n",
       "      <td>1.0</td>\n",
       "      <td>1.0</td>\n",
       "      <td>1.0</td>\n",
       "      <td>1.0</td>\n",
       "      <td>1.0</td>\n",
       "      <td>1.0</td>\n",
       "      <td>1.0</td>\n",
       "      <td>...</td>\n",
       "      <td>1.0</td>\n",
       "      <td>False</td>\n",
       "      <td>True</td>\n",
       "      <td>True</td>\n",
       "      <td>True</td>\n",
       "      <td>0</td>\n",
       "      <td>False</td>\n",
       "      <td>False</td>\n",
       "      <td>False</td>\n",
       "      <td>True</td>\n",
       "    </tr>\n",
       "    <tr>\n",
       "      <th>3</th>\n",
       "      <td>0</td>\n",
       "      <td>anterior</td>\n",
       "      <td>2.45</td>\n",
       "      <td>1.0</td>\n",
       "      <td>1.0</td>\n",
       "      <td>1.0</td>\n",
       "      <td>1.0</td>\n",
       "      <td>1.0</td>\n",
       "      <td>1.0</td>\n",
       "      <td>1.0</td>\n",
       "      <td>...</td>\n",
       "      <td>NaN</td>\n",
       "      <td>False</td>\n",
       "      <td>True</td>\n",
       "      <td>True</td>\n",
       "      <td>True</td>\n",
       "      <td>0</td>\n",
       "      <td>False</td>\n",
       "      <td>False</td>\n",
       "      <td>False</td>\n",
       "      <td>True</td>\n",
       "    </tr>\n",
       "    <tr>\n",
       "      <th>4</th>\n",
       "      <td>0</td>\n",
       "      <td>anterior</td>\n",
       "      <td>2.28</td>\n",
       "      <td>1.0</td>\n",
       "      <td>1.0</td>\n",
       "      <td>1.0</td>\n",
       "      <td>1.0</td>\n",
       "      <td>1.0</td>\n",
       "      <td>1.0</td>\n",
       "      <td>1.0</td>\n",
       "      <td>...</td>\n",
       "      <td>1.0</td>\n",
       "      <td>False</td>\n",
       "      <td>True</td>\n",
       "      <td>True</td>\n",
       "      <td>True</td>\n",
       "      <td>0</td>\n",
       "      <td>False</td>\n",
       "      <td>False</td>\n",
       "      <td>False</td>\n",
       "      <td>True</td>\n",
       "    </tr>\n",
       "  </tbody>\n",
       "</table>\n",
       "<p>5 rows × 27 columns</p>\n",
       "</div>"
      ],
      "text/plain": [
       "   gender           loc  calcium lactate_dehydrogenase  \\\n",
       "0       1      anterior     2.27                   1.0   \n",
       "1       0  intermediate     2.32                   1.0   \n",
       "2       0    panuveitis     2.44                   1.0   \n",
       "3       0      anterior     2.45                   1.0   \n",
       "4       0      anterior     2.28                   1.0   \n",
       "\n",
       "  c-reactive_protein,_normal_and_high_sensitivity  wbc  rbc hemoglobin  \\\n",
       "0                                             1.0  1.0  1.0        1.0   \n",
       "1                                             1.0  1.0  1.0        0.0   \n",
       "2                                             1.0  1.0  1.0        1.0   \n",
       "3                                             1.0  1.0  1.0        1.0   \n",
       "4                                             1.0  1.0  1.0        1.0   \n",
       "\n",
       "  hematocrit  mcv  ... lysozyme,_plasma anti-ccp_ab anti-ena_screen  \\\n",
       "0        1.0  1.0  ...              1.0       False            True   \n",
       "1        1.0  1.0  ...              NaN       False            True   \n",
       "2        1.0  1.0  ...              1.0       False            True   \n",
       "3        1.0  1.0  ...              NaN       False            True   \n",
       "4        1.0  1.0  ...              1.0       False            True   \n",
       "\n",
       "  antinuclear_antibody dna_double-stranded_ab  rheumatoid_factor hbc__ab  \\\n",
       "0                 True                   True                  0   False   \n",
       "1                 True                   True                  0   False   \n",
       "2                 True                   True                  0   False   \n",
       "3                 True                   True                  0   False   \n",
       "4                 True                   True                  0   False   \n",
       "\n",
       "  hbs__ag  hcv__ab  uveitis  \n",
       "0   False    False    False  \n",
       "1   False    False     True  \n",
       "2   False    False     True  \n",
       "3   False    False     True  \n",
       "4   False    False     True  \n",
       "\n",
       "[5 rows x 27 columns]"
      ]
     },
     "execution_count": 4,
     "metadata": {},
     "output_type": "execute_result"
    }
   ],
   "source": [
    "df['gender'] = df['gender'].cat.codes\n",
    "df.head()"
   ]
  },
  {
   "cell_type": "markdown",
   "metadata": {},
   "source": [
    "### Split into uveitis and not_uveitis data"
   ]
  },
  {
   "cell_type": "code",
   "execution_count": 5,
   "metadata": {},
   "outputs": [],
   "source": [
    "df_uv_pos = df[df.uveitis == True]\n",
    "df_uv_neg = df[df.uveitis != True]"
   ]
  },
  {
   "cell_type": "markdown",
   "metadata": {},
   "source": [
    "# Multiclass classification\n",
    "In this section we try to predict the location of an inflammation of uveitis positive patients. For this we remove records of non uveitis patients.\n",
    "These models can be used as a comparison for the binary classification (see next chapter)"
   ]
  },
  {
   "cell_type": "code",
   "execution_count": 6,
   "metadata": {},
   "outputs": [
    {
     "data": {
      "image/png": "[encoded data removed]",
      "text/plain": [
       "<Figure size 432x288 with 1 Axes>"
      ]
     },
     "metadata": {
      "needs_background": "light"
     },
     "output_type": "display_data"
    }
   ],
   "source": [
    "df_uv_pos_clean = df_uv_pos.dropna(subset=['loc']) # drop records with missing location data (3)\n",
    "g = sns.countplot(x=df_uv_pos_clean['loc'])\n",
    "plot_wrapper(g, 'Location','Distribution of location classes','Location','Nr. of occurances')"
   ]
  },
  {
   "cell_type": "markdown",
   "metadata": {},
   "source": [
    "**Discussion** The target feature contains 5 classes. The three missing values have been removed. We can see that. with the execption of the location 'scleritis', that the classes are somewhat balanced."
   ]
  },
  {
   "cell_type": "markdown",
   "metadata": {},
   "source": [
    "### Upsampeld Data"
   ]
  },
  {
   "cell_type": "code",
   "execution_count": 7,
   "metadata": {},
   "outputs": [],
   "source": [
    "#################### TODO: ADD UPSAMPLING"
   ]
  },
  {
   "cell_type": "markdown",
   "metadata": {},
   "source": [
    "#### Train-Test Split\n",
    "Trainingset contains 75% of data. The target feature is the loc (Location)-Feature. \n",
    "The target feature contains 3 missing values. We initially drop these records."
   ]
  },
  {
   "cell_type": "code",
   "execution_count": 8,
   "metadata": {},
   "outputs": [],
   "source": [
    "# train_test_split\n",
    "X = df_uv_pos_clean.drop(columns=['loc','uveitis'])\n",
    "y = df_uv_pos_clean['loc']\n",
    "X_train, X_test, y_train, y_test = train_test_split(X, y, test_size=0.25, random_state=RANDOM, stratify = None)"
   ]
  },
  {
   "cell_type": "markdown",
   "metadata": {},
   "source": [
    "#### Imputation and Encoding"
   ]
  },
  {
   "cell_type": "code",
   "execution_count": 9,
   "metadata": {},
   "outputs": [],
   "source": [
    "# filter for numeric and categorical features\n",
    "numerics = ['Int64','float64']\n",
    "category = ['category','bool']\n",
    "\n",
    "# select list of numeric and categorical features\n",
    "numeric_features = X.select_dtypes(include=numerics).columns.tolist()\n",
    "categorical_features = X.select_dtypes(include=category).columns.tolist()\n",
    "\n",
    "# define imputer strategy (consult sklarn SimpleImputer and StandardScaler documentation for options)\n",
    "imputer = {'categorical':{'strategy':'most_frequent','fill_value':'most_frequent'}, 'numerical':{'strategy':'median', 'fill_value':'mean'}}\n",
    "imputer_encoder_no_onehot = pipe.impute_and_encode(categorical_features, numeric_features, imputer, one_hot=False)\n",
    "imputer_encoder_onehot = pipe.impute_and_encode(categorical_features, numeric_features, imputer, one_hot=True)"
   ]
  },
  {
   "cell_type": "markdown",
   "metadata": {},
   "source": [
    "## Baseline Model"
   ]
  },
  {
   "cell_type": "code",
   "execution_count": 10,
   "metadata": {},
   "outputs": [
    {
     "name": "stdout",
     "output_type": "stream",
     "text": [
      "Accuracy Dummy Classifier: 0.27896995708154504\n",
      "Class probabilites: [0.23529412 0.20659971 0.2266858  0.2553802  0.07604017]\n"
     ]
    }
   ],
   "source": [
    "dummy = DummyClassifier(strategy='prior', random_state=RANDOM)\n",
    "pipeline = Pipeline(steps=[('preprocessor', imputer_encoder_no_onehot),\n",
    "                      ('classifier', dummy)])\n",
    "pipeline.fit(X_train, y_train)\n",
    "print(f'Accuracy Dummy Classifier: {pipeline.score(X_test, y_test)}')\n",
    "print(f'Class probabilites: {pipeline.predict_proba(X_test)[0:1][0]}')"
   ]
  },
  {
   "cell_type": "markdown",
   "metadata": {},
   "source": [
    "This model acts as our basline. This model takes in the prior probability of a class occuring in the trainingset, and recommends blindly based on these probabilites. "
   ]
  },
  {
   "cell_type": "markdown",
   "metadata": {},
   "source": [
    "## Decision Tree"
   ]
  },
  {
   "cell_type": "code",
   "execution_count": 11,
   "metadata": {},
   "outputs": [],
   "source": [
    "# import decision tree\n",
    "from sklearn.tree import DecisionTreeClassifier, plot_tree, export_graphviz\n",
    "from dtreeviz.trees import dtreeviz"
   ]
  },
  {
   "cell_type": "code",
   "execution_count": 19,
   "metadata": {},
   "outputs": [
    {
     "name": "stdout",
     "output_type": "stream",
     "text": [
      "Best Parameters:\n",
      "{'tree__splitter': 'random', 'tree__random_state': 43, 'tree__min_samples_split': 6, 'tree__max_depth': 8.857142857142858, 'tree__criterion': 'entropy', 'tree__class_weight': 'balanced'}\n"
     ]
    }
   ],
   "source": [
    "from sklearn.metrics import make_scorer, f1_score, precision_score, accuracy_score\n",
    "\n",
    "# supress warnings of estimator fit failed\n",
    "def warn(*args, **kwargs):\n",
    "    pass\n",
    "import warnings\n",
    "warnings.warn = warn\n",
    "\n",
    "dectree = DecisionTreeClassifier()\n",
    "\n",
    "# without one_hot_encoded data\n",
    "pipeline = Pipeline(steps=[\n",
    "    ('prep', imputer_encoder_no_onehot),\n",
    "    ('tree', dectree)\n",
    "])\n",
    "\n",
    "# hyperparameterspace\n",
    "parameters = {\n",
    "    'tree__criterion':['gini','entropy'],\n",
    "    'tree__splitter' :['best','random'],\n",
    "    'tree__max_depth':np.linspace(2,10,8),\n",
    "    'tree__min_samples_split':[int(i) for i in np.linspace(2,20,10)],\n",
    "    'tree__random_state':[RANDOM],\n",
    "    'tree__class_weight':['balanced']\n",
    "}\n",
    "\n",
    "# create scorer\n",
    "scorer = make_scorer(precision_score, average = 'micro')\n",
    "\n",
    "# random search\n",
    "rv = RandomizedSearchCV(pipeline, parameters, cv = 10, scoring=scorer)\n",
    "rv.fit(X_train, y_train)\n",
    "print('Best Parameters:')\n",
    "print(rv.best_params_)"
   ]
  },
  {
   "cell_type": "code",
   "execution_count": 20,
   "metadata": {},
   "outputs": [
    {
     "data": {
      "text/plain": [
       "0.2918454935622318"
      ]
     },
     "execution_count": 20,
     "metadata": {},
     "output_type": "execute_result"
    }
   ],
   "source": [
    "rv.score(X_test,y_test)"
   ]
  },
  {
   "cell_type": "code",
   "execution_count": 21,
   "metadata": {},
   "outputs": [
    {
     "data": {
      "image/png": "[encoded data removed]",
      "text/plain": [
       "<Figure size 432x288 with 2 Axes>"
      ]
     },
     "metadata": {
      "needs_background": "light"
     },
     "output_type": "display_data"
    }
   ],
   "source": [
    "ConfusionMatrixDisplay(confusion_matrix(y_test, rv.best_estimator_.predict(X_test)), display_labels=df_uv_pos_clean['loc'].unique()).plot()\n",
    "plt.xticks(rotation=45)\n",
    "plt.show()"
   ]
  },
  {
   "cell_type": "markdown",
   "metadata": {},
   "source": [
    "## Random Forest"
   ]
  },
  {
   "cell_type": "code",
   "execution_count": 15,
   "metadata": {},
   "outputs": [],
   "source": [
    "from sklearn.ensemble import RandomForestClassifier"
   ]
  },
  {
   "cell_type": "code",
   "execution_count": null,
   "metadata": {},
   "outputs": [],
   "source": []
  },
  {
   "cell_type": "markdown",
   "metadata": {},
   "source": [
    "## KNN"
   ]
  },
  {
   "cell_type": "code",
   "execution_count": 16,
   "metadata": {},
   "outputs": [],
   "source": [
    "################### TODO: TEST MORE CLASSIFIERS"
   ]
  },
  {
   "cell_type": "markdown",
   "metadata": {},
   "source": [
    "# Binary classification"
   ]
  }
 ],
 "metadata": {
  "kernelspec": {
   "display_name": "Python 3",
   "language": "python",
   "name": "python3"
  },
  "language_info": {
   "codemirror_mode": {
    "name": "ipython",
    "version": 3
   },
   "file_extension": ".py",
   "mimetype": "text/x-python",
   "name": "python",
   "nbconvert_exporter": "python",
   "pygments_lexer": "ipython3",
   "version": "3.8.5"
  }
 },
 "nbformat": 4,
 "nbformat_minor": 4
}
