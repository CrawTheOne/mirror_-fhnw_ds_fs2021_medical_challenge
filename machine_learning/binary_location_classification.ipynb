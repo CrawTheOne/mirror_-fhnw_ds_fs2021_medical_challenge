{
 "cells": [
  {
   "cell_type": "markdown",
   "metadata": {},
   "source": [
    "# Binary Location Classification \n",
    "The goal of this notebook is to find important lab tests per location of (positive) uveitis patients. \n",
    "The hypothesis is that an anterior inflammation can be identified by a different subset of lab tests as for example posterior inflammations. \n",
    "This would allow to order a subset of all possible lab tests after the location of the inflammation has been located to identify uveitis. One approach would be to train a model per location.\n",
    "\n",
    "Steps:\n",
    "\n",
    "1. Get Subset of Data (Target Featue: Location, Input Features: Lab Results) \n",
    "2. Define suitable Algorithms for Binary Classification (e.g. Logistic Regression, etc.)\n",
    "3. Call preprocessing pipe with appropriat parameters for the current algorithm\n",
    "4. Fit Model\n",
    "5. Extract and Discuss important Features"
   ]
  },
  {
   "cell_type": "code",
   "execution_count": null,
   "metadata": {},
   "outputs": [],
   "source": [
    "# global Variables\n",
    "RANDOM = 43"
   ]
  },
  {
   "cell_type": "code",
   "execution_count": null,
   "metadata": {},
   "outputs": [],
   "source": [
    "import pandas as pd\n",
    "import os\n",
    "import seaborn as sns\n",
    "import matplotlib.pyplot as plt\n",
    "\n",
    "# sklearn standard imports\n",
    "from sklearn.model_selection import train_test_split\n",
    "from sklearn.preprocessing import StandardScaler, Binarizer, LabelEncoder, Normalizer, OneHotEncoder\n",
    "from sklearn.impute import SimpleImputer\n",
    "from sklearn.compose import ColumnTransformer\n",
    "from sklearn.pipeline import Pipeline\n",
    "\n",
    "# import decision tree\n",
    "from sklearn.tree import DecisionTreeClassifier, plot_tree, export_graphviz\n",
    "from sklearn.model_selection import GridSearchCV\n",
    "from sklearn.metrics import classification_report\n",
    "from sklearn.metrics import ConfusionMatrixDisplay\n",
    "from sklearn.metrics import confusion_matrix\n",
    "\n",
    "# import of pipe module\n",
    "os.chdir('../preprocessing/')\n",
    "import pipe"
   ]
  },
  {
   "cell_type": "markdown",
   "metadata": {},
   "source": [
    "## Data Preparation\n",
    "To predict the location of an inflammation, we need to drop all columns that contain information about the location. Meta-Information about the patient will also be dropped."
   ]
  },
  {
   "cell_type": "code",
   "execution_count": null,
   "metadata": {},
   "outputs": [],
   "source": [
    "# calling preprocessing function\n",
    "\n",
    "# num_to_cat = True: Range Date is now dtype Category \n",
    "# drop_filter: Drop every column that is not a lab test\n",
    "\n",
    "df = pipe.preprocessing_pipe(num_to_cat   = True,\n",
    "                             drop_filter  = ['hla', 'ac_', 'vit_', 'gender', 'race', 'cat','specific_diagnosis'],\n",
    "                             loc_approach = 'multi',\n",
    "                             binary_cat   = True) \n",
    "df.head()"
   ]
  },
  {
   "cell_type": "markdown",
   "metadata": {},
   "source": [
    "### Split Data into uveitis and not_uveitis data"
   ]
  },
  {
   "cell_type": "code",
   "execution_count": null,
   "metadata": {},
   "outputs": [],
   "source": [
    "df_uv_pos = df[df.uveitis == True]\n",
    "df_uv_neg = df[df.uveitis != True]"
   ]
  },
  {
   "cell_type": "markdown",
   "metadata": {},
   "source": [
    "## Decision Tree and Random Forest\n",
    "! Note that decision trees can handle missing information \n",
    "\n",
    "One of the simplest and easiest to understand model is a Decision Tree. These Model try to classify a dataset based on a series of Yes or No Questions that are assembled as a Tree. (See visualization of tree later on). At first we try to train a decision Tree to identify if the patient is uveitis positive or negative based purely on lab test results. (Later on mor sophisticated methods will be applied)"
   ]
  },
  {
   "cell_type": "markdown",
   "metadata": {},
   "source": [
    "### Decision Tree: Uveitis or Not Uveitis, binary Classification\n",
    "\n",
    "**Problem** in Binary Classification of Uveitis: The dataset is extremly unbalanced. A decision tree tends to always predict the same class for an extremly unbalanced dataset, as it reaches the best accuracy with this approach."
   ]
  },
  {
   "cell_type": "code",
   "execution_count": null,
   "metadata": {},
   "outputs": [],
   "source": [
    "# train_test_split\n",
    "df_t = df.copy().dropna()\n",
    "X = df_t.drop(columns=['loc','uveitis'])\n",
    "y = df_t.uveitis\n",
    "X_train, X_test, y_train, y_test = train_test_split(X, y, test_size=0.25, random_state=RANDOM, stratify = None)"
   ]
  },
  {
   "cell_type": "code",
   "execution_count": null,
   "metadata": {},
   "outputs": [],
   "source": [
    "# filter for numeric and categorical features\n",
    "numerics = ['Int64','float64']\n",
    "category = ['category','bool']\n",
    "\n",
    "# select list of numeric and categorical features\n",
    "numeric_features = X.select_dtypes(include=numerics).columns.tolist()\n",
    "categorical_features = X.select_dtypes(include=category).columns.tolist()\n",
    "\n",
    "# define imputer strategy (consult sklarn SimpleImputer and StandardScaler documentation for options)\n",
    "imputer = {'categorical':{'strategy':'most_frequent','fill_value':'most_frequent'}, 'numerical':{'strategy':'median', 'fill_value':'mean'}}\n",
    "imputer_encoder = pipe.impute_and_encode(categorical_features, numeric_features, imputer)"
   ]
  },
  {
   "cell_type": "code",
   "execution_count": null,
   "metadata": {},
   "outputs": [],
   "source": [
    "dectree = DecisionTreeClassifier()\n",
    "\n",
    "pipeline = Pipeline(steps=[('preprocessor', imputer_encoder),\n",
    "                      ('classifier', dectree)])\n",
    "\n",
    "# Specify the hyperparameter space\n",
    "# n_components = list(range(1,X.shape[1]+1,1)) # for pca if needed\n",
    "criterion = ['gini', 'entropy']\n",
    "max_depth = [2,4,6,8,10,12]\n",
    "class_weight = [{True:0.2, False:1}]\n",
    "\n",
    "parameters = {'criterion':criterion,\n",
    "             'max_depth':max_depth,\n",
    "             'class_weight':class_weight}\n",
    "\n",
    "# Instantiate the GridSearchCV object: cv\n",
    "cv = GridSearchCV(dectree, parameters, cv = 10)\n",
    "\n",
    "# Fit to the training set\n",
    "cv.fit(X_train, y_train)\n",
    "\n",
    "# Predict the labels of the test set: y_pred\n",
    "y_pred = cv.predict(X_test)\n",
    "\n",
    "# Compute and print metrics\n",
    "print(\"Accuracy: {}\".format(cv.score(X_test, y_test)))\n",
    "print(classification_report(y_test, y_pred))\n",
    "\n",
    "ConfusionMatrixDisplay(confusion_matrix(y_test, y_pred)).plot();\n",
    "print(cv.best_params_);\n",
    "\n",
    "plt.figure(figsize=(20,20))\n",
    "class_names = ['Uveitis', 'Not Uveitis']\n",
    "feature_names = X_test.columns.tolist()\n",
    "plot_tree(cv.best_estimator_, fontsize=15, class_names=class_names, feature_names=feature_names, filled=True)\n",
    "plt.show()"
   ]
  }
 ],
 "metadata": {
  "kernelspec": {
   "display_name": "Python 3",
   "language": "python",
   "name": "python3"
  },
  "language_info": {
   "codemirror_mode": {
    "name": "ipython",
    "version": 3
   },
   "file_extension": ".py",
   "mimetype": "text/x-python",
   "name": "python",
   "nbconvert_exporter": "python",
   "pygments_lexer": "ipython3",
   "version": "3.7.10"
  }
 },
 "nbformat": 4,
 "nbformat_minor": 4
}
