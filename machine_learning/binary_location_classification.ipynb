{
 "cells": [
  {
   "cell_type": "markdown",
   "metadata": {},
   "source": [
    "# Binary Location Classification \n",
    "The goal of this notebook is to find important lab tests per location of (positive) uveitis patients. \n",
    "The hypothesis is that an anterior inflammation can be identified by a different subset of lab tests as for example posterior inflammations. \n",
    "This would allow to order a subset of all possible lab tests after the location of the inflammation has been located to identify uveitis. One approach would be to train a model per location.\n",
    "\n",
    "Steps:\n",
    "\n",
    "1. Get Subset of Data (Target Featue: Location, Input Features: Lab Results) \n",
    "2. Define suitable Algorithms for Binary Classification (e.g. Logistic Regression, etc.)\n",
    "3. Call preprocessing pipe with appropriat parameters for the current algorithm\n",
    "4. Fit Model\n",
    "5. Extract and Discuss important Features"
   ]
  }
 ],
 "metadata": {
  "kernelspec": {
   "display_name": "Python 3",
   "language": "python",
   "name": "python3"
  },
  "language_info": {
   "codemirror_mode": {
    "name": "ipython",
    "version": 3
   },
   "file_extension": ".py",
   "mimetype": "text/x-python",
   "name": "python",
   "nbconvert_exporter": "python",
   "pygments_lexer": "ipython3",
   "version": "3.8.5"
  }
 },
 "nbformat": 4,
 "nbformat_minor": 4
}
