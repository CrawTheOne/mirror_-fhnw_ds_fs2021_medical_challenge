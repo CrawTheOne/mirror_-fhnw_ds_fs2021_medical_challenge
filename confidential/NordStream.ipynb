{
 "cells": [
  {
   "cell_type": "markdown",
   "metadata": {},
   "source": [
    "# Pipeline for uveitits-data\n",
    "#### written by Riccard Nef and Alekandre Rau\n",
    "### Tables of Contents"
   ]
  },
  {
   "cell_type": "markdown",
   "metadata": {},
   "source": [
    "## 1. Read the Excelsheet\n",
    "We use the package pandas, who is a wide spread Python package for Data Analysis."
   ]
  },
  {
   "cell_type": "code",
   "execution_count": 1,
   "metadata": {
    "pycharm": {
     "name": "#%%\n"
    }
   },
   "outputs": [
    {
     "name": "stdout",
     "output_type": "stream",
     "text": [
      "sucessfully load table with  126850 values\n",
      "the table is 118 wide and 1075 long\n"
     ]
    }
   ],
   "source": [
    "import numpy as np\n",
    "import os\n",
    "import pandas as pd\n",
    "pathR = 'data/uveitis_fulldata_v2.xlsx'\n",
    "df = pd.read_excel(pathR)\n",
    "print(\"sucessfully load table with \", df.size, \"values\")\n",
    "print(\"the table is\",df.shape[1], \"wide and\",df.shape[0],\"long\")"
   ]
  },
  {
   "cell_type": "markdown",
   "metadata": {},
   "source": [
    "## 1.1 Take a Look at the Columns\n",
    "Now that we have the excelsheet in a table, which is readable for the Python Interpreter,\n",
    "we can look at the name of the columns, because it is very important to know the exact name.\n",
    "So the first step is to simply print the name of the columns."
   ]
  },
  {
   "cell_type": "code",
   "execution_count": 2,
   "metadata": {
    "pycharm": {
     "name": "#%%\n"
    },
    "scrolled": true
   },
   "outputs": [
    {
     "name": "stdout",
     "output_type": "stream",
     "text": [
      "['SUBJECT ID', 'Gender', 'Race', 'Location', 'Categorical ', 'Other (RV, Choroidal granuloma, pars planitis)', 'EHR DIAGNOSIS', 'Specific Diagnosis', 'notes', 'AC Abn Od Cells ', 'AC Abn Os Cells', 'Vit Abn Od Cells \\n(C = \"cannot\", ie ungradeable)', 'Vit Abn Os Cells \\n(C = \"cannot\", ie ungradeable)', 'Vit Abn Od Haze \\n(C = \"cannot\", ie ungradeable)', 'Vit Abn Os Haze \\n(C = \"cannot\", ie ungradeable)', 'Calcium (Blood)', 'UOM', 'Range', 'Lactate Dehydrogenase (LDH) (Blood)', 'UOM1', 'Range1', 'C-Reactive Protein, Normal and High Sensitivity (Blood)', 'UOM2', 'Range2', 'WBC (Blood)', 'UOM3', 'Range3', 'RBC (Blood)', 'UOM4', 'Range4', 'Hemoglobin (Blood)', 'UOM5', 'Range5', 'Hematocrit (Blood)', 'UOM6', 'Range6', 'MCV (Blood)', 'UOM7', 'Range7', 'MCH (Blood)', 'UOM8', 'Range8', 'MCHC (Blood)', 'UOM9', 'Range9', 'RDW (Blood)', 'UOM10', 'Range10', 'Platelet Count (Blood)', 'UOM11', 'Range11', 'Neutrophil % (Blood)', 'UOM12', 'Range12', 'Lymphocytes % (Blood)', 'UOM13', 'Range13', 'Angiotensin Conv#Enzyme (Blood)', 'UOM14', 'Range14', 'Beta-2-Microglobulin (Blood)', 'UOM15', 'Range15', 'Lupus Anticoagulant (Blood)', 'Lysozyme, Plasma (Blood)', 'UOM18', 'Range18', 'Anti-CCP Ab (Blood)', 'UOM21', 'Range21', 'Anti-Dnase B (Blood)', 'UOM22', 'Range22', 'Anti-ENA Screen (Blood)', 'UOM23', 'Range23', 'Antinuclear Antibody (ANA) (Blood)', 'UOM24', 'Range24', 'Complement C3 (Blood)', 'UOM25', 'Range25', 'Complement C4 (Blood)', 'UOM26', 'Range26', 'DNA Double-Stranded Ab (Blood)', 'UOM27', 'Range27', 'HLA-A* (Blood)', 'HLA_A_1', 'HLA_A_2', 'HLA-B* (Blood)', 'HLA_B_1', 'HLA_B_2', 'HLA-Cw* (Blood)', 'HLA_C_1', 'HLA_C_2', 'HLA-DRB1* (Blood)', 'HLA_DRB1_1', 'HLA_DRB1_2', 'HLA-DQB1* / DQ* (Blood)', 'HLA_DQ_1', 'HLA_DQ_2', 'HLA-DRB_* (Blood)', 'HLA_DRB*_1', 'HLA_DRB*_2', 'Myeloperoxidase Ab (Blood)', 'UOM34', 'Range34', 'Proteinase-3 Antibodies (Blood)', 'UOM35', 'Range35', 'Rheumatoid Factor (Blood)', 'UOM36', 'Range36', 'HBc (HepB core) Ab (Blood)', 'HBs (HepB surface) Ag (Blood)', 'HCV (HepC) Ab (Blood)']\n"
     ]
    }
   ],
   "source": [
    "print(df.columns.tolist())"
   ]
  },
  {
   "cell_type": "markdown",
   "metadata": {},
   "source": [
    "### 1.2 Getting rid of the Spaces\n",
    "There are whitespaces between the words in the columns. This is basically not a problem.\n",
    "But when the whitepace is at the end of the columnname, we can't see it. So we replace all whitespaces with a \"_\" to show it."
   ]
  },
  {
   "cell_type": "code",
   "execution_count": 3,
   "metadata": {
    "pycharm": {
     "name": "#%%\n"
    }
   },
   "outputs": [
    {
     "name": "stdout",
     "output_type": "stream",
     "text": [
      "Categorical_\n",
      "AC_Abn_Od_Cells_\n"
     ]
    }
   ],
   "source": [
    "dfunder = pd.read_excel(pathR)\n",
    "dfunder.columns = [c.replace(' ', '_') for c in df.columns]\n",
    "for col in dfunder.columns:\n",
    "    if col.endswith('_'):\n",
    "        print(col)\n",
    "    if col.startswith('_'):\n",
    "        print(col)"
   ]
  },
  {
   "cell_type": "markdown",
   "metadata": {},
   "source": [
    "So we see that there are two column names who are ending with a whitespace. So we strip the\n",
    "columns first and fill the spaces between with _ . For better handling we also convert all\n",
    "columnnames into lowercase."
   ]
  },
  {
   "cell_type": "code",
   "execution_count": 4,
   "metadata": {
    "pycharm": {
     "name": "#%%\n"
    }
   },
   "outputs": [],
   "source": [
    "df.columns = df.columns.str.strip()\n",
    "df.columns = df.columns.str.lower()\n",
    "df.columns = [c.replace(' ', '_') for c in df.columns]"
   ]
  },
  {
   "cell_type": "markdown",
   "metadata": {},
   "source": [
    "## 2. Measure Units\n",
    "There are values in the table, with an additional column for the unit of measurment. But because we want\n",
    "to execute operations with the values, it is important, that the units & values are on the same scala. So we have to calculate\n",
    "the values to the same UOM(for example dl to liter).<br/>\n",
    "But to look how big the problem with the calculation is, we look at all columns with units\n",
    "and print the different units in them."
   ]
  },
  {
   "cell_type": "code",
   "execution_count": 5,
   "metadata": {
    "pycharm": {
     "name": "#%%\n"
    }
   },
   "outputs": [
    {
     "name": "stdout",
     "output_type": "stream",
     "text": [
      "uom                     [mmol/L, nan]\n",
      "uom1                       [U/L, nan]\n",
      "uom2               [mg/L, mg/dL, nan]\n",
      "uom3                      [K/uL, nan]\n",
      "uom4                      [M/uL, nan]\n",
      "uom5                      [g/dL, nan]\n",
      "uom6                         [%, nan]\n",
      "uom7                        [fL, nan]\n",
      "uom8                        [pg, nan]\n",
      "uom9                      [g/dL, nan]\n",
      "uom10                        [%, nan]\n",
      "uom11                     [K/uL, nan]\n",
      "uom12                        [%, nan]\n",
      "uom13                        [%, nan]\n",
      "uom14                      [nan, U/L]\n",
      "uom15                     [mg/L, nan]\n",
      "uom18            [mcg/mL, nan, ug/mL]\n",
      "uom21                  [Unit, nan, U]\n",
      "uom22                     [nan, U/mL]\n",
      "uom23                       [EU, nan]\n",
      "uom24                    [EU, nan, U]\n",
      "uom25                    [mg/dL, nan]\n",
      "uom26                    [mg/dL, nan]\n",
      "uom27                     [IU/mL, IU]\n",
      "uom34                 [nan, U, units]\n",
      "uom35    [nan, U, units, U/mL, EU/mL]\n",
      "uom36                    [IU/mL, nan]\n",
      "dtype: object\n"
     ]
    }
   ],
   "source": [
    "#adapt all UOM to use the same one per column\n",
    "#making a list of call words in df.columns who contains uom\n",
    "uom_strings = [col for col in df.columns if 'uom' in col]\n",
    "#making a list with unique items, the unique list from pandas also shows the different unities\n",
    "ds_uom_uniques  = pd.Series({c: df[c].astype(str).unique() for c in uom_strings})\n",
    "print(ds_uom_uniques)"
   ]
  },
  {
   "cell_type": "markdown",
   "metadata": {},
   "source": [
    "### 2.1 How big is the Problem ?\n",
    "We see that there are not many unit columns with multiple units. There are a few with nan as value\n",
    "but it is just two columns (uom2, uom27) which need a transformation into another unit. So we start at the uom2 column,\n",
    "who is related to column :\n",
    "- uom2 ==> 'c-reactive_protein,_normal_and_high_sensitivity_(blood)'\n",
    "- uom27 ==> 'dna_double-stranded_ab_(blood)']"
   ]
  },
  {
   "cell_type": "markdown",
   "metadata": {
    "pycharm": {
     "name": "#%% md\n"
    }
   },
   "source": [
    "### 2.2 Transformation of uom1 and uom27"
   ]
  },
  {
   "cell_type": "code",
   "execution_count": 6,
   "metadata": {
    "pycharm": {
     "name": "#%%\n"
    }
   },
   "outputs": [
    {
     "name": "stdout",
     "output_type": "stream",
     "text": [
      "units left in uom2:  ['mg/L']\n",
      "Some values are not float\n",
      "units left in uom27:  ['IU/mL']\n"
     ]
    }
   ],
   "source": [
    "#uom2\n",
    "##replacing mg/dL with mg/L and changing value accordingly\n",
    "condition = df['uom2'[:]] == df['uom2'].value_counts().idxmax()\n",
    "df['c-reactive_protein,_normal_and_high_sensitivity_(blood)'] = pd.to_numeric(df['c-reactive_protein,_normal_and_high_sensitivity_(blood)'],errors='coerce')\n",
    "df['c-reactive_protein,_normal_and_high_sensitivity_(blood)'].where(cond = condition, other = df['c-reactive_protein,_normal_and_high_sensitivity_(blood)']*10.0, inplace = True)\n",
    "df['uom2'].where(cond = condition, other = df['uom2'].value_counts().idxmax(), inplace = True)\n",
    "print(\"units left in uom2: \",df['uom2'].unique())\n",
    "\n",
    "#uom27\n",
    "condition = df['uom27'[:]] == df['uom27'].value_counts().idxmax()\n",
    "df['dna_double-stranded_ab_(blood)'] = pd.to_numeric(df['dna_double-stranded_ab_(blood)'],errors='ignore')\n",
    "try:\n",
    "    other = df['dna_double-stranded_ab_(blood)']*1000.0\n",
    "except TypeError:\n",
    "    other = df['dna_double-stranded_ab_(blood)']\n",
    "    print('Some values are not float')\n",
    "df['dna_double-stranded_ab_(blood)'].where(cond = condition, other = other, inplace = True)\n",
    "df['uom27'].where(cond = condition, other = df['uom27'].value_counts().idxmax(), inplace = True)\n",
    "\n",
    "print(\"units left in uom27: \",df['uom27'].unique())"
   ]
  },
  {
   "cell_type": "markdown",
   "metadata": {},
   "source": [
    "## 2.3  Ranges\n",
    "A big problem with this dataset is the different bloodtests. The\n",
    "patients were tested in different laboratories. And the laboratories\n",
    "have different tests. The ranges are in columns and separated with a -.\n",
    "So we decided to make as our first step to split the values of the range into seperate columns."
   ]
  },
  {
   "cell_type": "code",
   "execution_count": 7,
   "metadata": {
    "pycharm": {
     "name": "#%%\n"
    }
   },
   "outputs": [],
   "source": [
    "#make a list of all rangenames of the columns\n",
    "range_strings = [col for col in df.columns if 'range' in col]\n",
    "#convert all range columns into strings\n",
    "for i in range_strings:\n",
    "    df[i] = df[i].astype(str).str.replace('<','0.00-')\n",
    "    df[i] = df[i].astype(str).str.replace('=','')\n",
    "    df[i] = df[i].astype(str).str.rstrip('(Negative)')\n",
    "    temp = df[i].astype(str).str.split(\"-\", n = 1, expand = True)\n",
    "    temp.columns = temp.columns.astype(str)\n",
    "    if i =='range':\n",
    "        i =i.replace('range', '0')\n",
    "    else:\n",
    "        i = i.replace('range', '')\n",
    "    if {'0', '1'}.issubset(temp.columns): #check for edge cases\n",
    "        #look into pdb\n",
    "        df[\"_m\"+str(i)]= temp['0'].astype(float)\n",
    "        df[\"_M\"+str(i)]= temp['1'].astype(float)\n",
    "    else:\n",
    "        df[\"_m\"+str(i)]= temp['0'].astype(float)"
   ]
  },
  {
   "cell_type": "markdown",
   "metadata": {},
   "source": [
    "### 3. Dropping All Unused Columns\n",
    "We decided that we will not include 3 columns:\n",
    "- \"subject_id\" because we will handle information of the exceltable with dataframes who already have a index column\n",
    "- \"race\" the declaration of the race is made by the patient themself and is very superficial.\n",
    "- \"ehr-diagnosis\" is a sometimes automaticly generated diagnosis who is very unaccurate\n",
    "Additional we decided to not include the dna data"
   ]
  },
  {
   "cell_type": "code",
   "execution_count": 8,
   "metadata": {
    "pycharm": {
     "name": "#%%\n"
    }
   },
   "outputs": [
    {
     "data": {
      "text/plain": "      gender      location               categorical  \\\n0       Male      Anterior  Nonneoplastic Masquerade   \n1     Female  Intermediate                Idiopathic   \n2     Female           Pan                  Systemic   \n3     Female      Anterior                Idiopathic   \n4     Female      Anterior                Idiopathic   \n...      ...           ...                       ...   \n1070    Male           Pan                Infectious   \n1071    Male  Intermediate                Idiopathic   \n1072  Female     Posterior                Infectious   \n1073  Female     Posterior                       WDS   \n1074    Male     Posterior  Nonneoplastic masquerade   \n\n     other_(rv,_choroidal_granuloma,_pars_planitis)        specific_diagnosis  \\\n0                                               NaN       Idiopathic_anterior   \n1                                               NaN             pars planitis   \n2                                               NaN                       VKH   \n3                                               NaN       Idiopathic_anterior   \n4                                               NaN       Idiopathic_anterior   \n...                                             ...                       ...   \n1070                                  granulomatous            Tuberculosis     \n1071                                            NaN             pars planitis   \n1072                                            NaN             Toxoplasmosis   \n1073                                            NaN                       WDS   \n1074                                            NaN  Nonneoplastic masquerade   \n\n              notes ac_abn_od_cells ac_abn_os_cells  \\\n0               NaN            0               0      \n1     pars planitis            2               2      \n2               NaN            0.5             0.5    \n3               NaN            0               0      \n4               NaN            0               0      \n...             ...             ...             ...   \n1070            NaN               0            0      \n1071  pars planitis            0               1      \n1072            NaN            0               0      \n1073            WDS            0               0      \n1074            NaN               0               0   \n\n     vit_abn_od_cells_\\n(c_=_\"cannot\",_ie_ungradeable)  \\\n0                                                 0      \n1                                                 2      \n2                                                 1      \n3                                                 0      \n4                                                 0      \n...                                                ...   \n1070                                                 0   \n1071                                                 0   \n1072                                              0      \n1073                                                 0   \n1074                                              0      \n\n     vit_abn_os_cells_\\n(c_=_\"cannot\",_ie_ungradeable)  ...  _m26  _M26 _m27  \\\n0                                                  0.5  ...  10.0  40.0  0.0   \n1                                                 2     ...  10.0  40.0  0.0   \n2                                                 1     ...  10.0  40.0  0.0   \n3                                                 0     ...  10.0  40.0  0.0   \n4                                                 0     ...  10.0  40.0  0.0   \n...                                                ...  ...   ...   ...  ...   \n1070                                              0     ...  10.0  40.0  0.0   \n1071                                              2     ...  10.0  40.0  0.0   \n1072                                              1     ...  10.0  40.0  0.0   \n1073                                                 0  ...  10.0  40.0  0.0   \n1074                                              0     ...  10.0  40.0  0.0   \n\n      _M27 _m34  _M34 _m35  _M35  _m36  _M36  \n0     30.0  NaN   NaN  NaN   NaN   0.0  15.0  \n1     30.0  0.0   0.4  0.0   0.4   0.0  13.0  \n2     30.0  NaN   NaN  NaN   NaN   0.0  13.0  \n3     30.0  NaN   NaN  NaN   NaN   0.0  15.0  \n4     30.0  NaN   NaN  NaN   NaN   0.0  13.0  \n...    ...  ...   ...  ...   ...   ...   ...  \n1070  30.0  0.0   0.4  0.0   0.4   0.0  15.0  \n1071  30.0  NaN   NaN  NaN   NaN   0.0  15.0  \n1072  30.0  NaN   NaN  NaN   NaN   0.0  15.0  \n1073  30.0  NaN   NaN  NaN   NaN   0.0  15.0  \n1074  30.0  0.0  10.0  0.0  10.0   0.0  15.0  \n\n[1075 rows x 151 columns]",
      "text/html": "<div>\n<style scoped>\n    .dataframe tbody tr th:only-of-type {\n        vertical-align: middle;\n    }\n\n    .dataframe tbody tr th {\n        vertical-align: top;\n    }\n\n    .dataframe thead th {\n        text-align: right;\n    }\n</style>\n<table border=\"1\" class=\"dataframe\">\n  <thead>\n    <tr style=\"text-align: right;\">\n      <th></th>\n      <th>gender</th>\n      <th>location</th>\n      <th>categorical</th>\n      <th>other_(rv,_choroidal_granuloma,_pars_planitis)</th>\n      <th>specific_diagnosis</th>\n      <th>notes</th>\n      <th>ac_abn_od_cells</th>\n      <th>ac_abn_os_cells</th>\n      <th>vit_abn_od_cells_\\n(c_=_\"cannot\",_ie_ungradeable)</th>\n      <th>vit_abn_os_cells_\\n(c_=_\"cannot\",_ie_ungradeable)</th>\n      <th>...</th>\n      <th>_m26</th>\n      <th>_M26</th>\n      <th>_m27</th>\n      <th>_M27</th>\n      <th>_m34</th>\n      <th>_M34</th>\n      <th>_m35</th>\n      <th>_M35</th>\n      <th>_m36</th>\n      <th>_M36</th>\n    </tr>\n  </thead>\n  <tbody>\n    <tr>\n      <th>0</th>\n      <td>Male</td>\n      <td>Anterior</td>\n      <td>Nonneoplastic Masquerade</td>\n      <td>NaN</td>\n      <td>Idiopathic_anterior</td>\n      <td>NaN</td>\n      <td>0</td>\n      <td>0</td>\n      <td>0</td>\n      <td>0.5</td>\n      <td>...</td>\n      <td>10.0</td>\n      <td>40.0</td>\n      <td>0.0</td>\n      <td>30.0</td>\n      <td>NaN</td>\n      <td>NaN</td>\n      <td>NaN</td>\n      <td>NaN</td>\n      <td>0.0</td>\n      <td>15.0</td>\n    </tr>\n    <tr>\n      <th>1</th>\n      <td>Female</td>\n      <td>Intermediate</td>\n      <td>Idiopathic</td>\n      <td>NaN</td>\n      <td>pars planitis</td>\n      <td>pars planitis</td>\n      <td>2</td>\n      <td>2</td>\n      <td>2</td>\n      <td>2</td>\n      <td>...</td>\n      <td>10.0</td>\n      <td>40.0</td>\n      <td>0.0</td>\n      <td>30.0</td>\n      <td>0.0</td>\n      <td>0.4</td>\n      <td>0.0</td>\n      <td>0.4</td>\n      <td>0.0</td>\n      <td>13.0</td>\n    </tr>\n    <tr>\n      <th>2</th>\n      <td>Female</td>\n      <td>Pan</td>\n      <td>Systemic</td>\n      <td>NaN</td>\n      <td>VKH</td>\n      <td>NaN</td>\n      <td>0.5</td>\n      <td>0.5</td>\n      <td>1</td>\n      <td>1</td>\n      <td>...</td>\n      <td>10.0</td>\n      <td>40.0</td>\n      <td>0.0</td>\n      <td>30.0</td>\n      <td>NaN</td>\n      <td>NaN</td>\n      <td>NaN</td>\n      <td>NaN</td>\n      <td>0.0</td>\n      <td>13.0</td>\n    </tr>\n    <tr>\n      <th>3</th>\n      <td>Female</td>\n      <td>Anterior</td>\n      <td>Idiopathic</td>\n      <td>NaN</td>\n      <td>Idiopathic_anterior</td>\n      <td>NaN</td>\n      <td>0</td>\n      <td>0</td>\n      <td>0</td>\n      <td>0</td>\n      <td>...</td>\n      <td>10.0</td>\n      <td>40.0</td>\n      <td>0.0</td>\n      <td>30.0</td>\n      <td>NaN</td>\n      <td>NaN</td>\n      <td>NaN</td>\n      <td>NaN</td>\n      <td>0.0</td>\n      <td>15.0</td>\n    </tr>\n    <tr>\n      <th>4</th>\n      <td>Female</td>\n      <td>Anterior</td>\n      <td>Idiopathic</td>\n      <td>NaN</td>\n      <td>Idiopathic_anterior</td>\n      <td>NaN</td>\n      <td>0</td>\n      <td>0</td>\n      <td>0</td>\n      <td>0</td>\n      <td>...</td>\n      <td>10.0</td>\n      <td>40.0</td>\n      <td>0.0</td>\n      <td>30.0</td>\n      <td>NaN</td>\n      <td>NaN</td>\n      <td>NaN</td>\n      <td>NaN</td>\n      <td>0.0</td>\n      <td>13.0</td>\n    </tr>\n    <tr>\n      <th>...</th>\n      <td>...</td>\n      <td>...</td>\n      <td>...</td>\n      <td>...</td>\n      <td>...</td>\n      <td>...</td>\n      <td>...</td>\n      <td>...</td>\n      <td>...</td>\n      <td>...</td>\n      <td>...</td>\n      <td>...</td>\n      <td>...</td>\n      <td>...</td>\n      <td>...</td>\n      <td>...</td>\n      <td>...</td>\n      <td>...</td>\n      <td>...</td>\n      <td>...</td>\n      <td>...</td>\n    </tr>\n    <tr>\n      <th>1070</th>\n      <td>Male</td>\n      <td>Pan</td>\n      <td>Infectious</td>\n      <td>granulomatous</td>\n      <td>Tuberculosis</td>\n      <td>NaN</td>\n      <td>0</td>\n      <td>0</td>\n      <td>0</td>\n      <td>0</td>\n      <td>...</td>\n      <td>10.0</td>\n      <td>40.0</td>\n      <td>0.0</td>\n      <td>30.0</td>\n      <td>0.0</td>\n      <td>0.4</td>\n      <td>0.0</td>\n      <td>0.4</td>\n      <td>0.0</td>\n      <td>15.0</td>\n    </tr>\n    <tr>\n      <th>1071</th>\n      <td>Male</td>\n      <td>Intermediate</td>\n      <td>Idiopathic</td>\n      <td>NaN</td>\n      <td>pars planitis</td>\n      <td>pars planitis</td>\n      <td>0</td>\n      <td>1</td>\n      <td>0</td>\n      <td>2</td>\n      <td>...</td>\n      <td>10.0</td>\n      <td>40.0</td>\n      <td>0.0</td>\n      <td>30.0</td>\n      <td>NaN</td>\n      <td>NaN</td>\n      <td>NaN</td>\n      <td>NaN</td>\n      <td>0.0</td>\n      <td>15.0</td>\n    </tr>\n    <tr>\n      <th>1072</th>\n      <td>Female</td>\n      <td>Posterior</td>\n      <td>Infectious</td>\n      <td>NaN</td>\n      <td>Toxoplasmosis</td>\n      <td>NaN</td>\n      <td>0</td>\n      <td>0</td>\n      <td>0</td>\n      <td>1</td>\n      <td>...</td>\n      <td>10.0</td>\n      <td>40.0</td>\n      <td>0.0</td>\n      <td>30.0</td>\n      <td>NaN</td>\n      <td>NaN</td>\n      <td>NaN</td>\n      <td>NaN</td>\n      <td>0.0</td>\n      <td>15.0</td>\n    </tr>\n    <tr>\n      <th>1073</th>\n      <td>Female</td>\n      <td>Posterior</td>\n      <td>WDS</td>\n      <td>NaN</td>\n      <td>WDS</td>\n      <td>WDS</td>\n      <td>0</td>\n      <td>0</td>\n      <td>0</td>\n      <td>0</td>\n      <td>...</td>\n      <td>10.0</td>\n      <td>40.0</td>\n      <td>0.0</td>\n      <td>30.0</td>\n      <td>NaN</td>\n      <td>NaN</td>\n      <td>NaN</td>\n      <td>NaN</td>\n      <td>0.0</td>\n      <td>15.0</td>\n    </tr>\n    <tr>\n      <th>1074</th>\n      <td>Male</td>\n      <td>Posterior</td>\n      <td>Nonneoplastic masquerade</td>\n      <td>NaN</td>\n      <td>Nonneoplastic masquerade</td>\n      <td>NaN</td>\n      <td>0</td>\n      <td>0</td>\n      <td>0</td>\n      <td>0</td>\n      <td>...</td>\n      <td>10.0</td>\n      <td>40.0</td>\n      <td>0.0</td>\n      <td>30.0</td>\n      <td>0.0</td>\n      <td>10.0</td>\n      <td>0.0</td>\n      <td>10.0</td>\n      <td>0.0</td>\n      <td>15.0</td>\n    </tr>\n  </tbody>\n</table>\n<p>1075 rows × 151 columns</p>\n</div>"
     },
     "execution_count": 8,
     "metadata": {},
     "output_type": "execute_result"
    }
   ],
   "source": [
    "# in excel description : A,C, G, CJ-Da\n",
    "#'SUBJECT_ID','Race','EHR_DIAGNOSIS'\n",
    "df= df.drop(['subject_id','race','ehr_diagnosis'], axis=1)\n",
    "#drop all HLA Data\n",
    "hlastrings = [col for col in df.columns if 'hla' in col]\n",
    "df = df.drop(hlastrings,axis=1)\n",
    "df\n",
    "\n",
    "\n",
    "\n"
   ]
  },
  {
   "cell_type": "markdown",
   "metadata": {},
   "source": [
    "### 3.1 Renaming columns via a dictionary\n",
    "To allow for some tidier code we decided to change the names of the columns. This calls for the creation of a dictionary that will be savedd as a .json in case the need arises to get back the full column name"
   ]
  },
  {
   "cell_type": "code",
   "execution_count": 9,
   "metadata": {},
   "outputs": [
    {
     "data": {
      "text/plain": "      gender      location               categorical  \\\n0       Male      Anterior  Nonneoplastic Masquerade   \n1     Female  Intermediate                Idiopathic   \n2     Female           Pan                  Systemic   \n3     Female      Anterior                Idiopathic   \n4     Female      Anterior                Idiopathic   \n...      ...           ...                       ...   \n1070    Male           Pan                Infectious   \n1071    Male  Intermediate                Idiopathic   \n1072  Female     Posterior                Infectious   \n1073  Female     Posterior                       WDS   \n1074    Male     Posterior  Nonneoplastic masquerade   \n\n     other_(rv,_choroidal_granuloma,_pars_planitis)        specific_diagnosis  \\\n0                                               NaN       Idiopathic_anterior   \n1                                               NaN             pars planitis   \n2                                               NaN                       VKH   \n3                                               NaN       Idiopathic_anterior   \n4                                               NaN       Idiopathic_anterior   \n...                                             ...                       ...   \n1070                                  granulomatous            Tuberculosis     \n1071                                            NaN             pars planitis   \n1072                                            NaN             Toxoplasmosis   \n1073                                            NaN                       WDS   \n1074                                            NaN  Nonneoplastic masquerade   \n\n     ac_abn_od_cells ac_abn_os_cells  \\\n0               0               0      \n1               2               2      \n2               0.5             0.5    \n3               0               0      \n4               0               0      \n...              ...             ...   \n1070               0            0      \n1071            0               1      \n1072            0               0      \n1073            0               0      \n1074               0               0   \n\n     vit_abn_od_cells_\\n(c_=_\"cannot\",_ie_ungradeable)  \\\n0                                                 0      \n1                                                 2      \n2                                                 1      \n3                                                 0      \n4                                                 0      \n...                                                ...   \n1070                                                 0   \n1071                                                 0   \n1072                                              0      \n1073                                                 0   \n1074                                              0      \n\n     vit_abn_os_cells_\\n(c_=_\"cannot\",_ie_ungradeable)  \\\n0                                                  0.5   \n1                                                 2      \n2                                                 1      \n3                                                 0      \n4                                                 0      \n...                                                ...   \n1070                                              0      \n1071                                              2      \n1072                                              1      \n1073                                                 0   \n1074                                              0      \n\n     vit_abn_od_haze_\\n(c_=_\"cannot\",_ie_ungradeable)  ...  uom35 _m35  _M35  \\\n0                                                0     ...    NaN  NaN   NaN   \n1                                                 0.5  ...      U  0.0   0.4   \n2                                                0     ...    NaN  NaN   NaN   \n3                                                0     ...    NaN  NaN   NaN   \n4                                                0     ...    NaN  NaN   NaN   \n...                                               ...  ...    ...  ...   ...   \n1070                                                0  ...      U  0.0   0.4   \n1071                                             0     ...    NaN  NaN   NaN   \n1072                                             0     ...    NaN  NaN   NaN   \n1073                                                0  ...    NaN  NaN   NaN   \n1074                                             0     ...  units  0.0  10.0   \n\n      rheumatoid_factor_(blood)  uom36 _m36  _M36  hbc_(hepb_core)_ab_(blood)  \\\n0                           <15  IU/mL  0.0  15.0                    NEGATIVE   \n1                           <10  IU/mL  0.0  13.0                    NEGATIVE   \n2                           <10  IU/mL  0.0  13.0                    NEGATIVE   \n3                           <15  IU/mL  0.0  15.0                    NEGATIVE   \n4                           <10  IU/mL  0.0  13.0                    NEGATIVE   \n...                         ...    ...  ...   ...                         ...   \n1070                        <15  IU/mL  0.0  15.0                    NEGATIVE   \n1071                        <15  IU/mL  0.0  15.0                    NEGATIVE   \n1072                        <15  IU/mL  0.0  15.0                    NEGATIVE   \n1073                        <15  IU/mL  0.0  15.0                    NEGATIVE   \n1074                        <15  IU/mL  0.0  15.0                    NEGATIVE   \n\n      hbs_(hepb_surface)_ag_(blood)  hcv_(hepc)_ab_(blood)  \n0                          NEGATIVE               NEGATIVE  \n1                          NEGATIVE               NEGATIVE  \n2                          NEGATIVE               NEGATIVE  \n3                          NEGATIVE               NEGATIVE  \n4                          NEGATIVE               NEGATIVE  \n...                             ...                    ...  \n1070                       NEGATIVE               NEGATIVE  \n1071                       NEGATIVE               NEGATIVE  \n1072                       NEGATIVE               NEGATIVE  \n1073                       NEGATIVE               NEGATIVE  \n1074                       NEGATIVE               NEGATIVE  \n\n[1075 rows x 123 columns]",
      "text/html": "<div>\n<style scoped>\n    .dataframe tbody tr th:only-of-type {\n        vertical-align: middle;\n    }\n\n    .dataframe tbody tr th {\n        vertical-align: top;\n    }\n\n    .dataframe thead th {\n        text-align: right;\n    }\n</style>\n<table border=\"1\" class=\"dataframe\">\n  <thead>\n    <tr style=\"text-align: right;\">\n      <th></th>\n      <th>gender</th>\n      <th>location</th>\n      <th>categorical</th>\n      <th>other_(rv,_choroidal_granuloma,_pars_planitis)</th>\n      <th>specific_diagnosis</th>\n      <th>ac_abn_od_cells</th>\n      <th>ac_abn_os_cells</th>\n      <th>vit_abn_od_cells_\\n(c_=_\"cannot\",_ie_ungradeable)</th>\n      <th>vit_abn_os_cells_\\n(c_=_\"cannot\",_ie_ungradeable)</th>\n      <th>vit_abn_od_haze_\\n(c_=_\"cannot\",_ie_ungradeable)</th>\n      <th>...</th>\n      <th>uom35</th>\n      <th>_m35</th>\n      <th>_M35</th>\n      <th>rheumatoid_factor_(blood)</th>\n      <th>uom36</th>\n      <th>_m36</th>\n      <th>_M36</th>\n      <th>hbc_(hepb_core)_ab_(blood)</th>\n      <th>hbs_(hepb_surface)_ag_(blood)</th>\n      <th>hcv_(hepc)_ab_(blood)</th>\n    </tr>\n  </thead>\n  <tbody>\n    <tr>\n      <th>0</th>\n      <td>Male</td>\n      <td>Anterior</td>\n      <td>Nonneoplastic Masquerade</td>\n      <td>NaN</td>\n      <td>Idiopathic_anterior</td>\n      <td>0</td>\n      <td>0</td>\n      <td>0</td>\n      <td>0.5</td>\n      <td>0</td>\n      <td>...</td>\n      <td>NaN</td>\n      <td>NaN</td>\n      <td>NaN</td>\n      <td>&lt;15</td>\n      <td>IU/mL</td>\n      <td>0.0</td>\n      <td>15.0</td>\n      <td>NEGATIVE</td>\n      <td>NEGATIVE</td>\n      <td>NEGATIVE</td>\n    </tr>\n    <tr>\n      <th>1</th>\n      <td>Female</td>\n      <td>Intermediate</td>\n      <td>Idiopathic</td>\n      <td>NaN</td>\n      <td>pars planitis</td>\n      <td>2</td>\n      <td>2</td>\n      <td>2</td>\n      <td>2</td>\n      <td>0.5</td>\n      <td>...</td>\n      <td>U</td>\n      <td>0.0</td>\n      <td>0.4</td>\n      <td>&lt;10</td>\n      <td>IU/mL</td>\n      <td>0.0</td>\n      <td>13.0</td>\n      <td>NEGATIVE</td>\n      <td>NEGATIVE</td>\n      <td>NEGATIVE</td>\n    </tr>\n    <tr>\n      <th>2</th>\n      <td>Female</td>\n      <td>Pan</td>\n      <td>Systemic</td>\n      <td>NaN</td>\n      <td>VKH</td>\n      <td>0.5</td>\n      <td>0.5</td>\n      <td>1</td>\n      <td>1</td>\n      <td>0</td>\n      <td>...</td>\n      <td>NaN</td>\n      <td>NaN</td>\n      <td>NaN</td>\n      <td>&lt;10</td>\n      <td>IU/mL</td>\n      <td>0.0</td>\n      <td>13.0</td>\n      <td>NEGATIVE</td>\n      <td>NEGATIVE</td>\n      <td>NEGATIVE</td>\n    </tr>\n    <tr>\n      <th>3</th>\n      <td>Female</td>\n      <td>Anterior</td>\n      <td>Idiopathic</td>\n      <td>NaN</td>\n      <td>Idiopathic_anterior</td>\n      <td>0</td>\n      <td>0</td>\n      <td>0</td>\n      <td>0</td>\n      <td>0</td>\n      <td>...</td>\n      <td>NaN</td>\n      <td>NaN</td>\n      <td>NaN</td>\n      <td>&lt;15</td>\n      <td>IU/mL</td>\n      <td>0.0</td>\n      <td>15.0</td>\n      <td>NEGATIVE</td>\n      <td>NEGATIVE</td>\n      <td>NEGATIVE</td>\n    </tr>\n    <tr>\n      <th>4</th>\n      <td>Female</td>\n      <td>Anterior</td>\n      <td>Idiopathic</td>\n      <td>NaN</td>\n      <td>Idiopathic_anterior</td>\n      <td>0</td>\n      <td>0</td>\n      <td>0</td>\n      <td>0</td>\n      <td>0</td>\n      <td>...</td>\n      <td>NaN</td>\n      <td>NaN</td>\n      <td>NaN</td>\n      <td>&lt;10</td>\n      <td>IU/mL</td>\n      <td>0.0</td>\n      <td>13.0</td>\n      <td>NEGATIVE</td>\n      <td>NEGATIVE</td>\n      <td>NEGATIVE</td>\n    </tr>\n    <tr>\n      <th>...</th>\n      <td>...</td>\n      <td>...</td>\n      <td>...</td>\n      <td>...</td>\n      <td>...</td>\n      <td>...</td>\n      <td>...</td>\n      <td>...</td>\n      <td>...</td>\n      <td>...</td>\n      <td>...</td>\n      <td>...</td>\n      <td>...</td>\n      <td>...</td>\n      <td>...</td>\n      <td>...</td>\n      <td>...</td>\n      <td>...</td>\n      <td>...</td>\n      <td>...</td>\n      <td>...</td>\n    </tr>\n    <tr>\n      <th>1070</th>\n      <td>Male</td>\n      <td>Pan</td>\n      <td>Infectious</td>\n      <td>granulomatous</td>\n      <td>Tuberculosis</td>\n      <td>0</td>\n      <td>0</td>\n      <td>0</td>\n      <td>0</td>\n      <td>0</td>\n      <td>...</td>\n      <td>U</td>\n      <td>0.0</td>\n      <td>0.4</td>\n      <td>&lt;15</td>\n      <td>IU/mL</td>\n      <td>0.0</td>\n      <td>15.0</td>\n      <td>NEGATIVE</td>\n      <td>NEGATIVE</td>\n      <td>NEGATIVE</td>\n    </tr>\n    <tr>\n      <th>1071</th>\n      <td>Male</td>\n      <td>Intermediate</td>\n      <td>Idiopathic</td>\n      <td>NaN</td>\n      <td>pars planitis</td>\n      <td>0</td>\n      <td>1</td>\n      <td>0</td>\n      <td>2</td>\n      <td>0</td>\n      <td>...</td>\n      <td>NaN</td>\n      <td>NaN</td>\n      <td>NaN</td>\n      <td>&lt;15</td>\n      <td>IU/mL</td>\n      <td>0.0</td>\n      <td>15.0</td>\n      <td>NEGATIVE</td>\n      <td>NEGATIVE</td>\n      <td>NEGATIVE</td>\n    </tr>\n    <tr>\n      <th>1072</th>\n      <td>Female</td>\n      <td>Posterior</td>\n      <td>Infectious</td>\n      <td>NaN</td>\n      <td>Toxoplasmosis</td>\n      <td>0</td>\n      <td>0</td>\n      <td>0</td>\n      <td>1</td>\n      <td>0</td>\n      <td>...</td>\n      <td>NaN</td>\n      <td>NaN</td>\n      <td>NaN</td>\n      <td>&lt;15</td>\n      <td>IU/mL</td>\n      <td>0.0</td>\n      <td>15.0</td>\n      <td>NEGATIVE</td>\n      <td>NEGATIVE</td>\n      <td>NEGATIVE</td>\n    </tr>\n    <tr>\n      <th>1073</th>\n      <td>Female</td>\n      <td>Posterior</td>\n      <td>WDS</td>\n      <td>NaN</td>\n      <td>WDS</td>\n      <td>0</td>\n      <td>0</td>\n      <td>0</td>\n      <td>0</td>\n      <td>0</td>\n      <td>...</td>\n      <td>NaN</td>\n      <td>NaN</td>\n      <td>NaN</td>\n      <td>&lt;15</td>\n      <td>IU/mL</td>\n      <td>0.0</td>\n      <td>15.0</td>\n      <td>NEGATIVE</td>\n      <td>NEGATIVE</td>\n      <td>NEGATIVE</td>\n    </tr>\n    <tr>\n      <th>1074</th>\n      <td>Male</td>\n      <td>Posterior</td>\n      <td>Nonneoplastic masquerade</td>\n      <td>NaN</td>\n      <td>Nonneoplastic masquerade</td>\n      <td>0</td>\n      <td>0</td>\n      <td>0</td>\n      <td>0</td>\n      <td>0</td>\n      <td>...</td>\n      <td>units</td>\n      <td>0.0</td>\n      <td>10.0</td>\n      <td>&lt;15</td>\n      <td>IU/mL</td>\n      <td>0.0</td>\n      <td>15.0</td>\n      <td>NEGATIVE</td>\n      <td>NEGATIVE</td>\n      <td>NEGATIVE</td>\n    </tr>\n  </tbody>\n</table>\n<p>1075 rows × 123 columns</p>\n</div>"
     },
     "execution_count": 9,
     "metadata": {},
     "output_type": "execute_result"
    }
   ],
   "source": [
    "new_sorted_cols = ['gender', 'location', 'categorical', 'other_(rv,_choroidal_granuloma,_pars_planitis)', 'specific_diagnosis', 'ac_abn_od_cells', 'ac_abn_os_cells',\n",
    "                   'vit_abn_od_cells_\\n(c_=_\"cannot\",_ie_ungradeable)', 'vit_abn_os_cells_\\n(c_=_\"cannot\",_ie_ungradeable)', 'vit_abn_od_haze_\\n(c_=_\"cannot\",_ie_ungradeable)',\n",
    "                   'vit_abn_os_haze_\\n(c_=_\"cannot\",_ie_ungradeable)', 'calcium_(blood)', 'uom', '_m0', '_M0', 'lactate_dehydrogenase_(ldh)_(blood)', 'uom1', '_m1', '_M1',\n",
    "                   'c-reactive_protein,_normal_and_high_sensitivity_(blood)', 'uom2', '_m2', '_M2', 'wbc_(blood)', 'uom3', '_m3', '_M3',\n",
    "                   'rbc_(blood)', 'uom4', '_m4', '_M4', 'hemoglobin_(blood)', 'uom5', '_m5', '_M5', 'hematocrit_(blood)', 'uom6', '_m6',\n",
    "                   '_M6', 'mcv_(blood)', 'uom7', '_m7', '_M7', 'mch_(blood)', 'uom8', '_m8', '_M8', 'mchc_(blood)', 'uom9','_m9', '_M9',\n",
    "                   'rdw_(blood)', 'uom10', '_m10', '_M10', 'platelet_count_(blood)', 'uom11', '_m11', '_M11',\n",
    "                   'neutrophil_%_(blood)', 'uom12', '_m12', '_M12', 'lymphocytes_%_(blood)', 'uom13', '_m13', '_M13',\n",
    "                   'angiotensin_conv#enzyme_(blood)', 'uom14', '_m14', '_M14', 'beta-2-microglobulin_(blood)', 'uom15',  '_m15', '_M15',\n",
    "                   'lupus_anticoagulant_(blood)', 'lysozyme,_plasma_(blood)', 'uom18', '_m18', '_M18', 'anti-ccp_ab_(blood)', 'uom21', '_m21', '_M21',\n",
    "                   'anti-dnase_b_(blood)', 'uom22', '_m22', '_M22', 'anti-ena_screen_(blood)', 'uom23', '_m23', '_M23', 'antinuclear_antibody_(ana)_(blood)', 'uom24', '_m24', '_M24',\n",
    "                   'complement_c3_(blood)', 'uom25', '_m25', '_M25', 'complement_c4_(blood)', 'uom26', '_m26', '_M26', 'dna_double-stranded_ab_(blood)',\n",
    "                   'uom27', '_m27', '_M27', 'myeloperoxidase_ab_(blood)', 'uom34', '_m34', '_M34', 'proteinase-3_antibodies_(blood)',\n",
    "                   'uom35', '_m35', '_M35', 'rheumatoid_factor_(blood)', 'uom36', '_m36', '_M36', 'hbc_(hepb_core)_ab_(blood)', 'hbs_(hepb_surface)_ag_(blood)', 'hcv_(hepc)_ab_(blood)']\n",
    "df = df.reindex(new_sorted_cols, axis=1)\n",
    "df"
   ]
  },
  {
   "cell_type": "code",
   "execution_count": 10,
   "metadata": {},
   "outputs": [
    {
     "data": {
      "text/plain": "         sex      location               categorical          other  \\\n0       Male      Anterior  Nonneoplastic Masquerade            NaN   \n1     Female  Intermediate                Idiopathic            NaN   \n2     Female           Pan                  Systemic            NaN   \n3     Female      Anterior                Idiopathic            NaN   \n4     Female      Anterior                Idiopathic            NaN   \n...      ...           ...                       ...            ...   \n1070    Male           Pan                Infectious  granulomatous   \n1071    Male  Intermediate                Idiopathic            NaN   \n1072  Female     Posterior                Infectious            NaN   \n1073  Female     Posterior                       WDS            NaN   \n1074    Male     Posterior  Nonneoplastic masquerade            NaN   \n\n                     diagnosis ac_abn_od_cells ac_abn_os_cells  \\\n0          Idiopathic_anterior            0               0      \n1                pars planitis            2               2      \n2                          VKH            0.5             0.5    \n3          Idiopathic_anterior            0               0      \n4          Idiopathic_anterior            0               0      \n...                        ...             ...             ...   \n1070            Tuberculosis                 0            0      \n1071             pars planitis            0               1      \n1072             Toxoplasmosis            0               0      \n1073                       WDS            0               0      \n1074  Nonneoplastic masquerade               0               0   \n\n     vit_abn_od_cells vit_abn_os_cells vit_abn_od_haze  ...  uom35 _m35  _M35  \\\n0                0                 0.5            0     ...    NaN  NaN   NaN   \n1                2                2                0.5  ...      U  0.0   0.4   \n2                1                1               0     ...    NaN  NaN   NaN   \n3                0                0               0     ...    NaN  NaN   NaN   \n4                0                0               0     ...    NaN  NaN   NaN   \n...               ...              ...             ...  ...    ...  ...   ...   \n1070                0             0                  0  ...      U  0.0   0.4   \n1071                0             2               0     ...    NaN  NaN   NaN   \n1072             0                1               0     ...    NaN  NaN   NaN   \n1073                0                0               0  ...    NaN  NaN   NaN   \n1074             0                0               0     ...  units  0.0  10.0   \n\n      rheumatoid_factor  uom36 _m36  _M36    hbc_ab    hbs_ag    hcv_ab  \n0                   <15  IU/mL  0.0  15.0  NEGATIVE  NEGATIVE  NEGATIVE  \n1                   <10  IU/mL  0.0  13.0  NEGATIVE  NEGATIVE  NEGATIVE  \n2                   <10  IU/mL  0.0  13.0  NEGATIVE  NEGATIVE  NEGATIVE  \n3                   <15  IU/mL  0.0  15.0  NEGATIVE  NEGATIVE  NEGATIVE  \n4                   <10  IU/mL  0.0  13.0  NEGATIVE  NEGATIVE  NEGATIVE  \n...                 ...    ...  ...   ...       ...       ...       ...  \n1070                <15  IU/mL  0.0  15.0  NEGATIVE  NEGATIVE  NEGATIVE  \n1071                <15  IU/mL  0.0  15.0  NEGATIVE  NEGATIVE  NEGATIVE  \n1072                <15  IU/mL  0.0  15.0  NEGATIVE  NEGATIVE  NEGATIVE  \n1073                <15  IU/mL  0.0  15.0  NEGATIVE  NEGATIVE  NEGATIVE  \n1074                <15  IU/mL  0.0  15.0  NEGATIVE  NEGATIVE  NEGATIVE  \n\n[1075 rows x 123 columns]",
      "text/html": "<div>\n<style scoped>\n    .dataframe tbody tr th:only-of-type {\n        vertical-align: middle;\n    }\n\n    .dataframe tbody tr th {\n        vertical-align: top;\n    }\n\n    .dataframe thead th {\n        text-align: right;\n    }\n</style>\n<table border=\"1\" class=\"dataframe\">\n  <thead>\n    <tr style=\"text-align: right;\">\n      <th></th>\n      <th>sex</th>\n      <th>location</th>\n      <th>categorical</th>\n      <th>other</th>\n      <th>diagnosis</th>\n      <th>ac_abn_od_cells</th>\n      <th>ac_abn_os_cells</th>\n      <th>vit_abn_od_cells</th>\n      <th>vit_abn_os_cells</th>\n      <th>vit_abn_od_haze</th>\n      <th>...</th>\n      <th>uom35</th>\n      <th>_m35</th>\n      <th>_M35</th>\n      <th>rheumatoid_factor</th>\n      <th>uom36</th>\n      <th>_m36</th>\n      <th>_M36</th>\n      <th>hbc_ab</th>\n      <th>hbs_ag</th>\n      <th>hcv_ab</th>\n    </tr>\n  </thead>\n  <tbody>\n    <tr>\n      <th>0</th>\n      <td>Male</td>\n      <td>Anterior</td>\n      <td>Nonneoplastic Masquerade</td>\n      <td>NaN</td>\n      <td>Idiopathic_anterior</td>\n      <td>0</td>\n      <td>0</td>\n      <td>0</td>\n      <td>0.5</td>\n      <td>0</td>\n      <td>...</td>\n      <td>NaN</td>\n      <td>NaN</td>\n      <td>NaN</td>\n      <td>&lt;15</td>\n      <td>IU/mL</td>\n      <td>0.0</td>\n      <td>15.0</td>\n      <td>NEGATIVE</td>\n      <td>NEGATIVE</td>\n      <td>NEGATIVE</td>\n    </tr>\n    <tr>\n      <th>1</th>\n      <td>Female</td>\n      <td>Intermediate</td>\n      <td>Idiopathic</td>\n      <td>NaN</td>\n      <td>pars planitis</td>\n      <td>2</td>\n      <td>2</td>\n      <td>2</td>\n      <td>2</td>\n      <td>0.5</td>\n      <td>...</td>\n      <td>U</td>\n      <td>0.0</td>\n      <td>0.4</td>\n      <td>&lt;10</td>\n      <td>IU/mL</td>\n      <td>0.0</td>\n      <td>13.0</td>\n      <td>NEGATIVE</td>\n      <td>NEGATIVE</td>\n      <td>NEGATIVE</td>\n    </tr>\n    <tr>\n      <th>2</th>\n      <td>Female</td>\n      <td>Pan</td>\n      <td>Systemic</td>\n      <td>NaN</td>\n      <td>VKH</td>\n      <td>0.5</td>\n      <td>0.5</td>\n      <td>1</td>\n      <td>1</td>\n      <td>0</td>\n      <td>...</td>\n      <td>NaN</td>\n      <td>NaN</td>\n      <td>NaN</td>\n      <td>&lt;10</td>\n      <td>IU/mL</td>\n      <td>0.0</td>\n      <td>13.0</td>\n      <td>NEGATIVE</td>\n      <td>NEGATIVE</td>\n      <td>NEGATIVE</td>\n    </tr>\n    <tr>\n      <th>3</th>\n      <td>Female</td>\n      <td>Anterior</td>\n      <td>Idiopathic</td>\n      <td>NaN</td>\n      <td>Idiopathic_anterior</td>\n      <td>0</td>\n      <td>0</td>\n      <td>0</td>\n      <td>0</td>\n      <td>0</td>\n      <td>...</td>\n      <td>NaN</td>\n      <td>NaN</td>\n      <td>NaN</td>\n      <td>&lt;15</td>\n      <td>IU/mL</td>\n      <td>0.0</td>\n      <td>15.0</td>\n      <td>NEGATIVE</td>\n      <td>NEGATIVE</td>\n      <td>NEGATIVE</td>\n    </tr>\n    <tr>\n      <th>4</th>\n      <td>Female</td>\n      <td>Anterior</td>\n      <td>Idiopathic</td>\n      <td>NaN</td>\n      <td>Idiopathic_anterior</td>\n      <td>0</td>\n      <td>0</td>\n      <td>0</td>\n      <td>0</td>\n      <td>0</td>\n      <td>...</td>\n      <td>NaN</td>\n      <td>NaN</td>\n      <td>NaN</td>\n      <td>&lt;10</td>\n      <td>IU/mL</td>\n      <td>0.0</td>\n      <td>13.0</td>\n      <td>NEGATIVE</td>\n      <td>NEGATIVE</td>\n      <td>NEGATIVE</td>\n    </tr>\n    <tr>\n      <th>...</th>\n      <td>...</td>\n      <td>...</td>\n      <td>...</td>\n      <td>...</td>\n      <td>...</td>\n      <td>...</td>\n      <td>...</td>\n      <td>...</td>\n      <td>...</td>\n      <td>...</td>\n      <td>...</td>\n      <td>...</td>\n      <td>...</td>\n      <td>...</td>\n      <td>...</td>\n      <td>...</td>\n      <td>...</td>\n      <td>...</td>\n      <td>...</td>\n      <td>...</td>\n      <td>...</td>\n    </tr>\n    <tr>\n      <th>1070</th>\n      <td>Male</td>\n      <td>Pan</td>\n      <td>Infectious</td>\n      <td>granulomatous</td>\n      <td>Tuberculosis</td>\n      <td>0</td>\n      <td>0</td>\n      <td>0</td>\n      <td>0</td>\n      <td>0</td>\n      <td>...</td>\n      <td>U</td>\n      <td>0.0</td>\n      <td>0.4</td>\n      <td>&lt;15</td>\n      <td>IU/mL</td>\n      <td>0.0</td>\n      <td>15.0</td>\n      <td>NEGATIVE</td>\n      <td>NEGATIVE</td>\n      <td>NEGATIVE</td>\n    </tr>\n    <tr>\n      <th>1071</th>\n      <td>Male</td>\n      <td>Intermediate</td>\n      <td>Idiopathic</td>\n      <td>NaN</td>\n      <td>pars planitis</td>\n      <td>0</td>\n      <td>1</td>\n      <td>0</td>\n      <td>2</td>\n      <td>0</td>\n      <td>...</td>\n      <td>NaN</td>\n      <td>NaN</td>\n      <td>NaN</td>\n      <td>&lt;15</td>\n      <td>IU/mL</td>\n      <td>0.0</td>\n      <td>15.0</td>\n      <td>NEGATIVE</td>\n      <td>NEGATIVE</td>\n      <td>NEGATIVE</td>\n    </tr>\n    <tr>\n      <th>1072</th>\n      <td>Female</td>\n      <td>Posterior</td>\n      <td>Infectious</td>\n      <td>NaN</td>\n      <td>Toxoplasmosis</td>\n      <td>0</td>\n      <td>0</td>\n      <td>0</td>\n      <td>1</td>\n      <td>0</td>\n      <td>...</td>\n      <td>NaN</td>\n      <td>NaN</td>\n      <td>NaN</td>\n      <td>&lt;15</td>\n      <td>IU/mL</td>\n      <td>0.0</td>\n      <td>15.0</td>\n      <td>NEGATIVE</td>\n      <td>NEGATIVE</td>\n      <td>NEGATIVE</td>\n    </tr>\n    <tr>\n      <th>1073</th>\n      <td>Female</td>\n      <td>Posterior</td>\n      <td>WDS</td>\n      <td>NaN</td>\n      <td>WDS</td>\n      <td>0</td>\n      <td>0</td>\n      <td>0</td>\n      <td>0</td>\n      <td>0</td>\n      <td>...</td>\n      <td>NaN</td>\n      <td>NaN</td>\n      <td>NaN</td>\n      <td>&lt;15</td>\n      <td>IU/mL</td>\n      <td>0.0</td>\n      <td>15.0</td>\n      <td>NEGATIVE</td>\n      <td>NEGATIVE</td>\n      <td>NEGATIVE</td>\n    </tr>\n    <tr>\n      <th>1074</th>\n      <td>Male</td>\n      <td>Posterior</td>\n      <td>Nonneoplastic masquerade</td>\n      <td>NaN</td>\n      <td>Nonneoplastic masquerade</td>\n      <td>0</td>\n      <td>0</td>\n      <td>0</td>\n      <td>0</td>\n      <td>0</td>\n      <td>...</td>\n      <td>units</td>\n      <td>0.0</td>\n      <td>10.0</td>\n      <td>&lt;15</td>\n      <td>IU/mL</td>\n      <td>0.0</td>\n      <td>15.0</td>\n      <td>NEGATIVE</td>\n      <td>NEGATIVE</td>\n      <td>NEGATIVE</td>\n    </tr>\n  </tbody>\n</table>\n<p>1075 rows × 123 columns</p>\n</div>"
     },
     "execution_count": 10,
     "metadata": {},
     "output_type": "execute_result"
    }
   ],
   "source": [
    "comprehension_dict = {'gender':'sex', 'other_(rv,_choroidal_granuloma,_pars_planitis)':'other', 'specific_diagnosis':'diagnosis',\n",
    "                   'vit_abn_od_cells_\\n(c_=_\"cannot\",_ie_ungradeable)':'vit_abn_od_cells', 'vit_abn_os_cells_\\n(c_=_\"cannot\",_ie_ungradeable)':'vit_abn_os_cells', 'vit_abn_od_haze_\\n(c_=_\"cannot\",_ie_ungradeable)':'vit_abn_od_haze',\n",
    "                   'vit_abn_os_haze_\\n(c_=_\"cannot\",_ie_ungradeable)':'vit_abn_os_haze', 'calcium_(blood)':'Ca', 'lactate_dehydrogenase_(ldh)_(blood)':'ldh',\n",
    "                   'c-reactive_protein,_normal_and_high_sensitivity_(blood)':'c-reactive', 'wbc_(blood)':'wbc',\n",
    "                   'rbc_(blood)':'rbc', 'hemoglobin_(blood)':'hemoglobin', 'hematocrit_(blood)':'hematocrit',\n",
    "                   'mcv_(blood)':'mcv',  'mch_(blood)':'mch', 'mchc_(blood)':'mchc',\n",
    "                   'rdw_(blood)':'rdw','platelet_count_(blood)':'platelet_count',\n",
    "                   'neutrophil_%_(blood)':'neutrophil_%', 'lymphocytes_%_(blood)':'lymphocytes_%',\n",
    "                   'angiotensin_conv#enzyme_(blood)':'angiotensin_conv#enzyme', 'beta-2-microglobulin_(blood)':'beta-2-microglobulin',\n",
    "                   'lupus_anticoagulant_(blood)':'lupus_anticoagulant', 'lysozyme,_plasma_(blood)':'lysozyme,_plasma', 'anti-ccp_ab_(blood)':'anti-ccp_ab',\n",
    "                   'anti-dnase_b_(blood)':'anti-dnase_b', 'anti-ena_screen_(blood)':'anti-ena_screen', 'antinuclear_antibody_(ana)_(blood)':'ana',\n",
    "                   'complement_c3_(blood)':'complement_c3', 'complement_c4_(blood)':'complement_c4', 'dna_double-stranded_ab_(blood)':'dna_double-stranded_ab',\n",
    "                   'myeloperoxidase_ab_(blood)':'myeloperoxidase_ab', 'proteinase-3_antibodies_(blood)':'proteinase-3_antibodies',\n",
    "                   'rheumatoid_factor_(blood)':'rheumatoid_factor', 'hbc_(hepb_core)_ab_(blood)':'hbc_ab', 'hbs_(hepb_surface)_ag_(blood)':'hbs_ag', 'hcv_(hepc)_ab_(blood)':'hcv_ab'}\n",
    "df.rename(columns=comprehension_dict, inplace=True)\n",
    "df"
   ]
  },
  {
   "cell_type": "code",
   "execution_count": 11,
   "metadata": {
    "pycharm": {
     "name": "#%%\n"
    }
   },
   "outputs": [
    {
     "data": {
      "text/plain": "         sex      location               categorical          other  \\\n0       Male      Anterior  Nonneoplastic Masquerade            NaN   \n1     Female  Intermediate                Idiopathic            NaN   \n2     Female           Pan                  Systemic            NaN   \n3     Female      Anterior                Idiopathic            NaN   \n4     Female      Anterior                Idiopathic            NaN   \n...      ...           ...                       ...            ...   \n1070    Male           Pan                Infectious  granulomatous   \n1071    Male  Intermediate                Idiopathic            NaN   \n1072  Female     Posterior                Infectious            NaN   \n1073  Female     Posterior                       WDS            NaN   \n1074    Male     Posterior  Nonneoplastic masquerade            NaN   \n\n                     diagnosis ac_abn_od_cells ac_abn_os_cells abn_od_cells  \\\n0          Idiopathic_anterior            0               0            0      \n1                pars planitis            2               2            2      \n2                          VKH            0.5             0.5          1      \n3          Idiopathic_anterior            0               0            0      \n4          Idiopathic_anterior            0               0            0      \n...                        ...             ...             ...          ...   \n1070            Tuberculosis                 0            0               0   \n1071             pars planitis            0               1               0   \n1072             Toxoplasmosis            0               0            0      \n1073                       WDS            0               0               0   \n1074  Nonneoplastic masquerade               0               0         0      \n\n     abn_os_cells abn_od_haze  ... v35_uom v35_m v35_M  v36  v36_uom v36_m  \\\n0             0.5        0     ...     NaN   NaN   NaN  <15    IU/mL   0.0   \n1            2            0.5  ...       U   0.0   0.4  <10    IU/mL   0.0   \n2            1           0     ...     NaN   NaN   NaN  <10    IU/mL   0.0   \n3            0           0     ...     NaN   NaN   NaN  <15    IU/mL   0.0   \n4            0           0     ...     NaN   NaN   NaN  <10    IU/mL   0.0   \n...           ...         ...  ...     ...   ...   ...  ...      ...   ...   \n1070         0              0  ...       U   0.0   0.4  <15    IU/mL   0.0   \n1071         2           0     ...     NaN   NaN   NaN  <15    IU/mL   0.0   \n1072         1           0     ...     NaN   NaN   NaN  <15    IU/mL   0.0   \n1073            0           0  ...     NaN   NaN   NaN  <15    IU/mL   0.0   \n1074         0           0     ...   units   0.0  10.0  <15    IU/mL   0.0   \n\n     v36_M       v37       v38       v39  \n0     15.0  NEGATIVE  NEGATIVE  NEGATIVE  \n1     13.0  NEGATIVE  NEGATIVE  NEGATIVE  \n2     13.0  NEGATIVE  NEGATIVE  NEGATIVE  \n3     15.0  NEGATIVE  NEGATIVE  NEGATIVE  \n4     13.0  NEGATIVE  NEGATIVE  NEGATIVE  \n...    ...       ...       ...       ...  \n1070  15.0  NEGATIVE  NEGATIVE  NEGATIVE  \n1071  15.0  NEGATIVE  NEGATIVE  NEGATIVE  \n1072  15.0  NEGATIVE  NEGATIVE  NEGATIVE  \n1073  15.0  NEGATIVE  NEGATIVE  NEGATIVE  \n1074  15.0  NEGATIVE  NEGATIVE  NEGATIVE  \n\n[1075 rows x 123 columns]",
      "text/html": "<div>\n<style scoped>\n    .dataframe tbody tr th:only-of-type {\n        vertical-align: middle;\n    }\n\n    .dataframe tbody tr th {\n        vertical-align: top;\n    }\n\n    .dataframe thead th {\n        text-align: right;\n    }\n</style>\n<table border=\"1\" class=\"dataframe\">\n  <thead>\n    <tr style=\"text-align: right;\">\n      <th></th>\n      <th>sex</th>\n      <th>location</th>\n      <th>categorical</th>\n      <th>other</th>\n      <th>diagnosis</th>\n      <th>ac_abn_od_cells</th>\n      <th>ac_abn_os_cells</th>\n      <th>abn_od_cells</th>\n      <th>abn_os_cells</th>\n      <th>abn_od_haze</th>\n      <th>...</th>\n      <th>v35_uom</th>\n      <th>v35_m</th>\n      <th>v35_M</th>\n      <th>v36</th>\n      <th>v36_uom</th>\n      <th>v36_m</th>\n      <th>v36_M</th>\n      <th>v37</th>\n      <th>v38</th>\n      <th>v39</th>\n    </tr>\n  </thead>\n  <tbody>\n    <tr>\n      <th>0</th>\n      <td>Male</td>\n      <td>Anterior</td>\n      <td>Nonneoplastic Masquerade</td>\n      <td>NaN</td>\n      <td>Idiopathic_anterior</td>\n      <td>0</td>\n      <td>0</td>\n      <td>0</td>\n      <td>0.5</td>\n      <td>0</td>\n      <td>...</td>\n      <td>NaN</td>\n      <td>NaN</td>\n      <td>NaN</td>\n      <td>&lt;15</td>\n      <td>IU/mL</td>\n      <td>0.0</td>\n      <td>15.0</td>\n      <td>NEGATIVE</td>\n      <td>NEGATIVE</td>\n      <td>NEGATIVE</td>\n    </tr>\n    <tr>\n      <th>1</th>\n      <td>Female</td>\n      <td>Intermediate</td>\n      <td>Idiopathic</td>\n      <td>NaN</td>\n      <td>pars planitis</td>\n      <td>2</td>\n      <td>2</td>\n      <td>2</td>\n      <td>2</td>\n      <td>0.5</td>\n      <td>...</td>\n      <td>U</td>\n      <td>0.0</td>\n      <td>0.4</td>\n      <td>&lt;10</td>\n      <td>IU/mL</td>\n      <td>0.0</td>\n      <td>13.0</td>\n      <td>NEGATIVE</td>\n      <td>NEGATIVE</td>\n      <td>NEGATIVE</td>\n    </tr>\n    <tr>\n      <th>2</th>\n      <td>Female</td>\n      <td>Pan</td>\n      <td>Systemic</td>\n      <td>NaN</td>\n      <td>VKH</td>\n      <td>0.5</td>\n      <td>0.5</td>\n      <td>1</td>\n      <td>1</td>\n      <td>0</td>\n      <td>...</td>\n      <td>NaN</td>\n      <td>NaN</td>\n      <td>NaN</td>\n      <td>&lt;10</td>\n      <td>IU/mL</td>\n      <td>0.0</td>\n      <td>13.0</td>\n      <td>NEGATIVE</td>\n      <td>NEGATIVE</td>\n      <td>NEGATIVE</td>\n    </tr>\n    <tr>\n      <th>3</th>\n      <td>Female</td>\n      <td>Anterior</td>\n      <td>Idiopathic</td>\n      <td>NaN</td>\n      <td>Idiopathic_anterior</td>\n      <td>0</td>\n      <td>0</td>\n      <td>0</td>\n      <td>0</td>\n      <td>0</td>\n      <td>...</td>\n      <td>NaN</td>\n      <td>NaN</td>\n      <td>NaN</td>\n      <td>&lt;15</td>\n      <td>IU/mL</td>\n      <td>0.0</td>\n      <td>15.0</td>\n      <td>NEGATIVE</td>\n      <td>NEGATIVE</td>\n      <td>NEGATIVE</td>\n    </tr>\n    <tr>\n      <th>4</th>\n      <td>Female</td>\n      <td>Anterior</td>\n      <td>Idiopathic</td>\n      <td>NaN</td>\n      <td>Idiopathic_anterior</td>\n      <td>0</td>\n      <td>0</td>\n      <td>0</td>\n      <td>0</td>\n      <td>0</td>\n      <td>...</td>\n      <td>NaN</td>\n      <td>NaN</td>\n      <td>NaN</td>\n      <td>&lt;10</td>\n      <td>IU/mL</td>\n      <td>0.0</td>\n      <td>13.0</td>\n      <td>NEGATIVE</td>\n      <td>NEGATIVE</td>\n      <td>NEGATIVE</td>\n    </tr>\n    <tr>\n      <th>...</th>\n      <td>...</td>\n      <td>...</td>\n      <td>...</td>\n      <td>...</td>\n      <td>...</td>\n      <td>...</td>\n      <td>...</td>\n      <td>...</td>\n      <td>...</td>\n      <td>...</td>\n      <td>...</td>\n      <td>...</td>\n      <td>...</td>\n      <td>...</td>\n      <td>...</td>\n      <td>...</td>\n      <td>...</td>\n      <td>...</td>\n      <td>...</td>\n      <td>...</td>\n      <td>...</td>\n    </tr>\n    <tr>\n      <th>1070</th>\n      <td>Male</td>\n      <td>Pan</td>\n      <td>Infectious</td>\n      <td>granulomatous</td>\n      <td>Tuberculosis</td>\n      <td>0</td>\n      <td>0</td>\n      <td>0</td>\n      <td>0</td>\n      <td>0</td>\n      <td>...</td>\n      <td>U</td>\n      <td>0.0</td>\n      <td>0.4</td>\n      <td>&lt;15</td>\n      <td>IU/mL</td>\n      <td>0.0</td>\n      <td>15.0</td>\n      <td>NEGATIVE</td>\n      <td>NEGATIVE</td>\n      <td>NEGATIVE</td>\n    </tr>\n    <tr>\n      <th>1071</th>\n      <td>Male</td>\n      <td>Intermediate</td>\n      <td>Idiopathic</td>\n      <td>NaN</td>\n      <td>pars planitis</td>\n      <td>0</td>\n      <td>1</td>\n      <td>0</td>\n      <td>2</td>\n      <td>0</td>\n      <td>...</td>\n      <td>NaN</td>\n      <td>NaN</td>\n      <td>NaN</td>\n      <td>&lt;15</td>\n      <td>IU/mL</td>\n      <td>0.0</td>\n      <td>15.0</td>\n      <td>NEGATIVE</td>\n      <td>NEGATIVE</td>\n      <td>NEGATIVE</td>\n    </tr>\n    <tr>\n      <th>1072</th>\n      <td>Female</td>\n      <td>Posterior</td>\n      <td>Infectious</td>\n      <td>NaN</td>\n      <td>Toxoplasmosis</td>\n      <td>0</td>\n      <td>0</td>\n      <td>0</td>\n      <td>1</td>\n      <td>0</td>\n      <td>...</td>\n      <td>NaN</td>\n      <td>NaN</td>\n      <td>NaN</td>\n      <td>&lt;15</td>\n      <td>IU/mL</td>\n      <td>0.0</td>\n      <td>15.0</td>\n      <td>NEGATIVE</td>\n      <td>NEGATIVE</td>\n      <td>NEGATIVE</td>\n    </tr>\n    <tr>\n      <th>1073</th>\n      <td>Female</td>\n      <td>Posterior</td>\n      <td>WDS</td>\n      <td>NaN</td>\n      <td>WDS</td>\n      <td>0</td>\n      <td>0</td>\n      <td>0</td>\n      <td>0</td>\n      <td>0</td>\n      <td>...</td>\n      <td>NaN</td>\n      <td>NaN</td>\n      <td>NaN</td>\n      <td>&lt;15</td>\n      <td>IU/mL</td>\n      <td>0.0</td>\n      <td>15.0</td>\n      <td>NEGATIVE</td>\n      <td>NEGATIVE</td>\n      <td>NEGATIVE</td>\n    </tr>\n    <tr>\n      <th>1074</th>\n      <td>Male</td>\n      <td>Posterior</td>\n      <td>Nonneoplastic masquerade</td>\n      <td>NaN</td>\n      <td>Nonneoplastic masquerade</td>\n      <td>0</td>\n      <td>0</td>\n      <td>0</td>\n      <td>0</td>\n      <td>0</td>\n      <td>...</td>\n      <td>units</td>\n      <td>0.0</td>\n      <td>10.0</td>\n      <td>&lt;15</td>\n      <td>IU/mL</td>\n      <td>0.0</td>\n      <td>15.0</td>\n      <td>NEGATIVE</td>\n      <td>NEGATIVE</td>\n      <td>NEGATIVE</td>\n    </tr>\n  </tbody>\n</table>\n<p>1075 rows × 123 columns</p>\n</div>"
     },
     "execution_count": 11,
     "metadata": {},
     "output_type": "execute_result"
    }
   ],
   "source": [
    "shorted_dict = {'vit_abn_od_cells':'abn_od_cells', 'vit_abn_os_cells':'abn_os_cells', 'vit_abn_od_haze':'abn_od_haze', 'vit_abn_os_haze':'abn_os_haze', 'Ca':'v0', 'ldh':'v1',\n",
    "                'c-reactive':'v2', 'wbc':'v3', 'rbc':'v4', 'hemoglobin':'v5', 'hematocrit':'v6', 'mcv':'v7',  'mch':'v8', 'mchc':'v9',\n",
    "                'rdw':'v10','platelet_count':'v11',\n",
    "                'neutrophil_%':'v12', 'lymphocytes_%':'v13',\n",
    "                'angiotensin_conv#enzyme':'v14', 'beta-2-microglobulin':'v15',\n",
    "                'lupus_anticoagulant':'v16', 'lysozyme,_plasma':'v18', 'anti-ccp_ab':'v21',\n",
    "                'anti-dnase_b':'v22', 'anti-ena_screen':'v23', 'ana':'v24',\n",
    "                'complement_c3':'v25', 'complement_c4':'v26', 'dna_double-stranded_ab':'v27',\n",
    "                'myeloperoxidase_ab':'v34', 'proteinase-3_antibodies':'v35',\n",
    "                'rheumatoid_factor':'v36', 'hbc_ab':'v37', 'hbs_ag':'v38', 'hcv_ab':'v39',\n",
    "                'uom':'v0_uom', '_m0':'v0_m', '_M0':'v0_M', 'uom1':'v1_uom', '_m1':'v1_m', '_M1':'v1_M',\n",
    "                'uom2':'v2_uom', '_m2':'v2_m', '_M2':'v2_M', 'uom3':'v3_uom', '_m3':'v3_m', '_M3':'v3_M','uom4':'v4_uom', '_m4':'v4_m', '_M4':'v4_M','uom5':'v5_uom', '_m5':'v5_m', '_M5':'v5_M',\n",
    "                'uom6':'v6_uom', '_m6':'v6_m', '_M6':'v6_M', 'uom7':'v7_uom', '_m7':'v7_m', '_M7':'v7_M', 'uom8':'v8_uom', '_m8':'v8_m', '_M8':'v8_M', 'uom9':'v9_uom', '_m9':'v9_m', '_M9':'v9_M',\n",
    "                'uom10':'v10_uom', '_m10':'v10_m', '_M10':'v10_M', 'uom11':'v11_uom', '_m11':'v11_m', '_M11':'v11_M', 'uom12':'v12_uom', '_m12':'v12_m', '_M12':'v12_M', 'uom13':'v13_uom', '_m13':'v13_m', '_M13':'v13_M',\n",
    "                'uom14':'v14_uom', '_m14':'v14_m', '_M14':'v14_M', 'uom15':'v15_uom', '_m15':'v15_m', '_M15':'v15_M', 'uom18':'v18_uom', '_m18':'v18_m', '_M18':'v18_M','uom21':'v21_uom', '_m21':'v21_m', '_M21':'v21_M',\n",
    "                'uom22':'v22_uom', '_m22':'v22_m', '_M22':'v22_M',  'uom23':'v23_uom', '_m23':'v23_m', '_M23':'v23_M', 'uom24':'v24_uom', '_m24':'v24_m', '_M24':'v24_M',  'uom25':'v25_uom', '_m25':'v25_m', '_M25':'v25_M',\n",
    "                'uom26':'v26_uom', '_m26':'v26_m', '_M26':'v26_M',  'uom27':'v27_uom', '_m27':'v27_m', '_M27':'v27_M', 'uom34':'v34_uom', '_m34':'v34_m', '_M34':'v34_M',  'uom35':'v35_uom', '_m35':'v35_m', '_M35':'v35_M',\n",
    "                'uom36':'v36_uom', '_m36':'v36_m', '_M36':'v36_M'}\n",
    "df.rename(columns=shorted_dict, inplace=True)\n",
    "df"
   ]
  },
  {
   "cell_type": "markdown",
   "metadata": {},
   "source": [
    "## 4. Numerise numerical columns\n",
    "In abn columns alot of values are considered NA (or missing) and are marked as such with a 'C'\n",
    "This step allows to replace these missing values with a more code-friendly solution. \n",
    "Some other columns are to complex to just iterate trough with weird values so these are then checked manually. "
   ]
  },
  {
   "cell_type": "code",
   "execution_count": 12,
   "metadata": {
    "pycharm": {
     "name": "#%%\n"
    }
   },
   "outputs": [],
   "source": [
    "#1 clear all abn data with NaN = 'C'\n",
    "abnstrings = [col for col in df.columns if 'abn' in col]\n",
    "for i in abnstrings:\n",
    "    if df[i].dtypes == object:\n",
    "        df[i] =  df[i].str.replace('C', 'NaN').astype(float)\n"
   ]
  },
  {
   "cell_type": "code",
   "execution_count": 13,
   "metadata": {
    "pycharm": {
     "name": "#%%\n"
    }
   },
   "outputs": [],
   "source": [
    "#lets find out what columns have to be cleaned manualy\n",
    "errorlist=[]\n",
    "for col in df.columns:\n",
    "    try :\n",
    "        df[col].astype(float)\n",
    "    except:\n",
    "        errorlist.append(col)\n",
    "#deleate the first 4, because the conditions are different there\n",
    "errorlist = errorlist[5:]\n",
    "#v16,37,38,39 have to be handeled differently\n",
    "unwanted = {'v16','v23','v24','v21','v27','v34','v35','v36','v37','v38','v39'}\n",
    "errorlist = [ele for ele in errorlist if ele not in unwanted]\n",
    "\n",
    "for i in errorlist:\n",
    "    df[i] = pd.to_numeric(df[i], errors='coerce')"
   ]
  },
  {
   "cell_type": "code",
   "execution_count": 14,
   "metadata": {
    "pycharm": {
     "name": "#%%\n"
    }
   },
   "outputs": [
    {
     "name": "stdout",
     "output_type": "stream",
     "text": [
      "123 columns sucessfully converted, 0 didn't convert\n"
     ]
    }
   ],
   "source": [
    "#testing the numerization\n",
    "countN = 0\n",
    "countP = 0\n",
    "for col in df.columns:\n",
    "    if df[col] is object:\n",
    "        countN+=1\n",
    "    else :\n",
    "        countP+=1\n",
    "print(countP, \"columns sucessfully converted,\", countN, \"didn't convert\")"
   ]
  },
  {
   "cell_type": "markdown",
   "metadata": {
    "pycharm": {
     "name": "#%% md\n"
    }
   },
   "source": [
    "### 4.1 Categorise factorial data"
   ]
  },
  {
   "cell_type": "code",
   "execution_count": 15,
   "metadata": {
    "pycharm": {
     "name": "#%%\n"
    }
   },
   "outputs": [
    {
     "data": {
      "text/plain": "0         Male\n1       Female\n2       Female\n3       Female\n4       Female\n         ...  \n1070      Male\n1071      Male\n1072    Female\n1073    Female\n1074      Male\nName: sex, Length: 1075, dtype: category\nCategories (2, object): ['Female', 'Male']"
     },
     "execution_count": 15,
     "metadata": {},
     "output_type": "execute_result"
    }
   ],
   "source": [
    "#make genders as values\n",
    "df['sex'].astype('category')"
   ]
  },
  {
   "cell_type": "code",
   "execution_count": 16,
   "metadata": {
    "pycharm": {
     "name": "#%%\n"
    }
   },
   "outputs": [
    {
     "data": {
      "text/plain": "0           anterior\n1       intermediate\n2                pan\n3           anterior\n4           anterior\n            ...     \n1070             pan\n1071    intermediate\n1072       posterior\n1073       posterior\n1074       posterior\nName: location, Length: 1075, dtype: category\nCategories (6, object): ['anterior', 'intermediate', 'pan', 'posterior', 'scleritis', 'unknown']"
     },
     "execution_count": 16,
     "metadata": {},
     "output_type": "execute_result"
    }
   ],
   "source": [
    "#make location as values\n",
    "df['location'] = df['location'].replace(np.nan, 'unknown', regex=True)\n",
    "df['location'] = df['location'].str.lower()\n",
    "df['location'] = df['location'].str.strip()\n",
    "df.loc[df['location'] == 'panuveitis', 'location'] = 'pan'\n",
    "df['location'].astype('category')"
   ]
  },
  {
   "cell_type": "code",
   "execution_count": 17,
   "metadata": {
    "pycharm": {
     "name": "#%%\n"
    }
   },
   "outputs": [
    {
     "data": {
      "text/plain": "0       nonneoplastic masquerade\n1                     idiopathic\n2                       systemic\n3                     idiopathic\n4                     idiopathic\n                  ...           \n1070                  infectious\n1071                  idiopathic\n1072                  infectious\n1073                         wds\n1074    nonneoplastic masquerade\nName: categorical, Length: 1075, dtype: category\nCategories (9, object): ['idiopathic', 'infectious', 'neoplastic masquerade', 'nonneoplastic masquerade', ..., 'scleritis', 'systemic', 'unknown', 'wds']"
     },
     "execution_count": 17,
     "metadata": {},
     "output_type": "execute_result"
    }
   ],
   "source": [
    "#make categorial as values\n",
    "df['categorical'] = df['categorical'].replace(np.nan, 'Unknown', regex=True)\n",
    "df['categorical'] = df['categorical'].str.lower()\n",
    "df['categorical'] = df['categorical'].str.strip()\n",
    "df['categorical'].astype('category')"
   ]
  },
  {
   "cell_type": "code",
   "execution_count": 18,
   "metadata": {
    "pycharm": {
     "name": "#%%\n"
    }
   },
   "outputs": [
    {
     "data": {
      "text/plain": "         sex      location               categorical          other  \\\n0       Male      anterior  nonneoplastic masquerade            NaN   \n1     Female  intermediate                idiopathic            NaN   \n2     Female           pan                  systemic            NaN   \n3     Female      anterior                idiopathic            NaN   \n4     Female      anterior                idiopathic            NaN   \n...      ...           ...                       ...            ...   \n1070    Male           pan                infectious  granulomatous   \n1071    Male  intermediate                idiopathic            NaN   \n1072  Female     posterior                infectious            NaN   \n1073  Female     posterior                       wds            NaN   \n1074    Male     posterior  nonneoplastic masquerade            NaN   \n\n                     diagnosis  ac_abn_od_cells  ac_abn_os_cells  \\\n0          idiopathic_anterior              0.0              0.0   \n1                pars_planitis              2.0              2.0   \n2                          vkh              0.5              0.5   \n3          idiopathic_anterior              0.0              0.0   \n4          idiopathic_anterior              0.0              0.0   \n...                        ...              ...              ...   \n1070              tuberculosis              0.0              0.0   \n1071             pars_planitis              0.0              1.0   \n1072             toxoplasmosis              0.0              0.0   \n1073                       wds              0.0              0.0   \n1074  nonneoplastic_masquerade              0.0              0.0   \n\n      abn_od_cells  abn_os_cells  abn_od_haze  ...  v35_uom  v35_m  v35_M  \\\n0              0.0           NaN          0.0  ...      NaN    NaN    NaN   \n1              2.0           2.0          NaN  ...      NaN    0.0    0.4   \n2              1.0           1.0          0.0  ...      NaN    NaN    NaN   \n3              0.0           0.0          0.0  ...      NaN    NaN    NaN   \n4              0.0           0.0          0.0  ...      NaN    NaN    NaN   \n...            ...           ...          ...  ...      ...    ...    ...   \n1070           0.0           0.0          0.0  ...      NaN    0.0    0.4   \n1071           0.0           2.0          0.0  ...      NaN    NaN    NaN   \n1072           0.0           1.0          0.0  ...      NaN    NaN    NaN   \n1073           0.0           0.0          0.0  ...      NaN    NaN    NaN   \n1074           0.0           0.0          0.0  ...      NaN    0.0   10.0   \n\n      v36  v36_uom  v36_m  v36_M       v37       v38       v39  \n0     <15      NaN    0.0   15.0  NEGATIVE  NEGATIVE  NEGATIVE  \n1     <10      NaN    0.0   13.0  NEGATIVE  NEGATIVE  NEGATIVE  \n2     <10      NaN    0.0   13.0  NEGATIVE  NEGATIVE  NEGATIVE  \n3     <15      NaN    0.0   15.0  NEGATIVE  NEGATIVE  NEGATIVE  \n4     <10      NaN    0.0   13.0  NEGATIVE  NEGATIVE  NEGATIVE  \n...   ...      ...    ...    ...       ...       ...       ...  \n1070  <15      NaN    0.0   15.0  NEGATIVE  NEGATIVE  NEGATIVE  \n1071  <15      NaN    0.0   15.0  NEGATIVE  NEGATIVE  NEGATIVE  \n1072  <15      NaN    0.0   15.0  NEGATIVE  NEGATIVE  NEGATIVE  \n1073  <15      NaN    0.0   15.0  NEGATIVE  NEGATIVE  NEGATIVE  \n1074  <15      NaN    0.0   15.0  NEGATIVE  NEGATIVE  NEGATIVE  \n\n[1075 rows x 123 columns]",
      "text/html": "<div>\n<style scoped>\n    .dataframe tbody tr th:only-of-type {\n        vertical-align: middle;\n    }\n\n    .dataframe tbody tr th {\n        vertical-align: top;\n    }\n\n    .dataframe thead th {\n        text-align: right;\n    }\n</style>\n<table border=\"1\" class=\"dataframe\">\n  <thead>\n    <tr style=\"text-align: right;\">\n      <th></th>\n      <th>sex</th>\n      <th>location</th>\n      <th>categorical</th>\n      <th>other</th>\n      <th>diagnosis</th>\n      <th>ac_abn_od_cells</th>\n      <th>ac_abn_os_cells</th>\n      <th>abn_od_cells</th>\n      <th>abn_os_cells</th>\n      <th>abn_od_haze</th>\n      <th>...</th>\n      <th>v35_uom</th>\n      <th>v35_m</th>\n      <th>v35_M</th>\n      <th>v36</th>\n      <th>v36_uom</th>\n      <th>v36_m</th>\n      <th>v36_M</th>\n      <th>v37</th>\n      <th>v38</th>\n      <th>v39</th>\n    </tr>\n  </thead>\n  <tbody>\n    <tr>\n      <th>0</th>\n      <td>Male</td>\n      <td>anterior</td>\n      <td>nonneoplastic masquerade</td>\n      <td>NaN</td>\n      <td>idiopathic_anterior</td>\n      <td>0.0</td>\n      <td>0.0</td>\n      <td>0.0</td>\n      <td>NaN</td>\n      <td>0.0</td>\n      <td>...</td>\n      <td>NaN</td>\n      <td>NaN</td>\n      <td>NaN</td>\n      <td>&lt;15</td>\n      <td>NaN</td>\n      <td>0.0</td>\n      <td>15.0</td>\n      <td>NEGATIVE</td>\n      <td>NEGATIVE</td>\n      <td>NEGATIVE</td>\n    </tr>\n    <tr>\n      <th>1</th>\n      <td>Female</td>\n      <td>intermediate</td>\n      <td>idiopathic</td>\n      <td>NaN</td>\n      <td>pars_planitis</td>\n      <td>2.0</td>\n      <td>2.0</td>\n      <td>2.0</td>\n      <td>2.0</td>\n      <td>NaN</td>\n      <td>...</td>\n      <td>NaN</td>\n      <td>0.0</td>\n      <td>0.4</td>\n      <td>&lt;10</td>\n      <td>NaN</td>\n      <td>0.0</td>\n      <td>13.0</td>\n      <td>NEGATIVE</td>\n      <td>NEGATIVE</td>\n      <td>NEGATIVE</td>\n    </tr>\n    <tr>\n      <th>2</th>\n      <td>Female</td>\n      <td>pan</td>\n      <td>systemic</td>\n      <td>NaN</td>\n      <td>vkh</td>\n      <td>0.5</td>\n      <td>0.5</td>\n      <td>1.0</td>\n      <td>1.0</td>\n      <td>0.0</td>\n      <td>...</td>\n      <td>NaN</td>\n      <td>NaN</td>\n      <td>NaN</td>\n      <td>&lt;10</td>\n      <td>NaN</td>\n      <td>0.0</td>\n      <td>13.0</td>\n      <td>NEGATIVE</td>\n      <td>NEGATIVE</td>\n      <td>NEGATIVE</td>\n    </tr>\n    <tr>\n      <th>3</th>\n      <td>Female</td>\n      <td>anterior</td>\n      <td>idiopathic</td>\n      <td>NaN</td>\n      <td>idiopathic_anterior</td>\n      <td>0.0</td>\n      <td>0.0</td>\n      <td>0.0</td>\n      <td>0.0</td>\n      <td>0.0</td>\n      <td>...</td>\n      <td>NaN</td>\n      <td>NaN</td>\n      <td>NaN</td>\n      <td>&lt;15</td>\n      <td>NaN</td>\n      <td>0.0</td>\n      <td>15.0</td>\n      <td>NEGATIVE</td>\n      <td>NEGATIVE</td>\n      <td>NEGATIVE</td>\n    </tr>\n    <tr>\n      <th>4</th>\n      <td>Female</td>\n      <td>anterior</td>\n      <td>idiopathic</td>\n      <td>NaN</td>\n      <td>idiopathic_anterior</td>\n      <td>0.0</td>\n      <td>0.0</td>\n      <td>0.0</td>\n      <td>0.0</td>\n      <td>0.0</td>\n      <td>...</td>\n      <td>NaN</td>\n      <td>NaN</td>\n      <td>NaN</td>\n      <td>&lt;10</td>\n      <td>NaN</td>\n      <td>0.0</td>\n      <td>13.0</td>\n      <td>NEGATIVE</td>\n      <td>NEGATIVE</td>\n      <td>NEGATIVE</td>\n    </tr>\n    <tr>\n      <th>...</th>\n      <td>...</td>\n      <td>...</td>\n      <td>...</td>\n      <td>...</td>\n      <td>...</td>\n      <td>...</td>\n      <td>...</td>\n      <td>...</td>\n      <td>...</td>\n      <td>...</td>\n      <td>...</td>\n      <td>...</td>\n      <td>...</td>\n      <td>...</td>\n      <td>...</td>\n      <td>...</td>\n      <td>...</td>\n      <td>...</td>\n      <td>...</td>\n      <td>...</td>\n      <td>...</td>\n    </tr>\n    <tr>\n      <th>1070</th>\n      <td>Male</td>\n      <td>pan</td>\n      <td>infectious</td>\n      <td>granulomatous</td>\n      <td>tuberculosis</td>\n      <td>0.0</td>\n      <td>0.0</td>\n      <td>0.0</td>\n      <td>0.0</td>\n      <td>0.0</td>\n      <td>...</td>\n      <td>NaN</td>\n      <td>0.0</td>\n      <td>0.4</td>\n      <td>&lt;15</td>\n      <td>NaN</td>\n      <td>0.0</td>\n      <td>15.0</td>\n      <td>NEGATIVE</td>\n      <td>NEGATIVE</td>\n      <td>NEGATIVE</td>\n    </tr>\n    <tr>\n      <th>1071</th>\n      <td>Male</td>\n      <td>intermediate</td>\n      <td>idiopathic</td>\n      <td>NaN</td>\n      <td>pars_planitis</td>\n      <td>0.0</td>\n      <td>1.0</td>\n      <td>0.0</td>\n      <td>2.0</td>\n      <td>0.0</td>\n      <td>...</td>\n      <td>NaN</td>\n      <td>NaN</td>\n      <td>NaN</td>\n      <td>&lt;15</td>\n      <td>NaN</td>\n      <td>0.0</td>\n      <td>15.0</td>\n      <td>NEGATIVE</td>\n      <td>NEGATIVE</td>\n      <td>NEGATIVE</td>\n    </tr>\n    <tr>\n      <th>1072</th>\n      <td>Female</td>\n      <td>posterior</td>\n      <td>infectious</td>\n      <td>NaN</td>\n      <td>toxoplasmosis</td>\n      <td>0.0</td>\n      <td>0.0</td>\n      <td>0.0</td>\n      <td>1.0</td>\n      <td>0.0</td>\n      <td>...</td>\n      <td>NaN</td>\n      <td>NaN</td>\n      <td>NaN</td>\n      <td>&lt;15</td>\n      <td>NaN</td>\n      <td>0.0</td>\n      <td>15.0</td>\n      <td>NEGATIVE</td>\n      <td>NEGATIVE</td>\n      <td>NEGATIVE</td>\n    </tr>\n    <tr>\n      <th>1073</th>\n      <td>Female</td>\n      <td>posterior</td>\n      <td>wds</td>\n      <td>NaN</td>\n      <td>wds</td>\n      <td>0.0</td>\n      <td>0.0</td>\n      <td>0.0</td>\n      <td>0.0</td>\n      <td>0.0</td>\n      <td>...</td>\n      <td>NaN</td>\n      <td>NaN</td>\n      <td>NaN</td>\n      <td>&lt;15</td>\n      <td>NaN</td>\n      <td>0.0</td>\n      <td>15.0</td>\n      <td>NEGATIVE</td>\n      <td>NEGATIVE</td>\n      <td>NEGATIVE</td>\n    </tr>\n    <tr>\n      <th>1074</th>\n      <td>Male</td>\n      <td>posterior</td>\n      <td>nonneoplastic masquerade</td>\n      <td>NaN</td>\n      <td>nonneoplastic_masquerade</td>\n      <td>0.0</td>\n      <td>0.0</td>\n      <td>0.0</td>\n      <td>0.0</td>\n      <td>0.0</td>\n      <td>...</td>\n      <td>NaN</td>\n      <td>0.0</td>\n      <td>10.0</td>\n      <td>&lt;15</td>\n      <td>NaN</td>\n      <td>0.0</td>\n      <td>15.0</td>\n      <td>NEGATIVE</td>\n      <td>NEGATIVE</td>\n      <td>NEGATIVE</td>\n    </tr>\n  </tbody>\n</table>\n<p>1075 rows × 123 columns</p>\n</div>"
     },
     "execution_count": 18,
     "metadata": {},
     "output_type": "execute_result"
    }
   ],
   "source": [
    "#distint all redundant values of diagnosis\n",
    "df['diagnosis'] = df['diagnosis'].replace(np.nan, 'unknown', regex=True)\n",
    "df['diagnosis'] = df['diagnosis'].str.lower()\n",
    "df['diagnosis'] = df['diagnosis'].str.strip()\n",
    "df['diagnosis'] = df['diagnosis'].str.replace(' ', '_')\n",
    "df['diagnosis'].astype('category')\n",
    "#dialist = df['diagnosis'].unique().tolist()\n",
    "#for i in range(len(dialist)):\n",
    "    #df.loc[df['diagnosis'] == dialist[i], 'diagnosis'] = i\n",
    "df"
   ]
  },
  {
   "cell_type": "markdown",
   "metadata": {
    "pycharm": {
     "name": "#%% md\n"
    }
   },
   "source": [
    "## investigationg diagnosis"
   ]
  },
  {
   "cell_type": "code",
   "execution_count": 19,
   "metadata": {},
   "outputs": [
    {
     "name": "stdout",
     "output_type": "stream",
     "text": [
      "27 unique items are in the list\n"
     ]
    },
    {
     "data": {
      "text/plain": "['idiopathic_anterior',\n 'pars_planitis',\n 'vkh',\n 'nonneoplastic_masquerade',\n 'idiopathic_panuveitis',\n 'presumed_sarcoidosis',\n 'tuberculosis',\n 'toxocariasis',\n 'rheumatologic',\n 'wds',\n 'idiopathic_scleritis',\n 'behcet',\n 'idiopathic_posterior',\n 'viral',\n 'bcr',\n 'syphilis',\n 'bartonella',\n 'toxoplasmosis',\n 'neoplastic_masquerade',\n 'bx_proven_sarcoidosis',\n 'multiple_sclerosis',\n 'hla_b27',\n 'jia',\n 'tinu',\n 'lyme',\n 'not_uveitis',\n 'zika']"
     },
     "execution_count": 19,
     "metadata": {},
     "output_type": "execute_result"
    }
   ],
   "source": [
    "print(len(df['diagnosis'].unique().tolist()),\"unique items are in the list\")\n",
    "df['diagnosis'].unique().tolist()"
   ]
  },
  {
   "cell_type": "code",
   "execution_count": 20,
   "metadata": {
    "pycharm": {
     "name": "#%%\n"
    }
   },
   "outputs": [
    {
     "data": {
      "text/plain": "<AxesSubplot:>"
     },
     "execution_count": 20,
     "metadata": {},
     "output_type": "execute_result"
    },
    {
     "data": {
      "text/plain": "<Figure size 432x288 with 1 Axes>",
      "image/png": "[encoded data removed]"
     },
     "metadata": {
      "needs_background": "light"
     },
     "output_type": "display_data"
    }
   ],
   "source": [
    "df.diagnosis.hist()"
   ]
  },
  {
   "cell_type": "code",
   "execution_count": 21,
   "metadata": {},
   "outputs": [
    {
     "data": {
      "text/plain": "idiopathic_anterior         169\npars_planitis               145\nnonneoplastic_masquerade    115\nidiopathic_panuveitis       107\nwds                          92\nidiopathic_posterior         58\nidiopathic_scleritis         57\nvkh                          45\ntoxoplasmosis                34\npresumed_sarcoidosis         33\nbcr                          32\nbx_proven_sarcoidosis        26\nviral                        25\nrheumatologic                24\nhla_b27                      21\nneoplastic_masquerade        21\nbehcet                       19\ntuberculosis                 13\nmultiple_sclerosis           12\nsyphilis                     10\njia                           6\nbartonella                    4\ntinu                          2\ntoxocariasis                  2\nnot_uveitis                   1\nzika                          1\nlyme                          1\nName: diagnosis, dtype: int64"
     },
     "execution_count": 21,
     "metadata": {},
     "output_type": "execute_result"
    }
   ],
   "source": [
    "df.diagnosis.value_counts()"
   ]
  },
  {
   "cell_type": "markdown",
   "metadata": {
    "pycharm": {
     "name": "#%% md\n"
    }
   },
   "source": [
    "# 4.3 One Hote Encoding the other column\n",
    "The \"Other\" column represents precondidional illnesses and are listed in combinations of them:\n",
    "The illnesses are :\n",
    "\n",
    "The numbers are already given to the combinations of the illneses. The goal is to make a table with 0 and 1 where\n",
    "illnesses can be interpreted as combinations of illnesses and conditions.\n",
    "\n",
    "\n",
    "- the point 2 and 3 has to be the same. so i have to rewrite the code there\n",
    "- the maximum of different illnesses are 3\n",
    "- there is one false row value with \";\""
   ]
  },
  {
   "cell_type": "code",
   "execution_count": 22,
   "metadata": {
    "pycharm": {
     "name": "#%%\n"
    }
   },
   "outputs": [
    {
     "data": {
      "text/plain": "['nan', 'rv', 'cme', 'pars planitis']"
     },
     "execution_count": 22,
     "metadata": {},
     "output_type": "execute_result"
    }
   ],
   "source": [
    "df['other'] = df['other'].replace(np.nan, 'nan', regex=True)\n",
    "df['other'] = df['other'].str.lower()\n",
    "df['other'] = df['other'].str.strip()\n",
    "df[['O_1', 'O_2']] = df['other'].str.split(\",|;\",expand=True)\n",
    "df['O_2'] = df['O_2'].replace(np.nan, 'nan', regex=True)\n",
    "df['O_2'] = df['O_2'].str.strip()\n",
    "df.loc[df['O_1'] == 'cr granuloma', 'O_1'] = 'granulomatous'\n",
    "df.loc[df['O_1'] == 'choroidal granuloma', 'O_1'] = 'granulomatous'\n",
    "\n",
    "otherlist1 = df['O_1'].unique().tolist()\n",
    "otherlist2 = df['O_2'].unique().tolist()\n",
    "otherlist1[3], otherlist1[6] = otherlist1[6], otherlist1[3]\n",
    "for i in range(len(otherlist1)):\n",
    "    df.loc[df['O_1'] == otherlist1[i], 'O_1'] = i\n",
    "for i in range(len(otherlist2)):\n",
    "    df.loc[df['O_2'] == otherlist2[i], 'O_2'] = i\n",
    "dfotherlegend = pd.DataFrame(otherlist1, columns=['other'])"
   ]
  },
  {
   "cell_type": "code",
   "execution_count": 23,
   "metadata": {
    "pycharm": {
     "name": "#%%\n"
    }
   },
   "outputs": [
    {
     "name": "stdout",
     "output_type": "stream",
     "text": [
      "      o_0  o_1  o_2  o_3  o_4  o_5  o_6\n",
      "0       1    0    0    0    0    0    0\n",
      "1       1    0    0    0    0    0    0\n",
      "2       1    0    0    0    0    0    0\n",
      "3       1    0    0    0    0    0    0\n",
      "4       1    0    0    0    0    0    0\n",
      "...   ...  ...  ...  ...  ...  ...  ...\n",
      "1070    0    0    0    0    0    0    1\n",
      "1071    1    0    0    0    0    0    0\n",
      "1072    1    0    0    0    0    0    0\n",
      "1073    1    0    0    0    0    0    0\n",
      "1074    1    0    0    0    0    0    0\n",
      "\n",
      "[1075 rows x 7 columns]       o_0  o_1  o_2  o_3\n",
      "0       1    0    0    0\n",
      "1       1    0    0    0\n",
      "2       1    0    0    0\n",
      "3       1    0    0    0\n",
      "4       1    0    0    0\n",
      "...   ...  ...  ...  ...\n",
      "1070    1    0    0    0\n",
      "1071    1    0    0    0\n",
      "1072    1    0    0    0\n",
      "1073    1    0    0    0\n",
      "1074    1    0    0    0\n",
      "\n",
      "[1075 rows x 4 columns]\n"
     ]
    }
   ],
   "source": [
    "#fist make one hot encoding with pandas.get_dummies\n",
    "y1 = pd.get_dummies(df.O_1, prefix='o')\n",
    "y2 = pd.get_dummies(df.O_2, prefix='o')\n",
    "print(y1,y2)\n",
    "#making the tables the same size\n",
    "y2['O_4']=0\n",
    "y2['O_5']=0\n",
    "y2['O_6']=0\n",
    "na1 = y1.to_numpy()\n",
    "na2 = y2.to_numpy()\n",
    "#the nan value is 1 on both arrys, that makes no sense, so i will put it on 0 for the second array.\n",
    "na2[:, 0] =  0\n",
    "#now lets just make matrix addition to layer it together\n",
    "result = na1 +na2\n",
    "#convert it back into a panda dataframe\n",
    "dfother = pd.DataFrame(result)\n",
    "#lets rename the columns\n",
    "dfother = dfother.rename(columns={0: \"o_0\", 1: \"o_1\",  2: \"o_2\", 3: \"o_3\", 4: \"o_4\", 5: \"o_5\", 6: \"o_6\"})\n",
    "#now merge the two dataframes\n",
    "df = pd.concat([df, dfother], axis=1)\n",
    "#and delete the other column, and the origins O_1 and O_2\n",
    "df = df.drop(columns=['other','O_1','O_2','o_0'])"
   ]
  },
  {
   "cell_type": "markdown",
   "metadata": {
    "pycharm": {
     "name": "#%% md\n"
    }
   },
   "source": [
    "## 5. Ranges and there values\n",
    "\n",
    "The ranges represent the healty value of a human. They are different because they were tested in different laberatories.\n",
    "So it is not a acceptable values itself. We follow the strategy of categorising the actual value with the range and give it a ranking.\n",
    "The ranges have to be handled differenty so we start with the values 1-16 who are all the same"
   ]
  },
  {
   "cell_type": "code",
   "execution_count": 24,
   "metadata": {
    "pycharm": {
     "name": "#%%\n"
    }
   },
   "outputs": [],
   "source": [
    "#make a function to get a list with the assosiated columns\n",
    "def vrString(m,M) :\n",
    "    vlist = []\n",
    "    for i in range(m,M+1):\n",
    "        v = \"v\"+str(i)\n",
    "        vMin = \"v\"+str(i)+\"_m\"\n",
    "        vMax = \"v\"+str(i)+\"_M\"\n",
    "        vtlist = [v,vMin,vMax]\n",
    "        vlist.append(vtlist)\n",
    "    return vlist\n",
    "\n"
   ]
  },
  {
   "cell_type": "markdown",
   "metadata": {
    "pycharm": {
     "name": "#%% md\n"
    }
   },
   "source": [
    "### 5.1 Different ranges \n"
   ]
  },
  {
   "cell_type": "code",
   "execution_count": 25,
   "metadata": {
    "pycharm": {
     "name": "#%%\n"
    }
   },
   "outputs": [],
   "source": [
    "### values 1-15\n",
    "rangelist = vrString(0,15)\n",
    "# Lupus Anticoagulant (v16)\n",
    "df.v16.unique()\n",
    "# v17 does not  exist\n",
    "#Lysozyme, Plasma (v18)\n",
    "rangelist.append(vrString(18,18)[0])\n",
    "# v20 does not  exist\n",
    "# v22 does have only 4 values = column will be dropped out\n",
    "df = df.drop(columns=['v22','v22_m','v22_M'])\n",
    "# v23 and 24 are only caped to the top\n",
    "rangelist0 = vrString(23,24)\n",
    "# v21\n",
    "rangelist0.append(vrString(21,21)[0])\n",
    "# v25 v26\n",
    "rangelist.append(vrString(25,25)[0])\n",
    "rangelist.append(vrString(26,26)[0])\n",
    "# v27 is only caped to the top\n",
    "rangelist0.append(vrString(27,27)[0])\n",
    "# v34 35 v36 are only caped to the top\n",
    "rangelist0.append(vrString(34,34)[0])\n",
    "rangelist0.append(vrString(35,35)[0])\n",
    "rangelist0.append(vrString(36,36)[0])\n",
    "# v37 38 and 39 need a special treatment\n",
    "#- They have no range\n",
    "#- they either reactive/repeate reactive ore negative\n",
    "#- the rest is nan\n",
    "rangelist1 = vrString(37,38)"
   ]
  },
  {
   "cell_type": "markdown",
   "metadata": {
    "pycharm": {
     "name": "#%% md\n"
    }
   },
   "source": [
    "#### 5.3 Standatisise all values"
   ]
  },
  {
   "cell_type": "code",
   "execution_count": 26,
   "metadata": {
    "pycharm": {
     "name": "#%%\n"
    }
   },
   "outputs": [
    {
     "data": {
      "text/plain": "[['v0', 'v0_m', 'v0_M'],\n ['v1', 'v1_m', 'v1_M'],\n ['v2', 'v2_m', 'v2_M'],\n ['v3', 'v3_m', 'v3_M'],\n ['v4', 'v4_m', 'v4_M'],\n ['v5', 'v5_m', 'v5_M'],\n ['v6', 'v6_m', 'v6_M'],\n ['v7', 'v7_m', 'v7_M'],\n ['v8', 'v8_m', 'v8_M'],\n ['v9', 'v9_m', 'v9_M'],\n ['v10', 'v10_m', 'v10_M'],\n ['v11', 'v11_m', 'v11_M'],\n ['v12', 'v12_m', 'v12_M'],\n ['v13', 'v13_m', 'v13_M'],\n ['v14', 'v14_m', 'v14_M'],\n ['v15', 'v15_m', 'v15_M'],\n ['v18', 'v18_m', 'v18_M'],\n ['v25', 'v25_m', 'v25_M'],\n ['v26', 'v26_m', 'v26_M'],\n ['v23', 'v23_m', 'v23_M'],\n ['v24', 'v24_m', 'v24_M'],\n ['v21', 'v21_m', 'v21_M'],\n ['v27', 'v27_m', 'v27_M'],\n ['v34', 'v34_m', 'v34_M'],\n ['v35', 'v35_m', 'v35_M'],\n ['v36', 'v36_m', 'v36_M']]"
     },
     "execution_count": 26,
     "metadata": {},
     "output_type": "execute_result"
    }
   ],
   "source": [
    "#because we are using a method who is capable to hadle the needs of rangelist and ranglist0 we can just combine them \n",
    "rangelist = rangelist + rangelist0\n",
    "rangelist"
   ]
  },
  {
   "cell_type": "code",
   "execution_count": 27,
   "metadata": {
    "pycharm": {
     "name": "#%%\n"
    }
   },
   "outputs": [],
   "source": [
    "for i in range(len(rangelist)):\n",
    "    j = 0\n",
    "    df[rangelist[i][j]] = df[rangelist[i][j]].astype(str).str.replace('<','')\n",
    "    df[rangelist[i][j]] = df[rangelist[i][j]].astype(str).str.replace('>','')\n",
    "    df[rangelist[i][j]] = df[rangelist[i][j]].astype(str).str.replace('=','')\n",
    "    df[rangelist[i][j]] = df[rangelist[i][j]].replace(np.nan, 'nan', regex=True)\n",
    "    df.loc[df[rangelist[i][j]] == 'neg', rangelist[i][j]] = 0.5\n",
    "    df.loc[df[rangelist[i][j]] == 'NEG', rangelist[i][j]] = 0.5\n",
    "    df.loc[df[rangelist[i][j]] == 'NEGATIVE', rangelist[i][j]] = 0.5\n",
    "    df.loc[df[rangelist[i][j]] == 'see note | In-house test down.  Test re-ordered and sent to Referral L', rangelist[i][j]] = np.nan\n",
    "    df.loc[df[rangelist[i][j]] == 'SEE BELOW | RF10  IU/mL Test run on Siemens BN II (formerly Dade Beh', rangelist[i][j]] = np.nan\n",
    "    df.loc[(df[rangelist[i][j]]=='-----' ), rangelist[i][j]]= np.nan\n",
    "    df.loc[(df[rangelist[i][j]]=='cancelled' ), rangelist[i][j]]= np.nan\n",
    "    df[rangelist[i][j]]= df[rangelist[i][j]].astype(float)\n",
    "    df[rangelist[i][j+1]]= df[rangelist[i][j+1]].astype(float)\n",
    "    df[rangelist[i][j+2]]= df[rangelist[i][j+2]].astype(float)\n",
    "    df[rangelist[i][j]]= (df[rangelist[i][j]]-df[rangelist[i][j+1]])/(df[rangelist[i][j+2]]-df[rangelist[i][j+1]])\n",
    "\n",
    "#"
   ]
  },
  {
   "cell_type": "markdown",
   "metadata": {
    "pycharm": {
     "name": "#%% md\n"
    }
   },
   "source": [
    "#### 5.4 Handeling the Rest "
   ]
  },
  {
   "cell_type": "code",
   "execution_count": 28,
   "metadata": {
    "pycharm": {
     "name": "#%%\n"
    }
   },
   "outputs": [
    {
     "data": {
      "text/plain": "0            NaN\n1            NaN\n2            NaN\n3            NaN\n4            NaN\n          ...   \n1070    negative\n1071         NaN\n1072         NaN\n1073    negative\n1074    negative\nName: v16, Length: 1075, dtype: category\nCategories (2, object): ['negative', 'positive']"
     },
     "execution_count": 28,
     "metadata": {},
     "output_type": "execute_result"
    }
   ],
   "source": [
    "#v16\n",
    "df['v16'] = df['v16'].replace(np.nan, 'nan', regex=True)\n",
    "v16list = df.v16.unique().tolist()\n",
    "v16listNan = [ x for x in v16list if \"NEGATIVE\" not in x ]\n",
    "v16listNan = [ x for x in v16listNan if \"POSITIVE\" not in x ]\n",
    "for i in range(len(v16listNan)):\n",
    "    df.loc[df['v16'] == v16listNan[i], 'v16'] = np.nan\n",
    "df.loc[df['v16'] == 'NEGATIVE|see below | Duplicate order. Test not performed. Request canc', 'v16'] = 'negative'\n",
    "df['v16'] = df['v16'].str.lower()\n",
    "df['v16'].astype('category')"
   ]
  },
  {
   "cell_type": "code",
   "execution_count": 29,
   "metadata": {
    "pycharm": {
     "name": "#%%\n"
    }
   },
   "outputs": [],
   "source": [
    "#v37\n",
    "df.loc[df['v37'] == 'NEGATIVE', 'v37'] = 0\n",
    "df.loc[df['v37'] == 'REACTIVE', 'v37'] = 1\n",
    "df.loc[df['v37'] == 'REPEAT REACTIVE', 'v37'] = 1\n",
    "df.loc[df['v37'] == 'INVALID RESULT', 'v37'] = np.nan\n",
    "\n",
    "#v38\n",
    "df.loc[df['v38'] == 'NEGATIVE', 'v38'] = 0\n",
    "df.loc[df['v38'] == 'see note | POSITIVE RESULT S/CO ratio is >5.0.  Confirmatory testing i', 'v38'] = 1\n",
    "df.loc[df['v38'] == 'see below | POSITIVE RESULT S/CO ratio is >5.0.  Confirmatory testing ', 'v38'] = 1\n",
    "df.loc[df['v38'] == 'INVALID RESULT', 'v38'] = np.nan\n",
    "df.loc[df['v38'] == 'NOTE:', 'v38'] = np.nan\n",
    "\n",
    "#v39\n",
    "df.loc[df['v39'] == 'NEGATIVE', 'v39'] = 0\n",
    "df.loc[df['v39'] == 'REACTIVE', 'v39'] = 1\n",
    "df.loc[df['v39'] == 'INVALID RESULT', 'v39'] = np.nan"
   ]
  },
  {
   "cell_type": "markdown",
   "metadata": {
    "pycharm": {
     "name": "#%% md\n"
    }
   },
   "source": [
    "## 7. Finish Numbersmatrix\n",
    "For calculculating with machine learning tools it is very important, that the values are numbers not\n",
    "Strings. After the whole calculation we drop all information who is not needed.\n",
    "- the ranges\n",
    "    - the min and max\n",
    "- the uom's"
   ]
  },
  {
   "cell_type": "code",
   "execution_count": 30,
   "metadata": {
    "pycharm": {
     "name": "#%%\n"
    }
   },
   "outputs": [],
   "source": [
    "droplist = [col for col in df.columns if 'm' in col]\n",
    "droplist1 = [ x for x in df.columns if \"M\" in x ]\n",
    "droplistX = droplist + droplist1\n",
    "df = df.drop(columns=droplistX)"
   ]
  },
  {
   "cell_type": "code",
   "execution_count": 31,
   "metadata": {
    "pycharm": {
     "name": "#%%\n"
    }
   },
   "outputs": [
    {
     "data": {
      "text/plain": "[['v23', 'v23_m', 'v23_M'],\n ['v24', 'v24_m', 'v24_M'],\n ['v21', 'v21_m', 'v21_M'],\n ['v27', 'v27_m', 'v27_M'],\n ['v34', 'v34_m', 'v34_M'],\n ['v35', 'v35_m', 'v35_M'],\n ['v36', 'v36_m', 'v36_M']]"
     },
     "execution_count": 31,
     "metadata": {},
     "output_type": "execute_result"
    }
   ],
   "source": [
    "#v21,v35,v36\n",
    "df.v2.unique()\n",
    "rangelist0"
   ]
  },
  {
   "cell_type": "markdown",
   "metadata": {
    "pycharm": {
     "name": "#%% md\n"
    }
   },
   "source": [
    "### dropping scleritis and not_uveitis\n",
    "- these values are only occures one time"
   ]
  },
  {
   "cell_type": "code",
   "execution_count": 32,
   "metadata": {
    "pycharm": {
     "name": "#%%\n"
    }
   },
   "outputs": [],
   "source": [
    "dfClean = df[~df.categorical.isin(['not_uveitis','scleritis','unknown'])]"
   ]
  },
  {
   "cell_type": "code",
   "execution_count": 33,
   "metadata": {
    "pycharm": {
     "name": "#%%\n"
    }
   },
   "outputs": [
    {
     "data": {
      "text/plain": "idiopathic                  531\nsystemic                    191\nwds                         124\nnonneoplastic masquerade    117\ninfectious                   87\nneoplastic masquerade        22\nName: categorical, dtype: int64"
     },
     "execution_count": 33,
     "metadata": {},
     "output_type": "execute_result"
    }
   ],
   "source": [
    "dfClean['categorical'].value_counts()"
   ]
  },
  {
   "cell_type": "markdown",
   "metadata": {
    "pycharm": {
     "name": "#%% md\n"
    }
   },
   "source": [
    "# train test split\n",
    "- stratify with stratify parameter"
   ]
  },
  {
   "cell_type": "code",
   "execution_count": 34,
   "metadata": {
    "pycharm": {
     "name": "#%%\n"
    }
   },
   "outputs": [],
   "source": [
    "from sklearn.preprocessing import LabelEncoder\n",
    "dfClean = dfClean.fillna(dfClean.mean())\n",
    "#dropping all categorical values and\n",
    "dfX = dfClean.drop(columns=['categorical','diagnosis','sex','v16','v37','v38','v39'])\n",
    "dfy = dfClean['categorical']\n",
    "X = dfX.values\n",
    "y = dfy.values\n",
    "yy = LabelEncoder().fit_transform(y)\n",
    "\n",
    "from sklearn.model_selection import train_test_split\n",
    "X_train, X_test, y_train, y_test = train_test_split(X, yy,\n",
    "                                                    stratify=yy,\n",
    "                                                    test_size=0.2)"
   ]
  },
  {
   "cell_type": "markdown",
   "metadata": {},
   "source": [
    "0. idiopathic\n",
    "1. Infectious\n",
    "2. Neo Masq\n",
    "3. Nonneo Masq\n",
    "4. systemic\n",
    "5. wds\n"
   ]
  },
  {
   "cell_type": "code",
   "execution_count": 35,
   "metadata": {
    "pycharm": {
     "name": "#%%\n"
    }
   },
   "outputs": [
    {
     "name": "stdout",
     "output_type": "stream",
     "text": [
      "0    424\n",
      "4    153\n",
      "5     99\n",
      "3     93\n",
      "1     70\n",
      "2     18\n",
      "dtype: int64\n"
     ]
    },
    {
     "data": {
      "text/plain": "array([[<AxesSubplot:title={'center':'0'}>]], dtype=object)"
     },
     "execution_count": 35,
     "metadata": {},
     "output_type": "execute_result"
    },
    {
     "data": {
      "text/plain": "<Figure size 432x288 with 1 Axes>",
      "image/png": "[encoded data removed]"
     },
     "metadata": {
      "needs_background": "light"
     },
     "output_type": "display_data"
    }
   ],
   "source": [
    "dfXtrain = pd.DataFrame(X_train)\n",
    "dfytrain = pd.DataFrame(y_train)\n",
    "print(dfytrain.value_counts())\n",
    "dfytrain.hist()"
   ]
  },
  {
   "cell_type": "code",
   "execution_count": 36,
   "metadata": {},
   "outputs": [
    {
     "name": "stdout",
     "output_type": "stream",
     "text": [
      "0    107\n",
      "4     38\n",
      "5     25\n",
      "3     24\n",
      "1     17\n",
      "2      4\n",
      "dtype: int64\n"
     ]
    },
    {
     "data": {
      "text/plain": "array([[<AxesSubplot:title={'center':'0'}>]], dtype=object)"
     },
     "execution_count": 36,
     "metadata": {},
     "output_type": "execute_result"
    },
    {
     "data": {
      "text/plain": "<Figure size 432x288 with 1 Axes>",
      "image/png": "[encoded data removed]"
     },
     "metadata": {
      "needs_background": "light"
     },
     "output_type": "display_data"
    }
   ],
   "source": [
    "dfXtest = pd.DataFrame(X_test)\n",
    "dfytest = pd.DataFrame(y_test)\n",
    "print(dfytest.value_counts())\n",
    "dfytest.hist()\n"
   ]
  },
  {
   "cell_type": "markdown",
   "metadata": {
    "pycharm": {
     "name": "#%% md\n"
    }
   },
   "source": [
    "# oversampling"
   ]
  },
  {
   "cell_type": "code",
   "execution_count": 37,
   "metadata": {
    "pycharm": {
     "name": "#%%\n"
    }
   },
   "outputs": [
    {
     "data": {
      "text/plain": "['posterior', 'intermediate', 'pan', 'anterior', 'scleritis', 'unknown']"
     },
     "execution_count": 37,
     "metadata": {},
     "output_type": "execute_result"
    }
   ],
   "source": [
    "#get rid of categorical values\n",
    "loclist = dfXtrain[0].unique().tolist()\n",
    "for i in range(len(loclist)):\n",
    "    dfXtrain.loc[dfXtrain[0] == loclist[i], 0] = i\n",
    "loclist"
   ]
  },
  {
   "cell_type": "code",
   "execution_count": 38,
   "metadata": {
    "pycharm": {
     "name": "#%%\n"
    }
   },
   "outputs": [
    {
     "name": "stdout",
     "output_type": "stream",
     "text": [
      "<class 'pandas.core.frame.DataFrame'>\n",
      "RangeIndex: 857 entries, 0 to 856\n",
      "Data columns (total 39 columns):\n",
      " #   Column  Non-Null Count  Dtype  \n",
      "---  ------  --------------  -----  \n",
      " 0   0       857 non-null    float64\n",
      " 1   1       857 non-null    float64\n",
      " 2   2       857 non-null    float64\n",
      " 3   3       857 non-null    float64\n",
      " 4   4       857 non-null    float64\n",
      " 5   5       857 non-null    float64\n",
      " 6   6       857 non-null    float64\n",
      " 7   7       857 non-null    float64\n",
      " 8   8       857 non-null    float64\n",
      " 9   9       857 non-null    float64\n",
      " 10  10      857 non-null    float64\n",
      " 11  11      857 non-null    float64\n",
      " 12  12      857 non-null    float64\n",
      " 13  13      857 non-null    float64\n",
      " 14  14      857 non-null    float64\n",
      " 15  15      857 non-null    float64\n",
      " 16  16      857 non-null    float64\n",
      " 17  17      857 non-null    float64\n",
      " 18  18      857 non-null    float64\n",
      " 19  19      857 non-null    float64\n",
      " 20  20      857 non-null    float64\n",
      " 21  21      857 non-null    float64\n",
      " 22  22      857 non-null    float64\n",
      " 23  23      857 non-null    float64\n",
      " 24  24      857 non-null    float64\n",
      " 25  25      857 non-null    float64\n",
      " 26  26      857 non-null    float64\n",
      " 27  27      857 non-null    float64\n",
      " 28  28      857 non-null    float64\n",
      " 29  29      857 non-null    float64\n",
      " 30  30      857 non-null    float64\n",
      " 31  31      857 non-null    float64\n",
      " 32  32      857 non-null    float64\n",
      " 33  33      857 non-null    float64\n",
      " 34  34      857 non-null    float64\n",
      " 35  35      857 non-null    float64\n",
      " 36  36      857 non-null    float64\n",
      " 37  37      857 non-null    float64\n",
      " 38  38      857 non-null    float64\n",
      "dtypes: float64(39)\n",
      "memory usage: 261.2 KB\n"
     ]
    }
   ],
   "source": [
    "#converte all categorical values\n",
    "for i in dfXtrain.columns.tolist():\n",
    "    try: \n",
    "        dfXtrain[i] = dfXtrain[i].astype('float')\n",
    "    except :\n",
    "        dfXtrain[i] = dfXtrain[i].astype('category')\n",
    "dfXtrain.info()"
   ]
  },
  {
   "cell_type": "code",
   "execution_count": 39,
   "metadata": {},
   "outputs": [
    {
     "name": "stdout",
     "output_type": "stream",
     "text": [
      "<class 'pandas.core.frame.DataFrame'>\n",
      "RangeIndex: 857 entries, 0 to 856\n",
      "Data columns (total 1 columns):\n",
      " #   Column  Non-Null Count  Dtype  \n",
      "---  ------  --------------  -----  \n",
      " 0   0       857 non-null    float64\n",
      "dtypes: float64(1)\n",
      "memory usage: 6.8 KB\n"
     ]
    }
   ],
   "source": [
    "dfytrain = pd.DataFrame(y_train)\n",
    "#converte all categorical values\n",
    "for i in dfytrain.columns.tolist():\n",
    "    try: \n",
    "        dfytrain[i] = dfytrain[i].astype('float')\n",
    "    except :\n",
    "        dfytrain[i] = dfytrain[i].astype('category')\n",
    "dfytrain.info()"
   ]
  },
  {
   "cell_type": "code",
   "execution_count": 42,
   "metadata": {
    "pycharm": {
     "name": "#%%\n"
    }
   },
   "outputs": [],
   "source": [
    "X = dfXtrain.values\n",
    "yy = dfytrain.values"
   ]
  },
  {
   "cell_type": "code",
   "execution_count": 44,
   "metadata": {
    "pycharm": {
     "name": "#%%\n"
    }
   },
   "outputs": [],
   "source": [
    "from imblearn.over_sampling import SMOTENC\n",
    "smote_nc = SMOTENC(categorical_features=[0], random_state=0)\n",
    "X_resampled, y_resampled = smote_nc.fit_resample(X, yy)"
   ]
  },
  {
   "cell_type": "code",
   "execution_count": 45,
   "metadata": {
    "pycharm": {
     "name": "#%%\n"
    }
   },
   "outputs": [
    {
     "name": "stdout",
     "output_type": "stream",
     "text": [
      "5.0    424\n",
      "4.0    424\n",
      "3.0    424\n",
      "2.0    424\n",
      "1.0    424\n",
      "0.0    424\n",
      "dtype: int64\n",
      "total counts of values  2544\n"
     ]
    }
   ],
   "source": [
    "dfyOverfit = pd.DataFrame(y_resampled)\n",
    "dfXOverfit = pd.DataFrame(X_resampled)\n",
    "print(dfyOverfit.value_counts())\n",
    "print(\"total counts of values \", dfyOverfit.size)"
   ]
  },
  {
   "cell_type": "markdown",
   "metadata": {
    "pycharm": {
     "name": "#%%\n"
    }
   },
   "source": [
    "# combination"
   ]
  },
  {
   "cell_type": "code",
   "execution_count": 46,
   "metadata": {
    "pycharm": {
     "name": "#%%\n"
    }
   },
   "outputs": [],
   "source": [
    "from imblearn.combine import SMOTEENN\n",
    "sme = SMOTEENN(random_state=42)\n",
    "X_combi, y_combi = sme.fit_resample(X, yy)\n",
    "\n",
    "dfyCross = pd.DataFrame(y_combi)\n",
    "dfXCross = pd.DataFrame(X_combi)\n"
   ]
  },
  {
   "cell_type": "markdown",
   "metadata": {
    "pycharm": {
     "name": "#%% md\n"
    }
   },
   "source": [
    "# export"
   ]
  },
  {
   "cell_type": "code",
   "execution_count": 47,
   "metadata": {
    "pycharm": {
     "name": "#%%\n"
    }
   },
   "outputs": [],
   "source": [
    "import json\n",
    "#os.remove('data/uveitis_data_diagnosis.csv')\n",
    "with open('data/uveitis_data_legend.json', 'w') as fp:\n",
    "    json.dump(shorted_dict, fp)\n",
    "\n",
    "#full csv\n",
    "os.remove('data/uveitis_data.csv')\n",
    "df.to_csv('data/uveitis_data.csv', index = False)\n",
    "\n",
    "#x_train\n",
    "os.remove('data/uveitis_data_xtrain.csv')\n",
    "dfXtrain.to_csv('data/uveitis_data_xtrain.csv', index = False)\n",
    "#y_train\n",
    "os.remove('data/uveitis_data_ytrain.csv')\n",
    "dfytrain.to_csv('data/uveitis_data_ytrain.csv', index = False)\n",
    "#y_test\n",
    "os.remove('data/uveitis_data_ytest.csv')\n",
    "dfytest.to_csv('data/uveitis_data_ytest.csv', index = False)\n",
    "#x_test\n",
    "os.remove('data/uveitis_data_xtest.csv')\n",
    "dfXtest.to_csv('data/uveitis_data_xtest.csv', index = False)"
   ]
  },
  {
   "cell_type": "code",
   "execution_count": 48,
   "metadata": {
    "pycharm": {
     "name": "#%%\n"
    }
   },
   "outputs": [],
   "source": [
    "#x_resampled(overfitted)_train\n",
    "#os.remove('data/uveitis_data_XOverfit_train.csv')\n",
    "dfXOverfit.to_csv('data/uveitis_data_XOverfit_train.csv', index = False)\n",
    "#x_resampled(overfitted)_train\n",
    "os.remove('data/uveitis_data_yOverfit_train.csv')\n",
    "dfyOverfit.to_csv('data/uveitis_data_yOverfit_train.csv', index = False)"
   ]
  },
  {
   "cell_type": "code",
   "execution_count": 49,
   "metadata": {
    "pycharm": {
     "name": "#%%\n"
    }
   },
   "outputs": [],
   "source": [
    "#x_crosampled(overfitted/underfitted)_train\n",
    "#os.remove('data/uveitis_data_XCrossfit_train.csv')\n",
    "dfXCross.to_csv('data/uveitis_data_XCrossfit_train.csv', index = False)\n",
    "#y_combination(overfitted/underfitted)_train\n",
    "#os.remove('data/uveitis_data_yCrossfit_train.csv')\n",
    "dfyCross.to_csv('data/uveitis_data_yCrossfit_train.csv', index = False)"
   ]
  },
  {
   "cell_type": "code",
   "execution_count": 50,
   "metadata": {
    "pycharm": {
     "name": "#%%\n"
    }
   },
   "outputs": [
    {
     "name": "stdout",
     "output_type": "stream",
     "text": [
      "|--- feature_0 <= 0.50\n",
      "|   |--- feature_5 <= 0.00\n",
      "|   |   |--- feature_6 <= 0.00\n",
      "|   |   |   |--- feature_11 <= 0.15\n",
      "|   |   |   |   |--- feature_19 <= 0.57\n",
      "|   |   |   |   |   |--- feature_20 <= 0.75\n",
      "|   |   |   |   |   |   |--- feature_21 <= 0.84\n",
      "|   |   |   |   |   |   |   |--- feature_32 <= 1.03\n",
      "|   |   |   |   |   |   |   |   |--- feature_18 <= 0.36\n",
      "|   |   |   |   |   |   |   |   |   |--- feature_9 <= 0.11\n",
      "|   |   |   |   |   |   |   |   |   |   |--- class: 5.0\n",
      "|   |   |   |   |   |   |   |   |   |--- feature_9 >  0.11\n",
      "|   |   |   |   |   |   |   |   |   |   |--- feature_16 <= 0.25\n",
      "|   |   |   |   |   |   |   |   |   |   |   |--- truncated branch of depth 3\n",
      "|   |   |   |   |   |   |   |   |   |   |--- feature_16 >  0.25\n",
      "|   |   |   |   |   |   |   |   |   |   |   |--- truncated branch of depth 2\n",
      "|   |   |   |   |   |   |   |   |--- feature_18 >  0.36\n",
      "|   |   |   |   |   |   |   |   |   |--- feature_13 <= -0.31\n",
      "|   |   |   |   |   |   |   |   |   |   |--- class: 1.0\n",
      "|   |   |   |   |   |   |   |   |   |--- feature_13 >  -0.31\n",
      "|   |   |   |   |   |   |   |   |   |   |--- feature_15 <= 1.00\n",
      "|   |   |   |   |   |   |   |   |   |   |   |--- truncated branch of depth 2\n",
      "|   |   |   |   |   |   |   |   |   |   |--- feature_15 >  1.00\n",
      "|   |   |   |   |   |   |   |   |   |   |   |--- class: 0.0\n",
      "|   |   |   |   |   |   |   |--- feature_32 >  1.03\n",
      "|   |   |   |   |   |   |   |   |--- class: 3.0\n",
      "|   |   |   |   |   |   |--- feature_21 >  0.84\n",
      "|   |   |   |   |   |   |   |--- class: 1.0\n",
      "|   |   |   |   |   |--- feature_20 >  0.75\n",
      "|   |   |   |   |   |   |--- feature_28 <= 0.48\n",
      "|   |   |   |   |   |   |   |--- feature_10 <= 9.73\n",
      "|   |   |   |   |   |   |   |   |--- feature_8 <= 0.71\n",
      "|   |   |   |   |   |   |   |   |   |--- feature_14 <= 0.39\n",
      "|   |   |   |   |   |   |   |   |   |   |--- class: 1.0\n",
      "|   |   |   |   |   |   |   |   |   |--- feature_14 >  0.39\n",
      "|   |   |   |   |   |   |   |   |   |   |--- feature_9 <= 0.12\n",
      "|   |   |   |   |   |   |   |   |   |   |   |--- class: 3.0\n",
      "|   |   |   |   |   |   |   |   |   |   |--- feature_9 >  0.12\n",
      "|   |   |   |   |   |   |   |   |   |   |   |--- class: 0.0\n",
      "|   |   |   |   |   |   |   |   |--- feature_8 >  0.71\n",
      "|   |   |   |   |   |   |   |   |   |--- class: 4.0\n",
      "|   |   |   |   |   |   |   |--- feature_10 >  9.73\n",
      "|   |   |   |   |   |   |   |   |--- class: 2.0\n",
      "|   |   |   |   |   |   |--- feature_28 >  0.48\n",
      "|   |   |   |   |   |   |   |--- feature_22 <= 0.64\n",
      "|   |   |   |   |   |   |   |   |--- class: 5.0\n",
      "|   |   |   |   |   |   |   |--- feature_22 >  0.64\n",
      "|   |   |   |   |   |   |   |   |--- feature_21 <= 1.25\n",
      "|   |   |   |   |   |   |   |   |   |--- class: 3.0\n",
      "|   |   |   |   |   |   |   |   |--- feature_21 >  1.25\n",
      "|   |   |   |   |   |   |   |   |   |--- class: 1.0\n",
      "|   |   |   |   |--- feature_19 >  0.57\n",
      "|   |   |   |   |   |--- feature_30 <= 0.28\n",
      "|   |   |   |   |   |   |--- feature_14 <= 0.51\n",
      "|   |   |   |   |   |   |   |--- feature_21 <= 0.41\n",
      "|   |   |   |   |   |   |   |   |--- feature_9 <= 0.20\n",
      "|   |   |   |   |   |   |   |   |   |--- class: 3.0\n",
      "|   |   |   |   |   |   |   |   |--- feature_9 >  0.20\n",
      "|   |   |   |   |   |   |   |   |   |--- feature_17 <= 1.26\n",
      "|   |   |   |   |   |   |   |   |   |   |--- class: 0.0\n",
      "|   |   |   |   |   |   |   |   |   |--- feature_17 >  1.26\n",
      "|   |   |   |   |   |   |   |   |   |   |--- class: 4.0\n",
      "|   |   |   |   |   |   |   |--- feature_21 >  0.41\n",
      "|   |   |   |   |   |   |   |   |--- class: 5.0\n",
      "|   |   |   |   |   |   |--- feature_14 >  0.51\n",
      "|   |   |   |   |   |   |   |--- feature_9 <= 0.09\n",
      "|   |   |   |   |   |   |   |   |--- feature_13 <= 0.06\n",
      "|   |   |   |   |   |   |   |   |   |--- feature_22 <= 1.00\n",
      "|   |   |   |   |   |   |   |   |   |   |--- class: 1.0\n",
      "|   |   |   |   |   |   |   |   |   |--- feature_22 >  1.00\n",
      "|   |   |   |   |   |   |   |   |   |   |--- class: 3.0\n",
      "|   |   |   |   |   |   |   |   |--- feature_13 >  0.06\n",
      "|   |   |   |   |   |   |   |   |   |--- class: 5.0\n",
      "|   |   |   |   |   |   |   |--- feature_9 >  0.09\n",
      "|   |   |   |   |   |   |   |   |--- feature_17 <= 0.22\n",
      "|   |   |   |   |   |   |   |   |   |--- feature_11 <= 0.10\n",
      "|   |   |   |   |   |   |   |   |   |   |--- class: 3.0\n",
      "|   |   |   |   |   |   |   |   |   |--- feature_11 >  0.10\n",
      "|   |   |   |   |   |   |   |   |   |   |--- class: 1.0\n",
      "|   |   |   |   |   |   |   |   |--- feature_17 >  0.22\n",
      "|   |   |   |   |   |   |   |   |   |--- feature_4 <= 0.47\n",
      "|   |   |   |   |   |   |   |   |   |   |--- feature_33 <= 0.97\n",
      "|   |   |   |   |   |   |   |   |   |   |   |--- truncated branch of depth 9\n",
      "|   |   |   |   |   |   |   |   |   |   |--- feature_33 >  0.97\n",
      "|   |   |   |   |   |   |   |   |   |   |   |--- truncated branch of depth 2\n",
      "|   |   |   |   |   |   |   |   |   |--- feature_4 >  0.47\n",
      "|   |   |   |   |   |   |   |   |   |   |--- feature_21 <= 0.55\n",
      "|   |   |   |   |   |   |   |   |   |   |   |--- class: 1.0\n",
      "|   |   |   |   |   |   |   |   |   |   |--- feature_21 >  0.55\n",
      "|   |   |   |   |   |   |   |   |   |   |   |--- truncated branch of depth 2\n",
      "|   |   |   |   |   |--- feature_30 >  0.28\n",
      "|   |   |   |   |   |   |--- feature_12 <= 0.28\n",
      "|   |   |   |   |   |   |   |--- feature_28 <= 0.82\n",
      "|   |   |   |   |   |   |   |   |--- feature_26 <= 0.89\n",
      "|   |   |   |   |   |   |   |   |   |--- class: 1.0\n",
      "|   |   |   |   |   |   |   |   |--- feature_26 >  0.89\n",
      "|   |   |   |   |   |   |   |   |   |--- feature_22 <= 0.75\n",
      "|   |   |   |   |   |   |   |   |   |   |--- class: 4.0\n",
      "|   |   |   |   |   |   |   |   |   |--- feature_22 >  0.75\n",
      "|   |   |   |   |   |   |   |   |   |   |--- class: 0.0\n",
      "|   |   |   |   |   |   |   |--- feature_28 >  0.82\n",
      "|   |   |   |   |   |   |   |   |--- class: 4.0\n",
      "|   |   |   |   |   |   |--- feature_12 >  0.28\n",
      "|   |   |   |   |   |   |   |--- class: 5.0\n",
      "|   |   |   |--- feature_11 >  0.15\n",
      "|   |   |   |   |--- feature_2 <= 0.36\n",
      "|   |   |   |   |   |--- feature_19 <= 0.67\n",
      "|   |   |   |   |   |   |--- feature_38 <= 0.20\n",
      "|   |   |   |   |   |   |   |--- feature_24 <= 1.00\n",
      "|   |   |   |   |   |   |   |   |--- feature_20 <= 0.41\n",
      "|   |   |   |   |   |   |   |   |   |--- feature_16 <= 0.10\n",
      "|   |   |   |   |   |   |   |   |   |   |--- class: 1.0\n",
      "|   |   |   |   |   |   |   |   |   |--- feature_16 >  0.10\n",
      "|   |   |   |   |   |   |   |   |   |   |--- class: 3.0\n",
      "|   |   |   |   |   |   |   |   |--- feature_20 >  0.41\n",
      "|   |   |   |   |   |   |   |   |   |--- feature_14 <= 0.15\n",
      "|   |   |   |   |   |   |   |   |   |   |--- feature_9 <= 0.75\n",
      "|   |   |   |   |   |   |   |   |   |   |   |--- class: 1.0\n",
      "|   |   |   |   |   |   |   |   |   |   |--- feature_9 >  0.75\n",
      "|   |   |   |   |   |   |   |   |   |   |   |--- truncated branch of depth 2\n",
      "|   |   |   |   |   |   |   |   |   |--- feature_14 >  0.15\n",
      "|   |   |   |   |   |   |   |   |   |   |--- feature_4 <= 0.02\n",
      "|   |   |   |   |   |   |   |   |   |   |   |--- truncated branch of depth 8\n",
      "|   |   |   |   |   |   |   |   |   |   |--- feature_4 >  0.02\n",
      "|   |   |   |   |   |   |   |   |   |   |   |--- truncated branch of depth 5\n",
      "|   |   |   |   |   |   |   |--- feature_24 >  1.00\n",
      "|   |   |   |   |   |   |   |   |--- feature_4 <= 0.08\n",
      "|   |   |   |   |   |   |   |   |   |--- feature_32 <= 1.18\n",
      "|   |   |   |   |   |   |   |   |   |   |--- feature_12 <= 0.52\n",
      "|   |   |   |   |   |   |   |   |   |   |   |--- truncated branch of depth 6\n",
      "|   |   |   |   |   |   |   |   |   |   |--- feature_12 >  0.52\n",
      "|   |   |   |   |   |   |   |   |   |   |   |--- truncated branch of depth 6\n",
      "|   |   |   |   |   |   |   |   |   |--- feature_32 >  1.18\n",
      "|   |   |   |   |   |   |   |   |   |   |--- class: 1.0\n",
      "|   |   |   |   |   |   |   |   |--- feature_4 >  0.08\n",
      "|   |   |   |   |   |   |   |   |   |--- feature_26 <= 0.83\n",
      "|   |   |   |   |   |   |   |   |   |   |--- feature_29 <= 0.02\n",
      "|   |   |   |   |   |   |   |   |   |   |   |--- truncated branch of depth 7\n",
      "|   |   |   |   |   |   |   |   |   |   |--- feature_29 >  0.02\n",
      "|   |   |   |   |   |   |   |   |   |   |   |--- truncated branch of depth 2\n",
      "|   |   |   |   |   |   |   |   |   |--- feature_26 >  0.83\n",
      "|   |   |   |   |   |   |   |   |   |   |--- class: 5.0\n",
      "|   |   |   |   |   |   |--- feature_38 >  0.20\n",
      "|   |   |   |   |   |   |   |--- class: 1.0\n",
      "|   |   |   |   |   |--- feature_19 >  0.67\n",
      "|   |   |   |   |   |   |--- feature_21 <= 0.48\n",
      "|   |   |   |   |   |   |   |--- feature_23 <= 0.18\n",
      "|   |   |   |   |   |   |   |   |--- feature_27 <= 0.25\n",
      "|   |   |   |   |   |   |   |   |   |--- feature_18 <= 0.43\n",
      "|   |   |   |   |   |   |   |   |   |   |--- class: 0.0\n",
      "|   |   |   |   |   |   |   |   |   |--- feature_18 >  0.43\n",
      "|   |   |   |   |   |   |   |   |   |   |--- class: 1.0\n",
      "|   |   |   |   |   |   |   |   |--- feature_27 >  0.25\n",
      "|   |   |   |   |   |   |   |   |   |--- feature_8 <= 2.20\n",
      "|   |   |   |   |   |   |   |   |   |   |--- feature_28 <= 0.65\n",
      "|   |   |   |   |   |   |   |   |   |   |   |--- truncated branch of depth 2\n",
      "|   |   |   |   |   |   |   |   |   |   |--- feature_28 >  0.65\n",
      "|   |   |   |   |   |   |   |   |   |   |   |--- class: 3.0\n",
      "|   |   |   |   |   |   |   |   |   |--- feature_8 >  2.20\n",
      "|   |   |   |   |   |   |   |   |   |   |--- class: 2.0\n",
      "|   |   |   |   |   |   |   |--- feature_23 >  0.18\n",
      "|   |   |   |   |   |   |   |   |--- feature_16 <= 0.06\n",
      "|   |   |   |   |   |   |   |   |   |--- class: 5.0\n",
      "|   |   |   |   |   |   |   |   |--- feature_16 >  0.06\n",
      "|   |   |   |   |   |   |   |   |   |--- feature_22 <= 0.86\n",
      "|   |   |   |   |   |   |   |   |   |   |--- feature_21 <= -0.09\n",
      "|   |   |   |   |   |   |   |   |   |   |   |--- class: 4.0\n",
      "|   |   |   |   |   |   |   |   |   |   |--- feature_21 >  -0.09\n",
      "|   |   |   |   |   |   |   |   |   |   |   |--- truncated branch of depth 2\n",
      "|   |   |   |   |   |   |   |   |   |--- feature_22 >  0.86\n",
      "|   |   |   |   |   |   |   |   |   |   |--- feature_28 <= 0.62\n",
      "|   |   |   |   |   |   |   |   |   |   |   |--- truncated branch of depth 8\n",
      "|   |   |   |   |   |   |   |   |   |   |--- feature_28 >  0.62\n",
      "|   |   |   |   |   |   |   |   |   |   |   |--- truncated branch of depth 5\n",
      "|   |   |   |   |   |   |--- feature_21 >  0.48\n",
      "|   |   |   |   |   |   |   |--- feature_26 <= 2.28\n",
      "|   |   |   |   |   |   |   |   |--- feature_17 <= 0.19\n",
      "|   |   |   |   |   |   |   |   |   |--- feature_16 <= 0.50\n",
      "|   |   |   |   |   |   |   |   |   |   |--- feature_21 <= 0.61\n",
      "|   |   |   |   |   |   |   |   |   |   |   |--- class: 5.0\n",
      "|   |   |   |   |   |   |   |   |   |   |--- feature_21 >  0.61\n",
      "|   |   |   |   |   |   |   |   |   |   |   |--- class: 0.0\n",
      "|   |   |   |   |   |   |   |   |   |--- feature_16 >  0.50\n",
      "|   |   |   |   |   |   |   |   |   |   |--- class: 1.0\n",
      "|   |   |   |   |   |   |   |   |--- feature_17 >  0.19\n",
      "|   |   |   |   |   |   |   |   |   |--- feature_33 <= 0.63\n",
      "|   |   |   |   |   |   |   |   |   |   |--- feature_12 <= 0.70\n",
      "|   |   |   |   |   |   |   |   |   |   |   |--- truncated branch of depth 9\n",
      "|   |   |   |   |   |   |   |   |   |   |--- feature_12 >  0.70\n",
      "|   |   |   |   |   |   |   |   |   |   |   |--- class: 3.0\n",
      "|   |   |   |   |   |   |   |   |   |--- feature_33 >  0.63\n",
      "|   |   |   |   |   |   |   |   |   |   |--- feature_16 <= 0.25\n",
      "|   |   |   |   |   |   |   |   |   |   |   |--- class: 0.0\n",
      "|   |   |   |   |   |   |   |   |   |   |--- feature_16 >  0.25\n",
      "|   |   |   |   |   |   |   |   |   |   |   |--- truncated branch of depth 2\n",
      "|   |   |   |   |   |   |   |--- feature_26 >  2.28\n",
      "|   |   |   |   |   |   |   |   |--- feature_33 <= 0.11\n",
      "|   |   |   |   |   |   |   |   |   |--- feature_8 <= 0.91\n",
      "|   |   |   |   |   |   |   |   |   |   |--- class: 3.0\n",
      "|   |   |   |   |   |   |   |   |   |--- feature_8 >  0.91\n",
      "|   |   |   |   |   |   |   |   |   |   |--- class: 0.0\n",
      "|   |   |   |   |   |   |   |   |--- feature_33 >  0.11\n",
      "|   |   |   |   |   |   |   |   |   |--- class: 4.0\n",
      "|   |   |   |   |--- feature_2 >  0.36\n",
      "|   |   |   |   |   |--- feature_17 <= 0.64\n",
      "|   |   |   |   |   |   |--- feature_23 <= 0.28\n",
      "|   |   |   |   |   |   |   |--- feature_8 <= 0.72\n",
      "|   |   |   |   |   |   |   |   |--- class: 1.0\n",
      "|   |   |   |   |   |   |   |--- feature_8 >  0.72\n",
      "|   |   |   |   |   |   |   |   |--- class: 0.0\n",
      "|   |   |   |   |   |   |--- feature_23 >  0.28\n",
      "|   |   |   |   |   |   |   |--- feature_10 <= 0.27\n",
      "|   |   |   |   |   |   |   |   |--- class: 3.0\n",
      "|   |   |   |   |   |   |   |--- feature_10 >  0.27\n",
      "|   |   |   |   |   |   |   |   |--- class: 5.0\n",
      "|   |   |   |   |   |--- feature_17 >  0.64\n",
      "|   |   |   |   |   |   |--- feature_28 <= 0.76\n",
      "|   |   |   |   |   |   |   |--- class: 2.0\n",
      "|   |   |   |   |   |   |--- feature_28 >  0.76\n",
      "|   |   |   |   |   |   |   |--- class: 3.0\n",
      "|   |   |--- feature_6 >  0.00\n",
      "|   |   |   |--- feature_10 <= 0.58\n",
      "|   |   |   |   |--- feature_2 <= 0.00\n",
      "|   |   |   |   |   |--- feature_17 <= 0.71\n",
      "|   |   |   |   |   |   |--- feature_16 <= 0.35\n",
      "|   |   |   |   |   |   |   |--- feature_10 <= 0.53\n",
      "|   |   |   |   |   |   |   |   |--- class: 5.0\n",
      "|   |   |   |   |   |   |   |--- feature_10 >  0.53\n",
      "|   |   |   |   |   |   |   |   |--- class: 1.0\n",
      "|   |   |   |   |   |   |--- feature_16 >  0.35\n",
      "|   |   |   |   |   |   |   |--- class: 2.0\n",
      "|   |   |   |   |   |--- feature_17 >  0.71\n",
      "|   |   |   |   |   |   |--- feature_8 <= 0.90\n",
      "|   |   |   |   |   |   |   |--- class: 1.0\n",
      "|   |   |   |   |   |   |--- feature_8 >  0.90\n",
      "|   |   |   |   |   |   |   |--- class: 0.0\n",
      "|   |   |   |   |--- feature_2 >  0.00\n",
      "|   |   |   |   |   |--- feature_23 <= 0.76\n",
      "|   |   |   |   |   |   |--- class: 1.0\n",
      "|   |   |   |   |   |--- feature_23 >  0.76\n",
      "|   |   |   |   |   |   |--- class: 4.0\n",
      "|   |   |   |--- feature_10 >  0.58\n",
      "|   |   |   |   |--- feature_6 <= 1.37\n",
      "|   |   |   |   |   |--- feature_15 <= 0.82\n",
      "|   |   |   |   |   |   |--- feature_33 <= 0.50\n",
      "|   |   |   |   |   |   |   |--- feature_4 <= 2.50\n",
      "|   |   |   |   |   |   |   |   |--- class: 2.0\n",
      "|   |   |   |   |   |   |   |--- feature_4 >  2.50\n",
      "|   |   |   |   |   |   |   |   |--- class: 0.0\n",
      "|   |   |   |   |   |   |--- feature_33 >  0.50\n",
      "|   |   |   |   |   |   |   |--- class: 0.0\n",
      "|   |   |   |   |   |--- feature_15 >  0.82\n",
      "|   |   |   |   |   |   |--- feature_9 <= 0.57\n",
      "|   |   |   |   |   |   |   |--- class: 5.0\n",
      "|   |   |   |   |   |   |--- feature_9 >  0.57\n",
      "|   |   |   |   |   |   |   |--- class: 1.0\n",
      "|   |   |   |   |--- feature_6 >  1.37\n",
      "|   |   |   |   |   |--- feature_18 <= 0.50\n",
      "|   |   |   |   |   |   |--- class: 1.0\n",
      "|   |   |   |   |   |--- feature_18 >  0.50\n",
      "|   |   |   |   |   |   |--- class: 0.0\n",
      "|   |--- feature_5 >  0.00\n",
      "|   |   |--- feature_10 <= 0.39\n",
      "|   |   |   |--- feature_1 <= 0.01\n",
      "|   |   |   |   |--- feature_13 <= 0.25\n",
      "|   |   |   |   |   |--- feature_18 <= 0.44\n",
      "|   |   |   |   |   |   |--- feature_26 <= 4.37\n",
      "|   |   |   |   |   |   |   |--- class: 0.0\n",
      "|   |   |   |   |   |   |--- feature_26 >  4.37\n",
      "|   |   |   |   |   |   |   |--- class: 2.0\n",
      "|   |   |   |   |   |--- feature_18 >  0.44\n",
      "|   |   |   |   |   |   |--- class: 1.0\n",
      "|   |   |   |   |--- feature_13 >  0.25\n",
      "|   |   |   |   |   |--- class: 5.0\n",
      "|   |   |   |--- feature_1 >  0.01\n",
      "|   |   |   |   |--- feature_24 <= 1.28\n",
      "|   |   |   |   |   |--- feature_26 <= 5.36\n",
      "|   |   |   |   |   |   |--- feature_20 <= 0.20\n",
      "|   |   |   |   |   |   |   |--- class: 4.0\n",
      "|   |   |   |   |   |   |--- feature_20 >  0.20\n",
      "|   |   |   |   |   |   |   |--- class: 1.0\n",
      "|   |   |   |   |   |--- feature_26 >  5.36\n",
      "|   |   |   |   |   |   |--- class: 2.0\n",
      "|   |   |   |   |--- feature_24 >  1.28\n",
      "|   |   |   |   |   |--- class: 2.0\n",
      "|   |   |--- feature_10 >  0.39\n",
      "|   |   |   |--- feature_9 <= 0.85\n",
      "|   |   |   |   |--- feature_33 <= 0.12\n",
      "|   |   |   |   |   |--- feature_32 <= 0.77\n",
      "|   |   |   |   |   |   |--- class: 1.0\n",
      "|   |   |   |   |   |--- feature_32 >  0.77\n",
      "|   |   |   |   |   |   |--- feature_20 <= -0.27\n",
      "|   |   |   |   |   |   |   |--- class: 1.0\n",
      "|   |   |   |   |   |   |--- feature_20 >  -0.27\n",
      "|   |   |   |   |   |   |   |--- feature_38 <= 0.26\n",
      "|   |   |   |   |   |   |   |   |--- feature_7 <= 0.07\n",
      "|   |   |   |   |   |   |   |   |   |--- class: 0.0\n",
      "|   |   |   |   |   |   |   |   |--- feature_7 >  0.07\n",
      "|   |   |   |   |   |   |   |   |   |--- feature_27 <= 0.07\n",
      "|   |   |   |   |   |   |   |   |   |   |--- class: 1.0\n",
      "|   |   |   |   |   |   |   |   |   |--- feature_27 >  0.07\n",
      "|   |   |   |   |   |   |   |   |   |   |--- feature_21 <= 1.01\n",
      "|   |   |   |   |   |   |   |   |   |   |   |--- truncated branch of depth 5\n",
      "|   |   |   |   |   |   |   |   |   |   |--- feature_21 >  1.01\n",
      "|   |   |   |   |   |   |   |   |   |   |   |--- class: 1.0\n",
      "|   |   |   |   |   |   |   |--- feature_38 >  0.26\n",
      "|   |   |   |   |   |   |   |   |--- class: 1.0\n",
      "|   |   |   |   |--- feature_33 >  0.12\n",
      "|   |   |   |   |   |--- feature_10 <= 1.49\n",
      "|   |   |   |   |   |   |--- feature_15 <= 0.70\n",
      "|   |   |   |   |   |   |   |--- class: 0.0\n",
      "|   |   |   |   |   |   |--- feature_15 >  0.70\n",
      "|   |   |   |   |   |   |   |--- class: 4.0\n",
      "|   |   |   |   |   |--- feature_10 >  1.49\n",
      "|   |   |   |   |   |   |--- class: 5.0\n",
      "|   |   |   |--- feature_9 >  0.85\n",
      "|   |   |   |   |--- feature_10 <= 0.80\n",
      "|   |   |   |   |   |--- feature_7 <= 0.43\n",
      "|   |   |   |   |   |   |--- feature_14 <= 0.72\n",
      "|   |   |   |   |   |   |   |--- class: 5.0\n",
      "|   |   |   |   |   |   |--- feature_14 >  0.72\n",
      "|   |   |   |   |   |   |   |--- class: 1.0\n",
      "|   |   |   |   |   |--- feature_7 >  0.43\n",
      "|   |   |   |   |   |   |--- feature_12 <= 0.49\n",
      "|   |   |   |   |   |   |   |--- class: 1.0\n",
      "|   |   |   |   |   |   |--- feature_12 >  0.49\n",
      "|   |   |   |   |   |   |   |--- class: 0.0\n",
      "|   |   |   |   |--- feature_10 >  0.80\n",
      "|   |   |   |   |   |--- feature_17 <= 1.18\n",
      "|   |   |   |   |   |   |--- feature_30 <= 0.30\n",
      "|   |   |   |   |   |   |   |--- class: 2.0\n",
      "|   |   |   |   |   |   |--- feature_30 >  0.30\n",
      "|   |   |   |   |   |   |   |--- class: 1.0\n",
      "|   |   |   |   |   |--- feature_17 >  1.18\n",
      "|   |   |   |   |   |   |--- class: 4.0\n",
      "|--- feature_0 >  0.50\n",
      "|   |--- feature_10 <= 3.75\n",
      "|   |   |--- feature_0 <= 1.50\n",
      "|   |   |   |--- feature_4 <= 0.25\n",
      "|   |   |   |   |--- feature_4 <= 0.01\n",
      "|   |   |   |   |   |--- feature_23 <= 0.46\n",
      "|   |   |   |   |   |   |--- feature_21 <= 0.50\n",
      "|   |   |   |   |   |   |   |--- feature_11 <= 0.41\n",
      "|   |   |   |   |   |   |   |   |--- feature_14 <= 0.94\n",
      "|   |   |   |   |   |   |   |   |   |--- feature_28 <= 0.90\n",
      "|   |   |   |   |   |   |   |   |   |   |--- class: 4.0\n",
      "|   |   |   |   |   |   |   |   |   |--- feature_28 >  0.90\n",
      "|   |   |   |   |   |   |   |   |   |   |--- class: 0.0\n",
      "|   |   |   |   |   |   |   |   |--- feature_14 >  0.94\n",
      "|   |   |   |   |   |   |   |   |   |--- feature_27 <= 0.58\n",
      "|   |   |   |   |   |   |   |   |   |   |--- class: 0.0\n",
      "|   |   |   |   |   |   |   |   |   |--- feature_27 >  0.58\n",
      "|   |   |   |   |   |   |   |   |   |   |--- class: 3.0\n",
      "|   |   |   |   |   |   |   |--- feature_11 >  0.41\n",
      "|   |   |   |   |   |   |   |   |--- class: 0.0\n",
      "|   |   |   |   |   |   |--- feature_21 >  0.50\n",
      "|   |   |   |   |   |   |   |--- feature_26 <= 4.04\n",
      "|   |   |   |   |   |   |   |   |--- class: 0.0\n",
      "|   |   |   |   |   |   |   |--- feature_26 >  4.04\n",
      "|   |   |   |   |   |   |   |   |--- class: 4.0\n",
      "|   |   |   |   |   |--- feature_23 >  0.46\n",
      "|   |   |   |   |   |   |--- feature_10 <= 0.55\n",
      "|   |   |   |   |   |   |   |--- feature_11 <= 0.04\n",
      "|   |   |   |   |   |   |   |   |--- class: 0.0\n",
      "|   |   |   |   |   |   |   |--- feature_11 >  0.04\n",
      "|   |   |   |   |   |   |   |   |--- feature_23 <= 1.04\n",
      "|   |   |   |   |   |   |   |   |   |--- class: 4.0\n",
      "|   |   |   |   |   |   |   |   |--- feature_23 >  1.04\n",
      "|   |   |   |   |   |   |   |   |   |--- class: 0.0\n",
      "|   |   |   |   |   |   |--- feature_10 >  0.55\n",
      "|   |   |   |   |   |   |   |--- class: 0.0\n",
      "|   |   |   |   |--- feature_4 >  0.01\n",
      "|   |   |   |   |   |--- class: 4.0\n",
      "|   |   |   |--- feature_4 >  0.25\n",
      "|   |   |   |   |--- feature_18 <= -0.03\n",
      "|   |   |   |   |   |--- class: 4.0\n",
      "|   |   |   |   |--- feature_18 >  -0.03\n",
      "|   |   |   |   |   |--- feature_21 <= 2.15\n",
      "|   |   |   |   |   |   |--- feature_7 <= 0.12\n",
      "|   |   |   |   |   |   |   |--- class: 4.0\n",
      "|   |   |   |   |   |   |--- feature_7 >  0.12\n",
      "|   |   |   |   |   |   |   |--- feature_19 <= 1.20\n",
      "|   |   |   |   |   |   |   |   |--- feature_14 <= 1.45\n",
      "|   |   |   |   |   |   |   |   |   |--- feature_8 <= 0.85\n",
      "|   |   |   |   |   |   |   |   |   |   |--- feature_11 <= -0.07\n",
      "|   |   |   |   |   |   |   |   |   |   |   |--- truncated branch of depth 3\n",
      "|   |   |   |   |   |   |   |   |   |   |--- feature_11 >  -0.07\n",
      "|   |   |   |   |   |   |   |   |   |   |   |--- class: 0.0\n",
      "|   |   |   |   |   |   |   |   |   |--- feature_8 >  0.85\n",
      "|   |   |   |   |   |   |   |   |   |   |--- feature_8 <= 0.99\n",
      "|   |   |   |   |   |   |   |   |   |   |   |--- class: 4.0\n",
      "|   |   |   |   |   |   |   |   |   |   |--- feature_8 >  0.99\n",
      "|   |   |   |   |   |   |   |   |   |   |   |--- class: 0.0\n",
      "|   |   |   |   |   |   |   |   |--- feature_14 >  1.45\n",
      "|   |   |   |   |   |   |   |   |   |--- class: 4.0\n",
      "|   |   |   |   |   |   |   |--- feature_19 >  1.20\n",
      "|   |   |   |   |   |   |   |   |--- feature_18 <= 0.25\n",
      "|   |   |   |   |   |   |   |   |   |--- feature_16 <= 0.62\n",
      "|   |   |   |   |   |   |   |   |   |   |--- class: 0.0\n",
      "|   |   |   |   |   |   |   |   |   |--- feature_16 >  0.62\n",
      "|   |   |   |   |   |   |   |   |   |   |--- class: 1.0\n",
      "|   |   |   |   |   |   |   |   |--- feature_18 >  0.25\n",
      "|   |   |   |   |   |   |   |   |   |--- class: 2.0\n",
      "|   |   |   |   |   |--- feature_21 >  2.15\n",
      "|   |   |   |   |   |   |--- class: 4.0\n",
      "|   |   |--- feature_0 >  1.50\n",
      "|   |   |   |--- feature_5 <= 0.00\n",
      "|   |   |   |   |--- feature_0 <= 2.50\n",
      "|   |   |   |   |   |--- feature_32 <= 1.00\n",
      "|   |   |   |   |   |   |--- feature_13 <= 0.23\n",
      "|   |   |   |   |   |   |   |--- class: 1.0\n",
      "|   |   |   |   |   |   |--- feature_13 >  0.23\n",
      "|   |   |   |   |   |   |   |--- feature_27 <= 0.27\n",
      "|   |   |   |   |   |   |   |   |--- class: 0.0\n",
      "|   |   |   |   |   |   |   |--- feature_27 >  0.27\n",
      "|   |   |   |   |   |   |   |   |--- feature_15 <= 0.95\n",
      "|   |   |   |   |   |   |   |   |   |--- feature_24 <= 0.95\n",
      "|   |   |   |   |   |   |   |   |   |   |--- class: 1.0\n",
      "|   |   |   |   |   |   |   |   |   |--- feature_24 >  0.95\n",
      "|   |   |   |   |   |   |   |   |   |   |--- feature_11 <= 0.73\n",
      "|   |   |   |   |   |   |   |   |   |   |   |--- class: 4.0\n",
      "|   |   |   |   |   |   |   |   |   |   |--- feature_11 >  0.73\n",
      "|   |   |   |   |   |   |   |   |   |   |   |--- class: 1.0\n",
      "|   |   |   |   |   |   |   |   |--- feature_15 >  0.95\n",
      "|   |   |   |   |   |   |   |   |   |--- class: 1.0\n",
      "|   |   |   |   |   |--- feature_32 >  1.00\n",
      "|   |   |   |   |   |   |--- feature_38 <= 0.94\n",
      "|   |   |   |   |   |   |   |--- feature_31 <= 0.05\n",
      "|   |   |   |   |   |   |   |   |--- feature_28 <= 0.60\n",
      "|   |   |   |   |   |   |   |   |   |--- feature_4 <= 0.07\n",
      "|   |   |   |   |   |   |   |   |   |   |--- class: 0.0\n",
      "|   |   |   |   |   |   |   |   |   |--- feature_4 >  0.07\n",
      "|   |   |   |   |   |   |   |   |   |   |--- class: 4.0\n",
      "|   |   |   |   |   |   |   |   |--- feature_28 >  0.60\n",
      "|   |   |   |   |   |   |   |   |   |--- feature_15 <= 0.33\n",
      "|   |   |   |   |   |   |   |   |   |   |--- feature_7 <= 0.91\n",
      "|   |   |   |   |   |   |   |   |   |   |   |--- class: 4.0\n",
      "|   |   |   |   |   |   |   |   |   |   |--- feature_7 >  0.91\n",
      "|   |   |   |   |   |   |   |   |   |   |   |--- truncated branch of depth 2\n",
      "|   |   |   |   |   |   |   |   |   |--- feature_15 >  0.33\n",
      "|   |   |   |   |   |   |   |   |   |   |--- feature_9 <= 0.07\n",
      "|   |   |   |   |   |   |   |   |   |   |   |--- class: 1.0\n",
      "|   |   |   |   |   |   |   |   |   |   |--- feature_9 >  0.07\n",
      "|   |   |   |   |   |   |   |   |   |   |   |--- truncated branch of depth 3\n",
      "|   |   |   |   |   |   |   |--- feature_31 >  0.05\n",
      "|   |   |   |   |   |   |   |   |--- feature_18 <= -0.08\n",
      "|   |   |   |   |   |   |   |   |   |--- class: 1.0\n",
      "|   |   |   |   |   |   |   |   |--- feature_18 >  -0.08\n",
      "|   |   |   |   |   |   |   |   |   |--- feature_4 <= 0.26\n",
      "|   |   |   |   |   |   |   |   |   |   |--- feature_28 <= 0.15\n",
      "|   |   |   |   |   |   |   |   |   |   |   |--- truncated branch of depth 2\n",
      "|   |   |   |   |   |   |   |   |   |   |--- feature_28 >  0.15\n",
      "|   |   |   |   |   |   |   |   |   |   |   |--- truncated branch of depth 10\n",
      "|   |   |   |   |   |   |   |   |   |--- feature_4 >  0.26\n",
      "|   |   |   |   |   |   |   |   |   |   |--- feature_1 <= 0.01\n",
      "|   |   |   |   |   |   |   |   |   |   |   |--- truncated branch of depth 6\n",
      "|   |   |   |   |   |   |   |   |   |   |--- feature_1 >  0.01\n",
      "|   |   |   |   |   |   |   |   |   |   |   |--- truncated branch of depth 3\n",
      "|   |   |   |   |   |   |--- feature_38 >  0.94\n",
      "|   |   |   |   |   |   |   |--- feature_3 <= 0.63\n",
      "|   |   |   |   |   |   |   |   |--- feature_22 <= 2.47\n",
      "|   |   |   |   |   |   |   |   |   |--- feature_20 <= 0.75\n",
      "|   |   |   |   |   |   |   |   |   |   |--- feature_8 <= 0.25\n",
      "|   |   |   |   |   |   |   |   |   |   |   |--- class: 4.0\n",
      "|   |   |   |   |   |   |   |   |   |   |--- feature_8 >  0.25\n",
      "|   |   |   |   |   |   |   |   |   |   |   |--- truncated branch of depth 3\n",
      "|   |   |   |   |   |   |   |   |   |--- feature_20 >  0.75\n",
      "|   |   |   |   |   |   |   |   |   |   |--- feature_28 <= 0.46\n",
      "|   |   |   |   |   |   |   |   |   |   |   |--- truncated branch of depth 2\n",
      "|   |   |   |   |   |   |   |   |   |   |--- feature_28 >  0.46\n",
      "|   |   |   |   |   |   |   |   |   |   |   |--- class: 4.0\n",
      "|   |   |   |   |   |   |   |   |--- feature_22 >  2.47\n",
      "|   |   |   |   |   |   |   |   |   |--- class: 1.0\n",
      "|   |   |   |   |   |   |   |--- feature_3 >  0.63\n",
      "|   |   |   |   |   |   |   |   |--- feature_18 <= 0.57\n",
      "|   |   |   |   |   |   |   |   |   |--- class: 0.0\n",
      "|   |   |   |   |   |   |   |   |--- feature_18 >  0.57\n",
      "|   |   |   |   |   |   |   |   |   |--- class: 4.0\n",
      "|   |   |   |   |--- feature_0 >  2.50\n",
      "|   |   |   |   |   |--- feature_0 <= 4.50\n",
      "|   |   |   |   |   |   |--- feature_32 <= 1.00\n",
      "|   |   |   |   |   |   |   |--- feature_13 <= 0.69\n",
      "|   |   |   |   |   |   |   |   |--- feature_32 <= 0.77\n",
      "|   |   |   |   |   |   |   |   |   |--- feature_4 <= 0.32\n",
      "|   |   |   |   |   |   |   |   |   |   |--- feature_23 <= 0.44\n",
      "|   |   |   |   |   |   |   |   |   |   |   |--- truncated branch of depth 2\n",
      "|   |   |   |   |   |   |   |   |   |   |--- feature_23 >  0.44\n",
      "|   |   |   |   |   |   |   |   |   |   |   |--- truncated branch of depth 3\n",
      "|   |   |   |   |   |   |   |   |   |--- feature_4 >  0.32\n",
      "|   |   |   |   |   |   |   |   |   |   |--- class: 4.0\n",
      "|   |   |   |   |   |   |   |   |--- feature_32 >  0.77\n",
      "|   |   |   |   |   |   |   |   |   |--- feature_11 <= 0.63\n",
      "|   |   |   |   |   |   |   |   |   |   |--- feature_20 <= 0.06\n",
      "|   |   |   |   |   |   |   |   |   |   |   |--- class: 1.0\n",
      "|   |   |   |   |   |   |   |   |   |   |--- feature_20 >  0.06\n",
      "|   |   |   |   |   |   |   |   |   |   |   |--- truncated branch of depth 3\n",
      "|   |   |   |   |   |   |   |   |   |--- feature_11 >  0.63\n",
      "|   |   |   |   |   |   |   |   |   |   |--- feature_12 <= 0.52\n",
      "|   |   |   |   |   |   |   |   |   |   |   |--- class: 3.0\n",
      "|   |   |   |   |   |   |   |   |   |   |--- feature_12 >  0.52\n",
      "|   |   |   |   |   |   |   |   |   |   |   |--- class: 1.0\n",
      "|   |   |   |   |   |   |   |--- feature_13 >  0.69\n",
      "|   |   |   |   |   |   |   |   |--- feature_18 <= 0.83\n",
      "|   |   |   |   |   |   |   |   |   |--- feature_31 <= 0.41\n",
      "|   |   |   |   |   |   |   |   |   |   |--- class: 1.0\n",
      "|   |   |   |   |   |   |   |   |   |--- feature_31 >  0.41\n",
      "|   |   |   |   |   |   |   |   |   |   |--- class: 4.0\n",
      "|   |   |   |   |   |   |   |   |--- feature_18 >  0.83\n",
      "|   |   |   |   |   |   |   |   |   |--- feature_8 <= 0.47\n",
      "|   |   |   |   |   |   |   |   |   |   |--- class: 3.0\n",
      "|   |   |   |   |   |   |   |   |   |--- feature_8 >  0.47\n",
      "|   |   |   |   |   |   |   |   |   |   |--- feature_20 <= 0.92\n",
      "|   |   |   |   |   |   |   |   |   |   |   |--- class: 0.0\n",
      "|   |   |   |   |   |   |   |   |   |   |--- feature_20 >  0.92\n",
      "|   |   |   |   |   |   |   |   |   |   |   |--- class: 4.0\n",
      "|   |   |   |   |   |   |--- feature_32 >  1.00\n",
      "|   |   |   |   |   |   |   |--- feature_6 <= 0.00\n",
      "|   |   |   |   |   |   |   |   |--- feature_29 <= 0.02\n",
      "|   |   |   |   |   |   |   |   |   |--- feature_21 <= 1.39\n",
      "|   |   |   |   |   |   |   |   |   |   |--- feature_7 <= 0.62\n",
      "|   |   |   |   |   |   |   |   |   |   |   |--- truncated branch of depth 9\n",
      "|   |   |   |   |   |   |   |   |   |   |--- feature_7 >  0.62\n",
      "|   |   |   |   |   |   |   |   |   |   |   |--- truncated branch of depth 7\n",
      "|   |   |   |   |   |   |   |   |   |--- feature_21 >  1.39\n",
      "|   |   |   |   |   |   |   |   |   |   |--- feature_9 <= 0.18\n",
      "|   |   |   |   |   |   |   |   |   |   |   |--- class: 0.0\n",
      "|   |   |   |   |   |   |   |   |   |   |--- feature_9 >  0.18\n",
      "|   |   |   |   |   |   |   |   |   |   |   |--- class: 4.0\n",
      "|   |   |   |   |   |   |   |   |--- feature_29 >  0.02\n",
      "|   |   |   |   |   |   |   |   |   |--- feature_18 <= 0.69\n",
      "|   |   |   |   |   |   |   |   |   |   |--- feature_0 <= 3.50\n",
      "|   |   |   |   |   |   |   |   |   |   |   |--- truncated branch of depth 3\n",
      "|   |   |   |   |   |   |   |   |   |   |--- feature_0 >  3.50\n",
      "|   |   |   |   |   |   |   |   |   |   |   |--- truncated branch of depth 3\n",
      "|   |   |   |   |   |   |   |   |   |--- feature_18 >  0.69\n",
      "|   |   |   |   |   |   |   |   |   |   |--- class: 0.0\n",
      "|   |   |   |   |   |   |   |--- feature_6 >  0.00\n",
      "|   |   |   |   |   |   |   |   |--- feature_11 <= 0.26\n",
      "|   |   |   |   |   |   |   |   |   |--- feature_21 <= 0.71\n",
      "|   |   |   |   |   |   |   |   |   |   |--- feature_23 <= 0.33\n",
      "|   |   |   |   |   |   |   |   |   |   |   |--- class: 4.0\n",
      "|   |   |   |   |   |   |   |   |   |   |--- feature_23 >  0.33\n",
      "|   |   |   |   |   |   |   |   |   |   |   |--- class: 0.0\n",
      "|   |   |   |   |   |   |   |   |   |--- feature_21 >  0.71\n",
      "|   |   |   |   |   |   |   |   |   |   |--- class: 4.0\n",
      "|   |   |   |   |   |   |   |   |--- feature_11 >  0.26\n",
      "|   |   |   |   |   |   |   |   |   |--- feature_18 <= 1.18\n",
      "|   |   |   |   |   |   |   |   |   |   |--- class: 1.0\n",
      "|   |   |   |   |   |   |   |   |   |--- feature_18 >  1.18\n",
      "|   |   |   |   |   |   |   |   |   |   |--- class: 4.0\n",
      "|   |   |   |   |   |--- feature_0 >  4.50\n",
      "|   |   |   |   |   |   |--- feature_15 <= 0.70\n",
      "|   |   |   |   |   |   |   |--- class: 3.0\n",
      "|   |   |   |   |   |   |--- feature_15 >  0.70\n",
      "|   |   |   |   |   |   |   |--- class: 4.0\n",
      "|   |   |   |--- feature_5 >  0.00\n",
      "|   |   |   |   |--- feature_4 <= 0.03\n",
      "|   |   |   |   |   |--- feature_11 <= 0.48\n",
      "|   |   |   |   |   |   |--- feature_0 <= 2.50\n",
      "|   |   |   |   |   |   |   |--- feature_17 <= 0.85\n",
      "|   |   |   |   |   |   |   |   |--- feature_24 <= 2.03\n",
      "|   |   |   |   |   |   |   |   |   |--- class: 1.0\n",
      "|   |   |   |   |   |   |   |   |--- feature_24 >  2.03\n",
      "|   |   |   |   |   |   |   |   |   |--- class: 2.0\n",
      "|   |   |   |   |   |   |   |--- feature_17 >  0.85\n",
      "|   |   |   |   |   |   |   |   |--- class: 0.0\n",
      "|   |   |   |   |   |   |--- feature_0 >  2.50\n",
      "|   |   |   |   |   |   |   |--- class: 4.0\n",
      "|   |   |   |   |   |--- feature_11 >  0.48\n",
      "|   |   |   |   |   |   |--- feature_7 <= 0.60\n",
      "|   |   |   |   |   |   |   |--- class: 0.0\n",
      "|   |   |   |   |   |   |--- feature_7 >  0.60\n",
      "|   |   |   |   |   |   |   |--- feature_3 <= 2.50\n",
      "|   |   |   |   |   |   |   |   |--- class: 1.0\n",
      "|   |   |   |   |   |   |   |--- feature_3 >  2.50\n",
      "|   |   |   |   |   |   |   |   |--- class: 2.0\n",
      "|   |   |   |   |--- feature_4 >  0.03\n",
      "|   |   |   |   |   |--- feature_30 <= 0.23\n",
      "|   |   |   |   |   |   |--- feature_14 <= -0.53\n",
      "|   |   |   |   |   |   |   |--- class: 0.0\n",
      "|   |   |   |   |   |   |--- feature_14 >  -0.53\n",
      "|   |   |   |   |   |   |   |--- class: 4.0\n",
      "|   |   |   |   |   |--- feature_30 >  0.23\n",
      "|   |   |   |   |   |   |--- feature_18 <= 0.13\n",
      "|   |   |   |   |   |   |   |--- class: 1.0\n",
      "|   |   |   |   |   |   |--- feature_18 >  0.13\n",
      "|   |   |   |   |   |   |   |--- feature_27 <= 0.17\n",
      "|   |   |   |   |   |   |   |   |--- class: 4.0\n",
      "|   |   |   |   |   |   |   |--- feature_27 >  0.17\n",
      "|   |   |   |   |   |   |   |   |--- feature_17 <= 0.24\n",
      "|   |   |   |   |   |   |   |   |   |--- class: 2.0\n",
      "|   |   |   |   |   |   |   |   |--- feature_17 >  0.24\n",
      "|   |   |   |   |   |   |   |   |   |--- feature_15 <= -0.02\n",
      "|   |   |   |   |   |   |   |   |   |   |--- class: 1.0\n",
      "|   |   |   |   |   |   |   |   |   |--- feature_15 >  -0.02\n",
      "|   |   |   |   |   |   |   |   |   |   |--- class: 0.0\n",
      "|   |--- feature_10 >  3.75\n",
      "|   |   |--- class: 2.0\n",
      "\n"
     ]
    }
   ],
   "source": [
    "from sklearn.model_selection import cross_val_score\n",
    "from sklearn.tree import DecisionTreeClassifier\n",
    "from sklearn import tree\n",
    "\n",
    "clf = DecisionTreeClassifier(random_state=0)\n",
    "cross_val_score(clf, X_resampled,y_resampled, cv=10)\n",
    "DTclf = clf.fit(X_resampled,y_resampled)\n",
    "text_representation = tree.export_text(clf)\n",
    "print(text_representation)"
   ]
  },
  {
   "cell_type": "code",
   "execution_count": 51,
   "metadata": {
    "pycharm": {
     "name": "#%%\n"
    }
   },
   "outputs": [
    {
     "data": {
      "text/plain": "       0    1    2        3         4    5    6         7         8   \\\n0     0.0  0.0  0.0  0.25089  0.271676  0.0  0.0  1.000000  0.672566   \n1     0.0  0.0  0.0  0.00000  0.000000  0.0  0.0  0.550000  0.849558   \n2     1.0  0.0  0.0  0.00000  0.271676  0.0  0.0  0.288889  0.831858   \n3     2.0  0.0  0.0  0.00000  0.000000  0.0  0.0  0.850000  0.070588   \n4     2.0  1.0  0.5  2.00000  1.000000  0.0  0.0  0.533333  0.223529   \n...   ...  ...  ...      ...       ...  ...  ...       ...       ...   \n2539  0.0  0.0  0.0  0.00000  0.000000  0.0  0.0  0.252614  0.678954   \n2540  0.0  0.0  0.0  0.00000  0.000000  0.0  0.0  0.403532  0.593668   \n2541  0.0  0.0  0.0  0.00000  0.000000  0.0  0.0  0.748693  0.608196   \n2542  0.0  0.0  0.0  0.00000  0.000000  0.0  0.0  0.275518  0.554064   \n2543  0.0  0.0  0.0  0.00000  0.000000  0.0  0.0  0.596503  1.115202   \n\n            9   ...        29        30        31        32   33   34   35  \\\n0     0.080160  ...  0.016667  0.500000  0.500000  0.769231  1.0  0.0  0.0   \n1     0.921844  ...  0.016667  0.500000  0.500000  1.000000  0.0  0.0  0.0   \n2     0.739479  ...  0.016667  0.248897  0.312440  1.000000  0.0  0.0  0.0   \n3     0.040080  ...  0.016667  0.248897  0.312440  1.000000  0.0  0.0  0.0   \n4     0.092184  ...  0.016667  0.248897  0.312440  1.000000  1.0  0.0  0.0   \n...        ...  ...       ...       ...       ...       ...  ...  ...  ...   \n2539  0.834713  ...  0.016667  0.248897  0.312440  1.000000  0.0  0.0  0.0   \n2540  0.836877  ...  0.016667  0.064407  0.069010  1.000000  0.0  0.0  0.0   \n2541  0.095071  ...  0.016667  0.050000  0.050000  1.000000  0.0  0.0  0.0   \n2542  0.222404  ...  0.016667  0.248897  0.312440  1.000000  0.0  0.0  0.0   \n2543  0.319826  ...  0.016667  0.079532  0.088967  1.024581  0.0  0.0  0.0   \n\n            36   37   38  \n0     0.000000  0.0  0.0  \n1     0.000000  0.0  0.0  \n2     0.000000  0.0  1.0  \n3     0.000000  0.0  0.0  \n4     0.000000  0.0  0.0  \n...        ...  ...  ...  \n2539  0.000000  0.0  0.0  \n2540  0.927566  0.0  0.0  \n2541  0.000000  0.0  0.0  \n2542  0.000000  0.0  0.0  \n2543  0.000000  0.0  0.0  \n\n[2544 rows x 39 columns]",
      "text/html": "<div>\n<style scoped>\n    .dataframe tbody tr th:only-of-type {\n        vertical-align: middle;\n    }\n\n    .dataframe tbody tr th {\n        vertical-align: top;\n    }\n\n    .dataframe thead th {\n        text-align: right;\n    }\n</style>\n<table border=\"1\" class=\"dataframe\">\n  <thead>\n    <tr style=\"text-align: right;\">\n      <th></th>\n      <th>0</th>\n      <th>1</th>\n      <th>2</th>\n      <th>3</th>\n      <th>4</th>\n      <th>5</th>\n      <th>6</th>\n      <th>7</th>\n      <th>8</th>\n      <th>9</th>\n      <th>...</th>\n      <th>29</th>\n      <th>30</th>\n      <th>31</th>\n      <th>32</th>\n      <th>33</th>\n      <th>34</th>\n      <th>35</th>\n      <th>36</th>\n      <th>37</th>\n      <th>38</th>\n    </tr>\n  </thead>\n  <tbody>\n    <tr>\n      <th>0</th>\n      <td>0.0</td>\n      <td>0.0</td>\n      <td>0.0</td>\n      <td>0.25089</td>\n      <td>0.271676</td>\n      <td>0.0</td>\n      <td>0.0</td>\n      <td>1.000000</td>\n      <td>0.672566</td>\n      <td>0.080160</td>\n      <td>...</td>\n      <td>0.016667</td>\n      <td>0.500000</td>\n      <td>0.500000</td>\n      <td>0.769231</td>\n      <td>1.0</td>\n      <td>0.0</td>\n      <td>0.0</td>\n      <td>0.000000</td>\n      <td>0.0</td>\n      <td>0.0</td>\n    </tr>\n    <tr>\n      <th>1</th>\n      <td>0.0</td>\n      <td>0.0</td>\n      <td>0.0</td>\n      <td>0.00000</td>\n      <td>0.000000</td>\n      <td>0.0</td>\n      <td>0.0</td>\n      <td>0.550000</td>\n      <td>0.849558</td>\n      <td>0.921844</td>\n      <td>...</td>\n      <td>0.016667</td>\n      <td>0.500000</td>\n      <td>0.500000</td>\n      <td>1.000000</td>\n      <td>0.0</td>\n      <td>0.0</td>\n      <td>0.0</td>\n      <td>0.000000</td>\n      <td>0.0</td>\n      <td>0.0</td>\n    </tr>\n    <tr>\n      <th>2</th>\n      <td>1.0</td>\n      <td>0.0</td>\n      <td>0.0</td>\n      <td>0.00000</td>\n      <td>0.271676</td>\n      <td>0.0</td>\n      <td>0.0</td>\n      <td>0.288889</td>\n      <td>0.831858</td>\n      <td>0.739479</td>\n      <td>...</td>\n      <td>0.016667</td>\n      <td>0.248897</td>\n      <td>0.312440</td>\n      <td>1.000000</td>\n      <td>0.0</td>\n      <td>0.0</td>\n      <td>0.0</td>\n      <td>0.000000</td>\n      <td>0.0</td>\n      <td>1.0</td>\n    </tr>\n    <tr>\n      <th>3</th>\n      <td>2.0</td>\n      <td>0.0</td>\n      <td>0.0</td>\n      <td>0.00000</td>\n      <td>0.000000</td>\n      <td>0.0</td>\n      <td>0.0</td>\n      <td>0.850000</td>\n      <td>0.070588</td>\n      <td>0.040080</td>\n      <td>...</td>\n      <td>0.016667</td>\n      <td>0.248897</td>\n      <td>0.312440</td>\n      <td>1.000000</td>\n      <td>0.0</td>\n      <td>0.0</td>\n      <td>0.0</td>\n      <td>0.000000</td>\n      <td>0.0</td>\n      <td>0.0</td>\n    </tr>\n    <tr>\n      <th>4</th>\n      <td>2.0</td>\n      <td>1.0</td>\n      <td>0.5</td>\n      <td>2.00000</td>\n      <td>1.000000</td>\n      <td>0.0</td>\n      <td>0.0</td>\n      <td>0.533333</td>\n      <td>0.223529</td>\n      <td>0.092184</td>\n      <td>...</td>\n      <td>0.016667</td>\n      <td>0.248897</td>\n      <td>0.312440</td>\n      <td>1.000000</td>\n      <td>1.0</td>\n      <td>0.0</td>\n      <td>0.0</td>\n      <td>0.000000</td>\n      <td>0.0</td>\n      <td>0.0</td>\n    </tr>\n    <tr>\n      <th>...</th>\n      <td>...</td>\n      <td>...</td>\n      <td>...</td>\n      <td>...</td>\n      <td>...</td>\n      <td>...</td>\n      <td>...</td>\n      <td>...</td>\n      <td>...</td>\n      <td>...</td>\n      <td>...</td>\n      <td>...</td>\n      <td>...</td>\n      <td>...</td>\n      <td>...</td>\n      <td>...</td>\n      <td>...</td>\n      <td>...</td>\n      <td>...</td>\n      <td>...</td>\n      <td>...</td>\n    </tr>\n    <tr>\n      <th>2539</th>\n      <td>0.0</td>\n      <td>0.0</td>\n      <td>0.0</td>\n      <td>0.00000</td>\n      <td>0.000000</td>\n      <td>0.0</td>\n      <td>0.0</td>\n      <td>0.252614</td>\n      <td>0.678954</td>\n      <td>0.834713</td>\n      <td>...</td>\n      <td>0.016667</td>\n      <td>0.248897</td>\n      <td>0.312440</td>\n      <td>1.000000</td>\n      <td>0.0</td>\n      <td>0.0</td>\n      <td>0.0</td>\n      <td>0.000000</td>\n      <td>0.0</td>\n      <td>0.0</td>\n    </tr>\n    <tr>\n      <th>2540</th>\n      <td>0.0</td>\n      <td>0.0</td>\n      <td>0.0</td>\n      <td>0.00000</td>\n      <td>0.000000</td>\n      <td>0.0</td>\n      <td>0.0</td>\n      <td>0.403532</td>\n      <td>0.593668</td>\n      <td>0.836877</td>\n      <td>...</td>\n      <td>0.016667</td>\n      <td>0.064407</td>\n      <td>0.069010</td>\n      <td>1.000000</td>\n      <td>0.0</td>\n      <td>0.0</td>\n      <td>0.0</td>\n      <td>0.927566</td>\n      <td>0.0</td>\n      <td>0.0</td>\n    </tr>\n    <tr>\n      <th>2541</th>\n      <td>0.0</td>\n      <td>0.0</td>\n      <td>0.0</td>\n      <td>0.00000</td>\n      <td>0.000000</td>\n      <td>0.0</td>\n      <td>0.0</td>\n      <td>0.748693</td>\n      <td>0.608196</td>\n      <td>0.095071</td>\n      <td>...</td>\n      <td>0.016667</td>\n      <td>0.050000</td>\n      <td>0.050000</td>\n      <td>1.000000</td>\n      <td>0.0</td>\n      <td>0.0</td>\n      <td>0.0</td>\n      <td>0.000000</td>\n      <td>0.0</td>\n      <td>0.0</td>\n    </tr>\n    <tr>\n      <th>2542</th>\n      <td>0.0</td>\n      <td>0.0</td>\n      <td>0.0</td>\n      <td>0.00000</td>\n      <td>0.000000</td>\n      <td>0.0</td>\n      <td>0.0</td>\n      <td>0.275518</td>\n      <td>0.554064</td>\n      <td>0.222404</td>\n      <td>...</td>\n      <td>0.016667</td>\n      <td>0.248897</td>\n      <td>0.312440</td>\n      <td>1.000000</td>\n      <td>0.0</td>\n      <td>0.0</td>\n      <td>0.0</td>\n      <td>0.000000</td>\n      <td>0.0</td>\n      <td>0.0</td>\n    </tr>\n    <tr>\n      <th>2543</th>\n      <td>0.0</td>\n      <td>0.0</td>\n      <td>0.0</td>\n      <td>0.00000</td>\n      <td>0.000000</td>\n      <td>0.0</td>\n      <td>0.0</td>\n      <td>0.596503</td>\n      <td>1.115202</td>\n      <td>0.319826</td>\n      <td>...</td>\n      <td>0.016667</td>\n      <td>0.079532</td>\n      <td>0.088967</td>\n      <td>1.024581</td>\n      <td>0.0</td>\n      <td>0.0</td>\n      <td>0.0</td>\n      <td>0.000000</td>\n      <td>0.0</td>\n      <td>0.0</td>\n    </tr>\n  </tbody>\n</table>\n<p>2544 rows × 39 columns</p>\n</div>"
     },
     "execution_count": 51,
     "metadata": {},
     "output_type": "execute_result"
    }
   ],
   "source": [
    "dfXOverfit"
   ]
  }
 ],
 "metadata": {
  "kernelspec": {
   "display_name": "Python 3",
   "language": "python",
   "name": "python3"
  },
  "language_info": {
   "codemirror_mode": {
    "name": "ipython",
    "version": 3
   },
   "file_extension": ".py",
   "mimetype": "text/x-python",
   "name": "python",
   "nbconvert_exporter": "python",
   "pygments_lexer": "ipython3",
   "version": "3.8.5"
  }
 },
 "nbformat": 4,
 "nbformat_minor": 1
}