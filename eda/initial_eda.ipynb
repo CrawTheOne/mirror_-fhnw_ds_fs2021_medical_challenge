{
 "cells": [
  {
   "cell_type": "markdown",
   "metadata": {},
   "source": [
    "# Exploratory data analysis before preprocessing\n",
    "The aim of this notebook is to identify problems with single features. This notebook does not explore the influence of features between eachother. \n",
    "\n",
    "Goals:\n",
    "- Describe every feature\n",
    "- Identify Problems for every feature\n",
    "- Collect ideas on how to collapse data, impute missing data or even drop data\n",
    "\n",
    "TODO: \n",
    "- How to handle minorities in category race, eg. \"Native Hawaiian or Other Pacific Islander\" (3 observations) or \"American Indian or Alaska Native\" (1 observation)\n",
    "- Suggest renaming of feature \"loc\" as it is also function used in pandas\n",
    "- Inquire about the purpose of the feature \"other\"\n",
    "- AC Abn Od Cells and AC Abn Os Cells: How can we interpret the value \"panuveitis\"?"
   ]
  },
  {
   "cell_type": "code",
   "execution_count": null,
   "metadata": {},
   "outputs": [],
   "source": [
    "# imports (install missing libraries by running \"!pip install 'libraryname'\" in a cell)\n",
    "import pandas as pd\n",
    "import numpy as np\n",
    "import matplotlib.pyplot as plt\n",
    "import seaborn as sns\n",
    "import sys\n",
    "import missingno as msno \n",
    "sys.path.insert(0, '../preprocessing/')\n",
    "import pipe\n",
    "\n",
    "# set plot style and size:\n",
    "sns.set(rc={'figure.figsize':(9,6)})\n",
    "sns.set_style(\"ticks\")"
   ]
  },
  {
   "cell_type": "markdown",
   "metadata": {},
   "source": [
    "## Helper functions"
   ]
  },
  {
   "cell_type": "code",
   "execution_count": null,
   "metadata": {},
   "outputs": [],
   "source": [
    "def countplot(df, column, title, subtitle, xlabel, ylabel, xtick_rotation = None):\n",
    "    g = sns.countplot(x=df[column])\n",
    "\n",
    "    # Title, Subtitle and Axis\n",
    "    g.text(x=0.5, \n",
    "            y=1.06, \n",
    "            s=title, \n",
    "            fontsize=10, weight='bold', ha='center', va='bottom', transform=g.transAxes)\n",
    "    g.text(x=0.5, \n",
    "            y=1.01, \n",
    "            s=subtitle, \n",
    "            fontsize=10, alpha=0.75, ha='center', va='bottom', transform=g.transAxes)\n",
    "    plt.xlabel(xlabel)\n",
    "    plt.ylabel(ylabel)\n",
    "    if xtick_rotation is not None:\n",
    "        plt.xticks(rotation=xtick_rotation)\n",
    "    plt.show()"
   ]
  },
  {
   "cell_type": "code",
   "execution_count": null,
   "metadata": {},
   "outputs": [],
   "source": [
    "# import dataframe\n",
    "df = pd.read_excel(\"../data/uveitis_data.xlsx\")\n",
    "assert len(df) >= 1075, \"Data is not complete\"\n",
    "\n",
    "# rename columns\n",
    "df = pipe.rename(df, \"../data/col_names&data_type-Copy1.xlsx\")"
   ]
  },
  {
   "cell_type": "markdown",
   "metadata": {},
   "source": [
    "## Missing Values"
   ]
  },
  {
   "cell_type": "code",
   "execution_count": null,
   "metadata": {},
   "outputs": [],
   "source": [
    "msno.matrix(df, sparkline=False);"
   ]
  },
  {
   "cell_type": "code",
   "execution_count": null,
   "metadata": {},
   "outputs": [],
   "source": [
    "df.head()"
   ]
  },
  {
   "cell_type": "code",
   "execution_count": null,
   "metadata": {},
   "outputs": [],
   "source": [
    "df.columns.tolist()"
   ]
  },
  {
   "cell_type": "markdown",
   "metadata": {},
   "source": [
    "## id\n",
    "Unique identifier of an observation, aka a patient"
   ]
  },
  {
   "cell_type": "code",
   "execution_count": null,
   "metadata": {},
   "outputs": [],
   "source": [
    "assert len(df['id'].unique()) == len(df['id']), \"Id is not unique\""
   ]
  },
  {
   "cell_type": "code",
   "execution_count": null,
   "metadata": {},
   "outputs": [],
   "source": [
    "df.id.sample(3)"
   ]
  },
  {
   "cell_type": "markdown",
   "metadata": {},
   "source": [
    "## gender\n",
    "A categorical variable that defines the gender of a patient"
   ]
  },
  {
   "cell_type": "code",
   "execution_count": null,
   "metadata": {},
   "outputs": [],
   "source": [
    "count = df.gender.value_counts()\n",
    "n_male, n_female = count['Male'], count['Female']\n",
    "countplot(df, 'gender', f'Distribution of the feature \"gender\"', f'Male: {n_male}, Female: {n_female}', f'Gender', f'Nr. of Patients')"
   ]
  },
  {
   "cell_type": "markdown",
   "metadata": {},
   "source": [
    "## race\n",
    "Describes the ethnicity of the patient. This information is provided by the patient himself."
   ]
  },
  {
   "cell_type": "code",
   "execution_count": null,
   "metadata": {},
   "outputs": [],
   "source": [
    "df.race.value_counts()"
   ]
  },
  {
   "cell_type": "code",
   "execution_count": null,
   "metadata": {},
   "outputs": [],
   "source": [
    "count = df.race.value_counts()\n",
    "g = sns.countplot(y=df.race)\n",
    "\n",
    "# Title, Subtitle and Axis\n",
    "g.text(x=0.5, \n",
    "        y=1.06, \n",
    "        s=f'Distribution of the feature \"race\"', \n",
    "        fontsize=10, weight='bold', ha='center', va='bottom', transform=g.transAxes)\n",
    "g.text(x=0.5, \n",
    "        y=1.01, \n",
    "        s=f'This information is provided by the patient', \n",
    "        fontsize=10, alpha=0.75, ha='center', va='bottom', transform=g.transAxes)\n",
    "g.yaxis.tick_right()\n",
    "# g.yaxis.set_label_position(\"right\")\n",
    "plt.ylabel(f'Race')\n",
    "plt.xlabel(f'Nr. of Patients')\n",
    "plt.show()"
   ]
  },
  {
   "cell_type": "markdown",
   "metadata": {},
   "source": [
    "In the graph we can see that there is both the category \"Unknown Race\" (74 observations) and \"Race or Ethnic Group Data Not Provided by Source\" (1 observation). We suggest to consider both categories as \"Missing Values\" and to combine them. Also, there are categories that hardly appear in the dataset. These include \"Native Hawaiian or Other Pacific Islander\" (3 observations) or \"American Indian or Alaska Native\" (1 observation). "
   ]
  },
  {
   "cell_type": "markdown",
   "metadata": {},
   "source": [
    "## loc\n",
    "aka \"Location\" describes the location of the inflammation in the eye."
   ]
  },
  {
   "cell_type": "code",
   "execution_count": null,
   "metadata": {},
   "outputs": [],
   "source": [
    "df['loc'] = df['loc'].str.lower().str.strip()\n",
    "df[df['loc'] == 'pan'] = 'panuveitis'\n",
    "df['loc'] = df['loc'].astype('category')\n",
    "df['loc'].value_counts(dropna=False)"
   ]
  },
  {
   "cell_type": "code",
   "execution_count": null,
   "metadata": {},
   "outputs": [],
   "source": [
    "countplot(df, 'loc', f'Distribution of the feature \"loc\" (location)', 'Describes the location of the inflammation in the eye', f'Location', f'Nr. of Patients')"
   ]
  },
  {
   "cell_type": "markdown",
   "metadata": {},
   "source": [
    "In addition to the categories anterior (lat. in front), posterior (lat. in back) and intermediate, there is the category panuveities which is an inflammation of the whole uvea tract as well as the retina and the vitreous humor (glass body) (see Bansal et al., 2010). The category \"scleritis\" refers to inflammation of episcleral and scleral tissue (see Alan et al., o. J.). "
   ]
  },
  {
   "cell_type": "markdown",
   "metadata": {},
   "source": [
    "## cat\n",
    "cat (\"Category\") describes describes the origin of the inflammation. This can be, for example, systematic, infectious or idiopathic. This feature is based on the results of laboratory tests and has therefore been recorded retrospectively. However, it is interesting to make a prediction about the patient without the need of manualy aggregated information. We recommend trying to find a model that does not use this feature."
   ]
  },
  {
   "cell_type": "code",
   "execution_count": null,
   "metadata": {},
   "outputs": [],
   "source": [
    "df.cat = df.cat.str.lower().str.strip().astype('category')\n",
    "df.cat.value_counts()"
   ]
  },
  {
   "cell_type": "code",
   "execution_count": null,
   "metadata": {},
   "outputs": [],
   "source": [
    "g = sns.countplot(y=\"cat\", data=df, order = df['cat'].value_counts(dropna=False).index )\n",
    "\n",
    "# Title, Subtitle and Axis\n",
    "g.text(x=0.5, \n",
    "        y=1.06, \n",
    "        s=f'Distribution of the feature \"cat\" (Category)', \n",
    "        fontsize=10, weight='bold', ha='center', va='bottom', transform=g.transAxes)\n",
    "g.text(x=0.5, \n",
    "        y=1.01, \n",
    "        s= 'Describes the origin of the inflammation in the eye', \n",
    "        fontsize=10, alpha=0.75, ha='center', va='bottom', transform=g.transAxes)\n",
    "g.yaxis.tick_right()\n",
    "# g.yaxis.set_label_position(\"right\")\n",
    "plt.ylabel(f'Category')\n",
    "plt.xlabel(f'Nr. of Patients')\n",
    "plt.show()"
   ]
  },
  {
   "cell_type": "markdown",
   "metadata": {},
   "source": [
    "More than 400 of the observations are idiopathic, i.e. the cause is unknown. Furthermore, the category panuveitis often exists, followed by wds (white dot syndromes) and systemic or infectious origin. Categories containing the term \"masquerade\" refer to a form of pseudo-uveitis (see Smith et al., 1986). The inflammation appears to be uveitis, but it is not. There is also an observation of scleritis and one labeled \"not_uveitis\". We advise to combine all forms of pseudo-uveitis and treat the categories with only one observation as missing values."
   ]
  },
  {
   "cell_type": "markdown",
   "metadata": {},
   "source": [
    "## other_"
   ]
  },
  {
   "cell_type": "code",
   "execution_count": null,
   "metadata": {},
   "outputs": [],
   "source": [
    "print(f'{round(df.other_.isna().sum()/len(df),3)*100} % missing values')"
   ]
  },
  {
   "cell_type": "code",
   "execution_count": null,
   "metadata": {},
   "outputs": [],
   "source": [
    "df.other_.unique()"
   ]
  },
  {
   "cell_type": "markdown",
   "metadata": {},
   "source": [
    "## ehr_diagnosis\n",
    "EHR diagnosos is am electronic transmited diagnose, usually given beforehand by another doctor, not knowing about the lab results and final diagnosis. This feature contains a lot of diffrent categories (533 unique values). "
   ]
  },
  {
   "cell_type": "code",
   "execution_count": null,
   "metadata": {},
   "outputs": [],
   "source": [
    "print(f'{round(df.ehr_diagnosis.isna().sum()/len(df),3)*100} % missing values')"
   ]
  },
  {
   "cell_type": "code",
   "execution_count": null,
   "metadata": {},
   "outputs": [],
   "source": [
    "print(f'{len(df.ehr_diagnosis.str.strip().str.lower().unique())} unique values')"
   ]
  },
  {
   "cell_type": "code",
   "execution_count": null,
   "metadata": {},
   "outputs": [],
   "source": [
    "df.ehr_diagnosis.str.strip().str.lower().value_counts(dropna=False)"
   ]
  },
  {
   "cell_type": "markdown",
   "metadata": {},
   "source": [
    "## specific_diagnosis \n",
    "This feature is considered by the client to be the most important target variable. It indicates the diagnosis after laboratory testing by the team that provided the dataset. Some categories, such as \"idiopathic_anterior\" and \"idopathic_scleritis\" can probably be combined after consultation with the client. Diagnoses that cannot be assigned to a form of uveitis could be designated as \"not_uveitis\" and grouped together. "
   ]
  },
  {
   "cell_type": "code",
   "execution_count": null,
   "metadata": {},
   "outputs": [],
   "source": [
    "df.specific_diagnosis.str.lower().str.strip().value_counts(dropna=False)"
   ]
  },
  {
   "cell_type": "markdown",
   "metadata": {},
   "source": [
    "## notes "
   ]
  },
  {
   "cell_type": "markdown",
   "metadata": {},
   "source": [
    "Contains notes/comments on the specific diagnosis. This feature has about 60% missing values. At this stage it is a candidate to be dropped. Later it should be checked how the data is related to the feature specific_diagnosis."
   ]
  },
  {
   "cell_type": "code",
   "execution_count": null,
   "metadata": {},
   "outputs": [],
   "source": [
    "print(f'{round(df.notes.isna().sum()/len(df),2)*100} % missing values')"
   ]
  },
  {
   "cell_type": "code",
   "execution_count": null,
   "metadata": {},
   "outputs": [],
   "source": [
    "df.notes.value_counts(dropna=False)"
   ]
  },
  {
   "cell_type": "code",
   "execution_count": null,
   "metadata": {},
   "outputs": [],
   "source": [
    "countplot(df, 'notes', f'Distribution of the feature \"notes\"', 'Notes to the specific diagnosis', f'Note', f'Nr. of Patients')"
   ]
  },
  {
   "cell_type": "markdown",
   "metadata": {},
   "source": [
    "## AC Abn Od Cells and AC Abn Os Cells\n",
    "These qualitative, ordinal features describe the severity of the inflammation of the Anterior Chamber Cells (AC) in either the left eye (OS) or the right eye (OD). The inflammation can be rated as 0, +0.5, +1, +2, +3, +4. The higher the value the more severe the inflammation is. If either one of these values a patient can be considered as \"Active\", else as \"Quiet\". This information could be recorded in a new column. Values marked with 'C' (C = Cannot) can be treated as missing as they indicate that the level of inlammation could not be measured."
   ]
  },
  {
   "cell_type": "code",
   "execution_count": null,
   "metadata": {},
   "outputs": [],
   "source": [
    "df.ac_abn_od_cells.str.strip().str.lower().value_counts()"
   ]
  },
  {
   "cell_type": "code",
   "execution_count": null,
   "metadata": {},
   "outputs": [],
   "source": [
    "df.ac_abn_os_cells.str.strip().str.lower().value_counts()"
   ]
  },
  {
   "cell_type": "markdown",
   "metadata": {},
   "source": [
    "## Vit Abn Od Cells, Vit Abn Os Cells, Vit Abn Od Haze and Vit Abn Os Haze\n",
    "These features describe (similar to AC Abn O...) the inflammation of cells in the left (OS) and right (OD) eye. The same scale of 0, +0.5, +1, +2, +3, +4 is used. If one of the values is higher than 0 the patient is considered to be \"Active\" as well. This information can be recorded in a new column as well."
   ]
  },
  {
   "cell_type": "code",
   "execution_count": null,
   "metadata": {},
   "outputs": [],
   "source": [
    "a = df.vit_abn_od_cells.str.strip().str.lower().value_counts()\n",
    "b = df.vit_abn_od_haze.str.strip().str.lower().value_counts()\n",
    "c = df.vit_abn_os_cells.str.strip().str.lower().value_counts()\n",
    "d = df.vit_abn_os_haze.str.strip().str.lower().value_counts()\n",
    "t = pd.concat([a,b,c,d],axis=1)\n",
    "t = t.sort_index(ascending=True)\n",
    "t.T.plot(kind='bar', stacked=True);"
   ]
  },
  {
   "cell_type": "markdown",
   "metadata": {},
   "source": [
    "### Sources \n",
    "\n",
    "Bansal, R., Gupta, V., & Gupta, A. (2010). Current approach in the diagnosis and management of panuveitis. Indian Journal of Ophthalmology, 58(1), 45–54. https://doi.org/10.4103/0301-4738.58471\n",
    "\n",
    "Alan, P. M., Feldman M.D., B. H., Hung, J., Tsai, J. H., & Hossain, Dr. K. (o. J.). Scleritis—EyeWiki. Abgerufen 12. März 2021, von https://eyewiki.aao.org/Scleritis\n",
    "\n",
    "Smith, R. E., Nozik, R. A., & Grabner, G. (1986). Pseudouveitis („Maskerade-Syndrome“). In R. E. Smith, R. A. Nozik, & G. Grabner (Hrsg.), Uveitis: Klinik, Diagnose, Therapie Ein Leidfaden für die Praxis (S. 238–241). Springer. https://doi.org/10.1007/978-3-642-70809-1_38\n"
   ]
  }
 ],
 "metadata": {
  "kernelspec": {
   "display_name": "Python 3",
   "language": "python",
   "name": "python3"
  },
  "language_info": {
   "codemirror_mode": {
    "name": "ipython",
    "version": 3
   },
   "file_extension": ".py",
   "mimetype": "text/x-python",
   "name": "python",
   "nbconvert_exporter": "python",
   "pygments_lexer": "ipython3",
   "version": "3.8.5"
  }
 },
 "nbformat": 4,
 "nbformat_minor": 4
}
