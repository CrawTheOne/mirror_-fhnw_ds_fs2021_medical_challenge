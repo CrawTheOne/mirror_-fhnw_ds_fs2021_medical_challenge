{
 "cells": [
  {
   "cell_type": "code",
   "execution_count": 1,
   "id": "permanent-sleeve",
   "metadata": {},
   "outputs": [],
   "source": [
    "import os\n",
    "os.chdir('../preprocessing/')\n",
    "import pipe\n",
    "os.chdir('../misc/')\n",
    "\n"
   ]
  },
  {
   "cell_type": "code",
   "execution_count": 19,
   "id": "going-mercy",
   "metadata": {},
   "outputs": [],
   "source": [
    "def hot_encode_categorical(df):\n",
    "    for column in df:\n",
    "        print(df[column].dtypes)\n",
    "        if df[column].dtypes == 'int8':\n",
    "            df[column] = df[column].astype('category').cat.codes\n",
    "    return df\n"
   ]
  },
  {
   "cell_type": "code",
   "execution_count": 20,
   "id": "constant-square",
   "metadata": {},
   "outputs": [],
   "source": [
    "df = pipe.preprocessing_pipe(hot_encode_cat = False)"
   ]
  },
  {
   "cell_type": "code",
   "execution_count": 21,
   "id": "dangerous-doctrine",
   "metadata": {},
   "outputs": [
    {
     "name": "stdout",
     "output_type": "stream",
     "text": [
      "category\n",
      "boo\n",
      "category\n",
      "boo\n",
      "category\n",
      "boo\n",
      "category\n",
      "boo\n",
      "category\n",
      "boo\n",
      "category\n",
      "boo\n",
      "category\n",
      "boo\n",
      "category\n",
      "boo\n",
      "category\n",
      "boo\n",
      "category\n",
      "boo\n",
      "category\n",
      "boo\n",
      "float64\n"
     ]
    },
    {
     "ename": "TypeError",
     "evalue": "data type 'category' not understood",
     "output_type": "error",
     "traceback": [
      "\u001b[1;31m---------------------------------------------------------------------------\u001b[0m",
      "\u001b[1;31mTypeError\u001b[0m                                 Traceback (most recent call last)",
      "\u001b[1;32m<ipython-input-21-fca3066cc40d>\u001b[0m in \u001b[0;36m<module>\u001b[1;34m\u001b[0m\n\u001b[0;32m      1\u001b[0m \u001b[1;32mfor\u001b[0m \u001b[0mcolumn\u001b[0m \u001b[1;32min\u001b[0m \u001b[0mdf\u001b[0m\u001b[1;33m:\u001b[0m\u001b[1;33m\u001b[0m\u001b[1;33m\u001b[0m\u001b[0m\n\u001b[0;32m      2\u001b[0m         \u001b[0mprint\u001b[0m\u001b[1;33m(\u001b[0m\u001b[0mdf\u001b[0m\u001b[1;33m[\u001b[0m\u001b[0mcolumn\u001b[0m\u001b[1;33m]\u001b[0m\u001b[1;33m.\u001b[0m\u001b[0mdtypes\u001b[0m\u001b[1;33m)\u001b[0m\u001b[1;33m\u001b[0m\u001b[1;33m\u001b[0m\u001b[0m\n\u001b[1;32m----> 3\u001b[1;33m         \u001b[1;32mif\u001b[0m \u001b[0mdf\u001b[0m\u001b[1;33m[\u001b[0m\u001b[0mcolumn\u001b[0m\u001b[1;33m]\u001b[0m\u001b[1;33m.\u001b[0m\u001b[0mdtypes\u001b[0m \u001b[1;33m==\u001b[0m \u001b[1;34m'category'\u001b[0m\u001b[1;33m:\u001b[0m\u001b[1;33m\u001b[0m\u001b[1;33m\u001b[0m\u001b[0m\n\u001b[0m\u001b[0;32m      4\u001b[0m             \u001b[0mprint\u001b[0m\u001b[1;33m(\u001b[0m\u001b[1;34m'boo'\u001b[0m\u001b[1;33m)\u001b[0m\u001b[1;33m\u001b[0m\u001b[1;33m\u001b[0m\u001b[0m\n\u001b[0;32m      5\u001b[0m             \u001b[0mdf\u001b[0m\u001b[1;33m[\u001b[0m\u001b[0mcolumn\u001b[0m\u001b[1;33m]\u001b[0m \u001b[1;33m=\u001b[0m \u001b[0mdf\u001b[0m\u001b[1;33m[\u001b[0m\u001b[0mcolumn\u001b[0m\u001b[1;33m]\u001b[0m\u001b[1;33m.\u001b[0m\u001b[0mastype\u001b[0m\u001b[1;33m(\u001b[0m\u001b[1;34m'category'\u001b[0m\u001b[1;33m)\u001b[0m\u001b[1;33m.\u001b[0m\u001b[0mcat\u001b[0m\u001b[1;33m.\u001b[0m\u001b[0mcodes\u001b[0m\u001b[1;33m\u001b[0m\u001b[1;33m\u001b[0m\u001b[0m\n",
      "\u001b[1;31mTypeError\u001b[0m: data type 'category' not understood"
     ]
    }
   ],
   "source": [
    "for column in df:\n",
    "        print(df[column].dtypes)\n",
    "        if df[column].dtypes == 'category':\n",
    "            print('boo')\n",
    "            df[column] = df[column].astype('category').cat.codes\n",
    "        else:\n",
    "            print('not category column')"
   ]
  },
  {
   "cell_type": "code",
   "execution_count": null,
   "id": "organizational-greensboro",
   "metadata": {},
   "outputs": [],
   "source": []
  }
 ],
 "metadata": {
  "kernelspec": {
   "display_name": "Python 3",
   "language": "python",
   "name": "python3"
  },
  "language_info": {
   "codemirror_mode": {
    "name": "ipython",
    "version": 3
   },
   "file_extension": ".py",
   "mimetype": "text/x-python",
   "name": "python",
   "nbconvert_exporter": "python",
   "pygments_lexer": "ipython3",
   "version": "3.7.10"
  }
 },
 "nbformat": 4,
 "nbformat_minor": 5
}
