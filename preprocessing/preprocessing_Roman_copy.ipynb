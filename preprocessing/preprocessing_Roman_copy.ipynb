{
 "cells": [
  {
   "cell_type": "markdown",
   "metadata": {},
   "source": [
    "TODO:\n",
    "- Describe HBc.. Columns"
   ]
  },
  {
   "cell_type": "code",
   "execution_count": 30,
   "metadata": {
    "pycharm": {
     "name": "#%%\n"
    }
   },
   "outputs": [],
   "source": [
    "# imports, libraries\n",
    "import pandas as pd\n",
    "import numpy as np\n",
    "import seaborn as sns\n",
    "import matplotlib.pyplot as plt\n",
    "import regex as re\n",
    "from sklearn.preprocessing import StandardScaler, Binarizer, LabelEncoder, Normalizer, OneHotEncoder\n",
    "from sklearn.impute import SimpleImputer\n",
    "from sklearn.compose import ColumnTransformer\n",
    "from sklearn.pipeline import Pipeline\n",
    "import os\n",
    "\n",
    "# import helperfunctions\n",
    "import preprocessing.pipe as pipe"
   ]
  },
  {
   "cell_type": "code",
   "execution_count": 31,
   "metadata": {},
   "outputs": [],
   "source": [
    "os.getcwd()\n",
    "os.chdir(\"D:/Drive/FHNW/zaRepos/fhnw_ds_fs2021_medical_challenge/preprocessing\")"
   ]
  },
  {
   "cell_type": "markdown",
   "metadata": {},
   "source": [
    "## Import and Renaming\n",
    "The dataset is imported with pandas `read_excel()`. The naming of the features, i.e. the names of the columns is not uniform. The features are renamed with the function `pipe.rename()`, which can be found in the script pipe.py, based on a given list. The list can be consulted in the document \"col_names&data_type-Copy1.xlsx\". All features are renamed in lowercase, and preceding and trailing spaces are removed. Brackets and their contents, e.g. \"(Blood)\", are removed. These would only complicate the readability of the code and are recognizable from the context as well as the name of the feature."
   ]
  },
  {
   "cell_type": "code",
   "execution_count": 32,
   "metadata": {},
   "outputs": [],
   "source": [
    "# import dataframe\n",
    "df = pd.read_excel(\"../data/uveitis_data.xlsx\")\n",
    "assert len(df) >= 1075, \"Data is not complete\"\n",
    "\n",
    "# rename columns\n",
    "df = pipe.rename(df, \"../data/col_names&data_type-Copy1.xlsx\")"
   ]
  },
  {
   "cell_type": "code",
   "execution_count": 33,
   "metadata": {},
   "outputs": [],
   "source": [
    "df = df.applymap(lambda x: x.strip() if isinstance(x, str) else x)"
   ]
  },
  {
   "cell_type": "code",
   "execution_count": 34,
   "metadata": {},
   "outputs": [
    {
     "name": "stdout",
     "output_type": "stream",
     "text": [
      "The following columns have been removed from the dataset:\n",
      "\n",
      "                       index     ratio\n",
      "70              anti-dnase_b  0.996279\n",
      "5                     other_  0.790698\n",
      "8                      notes  0.790698\n",
      "60      beta-2-microglobulin  0.657674\n",
      "63       lupus_anticoagulant  0.651163\n",
      "106       myeloperoxidase_ab  0.624186\n",
      "109  proteinase-3_antibodies  0.621395\n"
     ]
    }
   ],
   "source": [
    "df = pipe.drop_nan_columns(df, nan_percentage=.5, verbose = True)"
   ]
  },
  {
   "cell_type": "code",
   "execution_count": 35,
   "metadata": {},
   "outputs": [],
   "source": [
    "# df = pipe.drop_via_filter(test, 'range', verbose=True)"
   ]
  },
  {
   "cell_type": "markdown",
   "metadata": {},
   "source": [
    "# Categorical Features\n",
    "This section deals with categorical variables that can be taken as such directly from the dataset. There are features/variables that contain both categorical and numerical values. These are treated seperately. For each feature, a description is given of how it was processed. Mostly it is a simple normalization of the values, uniformization of values that contain the same information or removal of wrong or useless values. The decision to evaluate a value as \"missing\" is discussed in each case. All changes made can be adjusted or undone.\n",
    "\n"
   ]
  },
  {
   "cell_type": "markdown",
   "metadata": {},
   "source": [
    "## Feature Description \n",
    "- **Gender**, a qualitative, nominal feature describing the patients gender. A patient can either be in the \"male\" or \"female\" category.\n",
    "\n",
    "- **Race** describes the patients ethnicity.\n",
    "\n",
    "- **Location** locates the position of the inflammation in the eye. A distinction is made between posterior, anterior, intermediate, etc. \n",
    "\n",
    "- The feature **Categorical** records the source of the inflammation as seen by the specialists who recorded the data. Uveitis can be caused by systemic problems, infections, or often idopathic.\n",
    "\n",
    "- **EHR Diagnosos** is an electronic transmited diagnose, usually given beforehand by another doctor, that has had no knowledge about the lab tests and final diagnosis.\n",
    "\n",
    "- **Specific Diagnosis** is the diagnosis given by the team that collected the data. According to Dr. Nida Sen this is one of the most important outcome variables. This variable will be consired to be the target feature. \n",
    "\n",
    "- **AC Abn Od Cells and AC Abn Os Cells**. These qualitative, ordinal features describe the severity of the inflammation of the Anterior Chamber Cells (AC) in either the left eye (OS) or the right eye (OD). The inflammation can be rated as 0, +0.5, +1, +2, +3, +4. The higher the value the more severe the inflammation is. If either one of these values a patient can be considered as \"Active\", else as \"Quiet\". This information could be recorded in a new column.\n",
    "\n",
    "- **Vit Abn Od Cells, Vit Abn Os Cells, Vit Abn Od Haze and Vit Abn Os Haze** describe (similar to AC Abn O...) the inflammation of cells in the left (OS) and right (OD) eye. The same scale of 0, +0.5, +1, +2, +3, +4 is used. If one of the values is higher than 0 the patient is considered to be \"Active\" as well. This information can be recorded in a new column as well. \n",
    "\n",
    "- **HBc (HepB core) Ab (Blood), HBs (HepB surface) Ag (Blood), HCV (HepC) Ab (Blood)** \n",
    "\n",
    "Features that contain categorical and numerical information will be discussed in a later chapter."
   ]
  },
  {
   "cell_type": "markdown",
   "metadata": {},
   "source": [
    "### Gender\n",
    "\n",
    "This features containes the gender of the patient (\"female\" or \"male\") and is currently of the data type 'Object' ('O'). This feature gets transfromed to the dtype 'catgory' via the `pd.DataFrame.astype('category')`-function. This way it can later on easily be OneHotEncoded. "
   ]
  },
  {
   "cell_type": "code",
   "execution_count": 36,
   "metadata": {},
   "outputs": [
    {
     "data": {
      "text/plain": "['Male', 'Female']"
     },
     "execution_count": 36,
     "metadata": {},
     "output_type": "execute_result"
    }
   ],
   "source": [
    "df.gender.unique().tolist() # categories in feature 'gender'"
   ]
  },
  {
   "cell_type": "code",
   "execution_count": 37,
   "metadata": {},
   "outputs": [
    {
     "data": {
      "text/plain": "dtype('O')"
     },
     "execution_count": 37,
     "metadata": {},
     "output_type": "execute_result"
    }
   ],
   "source": [
    "df.gender.dtype # dtype before transformation"
   ]
  },
  {
   "cell_type": "code",
   "execution_count": 38,
   "metadata": {},
   "outputs": [
    {
     "data": {
      "text/plain": "CategoricalDtype(categories=['Female', 'Male'], ordered=False)"
     },
     "execution_count": 38,
     "metadata": {},
     "output_type": "execute_result"
    }
   ],
   "source": [
    "# gender\n",
    "def gender_dtype(df):\n",
    "    df.gender = df.gender.astype('category')\n",
    "    return df\n",
    "\n",
    "df = gender_dtype(df)\n",
    "df.gender.dtype # dtype after transformation"
   ]
  },
  {
   "cell_type": "markdown",
   "metadata": {},
   "source": [
    "### Race\n",
    "The categorical variable \"Race\" includes the category \"race or ethnic group data not provided by source\". These values are treated as missing values, aka in the category 'unknown', since they do not contain any information about the respective person. \"race or ethnic group data not provided by source\" and \"unknown race\" collaps into the category \"unknown\". Missing values (NaN's) are also marked with 'unknown'"
   ]
  },
  {
   "cell_type": "code",
   "execution_count": 39,
   "metadata": {},
   "outputs": [
    {
     "data": {
      "text/plain": "White                                        490\nBlack/African American                       381\nAsian                                         94\nunknown                                       75\nMultiracial                                   31\nNative Hawaiian or Other Pacific Islander      3\nAmerican Indian or Alaska Native               1\nName: race, dtype: int64"
     },
     "execution_count": 39,
     "metadata": {},
     "output_type": "execute_result"
    }
   ],
   "source": [
    "def race_processing(df):\n",
    "    df.race = df.race.replace({'Race or Ethnic Group Data Not Provided by Source':'unknown', \n",
    "                               'Unknown Race':'unknown'})\n",
    "    df.race = df.race.fillna(value='unknown')\n",
    "    df.race = df.race.astype('category')\n",
    "    assert df.race.isna().sum() == 0, 'Not all missing values are treated'\n",
    "    return df\n",
    "    \n",
    "df = race_processing(df)\n",
    "df.race.value_counts()"
   ]
  },
  {
   "cell_type": "markdown",
   "metadata": {},
   "source": [
    "TODO: Categories with less than 10 values, aka 'Native Hawaiian or Other Pacific Islander', 'American Indian or Alaska Native' may should be collapsed or discarded,"
   ]
  },
  {
   "cell_type": "markdown",
   "metadata": {},
   "source": [
    "### loc, \"Location\"\n",
    "The loc-Feature indicates the location of the inflammation of the eye. The category 'pan' is the same as 'panuveitis' and can be collapsed. \n",
    "We want to explore two diffrent approaches to treat this feature:\n",
    "\n",
    "1. We keep the categories 'anterior', 'intermediate', 'panuveitis', 'posterior' and 'sclerits'. All categories indicate a diffrent section of the eye (or multiple at once) that show inflammation. \n",
    "2. We collapse mutliple categories to get an 'anterior' and 'posterior' category. Aka, collapse the location to inflammations in the front and the back of the eye (binary feature). To achieve this we collapse the categories 'intermediate', 'posterior' and 'panuveities' to the category \"posterior_segment\". 'anterior' and 'scleritis' get collapsed to the category 'anterior_segment'."
   ]
  },
  {
   "cell_type": "code",
   "execution_count": 40,
   "metadata": {},
   "outputs": [
    {
     "name": "stdout",
     "output_type": "stream",
     "text": [
      "Categories: \n",
      "\n",
      "posterior       341\n",
      "anterior        242\n",
      "panuveitis      228\n",
      "intermediate    182\n",
      "scleritis        71\n",
      "Name: loc, dtype: int64\n"
     ]
    }
   ],
   "source": [
    "df = pipe.preprocessing_loc(df,'multi', verbose=True)"
   ]
  },
  {
   "cell_type": "markdown",
   "metadata": {},
   "source": [
    "### cat, \"Category\" \n",
    "The cat-feature describes the origin of the inflammation. For example infectious or idiopathic origin. \n",
    "We can collapse the categories \"nonneoplastic masquerade\" and \" neoplastic masquerade\" to not_uveitits. As these are \"pseudo-uveitis\"-types. The row with the single occurance of scleritis should be dropped as it has to few records with this category. The single occurance of NaN is a \"not_uveitis\" case and can be filled with that category."
   ]
  },
  {
   "cell_type": "code",
   "execution_count": 41,
   "metadata": {},
   "outputs": [
    {
     "data": {
      "text/plain": "idiopathic     530\nsystemic       192\nnot_uveitis    141\nwds            124\ninfectious      87\nName: cat, dtype: int64"
     },
     "execution_count": 41,
     "metadata": {},
     "output_type": "execute_result"
    }
   ],
   "source": [
    "for i in range(2):\n",
    "    df.cat = df.cat.str.lower().str.strip().astype('category')\n",
    "    if df.cat.isna().sum() >= 1:\n",
    "        df.cat = df.cat.fillna(value='not_uveitis')\n",
    "    df.loc[df['cat'].str.contains('masquerade', case=False), 'cat'] = 'not_uveitis'\n",
    "    df.drop(df[df.cat == 'scleritis'].index, inplace = True)\n",
    "    df.cat.value_counts()\n",
    "df.cat.value_counts()"
   ]
  },
  {
   "cell_type": "markdown",
   "metadata": {},
   "source": [
    "### ehr_diagnosis\n",
    "EHR diagnosos is an electronic transmitted diagnosis, usually given beforehand by another doctor, not knowing about the lab results and final diagnosis. This feature contains a lot of diffrent categories (533 unique values). Because of that we drop this feature."
   ]
  },
  {
   "cell_type": "code",
   "execution_count": 42,
   "metadata": {},
   "outputs": [],
   "source": [
    "df.drop(columns=['ehr_diagnosis'], inplace=True)"
   ]
  },
  {
   "cell_type": "markdown",
   "metadata": {},
   "source": [
    "### specific_diagnosis\n",
    "Specific diagnoses which occur less or equal to 10 times in the dataset get collapsed into the catgory 'other'"
   ]
  },
  {
   "cell_type": "code",
   "execution_count": 43,
   "metadata": {},
   "outputs": [
    {
     "data": {
      "text/plain": "idiopathic_anterior      169\npars planitis            145\nnot_uveitis              137\nidiopathic_panuveitis    107\nwds                       92\nidiopathic_posterior      58\nidiopathic_scleritis      56\nvkh                       45\ntoxoplasmosis             34\npresumed_sarcoidosis      33\nbcr                       32\nother                     26\nbx_proven_sarcoidosis     26\nviral                     25\nrheumatologic             24\nhla_b27                   21\nbehcet                    19\ntuberculosis              13\nmultiple_sclerosis        12\nName: specific_diagnosis, dtype: int64"
     },
     "execution_count": 43,
     "metadata": {},
     "output_type": "execute_result"
    }
   ],
   "source": [
    "def preprocessing_specific(df):\n",
    "    df.specific_diagnosis = df.specific_diagnosis.str.lower().astype('category')\n",
    "    df.loc[df['specific_diagnosis'].str.contains('masquerade', case=False), 'specific_diagnosis'] = 'not_uveitis'\n",
    "\n",
    "    count = df.specific_diagnosis.value_counts().reset_index().rename(columns={'index':'diagnosis','specific_diagnosis':'count'})\n",
    "    diag_less_10 = count[count['count'] <= 10].diagnosis.tolist()\n",
    "    df.specific_diagnosis = df.specific_diagnosis.replace({x:'other' for x in diag_less_10})\n",
    "    return df\n",
    "\n",
    "df = preprocessing_specific(df)\n",
    "df.specific_diagnosis.value_counts()"
   ]
  },
  {
   "cell_type": "markdown",
   "metadata": {},
   "source": [
    "### notes\n",
    "This column contains notes to the diagnosis and is mostly missing. This feature will be dropped at the end of the preprocessing."
   ]
  },
  {
   "cell_type": "code",
   "execution_count": 44,
   "metadata": {},
   "outputs": [],
   "source": [
    "if 'notes' in df.columns:\n",
    "    print(df.note.isna().sum()/len(df))"
   ]
  },
  {
   "cell_type": "markdown",
   "metadata": {},
   "source": [
    "### ac_abn_...-columns and vit_abn_...-columns\n",
    "Replace 'C' as Missing and change dtype to 'float'"
   ]
  },
  {
   "cell_type": "code",
   "execution_count": 45,
   "metadata": {},
   "outputs": [],
   "source": [
    "def preprocessing_inflammation(df, col = ['ac_abn_od_cells', 'ac_abn_os_cells', 'vit_abn_od_cells',\n",
    "       'vit_abn_os_cells', 'vit_abn_od_haze', 'vit_abn_os_haze']):\n",
    "    for c in col: \n",
    "        # replace 'C' (for missing) with NaN\n",
    "        df[c] = df[c].replace('C',np.nan)\n",
    "        df[c] = df[c].astype('float')\n",
    "        df[c] = pd.Categorical(values=df[c], categories=df[c].unique().sort(), ordered=True)\n",
    "    return df\n",
    "df = preprocessing_inflammation(df)"
   ]
  },
  {
   "cell_type": "markdown",
   "metadata": {},
   "source": [
    "### hbc__ab, hbs__ag and hcv__ab\n",
    "These columns encode the lab results for diffrent types of hepatitis. We encode these in binary form. Negative results are '0' and positive results get encoded as '1'. There are some cases where neither a positive or negative result can be identified. These values will be set as missing values. "
   ]
  },
  {
   "cell_type": "code",
   "execution_count": 46,
   "metadata": {},
   "outputs": [],
   "source": [
    "def preprocessing_hepatitis(df, col=['hbc__ab', 'hbs__ag', 'hcv__ab'], verbose=False):\n",
    "    for c in col:\n",
    "        df[c] = df[c].str.lower()\n",
    "        df.loc[df[c] == 'negative', c] = 0\n",
    "        df.loc[df[c] == 'see note | positive result s/co ratio is >5.0.  confirmatory testing i', c] = 1\n",
    "        df.loc[df[c] == 'see below | positive result s/co ratio is >5.0.  confirmatory testing', c] = 1\n",
    "        df.loc[df[c] == 'reactive', c] = 1\n",
    "        df.loc[df[c] == 'repeat reactive', c] = 1\n",
    "        df.loc[df[c] == 'invalid result', c] = np.nan\n",
    "        df.loc[df[c] == 'note:', c] = np.nan\n",
    "        df[c] = df[c].astype('category')\n",
    "        if verbose:\n",
    "            print(df[c].value_counts())\n",
    "    return df\n",
    "df = preprocessing_hepatitis(df)"
   ]
  },
  {
   "cell_type": "markdown",
   "metadata": {},
   "source": [
    "### hla-columns\n",
    "These columns contain genetic data about the patients. This data should be used for a seperate model and thus will not be used (at least for now) and dropped. A function has been defined to drop these columns."
   ]
  },
  {
   "cell_type": "code",
   "execution_count": 47,
   "metadata": {},
   "outputs": [],
   "source": [
    "# df = pipe.drop_via_filter(test, 'hla', verbose=True)"
   ]
  },
  {
   "cell_type": "markdown",
   "source": [
    "## Numerical Features\n",
    "This section deals with numerical variables that can be extracted from the dataset. As mentioned before, there are features/variables that contain both categorical and numerical values. These are treated seperately. For each feature, a description is given of how it was processed. Mostly it is a simple normalization of the values, uniformization of values that contain the same information or removal of wrong or useless values. The decision to evaluate a value as \"missing\" is discussed in each case. All changes made can be adjusted or undone."
   ],
   "metadata": {
    "collapsed": false,
    "pycharm": {
     "name": "#%% md\n"
    }
   }
  },
  {
   "cell_type": "markdown",
   "source": [
    "### Feauture Description\n"
   ],
   "metadata": {
    "collapsed": false,
    "pycharm": {
     "name": "#%% md\n"
    }
   }
  },
  {
   "cell_type": "code",
   "execution_count": 48,
   "outputs": [
    {
     "name": "stdout",
     "output_type": "stream",
     "text": [
      "['id', 'calcium', 'lactate_dehydrogenase', 'c-reactive_protein,_normal_and_high_sensitivity', 'wbc', 'rbc', 'hemoglobin', 'hematocrit', 'mcv', 'mch', 'mchc', 'rdw', 'platelet_count', 'neutrophil_%', 'lymphocytes_%', 'angiotensin_conv#enzyme', 'beta-2-microglobulin', 'lysozyme,_plasma', 'anti-dnase_b', 'complement_c3', 'complement_c4', 'rheumatoid_factor']\n",
      "        id calcium lactate_dehydrogenase  \\\n",
      "0        1    2.27                   184   \n",
      "1        2    2.32                   209   \n",
      "2        3    2.44                   194   \n",
      "3        4    2.45                   156   \n",
      "4        5    2.28                   175   \n",
      "...    ...     ...                   ...   \n",
      "1070  1071    2.26                   194   \n",
      "1071  1072    2.36                   239   \n",
      "1072  1073    2.26                   196   \n",
      "1073  1074    2.41                   173   \n",
      "1074  1075    2.39                   214   \n",
      "\n",
      "     c-reactive_protein,_normal_and_high_sensitivity    wbc   rbc hemoglobin  \\\n",
      "0                                               1.83   6.91  4.97       14.6   \n",
      "1                                              <0.15   4.24  4.22         11   \n",
      "2                                              0.137   6.38  4.31       13.6   \n",
      "3                                                3.5   5.24  4.82       14.6   \n",
      "4                                                  1   8.31  4.72         14   \n",
      "...                                              ...    ...   ...        ...   \n",
      "1070                                            15.4   7.22  5.49       12.7   \n",
      "1071                                             0.8   7.65  4.56       12.6   \n",
      "1072                                             0.6   3.83  4.54       14.5   \n",
      "1073                                            6.97  16.65  4.94       13.4   \n",
      "1074                                            0.64   7.23  4.54       16.2   \n",
      "\n",
      "     hematocrit   mcv   mch  mchc   rdw platelet_count neutrophil_%  \\\n",
      "0          41.4  83.3  29.4  35.3  13.9            194         64.4   \n",
      "1            36  85.3  26.1  30.6  14.8            260         40.1   \n",
      "2          38.7  89.8  31.6  35.1  11.7            344         70.2   \n",
      "3          43.6  90.5  30.3  33.5  12.4            220         56.6   \n",
      "4          40.7  86.2  29.7  34.4  12.1            324         60.4   \n",
      "...         ...   ...   ...   ...   ...            ...          ...   \n",
      "1070       40.6    74  23.1  31.3  15.4            292         67.3   \n",
      "1071       35.9  78.7  27.6  35.1  13.5            219         54.3   \n",
      "1072       42.8  94.3  31.9  33.9  14.9            239         52.6   \n",
      "1073       40.5    82  27.1  33.1  15.7            369         70.5   \n",
      "1074       43.7  96.3  35.7  37.1  12.3            224         85.4   \n",
      "\n",
      "     lymphocytes_% angiotensin_conv#enzyme lysozyme,_plasma  complement_c3  \\\n",
      "0             30.8                     NaN                3          149.0   \n",
      "1             49.1                    27.3              NaN          130.8   \n",
      "2             22.1                    60.2              4.8          135.9   \n",
      "3             34.2                    38.9                :          130.0   \n",
      "4             27.4                    18.3              4.5          130.4   \n",
      "...            ...                     ...              ...            ...   \n",
      "1070          17.7                   < 1.0              9.3          112.4   \n",
      "1071          38.6                      53              3.6          121.5   \n",
      "1072          35.5                    39.9              2.9          114.9   \n",
      "1073          24.3                      23              3.6          131.0   \n",
      "1074          13.6                    24.7              3.2          128.0   \n",
      "\n",
      "     complement_c4 rheumatoid_factor  \n",
      "0               33               <15  \n",
      "1             22.8               <10  \n",
      "2             18.2               <10  \n",
      "3             19.9               <15  \n",
      "4               19               <10  \n",
      "...            ...               ...  \n",
      "1070          36.1               <15  \n",
      "1071          22.3               <15  \n",
      "1072          24.6               <15  \n",
      "1073            26               <15  \n",
      "1074            25               <15  \n",
      "\n",
      "[1074 rows x 20 columns]\n",
      "\n",
      " id is desired Int64 and will be popped from problematic list \n",
      "\n",
      "calcium has unwanted dtype, keeping for transformation\n",
      "lactate_dehydrogenase has unwanted dtype, keeping for transformation\n",
      "c-reactive_protein,_normal_and_high_sensitivity has unwanted dtype, keeping for transformation\n",
      "wbc has unwanted dtype, keeping for transformation\n",
      "rbc has unwanted dtype, keeping for transformation\n",
      "hemoglobin has unwanted dtype, keeping for transformation\n",
      "hematocrit has unwanted dtype, keeping for transformation\n",
      "mcv has unwanted dtype, keeping for transformation\n",
      "mch has unwanted dtype, keeping for transformation\n",
      "mchc has unwanted dtype, keeping for transformation\n",
      "rdw has unwanted dtype, keeping for transformation\n",
      "platelet_count has unwanted dtype, keeping for transformation\n",
      "neutrophil_% has unwanted dtype, keeping for transformation\n",
      "lymphocytes_% has unwanted dtype, keeping for transformation\n",
      "angiotensin_conv#enzyme has unwanted dtype, keeping for transformation\n",
      "lysozyme,_plasma has unwanted dtype, keeping for transformation\n",
      "\n",
      " complement_c3 is desired float64 and will be popped from problematic list \n",
      "\n",
      "complement_c4 has unwanted dtype, keeping for transformation\n",
      "rheumatoid_factor has unwanted dtype, keeping for transformation\n",
      "['calcium', 'lactate_dehydrogenase', 'c-reactive_protein,_normal_and_high_sensitivity', 'wbc', 'rbc', 'hemoglobin', 'hematocrit', 'mcv', 'mch', 'mchc', 'rdw', 'platelet_count', 'neutrophil_%', 'lymphocytes_%', 'angiotensin_conv#enzyme', 'lysozyme,_plasma', 'complement_c4', 'rheumatoid_factor']\n"
     ]
    },
    {
     "data": {
      "text/plain": "        id  gender                    race           loc          cat  \\\n0        1    Male  Black/African American      anterior  not_uveitis   \n1        2  Female  Black/African American  intermediate   idiopathic   \n2        3  Female                   White    panuveitis     systemic   \n3        4  Female                   White      anterior   idiopathic   \n4        5  Female                 unknown      anterior   idiopathic   \n...    ...     ...                     ...           ...          ...   \n1070  1071    Male                   Asian    panuveitis   infectious   \n1071  1072    Male                 unknown  intermediate   idiopathic   \n1072  1073  Female                 unknown     posterior   infectious   \n1073  1074  Female                   Asian     posterior          wds   \n1074  1075    Male                   White     posterior  not_uveitis   \n\n       specific_diagnosis ac_abn_od_cells ac_abn_os_cells vit_abn_od_cells  \\\n0     idiopathic_anterior             0.0             0.0              0.0   \n1           pars planitis             2.0             2.0              2.0   \n2                     vkh             0.5             0.5              1.0   \n3     idiopathic_anterior             0.0             0.0              0.0   \n4     idiopathic_anterior             0.0             0.0              0.0   \n...                   ...             ...             ...              ...   \n1070         tuberculosis             0.0             0.0              0.0   \n1071        pars planitis             0.0             1.0              0.0   \n1072        toxoplasmosis             0.0             0.0              0.0   \n1073                  wds             0.0             0.0              0.0   \n1074          not_uveitis             0.0             0.0              0.0   \n\n     vit_abn_os_cells vit_abn_od_haze vit_abn_os_haze calcium     uom  \\\n0                 0.5             0.0             0.0    2.27  mmol/L   \n1                 2.0             0.5             1.0    2.32  mmol/L   \n2                 1.0             0.0             0.0    2.44  mmol/L   \n3                 0.0             0.0             0.0    2.45  mmol/L   \n4                 0.0             0.0             0.0    2.28  mmol/L   \n...               ...             ...             ...     ...     ...   \n1070              0.0             0.0             0.0    2.26  mmol/L   \n1071              2.0             0.0             2.0    2.36  mmol/L   \n1072              1.0             0.0             1.0    2.26  mmol/L   \n1073              0.0             0.0             0.0    2.41  mmol/L   \n1074              0.0             0.0             0.0    2.39  mmol/L   \n\n          range lactate_dehydrogenase uom1   range1  \\\n0     2.05-2.50                   184  U/L  113-226   \n1     2.15-2.55                   209  U/L  120-290   \n2     2.15-2.55                   194  U/L  113-226   \n3     2.15-2.55                   156  U/L  113-226   \n4     2.15-2.55                   175  U/L  113-226   \n...         ...                   ...  ...      ...   \n1070  2.15-2.55                   194  U/L  113-226   \n1071  2.15-2.55                   239  U/L  120-345   \n1072  2.15-2.55                   196  U/L  113-226   \n1073  2.05-2.50                   173  U/L  113-226   \n1074  2.05-2.50                   214  U/L  113-226   \n\n     c-reactive_protein,_normal_and_high_sensitivity  uom2     range2    wbc  \\\n0                                               1.83  mg/L  0.00-4.99   6.91   \n1                                              <0.15  mg/L  0.00-4.99   4.24   \n2                                              0.137  mg/L  0.00-4.99   6.38   \n3                                                3.5  mg/L  0.00-4.99   5.24   \n4                                                  1  mg/L  0.00-4.99   8.31   \n...                                              ...   ...        ...    ...   \n1070                                            15.4  mg/L  0.00-4.99   7.22   \n1071                                             0.8  mg/L  0.00-4.99   7.65   \n1072                                             0.6  mg/L  0.00-4.99   3.83   \n1073                                            6.97  mg/L  0.00-4.99  16.65   \n1074                                            0.64  mg/L  0.00-4.99   7.23   \n\n      uom3      range3   rbc  uom4     range4 hemoglobin  uom5     range5  \\\n0     K/uL   4.23-9.07  4.97  M/uL  4.63-6.08       14.6  g/dL  13.7-17.5   \n1     K/uL  3.98-10.04  4.22  M/uL  3.93-5.22         11  g/dL  11.2-15.7   \n2     K/uL  3.98-10.04  4.31  M/uL  3.93-5.22       13.6  g/dL  11.2-15.7   \n3     K/uL  3.98-10.04  4.82  M/uL  3.93-5.22       14.6  g/dL  11.2-15.7   \n4     K/uL  3.98-10.04  4.72  M/uL  3.93-5.22         14  g/dL  11.2-15.7   \n...    ...         ...   ...   ...        ...        ...   ...        ...   \n1070  K/uL   4.23-9.07  5.49  M/uL  4.63-6.08       12.7  g/dL  13.7-17.5   \n1071  K/uL  4.31-11.00  4.56  M/uL  3.96-5.03       12.6  g/dL  10.7-13.4   \n1072  K/uL  3.98-10.04  4.54  M/uL  3.93-5.22       14.5  g/dL  11.2-15.7   \n1073  K/uL  3.98-10.04  4.94  M/uL  3.93-5.22       13.4  g/dL  11.2-15.7   \n1074  K/uL   4.23-9.07  4.54  M/uL  4.63-6.08       16.2  g/dL  13.7-17.5   \n\n     hematocrit uom6     range6   mcv uom7     range7   mch uom8     range8  \\\n0          41.4    %  40.1-51.0  83.3   fL  79.0-92.2  29.4   pg  25.7-32.2   \n1            36    %  34.1-44.9  85.3   fL  79.4-94.8  26.1   pg  25.6-32.2   \n2          38.7    %  34.1-44.9  89.8   fL  79.4-94.8  31.6   pg  25.6-32.2   \n3          43.6    %  34.1-44.9  90.5   fL  79.4-94.8  30.3   pg  25.6-32.2   \n4          40.7    %  34.1-44.9  86.2   fL  79.4-94.8  29.7   pg  25.6-32.2   \n...         ...  ...        ...   ...  ...        ...   ...  ...        ...   \n1070       40.6    %  40.1-51.0    74   fL  79.0-92.2  23.1   pg  25.7-32.2   \n1071       35.9    %  32.2-39.8  78.7   fL  74.4-86.1  27.6   pg  24.9-29.2   \n1072       42.8    %  34.1-44.9  94.3   fL  79.4-94.8  31.9   pg  25.6-32.2   \n1073       40.5    %  34.1-44.9    82   fL  79.4-94.8  27.1   pg  25.6-32.2   \n1074       43.7    %  40.1-51.0  96.3   fL  79.0-92.2  35.7   pg  25.7-32.2   \n\n      mchc  uom9     range9   rdw uom10    range10 platelet_count uom11  \\\n0     35.3  g/dL  32.3-36.5  13.9     %  11.6-14.4            194  K/uL   \n1     30.6  g/dL  32.2-35.5  14.8     %  11.7-14.4            260  K/uL   \n2     35.1  g/dL  32.2-35.5  11.7     %  11.7-14.4            344  K/uL   \n3     33.5  g/dL  32.2-35.5  12.4     %  11.7-14.4            220  K/uL   \n4     34.4  g/dL  32.2-35.5  12.1     %  11.7-14.4            324  K/uL   \n...    ...   ...        ...   ...   ...        ...            ...   ...   \n1070  31.3  g/dL  32.3-36.5  15.4     %  11.6-14.4            292  K/uL   \n1071  35.1  g/dL  32.2-34.9  13.5     %  11.6-14.4            219  K/uL   \n1072  33.9  g/dL  32.2-35.5  14.9     %  11.7-14.4            239  K/uL   \n1073  33.1  g/dL  32.2-35.5  15.7     %  11.7-14.4            369  K/uL   \n1074  37.1  g/dL  32.3-36.5  12.3     %  11.6-14.4            224  K/uL   \n\n      range11 neutrophil_% uom12    range12 lymphocytes_% uom13    range13  \\\n0     161-347         64.4     %  34.0-67.9          30.8     %  21.8-53.1   \n1     173-369         40.1     %  34.0-71.1          49.1     %  19.3-51.7   \n2     173-369         70.2     %  34.0-71.1          22.1     %  19.3-51.7   \n3     173-369         56.6     %  34.0-71.1          34.2     %  19.3-51.7   \n4     173-369         60.4     %  34.0-71.1          27.4     %  19.3-51.7   \n...       ...          ...   ...        ...           ...   ...        ...   \n1070  161-347         67.3     %  34.0-67.9          17.7     %  21.8-53.1   \n1071  206-369         54.3     %  28.6-74.5          38.6     %  15.5-56.6   \n1072  173-369         52.6     %  34.0-71.1          35.5     %  19.3-51.7   \n1073  173-369         70.5     %  34.0-71.1          24.3     %  19.3-51.7   \n1074  161-347         85.4     %  34.0-67.9          13.6     %  21.8-53.1   \n\n     angiotensin_conv#enzyme uom14   range14 uom15  range15 lysozyme,_plasma  \\\n0                        NaN   NaN       NaN  mg/L  0.9-1.7                3   \n1                       27.3   U/L  3.0-52.0   NaN      NaN              NaN   \n2                       60.2   U/L  3.0-52.0   NaN      NaN              4.8   \n3                       38.9   U/L  3.0-52.0   NaN      NaN                :   \n4                       18.3   U/L  3.0-52.0   NaN      NaN              4.5   \n...                      ...   ...       ...   ...      ...              ...   \n1070                   < 1.0   U/L  3.0-52.0  mg/L  0.9-1.7              9.3   \n1071                      53   U/L  3.0-52.0   NaN      NaN              3.6   \n1072                    39.9   U/L  3.0-52.0   NaN      NaN              2.9   \n1073                      23   U/L     16-52  mg/L  0.9-1.7              3.6   \n1074                    24.7   U/L  3.0-52.0  mg/L  0.9-1.7              3.2   \n\n       uom18    range18 anti-ccp_ab uom21 range21 uom22 range22  \\\n0     mcg/mL  2.7 - 9.4         <20  Unit    0-20   NaN     NaN   \n1        NaN        NaN         <20  Unit    0-19   NaN     NaN   \n2     mcg/mL  2.7 - 9.4         <20  Unit    0-19   NaN     NaN   \n3        NaN        NaN         <20  Unit    0-19   NaN     NaN   \n4     mcg/mL  2.7 - 9.4         <20  Unit    0-19   NaN     NaN   \n...      ...        ...         ...   ...     ...   ...     ...   \n1070  mcg/mL  2.7 - 9.4         <20  Unit    0-19   NaN     NaN   \n1071  mcg/mL  2.7 - 9.4         <20  Unit    0-20   NaN     NaN   \n1072  mcg/mL  2.7 - 9.4         <20  Unit    0-19   NaN     NaN   \n1073  mcg/mL    2.7-9.4         <20  Unit    0-20   NaN     NaN   \n1074  mcg/mL  2.7 - 9.4         <20  Unit    0-20   NaN     NaN   \n\n     anti-ena_screen uom23 range23 antinuclear_antibody uom24  range24  \\\n0                NEG    EU    0-19                  NEG    EU  0.0-0.9   \n1                NEG    EU    0-19                  NEG    EU  0.0-0.9   \n2                NEG    EU    0-19                  NEG    EU  0.0-0.9   \n3                NEG    EU    0-19                  NEG    EU  0.0-0.9   \n4                NEG    EU    0-19                  NEG    EU  0.0-0.9   \n...              ...   ...     ...                  ...   ...      ...   \n1070             NEG    EU    0-19                  NEG    EU  0.0-0.9   \n1071             NEG    EU    0-19                  NEG    EU  0.0-0.9   \n1072             NEG    EU    0-19                  NEG    EU  0.0-0.9   \n1073             NEG    EU    0-19                  NEG    EU  0.0-0.9   \n1074             NEG    EU    0-19                  NEG    EU  0.0-0.9   \n\n      complement_c3  uom25     range25 complement_c4  uom26    range26  \\\n0             149.0  mg/dL  90.0-180.0            33  mg/dL  10.0-40.0   \n1             130.8  mg/dL  90.0-180.0          22.8  mg/dL  10.0-40.0   \n2             135.9  mg/dL  90.0-180.0          18.2  mg/dL  10.0-40.0   \n3             130.0  mg/dL  90.0-180.0          19.9  mg/dL  10.0-40.0   \n4             130.4  mg/dL  90.0-180.0            19  mg/dL  10.0-40.0   \n...             ...    ...         ...           ...    ...        ...   \n1070          112.4  mg/dL  90.0-180.0          36.1  mg/dL  10.0-40.0   \n1071          121.5  mg/dL  90.0-180.0          22.3  mg/dL  10.0-40.0   \n1072          114.9  mg/dL  90.0-180.0          24.6  mg/dL  10.0-40.0   \n1073          131.0  mg/dL  90.0-180.0            26  mg/dL  10.0-40.0   \n1074          128.0  mg/dL  90.0-180.0            25  mg/dL  10.0-40.0   \n\n     dna_double-stranded_ab  uom27 range27     hla-a*  hla_a_1  hla_a_2  \\\n0                       NEG  IU/mL    0-30      30,74     30.0     74.0   \n1                       NEG  IU/mL    0-30      01,24      1.0     24.0   \n2                       NEG  IU/mL    0-30      23,33     23.0     33.0   \n3                       NEG  IU/mL    0-30      02,32      2.0     32.0   \n4                        73  IU/mL    0-30      03,24      3.0     24.0   \n...                     ...    ...     ...        ...      ...      ...   \n1070                    NEG  IU/mL    0-30      11,68     11.0     68.0   \n1071                    NEG  IU/mL    0-30      03,24      3.0     24.0   \n1072                    NEG  IU/mL    0-30         24     24.0     24.0   \n1073                    NEG  IU/mL    0-30  02/92, 24      2.0     24.0   \n1074                    NEG  IU/mL    0-30      24,32     24.0     32.0   \n\n        hla-b*  hla_b_1  hla_b_2 hla-cw*  hla_c_1  hla_c_2          hla-drb1*  \\\n0     08,82:01      8.0     82.0   03,07      3.0      7.0            03*,13*   \n1        07,41      7.0     41.0   06,17      6.0     17.0            01*,07*   \n2        44,51     44.0     51.0   02,04      2.0      4.0               4*01   \n3        44,49     44.0     49.0   05,07      5.0      7.0            04*,14*   \n4        35,35     35.0     35.0       4      4.0      4.0  01:01:01,13:02:01   \n...        ...      ...      ...     ...      ...      ...                ...   \n1070     15,27     15.0     27.0   08,15      8.0     15.0              04,12   \n1071     07,51      7.0     51.0   07,15      7.0     15.0            04*,15*   \n1072     35,35     35.0     35.0   01,04      1.0      4.0      08:02*,14:06*   \n1073    07, 52      7.0     52.0  07, 12      7.0     12.0              15,15   \n1074     18,40     18.0     40.0   02,12      2.0     12.0              11,14   \n\n      hla_drb1_1  hla_drb1_2    hla-dqb1*_/_dq*  hla_dq_1  hla_dq_2  \\\n0            3.0        13.0          02:01,05*       2.0       5.0   \n1            1.0         7.0    03:03:02,05:01*       3.0       5.0   \n2            4.0         4.0            03*,05*       3.0       5.0   \n3            4.0        14.0  03:05:01,05:03:01       3.0       5.0   \n4            1.0        13.0            05*,06*       5.0       6.0   \n...          ...         ...                ...       ...       ...   \n1070         4.0        12.0              03,03       3.0       3.0   \n1071         4.0        15.0        03:02,06:02       3.0       6.0   \n1072         8.0        14.0       03*,04:02:01       3.0       4.0   \n1073        15.0        15.0           06,06:02       6.0       6.0   \n1074        11.0        14.0              03,05       3.0       5.0   \n\n              hla-drb_*  hla_drb*_1  hla_drb*_2  uom34          range34  \\\n0          3*02,3*03:01         3.0         3.0    NaN              NaN   \n1        4*01:03:01:02N         4.0         4.0      U  <0.4 (Negative)   \n2     01:01:01,04:08:01         1.0         4.0    NaN              NaN   \n3             3*02,4*01         3.0         4.0    NaN              NaN   \n4                  3*03         3.0         3.0    NaN              NaN   \n...                 ...         ...         ...    ...              ...   \n1070       3*03:01,4*01         3.0         4.0      U  <0.4 (Negative)   \n1071       4*01,5*01:01         4.0         5.0    NaN              NaN   \n1072               3*01         3.0         3.0    NaN              NaN   \n1073          5*01,5*01         5.0         5.0    NaN              NaN   \n1074               3*02         3.0         3.0  units         0.0-10.0   \n\n      uom35          range35 rheumatoid_factor  uom36 range36 hbc__ab hbs__ag  \\\n0       NaN              NaN               <15  IU/mL     <15       0       0   \n1         U  <0.4 (Negative)               <10  IU/mL     <13       0       0   \n2       NaN              NaN               <10  IU/mL     <13       0       0   \n3       NaN              NaN               <15  IU/mL     <15       0       0   \n4       NaN              NaN               <10  IU/mL     <13       0       0   \n...     ...              ...               ...    ...     ...     ...     ...   \n1070      U  <0.4 (Negative)               <15  IU/mL     <15       0       0   \n1071    NaN              NaN               <15  IU/mL     <15       0       0   \n1072    NaN              NaN               <15  IU/mL     <15       0       0   \n1073    NaN              NaN               <15  IU/mL     <15       0       0   \n1074  units         0.0-10.0               <15  IU/mL     <15       0       0   \n\n     hcv__ab  \n0          0  \n1          0  \n2          0  \n3          0  \n4          0  \n...      ...  \n1070       0  \n1071       0  \n1072       0  \n1073       0  \n1074       0  \n\n[1074 rows x 110 columns]",
      "text/html": "<div>\n<style scoped>\n    .dataframe tbody tr th:only-of-type {\n        vertical-align: middle;\n    }\n\n    .dataframe tbody tr th {\n        vertical-align: top;\n    }\n\n    .dataframe thead th {\n        text-align: right;\n    }\n</style>\n<table border=\"1\" class=\"dataframe\">\n  <thead>\n    <tr style=\"text-align: right;\">\n      <th></th>\n      <th>id</th>\n      <th>gender</th>\n      <th>race</th>\n      <th>loc</th>\n      <th>cat</th>\n      <th>specific_diagnosis</th>\n      <th>ac_abn_od_cells</th>\n      <th>ac_abn_os_cells</th>\n      <th>vit_abn_od_cells</th>\n      <th>vit_abn_os_cells</th>\n      <th>vit_abn_od_haze</th>\n      <th>vit_abn_os_haze</th>\n      <th>calcium</th>\n      <th>uom</th>\n      <th>range</th>\n      <th>lactate_dehydrogenase</th>\n      <th>uom1</th>\n      <th>range1</th>\n      <th>c-reactive_protein,_normal_and_high_sensitivity</th>\n      <th>uom2</th>\n      <th>range2</th>\n      <th>wbc</th>\n      <th>uom3</th>\n      <th>range3</th>\n      <th>rbc</th>\n      <th>uom4</th>\n      <th>range4</th>\n      <th>hemoglobin</th>\n      <th>uom5</th>\n      <th>range5</th>\n      <th>hematocrit</th>\n      <th>uom6</th>\n      <th>range6</th>\n      <th>mcv</th>\n      <th>uom7</th>\n      <th>range7</th>\n      <th>mch</th>\n      <th>uom8</th>\n      <th>range8</th>\n      <th>mchc</th>\n      <th>uom9</th>\n      <th>range9</th>\n      <th>rdw</th>\n      <th>uom10</th>\n      <th>range10</th>\n      <th>platelet_count</th>\n      <th>uom11</th>\n      <th>range11</th>\n      <th>neutrophil_%</th>\n      <th>uom12</th>\n      <th>range12</th>\n      <th>lymphocytes_%</th>\n      <th>uom13</th>\n      <th>range13</th>\n      <th>angiotensin_conv#enzyme</th>\n      <th>uom14</th>\n      <th>range14</th>\n      <th>uom15</th>\n      <th>range15</th>\n      <th>lysozyme,_plasma</th>\n      <th>uom18</th>\n      <th>range18</th>\n      <th>anti-ccp_ab</th>\n      <th>uom21</th>\n      <th>range21</th>\n      <th>uom22</th>\n      <th>range22</th>\n      <th>anti-ena_screen</th>\n      <th>uom23</th>\n      <th>range23</th>\n      <th>antinuclear_antibody</th>\n      <th>uom24</th>\n      <th>range24</th>\n      <th>complement_c3</th>\n      <th>uom25</th>\n      <th>range25</th>\n      <th>complement_c4</th>\n      <th>uom26</th>\n      <th>range26</th>\n      <th>dna_double-stranded_ab</th>\n      <th>uom27</th>\n      <th>range27</th>\n      <th>hla-a*</th>\n      <th>hla_a_1</th>\n      <th>hla_a_2</th>\n      <th>hla-b*</th>\n      <th>hla_b_1</th>\n      <th>hla_b_2</th>\n      <th>hla-cw*</th>\n      <th>hla_c_1</th>\n      <th>hla_c_2</th>\n      <th>hla-drb1*</th>\n      <th>hla_drb1_1</th>\n      <th>hla_drb1_2</th>\n      <th>hla-dqb1*_/_dq*</th>\n      <th>hla_dq_1</th>\n      <th>hla_dq_2</th>\n      <th>hla-drb_*</th>\n      <th>hla_drb*_1</th>\n      <th>hla_drb*_2</th>\n      <th>uom34</th>\n      <th>range34</th>\n      <th>uom35</th>\n      <th>range35</th>\n      <th>rheumatoid_factor</th>\n      <th>uom36</th>\n      <th>range36</th>\n      <th>hbc__ab</th>\n      <th>hbs__ag</th>\n      <th>hcv__ab</th>\n    </tr>\n  </thead>\n  <tbody>\n    <tr>\n      <th>0</th>\n      <td>1</td>\n      <td>Male</td>\n      <td>Black/African American</td>\n      <td>anterior</td>\n      <td>not_uveitis</td>\n      <td>idiopathic_anterior</td>\n      <td>0.0</td>\n      <td>0.0</td>\n      <td>0.0</td>\n      <td>0.5</td>\n      <td>0.0</td>\n      <td>0.0</td>\n      <td>2.27</td>\n      <td>mmol/L</td>\n      <td>2.05-2.50</td>\n      <td>184</td>\n      <td>U/L</td>\n      <td>113-226</td>\n      <td>1.83</td>\n      <td>mg/L</td>\n      <td>0.00-4.99</td>\n      <td>6.91</td>\n      <td>K/uL</td>\n      <td>4.23-9.07</td>\n      <td>4.97</td>\n      <td>M/uL</td>\n      <td>4.63-6.08</td>\n      <td>14.6</td>\n      <td>g/dL</td>\n      <td>13.7-17.5</td>\n      <td>41.4</td>\n      <td>%</td>\n      <td>40.1-51.0</td>\n      <td>83.3</td>\n      <td>fL</td>\n      <td>79.0-92.2</td>\n      <td>29.4</td>\n      <td>pg</td>\n      <td>25.7-32.2</td>\n      <td>35.3</td>\n      <td>g/dL</td>\n      <td>32.3-36.5</td>\n      <td>13.9</td>\n      <td>%</td>\n      <td>11.6-14.4</td>\n      <td>194</td>\n      <td>K/uL</td>\n      <td>161-347</td>\n      <td>64.4</td>\n      <td>%</td>\n      <td>34.0-67.9</td>\n      <td>30.8</td>\n      <td>%</td>\n      <td>21.8-53.1</td>\n      <td>NaN</td>\n      <td>NaN</td>\n      <td>NaN</td>\n      <td>mg/L</td>\n      <td>0.9-1.7</td>\n      <td>3</td>\n      <td>mcg/mL</td>\n      <td>2.7 - 9.4</td>\n      <td>&lt;20</td>\n      <td>Unit</td>\n      <td>0-20</td>\n      <td>NaN</td>\n      <td>NaN</td>\n      <td>NEG</td>\n      <td>EU</td>\n      <td>0-19</td>\n      <td>NEG</td>\n      <td>EU</td>\n      <td>0.0-0.9</td>\n      <td>149.0</td>\n      <td>mg/dL</td>\n      <td>90.0-180.0</td>\n      <td>33</td>\n      <td>mg/dL</td>\n      <td>10.0-40.0</td>\n      <td>NEG</td>\n      <td>IU/mL</td>\n      <td>0-30</td>\n      <td>30,74</td>\n      <td>30.0</td>\n      <td>74.0</td>\n      <td>08,82:01</td>\n      <td>8.0</td>\n      <td>82.0</td>\n      <td>03,07</td>\n      <td>3.0</td>\n      <td>7.0</td>\n      <td>03*,13*</td>\n      <td>3.0</td>\n      <td>13.0</td>\n      <td>02:01,05*</td>\n      <td>2.0</td>\n      <td>5.0</td>\n      <td>3*02,3*03:01</td>\n      <td>3.0</td>\n      <td>3.0</td>\n      <td>NaN</td>\n      <td>NaN</td>\n      <td>NaN</td>\n      <td>NaN</td>\n      <td>&lt;15</td>\n      <td>IU/mL</td>\n      <td>&lt;15</td>\n      <td>0</td>\n      <td>0</td>\n      <td>0</td>\n    </tr>\n    <tr>\n      <th>1</th>\n      <td>2</td>\n      <td>Female</td>\n      <td>Black/African American</td>\n      <td>intermediate</td>\n      <td>idiopathic</td>\n      <td>pars planitis</td>\n      <td>2.0</td>\n      <td>2.0</td>\n      <td>2.0</td>\n      <td>2.0</td>\n      <td>0.5</td>\n      <td>1.0</td>\n      <td>2.32</td>\n      <td>mmol/L</td>\n      <td>2.15-2.55</td>\n      <td>209</td>\n      <td>U/L</td>\n      <td>120-290</td>\n      <td>&lt;0.15</td>\n      <td>mg/L</td>\n      <td>0.00-4.99</td>\n      <td>4.24</td>\n      <td>K/uL</td>\n      <td>3.98-10.04</td>\n      <td>4.22</td>\n      <td>M/uL</td>\n      <td>3.93-5.22</td>\n      <td>11</td>\n      <td>g/dL</td>\n      <td>11.2-15.7</td>\n      <td>36</td>\n      <td>%</td>\n      <td>34.1-44.9</td>\n      <td>85.3</td>\n      <td>fL</td>\n      <td>79.4-94.8</td>\n      <td>26.1</td>\n      <td>pg</td>\n      <td>25.6-32.2</td>\n      <td>30.6</td>\n      <td>g/dL</td>\n      <td>32.2-35.5</td>\n      <td>14.8</td>\n      <td>%</td>\n      <td>11.7-14.4</td>\n      <td>260</td>\n      <td>K/uL</td>\n      <td>173-369</td>\n      <td>40.1</td>\n      <td>%</td>\n      <td>34.0-71.1</td>\n      <td>49.1</td>\n      <td>%</td>\n      <td>19.3-51.7</td>\n      <td>27.3</td>\n      <td>U/L</td>\n      <td>3.0-52.0</td>\n      <td>NaN</td>\n      <td>NaN</td>\n      <td>NaN</td>\n      <td>NaN</td>\n      <td>NaN</td>\n      <td>&lt;20</td>\n      <td>Unit</td>\n      <td>0-19</td>\n      <td>NaN</td>\n      <td>NaN</td>\n      <td>NEG</td>\n      <td>EU</td>\n      <td>0-19</td>\n      <td>NEG</td>\n      <td>EU</td>\n      <td>0.0-0.9</td>\n      <td>130.8</td>\n      <td>mg/dL</td>\n      <td>90.0-180.0</td>\n      <td>22.8</td>\n      <td>mg/dL</td>\n      <td>10.0-40.0</td>\n      <td>NEG</td>\n      <td>IU/mL</td>\n      <td>0-30</td>\n      <td>01,24</td>\n      <td>1.0</td>\n      <td>24.0</td>\n      <td>07,41</td>\n      <td>7.0</td>\n      <td>41.0</td>\n      <td>06,17</td>\n      <td>6.0</td>\n      <td>17.0</td>\n      <td>01*,07*</td>\n      <td>1.0</td>\n      <td>7.0</td>\n      <td>03:03:02,05:01*</td>\n      <td>3.0</td>\n      <td>5.0</td>\n      <td>4*01:03:01:02N</td>\n      <td>4.0</td>\n      <td>4.0</td>\n      <td>U</td>\n      <td>&lt;0.4 (Negative)</td>\n      <td>U</td>\n      <td>&lt;0.4 (Negative)</td>\n      <td>&lt;10</td>\n      <td>IU/mL</td>\n      <td>&lt;13</td>\n      <td>0</td>\n      <td>0</td>\n      <td>0</td>\n    </tr>\n    <tr>\n      <th>2</th>\n      <td>3</td>\n      <td>Female</td>\n      <td>White</td>\n      <td>panuveitis</td>\n      <td>systemic</td>\n      <td>vkh</td>\n      <td>0.5</td>\n      <td>0.5</td>\n      <td>1.0</td>\n      <td>1.0</td>\n      <td>0.0</td>\n      <td>0.0</td>\n      <td>2.44</td>\n      <td>mmol/L</td>\n      <td>2.15-2.55</td>\n      <td>194</td>\n      <td>U/L</td>\n      <td>113-226</td>\n      <td>0.137</td>\n      <td>mg/L</td>\n      <td>0.00-4.99</td>\n      <td>6.38</td>\n      <td>K/uL</td>\n      <td>3.98-10.04</td>\n      <td>4.31</td>\n      <td>M/uL</td>\n      <td>3.93-5.22</td>\n      <td>13.6</td>\n      <td>g/dL</td>\n      <td>11.2-15.7</td>\n      <td>38.7</td>\n      <td>%</td>\n      <td>34.1-44.9</td>\n      <td>89.8</td>\n      <td>fL</td>\n      <td>79.4-94.8</td>\n      <td>31.6</td>\n      <td>pg</td>\n      <td>25.6-32.2</td>\n      <td>35.1</td>\n      <td>g/dL</td>\n      <td>32.2-35.5</td>\n      <td>11.7</td>\n      <td>%</td>\n      <td>11.7-14.4</td>\n      <td>344</td>\n      <td>K/uL</td>\n      <td>173-369</td>\n      <td>70.2</td>\n      <td>%</td>\n      <td>34.0-71.1</td>\n      <td>22.1</td>\n      <td>%</td>\n      <td>19.3-51.7</td>\n      <td>60.2</td>\n      <td>U/L</td>\n      <td>3.0-52.0</td>\n      <td>NaN</td>\n      <td>NaN</td>\n      <td>4.8</td>\n      <td>mcg/mL</td>\n      <td>2.7 - 9.4</td>\n      <td>&lt;20</td>\n      <td>Unit</td>\n      <td>0-19</td>\n      <td>NaN</td>\n      <td>NaN</td>\n      <td>NEG</td>\n      <td>EU</td>\n      <td>0-19</td>\n      <td>NEG</td>\n      <td>EU</td>\n      <td>0.0-0.9</td>\n      <td>135.9</td>\n      <td>mg/dL</td>\n      <td>90.0-180.0</td>\n      <td>18.2</td>\n      <td>mg/dL</td>\n      <td>10.0-40.0</td>\n      <td>NEG</td>\n      <td>IU/mL</td>\n      <td>0-30</td>\n      <td>23,33</td>\n      <td>23.0</td>\n      <td>33.0</td>\n      <td>44,51</td>\n      <td>44.0</td>\n      <td>51.0</td>\n      <td>02,04</td>\n      <td>2.0</td>\n      <td>4.0</td>\n      <td>4*01</td>\n      <td>4.0</td>\n      <td>4.0</td>\n      <td>03*,05*</td>\n      <td>3.0</td>\n      <td>5.0</td>\n      <td>01:01:01,04:08:01</td>\n      <td>1.0</td>\n      <td>4.0</td>\n      <td>NaN</td>\n      <td>NaN</td>\n      <td>NaN</td>\n      <td>NaN</td>\n      <td>&lt;10</td>\n      <td>IU/mL</td>\n      <td>&lt;13</td>\n      <td>0</td>\n      <td>0</td>\n      <td>0</td>\n    </tr>\n    <tr>\n      <th>3</th>\n      <td>4</td>\n      <td>Female</td>\n      <td>White</td>\n      <td>anterior</td>\n      <td>idiopathic</td>\n      <td>idiopathic_anterior</td>\n      <td>0.0</td>\n      <td>0.0</td>\n      <td>0.0</td>\n      <td>0.0</td>\n      <td>0.0</td>\n      <td>0.0</td>\n      <td>2.45</td>\n      <td>mmol/L</td>\n      <td>2.15-2.55</td>\n      <td>156</td>\n      <td>U/L</td>\n      <td>113-226</td>\n      <td>3.5</td>\n      <td>mg/L</td>\n      <td>0.00-4.99</td>\n      <td>5.24</td>\n      <td>K/uL</td>\n      <td>3.98-10.04</td>\n      <td>4.82</td>\n      <td>M/uL</td>\n      <td>3.93-5.22</td>\n      <td>14.6</td>\n      <td>g/dL</td>\n      <td>11.2-15.7</td>\n      <td>43.6</td>\n      <td>%</td>\n      <td>34.1-44.9</td>\n      <td>90.5</td>\n      <td>fL</td>\n      <td>79.4-94.8</td>\n      <td>30.3</td>\n      <td>pg</td>\n      <td>25.6-32.2</td>\n      <td>33.5</td>\n      <td>g/dL</td>\n      <td>32.2-35.5</td>\n      <td>12.4</td>\n      <td>%</td>\n      <td>11.7-14.4</td>\n      <td>220</td>\n      <td>K/uL</td>\n      <td>173-369</td>\n      <td>56.6</td>\n      <td>%</td>\n      <td>34.0-71.1</td>\n      <td>34.2</td>\n      <td>%</td>\n      <td>19.3-51.7</td>\n      <td>38.9</td>\n      <td>U/L</td>\n      <td>3.0-52.0</td>\n      <td>NaN</td>\n      <td>NaN</td>\n      <td>:</td>\n      <td>NaN</td>\n      <td>NaN</td>\n      <td>&lt;20</td>\n      <td>Unit</td>\n      <td>0-19</td>\n      <td>NaN</td>\n      <td>NaN</td>\n      <td>NEG</td>\n      <td>EU</td>\n      <td>0-19</td>\n      <td>NEG</td>\n      <td>EU</td>\n      <td>0.0-0.9</td>\n      <td>130.0</td>\n      <td>mg/dL</td>\n      <td>90.0-180.0</td>\n      <td>19.9</td>\n      <td>mg/dL</td>\n      <td>10.0-40.0</td>\n      <td>NEG</td>\n      <td>IU/mL</td>\n      <td>0-30</td>\n      <td>02,32</td>\n      <td>2.0</td>\n      <td>32.0</td>\n      <td>44,49</td>\n      <td>44.0</td>\n      <td>49.0</td>\n      <td>05,07</td>\n      <td>5.0</td>\n      <td>7.0</td>\n      <td>04*,14*</td>\n      <td>4.0</td>\n      <td>14.0</td>\n      <td>03:05:01,05:03:01</td>\n      <td>3.0</td>\n      <td>5.0</td>\n      <td>3*02,4*01</td>\n      <td>3.0</td>\n      <td>4.0</td>\n      <td>NaN</td>\n      <td>NaN</td>\n      <td>NaN</td>\n      <td>NaN</td>\n      <td>&lt;15</td>\n      <td>IU/mL</td>\n      <td>&lt;15</td>\n      <td>0</td>\n      <td>0</td>\n      <td>0</td>\n    </tr>\n    <tr>\n      <th>4</th>\n      <td>5</td>\n      <td>Female</td>\n      <td>unknown</td>\n      <td>anterior</td>\n      <td>idiopathic</td>\n      <td>idiopathic_anterior</td>\n      <td>0.0</td>\n      <td>0.0</td>\n      <td>0.0</td>\n      <td>0.0</td>\n      <td>0.0</td>\n      <td>0.0</td>\n      <td>2.28</td>\n      <td>mmol/L</td>\n      <td>2.15-2.55</td>\n      <td>175</td>\n      <td>U/L</td>\n      <td>113-226</td>\n      <td>1</td>\n      <td>mg/L</td>\n      <td>0.00-4.99</td>\n      <td>8.31</td>\n      <td>K/uL</td>\n      <td>3.98-10.04</td>\n      <td>4.72</td>\n      <td>M/uL</td>\n      <td>3.93-5.22</td>\n      <td>14</td>\n      <td>g/dL</td>\n      <td>11.2-15.7</td>\n      <td>40.7</td>\n      <td>%</td>\n      <td>34.1-44.9</td>\n      <td>86.2</td>\n      <td>fL</td>\n      <td>79.4-94.8</td>\n      <td>29.7</td>\n      <td>pg</td>\n      <td>25.6-32.2</td>\n      <td>34.4</td>\n      <td>g/dL</td>\n      <td>32.2-35.5</td>\n      <td>12.1</td>\n      <td>%</td>\n      <td>11.7-14.4</td>\n      <td>324</td>\n      <td>K/uL</td>\n      <td>173-369</td>\n      <td>60.4</td>\n      <td>%</td>\n      <td>34.0-71.1</td>\n      <td>27.4</td>\n      <td>%</td>\n      <td>19.3-51.7</td>\n      <td>18.3</td>\n      <td>U/L</td>\n      <td>3.0-52.0</td>\n      <td>NaN</td>\n      <td>NaN</td>\n      <td>4.5</td>\n      <td>mcg/mL</td>\n      <td>2.7 - 9.4</td>\n      <td>&lt;20</td>\n      <td>Unit</td>\n      <td>0-19</td>\n      <td>NaN</td>\n      <td>NaN</td>\n      <td>NEG</td>\n      <td>EU</td>\n      <td>0-19</td>\n      <td>NEG</td>\n      <td>EU</td>\n      <td>0.0-0.9</td>\n      <td>130.4</td>\n      <td>mg/dL</td>\n      <td>90.0-180.0</td>\n      <td>19</td>\n      <td>mg/dL</td>\n      <td>10.0-40.0</td>\n      <td>73</td>\n      <td>IU/mL</td>\n      <td>0-30</td>\n      <td>03,24</td>\n      <td>3.0</td>\n      <td>24.0</td>\n      <td>35,35</td>\n      <td>35.0</td>\n      <td>35.0</td>\n      <td>4</td>\n      <td>4.0</td>\n      <td>4.0</td>\n      <td>01:01:01,13:02:01</td>\n      <td>1.0</td>\n      <td>13.0</td>\n      <td>05*,06*</td>\n      <td>5.0</td>\n      <td>6.0</td>\n      <td>3*03</td>\n      <td>3.0</td>\n      <td>3.0</td>\n      <td>NaN</td>\n      <td>NaN</td>\n      <td>NaN</td>\n      <td>NaN</td>\n      <td>&lt;10</td>\n      <td>IU/mL</td>\n      <td>&lt;13</td>\n      <td>0</td>\n      <td>0</td>\n      <td>0</td>\n    </tr>\n    <tr>\n      <th>...</th>\n      <td>...</td>\n      <td>...</td>\n      <td>...</td>\n      <td>...</td>\n      <td>...</td>\n      <td>...</td>\n      <td>...</td>\n      <td>...</td>\n      <td>...</td>\n      <td>...</td>\n      <td>...</td>\n      <td>...</td>\n      <td>...</td>\n      <td>...</td>\n      <td>...</td>\n      <td>...</td>\n      <td>...</td>\n      <td>...</td>\n      <td>...</td>\n      <td>...</td>\n      <td>...</td>\n      <td>...</td>\n      <td>...</td>\n      <td>...</td>\n      <td>...</td>\n      <td>...</td>\n      <td>...</td>\n      <td>...</td>\n      <td>...</td>\n      <td>...</td>\n      <td>...</td>\n      <td>...</td>\n      <td>...</td>\n      <td>...</td>\n      <td>...</td>\n      <td>...</td>\n      <td>...</td>\n      <td>...</td>\n      <td>...</td>\n      <td>...</td>\n      <td>...</td>\n      <td>...</td>\n      <td>...</td>\n      <td>...</td>\n      <td>...</td>\n      <td>...</td>\n      <td>...</td>\n      <td>...</td>\n      <td>...</td>\n      <td>...</td>\n      <td>...</td>\n      <td>...</td>\n      <td>...</td>\n      <td>...</td>\n      <td>...</td>\n      <td>...</td>\n      <td>...</td>\n      <td>...</td>\n      <td>...</td>\n      <td>...</td>\n      <td>...</td>\n      <td>...</td>\n      <td>...</td>\n      <td>...</td>\n      <td>...</td>\n      <td>...</td>\n      <td>...</td>\n      <td>...</td>\n      <td>...</td>\n      <td>...</td>\n      <td>...</td>\n      <td>...</td>\n      <td>...</td>\n      <td>...</td>\n      <td>...</td>\n      <td>...</td>\n      <td>...</td>\n      <td>...</td>\n      <td>...</td>\n      <td>...</td>\n      <td>...</td>\n      <td>...</td>\n      <td>...</td>\n      <td>...</td>\n      <td>...</td>\n      <td>...</td>\n      <td>...</td>\n      <td>...</td>\n      <td>...</td>\n      <td>...</td>\n      <td>...</td>\n      <td>...</td>\n      <td>...</td>\n      <td>...</td>\n      <td>...</td>\n      <td>...</td>\n      <td>...</td>\n      <td>...</td>\n      <td>...</td>\n      <td>...</td>\n      <td>...</td>\n      <td>...</td>\n      <td>...</td>\n      <td>...</td>\n      <td>...</td>\n      <td>...</td>\n      <td>...</td>\n      <td>...</td>\n      <td>...</td>\n      <td>...</td>\n    </tr>\n    <tr>\n      <th>1070</th>\n      <td>1071</td>\n      <td>Male</td>\n      <td>Asian</td>\n      <td>panuveitis</td>\n      <td>infectious</td>\n      <td>tuberculosis</td>\n      <td>0.0</td>\n      <td>0.0</td>\n      <td>0.0</td>\n      <td>0.0</td>\n      <td>0.0</td>\n      <td>0.0</td>\n      <td>2.26</td>\n      <td>mmol/L</td>\n      <td>2.15-2.55</td>\n      <td>194</td>\n      <td>U/L</td>\n      <td>113-226</td>\n      <td>15.4</td>\n      <td>mg/L</td>\n      <td>0.00-4.99</td>\n      <td>7.22</td>\n      <td>K/uL</td>\n      <td>4.23-9.07</td>\n      <td>5.49</td>\n      <td>M/uL</td>\n      <td>4.63-6.08</td>\n      <td>12.7</td>\n      <td>g/dL</td>\n      <td>13.7-17.5</td>\n      <td>40.6</td>\n      <td>%</td>\n      <td>40.1-51.0</td>\n      <td>74</td>\n      <td>fL</td>\n      <td>79.0-92.2</td>\n      <td>23.1</td>\n      <td>pg</td>\n      <td>25.7-32.2</td>\n      <td>31.3</td>\n      <td>g/dL</td>\n      <td>32.3-36.5</td>\n      <td>15.4</td>\n      <td>%</td>\n      <td>11.6-14.4</td>\n      <td>292</td>\n      <td>K/uL</td>\n      <td>161-347</td>\n      <td>67.3</td>\n      <td>%</td>\n      <td>34.0-67.9</td>\n      <td>17.7</td>\n      <td>%</td>\n      <td>21.8-53.1</td>\n      <td>&lt; 1.0</td>\n      <td>U/L</td>\n      <td>3.0-52.0</td>\n      <td>mg/L</td>\n      <td>0.9-1.7</td>\n      <td>9.3</td>\n      <td>mcg/mL</td>\n      <td>2.7 - 9.4</td>\n      <td>&lt;20</td>\n      <td>Unit</td>\n      <td>0-19</td>\n      <td>NaN</td>\n      <td>NaN</td>\n      <td>NEG</td>\n      <td>EU</td>\n      <td>0-19</td>\n      <td>NEG</td>\n      <td>EU</td>\n      <td>0.0-0.9</td>\n      <td>112.4</td>\n      <td>mg/dL</td>\n      <td>90.0-180.0</td>\n      <td>36.1</td>\n      <td>mg/dL</td>\n      <td>10.0-40.0</td>\n      <td>NEG</td>\n      <td>IU/mL</td>\n      <td>0-30</td>\n      <td>11,68</td>\n      <td>11.0</td>\n      <td>68.0</td>\n      <td>15,27</td>\n      <td>15.0</td>\n      <td>27.0</td>\n      <td>08,15</td>\n      <td>8.0</td>\n      <td>15.0</td>\n      <td>04,12</td>\n      <td>4.0</td>\n      <td>12.0</td>\n      <td>03,03</td>\n      <td>3.0</td>\n      <td>3.0</td>\n      <td>3*03:01,4*01</td>\n      <td>3.0</td>\n      <td>4.0</td>\n      <td>U</td>\n      <td>&lt;0.4 (Negative)</td>\n      <td>U</td>\n      <td>&lt;0.4 (Negative)</td>\n      <td>&lt;15</td>\n      <td>IU/mL</td>\n      <td>&lt;15</td>\n      <td>0</td>\n      <td>0</td>\n      <td>0</td>\n    </tr>\n    <tr>\n      <th>1071</th>\n      <td>1072</td>\n      <td>Male</td>\n      <td>unknown</td>\n      <td>intermediate</td>\n      <td>idiopathic</td>\n      <td>pars planitis</td>\n      <td>0.0</td>\n      <td>1.0</td>\n      <td>0.0</td>\n      <td>2.0</td>\n      <td>0.0</td>\n      <td>2.0</td>\n      <td>2.36</td>\n      <td>mmol/L</td>\n      <td>2.15-2.55</td>\n      <td>239</td>\n      <td>U/L</td>\n      <td>120-345</td>\n      <td>0.8</td>\n      <td>mg/L</td>\n      <td>0.00-4.99</td>\n      <td>7.65</td>\n      <td>K/uL</td>\n      <td>4.31-11.00</td>\n      <td>4.56</td>\n      <td>M/uL</td>\n      <td>3.96-5.03</td>\n      <td>12.6</td>\n      <td>g/dL</td>\n      <td>10.7-13.4</td>\n      <td>35.9</td>\n      <td>%</td>\n      <td>32.2-39.8</td>\n      <td>78.7</td>\n      <td>fL</td>\n      <td>74.4-86.1</td>\n      <td>27.6</td>\n      <td>pg</td>\n      <td>24.9-29.2</td>\n      <td>35.1</td>\n      <td>g/dL</td>\n      <td>32.2-34.9</td>\n      <td>13.5</td>\n      <td>%</td>\n      <td>11.6-14.4</td>\n      <td>219</td>\n      <td>K/uL</td>\n      <td>206-369</td>\n      <td>54.3</td>\n      <td>%</td>\n      <td>28.6-74.5</td>\n      <td>38.6</td>\n      <td>%</td>\n      <td>15.5-56.6</td>\n      <td>53</td>\n      <td>U/L</td>\n      <td>3.0-52.0</td>\n      <td>NaN</td>\n      <td>NaN</td>\n      <td>3.6</td>\n      <td>mcg/mL</td>\n      <td>2.7 - 9.4</td>\n      <td>&lt;20</td>\n      <td>Unit</td>\n      <td>0-20</td>\n      <td>NaN</td>\n      <td>NaN</td>\n      <td>NEG</td>\n      <td>EU</td>\n      <td>0-19</td>\n      <td>NEG</td>\n      <td>EU</td>\n      <td>0.0-0.9</td>\n      <td>121.5</td>\n      <td>mg/dL</td>\n      <td>90.0-180.0</td>\n      <td>22.3</td>\n      <td>mg/dL</td>\n      <td>10.0-40.0</td>\n      <td>NEG</td>\n      <td>IU/mL</td>\n      <td>0-30</td>\n      <td>03,24</td>\n      <td>3.0</td>\n      <td>24.0</td>\n      <td>07,51</td>\n      <td>7.0</td>\n      <td>51.0</td>\n      <td>07,15</td>\n      <td>7.0</td>\n      <td>15.0</td>\n      <td>04*,15*</td>\n      <td>4.0</td>\n      <td>15.0</td>\n      <td>03:02,06:02</td>\n      <td>3.0</td>\n      <td>6.0</td>\n      <td>4*01,5*01:01</td>\n      <td>4.0</td>\n      <td>5.0</td>\n      <td>NaN</td>\n      <td>NaN</td>\n      <td>NaN</td>\n      <td>NaN</td>\n      <td>&lt;15</td>\n      <td>IU/mL</td>\n      <td>&lt;15</td>\n      <td>0</td>\n      <td>0</td>\n      <td>0</td>\n    </tr>\n    <tr>\n      <th>1072</th>\n      <td>1073</td>\n      <td>Female</td>\n      <td>unknown</td>\n      <td>posterior</td>\n      <td>infectious</td>\n      <td>toxoplasmosis</td>\n      <td>0.0</td>\n      <td>0.0</td>\n      <td>0.0</td>\n      <td>1.0</td>\n      <td>0.0</td>\n      <td>1.0</td>\n      <td>2.26</td>\n      <td>mmol/L</td>\n      <td>2.15-2.55</td>\n      <td>196</td>\n      <td>U/L</td>\n      <td>113-226</td>\n      <td>0.6</td>\n      <td>mg/L</td>\n      <td>0.00-4.99</td>\n      <td>3.83</td>\n      <td>K/uL</td>\n      <td>3.98-10.04</td>\n      <td>4.54</td>\n      <td>M/uL</td>\n      <td>3.93-5.22</td>\n      <td>14.5</td>\n      <td>g/dL</td>\n      <td>11.2-15.7</td>\n      <td>42.8</td>\n      <td>%</td>\n      <td>34.1-44.9</td>\n      <td>94.3</td>\n      <td>fL</td>\n      <td>79.4-94.8</td>\n      <td>31.9</td>\n      <td>pg</td>\n      <td>25.6-32.2</td>\n      <td>33.9</td>\n      <td>g/dL</td>\n      <td>32.2-35.5</td>\n      <td>14.9</td>\n      <td>%</td>\n      <td>11.7-14.4</td>\n      <td>239</td>\n      <td>K/uL</td>\n      <td>173-369</td>\n      <td>52.6</td>\n      <td>%</td>\n      <td>34.0-71.1</td>\n      <td>35.5</td>\n      <td>%</td>\n      <td>19.3-51.7</td>\n      <td>39.9</td>\n      <td>U/L</td>\n      <td>3.0-52.0</td>\n      <td>NaN</td>\n      <td>NaN</td>\n      <td>2.9</td>\n      <td>mcg/mL</td>\n      <td>2.7 - 9.4</td>\n      <td>&lt;20</td>\n      <td>Unit</td>\n      <td>0-19</td>\n      <td>NaN</td>\n      <td>NaN</td>\n      <td>NEG</td>\n      <td>EU</td>\n      <td>0-19</td>\n      <td>NEG</td>\n      <td>EU</td>\n      <td>0.0-0.9</td>\n      <td>114.9</td>\n      <td>mg/dL</td>\n      <td>90.0-180.0</td>\n      <td>24.6</td>\n      <td>mg/dL</td>\n      <td>10.0-40.0</td>\n      <td>NEG</td>\n      <td>IU/mL</td>\n      <td>0-30</td>\n      <td>24</td>\n      <td>24.0</td>\n      <td>24.0</td>\n      <td>35,35</td>\n      <td>35.0</td>\n      <td>35.0</td>\n      <td>01,04</td>\n      <td>1.0</td>\n      <td>4.0</td>\n      <td>08:02*,14:06*</td>\n      <td>8.0</td>\n      <td>14.0</td>\n      <td>03*,04:02:01</td>\n      <td>3.0</td>\n      <td>4.0</td>\n      <td>3*01</td>\n      <td>3.0</td>\n      <td>3.0</td>\n      <td>NaN</td>\n      <td>NaN</td>\n      <td>NaN</td>\n      <td>NaN</td>\n      <td>&lt;15</td>\n      <td>IU/mL</td>\n      <td>&lt;15</td>\n      <td>0</td>\n      <td>0</td>\n      <td>0</td>\n    </tr>\n    <tr>\n      <th>1073</th>\n      <td>1074</td>\n      <td>Female</td>\n      <td>Asian</td>\n      <td>posterior</td>\n      <td>wds</td>\n      <td>wds</td>\n      <td>0.0</td>\n      <td>0.0</td>\n      <td>0.0</td>\n      <td>0.0</td>\n      <td>0.0</td>\n      <td>0.0</td>\n      <td>2.41</td>\n      <td>mmol/L</td>\n      <td>2.05-2.50</td>\n      <td>173</td>\n      <td>U/L</td>\n      <td>113-226</td>\n      <td>6.97</td>\n      <td>mg/L</td>\n      <td>0.00-4.99</td>\n      <td>16.65</td>\n      <td>K/uL</td>\n      <td>3.98-10.04</td>\n      <td>4.94</td>\n      <td>M/uL</td>\n      <td>3.93-5.22</td>\n      <td>13.4</td>\n      <td>g/dL</td>\n      <td>11.2-15.7</td>\n      <td>40.5</td>\n      <td>%</td>\n      <td>34.1-44.9</td>\n      <td>82</td>\n      <td>fL</td>\n      <td>79.4-94.8</td>\n      <td>27.1</td>\n      <td>pg</td>\n      <td>25.6-32.2</td>\n      <td>33.1</td>\n      <td>g/dL</td>\n      <td>32.2-35.5</td>\n      <td>15.7</td>\n      <td>%</td>\n      <td>11.7-14.4</td>\n      <td>369</td>\n      <td>K/uL</td>\n      <td>173-369</td>\n      <td>70.5</td>\n      <td>%</td>\n      <td>34.0-71.1</td>\n      <td>24.3</td>\n      <td>%</td>\n      <td>19.3-51.7</td>\n      <td>23</td>\n      <td>U/L</td>\n      <td>16-52</td>\n      <td>mg/L</td>\n      <td>0.9-1.7</td>\n      <td>3.6</td>\n      <td>mcg/mL</td>\n      <td>2.7-9.4</td>\n      <td>&lt;20</td>\n      <td>Unit</td>\n      <td>0-20</td>\n      <td>NaN</td>\n      <td>NaN</td>\n      <td>NEG</td>\n      <td>EU</td>\n      <td>0-19</td>\n      <td>NEG</td>\n      <td>EU</td>\n      <td>0.0-0.9</td>\n      <td>131.0</td>\n      <td>mg/dL</td>\n      <td>90.0-180.0</td>\n      <td>26</td>\n      <td>mg/dL</td>\n      <td>10.0-40.0</td>\n      <td>NEG</td>\n      <td>IU/mL</td>\n      <td>0-30</td>\n      <td>02/92, 24</td>\n      <td>2.0</td>\n      <td>24.0</td>\n      <td>07, 52</td>\n      <td>7.0</td>\n      <td>52.0</td>\n      <td>07, 12</td>\n      <td>7.0</td>\n      <td>12.0</td>\n      <td>15,15</td>\n      <td>15.0</td>\n      <td>15.0</td>\n      <td>06,06:02</td>\n      <td>6.0</td>\n      <td>6.0</td>\n      <td>5*01,5*01</td>\n      <td>5.0</td>\n      <td>5.0</td>\n      <td>NaN</td>\n      <td>NaN</td>\n      <td>NaN</td>\n      <td>NaN</td>\n      <td>&lt;15</td>\n      <td>IU/mL</td>\n      <td>&lt;15</td>\n      <td>0</td>\n      <td>0</td>\n      <td>0</td>\n    </tr>\n    <tr>\n      <th>1074</th>\n      <td>1075</td>\n      <td>Male</td>\n      <td>White</td>\n      <td>posterior</td>\n      <td>not_uveitis</td>\n      <td>not_uveitis</td>\n      <td>0.0</td>\n      <td>0.0</td>\n      <td>0.0</td>\n      <td>0.0</td>\n      <td>0.0</td>\n      <td>0.0</td>\n      <td>2.39</td>\n      <td>mmol/L</td>\n      <td>2.05-2.50</td>\n      <td>214</td>\n      <td>U/L</td>\n      <td>113-226</td>\n      <td>0.64</td>\n      <td>mg/L</td>\n      <td>0.00-4.99</td>\n      <td>7.23</td>\n      <td>K/uL</td>\n      <td>4.23-9.07</td>\n      <td>4.54</td>\n      <td>M/uL</td>\n      <td>4.63-6.08</td>\n      <td>16.2</td>\n      <td>g/dL</td>\n      <td>13.7-17.5</td>\n      <td>43.7</td>\n      <td>%</td>\n      <td>40.1-51.0</td>\n      <td>96.3</td>\n      <td>fL</td>\n      <td>79.0-92.2</td>\n      <td>35.7</td>\n      <td>pg</td>\n      <td>25.7-32.2</td>\n      <td>37.1</td>\n      <td>g/dL</td>\n      <td>32.3-36.5</td>\n      <td>12.3</td>\n      <td>%</td>\n      <td>11.6-14.4</td>\n      <td>224</td>\n      <td>K/uL</td>\n      <td>161-347</td>\n      <td>85.4</td>\n      <td>%</td>\n      <td>34.0-67.9</td>\n      <td>13.6</td>\n      <td>%</td>\n      <td>21.8-53.1</td>\n      <td>24.7</td>\n      <td>U/L</td>\n      <td>3.0-52.0</td>\n      <td>mg/L</td>\n      <td>0.9-1.7</td>\n      <td>3.2</td>\n      <td>mcg/mL</td>\n      <td>2.7 - 9.4</td>\n      <td>&lt;20</td>\n      <td>Unit</td>\n      <td>0-20</td>\n      <td>NaN</td>\n      <td>NaN</td>\n      <td>NEG</td>\n      <td>EU</td>\n      <td>0-19</td>\n      <td>NEG</td>\n      <td>EU</td>\n      <td>0.0-0.9</td>\n      <td>128.0</td>\n      <td>mg/dL</td>\n      <td>90.0-180.0</td>\n      <td>25</td>\n      <td>mg/dL</td>\n      <td>10.0-40.0</td>\n      <td>NEG</td>\n      <td>IU/mL</td>\n      <td>0-30</td>\n      <td>24,32</td>\n      <td>24.0</td>\n      <td>32.0</td>\n      <td>18,40</td>\n      <td>18.0</td>\n      <td>40.0</td>\n      <td>02,12</td>\n      <td>2.0</td>\n      <td>12.0</td>\n      <td>11,14</td>\n      <td>11.0</td>\n      <td>14.0</td>\n      <td>03,05</td>\n      <td>3.0</td>\n      <td>5.0</td>\n      <td>3*02</td>\n      <td>3.0</td>\n      <td>3.0</td>\n      <td>units</td>\n      <td>0.0-10.0</td>\n      <td>units</td>\n      <td>0.0-10.0</td>\n      <td>&lt;15</td>\n      <td>IU/mL</td>\n      <td>&lt;15</td>\n      <td>0</td>\n      <td>0</td>\n      <td>0</td>\n    </tr>\n  </tbody>\n</table>\n<p>1074 rows × 110 columns</p>\n</div>"
     },
     "execution_count": 48,
     "metadata": {},
     "output_type": "execute_result"
    }
   ],
   "source": [
    "#variables assignement\n",
    "list_path = \"../data/col_names&data_type-Copy1.xlsx\"\n",
    "col_index_name = \"new col name\"\n",
    "col_data_type_name = \"data_type\"\n",
    "data_type = \"numerical\"\n",
    "\n",
    "desired_dtype = [\"Int64\", \"float64\"]\n",
    "\n",
    "#return list of all columns with specific dtype\n",
    "num_columns = pipe.list_of_totype(list_path, col_index_name, col_data_type_name, data_type)\n",
    "print(num_columns)\n",
    "\n",
    "#create dataframe with columns that contain a mix of strings and numerical values\n",
    "problem_df = pipe.coerce_then_problems(df, list_path, col_index_name, col_data_type_name, data_type, desired_dtype)\n",
    "problem_columns = list(problem_df)\n",
    "print(problem_columns)\n",
    "\n",
    "df"
   ],
   "metadata": {
    "collapsed": false,
    "pycharm": {
     "name": "#%%\n"
    }
   }
  },
  {
   "cell_type": "code",
   "execution_count": 62,
   "outputs": [
    {
     "name": "stdout",
     "output_type": "stream",
     "text": [
      "float64\n",
      "Int64\n",
      "float64\n",
      "float64\n",
      "float64\n",
      "float64\n",
      "float64\n",
      "float64\n",
      "float64\n",
      "float64\n",
      "float64\n",
      "Int64\n",
      "float64\n",
      "float64\n",
      "float64\n",
      "float64\n",
      "float64\n",
      "Int64\n",
      "        id  calcium  lactate_dehydrogenase  \\\n",
      "0        1     2.27                    184   \n",
      "1        2     2.32                    209   \n",
      "2        3     2.44                    194   \n",
      "3        4     2.45                    156   \n",
      "4        5     2.28                    175   \n",
      "...    ...      ...                    ...   \n",
      "1070  1071     2.26                    194   \n",
      "1071  1072     2.36                    239   \n",
      "1072  1073     2.26                    196   \n",
      "1073  1074     2.41                    173   \n",
      "1074  1075     2.39                    214   \n",
      "\n",
      "      c-reactive_protein,_normal_and_high_sensitivity    wbc   rbc  \\\n",
      "0                                               1.830   6.91  4.97   \n",
      "1                                               0.150   4.24  4.22   \n",
      "2                                               0.137   6.38  4.31   \n",
      "3                                               3.500   5.24  4.82   \n",
      "4                                               1.000   8.31  4.72   \n",
      "...                                               ...    ...   ...   \n",
      "1070                                           15.400   7.22  5.49   \n",
      "1071                                            0.800   7.65  4.56   \n",
      "1072                                            0.600   3.83  4.54   \n",
      "1073                                            6.970  16.65  4.94   \n",
      "1074                                            0.640   7.23  4.54   \n",
      "\n",
      "      hemoglobin  hematocrit   mcv   mch  mchc   rdw  platelet_count  \\\n",
      "0           14.6        41.4  83.3  29.4  35.3  13.9             194   \n",
      "1           11.0        36.0  85.3  26.1  30.6  14.8             260   \n",
      "2           13.6        38.7  89.8  31.6  35.1  11.7             344   \n",
      "3           14.6        43.6  90.5  30.3  33.5  12.4             220   \n",
      "4           14.0        40.7  86.2  29.7  34.4  12.1             324   \n",
      "...          ...         ...   ...   ...   ...   ...             ...   \n",
      "1070        12.7        40.6  74.0  23.1  31.3  15.4             292   \n",
      "1071        12.6        35.9  78.7  27.6  35.1  13.5             219   \n",
      "1072        14.5        42.8  94.3  31.9  33.9  14.9             239   \n",
      "1073        13.4        40.5  82.0  27.1  33.1  15.7             369   \n",
      "1074        16.2        43.7  96.3  35.7  37.1  12.3             224   \n",
      "\n",
      "      neutrophil_%  lymphocytes_%  angiotensin_conv#enzyme  lysozyme,_plasma  \\\n",
      "0             64.4           30.8                      NaN               3.0   \n",
      "1             40.1           49.1                     27.3               NaN   \n",
      "2             70.2           22.1                     60.2               4.8   \n",
      "3             56.6           34.2                     38.9               NaN   \n",
      "4             60.4           27.4                     18.3               4.5   \n",
      "...            ...            ...                      ...               ...   \n",
      "1070          67.3           17.7                      1.0               9.3   \n",
      "1071          54.3           38.6                     53.0               3.6   \n",
      "1072          52.6           35.5                     39.9               2.9   \n",
      "1073          70.5           24.3                     23.0               3.6   \n",
      "1074          85.4           13.6                     24.7               3.2   \n",
      "\n",
      "      complement_c3  complement_c4  rheumatoid_factor  \n",
      "0             149.0           33.0                 15  \n",
      "1             130.8           22.8                 10  \n",
      "2             135.9           18.2                 10  \n",
      "3             130.0           19.9                 15  \n",
      "4             130.4           19.0                 10  \n",
      "...             ...            ...                ...  \n",
      "1070          112.4           36.1                 15  \n",
      "1071          121.5           22.3                 15  \n",
      "1072          114.9           24.6                 15  \n",
      "1073          131.0           26.0                 15  \n",
      "1074          128.0           25.0                 15  \n",
      "\n",
      "[1075 rows x 20 columns]\n",
      "\n",
      " id is desired Int64 and will be popped from problematic list \n",
      "\n",
      "\n",
      " calcium is desired float64 and will be popped from problematic list \n",
      "\n",
      "\n",
      " lactate_dehydrogenase is desired Int64 and will be popped from problematic list \n",
      "\n",
      "\n",
      " c-reactive_protein,_normal_and_high_sensitivity is desired float64 and will be popped from problematic list \n",
      "\n",
      "\n",
      " wbc is desired float64 and will be popped from problematic list \n",
      "\n",
      "\n",
      " rbc is desired float64 and will be popped from problematic list \n",
      "\n",
      "\n",
      " hemoglobin is desired float64 and will be popped from problematic list \n",
      "\n",
      "\n",
      " hematocrit is desired float64 and will be popped from problematic list \n",
      "\n",
      "\n",
      " mcv is desired float64 and will be popped from problematic list \n",
      "\n",
      "\n",
      " mch is desired float64 and will be popped from problematic list \n",
      "\n",
      "\n",
      " mchc is desired float64 and will be popped from problematic list \n",
      "\n",
      "\n",
      " rdw is desired float64 and will be popped from problematic list \n",
      "\n",
      "\n",
      " platelet_count is desired Int64 and will be popped from problematic list \n",
      "\n",
      "\n",
      " neutrophil_% is desired float64 and will be popped from problematic list \n",
      "\n",
      "\n",
      " lymphocytes_% is desired float64 and will be popped from problematic list \n",
      "\n",
      "\n",
      " angiotensin_conv#enzyme is desired float64 and will be popped from problematic list \n",
      "\n",
      "\n",
      " lysozyme,_plasma is desired float64 and will be popped from problematic list \n",
      "\n",
      "\n",
      " complement_c3 is desired float64 and will be popped from problematic list \n",
      "\n",
      "\n",
      " complement_c4 is desired float64 and will be popped from problematic list \n",
      "\n",
      "\n",
      " rheumatoid_factor is desired Int64 and will be popped from problematic list \n",
      "\n",
      "foo Empty DataFrame\n",
      "Columns: []\n",
      "Index: [0, 1, 2, 3, 4, 5, 6, 7, 8, 9, 10, 11, 12, 13, 14, 15, 16, 17, 18, 19, 20, 21, 22, 23, 24, 25, 26, 27, 28, 29, 30, 31, 32, 33, 34, 35, 36, 37, 38, 39, 40, 41, 42, 43, 44, 45, 46, 47, 48, 49, 50, 51, 52, 53, 54, 55, 56, 57, 58, 59, 60, 61, 62, 63, 64, 65, 66, 67, 68, 69, 70, 71, 72, 73, 74, 75, 76, 77, 78, 79, 80, 81, 82, 83, 84, 85, 86, 87, 88, 89, 90, 91, 92, 93, 94, 95, 96, 97, 98, 99, ...]\n",
      "\n",
      "[1075 rows x 0 columns]\n"
     ]
    },
    {
     "data": {
      "text/plain": "        id  gender                    race           loc  \\\n0        1    Male  Black/African American      anterior   \n1        2  Female  Black/African American  intermediate   \n2        3  Female                   White    panuveitis   \n3        4  Female                   White      anterior   \n4        5  Female                 unknown      anterior   \n...    ...     ...                     ...           ...   \n1070  1071    Male                   Asian    panuveitis   \n1071  1072    Male                 unknown  intermediate   \n1072  1073  Female                 unknown     posterior   \n1073  1074  Female                   Asian     posterior   \n1074  1075    Male                   White     posterior   \n\n                           cat   specific_diagnosis ac_abn_od_cells  \\\n0     Nonneoplastic Masquerade  idiopathic_anterior             0.0   \n1                   Idiopathic        pars planitis             2.0   \n2                     Systemic                  vkh             0.5   \n3                   Idiopathic  idiopathic_anterior             0.0   \n4                   Idiopathic  idiopathic_anterior             0.0   \n...                        ...                  ...             ...   \n1070                Infectious         tuberculosis             0.0   \n1071                Idiopathic        pars planitis             0.0   \n1072                Infectious        toxoplasmosis             0.0   \n1073                       WDS                  wds             0.0   \n1074  Nonneoplastic masquerade          not_uveitis             0.0   \n\n     ac_abn_os_cells vit_abn_od_cells vit_abn_os_cells vit_abn_od_haze  \\\n0                0.0              0.0              0.5             0.0   \n1                2.0              2.0              2.0             0.5   \n2                0.5              1.0              1.0             0.0   \n3                0.0              0.0              0.0             0.0   \n4                0.0              0.0              0.0             0.0   \n...              ...              ...              ...             ...   \n1070             0.0              0.0              0.0             0.0   \n1071             1.0              0.0              2.0             0.0   \n1072             0.0              0.0              1.0             0.0   \n1073             0.0              0.0              0.0             0.0   \n1074             0.0              0.0              0.0             0.0   \n\n     vit_abn_os_haze  calcium  lactate_dehydrogenase  \\\n0                0.0     2.27                    184   \n1                1.0     2.32                    209   \n2                0.0     2.44                    194   \n3                0.0     2.45                    156   \n4                0.0     2.28                    175   \n...              ...      ...                    ...   \n1070             0.0     2.26                    194   \n1071             2.0     2.36                    239   \n1072             1.0     2.26                    196   \n1073             0.0     2.41                    173   \n1074             0.0     2.39                    214   \n\n      c-reactive_protein,_normal_and_high_sensitivity    wbc   rbc  \\\n0                                               1.830   6.91  4.97   \n1                                               0.150   4.24  4.22   \n2                                               0.137   6.38  4.31   \n3                                               3.500   5.24  4.82   \n4                                               1.000   8.31  4.72   \n...                                               ...    ...   ...   \n1070                                           15.400   7.22  5.49   \n1071                                            0.800   7.65  4.56   \n1072                                            0.600   3.83  4.54   \n1073                                            6.970  16.65  4.94   \n1074                                            0.640   7.23  4.54   \n\n      hemoglobin  hematocrit   mcv   mch  mchc   rdw  platelet_count  \\\n0           14.6        41.4  83.3  29.4  35.3  13.9             194   \n1           11.0        36.0  85.3  26.1  30.6  14.8             260   \n2           13.6        38.7  89.8  31.6  35.1  11.7             344   \n3           14.6        43.6  90.5  30.3  33.5  12.4             220   \n4           14.0        40.7  86.2  29.7  34.4  12.1             324   \n...          ...         ...   ...   ...   ...   ...             ...   \n1070        12.7        40.6  74.0  23.1  31.3  15.4             292   \n1071        12.6        35.9  78.7  27.6  35.1  13.5             219   \n1072        14.5        42.8  94.3  31.9  33.9  14.9             239   \n1073        13.4        40.5  82.0  27.1  33.1  15.7             369   \n1074        16.2        43.7  96.3  35.7  37.1  12.3             224   \n\n      neutrophil_%  lymphocytes_%  angiotensin_conv#enzyme  lysozyme,_plasma  \\\n0             64.4           30.8                      NaN               3.0   \n1             40.1           49.1                     27.3               NaN   \n2             70.2           22.1                     60.2               4.8   \n3             56.6           34.2                     38.9               NaN   \n4             60.4           27.4                     18.3               4.5   \n...            ...            ...                      ...               ...   \n1070          67.3           17.7                      1.0               9.3   \n1071          54.3           38.6                     53.0               3.6   \n1072          52.6           35.5                     39.9               2.9   \n1073          70.5           24.3                     23.0               3.6   \n1074          85.4           13.6                     24.7               3.2   \n\n     anti-ccp_ab anti-ena_screen antinuclear_antibody  complement_c3  \\\n0            <20             NEG                  NEG          149.0   \n1            <20             NEG                  NEG          130.8   \n2            <20             NEG                  NEG          135.9   \n3            <20             NEG                  NEG          130.0   \n4            <20             NEG                  NEG          130.4   \n...          ...             ...                  ...            ...   \n1070         <20             NEG                  NEG          112.4   \n1071         <20             NEG                  NEG          121.5   \n1072         <20             NEG                  NEG          114.9   \n1073         <20             NEG                  NEG          131.0   \n1074         <20             NEG                  NEG          128.0   \n\n      complement_c4 dna_double-stranded_ab  rheumatoid_factor hbc__ab hbs__ag  \\\n0              33.0                    NEG                 15       0       0   \n1              22.8                    NEG                 10       0       0   \n2              18.2                    NEG                 10       0       0   \n3              19.9                    NEG                 15       0       0   \n4              19.0                     73                 10       0       0   \n...             ...                    ...                ...     ...     ...   \n1070           36.1                    NEG                 15       0       0   \n1071           22.3                    NEG                 15       0       0   \n1072           24.6                    NEG                 15       0       0   \n1073           26.0                    NEG                 15       0       0   \n1074           25.0                    NEG                 15       0       0   \n\n     hcv__ab  \n0          0  \n1          0  \n2          0  \n3          0  \n4          0  \n...      ...  \n1070       0  \n1071       0  \n1072       0  \n1073       0  \n1074       0  \n\n[1075 rows x 38 columns]",
      "text/html": "<div>\n<style scoped>\n    .dataframe tbody tr th:only-of-type {\n        vertical-align: middle;\n    }\n\n    .dataframe tbody tr th {\n        vertical-align: top;\n    }\n\n    .dataframe thead th {\n        text-align: right;\n    }\n</style>\n<table border=\"1\" class=\"dataframe\">\n  <thead>\n    <tr style=\"text-align: right;\">\n      <th></th>\n      <th>id</th>\n      <th>gender</th>\n      <th>race</th>\n      <th>loc</th>\n      <th>cat</th>\n      <th>specific_diagnosis</th>\n      <th>ac_abn_od_cells</th>\n      <th>ac_abn_os_cells</th>\n      <th>vit_abn_od_cells</th>\n      <th>vit_abn_os_cells</th>\n      <th>vit_abn_od_haze</th>\n      <th>vit_abn_os_haze</th>\n      <th>calcium</th>\n      <th>lactate_dehydrogenase</th>\n      <th>c-reactive_protein,_normal_and_high_sensitivity</th>\n      <th>wbc</th>\n      <th>rbc</th>\n      <th>hemoglobin</th>\n      <th>hematocrit</th>\n      <th>mcv</th>\n      <th>mch</th>\n      <th>mchc</th>\n      <th>rdw</th>\n      <th>platelet_count</th>\n      <th>neutrophil_%</th>\n      <th>lymphocytes_%</th>\n      <th>angiotensin_conv#enzyme</th>\n      <th>lysozyme,_plasma</th>\n      <th>anti-ccp_ab</th>\n      <th>anti-ena_screen</th>\n      <th>antinuclear_antibody</th>\n      <th>complement_c3</th>\n      <th>complement_c4</th>\n      <th>dna_double-stranded_ab</th>\n      <th>rheumatoid_factor</th>\n      <th>hbc__ab</th>\n      <th>hbs__ag</th>\n      <th>hcv__ab</th>\n    </tr>\n  </thead>\n  <tbody>\n    <tr>\n      <th>0</th>\n      <td>1</td>\n      <td>Male</td>\n      <td>Black/African American</td>\n      <td>anterior</td>\n      <td>Nonneoplastic Masquerade</td>\n      <td>idiopathic_anterior</td>\n      <td>0.0</td>\n      <td>0.0</td>\n      <td>0.0</td>\n      <td>0.5</td>\n      <td>0.0</td>\n      <td>0.0</td>\n      <td>2.27</td>\n      <td>184</td>\n      <td>1.830</td>\n      <td>6.91</td>\n      <td>4.97</td>\n      <td>14.6</td>\n      <td>41.4</td>\n      <td>83.3</td>\n      <td>29.4</td>\n      <td>35.3</td>\n      <td>13.9</td>\n      <td>194</td>\n      <td>64.4</td>\n      <td>30.8</td>\n      <td>NaN</td>\n      <td>3.0</td>\n      <td>&lt;20</td>\n      <td>NEG</td>\n      <td>NEG</td>\n      <td>149.0</td>\n      <td>33.0</td>\n      <td>NEG</td>\n      <td>15</td>\n      <td>0</td>\n      <td>0</td>\n      <td>0</td>\n    </tr>\n    <tr>\n      <th>1</th>\n      <td>2</td>\n      <td>Female</td>\n      <td>Black/African American</td>\n      <td>intermediate</td>\n      <td>Idiopathic</td>\n      <td>pars planitis</td>\n      <td>2.0</td>\n      <td>2.0</td>\n      <td>2.0</td>\n      <td>2.0</td>\n      <td>0.5</td>\n      <td>1.0</td>\n      <td>2.32</td>\n      <td>209</td>\n      <td>0.150</td>\n      <td>4.24</td>\n      <td>4.22</td>\n      <td>11.0</td>\n      <td>36.0</td>\n      <td>85.3</td>\n      <td>26.1</td>\n      <td>30.6</td>\n      <td>14.8</td>\n      <td>260</td>\n      <td>40.1</td>\n      <td>49.1</td>\n      <td>27.3</td>\n      <td>NaN</td>\n      <td>&lt;20</td>\n      <td>NEG</td>\n      <td>NEG</td>\n      <td>130.8</td>\n      <td>22.8</td>\n      <td>NEG</td>\n      <td>10</td>\n      <td>0</td>\n      <td>0</td>\n      <td>0</td>\n    </tr>\n    <tr>\n      <th>2</th>\n      <td>3</td>\n      <td>Female</td>\n      <td>White</td>\n      <td>panuveitis</td>\n      <td>Systemic</td>\n      <td>vkh</td>\n      <td>0.5</td>\n      <td>0.5</td>\n      <td>1.0</td>\n      <td>1.0</td>\n      <td>0.0</td>\n      <td>0.0</td>\n      <td>2.44</td>\n      <td>194</td>\n      <td>0.137</td>\n      <td>6.38</td>\n      <td>4.31</td>\n      <td>13.6</td>\n      <td>38.7</td>\n      <td>89.8</td>\n      <td>31.6</td>\n      <td>35.1</td>\n      <td>11.7</td>\n      <td>344</td>\n      <td>70.2</td>\n      <td>22.1</td>\n      <td>60.2</td>\n      <td>4.8</td>\n      <td>&lt;20</td>\n      <td>NEG</td>\n      <td>NEG</td>\n      <td>135.9</td>\n      <td>18.2</td>\n      <td>NEG</td>\n      <td>10</td>\n      <td>0</td>\n      <td>0</td>\n      <td>0</td>\n    </tr>\n    <tr>\n      <th>3</th>\n      <td>4</td>\n      <td>Female</td>\n      <td>White</td>\n      <td>anterior</td>\n      <td>Idiopathic</td>\n      <td>idiopathic_anterior</td>\n      <td>0.0</td>\n      <td>0.0</td>\n      <td>0.0</td>\n      <td>0.0</td>\n      <td>0.0</td>\n      <td>0.0</td>\n      <td>2.45</td>\n      <td>156</td>\n      <td>3.500</td>\n      <td>5.24</td>\n      <td>4.82</td>\n      <td>14.6</td>\n      <td>43.6</td>\n      <td>90.5</td>\n      <td>30.3</td>\n      <td>33.5</td>\n      <td>12.4</td>\n      <td>220</td>\n      <td>56.6</td>\n      <td>34.2</td>\n      <td>38.9</td>\n      <td>NaN</td>\n      <td>&lt;20</td>\n      <td>NEG</td>\n      <td>NEG</td>\n      <td>130.0</td>\n      <td>19.9</td>\n      <td>NEG</td>\n      <td>15</td>\n      <td>0</td>\n      <td>0</td>\n      <td>0</td>\n    </tr>\n    <tr>\n      <th>4</th>\n      <td>5</td>\n      <td>Female</td>\n      <td>unknown</td>\n      <td>anterior</td>\n      <td>Idiopathic</td>\n      <td>idiopathic_anterior</td>\n      <td>0.0</td>\n      <td>0.0</td>\n      <td>0.0</td>\n      <td>0.0</td>\n      <td>0.0</td>\n      <td>0.0</td>\n      <td>2.28</td>\n      <td>175</td>\n      <td>1.000</td>\n      <td>8.31</td>\n      <td>4.72</td>\n      <td>14.0</td>\n      <td>40.7</td>\n      <td>86.2</td>\n      <td>29.7</td>\n      <td>34.4</td>\n      <td>12.1</td>\n      <td>324</td>\n      <td>60.4</td>\n      <td>27.4</td>\n      <td>18.3</td>\n      <td>4.5</td>\n      <td>&lt;20</td>\n      <td>NEG</td>\n      <td>NEG</td>\n      <td>130.4</td>\n      <td>19.0</td>\n      <td>73</td>\n      <td>10</td>\n      <td>0</td>\n      <td>0</td>\n      <td>0</td>\n    </tr>\n    <tr>\n      <th>...</th>\n      <td>...</td>\n      <td>...</td>\n      <td>...</td>\n      <td>...</td>\n      <td>...</td>\n      <td>...</td>\n      <td>...</td>\n      <td>...</td>\n      <td>...</td>\n      <td>...</td>\n      <td>...</td>\n      <td>...</td>\n      <td>...</td>\n      <td>...</td>\n      <td>...</td>\n      <td>...</td>\n      <td>...</td>\n      <td>...</td>\n      <td>...</td>\n      <td>...</td>\n      <td>...</td>\n      <td>...</td>\n      <td>...</td>\n      <td>...</td>\n      <td>...</td>\n      <td>...</td>\n      <td>...</td>\n      <td>...</td>\n      <td>...</td>\n      <td>...</td>\n      <td>...</td>\n      <td>...</td>\n      <td>...</td>\n      <td>...</td>\n      <td>...</td>\n      <td>...</td>\n      <td>...</td>\n      <td>...</td>\n    </tr>\n    <tr>\n      <th>1070</th>\n      <td>1071</td>\n      <td>Male</td>\n      <td>Asian</td>\n      <td>panuveitis</td>\n      <td>Infectious</td>\n      <td>tuberculosis</td>\n      <td>0.0</td>\n      <td>0.0</td>\n      <td>0.0</td>\n      <td>0.0</td>\n      <td>0.0</td>\n      <td>0.0</td>\n      <td>2.26</td>\n      <td>194</td>\n      <td>15.400</td>\n      <td>7.22</td>\n      <td>5.49</td>\n      <td>12.7</td>\n      <td>40.6</td>\n      <td>74.0</td>\n      <td>23.1</td>\n      <td>31.3</td>\n      <td>15.4</td>\n      <td>292</td>\n      <td>67.3</td>\n      <td>17.7</td>\n      <td>1.0</td>\n      <td>9.3</td>\n      <td>&lt;20</td>\n      <td>NEG</td>\n      <td>NEG</td>\n      <td>112.4</td>\n      <td>36.1</td>\n      <td>NEG</td>\n      <td>15</td>\n      <td>0</td>\n      <td>0</td>\n      <td>0</td>\n    </tr>\n    <tr>\n      <th>1071</th>\n      <td>1072</td>\n      <td>Male</td>\n      <td>unknown</td>\n      <td>intermediate</td>\n      <td>Idiopathic</td>\n      <td>pars planitis</td>\n      <td>0.0</td>\n      <td>1.0</td>\n      <td>0.0</td>\n      <td>2.0</td>\n      <td>0.0</td>\n      <td>2.0</td>\n      <td>2.36</td>\n      <td>239</td>\n      <td>0.800</td>\n      <td>7.65</td>\n      <td>4.56</td>\n      <td>12.6</td>\n      <td>35.9</td>\n      <td>78.7</td>\n      <td>27.6</td>\n      <td>35.1</td>\n      <td>13.5</td>\n      <td>219</td>\n      <td>54.3</td>\n      <td>38.6</td>\n      <td>53.0</td>\n      <td>3.6</td>\n      <td>&lt;20</td>\n      <td>NEG</td>\n      <td>NEG</td>\n      <td>121.5</td>\n      <td>22.3</td>\n      <td>NEG</td>\n      <td>15</td>\n      <td>0</td>\n      <td>0</td>\n      <td>0</td>\n    </tr>\n    <tr>\n      <th>1072</th>\n      <td>1073</td>\n      <td>Female</td>\n      <td>unknown</td>\n      <td>posterior</td>\n      <td>Infectious</td>\n      <td>toxoplasmosis</td>\n      <td>0.0</td>\n      <td>0.0</td>\n      <td>0.0</td>\n      <td>1.0</td>\n      <td>0.0</td>\n      <td>1.0</td>\n      <td>2.26</td>\n      <td>196</td>\n      <td>0.600</td>\n      <td>3.83</td>\n      <td>4.54</td>\n      <td>14.5</td>\n      <td>42.8</td>\n      <td>94.3</td>\n      <td>31.9</td>\n      <td>33.9</td>\n      <td>14.9</td>\n      <td>239</td>\n      <td>52.6</td>\n      <td>35.5</td>\n      <td>39.9</td>\n      <td>2.9</td>\n      <td>&lt;20</td>\n      <td>NEG</td>\n      <td>NEG</td>\n      <td>114.9</td>\n      <td>24.6</td>\n      <td>NEG</td>\n      <td>15</td>\n      <td>0</td>\n      <td>0</td>\n      <td>0</td>\n    </tr>\n    <tr>\n      <th>1073</th>\n      <td>1074</td>\n      <td>Female</td>\n      <td>Asian</td>\n      <td>posterior</td>\n      <td>WDS</td>\n      <td>wds</td>\n      <td>0.0</td>\n      <td>0.0</td>\n      <td>0.0</td>\n      <td>0.0</td>\n      <td>0.0</td>\n      <td>0.0</td>\n      <td>2.41</td>\n      <td>173</td>\n      <td>6.970</td>\n      <td>16.65</td>\n      <td>4.94</td>\n      <td>13.4</td>\n      <td>40.5</td>\n      <td>82.0</td>\n      <td>27.1</td>\n      <td>33.1</td>\n      <td>15.7</td>\n      <td>369</td>\n      <td>70.5</td>\n      <td>24.3</td>\n      <td>23.0</td>\n      <td>3.6</td>\n      <td>&lt;20</td>\n      <td>NEG</td>\n      <td>NEG</td>\n      <td>131.0</td>\n      <td>26.0</td>\n      <td>NEG</td>\n      <td>15</td>\n      <td>0</td>\n      <td>0</td>\n      <td>0</td>\n    </tr>\n    <tr>\n      <th>1074</th>\n      <td>1075</td>\n      <td>Male</td>\n      <td>White</td>\n      <td>posterior</td>\n      <td>Nonneoplastic masquerade</td>\n      <td>not_uveitis</td>\n      <td>0.0</td>\n      <td>0.0</td>\n      <td>0.0</td>\n      <td>0.0</td>\n      <td>0.0</td>\n      <td>0.0</td>\n      <td>2.39</td>\n      <td>214</td>\n      <td>0.640</td>\n      <td>7.23</td>\n      <td>4.54</td>\n      <td>16.2</td>\n      <td>43.7</td>\n      <td>96.3</td>\n      <td>35.7</td>\n      <td>37.1</td>\n      <td>12.3</td>\n      <td>224</td>\n      <td>85.4</td>\n      <td>13.6</td>\n      <td>24.7</td>\n      <td>3.2</td>\n      <td>&lt;20</td>\n      <td>NEG</td>\n      <td>NEG</td>\n      <td>128.0</td>\n      <td>25.0</td>\n      <td>NEG</td>\n      <td>15</td>\n      <td>0</td>\n      <td>0</td>\n      <td>0</td>\n    </tr>\n  </tbody>\n</table>\n<p>1075 rows × 38 columns</p>\n</div>"
     },
     "execution_count": 62,
     "metadata": {},
     "output_type": "execute_result"
    }
   ],
   "source": [
    "corrected_df = pipe.iter_columns_extract_num(problem_df)\n",
    "corrected_df\n",
    "\n",
    "#foo = pipe.coerce_then_problems(df, list_path, col_index_name, col_data_type_name, data_type, desired_dtype)\n",
    "\n",
    "df = pipe.merge_corrected(df, corrected_df)\n",
    "df"
   ],
   "metadata": {
    "collapsed": false,
    "pycharm": {
     "name": "#%%\n"
    }
   }
  },
  {
   "cell_type": "markdown",
   "metadata": {},
   "source": [
    "## Features containing both numerical and categorical values\n",
    "Certain columns don't follow the tidy data principle that only one datatyp should be existant in a column/feature.\n",
    "This chapter deals with said columns and either splits them into a numeric and categorical feature or changes values to reach a uniform datatyp over a column."
   ]
  },
  {
   "cell_type": "markdown",
   "metadata": {},
   "source": [
    "### Anti-CCP Ab\n",
    "Anti-CCP is a numeric column with mostly values set to '<20'. A value below or at 20 is viewed as a negative result. Above 20 the result is positive. This allows for a binarization of the column. We set every value below or at 20 to 0 (aka 'negative') and all values above 20 to 1 (aka postive). Some values are still missing."
   ]
  },
  {
   "cell_type": "code",
   "execution_count": 50,
   "metadata": {},
   "outputs": [],
   "source": [
    "# df = pipe.num_to_binary(df, 'anti-ccp_ab', 20)\n",
    "# df['anti-ccp_ab'].value_counts(dropna=False)"
   ]
  },
  {
   "cell_type": "markdown",
   "metadata": {},
   "source": [
    "### Anti-ENA Screen\n",
    "Anti-ENA Screen consists of mostly 'NEG' (Negative) Values (1001 out of 1075), we assume that the other, numerical values can be regarded as positive. We encode these into 0 (Negative) and 1 (Positive) values. The singel occurance of 'see note | In-house test down.  Test re-ordered and sent to Referral L' gets dropped and replaced with `np.nan`."
   ]
  },
  {
   "cell_type": "code",
   "execution_count": 51,
   "metadata": {},
   "outputs": [],
   "source": [
    "# df['anti-ena_screen'].value_counts(dropna=False)"
   ]
  },
  {
   "cell_type": "markdown",
   "metadata": {},
   "source": [
    "### Antinuclear Antibody"
   ]
  },
  {
   "cell_type": "code",
   "execution_count": 52,
   "metadata": {},
   "outputs": [],
   "source": [
    "# df['antinuclear_antibody'].value_counts()"
   ]
  },
  {
   "cell_type": "markdown",
   "metadata": {},
   "source": [
    "### DNA Double-Stranded Ab"
   ]
  },
  {
   "cell_type": "code",
   "execution_count": 53,
   "metadata": {},
   "outputs": [],
   "source": [
    "# df['dna_double-stranded_ab'].value_counts(dropna=False)"
   ]
  },
  {
   "cell_type": "markdown",
   "metadata": {},
   "source": [
    "The function `pipe.neg_col_to_cat` transforms a list of columns (in our case `['anti-ena_screen','antinuclear_antibody','dna_double-stranded_ab']`) to binary, categorical columns where 0 = 'Negative' and 1 = 'Postive"
   ]
  },
  {
   "cell_type": "code",
   "execution_count": 54,
   "metadata": {},
   "outputs": [],
   "source": [
    "df = pipe.neg_col_to_cat(df, ['anti-ena_screen','antinuclear_antibody','dna_double-stranded_ab'])"
   ]
  },
  {
   "cell_type": "markdown",
   "metadata": {},
   "source": [
    "### Myeloperoxidase Ab\n",
    "This column has been dropped because of to many missing values"
   ]
  },
  {
   "cell_type": "code",
   "execution_count": 55,
   "metadata": {},
   "outputs": [],
   "source": [
    "# df['myeloperoxidase_ab'].value_counts(dropna=False)"
   ]
  },
  {
   "cell_type": "markdown",
   "metadata": {},
   "source": [
    "### Proteinase-3 Antibodies\n",
    "This column has been dropped because of to many missing values"
   ]
  },
  {
   "cell_type": "code",
   "execution_count": 56,
   "metadata": {},
   "outputs": [],
   "source": [
    "# df['proteinase-3_antibodies'].value_counts(dropna=False)"
   ]
  },
  {
   "cell_type": "markdown",
   "metadata": {},
   "source": [
    "## Drop 'uom' and 'range' columns\n",
    "Every lab test is accompanied by two columns. One specifies the unit of measurement (uom) for said test and the other defines the acceptable/normal range of the test (range).\n",
    "Although these informations are important for the exploratory data analysis test and the preprocessing it is not advised to include these columns in the dataframe that serves as the input for a machine learning algorithmn. "
   ]
  },
  {
   "cell_type": "code",
   "execution_count": 57,
   "metadata": {},
   "outputs": [],
   "source": [
    "# df = pipe.drop_uom_and_range(df, verbose=True)"
   ]
  },
  {
   "cell_type": "markdown",
   "metadata": {},
   "source": [
    "# Preprocessing Pipeline"
   ]
  },
  {
   "cell_type": "markdown",
   "metadata": {},
   "source": [
    "CHECK IF EVERY COLUMN IS ACCOUNTED FOR:\n",
    "- 'id'\n",
    "- [x] 'gender' \n",
    "- [x] 'race'\n",
    "- [x] 'loc'\n",
    "- [x] 'ehr_diagnosis' (Dropped)\n",
    "- [x] 'anti-dnase_b' (Dropped, too many missing values)\n",
    "- [x] 'other_' (Dropped, too many missing values)\n",
    "- [x] 'notes' (Dropped, too many missing values)\n",
    "- [x] 'beta-2-microglobulin' (Dropped, too many missing values)\n",
    "- [x] 'lupus_anticoagulant' (Dropped, too many missing values)\n",
    "- [x] 'myeloperoxidase_ab' (Dropped, too many missing values)\n",
    "- [x] 'proteinase-3_antibodies' (Dropped, too many missing values)\n",
    "- 'cat'\n",
    "- [x] 'specific_diagnosis'\n",
    "- [x] 'ac_abn_od_cells'\n",
    "- [x] 'ac_abn_os_cells'\n",
    "- [x] 'vit_abn_od_cells'\n",
    "- [x] 'vit_abn_os_cells'\n",
    "- [x] 'vit_abn_od_haze'\n",
    "- [x] 'vit_abn_os_haze'\n",
    "- 'calcium'\n",
    "- 'lactate_dehydrogenase'\n",
    "- 'c-reactive_protein,_normal_and_high_sensitivity'\n",
    "- 'wbc'\n",
    "- 'rbc'\n",
    "- 'hemoglobin'\n",
    "- 'hematocrit'\n",
    "- 'mcv'\n",
    "- 'mch'\n",
    "- 'mchc'\n",
    "- 'rdw'\n",
    "- 'platelet_count'\n",
    "- 'neutrophil_%'\n",
    "- 'lymphocytes_%'\n",
    "- 'angiotensin_conv#enzyme'\n",
    "- 'lysozyme,_plasma'\n",
    "- 'anti-ccp_ab'\n",
    "- 'anti-ena_screen'\n",
    "- 'antinuclear_antibody'\n",
    "- 'complement_c3'\n",
    "- 'complement_c4'\n",
    "- 'dna_double-stranded_ab'\n",
    "- [x] 'hla-a*' (Dropped)\n",
    "- [x] 'hla_a_1' (Dropped)\n",
    "- [x] 'hla_a_2' (Dropped)\n",
    "- [x] 'hla-b*' (Dropped)\n",
    "- [x] 'hla_b_1' (Dropped)\n",
    "- [x] 'hla_b_2' (Dropped)\n",
    "- [x] 'hla-cw*' (Dropped)\n",
    "- [x] 'hla_c_1' (Dropped)\n",
    "- [x] 'hla_c_2' (Dropped)\n",
    "- [x] 'hla-drb1*' (Dropped)\n",
    "- [x] 'hla_drb1_1' (Dropped)\n",
    "- [x] 'hla_drb1_2' (Dropped)\n",
    "- [x] 'hla-dqb1*_/_dq*' (Dropped)\n",
    "- [x] 'hla_dq_1' (Dropped)\n",
    "- [x] 'hla_dq_2' (Dropped)\n",
    "- [x] 'hla-drb_*' (Dropped)\n",
    "- [x] 'hla_drb*_1' (Dropped)\n",
    "- [x] 'hla_drb*_2' (Dropped)\n",
    "- 'rheumatoid_factor'\n",
    "- [x] 'hbc__ab'\n",
    "- [x] 'hbs__ag'\n",
    "- [x] 'hcv__ab'\n",
    "- uom and range columns (Dropped, after used for transformation)"
   ]
  },
  {
   "cell_type": "code",
   "execution_count": 58,
   "metadata": {},
   "outputs": [],
   "source": [
    "def preprocessing_pipe():\n",
    "    # load dataset\n",
    "    df = pd.read_excel(\"../data/uveitis_data.xlsx\")\n",
    "    \n",
    "    df = (df.pipe(pipe.rename, path=\"../data/col_names&data_type-Copy1.xlsx\") # rename columns\n",
    "        .pipe(pd.DataFrame.applymap, lambda x: x.strip() if isinstance(x, str) else x) # strip leading or trailing whitespace\n",
    "\n",
    "        # dropping columns\n",
    "        .pipe(pipe.drop_nan_columns, nan_percentage=.5, verbose = False) # drop columns with above nan_percantage missing values\n",
    "        .pipe(pd.DataFrame.drop, columns=['ehr_diagnosis'])\n",
    "        .pipe(pipe.drop_via_filter, filter_str = 'hla', verbose=False)\n",
    "        \n",
    "        .pipe(gender_dtype) # change dtype from 'gender' to catgory\n",
    "        .pipe(race_processing) # collapse 'race' feature\n",
    "        .pipe(pipe.preprocessing_loc, approach='multi', verbose=False) # use approach ='binary' for binary classification\n",
    "        .pipe(preprocessing_specific) # collapse 'specific_diagnosis'\n",
    "        .pipe(preprocessing_inflammation) # # transform collumns that contain information about severeness of inlamation\n",
    "        .pipe(preprocessing_hepatitis) # clean and binarize hepatitis-columns\n",
    "        \n",
    "        # drop 'uom' amd 'range' columns after use\n",
    "        .pipe(pipe.drop_uom_and_range, verbose=False)\n",
    "    )\n",
    "    return df\n",
    "\n",
    "df = preprocessing_pipe()\n"
   ]
  },
  {
   "cell_type": "code",
   "execution_count": 59,
   "metadata": {},
   "outputs": [
    {
     "data": {
      "text/plain": "        id  gender                    race           loc  \\\n0        1    Male  Black/African American      anterior   \n1        2  Female  Black/African American  intermediate   \n2        3  Female                   White    panuveitis   \n3        4  Female                   White      anterior   \n4        5  Female                 unknown      anterior   \n...    ...     ...                     ...           ...   \n1070  1071    Male                   Asian    panuveitis   \n1071  1072    Male                 unknown  intermediate   \n1072  1073  Female                 unknown     posterior   \n1073  1074  Female                   Asian     posterior   \n1074  1075    Male                   White     posterior   \n\n                           cat   specific_diagnosis ac_abn_od_cells  \\\n0     Nonneoplastic Masquerade  idiopathic_anterior             0.0   \n1                   Idiopathic        pars planitis             2.0   \n2                     Systemic                  vkh             0.5   \n3                   Idiopathic  idiopathic_anterior             0.0   \n4                   Idiopathic  idiopathic_anterior             0.0   \n...                        ...                  ...             ...   \n1070                Infectious         tuberculosis             0.0   \n1071                Idiopathic        pars planitis             0.0   \n1072                Infectious        toxoplasmosis             0.0   \n1073                       WDS                  wds             0.0   \n1074  Nonneoplastic masquerade          not_uveitis             0.0   \n\n     ac_abn_os_cells vit_abn_od_cells vit_abn_os_cells vit_abn_od_haze  \\\n0                0.0              0.0              0.5             0.0   \n1                2.0              2.0              2.0             0.5   \n2                0.5              1.0              1.0             0.0   \n3                0.0              0.0              0.0             0.0   \n4                0.0              0.0              0.0             0.0   \n...              ...              ...              ...             ...   \n1070             0.0              0.0              0.0             0.0   \n1071             1.0              0.0              2.0             0.0   \n1072             0.0              0.0              1.0             0.0   \n1073             0.0              0.0              0.0             0.0   \n1074             0.0              0.0              0.0             0.0   \n\n     vit_abn_os_haze calcium lactate_dehydrogenase  \\\n0                0.0    2.27                   184   \n1                1.0    2.32                   209   \n2                0.0    2.44                   194   \n3                0.0    2.45                   156   \n4                0.0    2.28                   175   \n...              ...     ...                   ...   \n1070             0.0    2.26                   194   \n1071             2.0    2.36                   239   \n1072             1.0    2.26                   196   \n1073             0.0    2.41                   173   \n1074             0.0    2.39                   214   \n\n     c-reactive_protein,_normal_and_high_sensitivity    wbc   rbc hemoglobin  \\\n0                                               1.83   6.91  4.97       14.6   \n1                                              <0.15   4.24  4.22         11   \n2                                              0.137   6.38  4.31       13.6   \n3                                                3.5   5.24  4.82       14.6   \n4                                                  1   8.31  4.72         14   \n...                                              ...    ...   ...        ...   \n1070                                            15.4   7.22  5.49       12.7   \n1071                                             0.8   7.65  4.56       12.6   \n1072                                             0.6   3.83  4.54       14.5   \n1073                                            6.97  16.65  4.94       13.4   \n1074                                            0.64   7.23  4.54       16.2   \n\n     hematocrit   mcv   mch  mchc   rdw platelet_count neutrophil_%  \\\n0          41.4  83.3  29.4  35.3  13.9            194         64.4   \n1            36  85.3  26.1  30.6  14.8            260         40.1   \n2          38.7  89.8  31.6  35.1  11.7            344         70.2   \n3          43.6  90.5  30.3  33.5  12.4            220         56.6   \n4          40.7  86.2  29.7  34.4  12.1            324         60.4   \n...         ...   ...   ...   ...   ...            ...          ...   \n1070       40.6    74  23.1  31.3  15.4            292         67.3   \n1071       35.9  78.7  27.6  35.1  13.5            219         54.3   \n1072       42.8  94.3  31.9  33.9  14.9            239         52.6   \n1073       40.5    82  27.1  33.1  15.7            369         70.5   \n1074       43.7  96.3  35.7  37.1  12.3            224         85.4   \n\n     lymphocytes_% angiotensin_conv#enzyme lysozyme,_plasma anti-ccp_ab  \\\n0             30.8                     NaN                3         <20   \n1             49.1                    27.3              NaN         <20   \n2             22.1                    60.2              4.8         <20   \n3             34.2                    38.9                :         <20   \n4             27.4                    18.3              4.5         <20   \n...            ...                     ...              ...         ...   \n1070          17.7                   < 1.0              9.3         <20   \n1071          38.6                      53              3.6         <20   \n1072          35.5                    39.9              2.9         <20   \n1073          24.3                      23              3.6         <20   \n1074          13.6                    24.7              3.2         <20   \n\n     anti-ena_screen antinuclear_antibody  complement_c3 complement_c4  \\\n0                NEG                  NEG          149.0            33   \n1                NEG                  NEG          130.8          22.8   \n2                NEG                  NEG          135.9          18.2   \n3                NEG                  NEG          130.0          19.9   \n4                NEG                  NEG          130.4            19   \n...              ...                  ...            ...           ...   \n1070             NEG                  NEG          112.4          36.1   \n1071             NEG                  NEG          121.5          22.3   \n1072             NEG                  NEG          114.9          24.6   \n1073             NEG                  NEG          131.0            26   \n1074             NEG                  NEG          128.0            25   \n\n     dna_double-stranded_ab rheumatoid_factor hbc__ab hbs__ag hcv__ab  \n0                       NEG               <15       0       0       0  \n1                       NEG               <10       0       0       0  \n2                       NEG               <10       0       0       0  \n3                       NEG               <15       0       0       0  \n4                        73               <10       0       0       0  \n...                     ...               ...     ...     ...     ...  \n1070                    NEG               <15       0       0       0  \n1071                    NEG               <15       0       0       0  \n1072                    NEG               <15       0       0       0  \n1073                    NEG               <15       0       0       0  \n1074                    NEG               <15       0       0       0  \n\n[1075 rows x 38 columns]",
      "text/html": "<div>\n<style scoped>\n    .dataframe tbody tr th:only-of-type {\n        vertical-align: middle;\n    }\n\n    .dataframe tbody tr th {\n        vertical-align: top;\n    }\n\n    .dataframe thead th {\n        text-align: right;\n    }\n</style>\n<table border=\"1\" class=\"dataframe\">\n  <thead>\n    <tr style=\"text-align: right;\">\n      <th></th>\n      <th>id</th>\n      <th>gender</th>\n      <th>race</th>\n      <th>loc</th>\n      <th>cat</th>\n      <th>specific_diagnosis</th>\n      <th>ac_abn_od_cells</th>\n      <th>ac_abn_os_cells</th>\n      <th>vit_abn_od_cells</th>\n      <th>vit_abn_os_cells</th>\n      <th>vit_abn_od_haze</th>\n      <th>vit_abn_os_haze</th>\n      <th>calcium</th>\n      <th>lactate_dehydrogenase</th>\n      <th>c-reactive_protein,_normal_and_high_sensitivity</th>\n      <th>wbc</th>\n      <th>rbc</th>\n      <th>hemoglobin</th>\n      <th>hematocrit</th>\n      <th>mcv</th>\n      <th>mch</th>\n      <th>mchc</th>\n      <th>rdw</th>\n      <th>platelet_count</th>\n      <th>neutrophil_%</th>\n      <th>lymphocytes_%</th>\n      <th>angiotensin_conv#enzyme</th>\n      <th>lysozyme,_plasma</th>\n      <th>anti-ccp_ab</th>\n      <th>anti-ena_screen</th>\n      <th>antinuclear_antibody</th>\n      <th>complement_c3</th>\n      <th>complement_c4</th>\n      <th>dna_double-stranded_ab</th>\n      <th>rheumatoid_factor</th>\n      <th>hbc__ab</th>\n      <th>hbs__ag</th>\n      <th>hcv__ab</th>\n    </tr>\n  </thead>\n  <tbody>\n    <tr>\n      <th>0</th>\n      <td>1</td>\n      <td>Male</td>\n      <td>Black/African American</td>\n      <td>anterior</td>\n      <td>Nonneoplastic Masquerade</td>\n      <td>idiopathic_anterior</td>\n      <td>0.0</td>\n      <td>0.0</td>\n      <td>0.0</td>\n      <td>0.5</td>\n      <td>0.0</td>\n      <td>0.0</td>\n      <td>2.27</td>\n      <td>184</td>\n      <td>1.83</td>\n      <td>6.91</td>\n      <td>4.97</td>\n      <td>14.6</td>\n      <td>41.4</td>\n      <td>83.3</td>\n      <td>29.4</td>\n      <td>35.3</td>\n      <td>13.9</td>\n      <td>194</td>\n      <td>64.4</td>\n      <td>30.8</td>\n      <td>NaN</td>\n      <td>3</td>\n      <td>&lt;20</td>\n      <td>NEG</td>\n      <td>NEG</td>\n      <td>149.0</td>\n      <td>33</td>\n      <td>NEG</td>\n      <td>&lt;15</td>\n      <td>0</td>\n      <td>0</td>\n      <td>0</td>\n    </tr>\n    <tr>\n      <th>1</th>\n      <td>2</td>\n      <td>Female</td>\n      <td>Black/African American</td>\n      <td>intermediate</td>\n      <td>Idiopathic</td>\n      <td>pars planitis</td>\n      <td>2.0</td>\n      <td>2.0</td>\n      <td>2.0</td>\n      <td>2.0</td>\n      <td>0.5</td>\n      <td>1.0</td>\n      <td>2.32</td>\n      <td>209</td>\n      <td>&lt;0.15</td>\n      <td>4.24</td>\n      <td>4.22</td>\n      <td>11</td>\n      <td>36</td>\n      <td>85.3</td>\n      <td>26.1</td>\n      <td>30.6</td>\n      <td>14.8</td>\n      <td>260</td>\n      <td>40.1</td>\n      <td>49.1</td>\n      <td>27.3</td>\n      <td>NaN</td>\n      <td>&lt;20</td>\n      <td>NEG</td>\n      <td>NEG</td>\n      <td>130.8</td>\n      <td>22.8</td>\n      <td>NEG</td>\n      <td>&lt;10</td>\n      <td>0</td>\n      <td>0</td>\n      <td>0</td>\n    </tr>\n    <tr>\n      <th>2</th>\n      <td>3</td>\n      <td>Female</td>\n      <td>White</td>\n      <td>panuveitis</td>\n      <td>Systemic</td>\n      <td>vkh</td>\n      <td>0.5</td>\n      <td>0.5</td>\n      <td>1.0</td>\n      <td>1.0</td>\n      <td>0.0</td>\n      <td>0.0</td>\n      <td>2.44</td>\n      <td>194</td>\n      <td>0.137</td>\n      <td>6.38</td>\n      <td>4.31</td>\n      <td>13.6</td>\n      <td>38.7</td>\n      <td>89.8</td>\n      <td>31.6</td>\n      <td>35.1</td>\n      <td>11.7</td>\n      <td>344</td>\n      <td>70.2</td>\n      <td>22.1</td>\n      <td>60.2</td>\n      <td>4.8</td>\n      <td>&lt;20</td>\n      <td>NEG</td>\n      <td>NEG</td>\n      <td>135.9</td>\n      <td>18.2</td>\n      <td>NEG</td>\n      <td>&lt;10</td>\n      <td>0</td>\n      <td>0</td>\n      <td>0</td>\n    </tr>\n    <tr>\n      <th>3</th>\n      <td>4</td>\n      <td>Female</td>\n      <td>White</td>\n      <td>anterior</td>\n      <td>Idiopathic</td>\n      <td>idiopathic_anterior</td>\n      <td>0.0</td>\n      <td>0.0</td>\n      <td>0.0</td>\n      <td>0.0</td>\n      <td>0.0</td>\n      <td>0.0</td>\n      <td>2.45</td>\n      <td>156</td>\n      <td>3.5</td>\n      <td>5.24</td>\n      <td>4.82</td>\n      <td>14.6</td>\n      <td>43.6</td>\n      <td>90.5</td>\n      <td>30.3</td>\n      <td>33.5</td>\n      <td>12.4</td>\n      <td>220</td>\n      <td>56.6</td>\n      <td>34.2</td>\n      <td>38.9</td>\n      <td>:</td>\n      <td>&lt;20</td>\n      <td>NEG</td>\n      <td>NEG</td>\n      <td>130.0</td>\n      <td>19.9</td>\n      <td>NEG</td>\n      <td>&lt;15</td>\n      <td>0</td>\n      <td>0</td>\n      <td>0</td>\n    </tr>\n    <tr>\n      <th>4</th>\n      <td>5</td>\n      <td>Female</td>\n      <td>unknown</td>\n      <td>anterior</td>\n      <td>Idiopathic</td>\n      <td>idiopathic_anterior</td>\n      <td>0.0</td>\n      <td>0.0</td>\n      <td>0.0</td>\n      <td>0.0</td>\n      <td>0.0</td>\n      <td>0.0</td>\n      <td>2.28</td>\n      <td>175</td>\n      <td>1</td>\n      <td>8.31</td>\n      <td>4.72</td>\n      <td>14</td>\n      <td>40.7</td>\n      <td>86.2</td>\n      <td>29.7</td>\n      <td>34.4</td>\n      <td>12.1</td>\n      <td>324</td>\n      <td>60.4</td>\n      <td>27.4</td>\n      <td>18.3</td>\n      <td>4.5</td>\n      <td>&lt;20</td>\n      <td>NEG</td>\n      <td>NEG</td>\n      <td>130.4</td>\n      <td>19</td>\n      <td>73</td>\n      <td>&lt;10</td>\n      <td>0</td>\n      <td>0</td>\n      <td>0</td>\n    </tr>\n    <tr>\n      <th>...</th>\n      <td>...</td>\n      <td>...</td>\n      <td>...</td>\n      <td>...</td>\n      <td>...</td>\n      <td>...</td>\n      <td>...</td>\n      <td>...</td>\n      <td>...</td>\n      <td>...</td>\n      <td>...</td>\n      <td>...</td>\n      <td>...</td>\n      <td>...</td>\n      <td>...</td>\n      <td>...</td>\n      <td>...</td>\n      <td>...</td>\n      <td>...</td>\n      <td>...</td>\n      <td>...</td>\n      <td>...</td>\n      <td>...</td>\n      <td>...</td>\n      <td>...</td>\n      <td>...</td>\n      <td>...</td>\n      <td>...</td>\n      <td>...</td>\n      <td>...</td>\n      <td>...</td>\n      <td>...</td>\n      <td>...</td>\n      <td>...</td>\n      <td>...</td>\n      <td>...</td>\n      <td>...</td>\n      <td>...</td>\n    </tr>\n    <tr>\n      <th>1070</th>\n      <td>1071</td>\n      <td>Male</td>\n      <td>Asian</td>\n      <td>panuveitis</td>\n      <td>Infectious</td>\n      <td>tuberculosis</td>\n      <td>0.0</td>\n      <td>0.0</td>\n      <td>0.0</td>\n      <td>0.0</td>\n      <td>0.0</td>\n      <td>0.0</td>\n      <td>2.26</td>\n      <td>194</td>\n      <td>15.4</td>\n      <td>7.22</td>\n      <td>5.49</td>\n      <td>12.7</td>\n      <td>40.6</td>\n      <td>74</td>\n      <td>23.1</td>\n      <td>31.3</td>\n      <td>15.4</td>\n      <td>292</td>\n      <td>67.3</td>\n      <td>17.7</td>\n      <td>&lt; 1.0</td>\n      <td>9.3</td>\n      <td>&lt;20</td>\n      <td>NEG</td>\n      <td>NEG</td>\n      <td>112.4</td>\n      <td>36.1</td>\n      <td>NEG</td>\n      <td>&lt;15</td>\n      <td>0</td>\n      <td>0</td>\n      <td>0</td>\n    </tr>\n    <tr>\n      <th>1071</th>\n      <td>1072</td>\n      <td>Male</td>\n      <td>unknown</td>\n      <td>intermediate</td>\n      <td>Idiopathic</td>\n      <td>pars planitis</td>\n      <td>0.0</td>\n      <td>1.0</td>\n      <td>0.0</td>\n      <td>2.0</td>\n      <td>0.0</td>\n      <td>2.0</td>\n      <td>2.36</td>\n      <td>239</td>\n      <td>0.8</td>\n      <td>7.65</td>\n      <td>4.56</td>\n      <td>12.6</td>\n      <td>35.9</td>\n      <td>78.7</td>\n      <td>27.6</td>\n      <td>35.1</td>\n      <td>13.5</td>\n      <td>219</td>\n      <td>54.3</td>\n      <td>38.6</td>\n      <td>53</td>\n      <td>3.6</td>\n      <td>&lt;20</td>\n      <td>NEG</td>\n      <td>NEG</td>\n      <td>121.5</td>\n      <td>22.3</td>\n      <td>NEG</td>\n      <td>&lt;15</td>\n      <td>0</td>\n      <td>0</td>\n      <td>0</td>\n    </tr>\n    <tr>\n      <th>1072</th>\n      <td>1073</td>\n      <td>Female</td>\n      <td>unknown</td>\n      <td>posterior</td>\n      <td>Infectious</td>\n      <td>toxoplasmosis</td>\n      <td>0.0</td>\n      <td>0.0</td>\n      <td>0.0</td>\n      <td>1.0</td>\n      <td>0.0</td>\n      <td>1.0</td>\n      <td>2.26</td>\n      <td>196</td>\n      <td>0.6</td>\n      <td>3.83</td>\n      <td>4.54</td>\n      <td>14.5</td>\n      <td>42.8</td>\n      <td>94.3</td>\n      <td>31.9</td>\n      <td>33.9</td>\n      <td>14.9</td>\n      <td>239</td>\n      <td>52.6</td>\n      <td>35.5</td>\n      <td>39.9</td>\n      <td>2.9</td>\n      <td>&lt;20</td>\n      <td>NEG</td>\n      <td>NEG</td>\n      <td>114.9</td>\n      <td>24.6</td>\n      <td>NEG</td>\n      <td>&lt;15</td>\n      <td>0</td>\n      <td>0</td>\n      <td>0</td>\n    </tr>\n    <tr>\n      <th>1073</th>\n      <td>1074</td>\n      <td>Female</td>\n      <td>Asian</td>\n      <td>posterior</td>\n      <td>WDS</td>\n      <td>wds</td>\n      <td>0.0</td>\n      <td>0.0</td>\n      <td>0.0</td>\n      <td>0.0</td>\n      <td>0.0</td>\n      <td>0.0</td>\n      <td>2.41</td>\n      <td>173</td>\n      <td>6.97</td>\n      <td>16.65</td>\n      <td>4.94</td>\n      <td>13.4</td>\n      <td>40.5</td>\n      <td>82</td>\n      <td>27.1</td>\n      <td>33.1</td>\n      <td>15.7</td>\n      <td>369</td>\n      <td>70.5</td>\n      <td>24.3</td>\n      <td>23</td>\n      <td>3.6</td>\n      <td>&lt;20</td>\n      <td>NEG</td>\n      <td>NEG</td>\n      <td>131.0</td>\n      <td>26</td>\n      <td>NEG</td>\n      <td>&lt;15</td>\n      <td>0</td>\n      <td>0</td>\n      <td>0</td>\n    </tr>\n    <tr>\n      <th>1074</th>\n      <td>1075</td>\n      <td>Male</td>\n      <td>White</td>\n      <td>posterior</td>\n      <td>Nonneoplastic masquerade</td>\n      <td>not_uveitis</td>\n      <td>0.0</td>\n      <td>0.0</td>\n      <td>0.0</td>\n      <td>0.0</td>\n      <td>0.0</td>\n      <td>0.0</td>\n      <td>2.39</td>\n      <td>214</td>\n      <td>0.64</td>\n      <td>7.23</td>\n      <td>4.54</td>\n      <td>16.2</td>\n      <td>43.7</td>\n      <td>96.3</td>\n      <td>35.7</td>\n      <td>37.1</td>\n      <td>12.3</td>\n      <td>224</td>\n      <td>85.4</td>\n      <td>13.6</td>\n      <td>24.7</td>\n      <td>3.2</td>\n      <td>&lt;20</td>\n      <td>NEG</td>\n      <td>NEG</td>\n      <td>128.0</td>\n      <td>25</td>\n      <td>NEG</td>\n      <td>&lt;15</td>\n      <td>0</td>\n      <td>0</td>\n      <td>0</td>\n    </tr>\n  </tbody>\n</table>\n<p>1075 rows × 38 columns</p>\n</div>"
     },
     "execution_count": 59,
     "metadata": {},
     "output_type": "execute_result"
    }
   ],
   "source": [
    "pd.set_option('max_columns', None)\n",
    "df"
   ]
  },
  {
   "cell_type": "code",
   "execution_count": 60,
   "metadata": {},
   "outputs": [],
   "source": [
    "numeric_features = []\n",
    "categorical_features = []\n",
    "imputer = {'categorical':{'strategy':'constant', 'fill_value':'missing'}, 'numerical':{'strategy':'median'}}\n",
    "# preprocessor = pipe.preprocessing(categorical_features, numeric_features, imputer)"
   ]
  }
 ],
 "metadata": {
  "kernelspec": {
   "display_name": "Python 3",
   "language": "python",
   "name": "python3"
  },
  "language_info": {
   "codemirror_mode": {
    "name": "ipython",
    "version": 3
   },
   "file_extension": ".py",
   "mimetype": "text/x-python",
   "name": "python",
   "nbconvert_exporter": "python",
   "pygments_lexer": "ipython3",
   "version": "3.8.5"
  }
 },
 "nbformat": 4,
 "nbformat_minor": 4
}