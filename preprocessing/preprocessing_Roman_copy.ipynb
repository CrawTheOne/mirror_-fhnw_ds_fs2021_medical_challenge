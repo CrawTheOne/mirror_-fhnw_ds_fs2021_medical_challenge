{
 "cells": [
  {
   "cell_type": "markdown",
   "metadata": {},
   "source": [
    "TODO:\n",
    "- Describe HBc.. Columns"
   ]
  },
  {
   "cell_type": "code",
   "execution_count": 1,
   "metadata": {
    "pycharm": {
     "name": "#%%\n"
    }
   },
   "outputs": [],
   "source": [
    "# imports, libraries\n",
    "import pandas as pd\n",
    "import numpy as np\n",
    "import seaborn as sns\n",
    "import matplotlib.pyplot as plt\n",
    "import regex as re\n",
    "from sklearn.preprocessing import StandardScaler, Binarizer, LabelEncoder, Normalizer, OneHotEncoder\n",
    "from sklearn.impute import SimpleImputer\n",
    "from sklearn.compose import ColumnTransformer\n",
    "from sklearn.pipeline import Pipeline\n",
    "import os\n",
    "\n",
    "# import helperfunctions\n",
    "import preprocessing.pipe as pipe"
   ]
  },
  {
   "cell_type": "code",
   "execution_count": 2,
   "metadata": {},
   "outputs": [],
   "source": [
    "os.getcwd()\n",
    "os.chdir(\"D:/Drive/FHNW/zaRepos/fhnw_ds_fs2021_medical_challenge/preprocessing\")"
   ]
  },
  {
   "cell_type": "markdown",
   "metadata": {},
   "source": [
    "## Import and Renaming\n",
    "The dataset is imported with pandas `read_excel()`. The naming of the features, i.e. the names of the columns is not uniform. The features are renamed with the function `pipe.rename()`, which can be found in the script pipe.py, based on a given list. The list can be consulted in the document \"col_names&data_type-Copy1.xlsx\". All features are renamed in lowercase, and preceding and trailing spaces are removed. Brackets and their contents, e.g. \"(Blood)\", are removed. These would only complicate the readability of the code and are recognizable from the context as well as the name of the feature."
   ]
  },
  {
   "cell_type": "code",
   "execution_count": 3,
   "metadata": {},
   "outputs": [],
   "source": [
    "# import dataframe\n",
    "df = pd.read_excel(\"../data/uveitis_data.xlsx\")\n",
    "assert len(df) >= 1075, \"Data is not complete\"\n",
    "\n",
    "# rename columns\n",
    "df = pipe.rename(df, \"../data/col_names&data_type-Copy1.xlsx\")"
   ]
  },
  {
   "cell_type": "code",
   "execution_count": 4,
   "metadata": {},
   "outputs": [],
   "source": [
    "df = df.applymap(lambda x: x.strip() if isinstance(x, str) else x)"
   ]
  },
  {
   "cell_type": "code",
   "execution_count": 5,
   "metadata": {},
   "outputs": [
    {
     "name": "stdout",
     "output_type": "stream",
     "text": [
      "The following columns have been removed from the dataset:\n",
      "\n",
      "                       index     ratio\n",
      "70              anti-dnase_b  0.996279\n",
      "5                     other_  0.790698\n",
      "8                      notes  0.790698\n",
      "60      beta-2-microglobulin  0.657674\n",
      "63       lupus_anticoagulant  0.651163\n",
      "106       myeloperoxidase_ab  0.624186\n",
      "109  proteinase-3_antibodies  0.621395\n"
     ]
    }
   ],
   "source": [
    "df = pipe.drop_nan_columns(df, nan_percentage=.5, verbose = True)"
   ]
  },
  {
   "cell_type": "code",
   "execution_count": 6,
   "metadata": {},
   "outputs": [],
   "source": [
    "# df = pipe.drop_via_filter(test, 'range', verbose=True)"
   ]
  },
  {
   "cell_type": "markdown",
   "metadata": {},
   "source": [
    "# Categorical Features\n",
    "This section deals with categorical variables that can be taken as such directly from the dataset. There are features/variables that contain both categorical and numerical values. These are treated seperately. For each feature, a description is given of how it was processed. Mostly it is a simple normalization of the values, uniformization of values that contain the same information or removal of wrong or useless values. The decision to evaluate a value as \"missing\" is discussed in each case. All changes made can be adjusted or undone.\n",
    "\n"
   ]
  },
  {
   "cell_type": "markdown",
   "metadata": {},
   "source": [
    "## Feature Description \n",
    "- **Gender**, a qualitative, nominal feature describing the patients gender. A patient can either be in the \"male\" or \"female\" category.\n",
    "\n",
    "- **Race** describes the patients ethnicity.\n",
    "\n",
    "- **Location** locates the position of the inflammation in the eye. A distinction is made between posterior, anterior, intermediate, etc. \n",
    "\n",
    "- The feature **Categorical** records the source of the inflammation as seen by the specialists who recorded the data. Uveitis can be caused by systemic problems, infections, or often idopathic.\n",
    "\n",
    "- **EHR Diagnosos** is an electronic transmited diagnose, usually given beforehand by another doctor, that has had no knowledge about the lab tests and final diagnosis.\n",
    "\n",
    "- **Specific Diagnosis** is the diagnosis given by the team that collected the data. According to Dr. Nida Sen this is one of the most important outcome variables. This variable will be consired to be the target feature. \n",
    "\n",
    "- **AC Abn Od Cells and AC Abn Os Cells**. These qualitative, ordinal features describe the severity of the inflammation of the Anterior Chamber Cells (AC) in either the left eye (OS) or the right eye (OD). The inflammation can be rated as 0, +0.5, +1, +2, +3, +4. The higher the value the more severe the inflammation is. If either one of these values a patient can be considered as \"Active\", else as \"Quiet\". This information could be recorded in a new column.\n",
    "\n",
    "- **Vit Abn Od Cells, Vit Abn Os Cells, Vit Abn Od Haze and Vit Abn Os Haze** describe (similar to AC Abn O...) the inflammation of cells in the left (OS) and right (OD) eye. The same scale of 0, +0.5, +1, +2, +3, +4 is used. If one of the values is higher than 0 the patient is considered to be \"Active\" as well. This information can be recorded in a new column as well. \n",
    "\n",
    "- **HBc (HepB core) Ab (Blood), HBs (HepB surface) Ag (Blood), HCV (HepC) Ab (Blood)** \n",
    "\n",
    "Features that contain categorical and numerical information will be discussed in a later chapter."
   ]
  },
  {
   "cell_type": "markdown",
   "metadata": {},
   "source": [
    "### Gender\n",
    "\n",
    "This features containes the gender of the patient (\"female\" or \"male\") and is currently of the data type 'Object' ('O'). This feature gets transfromed to the dtype 'catgory' via the `pd.DataFrame.astype('category')`-function. This way it can later on easily be OneHotEncoded. "
   ]
  },
  {
   "cell_type": "code",
   "execution_count": 7,
   "metadata": {},
   "outputs": [
    {
     "data": {
      "text/plain": "['Male', 'Female']"
     },
     "execution_count": 7,
     "metadata": {},
     "output_type": "execute_result"
    }
   ],
   "source": [
    "df.gender.unique().tolist() # categories in feature 'gender'"
   ]
  },
  {
   "cell_type": "code",
   "execution_count": 8,
   "metadata": {},
   "outputs": [
    {
     "data": {
      "text/plain": "dtype('O')"
     },
     "execution_count": 8,
     "metadata": {},
     "output_type": "execute_result"
    }
   ],
   "source": [
    "df.gender.dtype # dtype before transformation"
   ]
  },
  {
   "cell_type": "code",
   "execution_count": 9,
   "metadata": {},
   "outputs": [
    {
     "data": {
      "text/plain": "CategoricalDtype(categories=['Female', 'Male'], ordered=False)"
     },
     "execution_count": 9,
     "metadata": {},
     "output_type": "execute_result"
    }
   ],
   "source": [
    "# gender\n",
    "def gender_dtype(df):\n",
    "    df.gender = df.gender.astype('category')\n",
    "    return df\n",
    "\n",
    "df = gender_dtype(df)\n",
    "df.gender.dtype # dtype after transformation"
   ]
  },
  {
   "cell_type": "markdown",
   "metadata": {},
   "source": [
    "### Race\n",
    "The categorical variable \"Race\" includes the category \"race or ethnic group data not provided by source\". These values are treated as missing values, aka in the category 'unknown', since they do not contain any information about the respective person. \"race or ethnic group data not provided by source\" and \"unknown race\" collaps into the category \"unknown\". Missing values (NaN's) are also marked with 'unknown'"
   ]
  },
  {
   "cell_type": "code",
   "execution_count": 10,
   "metadata": {},
   "outputs": [
    {
     "data": {
      "text/plain": "White                                        490\nBlack/African American                       381\nAsian                                         94\nunknown                                       75\nMultiracial                                   31\nNative Hawaiian or Other Pacific Islander      3\nAmerican Indian or Alaska Native               1\nName: race, dtype: int64"
     },
     "execution_count": 10,
     "metadata": {},
     "output_type": "execute_result"
    }
   ],
   "source": [
    "def race_processing(df):\n",
    "    df.race = df.race.replace({'Race or Ethnic Group Data Not Provided by Source':'unknown', \n",
    "                               'Unknown Race':'unknown'})\n",
    "    df.race = df.race.fillna(value='unknown')\n",
    "    df.race = df.race.astype('category')\n",
    "    assert df.race.isna().sum() == 0, 'Not all missing values are treated'\n",
    "    return df\n",
    "    \n",
    "df = race_processing(df)\n",
    "df.race.value_counts()"
   ]
  },
  {
   "cell_type": "markdown",
   "metadata": {},
   "source": [
    "TODO: Categories with less than 10 values, aka 'Native Hawaiian or Other Pacific Islander', 'American Indian or Alaska Native' may should be collapsed or discarded,"
   ]
  },
  {
   "cell_type": "markdown",
   "metadata": {},
   "source": [
    "### loc, \"Location\"\n",
    "The loc-Feature indicates the location of the inflammation of the eye. The category 'pan' is the same as 'panuveitis' and can be collapsed. \n",
    "We want to explore two diffrent approaches to treat this feature:\n",
    "\n",
    "1. We keep the categories 'anterior', 'intermediate', 'panuveitis', 'posterior' and 'sclerits'. All categories indicate a diffrent section of the eye (or multiple at once) that show inflammation. \n",
    "2. We collapse mutliple categories to get an 'anterior' and 'posterior' category. Aka, collapse the location to inflammations in the front and the back of the eye (binary feature). To achieve this we collapse the categories 'intermediate', 'posterior' and 'panuveities' to the category \"posterior_segment\". 'anterior' and 'scleritis' get collapsed to the category 'anterior_segment'."
   ]
  },
  {
   "cell_type": "code",
   "execution_count": 11,
   "metadata": {},
   "outputs": [
    {
     "name": "stdout",
     "output_type": "stream",
     "text": [
      "Categories: \n",
      "\n",
      "posterior       341\n",
      "anterior        242\n",
      "panuveitis      228\n",
      "intermediate    182\n",
      "scleritis        71\n",
      "Name: loc, dtype: int64\n"
     ]
    }
   ],
   "source": [
    "df = pipe.preprocessing_loc(df,'multi', verbose=True)"
   ]
  },
  {
   "cell_type": "markdown",
   "metadata": {},
   "source": [
    "### cat, \"Category\" \n",
    "The cat-feature describes the origin of the inflammation. For example infectious or idiopathic origin. \n",
    "We can collapse the categories \"nonneoplastic masquerade\" and \" neoplastic masquerade\" to not_uveitits. As these are \"pseudo-uveitis\"-types. The row with the single occurance of scleritis should be dropped as it has to few records with this category. The single occurance of NaN is a \"not_uveitis\" case and can be filled with that category."
   ]
  },
  {
   "cell_type": "code",
   "execution_count": 12,
   "metadata": {},
   "outputs": [
    {
     "data": {
      "text/plain": "idiopathic     530\nsystemic       192\nnot_uveitis    141\nwds            124\ninfectious      87\nName: cat, dtype: int64"
     },
     "execution_count": 12,
     "metadata": {},
     "output_type": "execute_result"
    }
   ],
   "source": [
    "for i in range(2):\n",
    "    df.cat = df.cat.str.lower().str.strip().astype('category')\n",
    "    if df.cat.isna().sum() >= 1:\n",
    "        df.cat = df.cat.fillna(value='not_uveitis')\n",
    "    df.loc[df['cat'].str.contains('masquerade', case=False), 'cat'] = 'not_uveitis'\n",
    "    df.drop(df[df.cat == 'scleritis'].index, inplace = True)\n",
    "    df.cat.value_counts()\n",
    "df.cat.value_counts()"
   ]
  },
  {
   "cell_type": "markdown",
   "metadata": {},
   "source": [
    "### ehr_diagnosis\n",
    "EHR diagnosos is an electronic transmitted diagnosis, usually given beforehand by another doctor, not knowing about the lab results and final diagnosis. This feature contains a lot of diffrent categories (533 unique values). Because of that we drop this feature."
   ]
  },
  {
   "cell_type": "code",
   "execution_count": 13,
   "metadata": {},
   "outputs": [],
   "source": [
    "df.drop(columns=['ehr_diagnosis'], inplace=True)"
   ]
  },
  {
   "cell_type": "markdown",
   "metadata": {},
   "source": [
    "### specific_diagnosis\n",
    "Specific diagnoses which occur less or equal to 10 times in the dataset get collapsed into the catgory 'other'"
   ]
  },
  {
   "cell_type": "code",
   "execution_count": 14,
   "metadata": {},
   "outputs": [
    {
     "data": {
      "text/plain": "idiopathic_anterior      169\npars planitis            145\nnot_uveitis              137\nidiopathic_panuveitis    107\nwds                       92\nidiopathic_posterior      58\nidiopathic_scleritis      56\nvkh                       45\ntoxoplasmosis             34\npresumed_sarcoidosis      33\nbcr                       32\nbx_proven_sarcoidosis     26\nother                     26\nviral                     25\nrheumatologic             24\nhla_b27                   21\nbehcet                    19\ntuberculosis              13\nmultiple_sclerosis        12\nName: specific_diagnosis, dtype: int64"
     },
     "execution_count": 14,
     "metadata": {},
     "output_type": "execute_result"
    }
   ],
   "source": [
    "def preprocessing_specific(df):\n",
    "    df.specific_diagnosis = df.specific_diagnosis.str.lower().astype('category')\n",
    "    df.loc[df['specific_diagnosis'].str.contains('masquerade', case=False), 'specific_diagnosis'] = 'not_uveitis'\n",
    "\n",
    "    count = df.specific_diagnosis.value_counts().reset_index().rename(columns={'index':'diagnosis','specific_diagnosis':'count'})\n",
    "    diag_less_10 = count[count['count'] <= 10].diagnosis.tolist()\n",
    "    df.specific_diagnosis = df.specific_diagnosis.replace({x:'other' for x in diag_less_10})\n",
    "    return df\n",
    "\n",
    "df = preprocessing_specific(df)\n",
    "df.specific_diagnosis.value_counts()"
   ]
  },
  {
   "cell_type": "markdown",
   "metadata": {},
   "source": [
    "### notes\n",
    "This column contains notes to the diagnosis and is mostly missing. This feature will be dropped at the end of the preprocessing."
   ]
  },
  {
   "cell_type": "code",
   "execution_count": 15,
   "metadata": {},
   "outputs": [],
   "source": [
    "if 'notes' in df.columns:\n",
    "    print(df.note.isna().sum()/len(df))"
   ]
  },
  {
   "cell_type": "markdown",
   "metadata": {},
   "source": [
    "### ac_abn_...-columns and vit_abn_...-columns\n",
    "Replace 'C' as Missing and change dtype to 'float'"
   ]
  },
  {
   "cell_type": "code",
   "execution_count": 16,
   "metadata": {},
   "outputs": [],
   "source": [
    "def preprocessing_inflammation(df, col = ['ac_abn_od_cells', 'ac_abn_os_cells', 'vit_abn_od_cells',\n",
    "       'vit_abn_os_cells', 'vit_abn_od_haze', 'vit_abn_os_haze']):\n",
    "    for c in col: \n",
    "        # replace 'C' (for missing) with NaN\n",
    "        df[c] = df[c].replace('C',np.nan)\n",
    "        df[c] = df[c].astype('float')\n",
    "        df[c] = pd.Categorical(values=df[c], categories=df[c].unique().sort(), ordered=True)\n",
    "    return df\n",
    "df = preprocessing_inflammation(df)"
   ]
  },
  {
   "cell_type": "markdown",
   "metadata": {},
   "source": [
    "### hbc__ab, hbs__ag and hcv__ab\n",
    "These columns encode the lab results for diffrent types of hepatitis. We encode these in binary form. Negative results are '0' and positive results get encoded as '1'. There are some cases where neither a positive or negative result can be identified. These values will be set as missing values. "
   ]
  },
  {
   "cell_type": "code",
   "execution_count": 17,
   "metadata": {},
   "outputs": [],
   "source": [
    "def preprocessing_hepatitis(df, col=['hbc__ab', 'hbs__ag', 'hcv__ab'], verbose=False):\n",
    "    for c in col:\n",
    "        df[c] = df[c].str.lower()\n",
    "        df.loc[df[c] == 'negative', c] = 0\n",
    "        df.loc[df[c] == 'see note | positive result s/co ratio is >5.0.  confirmatory testing i', c] = 1\n",
    "        df.loc[df[c] == 'see below | positive result s/co ratio is >5.0.  confirmatory testing', c] = 1\n",
    "        df.loc[df[c] == 'reactive', c] = 1\n",
    "        df.loc[df[c] == 'repeat reactive', c] = 1\n",
    "        df.loc[df[c] == 'invalid result', c] = np.nan\n",
    "        df.loc[df[c] == 'note:', c] = np.nan\n",
    "        df[c] = df[c].astype('category')\n",
    "        if verbose:\n",
    "            print(df[c].value_counts())\n",
    "    return df\n",
    "df = preprocessing_hepatitis(df)"
   ]
  },
  {
   "cell_type": "markdown",
   "metadata": {},
   "source": [
    "### hla-columns\n",
    "These columns contain genetic data about the patients. This data should be used for a seperate model and thus will not be used (at least for now) and dropped. A function has been defined to drop these columns."
   ]
  },
  {
   "cell_type": "code",
   "execution_count": 18,
   "metadata": {},
   "outputs": [],
   "source": [
    "# df = pipe.drop_via_filter(test, 'hla', verbose=True)"
   ]
  },
  {
   "cell_type": "markdown",
   "source": [
    "## Numerical Features\n",
    "This section deals with numerical variables that can be extracted from the dataset. As mentioned before, there are features/variables that contain both categorical and numerical values. These are treated seperately. For each feature, a description is given of how it was processed. All numerical features are extracted using the same method. All changes made can be adjusted or undone."
   ],
   "metadata": {
    "collapsed": false,
    "pycharm": {
     "name": "#%% md\n"
    }
   }
  },
  {
   "cell_type": "markdown",
   "source": [
    "## Feauture Description\n",
    "\n",
    "- **id** a numerical, nominal feature describing unique to each patient. It has no other use than to serve as an index\n",
    "\n",
    "- **calcium** is the concentration in mmol/L (millimole per liter) of calcium in blood.\n",
    "\n",
    "- **lactate_dehydrogenase** describes the ammount in U/L (units per liter) of lactate_dehydrogenase, an enzyme present in alot of cells and if a high presence is detected in blood it usually indicates some form of tissue damage.\n",
    "\n",
    "- **c-reactive_protein,_normal_and_high_sensitivity** Protein, measured in mg/L, found in blood that rise in response to inflammation. Low sensitivity tests only go from 10-1000 mg/L while high sensitivity tests range from 0.5-10 mg/L. Helthy patients have CRP from 0.8-3 mg/L\n",
    "\n",
    "- **wbc** The number of white blood cells in blood. Measured in K/uL (thousands per microliter). Healthy US patient count is between 4000-11'000 (Source: Wikipedia 25.03.21)\n",
    "\n",
    "- **rbc** is the number of red blood cells in blood. Measured in M/uL (million per microliter)\n",
    "\n",
    "- **hemoglobin** is the amount in g/dL of proteins that allow the transport of oxygen (these are mostly contained inside the rbc and make up 96% of it's dry content)\n",
    "\n",
    "- **hematocrit** is the volume in % of red blood cells in blood\n",
    "\n",
    "- **mcv** is the mean (average) corpuscolar (cell) volume measured in fL (femtoliter) of red blood cells\n",
    "\n",
    "- **mch** is the mean (average) corpuscolar (cell) hemoglobin measured in pg (picogram) of the average mass of hemoglobin per red blood cell in a sample\n",
    "\n",
    "- **mchc** is the mean (average) corpuscolar (cell) hemoglobin concentration in g/dL (grams per deciliter) in a given volume of packed blood cells\n",
    "\n",
    "- **rdw** is the red blood cell distribution width. This value, measured in % is a measure of the range of variation of red blood cell volume\n",
    "\n",
    "- **platelet_count** is the number of platelets, measured in K/uL (thousands per microliter) contained in the blood\n",
    "\n",
    "- **neutrophil_%** is a specific type of wbc that make up 40-70% of all wbc in humans. Measured in %\n",
    "\n",
    "- **lymphocytes_%** is another type of wbc that make up 18-40% of all wbc in humans. Measured in %\n",
    "\n",
    "- **angiotensin_conv#enzyme** is the angiotensin-converting enzyme which if present in quantities, undirectly raises blood pressure. Measured in U/L (units per liter)\n",
    "\n",
    "- **beta-2-microglobulin** is measured in mg/L (milligrams per liter), is a component of molecules present in nucleated cells\n",
    "\n",
    "- **lysozyme,_plasma** is measured in mcg/mL (micrograms per milliliter), is a antimicrobial enzyme, part of the immune system\n",
    "\n",
    "- **anti-dnase-b** is measured in U/mL (units per milliliter). It measures the presence of antibodies that combat streptococcus\n",
    "\n",
    "- **complement_c3** is measured in mg/dL (milligrams per deciliter). It is a protein of the (innate) immune system\n",
    "\n",
    "- **complement_c4** is measured in mg/dL (milligrams per deciliter). It is a protein involved in immunity, tolerance, and autoimmunity\n",
    "\n",
    "- **rheumatoid_factor** is measured in IU/mL (International Unit per milliliter). It is an autoantibody and if higher than 20 IU/mL it indicates (80% of cases) rheumatoid arthritis"
   ],
   "metadata": {
    "collapsed": false,
    "pycharm": {
     "name": "#%% md\n"
    }
   }
  },
  {
   "cell_type": "markdown",
   "source": [
    "### id\n",
    "\n",
    "A primary key that references each patient. Each value is unique and seems to be ordered but there is none.\n",
    "\n",
    "### calcium\n",
    "\n",
    "This feature indicates the content of calcium inside of the blood. These are mostly decimal values that range from 1.9 to 2.75 and contain some string values. For these reason the column uses the data type 'Object' ('O'). This feature gets transformed into a numerical datatype 'float64'."
   ],
   "metadata": {
    "collapsed": false,
    "pycharm": {
     "name": "#%% md\n"
    }
   }
  },
  {
   "cell_type": "markdown",
   "source": [
    "### lactate_dehydrogenase\n",
    "\n",
    "This numerical variable, if containing a high value indicates the potential presence of tissue damage. While most occurencies are numerical, as for calcium some string values are present which gives this feature an object data type."
   ],
   "metadata": {
    "collapsed": false,
    "pycharm": {
     "name": "#%% md\n"
    }
   }
  },
  {
   "cell_type": "code",
   "execution_count": 40,
   "outputs": [
    {
     "data": {
      "text/plain": "[14.6,\n 11,\n 13.6,\n 14,\n 13.4,\n 15.7,\n 15.2,\n 12.5,\n 11.2,\n 13,\n 15.5,\n 12.2,\n 14.5,\n 11.6,\n 12.4,\n 13.2,\n 16.4,\n 14.7,\n 14.3,\n 11.4,\n 15,\n 14.1,\n 14.4,\n 14.8,\n 13.5,\n 13.8,\n nan,\n 13.1,\n 12.8,\n 16.9,\n 12.6,\n 12.7,\n 11.8,\n 9.9,\n 9.7,\n 11.9,\n 11.5,\n 13.7,\n 13.3,\n 15.6,\n 12.3,\n 13.9,\n 12.1,\n 12.9,\n 9.1,\n 17.2,\n 17.4,\n 11.7,\n 16.3,\n 15.4,\n 16.2,\n 16.5,\n 14.9,\n 11.3,\n 15.3,\n 16.7,\n 14.2,\n 15.8,\n 11.1,\n 12,\n 10.7,\n 16.1,\n 16.6,\n 15.1,\n 16.8,\n 8.6,\n 10.6,\n 17.6,\n 9.6,\n 8,\n 10.3,\n 16,\n 9,\n 'see below | Specimen clotted. Test not performed. Floor notified.',\n 15.9,\n 'see note | Quantity not sufficient. Test not performed. Floor notified',\n 7.4,\n 7.5,\n 17.1,\n 9.4,\n 9.5,\n 10.8,\n 10.9,\n 10.5,\n 9.8,\n 10.4,\n 8.9,\n 7.8,\n 'see note | Specimen clotted. Test not performed. Floor notified.',\n 17.5,\n 8.8,\n 17]"
     },
     "execution_count": 40,
     "metadata": {},
     "output_type": "execute_result"
    }
   ],
   "source": [
    "df['hemoglobin'].unique().tolist()"
   ],
   "metadata": {
    "collapsed": false,
    "pycharm": {
     "name": "#%%\n"
    }
   }
  },
  {
   "cell_type": "markdown",
   "source": [
    "### c-reactive_protein,_normal_and_high_sensitivity\n",
    "\n",
    "This protein acts as an indicator of inflammation in the body. Ideally it would be a numerical column but some strings are contained inside, some containing special characters like > and <. These are tricky because we still want to try and keep their numerical importance without having to outright discard them.\n",
    "\n",
    "### wbc\n",
    "\n",
    "A pretty straightforward feature. Indicates the number of white blood cells in blood. It seems like some values are abnormaly high which could indicate UOM inconsistencies. It also is encoded as an object data type so it also has to be transformed into numerical.\n",
    "\n",
    "### rbc\n",
    "\n",
    "This feature is the count of red blood cells in blood. Also an object data type, to be converted into numerical\n",
    "\n",
    "### hemoglobin\n",
    "\n",
    "A numerical feature\n",
    "\n",
    "### hematocrit\n",
    "\n",
    "### mcv\n",
    "\n",
    "### mch\n",
    "\n",
    "### mchc\n",
    "\n",
    "### rdw\n",
    "\n",
    "### platelet_count\n",
    "\n",
    "### neutrophil_%\n",
    "\n",
    "### lymphocytes_%\n",
    "\n",
    "### angiotensin_conv#enzyme\n",
    "\n",
    "### beta-2-microglobulin\n",
    "\n",
    "### lysozyme,_plasma\n",
    "\n",
    "### anti-dnase_b\n",
    "\n",
    "### complement_c3\n",
    "\n",
    "### complement_c4\n",
    "\n",
    "### rheumatoid_factor"
   ],
   "metadata": {
    "collapsed": false,
    "pycharm": {
     "name": "#%% md\n"
    }
   }
  },
  {
   "cell_type": "code",
   "execution_count": 20,
   "outputs": [
    {
     "name": "stdout",
     "output_type": "stream",
     "text": [
      "['id', 'calcium', 'lactate_dehydrogenase', 'c-reactive_protein,_normal_and_high_sensitivity', 'wbc', 'rbc', 'hemoglobin', 'hematocrit', 'mcv', 'mch', 'mchc', 'rdw', 'platelet_count', 'neutrophil_%', 'lymphocytes_%', 'angiotensin_conv#enzyme', 'beta-2-microglobulin', 'lysozyme,_plasma', 'anti-dnase_b', 'complement_c3', 'complement_c4', 'rheumatoid_factor']\n",
      "['calcium', 'lactate_dehydrogenase', 'c-reactive_protein,_normal_and_high_sensitivity', 'wbc', 'rbc', 'hemoglobin', 'hematocrit', 'mcv', 'mch', 'mchc', 'rdw', 'platelet_count', 'neutrophil_%', 'lymphocytes_%', 'angiotensin_conv#enzyme', 'lysozyme,_plasma', 'complement_c4', 'rheumatoid_factor']\n"
     ]
    },
    {
     "data": {
      "text/plain": "        id  gender                    race           loc          cat  \\\n0        1    Male  Black/African American      anterior  not_uveitis   \n1        2  Female  Black/African American  intermediate   idiopathic   \n2        3  Female                   White    panuveitis     systemic   \n3        4  Female                   White      anterior   idiopathic   \n4        5  Female                 unknown      anterior   idiopathic   \n...    ...     ...                     ...           ...          ...   \n1070  1071    Male                   Asian    panuveitis   infectious   \n1071  1072    Male                 unknown  intermediate   idiopathic   \n1072  1073  Female                 unknown     posterior   infectious   \n1073  1074  Female                   Asian     posterior          wds   \n1074  1075    Male                   White     posterior  not_uveitis   \n\n       specific_diagnosis ac_abn_od_cells ac_abn_os_cells vit_abn_od_cells  \\\n0     idiopathic_anterior             0.0             0.0              0.0   \n1           pars planitis             2.0             2.0              2.0   \n2                     vkh             0.5             0.5              1.0   \n3     idiopathic_anterior             0.0             0.0              0.0   \n4     idiopathic_anterior             0.0             0.0              0.0   \n...                   ...             ...             ...              ...   \n1070         tuberculosis             0.0             0.0              0.0   \n1071        pars planitis             0.0             1.0              0.0   \n1072        toxoplasmosis             0.0             0.0              0.0   \n1073                  wds             0.0             0.0              0.0   \n1074          not_uveitis             0.0             0.0              0.0   \n\n     vit_abn_os_cells  ...  uom34          range34  uom35          range35  \\\n0                 0.5  ...    NaN              NaN    NaN              NaN   \n1                 2.0  ...      U  <0.4 (Negative)      U  <0.4 (Negative)   \n2                 1.0  ...    NaN              NaN    NaN              NaN   \n3                 0.0  ...    NaN              NaN    NaN              NaN   \n4                 0.0  ...    NaN              NaN    NaN              NaN   \n...               ...  ...    ...              ...    ...              ...   \n1070              0.0  ...      U  <0.4 (Negative)      U  <0.4 (Negative)   \n1071              2.0  ...    NaN              NaN    NaN              NaN   \n1072              1.0  ...    NaN              NaN    NaN              NaN   \n1073              0.0  ...    NaN              NaN    NaN              NaN   \n1074              0.0  ...  units         0.0-10.0  units         0.0-10.0   \n\n     rheumatoid_factor  uom36 range36 hbc__ab hbs__ag hcv__ab  \n0                  <15  IU/mL     <15       0       0       0  \n1                  <10  IU/mL     <13       0       0       0  \n2                  <10  IU/mL     <13       0       0       0  \n3                  <15  IU/mL     <15       0       0       0  \n4                  <10  IU/mL     <13       0       0       0  \n...                ...    ...     ...     ...     ...     ...  \n1070               <15  IU/mL     <15       0       0       0  \n1071               <15  IU/mL     <15       0       0       0  \n1072               <15  IU/mL     <15       0       0       0  \n1073               <15  IU/mL     <15       0       0       0  \n1074               <15  IU/mL     <15       0       0       0  \n\n[1074 rows x 110 columns]",
      "text/html": "<div>\n<style scoped>\n    .dataframe tbody tr th:only-of-type {\n        vertical-align: middle;\n    }\n\n    .dataframe tbody tr th {\n        vertical-align: top;\n    }\n\n    .dataframe thead th {\n        text-align: right;\n    }\n</style>\n<table border=\"1\" class=\"dataframe\">\n  <thead>\n    <tr style=\"text-align: right;\">\n      <th></th>\n      <th>id</th>\n      <th>gender</th>\n      <th>race</th>\n      <th>loc</th>\n      <th>cat</th>\n      <th>specific_diagnosis</th>\n      <th>ac_abn_od_cells</th>\n      <th>ac_abn_os_cells</th>\n      <th>vit_abn_od_cells</th>\n      <th>vit_abn_os_cells</th>\n      <th>...</th>\n      <th>uom34</th>\n      <th>range34</th>\n      <th>uom35</th>\n      <th>range35</th>\n      <th>rheumatoid_factor</th>\n      <th>uom36</th>\n      <th>range36</th>\n      <th>hbc__ab</th>\n      <th>hbs__ag</th>\n      <th>hcv__ab</th>\n    </tr>\n  </thead>\n  <tbody>\n    <tr>\n      <th>0</th>\n      <td>1</td>\n      <td>Male</td>\n      <td>Black/African American</td>\n      <td>anterior</td>\n      <td>not_uveitis</td>\n      <td>idiopathic_anterior</td>\n      <td>0.0</td>\n      <td>0.0</td>\n      <td>0.0</td>\n      <td>0.5</td>\n      <td>...</td>\n      <td>NaN</td>\n      <td>NaN</td>\n      <td>NaN</td>\n      <td>NaN</td>\n      <td>&lt;15</td>\n      <td>IU/mL</td>\n      <td>&lt;15</td>\n      <td>0</td>\n      <td>0</td>\n      <td>0</td>\n    </tr>\n    <tr>\n      <th>1</th>\n      <td>2</td>\n      <td>Female</td>\n      <td>Black/African American</td>\n      <td>intermediate</td>\n      <td>idiopathic</td>\n      <td>pars planitis</td>\n      <td>2.0</td>\n      <td>2.0</td>\n      <td>2.0</td>\n      <td>2.0</td>\n      <td>...</td>\n      <td>U</td>\n      <td>&lt;0.4 (Negative)</td>\n      <td>U</td>\n      <td>&lt;0.4 (Negative)</td>\n      <td>&lt;10</td>\n      <td>IU/mL</td>\n      <td>&lt;13</td>\n      <td>0</td>\n      <td>0</td>\n      <td>0</td>\n    </tr>\n    <tr>\n      <th>2</th>\n      <td>3</td>\n      <td>Female</td>\n      <td>White</td>\n      <td>panuveitis</td>\n      <td>systemic</td>\n      <td>vkh</td>\n      <td>0.5</td>\n      <td>0.5</td>\n      <td>1.0</td>\n      <td>1.0</td>\n      <td>...</td>\n      <td>NaN</td>\n      <td>NaN</td>\n      <td>NaN</td>\n      <td>NaN</td>\n      <td>&lt;10</td>\n      <td>IU/mL</td>\n      <td>&lt;13</td>\n      <td>0</td>\n      <td>0</td>\n      <td>0</td>\n    </tr>\n    <tr>\n      <th>3</th>\n      <td>4</td>\n      <td>Female</td>\n      <td>White</td>\n      <td>anterior</td>\n      <td>idiopathic</td>\n      <td>idiopathic_anterior</td>\n      <td>0.0</td>\n      <td>0.0</td>\n      <td>0.0</td>\n      <td>0.0</td>\n      <td>...</td>\n      <td>NaN</td>\n      <td>NaN</td>\n      <td>NaN</td>\n      <td>NaN</td>\n      <td>&lt;15</td>\n      <td>IU/mL</td>\n      <td>&lt;15</td>\n      <td>0</td>\n      <td>0</td>\n      <td>0</td>\n    </tr>\n    <tr>\n      <th>4</th>\n      <td>5</td>\n      <td>Female</td>\n      <td>unknown</td>\n      <td>anterior</td>\n      <td>idiopathic</td>\n      <td>idiopathic_anterior</td>\n      <td>0.0</td>\n      <td>0.0</td>\n      <td>0.0</td>\n      <td>0.0</td>\n      <td>...</td>\n      <td>NaN</td>\n      <td>NaN</td>\n      <td>NaN</td>\n      <td>NaN</td>\n      <td>&lt;10</td>\n      <td>IU/mL</td>\n      <td>&lt;13</td>\n      <td>0</td>\n      <td>0</td>\n      <td>0</td>\n    </tr>\n    <tr>\n      <th>...</th>\n      <td>...</td>\n      <td>...</td>\n      <td>...</td>\n      <td>...</td>\n      <td>...</td>\n      <td>...</td>\n      <td>...</td>\n      <td>...</td>\n      <td>...</td>\n      <td>...</td>\n      <td>...</td>\n      <td>...</td>\n      <td>...</td>\n      <td>...</td>\n      <td>...</td>\n      <td>...</td>\n      <td>...</td>\n      <td>...</td>\n      <td>...</td>\n      <td>...</td>\n      <td>...</td>\n    </tr>\n    <tr>\n      <th>1070</th>\n      <td>1071</td>\n      <td>Male</td>\n      <td>Asian</td>\n      <td>panuveitis</td>\n      <td>infectious</td>\n      <td>tuberculosis</td>\n      <td>0.0</td>\n      <td>0.0</td>\n      <td>0.0</td>\n      <td>0.0</td>\n      <td>...</td>\n      <td>U</td>\n      <td>&lt;0.4 (Negative)</td>\n      <td>U</td>\n      <td>&lt;0.4 (Negative)</td>\n      <td>&lt;15</td>\n      <td>IU/mL</td>\n      <td>&lt;15</td>\n      <td>0</td>\n      <td>0</td>\n      <td>0</td>\n    </tr>\n    <tr>\n      <th>1071</th>\n      <td>1072</td>\n      <td>Male</td>\n      <td>unknown</td>\n      <td>intermediate</td>\n      <td>idiopathic</td>\n      <td>pars planitis</td>\n      <td>0.0</td>\n      <td>1.0</td>\n      <td>0.0</td>\n      <td>2.0</td>\n      <td>...</td>\n      <td>NaN</td>\n      <td>NaN</td>\n      <td>NaN</td>\n      <td>NaN</td>\n      <td>&lt;15</td>\n      <td>IU/mL</td>\n      <td>&lt;15</td>\n      <td>0</td>\n      <td>0</td>\n      <td>0</td>\n    </tr>\n    <tr>\n      <th>1072</th>\n      <td>1073</td>\n      <td>Female</td>\n      <td>unknown</td>\n      <td>posterior</td>\n      <td>infectious</td>\n      <td>toxoplasmosis</td>\n      <td>0.0</td>\n      <td>0.0</td>\n      <td>0.0</td>\n      <td>1.0</td>\n      <td>...</td>\n      <td>NaN</td>\n      <td>NaN</td>\n      <td>NaN</td>\n      <td>NaN</td>\n      <td>&lt;15</td>\n      <td>IU/mL</td>\n      <td>&lt;15</td>\n      <td>0</td>\n      <td>0</td>\n      <td>0</td>\n    </tr>\n    <tr>\n      <th>1073</th>\n      <td>1074</td>\n      <td>Female</td>\n      <td>Asian</td>\n      <td>posterior</td>\n      <td>wds</td>\n      <td>wds</td>\n      <td>0.0</td>\n      <td>0.0</td>\n      <td>0.0</td>\n      <td>0.0</td>\n      <td>...</td>\n      <td>NaN</td>\n      <td>NaN</td>\n      <td>NaN</td>\n      <td>NaN</td>\n      <td>&lt;15</td>\n      <td>IU/mL</td>\n      <td>&lt;15</td>\n      <td>0</td>\n      <td>0</td>\n      <td>0</td>\n    </tr>\n    <tr>\n      <th>1074</th>\n      <td>1075</td>\n      <td>Male</td>\n      <td>White</td>\n      <td>posterior</td>\n      <td>not_uveitis</td>\n      <td>not_uveitis</td>\n      <td>0.0</td>\n      <td>0.0</td>\n      <td>0.0</td>\n      <td>0.0</td>\n      <td>...</td>\n      <td>units</td>\n      <td>0.0-10.0</td>\n      <td>units</td>\n      <td>0.0-10.0</td>\n      <td>&lt;15</td>\n      <td>IU/mL</td>\n      <td>&lt;15</td>\n      <td>0</td>\n      <td>0</td>\n      <td>0</td>\n    </tr>\n  </tbody>\n</table>\n<p>1074 rows × 110 columns</p>\n</div>"
     },
     "execution_count": 20,
     "metadata": {},
     "output_type": "execute_result"
    }
   ],
   "source": [
    "#variables assignement\n",
    "list_path = \"../data/col_names&data_type-Copy1.xlsx\"\n",
    "col_index_name = \"new col name\"\n",
    "col_data_type_name = \"data_type\"\n",
    "data_type = \"numerical\"\n",
    "\n",
    "desired_dtype = [\"Int64\", \"float64\"]\n",
    "\n",
    "#return list of all columns with specific dtype\n",
    "num_columns = pipe.list_of_totype(list_path, col_index_name, col_data_type_name, data_type)\n",
    "print(num_columns)\n",
    "\n",
    "#create dataframe with columns that contain a mix of strings and numerical values\n",
    "problem_df = pipe.coerce_then_problems(df, list_path, col_index_name, col_data_type_name, data_type, desired_dtype)\n",
    "problem_columns = list(problem_df)\n",
    "print(problem_columns)\n",
    "\n",
    "df"
   ],
   "metadata": {
    "collapsed": false,
    "pycharm": {
     "name": "#%%\n"
    }
   }
  },
  {
   "cell_type": "code",
   "execution_count": 21,
   "outputs": [
    {
     "data": {
      "text/plain": "        id  gender                    race           loc          cat  \\\n0        1    Male  Black/African American      anterior  not_uveitis   \n1        2  Female  Black/African American  intermediate   idiopathic   \n2        3  Female                   White    panuveitis     systemic   \n3        4  Female                   White      anterior   idiopathic   \n4        5  Female                 unknown      anterior   idiopathic   \n...    ...     ...                     ...           ...          ...   \n1070  1071    Male                   Asian    panuveitis   infectious   \n1071  1072    Male                 unknown  intermediate   idiopathic   \n1072  1073  Female                 unknown     posterior   infectious   \n1073  1074  Female                   Asian     posterior          wds   \n1074  1075    Male                   White     posterior  not_uveitis   \n\n       specific_diagnosis ac_abn_od_cells ac_abn_os_cells vit_abn_od_cells  \\\n0     idiopathic_anterior             0.0             0.0              0.0   \n1           pars planitis             2.0             2.0              2.0   \n2                     vkh             0.5             0.5              1.0   \n3     idiopathic_anterior             0.0             0.0              0.0   \n4     idiopathic_anterior             0.0             0.0              0.0   \n...                   ...             ...             ...              ...   \n1070         tuberculosis             0.0             0.0              0.0   \n1071        pars planitis             0.0             1.0              0.0   \n1072        toxoplasmosis             0.0             0.0              0.0   \n1073                  wds             0.0             0.0              0.0   \n1074          not_uveitis             0.0             0.0              0.0   \n\n     vit_abn_os_cells  ...  uom34          range34  uom35          range35  \\\n0                 0.5  ...    NaN              NaN    NaN              NaN   \n1                 2.0  ...      U  <0.4 (Negative)      U  <0.4 (Negative)   \n2                 1.0  ...    NaN              NaN    NaN              NaN   \n3                 0.0  ...    NaN              NaN    NaN              NaN   \n4                 0.0  ...    NaN              NaN    NaN              NaN   \n...               ...  ...    ...              ...    ...              ...   \n1070              0.0  ...      U  <0.4 (Negative)      U  <0.4 (Negative)   \n1071              2.0  ...    NaN              NaN    NaN              NaN   \n1072              1.0  ...    NaN              NaN    NaN              NaN   \n1073              0.0  ...    NaN              NaN    NaN              NaN   \n1074              0.0  ...  units         0.0-10.0  units         0.0-10.0   \n\n     rheumatoid_factor  uom36 range36 hbc__ab  hbs__ag hcv__ab  \n0                   15  IU/mL     <15       0        0       0  \n1                   10  IU/mL     <13       0        0       0  \n2                   10  IU/mL     <13       0        0       0  \n3                   15  IU/mL     <15       0        0       0  \n4                   10  IU/mL     <13       0        0       0  \n...                ...    ...     ...     ...      ...     ...  \n1070                15  IU/mL     <15       0        0       0  \n1071                15  IU/mL     <15       0        0       0  \n1072                15  IU/mL     <15       0        0       0  \n1073                15  IU/mL     <15       0        0       0  \n1074                15  IU/mL     <15       0        0       0  \n\n[1074 rows x 110 columns]",
      "text/html": "<div>\n<style scoped>\n    .dataframe tbody tr th:only-of-type {\n        vertical-align: middle;\n    }\n\n    .dataframe tbody tr th {\n        vertical-align: top;\n    }\n\n    .dataframe thead th {\n        text-align: right;\n    }\n</style>\n<table border=\"1\" class=\"dataframe\">\n  <thead>\n    <tr style=\"text-align: right;\">\n      <th></th>\n      <th>id</th>\n      <th>gender</th>\n      <th>race</th>\n      <th>loc</th>\n      <th>cat</th>\n      <th>specific_diagnosis</th>\n      <th>ac_abn_od_cells</th>\n      <th>ac_abn_os_cells</th>\n      <th>vit_abn_od_cells</th>\n      <th>vit_abn_os_cells</th>\n      <th>...</th>\n      <th>uom34</th>\n      <th>range34</th>\n      <th>uom35</th>\n      <th>range35</th>\n      <th>rheumatoid_factor</th>\n      <th>uom36</th>\n      <th>range36</th>\n      <th>hbc__ab</th>\n      <th>hbs__ag</th>\n      <th>hcv__ab</th>\n    </tr>\n  </thead>\n  <tbody>\n    <tr>\n      <th>0</th>\n      <td>1</td>\n      <td>Male</td>\n      <td>Black/African American</td>\n      <td>anterior</td>\n      <td>not_uveitis</td>\n      <td>idiopathic_anterior</td>\n      <td>0.0</td>\n      <td>0.0</td>\n      <td>0.0</td>\n      <td>0.5</td>\n      <td>...</td>\n      <td>NaN</td>\n      <td>NaN</td>\n      <td>NaN</td>\n      <td>NaN</td>\n      <td>15</td>\n      <td>IU/mL</td>\n      <td>&lt;15</td>\n      <td>0</td>\n      <td>0</td>\n      <td>0</td>\n    </tr>\n    <tr>\n      <th>1</th>\n      <td>2</td>\n      <td>Female</td>\n      <td>Black/African American</td>\n      <td>intermediate</td>\n      <td>idiopathic</td>\n      <td>pars planitis</td>\n      <td>2.0</td>\n      <td>2.0</td>\n      <td>2.0</td>\n      <td>2.0</td>\n      <td>...</td>\n      <td>U</td>\n      <td>&lt;0.4 (Negative)</td>\n      <td>U</td>\n      <td>&lt;0.4 (Negative)</td>\n      <td>10</td>\n      <td>IU/mL</td>\n      <td>&lt;13</td>\n      <td>0</td>\n      <td>0</td>\n      <td>0</td>\n    </tr>\n    <tr>\n      <th>2</th>\n      <td>3</td>\n      <td>Female</td>\n      <td>White</td>\n      <td>panuveitis</td>\n      <td>systemic</td>\n      <td>vkh</td>\n      <td>0.5</td>\n      <td>0.5</td>\n      <td>1.0</td>\n      <td>1.0</td>\n      <td>...</td>\n      <td>NaN</td>\n      <td>NaN</td>\n      <td>NaN</td>\n      <td>NaN</td>\n      <td>10</td>\n      <td>IU/mL</td>\n      <td>&lt;13</td>\n      <td>0</td>\n      <td>0</td>\n      <td>0</td>\n    </tr>\n    <tr>\n      <th>3</th>\n      <td>4</td>\n      <td>Female</td>\n      <td>White</td>\n      <td>anterior</td>\n      <td>idiopathic</td>\n      <td>idiopathic_anterior</td>\n      <td>0.0</td>\n      <td>0.0</td>\n      <td>0.0</td>\n      <td>0.0</td>\n      <td>...</td>\n      <td>NaN</td>\n      <td>NaN</td>\n      <td>NaN</td>\n      <td>NaN</td>\n      <td>15</td>\n      <td>IU/mL</td>\n      <td>&lt;15</td>\n      <td>0</td>\n      <td>0</td>\n      <td>0</td>\n    </tr>\n    <tr>\n      <th>4</th>\n      <td>5</td>\n      <td>Female</td>\n      <td>unknown</td>\n      <td>anterior</td>\n      <td>idiopathic</td>\n      <td>idiopathic_anterior</td>\n      <td>0.0</td>\n      <td>0.0</td>\n      <td>0.0</td>\n      <td>0.0</td>\n      <td>...</td>\n      <td>NaN</td>\n      <td>NaN</td>\n      <td>NaN</td>\n      <td>NaN</td>\n      <td>10</td>\n      <td>IU/mL</td>\n      <td>&lt;13</td>\n      <td>0</td>\n      <td>0</td>\n      <td>0</td>\n    </tr>\n    <tr>\n      <th>...</th>\n      <td>...</td>\n      <td>...</td>\n      <td>...</td>\n      <td>...</td>\n      <td>...</td>\n      <td>...</td>\n      <td>...</td>\n      <td>...</td>\n      <td>...</td>\n      <td>...</td>\n      <td>...</td>\n      <td>...</td>\n      <td>...</td>\n      <td>...</td>\n      <td>...</td>\n      <td>...</td>\n      <td>...</td>\n      <td>...</td>\n      <td>...</td>\n      <td>...</td>\n      <td>...</td>\n    </tr>\n    <tr>\n      <th>1070</th>\n      <td>1071</td>\n      <td>Male</td>\n      <td>Asian</td>\n      <td>panuveitis</td>\n      <td>infectious</td>\n      <td>tuberculosis</td>\n      <td>0.0</td>\n      <td>0.0</td>\n      <td>0.0</td>\n      <td>0.0</td>\n      <td>...</td>\n      <td>U</td>\n      <td>&lt;0.4 (Negative)</td>\n      <td>U</td>\n      <td>&lt;0.4 (Negative)</td>\n      <td>15</td>\n      <td>IU/mL</td>\n      <td>&lt;15</td>\n      <td>0</td>\n      <td>0</td>\n      <td>0</td>\n    </tr>\n    <tr>\n      <th>1071</th>\n      <td>1072</td>\n      <td>Male</td>\n      <td>unknown</td>\n      <td>intermediate</td>\n      <td>idiopathic</td>\n      <td>pars planitis</td>\n      <td>0.0</td>\n      <td>1.0</td>\n      <td>0.0</td>\n      <td>2.0</td>\n      <td>...</td>\n      <td>NaN</td>\n      <td>NaN</td>\n      <td>NaN</td>\n      <td>NaN</td>\n      <td>15</td>\n      <td>IU/mL</td>\n      <td>&lt;15</td>\n      <td>0</td>\n      <td>0</td>\n      <td>0</td>\n    </tr>\n    <tr>\n      <th>1072</th>\n      <td>1073</td>\n      <td>Female</td>\n      <td>unknown</td>\n      <td>posterior</td>\n      <td>infectious</td>\n      <td>toxoplasmosis</td>\n      <td>0.0</td>\n      <td>0.0</td>\n      <td>0.0</td>\n      <td>1.0</td>\n      <td>...</td>\n      <td>NaN</td>\n      <td>NaN</td>\n      <td>NaN</td>\n      <td>NaN</td>\n      <td>15</td>\n      <td>IU/mL</td>\n      <td>&lt;15</td>\n      <td>0</td>\n      <td>0</td>\n      <td>0</td>\n    </tr>\n    <tr>\n      <th>1073</th>\n      <td>1074</td>\n      <td>Female</td>\n      <td>Asian</td>\n      <td>posterior</td>\n      <td>wds</td>\n      <td>wds</td>\n      <td>0.0</td>\n      <td>0.0</td>\n      <td>0.0</td>\n      <td>0.0</td>\n      <td>...</td>\n      <td>NaN</td>\n      <td>NaN</td>\n      <td>NaN</td>\n      <td>NaN</td>\n      <td>15</td>\n      <td>IU/mL</td>\n      <td>&lt;15</td>\n      <td>0</td>\n      <td>0</td>\n      <td>0</td>\n    </tr>\n    <tr>\n      <th>1074</th>\n      <td>1075</td>\n      <td>Male</td>\n      <td>White</td>\n      <td>posterior</td>\n      <td>not_uveitis</td>\n      <td>not_uveitis</td>\n      <td>0.0</td>\n      <td>0.0</td>\n      <td>0.0</td>\n      <td>0.0</td>\n      <td>...</td>\n      <td>units</td>\n      <td>0.0-10.0</td>\n      <td>units</td>\n      <td>0.0-10.0</td>\n      <td>15</td>\n      <td>IU/mL</td>\n      <td>&lt;15</td>\n      <td>0</td>\n      <td>0</td>\n      <td>0</td>\n    </tr>\n  </tbody>\n</table>\n<p>1074 rows × 110 columns</p>\n</div>"
     },
     "execution_count": 21,
     "metadata": {},
     "output_type": "execute_result"
    }
   ],
   "source": [
    "corrected_df = pipe.iter_columns_extract_num(problem_df)\n",
    "corrected_df\n",
    "\n",
    "#foo = pipe.coerce_then_problems(df, list_path, col_index_name, col_data_type_name, data_type, desired_dtype)\n",
    "\n",
    "df = pipe.merge_corrected(df, corrected_df)\n",
    "df"
   ],
   "metadata": {
    "collapsed": false,
    "pycharm": {
     "name": "#%%\n"
    }
   }
  },
  {
   "cell_type": "markdown",
   "metadata": {},
   "source": [
    "## Features containing both numerical and categorical values\n",
    "Certain columns don't follow the tidy data principle that only one datatyp should be existant in a column/feature.\n",
    "This chapter deals with said columns and either splits them into a numeric and categorical feature or changes values to reach a uniform datatyp over a column."
   ]
  },
  {
   "cell_type": "markdown",
   "metadata": {},
   "source": [
    "### Anti-CCP Ab\n",
    "Anti-CCP is a numeric column with mostly values set to '<20'. A value below or at 20 is viewed as a negative result. Above 20 the result is positive. This allows for a binarization of the column. We set every value below or at 20 to 0 (aka 'negative') and all values above 20 to 1 (aka postive). Some values are still missing."
   ]
  },
  {
   "cell_type": "code",
   "execution_count": 22,
   "metadata": {},
   "outputs": [],
   "source": [
    "# df = pipe.num_to_binary(df, 'anti-ccp_ab', 20)\n",
    "# df['anti-ccp_ab'].value_counts(dropna=False)"
   ]
  },
  {
   "cell_type": "markdown",
   "metadata": {},
   "source": [
    "### Anti-ENA Screen\n",
    "Anti-ENA Screen consists of mostly 'NEG' (Negative) Values (1001 out of 1075), we assume that the other, numerical values can be regarded as positive. We encode these into 0 (Negative) and 1 (Positive) values. The singel occurance of 'see note | In-house test down.  Test re-ordered and sent to Referral L' gets dropped and replaced with `np.nan`."
   ]
  },
  {
   "cell_type": "code",
   "execution_count": 23,
   "metadata": {},
   "outputs": [],
   "source": [
    "# df['anti-ena_screen'].value_counts(dropna=False)"
   ]
  },
  {
   "cell_type": "markdown",
   "metadata": {},
   "source": [
    "### Antinuclear Antibody"
   ]
  },
  {
   "cell_type": "code",
   "execution_count": 24,
   "metadata": {},
   "outputs": [],
   "source": [
    "# df['antinuclear_antibody'].value_counts()"
   ]
  },
  {
   "cell_type": "markdown",
   "metadata": {},
   "source": [
    "### DNA Double-Stranded Ab"
   ]
  },
  {
   "cell_type": "code",
   "execution_count": 25,
   "metadata": {},
   "outputs": [],
   "source": [
    "# df['dna_double-stranded_ab'].value_counts(dropna=False)"
   ]
  },
  {
   "cell_type": "markdown",
   "metadata": {},
   "source": [
    "The function `pipe.neg_col_to_cat` transforms a list of columns (in our case `['anti-ena_screen','antinuclear_antibody','dna_double-stranded_ab']`) to binary, categorical columns where 0 = 'Negative' and 1 = 'Postive"
   ]
  },
  {
   "cell_type": "code",
   "execution_count": 26,
   "metadata": {},
   "outputs": [],
   "source": [
    "df = pipe.neg_col_to_cat(df, ['anti-ena_screen','antinuclear_antibody','dna_double-stranded_ab'])"
   ]
  },
  {
   "cell_type": "markdown",
   "metadata": {},
   "source": [
    "### Myeloperoxidase Ab\n",
    "This column has been dropped because of to many missing values"
   ]
  },
  {
   "cell_type": "code",
   "execution_count": 27,
   "metadata": {},
   "outputs": [],
   "source": [
    "# df['myeloperoxidase_ab'].value_counts(dropna=False)"
   ]
  },
  {
   "cell_type": "markdown",
   "metadata": {},
   "source": [
    "### Proteinase-3 Antibodies\n",
    "This column has been dropped because of to many missing values"
   ]
  },
  {
   "cell_type": "code",
   "execution_count": 28,
   "metadata": {},
   "outputs": [],
   "source": [
    "# df['proteinase-3_antibodies'].value_counts(dropna=False)"
   ]
  },
  {
   "cell_type": "markdown",
   "metadata": {},
   "source": [
    "## Drop 'uom' and 'range' columns\n",
    "Every lab test is accompanied by two columns. One specifies the unit of measurement (uom) for said test and the other defines the acceptable/normal range of the test (range).\n",
    "Although these informations are important for the exploratory data analysis test and the preprocessing it is not advised to include these columns in the dataframe that serves as the input for a machine learning algorithmn. "
   ]
  },
  {
   "cell_type": "code",
   "execution_count": 29,
   "metadata": {},
   "outputs": [],
   "source": [
    "# df = pipe.drop_uom_and_range(df, verbose=True)"
   ]
  },
  {
   "cell_type": "markdown",
   "metadata": {},
   "source": [
    "# Preprocessing Pipeline"
   ]
  },
  {
   "cell_type": "markdown",
   "metadata": {},
   "source": [
    "CHECK IF EVERY COLUMN IS ACCOUNTED FOR:\n",
    "- 'id'\n",
    "- [x] 'gender' \n",
    "- [x] 'race'\n",
    "- [x] 'loc'\n",
    "- [x] 'ehr_diagnosis' (Dropped)\n",
    "- [x] 'anti-dnase_b' (Dropped, too many missing values)\n",
    "- [x] 'other_' (Dropped, too many missing values)\n",
    "- [x] 'notes' (Dropped, too many missing values)\n",
    "- [x] 'beta-2-microglobulin' (Dropped, too many missing values)\n",
    "- [x] 'lupus_anticoagulant' (Dropped, too many missing values)\n",
    "- [x] 'myeloperoxidase_ab' (Dropped, too many missing values)\n",
    "- [x] 'proteinase-3_antibodies' (Dropped, too many missing values)\n",
    "- 'cat'\n",
    "- [x] 'specific_diagnosis'\n",
    "- [x] 'ac_abn_od_cells'\n",
    "- [x] 'ac_abn_os_cells'\n",
    "- [x] 'vit_abn_od_cells'\n",
    "- [x] 'vit_abn_os_cells'\n",
    "- [x] 'vit_abn_od_haze'\n",
    "- [x] 'vit_abn_os_haze'\n",
    "- 'calcium'\n",
    "- 'lactate_dehydrogenase'\n",
    "- 'c-reactive_protein,_normal_and_high_sensitivity'\n",
    "- 'wbc'\n",
    "- 'rbc'\n",
    "- 'hemoglobin'\n",
    "- 'hematocrit'\n",
    "- 'mcv'\n",
    "- 'mch'\n",
    "- 'mchc'\n",
    "- 'rdw'\n",
    "- 'platelet_count'\n",
    "- 'neutrophil_%'\n",
    "- 'lymphocytes_%'\n",
    "- 'angiotensin_conv#enzyme'\n",
    "- 'lysozyme,_plasma'\n",
    "- 'anti-ccp_ab'\n",
    "- 'anti-ena_screen'\n",
    "- 'antinuclear_antibody'\n",
    "- 'complement_c3'\n",
    "- 'complement_c4'\n",
    "- 'dna_double-stranded_ab'\n",
    "- [x] 'hla-a*' (Dropped)\n",
    "- [x] 'hla_a_1' (Dropped)\n",
    "- [x] 'hla_a_2' (Dropped)\n",
    "- [x] 'hla-b*' (Dropped)\n",
    "- [x] 'hla_b_1' (Dropped)\n",
    "- [x] 'hla_b_2' (Dropped)\n",
    "- [x] 'hla-cw*' (Dropped)\n",
    "- [x] 'hla_c_1' (Dropped)\n",
    "- [x] 'hla_c_2' (Dropped)\n",
    "- [x] 'hla-drb1*' (Dropped)\n",
    "- [x] 'hla_drb1_1' (Dropped)\n",
    "- [x] 'hla_drb1_2' (Dropped)\n",
    "- [x] 'hla-dqb1*_/_dq*' (Dropped)\n",
    "- [x] 'hla_dq_1' (Dropped)\n",
    "- [x] 'hla_dq_2' (Dropped)\n",
    "- [x] 'hla-drb_*' (Dropped)\n",
    "- [x] 'hla_drb*_1' (Dropped)\n",
    "- [x] 'hla_drb*_2' (Dropped)\n",
    "- 'rheumatoid_factor'\n",
    "- [x] 'hbc__ab'\n",
    "- [x] 'hbs__ag'\n",
    "- [x] 'hcv__ab'\n",
    "- uom and range columns (Dropped, after used for transformation)"
   ]
  },
  {
   "cell_type": "code",
   "execution_count": 30,
   "metadata": {},
   "outputs": [],
   "source": [
    "def preprocessing_pipe():\n",
    "    # load dataset\n",
    "    df = pd.read_excel(\"../data/uveitis_data.xlsx\")\n",
    "    \n",
    "    df = (df.pipe(pipe.rename, path=\"../data/col_names&data_type-Copy1.xlsx\") # rename columns\n",
    "        .pipe(pd.DataFrame.applymap, lambda x: x.strip() if isinstance(x, str) else x) # strip leading or trailing whitespace\n",
    "\n",
    "        # dropping columns\n",
    "        .pipe(pipe.drop_nan_columns, nan_percentage=.5, verbose = False) # drop columns with above nan_percantage missing values\n",
    "        .pipe(pd.DataFrame.drop, columns=['ehr_diagnosis'])\n",
    "        .pipe(pipe.drop_via_filter, filter_str = 'hla', verbose=False)\n",
    "        \n",
    "        .pipe(gender_dtype) # change dtype from 'gender' to catgory\n",
    "        .pipe(race_processing) # collapse 'race' feature\n",
    "        .pipe(pipe.preprocessing_loc, approach='multi', verbose=False) # use approach ='binary' for binary classification\n",
    "        .pipe(preprocessing_specific) # collapse 'specific_diagnosis'\n",
    "        .pipe(preprocessing_inflammation) # # transform collumns that contain information about severeness of inlamation\n",
    "        .pipe(preprocessing_hepatitis) # clean and binarize hepatitis-columns\n",
    "        \n",
    "        # drop 'uom' amd 'range' columns after use\n",
    "        .pipe(pipe.drop_uom_and_range, verbose=False)\n",
    "    )\n",
    "    return df\n",
    "\n",
    "df = preprocessing_pipe()\n"
   ]
  },
  {
   "cell_type": "code",
   "execution_count": 31,
   "metadata": {},
   "outputs": [
    {
     "data": {
      "text/plain": "        id  gender                    race           loc  \\\n0        1    Male  Black/African American      anterior   \n1        2  Female  Black/African American  intermediate   \n2        3  Female                   White    panuveitis   \n3        4  Female                   White      anterior   \n4        5  Female                 unknown      anterior   \n...    ...     ...                     ...           ...   \n1070  1071    Male                   Asian    panuveitis   \n1071  1072    Male                 unknown  intermediate   \n1072  1073  Female                 unknown     posterior   \n1073  1074  Female                   Asian     posterior   \n1074  1075    Male                   White     posterior   \n\n                           cat   specific_diagnosis ac_abn_od_cells  \\\n0     Nonneoplastic Masquerade  idiopathic_anterior             0.0   \n1                   Idiopathic        pars planitis             2.0   \n2                     Systemic                  vkh             0.5   \n3                   Idiopathic  idiopathic_anterior             0.0   \n4                   Idiopathic  idiopathic_anterior             0.0   \n...                        ...                  ...             ...   \n1070                Infectious         tuberculosis             0.0   \n1071                Idiopathic        pars planitis             0.0   \n1072                Infectious        toxoplasmosis             0.0   \n1073                       WDS                  wds             0.0   \n1074  Nonneoplastic masquerade          not_uveitis             0.0   \n\n     ac_abn_os_cells vit_abn_od_cells vit_abn_os_cells vit_abn_od_haze  \\\n0                0.0              0.0              0.5             0.0   \n1                2.0              2.0              2.0             0.5   \n2                0.5              1.0              1.0             0.0   \n3                0.0              0.0              0.0             0.0   \n4                0.0              0.0              0.0             0.0   \n...              ...              ...              ...             ...   \n1070             0.0              0.0              0.0             0.0   \n1071             1.0              0.0              2.0             0.0   \n1072             0.0              0.0              1.0             0.0   \n1073             0.0              0.0              0.0             0.0   \n1074             0.0              0.0              0.0             0.0   \n\n     vit_abn_os_haze calcium lactate_dehydrogenase  \\\n0                0.0    2.27                   184   \n1                1.0    2.32                   209   \n2                0.0    2.44                   194   \n3                0.0    2.45                   156   \n4                0.0    2.28                   175   \n...              ...     ...                   ...   \n1070             0.0    2.26                   194   \n1071             2.0    2.36                   239   \n1072             1.0    2.26                   196   \n1073             0.0    2.41                   173   \n1074             0.0    2.39                   214   \n\n     c-reactive_protein,_normal_and_high_sensitivity    wbc   rbc hemoglobin  \\\n0                                               1.83   6.91  4.97       14.6   \n1                                              <0.15   4.24  4.22         11   \n2                                              0.137   6.38  4.31       13.6   \n3                                                3.5   5.24  4.82       14.6   \n4                                                  1   8.31  4.72         14   \n...                                              ...    ...   ...        ...   \n1070                                            15.4   7.22  5.49       12.7   \n1071                                             0.8   7.65  4.56       12.6   \n1072                                             0.6   3.83  4.54       14.5   \n1073                                            6.97  16.65  4.94       13.4   \n1074                                            0.64   7.23  4.54       16.2   \n\n     hematocrit   mcv   mch  mchc   rdw platelet_count neutrophil_%  \\\n0          41.4  83.3  29.4  35.3  13.9            194         64.4   \n1            36  85.3  26.1  30.6  14.8            260         40.1   \n2          38.7  89.8  31.6  35.1  11.7            344         70.2   \n3          43.6  90.5  30.3  33.5  12.4            220         56.6   \n4          40.7  86.2  29.7  34.4  12.1            324         60.4   \n...         ...   ...   ...   ...   ...            ...          ...   \n1070       40.6    74  23.1  31.3  15.4            292         67.3   \n1071       35.9  78.7  27.6  35.1  13.5            219         54.3   \n1072       42.8  94.3  31.9  33.9  14.9            239         52.6   \n1073       40.5    82  27.1  33.1  15.7            369         70.5   \n1074       43.7  96.3  35.7  37.1  12.3            224         85.4   \n\n     lymphocytes_% angiotensin_conv#enzyme lysozyme,_plasma anti-ccp_ab  \\\n0             30.8                     NaN                3         <20   \n1             49.1                    27.3              NaN         <20   \n2             22.1                    60.2              4.8         <20   \n3             34.2                    38.9                :         <20   \n4             27.4                    18.3              4.5         <20   \n...            ...                     ...              ...         ...   \n1070          17.7                   < 1.0              9.3         <20   \n1071          38.6                      53              3.6         <20   \n1072          35.5                    39.9              2.9         <20   \n1073          24.3                      23              3.6         <20   \n1074          13.6                    24.7              3.2         <20   \n\n     anti-ena_screen antinuclear_antibody  complement_c3 complement_c4  \\\n0                NEG                  NEG          149.0            33   \n1                NEG                  NEG          130.8          22.8   \n2                NEG                  NEG          135.9          18.2   \n3                NEG                  NEG          130.0          19.9   \n4                NEG                  NEG          130.4            19   \n...              ...                  ...            ...           ...   \n1070             NEG                  NEG          112.4          36.1   \n1071             NEG                  NEG          121.5          22.3   \n1072             NEG                  NEG          114.9          24.6   \n1073             NEG                  NEG          131.0            26   \n1074             NEG                  NEG          128.0            25   \n\n     dna_double-stranded_ab rheumatoid_factor hbc__ab hbs__ag hcv__ab  \n0                       NEG               <15       0       0       0  \n1                       NEG               <10       0       0       0  \n2                       NEG               <10       0       0       0  \n3                       NEG               <15       0       0       0  \n4                        73               <10       0       0       0  \n...                     ...               ...     ...     ...     ...  \n1070                    NEG               <15       0       0       0  \n1071                    NEG               <15       0       0       0  \n1072                    NEG               <15       0       0       0  \n1073                    NEG               <15       0       0       0  \n1074                    NEG               <15       0       0       0  \n\n[1075 rows x 38 columns]",
      "text/html": "<div>\n<style scoped>\n    .dataframe tbody tr th:only-of-type {\n        vertical-align: middle;\n    }\n\n    .dataframe tbody tr th {\n        vertical-align: top;\n    }\n\n    .dataframe thead th {\n        text-align: right;\n    }\n</style>\n<table border=\"1\" class=\"dataframe\">\n  <thead>\n    <tr style=\"text-align: right;\">\n      <th></th>\n      <th>id</th>\n      <th>gender</th>\n      <th>race</th>\n      <th>loc</th>\n      <th>cat</th>\n      <th>specific_diagnosis</th>\n      <th>ac_abn_od_cells</th>\n      <th>ac_abn_os_cells</th>\n      <th>vit_abn_od_cells</th>\n      <th>vit_abn_os_cells</th>\n      <th>vit_abn_od_haze</th>\n      <th>vit_abn_os_haze</th>\n      <th>calcium</th>\n      <th>lactate_dehydrogenase</th>\n      <th>c-reactive_protein,_normal_and_high_sensitivity</th>\n      <th>wbc</th>\n      <th>rbc</th>\n      <th>hemoglobin</th>\n      <th>hematocrit</th>\n      <th>mcv</th>\n      <th>mch</th>\n      <th>mchc</th>\n      <th>rdw</th>\n      <th>platelet_count</th>\n      <th>neutrophil_%</th>\n      <th>lymphocytes_%</th>\n      <th>angiotensin_conv#enzyme</th>\n      <th>lysozyme,_plasma</th>\n      <th>anti-ccp_ab</th>\n      <th>anti-ena_screen</th>\n      <th>antinuclear_antibody</th>\n      <th>complement_c3</th>\n      <th>complement_c4</th>\n      <th>dna_double-stranded_ab</th>\n      <th>rheumatoid_factor</th>\n      <th>hbc__ab</th>\n      <th>hbs__ag</th>\n      <th>hcv__ab</th>\n    </tr>\n  </thead>\n  <tbody>\n    <tr>\n      <th>0</th>\n      <td>1</td>\n      <td>Male</td>\n      <td>Black/African American</td>\n      <td>anterior</td>\n      <td>Nonneoplastic Masquerade</td>\n      <td>idiopathic_anterior</td>\n      <td>0.0</td>\n      <td>0.0</td>\n      <td>0.0</td>\n      <td>0.5</td>\n      <td>0.0</td>\n      <td>0.0</td>\n      <td>2.27</td>\n      <td>184</td>\n      <td>1.83</td>\n      <td>6.91</td>\n      <td>4.97</td>\n      <td>14.6</td>\n      <td>41.4</td>\n      <td>83.3</td>\n      <td>29.4</td>\n      <td>35.3</td>\n      <td>13.9</td>\n      <td>194</td>\n      <td>64.4</td>\n      <td>30.8</td>\n      <td>NaN</td>\n      <td>3</td>\n      <td>&lt;20</td>\n      <td>NEG</td>\n      <td>NEG</td>\n      <td>149.0</td>\n      <td>33</td>\n      <td>NEG</td>\n      <td>&lt;15</td>\n      <td>0</td>\n      <td>0</td>\n      <td>0</td>\n    </tr>\n    <tr>\n      <th>1</th>\n      <td>2</td>\n      <td>Female</td>\n      <td>Black/African American</td>\n      <td>intermediate</td>\n      <td>Idiopathic</td>\n      <td>pars planitis</td>\n      <td>2.0</td>\n      <td>2.0</td>\n      <td>2.0</td>\n      <td>2.0</td>\n      <td>0.5</td>\n      <td>1.0</td>\n      <td>2.32</td>\n      <td>209</td>\n      <td>&lt;0.15</td>\n      <td>4.24</td>\n      <td>4.22</td>\n      <td>11</td>\n      <td>36</td>\n      <td>85.3</td>\n      <td>26.1</td>\n      <td>30.6</td>\n      <td>14.8</td>\n      <td>260</td>\n      <td>40.1</td>\n      <td>49.1</td>\n      <td>27.3</td>\n      <td>NaN</td>\n      <td>&lt;20</td>\n      <td>NEG</td>\n      <td>NEG</td>\n      <td>130.8</td>\n      <td>22.8</td>\n      <td>NEG</td>\n      <td>&lt;10</td>\n      <td>0</td>\n      <td>0</td>\n      <td>0</td>\n    </tr>\n    <tr>\n      <th>2</th>\n      <td>3</td>\n      <td>Female</td>\n      <td>White</td>\n      <td>panuveitis</td>\n      <td>Systemic</td>\n      <td>vkh</td>\n      <td>0.5</td>\n      <td>0.5</td>\n      <td>1.0</td>\n      <td>1.0</td>\n      <td>0.0</td>\n      <td>0.0</td>\n      <td>2.44</td>\n      <td>194</td>\n      <td>0.137</td>\n      <td>6.38</td>\n      <td>4.31</td>\n      <td>13.6</td>\n      <td>38.7</td>\n      <td>89.8</td>\n      <td>31.6</td>\n      <td>35.1</td>\n      <td>11.7</td>\n      <td>344</td>\n      <td>70.2</td>\n      <td>22.1</td>\n      <td>60.2</td>\n      <td>4.8</td>\n      <td>&lt;20</td>\n      <td>NEG</td>\n      <td>NEG</td>\n      <td>135.9</td>\n      <td>18.2</td>\n      <td>NEG</td>\n      <td>&lt;10</td>\n      <td>0</td>\n      <td>0</td>\n      <td>0</td>\n    </tr>\n    <tr>\n      <th>3</th>\n      <td>4</td>\n      <td>Female</td>\n      <td>White</td>\n      <td>anterior</td>\n      <td>Idiopathic</td>\n      <td>idiopathic_anterior</td>\n      <td>0.0</td>\n      <td>0.0</td>\n      <td>0.0</td>\n      <td>0.0</td>\n      <td>0.0</td>\n      <td>0.0</td>\n      <td>2.45</td>\n      <td>156</td>\n      <td>3.5</td>\n      <td>5.24</td>\n      <td>4.82</td>\n      <td>14.6</td>\n      <td>43.6</td>\n      <td>90.5</td>\n      <td>30.3</td>\n      <td>33.5</td>\n      <td>12.4</td>\n      <td>220</td>\n      <td>56.6</td>\n      <td>34.2</td>\n      <td>38.9</td>\n      <td>:</td>\n      <td>&lt;20</td>\n      <td>NEG</td>\n      <td>NEG</td>\n      <td>130.0</td>\n      <td>19.9</td>\n      <td>NEG</td>\n      <td>&lt;15</td>\n      <td>0</td>\n      <td>0</td>\n      <td>0</td>\n    </tr>\n    <tr>\n      <th>4</th>\n      <td>5</td>\n      <td>Female</td>\n      <td>unknown</td>\n      <td>anterior</td>\n      <td>Idiopathic</td>\n      <td>idiopathic_anterior</td>\n      <td>0.0</td>\n      <td>0.0</td>\n      <td>0.0</td>\n      <td>0.0</td>\n      <td>0.0</td>\n      <td>0.0</td>\n      <td>2.28</td>\n      <td>175</td>\n      <td>1</td>\n      <td>8.31</td>\n      <td>4.72</td>\n      <td>14</td>\n      <td>40.7</td>\n      <td>86.2</td>\n      <td>29.7</td>\n      <td>34.4</td>\n      <td>12.1</td>\n      <td>324</td>\n      <td>60.4</td>\n      <td>27.4</td>\n      <td>18.3</td>\n      <td>4.5</td>\n      <td>&lt;20</td>\n      <td>NEG</td>\n      <td>NEG</td>\n      <td>130.4</td>\n      <td>19</td>\n      <td>73</td>\n      <td>&lt;10</td>\n      <td>0</td>\n      <td>0</td>\n      <td>0</td>\n    </tr>\n    <tr>\n      <th>...</th>\n      <td>...</td>\n      <td>...</td>\n      <td>...</td>\n      <td>...</td>\n      <td>...</td>\n      <td>...</td>\n      <td>...</td>\n      <td>...</td>\n      <td>...</td>\n      <td>...</td>\n      <td>...</td>\n      <td>...</td>\n      <td>...</td>\n      <td>...</td>\n      <td>...</td>\n      <td>...</td>\n      <td>...</td>\n      <td>...</td>\n      <td>...</td>\n      <td>...</td>\n      <td>...</td>\n      <td>...</td>\n      <td>...</td>\n      <td>...</td>\n      <td>...</td>\n      <td>...</td>\n      <td>...</td>\n      <td>...</td>\n      <td>...</td>\n      <td>...</td>\n      <td>...</td>\n      <td>...</td>\n      <td>...</td>\n      <td>...</td>\n      <td>...</td>\n      <td>...</td>\n      <td>...</td>\n      <td>...</td>\n    </tr>\n    <tr>\n      <th>1070</th>\n      <td>1071</td>\n      <td>Male</td>\n      <td>Asian</td>\n      <td>panuveitis</td>\n      <td>Infectious</td>\n      <td>tuberculosis</td>\n      <td>0.0</td>\n      <td>0.0</td>\n      <td>0.0</td>\n      <td>0.0</td>\n      <td>0.0</td>\n      <td>0.0</td>\n      <td>2.26</td>\n      <td>194</td>\n      <td>15.4</td>\n      <td>7.22</td>\n      <td>5.49</td>\n      <td>12.7</td>\n      <td>40.6</td>\n      <td>74</td>\n      <td>23.1</td>\n      <td>31.3</td>\n      <td>15.4</td>\n      <td>292</td>\n      <td>67.3</td>\n      <td>17.7</td>\n      <td>&lt; 1.0</td>\n      <td>9.3</td>\n      <td>&lt;20</td>\n      <td>NEG</td>\n      <td>NEG</td>\n      <td>112.4</td>\n      <td>36.1</td>\n      <td>NEG</td>\n      <td>&lt;15</td>\n      <td>0</td>\n      <td>0</td>\n      <td>0</td>\n    </tr>\n    <tr>\n      <th>1071</th>\n      <td>1072</td>\n      <td>Male</td>\n      <td>unknown</td>\n      <td>intermediate</td>\n      <td>Idiopathic</td>\n      <td>pars planitis</td>\n      <td>0.0</td>\n      <td>1.0</td>\n      <td>0.0</td>\n      <td>2.0</td>\n      <td>0.0</td>\n      <td>2.0</td>\n      <td>2.36</td>\n      <td>239</td>\n      <td>0.8</td>\n      <td>7.65</td>\n      <td>4.56</td>\n      <td>12.6</td>\n      <td>35.9</td>\n      <td>78.7</td>\n      <td>27.6</td>\n      <td>35.1</td>\n      <td>13.5</td>\n      <td>219</td>\n      <td>54.3</td>\n      <td>38.6</td>\n      <td>53</td>\n      <td>3.6</td>\n      <td>&lt;20</td>\n      <td>NEG</td>\n      <td>NEG</td>\n      <td>121.5</td>\n      <td>22.3</td>\n      <td>NEG</td>\n      <td>&lt;15</td>\n      <td>0</td>\n      <td>0</td>\n      <td>0</td>\n    </tr>\n    <tr>\n      <th>1072</th>\n      <td>1073</td>\n      <td>Female</td>\n      <td>unknown</td>\n      <td>posterior</td>\n      <td>Infectious</td>\n      <td>toxoplasmosis</td>\n      <td>0.0</td>\n      <td>0.0</td>\n      <td>0.0</td>\n      <td>1.0</td>\n      <td>0.0</td>\n      <td>1.0</td>\n      <td>2.26</td>\n      <td>196</td>\n      <td>0.6</td>\n      <td>3.83</td>\n      <td>4.54</td>\n      <td>14.5</td>\n      <td>42.8</td>\n      <td>94.3</td>\n      <td>31.9</td>\n      <td>33.9</td>\n      <td>14.9</td>\n      <td>239</td>\n      <td>52.6</td>\n      <td>35.5</td>\n      <td>39.9</td>\n      <td>2.9</td>\n      <td>&lt;20</td>\n      <td>NEG</td>\n      <td>NEG</td>\n      <td>114.9</td>\n      <td>24.6</td>\n      <td>NEG</td>\n      <td>&lt;15</td>\n      <td>0</td>\n      <td>0</td>\n      <td>0</td>\n    </tr>\n    <tr>\n      <th>1073</th>\n      <td>1074</td>\n      <td>Female</td>\n      <td>Asian</td>\n      <td>posterior</td>\n      <td>WDS</td>\n      <td>wds</td>\n      <td>0.0</td>\n      <td>0.0</td>\n      <td>0.0</td>\n      <td>0.0</td>\n      <td>0.0</td>\n      <td>0.0</td>\n      <td>2.41</td>\n      <td>173</td>\n      <td>6.97</td>\n      <td>16.65</td>\n      <td>4.94</td>\n      <td>13.4</td>\n      <td>40.5</td>\n      <td>82</td>\n      <td>27.1</td>\n      <td>33.1</td>\n      <td>15.7</td>\n      <td>369</td>\n      <td>70.5</td>\n      <td>24.3</td>\n      <td>23</td>\n      <td>3.6</td>\n      <td>&lt;20</td>\n      <td>NEG</td>\n      <td>NEG</td>\n      <td>131.0</td>\n      <td>26</td>\n      <td>NEG</td>\n      <td>&lt;15</td>\n      <td>0</td>\n      <td>0</td>\n      <td>0</td>\n    </tr>\n    <tr>\n      <th>1074</th>\n      <td>1075</td>\n      <td>Male</td>\n      <td>White</td>\n      <td>posterior</td>\n      <td>Nonneoplastic masquerade</td>\n      <td>not_uveitis</td>\n      <td>0.0</td>\n      <td>0.0</td>\n      <td>0.0</td>\n      <td>0.0</td>\n      <td>0.0</td>\n      <td>0.0</td>\n      <td>2.39</td>\n      <td>214</td>\n      <td>0.64</td>\n      <td>7.23</td>\n      <td>4.54</td>\n      <td>16.2</td>\n      <td>43.7</td>\n      <td>96.3</td>\n      <td>35.7</td>\n      <td>37.1</td>\n      <td>12.3</td>\n      <td>224</td>\n      <td>85.4</td>\n      <td>13.6</td>\n      <td>24.7</td>\n      <td>3.2</td>\n      <td>&lt;20</td>\n      <td>NEG</td>\n      <td>NEG</td>\n      <td>128.0</td>\n      <td>25</td>\n      <td>NEG</td>\n      <td>&lt;15</td>\n      <td>0</td>\n      <td>0</td>\n      <td>0</td>\n    </tr>\n  </tbody>\n</table>\n<p>1075 rows × 38 columns</p>\n</div>"
     },
     "execution_count": 31,
     "metadata": {},
     "output_type": "execute_result"
    }
   ],
   "source": [
    "pd.set_option('max_columns', None)\n",
    "df"
   ]
  },
  {
   "cell_type": "code",
   "execution_count": 32,
   "metadata": {},
   "outputs": [],
   "source": [
    "numeric_features = []\n",
    "categorical_features = []\n",
    "imputer = {'categorical':{'strategy':'constant', 'fill_value':'missing'}, 'numerical':{'strategy':'median'}}\n",
    "# preprocessor = pipe.preprocessing(categorical_features, numeric_features, imputer)"
   ]
  }
 ],
 "metadata": {
  "kernelspec": {
   "display_name": "Python 3",
   "language": "python",
   "name": "python3"
  },
  "language_info": {
   "codemirror_mode": {
    "name": "ipython",
    "version": 3
   },
   "file_extension": ".py",
   "mimetype": "text/x-python",
   "name": "python",
   "nbconvert_exporter": "python",
   "pygments_lexer": "ipython3",
   "version": "3.8.5"
  }
 },
 "nbformat": 4,
 "nbformat_minor": 4
}