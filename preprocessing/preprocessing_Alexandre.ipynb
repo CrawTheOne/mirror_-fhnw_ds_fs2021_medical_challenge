{
 "cells": [
  {
   "cell_type": "code",
   "execution_count": 2,
   "metadata": {
    "collapsed": true,
    "pycharm": {
     "name": "#%%\n"
    }
   },
   "outputs": [],
   "source": [
    "import os\n",
    "import sys\n",
    "import pandas as pd\n",
    "import pipe"
   ]
  },
  {
   "cell_type": "code",
   "execution_count": 3,
   "outputs": [],
   "source": [
    "os.chdir(\"D:/Drive/FHNW/zaRepos/fhnw_ds_fs2021_medical_challenge\")\n",
    "rel_path = \"./data/uveitis_data.xlsx\""
   ],
   "metadata": {
    "collapsed": false,
    "pycharm": {
     "name": "#%%\n"
    }
   }
  },
  {
   "cell_type": "code",
   "execution_count": 4,
   "outputs": [
    {
     "ename": "AttributeError",
     "evalue": "module 'pipe' has no attribute 'read_data'",
     "output_type": "error",
     "traceback": [
      "\u001B[1;31m---------------------------------------------------------------------------\u001B[0m",
      "\u001B[1;31mAttributeError\u001B[0m                            Traceback (most recent call last)",
      "\u001B[1;32m<ipython-input-4-c07358199f83>\u001B[0m in \u001B[0;36m<module>\u001B[1;34m\u001B[0m\n\u001B[0;32m      1\u001B[0m \u001B[1;31m#function that reads data\u001B[0m\u001B[1;33m\u001B[0m\u001B[1;33m\u001B[0m\u001B[1;33m\u001B[0m\u001B[0m\n\u001B[0;32m      2\u001B[0m \u001B[1;33m\u001B[0m\u001B[0m\n\u001B[1;32m----> 3\u001B[1;33m \u001B[0mdf1\u001B[0m \u001B[1;33m=\u001B[0m \u001B[0mpipe\u001B[0m\u001B[1;33m.\u001B[0m\u001B[0mread_data\u001B[0m\u001B[1;33m(\u001B[0m\u001B[0mrel_path\u001B[0m\u001B[1;33m=\u001B[0m\u001B[0mrel_path\u001B[0m\u001B[1;33m)\u001B[0m\u001B[1;33m\u001B[0m\u001B[1;33m\u001B[0m\u001B[0m\n\u001B[0m\u001B[0;32m      4\u001B[0m \u001B[1;33m\u001B[0m\u001B[0m\n\u001B[0;32m      5\u001B[0m \u001B[1;32mdef\u001B[0m \u001B[0mread_data\u001B[0m\u001B[1;33m(\u001B[0m\u001B[0mrel_path\u001B[0m\u001B[1;33m,\u001B[0m \u001B[1;33m**\u001B[0m\u001B[0mkwargs\u001B[0m\u001B[1;33m)\u001B[0m\u001B[1;33m:\u001B[0m\u001B[1;33m\u001B[0m\u001B[1;33m\u001B[0m\u001B[0m\n",
      "\u001B[1;31mAttributeError\u001B[0m: module 'pipe' has no attribute 'read_data'"
     ]
    }
   ],
   "source": [
    "#function that reads data\n",
    "\n",
    "df1 = pipe.read_data(rel_path=rel_path)\n",
    "\n",
    "def read_data(rel_path, **kwargs):\n",
    "    \"\"\"\n",
    "    Generalized function that reads a xlsx, csv, json or html data structure into a pandas dataframe\n",
    "\n",
    "    :argument rel_path: relative path to data to be read\n",
    "    :argument kwargs:  parameters for pd.read_\"extension\" functions\n",
    "    \"\"\"\n",
    "    filename, file_extension = os.path.splitext(rel_path)\n",
    "    print(os.path.basename(rel_path) + \" will be read\")\n",
    "    if file_extension == \".xlsx\": #when reading excel a usefull kwargs will be na_values = \"dict of values to consider na\"\n",
    "        df = pd.read_excel(rel_path, **kwargs)\n",
    "        print(\"reading filetype \"+file_extension)\n",
    "    elif file_extension == \".csv\":\n",
    "        df = pd.read_csv(rel_path, **kwargs)\n",
    "        print(\"reading filetype \"+file_extension)\n",
    "    elif file_extension == \".json\":\n",
    "        df = pd.read_json(rel_path, **kwargs)\n",
    "        print(\"reading filetype \"+file_extension)\n",
    "    elif file_extension == \".html\":\n",
    "        df = pd.read_html(rel_path, **kwargs)\n",
    "        print(\"reading filetype \"+file_extension)\n",
    "    else:\n",
    "        print(\"Filetype not supported by function\")\n",
    "        df = 0\n",
    "\n",
    "    if df.size != 0:\n",
    "        print(\"\\nSuccessfully created table with \", df.size, \"values and loaded as df\")\n",
    "        print(\"The table is\",df.shape[1], \"wide and\",df.shape[0],\"long \\n\")\n",
    "\n",
    "    return df\n",
    "\n",
    "df1 = read_data(rel_path)"
   ],
   "metadata": {
    "collapsed": false,
    "pycharm": {
     "name": "#%%\n"
    }
   }
  },
  {
   "cell_type": "code",
   "execution_count": 5,
   "outputs": [],
   "source": [
    "#function to return list of columns to convert to which data type (with choice) according to given list\n",
    "col_name_data_type = \"data_type\"\n",
    "col_index= \"new col name\"\n",
    "list_path = \"./data/col_names&data_type-Copy1.xlsx\"\n",
    "data_type = \"numerical\"\n",
    "\n",
    "def list_of_totype(list_path, col_index, col_name_data_type, data_type):\n",
    "    \"\"\"\n",
    "    :param list_path: path of excel document to read data type from\n",
    "    :param col_index: index column to use (column name of data type)\n",
    "    :param col_name_data_type: name of column where data type is stored\n",
    "    :param data_type: type of data desired. Should be numerical, categorical, char or both (appelation for edge cases)\n",
    "    :return: returns a list of column names with the desired data type\n",
    "    \"\"\"\n",
    "    col = pd.read_excel(list_path, index_col = col_index)[col_name_data_type] #get content of column with name data_type\n",
    "    col_to_type = col.where(col == data_type).dropna().index.tolist()\n",
    "    return col_to_type\n",
    "\n",
    "#item_filter = list_of_totype(list_path, col_index, col_name_data_type, data_type)\n",
    "#print(item_filter)"
   ],
   "metadata": {
    "collapsed": false,
    "pycharm": {
     "name": "#%%\n"
    }
   }
  },
  {
   "cell_type": "code",
   "execution_count": 28,
   "outputs": [],
   "source": [
    "#function that should return all values that couldn't be correctly coerced by next function (to be used in another function)\n",
    "desired_dtype = [\"Int64\", \"float64\"]\n",
    "\n",
    "def problem_columns(matches, desired_dtype):\n",
    "    \"\"\"\n",
    "    Return all columns and their content that couldn't be correctly coerced\n",
    "    :param matches: feeded from another function\n",
    "    :param desired_dtype: a list or string that contains the desired data_types that were transformed correctly\n",
    "    :return: returns a dataframe with all the problematic columns\n",
    "    \"\"\"\n",
    "    for key, value in matches.iteritems():\n",
    "        if value.dtype in desired_dtype:\n",
    "            print(\"\\n\", key, \"is desired\", value.dtype, \"and will be popped from problematic list \\n\")\n",
    "            matches.pop(key)\n",
    "        else:\n",
    "            print(key, \"has unwanted dtype, keeping for transformation\")\n",
    "    return matches"
   ],
   "metadata": {
    "collapsed": false,
    "pycharm": {
     "name": "#%%\n"
    }
   }
  },
  {
   "cell_type": "code",
   "execution_count": 29,
   "outputs": [],
   "source": [
    "#function to coerce columns to desired datatype\n",
    "def coerce_then_problems(dframe, list_path, col_index, col_name_data_type, data_type, desired_dtype):\n",
    "    \"\"\"\n",
    "    :param dframe: dataframe to be checked and wrecked\n",
    "    :param list_path: path of excel document to read data type from\n",
    "    :param col_index: index column to use (column name of data type)\n",
    "    :param col_name_data_type: name of column where data type is stored\n",
    "    :param data_type: type of data desired. Should be numerical, categorical, char or both (appelation for edge cases)\n",
    "    :param desired_dtype: a list or string that contains the desired data_types that were transformed correctly\n",
    "    :return: a dataframe with values that couldn't be coerced to the desired data_type automagically via convert_dtypes()\n",
    "    \"\"\"\n",
    "\n",
    "    item_filter = list_of_totype(list_path, col_index, col_name_data_type, data_type)\n",
    "    matches = dframe.filter(items = item_filter).convert_dtypes()\n",
    "    print(matches)\n",
    "    matches = problem_columns(matches, desired_dtype)\n",
    "    return matches"
   ],
   "metadata": {
    "collapsed": false,
    "pycharm": {
     "name": "#%%\n"
    }
   }
  },
  {
   "cell_type": "code",
   "execution_count": 30,
   "outputs": [
    {
     "name": "stdout",
     "output_type": "stream",
     "text": [
      "      SUBJECT ID Calcium (Blood) Lactate Dehydrogenase (LDH) (Blood)  \\\n",
      "0              1            2.27                                 184   \n",
      "1              2            2.32                                 209   \n",
      "2              3            2.44                                 194   \n",
      "3              4            2.45                                 156   \n",
      "4              5            2.28                                 175   \n",
      "...          ...             ...                                 ...   \n",
      "1070        1071            2.26                                 194   \n",
      "1071        1072            2.36                                 239   \n",
      "1072        1073            2.26                                 196   \n",
      "1073        1074            2.41                                 173   \n",
      "1074        1075            2.39                                 214   \n",
      "\n",
      "     C-Reactive Protein, Normal and High Sensitivity (Blood) WBC (Blood)  \\\n",
      "0                                                  1.83             6.91   \n",
      "1                                                 <0.15             4.24   \n",
      "2                                                 0.137             6.38   \n",
      "3                                                   3.5             5.24   \n",
      "4                                                     1             8.31   \n",
      "...                                                 ...              ...   \n",
      "1070                                               15.4             7.22   \n",
      "1071                                                0.8             7.65   \n",
      "1072                                                0.6             3.83   \n",
      "1073                                               6.97            16.65   \n",
      "1074                                               0.64             7.23   \n",
      "\n",
      "     RBC (Blood) Hemoglobin (Blood) Hematocrit (Blood) MCV (Blood)  \\\n",
      "0           4.97               14.6               41.4        83.3   \n",
      "1           4.22                 11                 36        85.3   \n",
      "2           4.31               13.6               38.7        89.8   \n",
      "3           4.82               14.6               43.6        90.5   \n",
      "4           4.72                 14               40.7        86.2   \n",
      "...          ...                ...                ...         ...   \n",
      "1070        5.49               12.7               40.6          74   \n",
      "1071        4.56               12.6               35.9        78.7   \n",
      "1072        4.54               14.5               42.8        94.3   \n",
      "1073        4.94               13.4               40.5          82   \n",
      "1074        4.54               16.2               43.7        96.3   \n",
      "\n",
      "     MCH (Blood)  ... Platelet Count (Blood) Neutrophil % (Blood)  \\\n",
      "0           29.4  ...                    194                 64.4   \n",
      "1           26.1  ...                    260                 40.1   \n",
      "2           31.6  ...                    344                 70.2   \n",
      "3           30.3  ...                    220                 56.6   \n",
      "4           29.7  ...                    324                 60.4   \n",
      "...          ...  ...                    ...                  ...   \n",
      "1070        23.1  ...                    292                 67.3   \n",
      "1071        27.6  ...                    219                 54.3   \n",
      "1072        31.9  ...                    239                 52.6   \n",
      "1073        27.1  ...                    369                 70.5   \n",
      "1074        35.7  ...                    224                 85.4   \n",
      "\n",
      "     Lymphocytes % (Blood) Angiotensin Conv#Enzyme (Blood)  \\\n",
      "0                     30.8                             NaN   \n",
      "1                     49.1                            27.3   \n",
      "2                     22.1                            60.2   \n",
      "3                     34.2                            38.9   \n",
      "4                     27.4                            18.3   \n",
      "...                    ...                             ...   \n",
      "1070                  17.7                           < 1.0   \n",
      "1071                  38.6                              53   \n",
      "1072                  35.5                            39.9   \n",
      "1073                  24.3                              23   \n",
      "1074                  13.6                            24.7   \n",
      "\n",
      "     Beta-2-Microglobulin (Blood) Lysozyme, Plasma (Blood)  \\\n",
      "0                             1.5                        3   \n",
      "1                             NaN                      NaN   \n",
      "2                             NaN                      4.8   \n",
      "3                             NaN                        :   \n",
      "4                             NaN                      4.5   \n",
      "...                           ...                      ...   \n",
      "1070                          3.7                      9.3   \n",
      "1071                          NaN                      3.6   \n",
      "1072                          NaN                      2.9   \n",
      "1073                          2.4                      3.6   \n",
      "1074                          1.2                      3.2   \n",
      "\n",
      "      Anti-Dnase B (Blood) Complement C3 (Blood) Complement C4 (Blood)  \\\n",
      "0                      NaN                 149.0                    33   \n",
      "1                      NaN                 130.8                  22.8   \n",
      "2                      NaN                 135.9                  18.2   \n",
      "3                      NaN                 130.0                  19.9   \n",
      "4                      NaN                 130.4                    19   \n",
      "...                    ...                   ...                   ...   \n",
      "1070                   NaN                 112.4                  36.1   \n",
      "1071                   NaN                 121.5                  22.3   \n",
      "1072                   NaN                 114.9                  24.6   \n",
      "1073                   NaN                 131.0                    26   \n",
      "1074                   NaN                 128.0                    25   \n",
      "\n",
      "      Rheumatoid Factor (Blood)  \n",
      "0                           <15  \n",
      "1                           <10  \n",
      "2                           <10  \n",
      "3                           <15  \n",
      "4                           <10  \n",
      "...                         ...  \n",
      "1070                        <15  \n",
      "1071                        <15  \n",
      "1072                        <15  \n",
      "1073                        <15  \n",
      "1074                        <15  \n",
      "\n",
      "[1075 rows x 22 columns]\n",
      "\n",
      " SUBJECT ID is desired Int64 and will be popped from problematic list \n",
      "\n",
      "Calcium (Blood) has unwanted dtype, keeping for transformation\n",
      "Lactate Dehydrogenase (LDH) (Blood) has unwanted dtype, keeping for transformation\n",
      "C-Reactive Protein, Normal and High Sensitivity (Blood) has unwanted dtype, keeping for transformation\n",
      "WBC (Blood) has unwanted dtype, keeping for transformation\n",
      "RBC (Blood) has unwanted dtype, keeping for transformation\n",
      "Hemoglobin (Blood) has unwanted dtype, keeping for transformation\n",
      "Hematocrit (Blood) has unwanted dtype, keeping for transformation\n",
      "MCV (Blood) has unwanted dtype, keeping for transformation\n",
      "MCH (Blood) has unwanted dtype, keeping for transformation\n",
      "MCHC (Blood) has unwanted dtype, keeping for transformation\n",
      "RDW (Blood) has unwanted dtype, keeping for transformation\n",
      "Platelet Count (Blood) has unwanted dtype, keeping for transformation\n",
      "Neutrophil % (Blood) has unwanted dtype, keeping for transformation\n",
      "Lymphocytes % (Blood) has unwanted dtype, keeping for transformation\n",
      "Angiotensin Conv#Enzyme (Blood) has unwanted dtype, keeping for transformation\n",
      "\n",
      " Beta-2-Microglobulin (Blood) is desired float64 and will be popped from problematic list \n",
      "\n",
      "Lysozyme, Plasma (Blood) has unwanted dtype, keeping for transformation\n",
      "Anti-Dnase B (Blood) has unwanted dtype, keeping for transformation\n",
      "\n",
      " Complement C3 (Blood) is desired float64 and will be popped from problematic list \n",
      "\n",
      "Complement C4 (Blood) has unwanted dtype, keeping for transformation\n",
      "Rheumatoid Factor (Blood) has unwanted dtype, keeping for transformation\n",
      "['Calcium (Blood)', 'Lactate Dehydrogenase (LDH) (Blood)', 'C-Reactive Protein, Normal and High Sensitivity (Blood)', 'WBC (Blood)', 'RBC (Blood)', 'Hemoglobin (Blood)', 'Hematocrit (Blood)', 'MCV (Blood)', 'MCH (Blood)', 'MCHC (Blood)', 'RDW (Blood)', 'Platelet Count (Blood)', 'Neutrophil % (Blood)', 'Lymphocytes % (Blood)', 'Angiotensin Conv#Enzyme (Blood)', 'Lysozyme, Plasma (Blood)', 'Anti-Dnase B (Blood)', 'Complement C4 (Blood)', 'Rheumatoid Factor (Blood)']\n",
      "<class 'pandas.core.frame.DataFrame'>\n"
     ]
    },
    {
     "name": "stderr",
     "output_type": "stream",
     "text": [
      "C:\\Users\\Lupo_Remastered\\Anaconda3\\lib\\site-packages\\ipykernel_launcher.py:11: DeprecationWarning: Numeric-style type codes are deprecated and will result in an error in the future.\n",
      "  # This is added back by InteractiveShellApp.init_path()\n"
     ]
    }
   ],
   "source": [
    "problem_df = coerce_then_problems(df1, list_path, col_index, col_name_data_type, data_type, desired_dtype)\n",
    "problem_columns = list(problem_df)\n",
    "print(problem_columns)\n",
    "print(type(problem_df))\n",
    "\n",
    "#function that iterates trough columns given by previous function to coerce values that aren't numerical in nature to something else (0, , NaN, NA, 99)\n"
   ],
   "metadata": {
    "collapsed": false,
    "pycharm": {
     "name": "#%%\n"
    }
   }
  },
  {
   "cell_type": "code",
   "execution_count": 31,
   "outputs": [
    {
     "ename": "ValueError",
     "evalue": "StringArray requires a sequence of strings or pandas.NA",
     "output_type": "error",
     "traceback": [
      "\u001B[1;31m---------------------------------------------------------------------------\u001B[0m",
      "\u001B[1;31mValueError\u001B[0m                                Traceback (most recent call last)",
      "\u001B[1;32m<ipython-input-31-7848a9582341>\u001B[0m in \u001B[0;36m<module>\u001B[1;34m\u001B[0m\n\u001B[0;32m     31\u001B[0m     \u001B[1;32mreturn\u001B[0m \u001B[0mdf\u001B[0m\u001B[1;33m\u001B[0m\u001B[1;33m\u001B[0m\u001B[0m\n\u001B[0;32m     32\u001B[0m \u001B[1;33m\u001B[0m\u001B[0m\n\u001B[1;32m---> 33\u001B[1;33m \u001B[0mextract_num\u001B[0m\u001B[1;33m(\u001B[0m\u001B[0mproblem_df\u001B[0m\u001B[1;33m,\u001B[0m \u001B[1;34m'Calcium (Blood)'\u001B[0m\u001B[1;33m,\u001B[0m \u001B[0merrors\u001B[0m\u001B[1;33m=\u001B[0m\u001B[1;34m'coerce'\u001B[0m\u001B[1;33m,\u001B[0m \u001B[0mverbose\u001B[0m\u001B[1;33m=\u001B[0m\u001B[1;32mFalse\u001B[0m\u001B[1;33m)\u001B[0m\u001B[1;33m\u001B[0m\u001B[1;33m\u001B[0m\u001B[0m\n\u001B[0m",
      "\u001B[1;32m<ipython-input-31-7848a9582341>\u001B[0m in \u001B[0;36mextract_num\u001B[1;34m(df, column, errors, verbose)\u001B[0m\n\u001B[0;32m     21\u001B[0m \u001B[1;33m\u001B[0m\u001B[0m\n\u001B[0;32m     22\u001B[0m     \u001B[1;31m# filter out decimal numbers of column\u001B[0m\u001B[1;33m\u001B[0m\u001B[1;33m\u001B[0m\u001B[1;33m\u001B[0m\u001B[0m\n\u001B[1;32m---> 23\u001B[1;33m     \u001B[0mdf\u001B[0m\u001B[1;33m[\u001B[0m\u001B[0mcolumn\u001B[0m\u001B[1;33m]\u001B[0m \u001B[1;33m=\u001B[0m \u001B[0mdf\u001B[0m\u001B[1;33m[\u001B[0m\u001B[0mcolumn\u001B[0m\u001B[1;33m]\u001B[0m\u001B[1;33m.\u001B[0m\u001B[0mastype\u001B[0m\u001B[1;33m(\u001B[0m\u001B[1;34m'string'\u001B[0m\u001B[1;33m)\u001B[0m\u001B[1;33m\u001B[0m\u001B[1;33m\u001B[0m\u001B[0m\n\u001B[0m\u001B[0;32m     24\u001B[0m     \u001B[0mdf\u001B[0m\u001B[1;33m[\u001B[0m\u001B[0mcolumn\u001B[0m\u001B[1;33m]\u001B[0m \u001B[1;33m=\u001B[0m \u001B[0mdf\u001B[0m\u001B[1;33m[\u001B[0m\u001B[0mcolumn\u001B[0m\u001B[1;33m]\u001B[0m\u001B[1;33m.\u001B[0m\u001B[0mstr\u001B[0m\u001B[1;33m.\u001B[0m\u001B[0mextract\u001B[0m\u001B[1;33m(\u001B[0m\u001B[1;34mr\"(\\d{1,}[.|,]\\d{1,}|\\d*)\"\u001B[0m\u001B[1;33m,\u001B[0m \u001B[0mexpand\u001B[0m\u001B[1;33m=\u001B[0m\u001B[1;32mFalse\u001B[0m\u001B[1;33m)\u001B[0m\u001B[1;33m\u001B[0m\u001B[1;33m\u001B[0m\u001B[0m\n\u001B[0;32m     25\u001B[0m     \u001B[0mdf\u001B[0m\u001B[1;33m[\u001B[0m\u001B[0mcolumn\u001B[0m\u001B[1;33m]\u001B[0m \u001B[1;33m=\u001B[0m \u001B[0mpd\u001B[0m\u001B[1;33m.\u001B[0m\u001B[0mto_numeric\u001B[0m\u001B[1;33m(\u001B[0m\u001B[0mdf\u001B[0m\u001B[1;33m[\u001B[0m\u001B[0mcolumn\u001B[0m\u001B[1;33m]\u001B[0m\u001B[1;33m,\u001B[0m \u001B[0merrors\u001B[0m\u001B[1;33m=\u001B[0m\u001B[0merrors\u001B[0m\u001B[1;33m)\u001B[0m\u001B[1;33m\u001B[0m\u001B[1;33m\u001B[0m\u001B[0m\n",
      "\u001B[1;32m~\\Anaconda3\\lib\\site-packages\\pandas\\core\\generic.py\u001B[0m in \u001B[0;36mastype\u001B[1;34m(self, dtype, copy, errors)\u001B[0m\n\u001B[0;32m   5696\u001B[0m         \u001B[1;32melse\u001B[0m\u001B[1;33m:\u001B[0m\u001B[1;33m\u001B[0m\u001B[1;33m\u001B[0m\u001B[0m\n\u001B[0;32m   5697\u001B[0m             \u001B[1;31m# else, only a single dtype is given\u001B[0m\u001B[1;33m\u001B[0m\u001B[1;33m\u001B[0m\u001B[1;33m\u001B[0m\u001B[0m\n\u001B[1;32m-> 5698\u001B[1;33m             \u001B[0mnew_data\u001B[0m \u001B[1;33m=\u001B[0m \u001B[0mself\u001B[0m\u001B[1;33m.\u001B[0m\u001B[0m_data\u001B[0m\u001B[1;33m.\u001B[0m\u001B[0mastype\u001B[0m\u001B[1;33m(\u001B[0m\u001B[0mdtype\u001B[0m\u001B[1;33m=\u001B[0m\u001B[0mdtype\u001B[0m\u001B[1;33m,\u001B[0m \u001B[0mcopy\u001B[0m\u001B[1;33m=\u001B[0m\u001B[0mcopy\u001B[0m\u001B[1;33m,\u001B[0m \u001B[0merrors\u001B[0m\u001B[1;33m=\u001B[0m\u001B[0merrors\u001B[0m\u001B[1;33m)\u001B[0m\u001B[1;33m\u001B[0m\u001B[1;33m\u001B[0m\u001B[0m\n\u001B[0m\u001B[0;32m   5699\u001B[0m             \u001B[1;32mreturn\u001B[0m \u001B[0mself\u001B[0m\u001B[1;33m.\u001B[0m\u001B[0m_constructor\u001B[0m\u001B[1;33m(\u001B[0m\u001B[0mnew_data\u001B[0m\u001B[1;33m)\u001B[0m\u001B[1;33m.\u001B[0m\u001B[0m__finalize__\u001B[0m\u001B[1;33m(\u001B[0m\u001B[0mself\u001B[0m\u001B[1;33m)\u001B[0m\u001B[1;33m\u001B[0m\u001B[1;33m\u001B[0m\u001B[0m\n\u001B[0;32m   5700\u001B[0m \u001B[1;33m\u001B[0m\u001B[0m\n",
      "\u001B[1;32m~\\Anaconda3\\lib\\site-packages\\pandas\\core\\internals\\managers.py\u001B[0m in \u001B[0;36mastype\u001B[1;34m(self, dtype, copy, errors)\u001B[0m\n\u001B[0;32m    580\u001B[0m \u001B[1;33m\u001B[0m\u001B[0m\n\u001B[0;32m    581\u001B[0m     \u001B[1;32mdef\u001B[0m \u001B[0mastype\u001B[0m\u001B[1;33m(\u001B[0m\u001B[0mself\u001B[0m\u001B[1;33m,\u001B[0m \u001B[0mdtype\u001B[0m\u001B[1;33m,\u001B[0m \u001B[0mcopy\u001B[0m\u001B[1;33m:\u001B[0m \u001B[0mbool\u001B[0m \u001B[1;33m=\u001B[0m \u001B[1;32mFalse\u001B[0m\u001B[1;33m,\u001B[0m \u001B[0merrors\u001B[0m\u001B[1;33m:\u001B[0m \u001B[0mstr\u001B[0m \u001B[1;33m=\u001B[0m \u001B[1;34m\"raise\"\u001B[0m\u001B[1;33m)\u001B[0m\u001B[1;33m:\u001B[0m\u001B[1;33m\u001B[0m\u001B[1;33m\u001B[0m\u001B[0m\n\u001B[1;32m--> 582\u001B[1;33m         \u001B[1;32mreturn\u001B[0m \u001B[0mself\u001B[0m\u001B[1;33m.\u001B[0m\u001B[0mapply\u001B[0m\u001B[1;33m(\u001B[0m\u001B[1;34m\"astype\"\u001B[0m\u001B[1;33m,\u001B[0m \u001B[0mdtype\u001B[0m\u001B[1;33m=\u001B[0m\u001B[0mdtype\u001B[0m\u001B[1;33m,\u001B[0m \u001B[0mcopy\u001B[0m\u001B[1;33m=\u001B[0m\u001B[0mcopy\u001B[0m\u001B[1;33m,\u001B[0m \u001B[0merrors\u001B[0m\u001B[1;33m=\u001B[0m\u001B[0merrors\u001B[0m\u001B[1;33m)\u001B[0m\u001B[1;33m\u001B[0m\u001B[1;33m\u001B[0m\u001B[0m\n\u001B[0m\u001B[0;32m    583\u001B[0m \u001B[1;33m\u001B[0m\u001B[0m\n\u001B[0;32m    584\u001B[0m     \u001B[1;32mdef\u001B[0m \u001B[0mconvert\u001B[0m\u001B[1;33m(\u001B[0m\u001B[0mself\u001B[0m\u001B[1;33m,\u001B[0m \u001B[1;33m**\u001B[0m\u001B[0mkwargs\u001B[0m\u001B[1;33m)\u001B[0m\u001B[1;33m:\u001B[0m\u001B[1;33m\u001B[0m\u001B[1;33m\u001B[0m\u001B[0m\n",
      "\u001B[1;32m~\\Anaconda3\\lib\\site-packages\\pandas\\core\\internals\\managers.py\u001B[0m in \u001B[0;36mapply\u001B[1;34m(self, f, filter, **kwargs)\u001B[0m\n\u001B[0;32m    440\u001B[0m                 \u001B[0mapplied\u001B[0m \u001B[1;33m=\u001B[0m \u001B[0mb\u001B[0m\u001B[1;33m.\u001B[0m\u001B[0mapply\u001B[0m\u001B[1;33m(\u001B[0m\u001B[0mf\u001B[0m\u001B[1;33m,\u001B[0m \u001B[1;33m**\u001B[0m\u001B[0mkwargs\u001B[0m\u001B[1;33m)\u001B[0m\u001B[1;33m\u001B[0m\u001B[1;33m\u001B[0m\u001B[0m\n\u001B[0;32m    441\u001B[0m             \u001B[1;32melse\u001B[0m\u001B[1;33m:\u001B[0m\u001B[1;33m\u001B[0m\u001B[1;33m\u001B[0m\u001B[0m\n\u001B[1;32m--> 442\u001B[1;33m                 \u001B[0mapplied\u001B[0m \u001B[1;33m=\u001B[0m \u001B[0mgetattr\u001B[0m\u001B[1;33m(\u001B[0m\u001B[0mb\u001B[0m\u001B[1;33m,\u001B[0m \u001B[0mf\u001B[0m\u001B[1;33m)\u001B[0m\u001B[1;33m(\u001B[0m\u001B[1;33m**\u001B[0m\u001B[0mkwargs\u001B[0m\u001B[1;33m)\u001B[0m\u001B[1;33m\u001B[0m\u001B[1;33m\u001B[0m\u001B[0m\n\u001B[0m\u001B[0;32m    443\u001B[0m             \u001B[0mresult_blocks\u001B[0m \u001B[1;33m=\u001B[0m \u001B[0m_extend_blocks\u001B[0m\u001B[1;33m(\u001B[0m\u001B[0mapplied\u001B[0m\u001B[1;33m,\u001B[0m \u001B[0mresult_blocks\u001B[0m\u001B[1;33m)\u001B[0m\u001B[1;33m\u001B[0m\u001B[1;33m\u001B[0m\u001B[0m\n\u001B[0;32m    444\u001B[0m \u001B[1;33m\u001B[0m\u001B[0m\n",
      "\u001B[1;32m~\\Anaconda3\\lib\\site-packages\\pandas\\core\\internals\\blocks.py\u001B[0m in \u001B[0;36mastype\u001B[1;34m(self, dtype, copy, errors)\u001B[0m\n\u001B[0;32m    623\u001B[0m             \u001B[0mvals1d\u001B[0m \u001B[1;33m=\u001B[0m \u001B[0mvalues\u001B[0m\u001B[1;33m.\u001B[0m\u001B[0mravel\u001B[0m\u001B[1;33m(\u001B[0m\u001B[1;33m)\u001B[0m\u001B[1;33m\u001B[0m\u001B[1;33m\u001B[0m\u001B[0m\n\u001B[0;32m    624\u001B[0m             \u001B[1;32mtry\u001B[0m\u001B[1;33m:\u001B[0m\u001B[1;33m\u001B[0m\u001B[1;33m\u001B[0m\u001B[0m\n\u001B[1;32m--> 625\u001B[1;33m                 \u001B[0mvalues\u001B[0m \u001B[1;33m=\u001B[0m \u001B[0mastype_nansafe\u001B[0m\u001B[1;33m(\u001B[0m\u001B[0mvals1d\u001B[0m\u001B[1;33m,\u001B[0m \u001B[0mdtype\u001B[0m\u001B[1;33m,\u001B[0m \u001B[0mcopy\u001B[0m\u001B[1;33m=\u001B[0m\u001B[1;32mTrue\u001B[0m\u001B[1;33m)\u001B[0m\u001B[1;33m\u001B[0m\u001B[1;33m\u001B[0m\u001B[0m\n\u001B[0m\u001B[0;32m    626\u001B[0m             \u001B[1;32mexcept\u001B[0m \u001B[1;33m(\u001B[0m\u001B[0mValueError\u001B[0m\u001B[1;33m,\u001B[0m \u001B[0mTypeError\u001B[0m\u001B[1;33m)\u001B[0m\u001B[1;33m:\u001B[0m\u001B[1;33m\u001B[0m\u001B[1;33m\u001B[0m\u001B[0m\n\u001B[0;32m    627\u001B[0m                 \u001B[1;31m# e.g. astype_nansafe can fail on object-dtype of strings\u001B[0m\u001B[1;33m\u001B[0m\u001B[1;33m\u001B[0m\u001B[1;33m\u001B[0m\u001B[0m\n",
      "\u001B[1;32m~\\Anaconda3\\lib\\site-packages\\pandas\\core\\dtypes\\cast.py\u001B[0m in \u001B[0;36mastype_nansafe\u001B[1;34m(arr, dtype, copy, skipna)\u001B[0m\n\u001B[0;32m    819\u001B[0m     \u001B[1;31m# dispatch on extension dtype if needed\u001B[0m\u001B[1;33m\u001B[0m\u001B[1;33m\u001B[0m\u001B[1;33m\u001B[0m\u001B[0m\n\u001B[0;32m    820\u001B[0m     \u001B[1;32mif\u001B[0m \u001B[0mis_extension_array_dtype\u001B[0m\u001B[1;33m(\u001B[0m\u001B[0mdtype\u001B[0m\u001B[1;33m)\u001B[0m\u001B[1;33m:\u001B[0m\u001B[1;33m\u001B[0m\u001B[1;33m\u001B[0m\u001B[0m\n\u001B[1;32m--> 821\u001B[1;33m         \u001B[1;32mreturn\u001B[0m \u001B[0mdtype\u001B[0m\u001B[1;33m.\u001B[0m\u001B[0mconstruct_array_type\u001B[0m\u001B[1;33m(\u001B[0m\u001B[1;33m)\u001B[0m\u001B[1;33m.\u001B[0m\u001B[0m_from_sequence\u001B[0m\u001B[1;33m(\u001B[0m\u001B[0marr\u001B[0m\u001B[1;33m,\u001B[0m \u001B[0mdtype\u001B[0m\u001B[1;33m=\u001B[0m\u001B[0mdtype\u001B[0m\u001B[1;33m,\u001B[0m \u001B[0mcopy\u001B[0m\u001B[1;33m=\u001B[0m\u001B[0mcopy\u001B[0m\u001B[1;33m)\u001B[0m\u001B[1;33m\u001B[0m\u001B[1;33m\u001B[0m\u001B[0m\n\u001B[0m\u001B[0;32m    822\u001B[0m \u001B[1;33m\u001B[0m\u001B[0m\n\u001B[0;32m    823\u001B[0m     \u001B[1;32mif\u001B[0m \u001B[1;32mnot\u001B[0m \u001B[0misinstance\u001B[0m\u001B[1;33m(\u001B[0m\u001B[0mdtype\u001B[0m\u001B[1;33m,\u001B[0m \u001B[0mnp\u001B[0m\u001B[1;33m.\u001B[0m\u001B[0mdtype\u001B[0m\u001B[1;33m)\u001B[0m\u001B[1;33m:\u001B[0m\u001B[1;33m\u001B[0m\u001B[1;33m\u001B[0m\u001B[0m\n",
      "\u001B[1;32m~\\Anaconda3\\lib\\site-packages\\pandas\\core\\arrays\\string_.py\u001B[0m in \u001B[0;36m_from_sequence\u001B[1;34m(cls, scalars, dtype, copy)\u001B[0m\n\u001B[0;32m    195\u001B[0m             \u001B[0mresult\u001B[0m\u001B[1;33m[\u001B[0m\u001B[0mna_values\u001B[0m\u001B[1;33m]\u001B[0m \u001B[1;33m=\u001B[0m \u001B[0mStringDtype\u001B[0m\u001B[1;33m.\u001B[0m\u001B[0mna_value\u001B[0m\u001B[1;33m\u001B[0m\u001B[1;33m\u001B[0m\u001B[0m\n\u001B[0;32m    196\u001B[0m \u001B[1;33m\u001B[0m\u001B[0m\n\u001B[1;32m--> 197\u001B[1;33m         \u001B[1;32mreturn\u001B[0m \u001B[0mcls\u001B[0m\u001B[1;33m(\u001B[0m\u001B[0mresult\u001B[0m\u001B[1;33m)\u001B[0m\u001B[1;33m\u001B[0m\u001B[1;33m\u001B[0m\u001B[0m\n\u001B[0m\u001B[0;32m    198\u001B[0m \u001B[1;33m\u001B[0m\u001B[0m\n\u001B[0;32m    199\u001B[0m     \u001B[1;33m@\u001B[0m\u001B[0mclassmethod\u001B[0m\u001B[1;33m\u001B[0m\u001B[1;33m\u001B[0m\u001B[0m\n",
      "\u001B[1;32m~\\Anaconda3\\lib\\site-packages\\pandas\\core\\arrays\\string_.py\u001B[0m in \u001B[0;36m__init__\u001B[1;34m(self, values, copy)\u001B[0m\n\u001B[0;32m    164\u001B[0m         \u001B[0mself\u001B[0m\u001B[1;33m.\u001B[0m\u001B[0m_dtype\u001B[0m \u001B[1;33m=\u001B[0m \u001B[0mStringDtype\u001B[0m\u001B[1;33m(\u001B[0m\u001B[1;33m)\u001B[0m\u001B[1;33m\u001B[0m\u001B[1;33m\u001B[0m\u001B[0m\n\u001B[0;32m    165\u001B[0m         \u001B[1;32mif\u001B[0m \u001B[1;32mnot\u001B[0m \u001B[0mskip_validation\u001B[0m\u001B[1;33m:\u001B[0m\u001B[1;33m\u001B[0m\u001B[1;33m\u001B[0m\u001B[0m\n\u001B[1;32m--> 166\u001B[1;33m             \u001B[0mself\u001B[0m\u001B[1;33m.\u001B[0m\u001B[0m_validate\u001B[0m\u001B[1;33m(\u001B[0m\u001B[1;33m)\u001B[0m\u001B[1;33m\u001B[0m\u001B[1;33m\u001B[0m\u001B[0m\n\u001B[0m\u001B[0;32m    167\u001B[0m \u001B[1;33m\u001B[0m\u001B[0m\n\u001B[0;32m    168\u001B[0m     \u001B[1;32mdef\u001B[0m \u001B[0m_validate\u001B[0m\u001B[1;33m(\u001B[0m\u001B[0mself\u001B[0m\u001B[1;33m)\u001B[0m\u001B[1;33m:\u001B[0m\u001B[1;33m\u001B[0m\u001B[1;33m\u001B[0m\u001B[0m\n",
      "\u001B[1;32m~\\Anaconda3\\lib\\site-packages\\pandas\\core\\arrays\\string_.py\u001B[0m in \u001B[0;36m_validate\u001B[1;34m(self)\u001B[0m\n\u001B[0;32m    169\u001B[0m         \u001B[1;34m\"\"\"Validate that we only store NA or strings.\"\"\"\u001B[0m\u001B[1;33m\u001B[0m\u001B[1;33m\u001B[0m\u001B[0m\n\u001B[0;32m    170\u001B[0m         \u001B[1;32mif\u001B[0m \u001B[0mlen\u001B[0m\u001B[1;33m(\u001B[0m\u001B[0mself\u001B[0m\u001B[1;33m.\u001B[0m\u001B[0m_ndarray\u001B[0m\u001B[1;33m)\u001B[0m \u001B[1;32mand\u001B[0m \u001B[1;32mnot\u001B[0m \u001B[0mlib\u001B[0m\u001B[1;33m.\u001B[0m\u001B[0mis_string_array\u001B[0m\u001B[1;33m(\u001B[0m\u001B[0mself\u001B[0m\u001B[1;33m.\u001B[0m\u001B[0m_ndarray\u001B[0m\u001B[1;33m,\u001B[0m \u001B[0mskipna\u001B[0m\u001B[1;33m=\u001B[0m\u001B[1;32mTrue\u001B[0m\u001B[1;33m)\u001B[0m\u001B[1;33m:\u001B[0m\u001B[1;33m\u001B[0m\u001B[1;33m\u001B[0m\u001B[0m\n\u001B[1;32m--> 171\u001B[1;33m             \u001B[1;32mraise\u001B[0m \u001B[0mValueError\u001B[0m\u001B[1;33m(\u001B[0m\u001B[1;34m\"StringArray requires a sequence of strings or pandas.NA\"\u001B[0m\u001B[1;33m)\u001B[0m\u001B[1;33m\u001B[0m\u001B[1;33m\u001B[0m\u001B[0m\n\u001B[0m\u001B[0;32m    172\u001B[0m         \u001B[1;32mif\u001B[0m \u001B[0mself\u001B[0m\u001B[1;33m.\u001B[0m\u001B[0m_ndarray\u001B[0m\u001B[1;33m.\u001B[0m\u001B[0mdtype\u001B[0m \u001B[1;33m!=\u001B[0m \u001B[1;34m\"object\"\u001B[0m\u001B[1;33m:\u001B[0m\u001B[1;33m\u001B[0m\u001B[1;33m\u001B[0m\u001B[0m\n\u001B[0;32m    173\u001B[0m             raise ValueError(\n",
      "\u001B[1;31mValueError\u001B[0m: StringArray requires a sequence of strings or pandas.NA"
     ]
    }
   ],
   "source": [
    "def extract_num(df, column, errors='coerce', verbose=False):\n",
    "    \"\"\"\n",
    "    Extracts numerical values out of a column and returns the DataFrame with said column in numerical dtype\n",
    "\n",
    "    Arguments\n",
    "    ---------\n",
    "    df: pandas.core.frame.DataFrame, Pandas DataFrame\n",
    "    column: str, Name of column whos numerical values should be extracted\n",
    "    errors: str, Determines how the function should handle errors (i.e nan's etc.), handled by pandas.to_numeric\n",
    "            - If 'raise', then invalid parsing will raise an exception.\n",
    "            - If 'coerce', then invalid parsing will be set as NaN.\n",
    "            - If 'ignore', then invalid parsing will return the input.\n",
    "\n",
    "    Returns\n",
    "    -------\n",
    "    df: pandas.core.frame.DataFrame\n",
    "    \"\"\"\n",
    "    if verbose:\n",
    "        print(\"Unique values before transformation:\")\n",
    "        print(df[column].unique())\n",
    "\n",
    "    # filter out decimal numbers of column\n",
    "    df[column] = df[column].astype('string')\n",
    "    df[column] = df[column].str.extract(r\"(\\d{1,}[.|,]\\d{1,}|\\d*)\", expand=False)\n",
    "    df[column] = pd.to_numeric(df[column], errors=errors)\n",
    "\n",
    "    if verbose:\n",
    "        print(\"Unique values after transformation:\")\n",
    "        print(df[column].unique())\n",
    "\n",
    "    return df\n",
    "\n",
    "extract_num(problem_df, 'Calcium (Blood)', errors='coerce', verbose=False)"
   ],
   "metadata": {
    "collapsed": false,
    "pycharm": {
     "name": "#%%\n"
    }
   }
  }
 ],
 "metadata": {
  "kernelspec": {
   "display_name": "Python 3",
   "language": "python",
   "name": "python3"
  },
  "language_info": {
   "codemirror_mode": {
    "name": "ipython",
    "version": 2
   },
   "file_extension": ".py",
   "mimetype": "text/x-python",
   "name": "python",
   "nbconvert_exporter": "python",
   "pygments_lexer": "ipython2",
   "version": "2.7.6"
  }
 },
 "nbformat": 4,
 "nbformat_minor": 0
}