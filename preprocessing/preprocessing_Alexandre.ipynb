{
 "cells": [
  {
   "cell_type": "code",
   "execution_count": 61,
   "metadata": {
    "collapsed": true,
    "pycharm": {
     "name": "#%%\n"
    }
   },
   "outputs": [
    {
     "name": "stdout",
     "output_type": "stream",
     "text": [
      "D:\\Drive\\FHNW\\zaRepos\\fhnw_ds_fs2021_medical_challenge\n",
      "uveitis_data.xlsx will be read\n",
      "reading filetype .xlsx\n",
      "successfully created table with  126850 values and loaded as df\n",
      "the table is  118 wide and  1075 long\n"
     ]
    }
   ],
   "source": [
    "import os\n",
    "import pandas as pd\n",
    "\n",
    "rel_path = \"./data/uveitis_data.xlsx\"\n",
    "\n",
    "def read_data(rel_path, **kwargs):\n",
    "    filename, file_extension = os.path.splitext(rel_path)\n",
    "    print(os.path.basename(rel_path) + \" will be read\")\n",
    "    if file_extension == \".xlsx\":\n",
    "        df = pd.read_excel(rel_path, **kwargs)\n",
    "        print(\"reading filetype \"+file_extension)\n",
    "    elif file_extension == \".csv\":\n",
    "        df = pd.read_csv(rel_path, **kwargs)\n",
    "        print(\"reading filetype \"+file_extension)\n",
    "    elif file_extension == \".json\":\n",
    "        df = pd.read_json(rel_path, **kwargs)\n",
    "        print(\"reading filetype \"+file_extension)\n",
    "    elif file_extension == \".html\":\n",
    "        df = pd.read_html(rel_path, **kwargs)\n",
    "        print(\"reading filetype \"+file_extension)\n",
    "    else:\n",
    "        print(\"Filetype not supported by function\")\n",
    "        df = 0\n",
    "\n",
    "    if df.size != 0:\n",
    "        print(\"successfully created table with \", df.size, \"values and loaded as df\")\n",
    "        print(\"the table is \",df.shape[1], \"wide and \",df.shape[0],\"long\")\n",
    "\n",
    "read_data(rel_path)"
   ]
  },
  {
   "cell_type": "code",
   "execution_count": null,
   "outputs": [],
   "source": [],
   "metadata": {
    "collapsed": false,
    "pycharm": {
     "name": "#%%\n"
    }
   }
  }
 ],
 "metadata": {
  "kernelspec": {
   "display_name": "Python 3",
   "language": "python",
   "name": "python3"
  },
  "language_info": {
   "codemirror_mode": {
    "name": "ipython",
    "version": 2
   },
   "file_extension": ".py",
   "mimetype": "text/x-python",
   "name": "python",
   "nbconvert_exporter": "python",
   "pygments_lexer": "ipython2",
   "version": "2.7.6"
  }
 },
 "nbformat": 4,
 "nbformat_minor": 0
}