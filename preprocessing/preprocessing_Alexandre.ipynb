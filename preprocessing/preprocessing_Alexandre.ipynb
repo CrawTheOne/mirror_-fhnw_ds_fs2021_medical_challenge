{
 "cells": [
  {
   "cell_type": "code",
   "execution_count": 9,
   "metadata": {
    "collapsed": true,
    "pycharm": {
     "name": "#%%\n"
    }
   },
   "outputs": [],
   "source": [
    "import os\n",
    "import pandas as pd\n",
    "import preprocessing.pipe as pipe"
   ]
  },
  {
   "cell_type": "code",
   "execution_count": 10,
   "outputs": [],
   "source": [
    "#directories boredom\n",
    "os.chdir(\"D:/Drive/FHNW/zaRepos/fhnw_ds_fs2021_medical_challenge/preprocessing\")\n",
    "rel_path = \"../data/uveitis_data.xlsx\"\n",
    "\n",
    "#variables assignement\n",
    "list_path = \"../data/col_names&data_type-Copy1.xlsx\"\n",
    "col_index_name = \"new col name\"\n",
    "col_data_type_name = \"data_type\"\n",
    "data_type = \"numerical\"\n",
    "\n",
    "desired_dtype = [\"Int64\", \"float64\"]\n",
    "\n"
   ],
   "metadata": {
    "collapsed": false,
    "pycharm": {
     "name": "#%%\n"
    }
   }
  },
  {
   "cell_type": "code",
   "execution_count": 14,
   "outputs": [
    {
     "name": "stdout",
     "output_type": "stream",
     "text": [
      "uveitis_data.xlsx will be read\n",
      "reading filetype .xlsx\n",
      "\n",
      "Successfully created table with  126850 values and loaded as df\n",
      "The table is 118 wide and 1075 long \n",
      "\n"
     ]
    },
    {
     "data": {
      "text/plain": "        id  gender                    race           loc  \\\n0        1    Male  Black/African American      Anterior   \n1        2  Female  Black/African American  Intermediate   \n2        3  Female                   White           Pan   \n3        4  Female                   White      Anterior   \n4        5  Female            Unknown Race      Anterior   \n...    ...     ...                     ...           ...   \n1070  1071    Male                   Asian           Pan   \n1071  1072    Male            Unknown Race  Intermediate   \n1072  1073  Female            Unknown Race     Posterior   \n1073  1074  Female                   Asian     Posterior   \n1074  1075    Male                   White     Posterior   \n\n                           cat         other_  \\\n0     Nonneoplastic Masquerade            NaN   \n1                   Idiopathic            NaN   \n2                     Systemic            NaN   \n3                   Idiopathic            NaN   \n4                   Idiopathic            NaN   \n...                        ...            ...   \n1070                Infectious  granulomatous   \n1071                Idiopathic            NaN   \n1072                Infectious            NaN   \n1073                       WDS            NaN   \n1074  Nonneoplastic masquerade            NaN   \n\n                                          ehr_diagnosis  \\\n0     Posner-Schlossman                             ...   \n1     Ant/Int Uveitis                               ...   \n2                                                   VKH   \n3     chronic idiopathic anterior uveitis           ...   \n4     Acute Anterior Uveitis                        ...   \n...                                                 ...   \n1070                  TB assoc granulomatous panuveitis   \n1071               NG anterior and intermediate uveitis   \n1072                    toxoplasmosis retinochoroiditis   \n1073                  ampiginous-like chorioretinopathy   \n1074                    AIR (+ anti-retinal antibodies)   \n\n            specific_diagnosis          notes ac_abn_od_cells  ...  \\\n0          Idiopathic_anterior            NaN            0     ...   \n1                pars planitis  pars planitis            2     ...   \n2                          VKH            NaN            0.5   ...   \n3          Idiopathic_anterior            NaN            0     ...   \n4          Idiopathic_anterior            NaN            0     ...   \n...                        ...            ...             ...  ...   \n1070            Tuberculosis              NaN               0  ...   \n1071             pars planitis  pars planitis            0     ...   \n1072             Toxoplasmosis            NaN            0     ...   \n1073                       WDS            WDS            0     ...   \n1074  Nonneoplastic masquerade            NaN               0  ...   \n\n               range34 proteinase-3_antibodies  uom35           range35  \\\n0                  NaN                     NaN    NaN               NaN   \n1      <0.4 (Negative)                    <0.2      U   <0.4 (Negative)   \n2                  NaN                     NaN    NaN               NaN   \n3                  NaN                     NaN    NaN               NaN   \n4                  NaN                     NaN    NaN               NaN   \n...                ...                     ...    ...               ...   \n1070   <0.4 (Negative)                     0.7      U   <0.4 (Negative)   \n1071               NaN                     NaN    NaN               NaN   \n1072               NaN                     NaN    NaN               NaN   \n1073               NaN                     NaN    NaN               NaN   \n1074          0.0-10.0                NEGATIVE  units          0.0-10.0   \n\n     rheumatoid_factor  uom36 range36   hbc__ab   hbs__ag   hcv__ab  \n0                  <15  IU/mL     <15  NEGATIVE  NEGATIVE  NEGATIVE  \n1                  <10  IU/mL     <13  NEGATIVE  NEGATIVE  NEGATIVE  \n2                  <10  IU/mL     <13  NEGATIVE  NEGATIVE  NEGATIVE  \n3                  <15  IU/mL     <15  NEGATIVE  NEGATIVE  NEGATIVE  \n4                  <10  IU/mL     <13  NEGATIVE  NEGATIVE  NEGATIVE  \n...                ...    ...     ...       ...       ...       ...  \n1070               <15  IU/mL     <15  NEGATIVE  NEGATIVE  NEGATIVE  \n1071               <15  IU/mL     <15  NEGATIVE  NEGATIVE  NEGATIVE  \n1072               <15  IU/mL     <15  NEGATIVE  NEGATIVE  NEGATIVE  \n1073               <15  IU/mL     <15  NEGATIVE  NEGATIVE  NEGATIVE  \n1074               <15  IU/mL     <15  NEGATIVE  NEGATIVE  NEGATIVE  \n\n[1075 rows x 118 columns]",
      "text/html": "<div>\n<style scoped>\n    .dataframe tbody tr th:only-of-type {\n        vertical-align: middle;\n    }\n\n    .dataframe tbody tr th {\n        vertical-align: top;\n    }\n\n    .dataframe thead th {\n        text-align: right;\n    }\n</style>\n<table border=\"1\" class=\"dataframe\">\n  <thead>\n    <tr style=\"text-align: right;\">\n      <th></th>\n      <th>id</th>\n      <th>gender</th>\n      <th>race</th>\n      <th>loc</th>\n      <th>cat</th>\n      <th>other_</th>\n      <th>ehr_diagnosis</th>\n      <th>specific_diagnosis</th>\n      <th>notes</th>\n      <th>ac_abn_od_cells</th>\n      <th>...</th>\n      <th>range34</th>\n      <th>proteinase-3_antibodies</th>\n      <th>uom35</th>\n      <th>range35</th>\n      <th>rheumatoid_factor</th>\n      <th>uom36</th>\n      <th>range36</th>\n      <th>hbc__ab</th>\n      <th>hbs__ag</th>\n      <th>hcv__ab</th>\n    </tr>\n  </thead>\n  <tbody>\n    <tr>\n      <th>0</th>\n      <td>1</td>\n      <td>Male</td>\n      <td>Black/African American</td>\n      <td>Anterior</td>\n      <td>Nonneoplastic Masquerade</td>\n      <td>NaN</td>\n      <td>Posner-Schlossman                             ...</td>\n      <td>Idiopathic_anterior</td>\n      <td>NaN</td>\n      <td>0</td>\n      <td>...</td>\n      <td>NaN</td>\n      <td>NaN</td>\n      <td>NaN</td>\n      <td>NaN</td>\n      <td>&lt;15</td>\n      <td>IU/mL</td>\n      <td>&lt;15</td>\n      <td>NEGATIVE</td>\n      <td>NEGATIVE</td>\n      <td>NEGATIVE</td>\n    </tr>\n    <tr>\n      <th>1</th>\n      <td>2</td>\n      <td>Female</td>\n      <td>Black/African American</td>\n      <td>Intermediate</td>\n      <td>Idiopathic</td>\n      <td>NaN</td>\n      <td>Ant/Int Uveitis                               ...</td>\n      <td>pars planitis</td>\n      <td>pars planitis</td>\n      <td>2</td>\n      <td>...</td>\n      <td>&lt;0.4 (Negative)</td>\n      <td>&lt;0.2</td>\n      <td>U</td>\n      <td>&lt;0.4 (Negative)</td>\n      <td>&lt;10</td>\n      <td>IU/mL</td>\n      <td>&lt;13</td>\n      <td>NEGATIVE</td>\n      <td>NEGATIVE</td>\n      <td>NEGATIVE</td>\n    </tr>\n    <tr>\n      <th>2</th>\n      <td>3</td>\n      <td>Female</td>\n      <td>White</td>\n      <td>Pan</td>\n      <td>Systemic</td>\n      <td>NaN</td>\n      <td>VKH</td>\n      <td>VKH</td>\n      <td>NaN</td>\n      <td>0.5</td>\n      <td>...</td>\n      <td>NaN</td>\n      <td>NaN</td>\n      <td>NaN</td>\n      <td>NaN</td>\n      <td>&lt;10</td>\n      <td>IU/mL</td>\n      <td>&lt;13</td>\n      <td>NEGATIVE</td>\n      <td>NEGATIVE</td>\n      <td>NEGATIVE</td>\n    </tr>\n    <tr>\n      <th>3</th>\n      <td>4</td>\n      <td>Female</td>\n      <td>White</td>\n      <td>Anterior</td>\n      <td>Idiopathic</td>\n      <td>NaN</td>\n      <td>chronic idiopathic anterior uveitis           ...</td>\n      <td>Idiopathic_anterior</td>\n      <td>NaN</td>\n      <td>0</td>\n      <td>...</td>\n      <td>NaN</td>\n      <td>NaN</td>\n      <td>NaN</td>\n      <td>NaN</td>\n      <td>&lt;15</td>\n      <td>IU/mL</td>\n      <td>&lt;15</td>\n      <td>NEGATIVE</td>\n      <td>NEGATIVE</td>\n      <td>NEGATIVE</td>\n    </tr>\n    <tr>\n      <th>4</th>\n      <td>5</td>\n      <td>Female</td>\n      <td>Unknown Race</td>\n      <td>Anterior</td>\n      <td>Idiopathic</td>\n      <td>NaN</td>\n      <td>Acute Anterior Uveitis                        ...</td>\n      <td>Idiopathic_anterior</td>\n      <td>NaN</td>\n      <td>0</td>\n      <td>...</td>\n      <td>NaN</td>\n      <td>NaN</td>\n      <td>NaN</td>\n      <td>NaN</td>\n      <td>&lt;10</td>\n      <td>IU/mL</td>\n      <td>&lt;13</td>\n      <td>NEGATIVE</td>\n      <td>NEGATIVE</td>\n      <td>NEGATIVE</td>\n    </tr>\n    <tr>\n      <th>...</th>\n      <td>...</td>\n      <td>...</td>\n      <td>...</td>\n      <td>...</td>\n      <td>...</td>\n      <td>...</td>\n      <td>...</td>\n      <td>...</td>\n      <td>...</td>\n      <td>...</td>\n      <td>...</td>\n      <td>...</td>\n      <td>...</td>\n      <td>...</td>\n      <td>...</td>\n      <td>...</td>\n      <td>...</td>\n      <td>...</td>\n      <td>...</td>\n      <td>...</td>\n      <td>...</td>\n    </tr>\n    <tr>\n      <th>1070</th>\n      <td>1071</td>\n      <td>Male</td>\n      <td>Asian</td>\n      <td>Pan</td>\n      <td>Infectious</td>\n      <td>granulomatous</td>\n      <td>TB assoc granulomatous panuveitis</td>\n      <td>Tuberculosis</td>\n      <td>NaN</td>\n      <td>0</td>\n      <td>...</td>\n      <td>&lt;0.4 (Negative)</td>\n      <td>0.7</td>\n      <td>U</td>\n      <td>&lt;0.4 (Negative)</td>\n      <td>&lt;15</td>\n      <td>IU/mL</td>\n      <td>&lt;15</td>\n      <td>NEGATIVE</td>\n      <td>NEGATIVE</td>\n      <td>NEGATIVE</td>\n    </tr>\n    <tr>\n      <th>1071</th>\n      <td>1072</td>\n      <td>Male</td>\n      <td>Unknown Race</td>\n      <td>Intermediate</td>\n      <td>Idiopathic</td>\n      <td>NaN</td>\n      <td>NG anterior and intermediate uveitis</td>\n      <td>pars planitis</td>\n      <td>pars planitis</td>\n      <td>0</td>\n      <td>...</td>\n      <td>NaN</td>\n      <td>NaN</td>\n      <td>NaN</td>\n      <td>NaN</td>\n      <td>&lt;15</td>\n      <td>IU/mL</td>\n      <td>&lt;15</td>\n      <td>NEGATIVE</td>\n      <td>NEGATIVE</td>\n      <td>NEGATIVE</td>\n    </tr>\n    <tr>\n      <th>1072</th>\n      <td>1073</td>\n      <td>Female</td>\n      <td>Unknown Race</td>\n      <td>Posterior</td>\n      <td>Infectious</td>\n      <td>NaN</td>\n      <td>toxoplasmosis retinochoroiditis</td>\n      <td>Toxoplasmosis</td>\n      <td>NaN</td>\n      <td>0</td>\n      <td>...</td>\n      <td>NaN</td>\n      <td>NaN</td>\n      <td>NaN</td>\n      <td>NaN</td>\n      <td>&lt;15</td>\n      <td>IU/mL</td>\n      <td>&lt;15</td>\n      <td>NEGATIVE</td>\n      <td>NEGATIVE</td>\n      <td>NEGATIVE</td>\n    </tr>\n    <tr>\n      <th>1073</th>\n      <td>1074</td>\n      <td>Female</td>\n      <td>Asian</td>\n      <td>Posterior</td>\n      <td>WDS</td>\n      <td>NaN</td>\n      <td>ampiginous-like chorioretinopathy</td>\n      <td>WDS</td>\n      <td>WDS</td>\n      <td>0</td>\n      <td>...</td>\n      <td>NaN</td>\n      <td>NaN</td>\n      <td>NaN</td>\n      <td>NaN</td>\n      <td>&lt;15</td>\n      <td>IU/mL</td>\n      <td>&lt;15</td>\n      <td>NEGATIVE</td>\n      <td>NEGATIVE</td>\n      <td>NEGATIVE</td>\n    </tr>\n    <tr>\n      <th>1074</th>\n      <td>1075</td>\n      <td>Male</td>\n      <td>White</td>\n      <td>Posterior</td>\n      <td>Nonneoplastic masquerade</td>\n      <td>NaN</td>\n      <td>AIR (+ anti-retinal antibodies)</td>\n      <td>Nonneoplastic masquerade</td>\n      <td>NaN</td>\n      <td>0</td>\n      <td>...</td>\n      <td>0.0-10.0</td>\n      <td>NEGATIVE</td>\n      <td>units</td>\n      <td>0.0-10.0</td>\n      <td>&lt;15</td>\n      <td>IU/mL</td>\n      <td>&lt;15</td>\n      <td>NEGATIVE</td>\n      <td>NEGATIVE</td>\n      <td>NEGATIVE</td>\n    </tr>\n  </tbody>\n</table>\n<p>1075 rows × 118 columns</p>\n</div>"
     },
     "execution_count": 14,
     "metadata": {},
     "output_type": "execute_result"
    }
   ],
   "source": [
    "#read data\n",
    "df1 = pipe.read_data(rel_path)\n",
    "\n",
    "#rename columns of df1 according to external excel source\n",
    "df1 = pipe.rename(df1, list_path)\n",
    "\n",
    "#return list of all columns with specific dtype\n",
    "num_columns = pipe.list_of_totype(list_path, col_index_name, col_data_type_name, data_type)\n",
    "\n",
    "#\n",
    "\n",
    "\n",
    "\n",
    "df1"
   ],
   "metadata": {
    "collapsed": false,
    "pycharm": {
     "name": "#%%\n"
    }
   }
  },
  {
   "cell_type": "code",
   "execution_count": 16,
   "outputs": [
    {
     "name": "stdout",
     "output_type": "stream",
     "text": [
      "['id', 'Calcium', 'Lactate Dehydrogenase', 'C-Reactive Protein, Normal and High Sensitivity', 'WBC', 'RBC', 'Hemoglobin', 'Hematocrit', 'MCV', 'MCH', 'MCHC', 'RDW', 'Platelet Count', 'Neutrophil %', 'Lymphocytes %', 'Angiotensin Conv#Enzyme', 'Beta-2-Microglobulin', 'Lysozyme, Plasma', 'Anti-Dnase B', 'Complement C3', 'Complement C4', 'Rheumatoid Factor']\n"
     ]
    }
   ],
   "source": [
    "#function to return list of columns to convert to which data type (with choice) according to given list\n",
    "\n",
    "\n",
    "def list_of_totype(list_path, col_index_name, col_data_type_name=\"data_type\", data_type=\"numerical\"):\n",
    "    \"\"\"\n",
    "    Return list of columns, selected based on their data types from custom excel list\n",
    "    -----\n",
    "    :param list_path: path of excel document to read data type from\n",
    "    :param col_index_name: index column to use (column name of data type)\n",
    "    :param col_data_type_name: name of column where data type is stored\n",
    "    :param data_type: type of data desired. Should be numerical, categorical, char or both (appelation for edge cases)\n",
    "\n",
    "    :return: returns a list of column names with the desired data type\n",
    "    \"\"\"\n",
    "    col = pd.read_excel(list_path, index_col = col_index_name)[col_data_type_name] #get content of column with name data_type\n",
    "    col_to_type = col.where(col == data_type).dropna().index.tolist()\n",
    "    return col_to_type\n",
    "\n",
    "item_filter = list_of_totype(list_path, col_index_name, col_data_type_name, data_type)\n",
    "print(item_filter)"
   ],
   "metadata": {
    "collapsed": false,
    "pycharm": {
     "name": "#%%\n"
    }
   }
  },
  {
   "cell_type": "code",
   "execution_count": 28,
   "outputs": [],
   "source": [
    "#this function is pretty useless alone\n",
    "def problem_columns(matches, desired_dtype):\n",
    "    \"\"\"\n",
    "    Return all columns and their content that couldn't be correctly coerced to a desired dtype\n",
    "    -----\n",
    "    :param matches: feeded from another function\n",
    "    :param desired_dtype: a list or string that contains the desired data_types that were transformed correctly\n",
    "\n",
    "    :return: returns a dataframe with all the problematic columns\n",
    "    \"\"\"\n",
    "    for key, value in matches.iteritems():\n",
    "        if value.dtype in desired_dtype:\n",
    "            print(\"\\n\", key, \"is desired\", value.dtype, \"and will be popped from problematic list \\n\")\n",
    "            matches.pop(key)\n",
    "        else:\n",
    "            print(key, \"has unwanted dtype, keeping for transformation\\n\")\n",
    "    return matches"
   ],
   "metadata": {
    "collapsed": false,
    "pycharm": {
     "name": "#%%\n"
    }
   }
  },
  {
   "cell_type": "code",
   "execution_count": 29,
   "outputs": [],
   "source": [
    "#function to coerce columns to desired datatype\n",
    "def coerce_then_problems(dframe, list_path, col_index, col_name_data_type, data_type, desired_dtype):\n",
    "    \"\"\"\n",
    "    Coerce with convert_dtypes pandas function all columns from the list_of_totype. Those that fail to\n",
    "    be converted into the desired dtype will be compiled into a dataframe for next steps\n",
    "    -----\n",
    "    :param dframe: dataframe to be checked and wrecked\n",
    "    :param list_path: path of excel document to read data type from\n",
    "    :param col_index: index column to use (column name of data type)\n",
    "    :param col_name_data_type: name of column where data type is stored\n",
    "    :param data_type: type of data desired. Should be numerical, categorical, char or both (appelation for edge cases)\n",
    "    :param desired_dtype: a list or string that contains the desired data_types that were transformed correctly\n",
    "\n",
    "    :return: a dataframe with values that couldn't be coerced to the desired data_type automagically via convert_dtypes()\n",
    "    \"\"\"\n",
    "\n",
    "    item_filter = list_of_totype(list_path, col_index, col_name_data_type, data_type)\n",
    "    matches = dframe.filter(items = item_filter).convert_dtypes()\n",
    "    print(matches)\n",
    "    matches = problem_columns(matches, desired_dtype)\n",
    "    return matches"
   ],
   "metadata": {
    "collapsed": false,
    "pycharm": {
     "name": "#%%\n"
    }
   }
  },
  {
   "cell_type": "code",
   "execution_count": 30,
   "outputs": [
    {
     "name": "stdout",
     "output_type": "stream",
     "text": [
      "      SUBJECT ID Calcium (Blood) Lactate Dehydrogenase (LDH) (Blood)  \\\n",
      "0              1            2.27                                 184   \n",
      "1              2            2.32                                 209   \n",
      "2              3            2.44                                 194   \n",
      "3              4            2.45                                 156   \n",
      "4              5            2.28                                 175   \n",
      "...          ...             ...                                 ...   \n",
      "1070        1071            2.26                                 194   \n",
      "1071        1072            2.36                                 239   \n",
      "1072        1073            2.26                                 196   \n",
      "1073        1074            2.41                                 173   \n",
      "1074        1075            2.39                                 214   \n",
      "\n",
      "     C-Reactive Protein, Normal and High Sensitivity (Blood) WBC (Blood)  \\\n",
      "0                                                  1.83             6.91   \n",
      "1                                                 <0.15             4.24   \n",
      "2                                                 0.137             6.38   \n",
      "3                                                   3.5             5.24   \n",
      "4                                                     1             8.31   \n",
      "...                                                 ...              ...   \n",
      "1070                                               15.4             7.22   \n",
      "1071                                                0.8             7.65   \n",
      "1072                                                0.6             3.83   \n",
      "1073                                               6.97            16.65   \n",
      "1074                                               0.64             7.23   \n",
      "\n",
      "     RBC (Blood) Hemoglobin (Blood) Hematocrit (Blood) MCV (Blood)  \\\n",
      "0           4.97               14.6               41.4        83.3   \n",
      "1           4.22                 11                 36        85.3   \n",
      "2           4.31               13.6               38.7        89.8   \n",
      "3           4.82               14.6               43.6        90.5   \n",
      "4           4.72                 14               40.7        86.2   \n",
      "...          ...                ...                ...         ...   \n",
      "1070        5.49               12.7               40.6          74   \n",
      "1071        4.56               12.6               35.9        78.7   \n",
      "1072        4.54               14.5               42.8        94.3   \n",
      "1073        4.94               13.4               40.5          82   \n",
      "1074        4.54               16.2               43.7        96.3   \n",
      "\n",
      "     MCH (Blood)  ... Platelet Count (Blood) Neutrophil % (Blood)  \\\n",
      "0           29.4  ...                    194                 64.4   \n",
      "1           26.1  ...                    260                 40.1   \n",
      "2           31.6  ...                    344                 70.2   \n",
      "3           30.3  ...                    220                 56.6   \n",
      "4           29.7  ...                    324                 60.4   \n",
      "...          ...  ...                    ...                  ...   \n",
      "1070        23.1  ...                    292                 67.3   \n",
      "1071        27.6  ...                    219                 54.3   \n",
      "1072        31.9  ...                    239                 52.6   \n",
      "1073        27.1  ...                    369                 70.5   \n",
      "1074        35.7  ...                    224                 85.4   \n",
      "\n",
      "     Lymphocytes % (Blood) Angiotensin Conv#Enzyme (Blood)  \\\n",
      "0                     30.8                             NaN   \n",
      "1                     49.1                            27.3   \n",
      "2                     22.1                            60.2   \n",
      "3                     34.2                            38.9   \n",
      "4                     27.4                            18.3   \n",
      "...                    ...                             ...   \n",
      "1070                  17.7                           < 1.0   \n",
      "1071                  38.6                              53   \n",
      "1072                  35.5                            39.9   \n",
      "1073                  24.3                              23   \n",
      "1074                  13.6                            24.7   \n",
      "\n",
      "     Beta-2-Microglobulin (Blood) Lysozyme, Plasma (Blood)  \\\n",
      "0                             1.5                        3   \n",
      "1                             NaN                      NaN   \n",
      "2                             NaN                      4.8   \n",
      "3                             NaN                        :   \n",
      "4                             NaN                      4.5   \n",
      "...                           ...                      ...   \n",
      "1070                          3.7                      9.3   \n",
      "1071                          NaN                      3.6   \n",
      "1072                          NaN                      2.9   \n",
      "1073                          2.4                      3.6   \n",
      "1074                          1.2                      3.2   \n",
      "\n",
      "      Anti-Dnase B (Blood) Complement C3 (Blood) Complement C4 (Blood)  \\\n",
      "0                      NaN                 149.0                    33   \n",
      "1                      NaN                 130.8                  22.8   \n",
      "2                      NaN                 135.9                  18.2   \n",
      "3                      NaN                 130.0                  19.9   \n",
      "4                      NaN                 130.4                    19   \n",
      "...                    ...                   ...                   ...   \n",
      "1070                   NaN                 112.4                  36.1   \n",
      "1071                   NaN                 121.5                  22.3   \n",
      "1072                   NaN                 114.9                  24.6   \n",
      "1073                   NaN                 131.0                    26   \n",
      "1074                   NaN                 128.0                    25   \n",
      "\n",
      "      Rheumatoid Factor (Blood)  \n",
      "0                           <15  \n",
      "1                           <10  \n",
      "2                           <10  \n",
      "3                           <15  \n",
      "4                           <10  \n",
      "...                         ...  \n",
      "1070                        <15  \n",
      "1071                        <15  \n",
      "1072                        <15  \n",
      "1073                        <15  \n",
      "1074                        <15  \n",
      "\n",
      "[1075 rows x 22 columns]\n",
      "\n",
      " SUBJECT ID is desired Int64 and will be popped from problematic list \n",
      "\n",
      "Calcium (Blood) has unwanted dtype, keeping for transformation\n",
      "Lactate Dehydrogenase (LDH) (Blood) has unwanted dtype, keeping for transformation\n",
      "C-Reactive Protein, Normal and High Sensitivity (Blood) has unwanted dtype, keeping for transformation\n",
      "WBC (Blood) has unwanted dtype, keeping for transformation\n",
      "RBC (Blood) has unwanted dtype, keeping for transformation\n",
      "Hemoglobin (Blood) has unwanted dtype, keeping for transformation\n",
      "Hematocrit (Blood) has unwanted dtype, keeping for transformation\n",
      "MCV (Blood) has unwanted dtype, keeping for transformation\n",
      "MCH (Blood) has unwanted dtype, keeping for transformation\n",
      "MCHC (Blood) has unwanted dtype, keeping for transformation\n",
      "RDW (Blood) has unwanted dtype, keeping for transformation\n",
      "Platelet Count (Blood) has unwanted dtype, keeping for transformation\n",
      "Neutrophil % (Blood) has unwanted dtype, keeping for transformation\n",
      "Lymphocytes % (Blood) has unwanted dtype, keeping for transformation\n",
      "Angiotensin Conv#Enzyme (Blood) has unwanted dtype, keeping for transformation\n",
      "\n",
      " Beta-2-Microglobulin (Blood) is desired float64 and will be popped from problematic list \n",
      "\n",
      "Lysozyme, Plasma (Blood) has unwanted dtype, keeping for transformation\n",
      "Anti-Dnase B (Blood) has unwanted dtype, keeping for transformation\n",
      "\n",
      " Complement C3 (Blood) is desired float64 and will be popped from problematic list \n",
      "\n",
      "Complement C4 (Blood) has unwanted dtype, keeping for transformation\n",
      "Rheumatoid Factor (Blood) has unwanted dtype, keeping for transformation\n",
      "['Calcium (Blood)', 'Lactate Dehydrogenase (LDH) (Blood)', 'C-Reactive Protein, Normal and High Sensitivity (Blood)', 'WBC (Blood)', 'RBC (Blood)', 'Hemoglobin (Blood)', 'Hematocrit (Blood)', 'MCV (Blood)', 'MCH (Blood)', 'MCHC (Blood)', 'RDW (Blood)', 'Platelet Count (Blood)', 'Neutrophil % (Blood)', 'Lymphocytes % (Blood)', 'Angiotensin Conv#Enzyme (Blood)', 'Lysozyme, Plasma (Blood)', 'Anti-Dnase B (Blood)', 'Complement C4 (Blood)', 'Rheumatoid Factor (Blood)']\n",
      "<class 'pandas.core.frame.DataFrame'>\n"
     ]
    },
    {
     "name": "stderr",
     "output_type": "stream",
     "text": [
      "C:\\Users\\Lupo_Remastered\\Anaconda3\\lib\\site-packages\\ipykernel_launcher.py:11: DeprecationWarning: Numeric-style type codes are deprecated and will result in an error in the future.\n",
      "  # This is added back by InteractiveShellApp.init_path()\n"
     ]
    }
   ],
   "source": [
    "#create dataframe with columns that contain a mix of strings and numerical values\n",
    "problem_df = coerce_then_problems(df1, list_path, col_index, col_name_data_type, data_type, desired_dtype)\n",
    "problem_columns = list(problem_df)\n",
    "print(problem_columns)\n",
    "print(type(problem_df))\n",
    "\n",
    "#function that iterates trough columns given by previous function to coerce values that aren't numerical in nature to something else (0, , NaN, NA, 99)\n"
   ],
   "metadata": {
    "collapsed": false,
    "pycharm": {
     "name": "#%%\n"
    }
   }
  },
  {
   "cell_type": "code",
   "execution_count": 31,
   "outputs": [
    {
     "ename": "ValueError",
     "evalue": "StringArray requires a sequence of strings or pandas.NA",
     "output_type": "error",
     "traceback": [
      "\u001B[1;31m---------------------------------------------------------------------------\u001B[0m",
      "\u001B[1;31mValueError\u001B[0m                                Traceback (most recent call last)",
      "\u001B[1;32m<ipython-input-31-7848a9582341>\u001B[0m in \u001B[0;36m<module>\u001B[1;34m\u001B[0m\n\u001B[0;32m     31\u001B[0m     \u001B[1;32mreturn\u001B[0m \u001B[0mdf\u001B[0m\u001B[1;33m\u001B[0m\u001B[1;33m\u001B[0m\u001B[0m\n\u001B[0;32m     32\u001B[0m \u001B[1;33m\u001B[0m\u001B[0m\n\u001B[1;32m---> 33\u001B[1;33m \u001B[0mextract_num\u001B[0m\u001B[1;33m(\u001B[0m\u001B[0mproblem_df\u001B[0m\u001B[1;33m,\u001B[0m \u001B[1;34m'Calcium (Blood)'\u001B[0m\u001B[1;33m,\u001B[0m \u001B[0merrors\u001B[0m\u001B[1;33m=\u001B[0m\u001B[1;34m'coerce'\u001B[0m\u001B[1;33m,\u001B[0m \u001B[0mverbose\u001B[0m\u001B[1;33m=\u001B[0m\u001B[1;32mFalse\u001B[0m\u001B[1;33m)\u001B[0m\u001B[1;33m\u001B[0m\u001B[1;33m\u001B[0m\u001B[0m\n\u001B[0m",
      "\u001B[1;32m<ipython-input-31-7848a9582341>\u001B[0m in \u001B[0;36mextract_num\u001B[1;34m(df, column, errors, verbose)\u001B[0m\n\u001B[0;32m     21\u001B[0m \u001B[1;33m\u001B[0m\u001B[0m\n\u001B[0;32m     22\u001B[0m     \u001B[1;31m# filter out decimal numbers of column\u001B[0m\u001B[1;33m\u001B[0m\u001B[1;33m\u001B[0m\u001B[1;33m\u001B[0m\u001B[0m\n\u001B[1;32m---> 23\u001B[1;33m     \u001B[0mdf\u001B[0m\u001B[1;33m[\u001B[0m\u001B[0mcolumn\u001B[0m\u001B[1;33m]\u001B[0m \u001B[1;33m=\u001B[0m \u001B[0mdf\u001B[0m\u001B[1;33m[\u001B[0m\u001B[0mcolumn\u001B[0m\u001B[1;33m]\u001B[0m\u001B[1;33m.\u001B[0m\u001B[0mastype\u001B[0m\u001B[1;33m(\u001B[0m\u001B[1;34m'string'\u001B[0m\u001B[1;33m)\u001B[0m\u001B[1;33m\u001B[0m\u001B[1;33m\u001B[0m\u001B[0m\n\u001B[0m\u001B[0;32m     24\u001B[0m     \u001B[0mdf\u001B[0m\u001B[1;33m[\u001B[0m\u001B[0mcolumn\u001B[0m\u001B[1;33m]\u001B[0m \u001B[1;33m=\u001B[0m \u001B[0mdf\u001B[0m\u001B[1;33m[\u001B[0m\u001B[0mcolumn\u001B[0m\u001B[1;33m]\u001B[0m\u001B[1;33m.\u001B[0m\u001B[0mstr\u001B[0m\u001B[1;33m.\u001B[0m\u001B[0mextract\u001B[0m\u001B[1;33m(\u001B[0m\u001B[1;34mr\"(\\d{1,}[.|,]\\d{1,}|\\d*)\"\u001B[0m\u001B[1;33m,\u001B[0m \u001B[0mexpand\u001B[0m\u001B[1;33m=\u001B[0m\u001B[1;32mFalse\u001B[0m\u001B[1;33m)\u001B[0m\u001B[1;33m\u001B[0m\u001B[1;33m\u001B[0m\u001B[0m\n\u001B[0;32m     25\u001B[0m     \u001B[0mdf\u001B[0m\u001B[1;33m[\u001B[0m\u001B[0mcolumn\u001B[0m\u001B[1;33m]\u001B[0m \u001B[1;33m=\u001B[0m \u001B[0mpd\u001B[0m\u001B[1;33m.\u001B[0m\u001B[0mto_numeric\u001B[0m\u001B[1;33m(\u001B[0m\u001B[0mdf\u001B[0m\u001B[1;33m[\u001B[0m\u001B[0mcolumn\u001B[0m\u001B[1;33m]\u001B[0m\u001B[1;33m,\u001B[0m \u001B[0merrors\u001B[0m\u001B[1;33m=\u001B[0m\u001B[0merrors\u001B[0m\u001B[1;33m)\u001B[0m\u001B[1;33m\u001B[0m\u001B[1;33m\u001B[0m\u001B[0m\n",
      "\u001B[1;32m~\\Anaconda3\\lib\\site-packages\\pandas\\core\\generic.py\u001B[0m in \u001B[0;36mastype\u001B[1;34m(self, dtype, copy, errors)\u001B[0m\n\u001B[0;32m   5696\u001B[0m         \u001B[1;32melse\u001B[0m\u001B[1;33m:\u001B[0m\u001B[1;33m\u001B[0m\u001B[1;33m\u001B[0m\u001B[0m\n\u001B[0;32m   5697\u001B[0m             \u001B[1;31m# else, only a single dtype is given\u001B[0m\u001B[1;33m\u001B[0m\u001B[1;33m\u001B[0m\u001B[1;33m\u001B[0m\u001B[0m\n\u001B[1;32m-> 5698\u001B[1;33m             \u001B[0mnew_data\u001B[0m \u001B[1;33m=\u001B[0m \u001B[0mself\u001B[0m\u001B[1;33m.\u001B[0m\u001B[0m_data\u001B[0m\u001B[1;33m.\u001B[0m\u001B[0mastype\u001B[0m\u001B[1;33m(\u001B[0m\u001B[0mdtype\u001B[0m\u001B[1;33m=\u001B[0m\u001B[0mdtype\u001B[0m\u001B[1;33m,\u001B[0m \u001B[0mcopy\u001B[0m\u001B[1;33m=\u001B[0m\u001B[0mcopy\u001B[0m\u001B[1;33m,\u001B[0m \u001B[0merrors\u001B[0m\u001B[1;33m=\u001B[0m\u001B[0merrors\u001B[0m\u001B[1;33m)\u001B[0m\u001B[1;33m\u001B[0m\u001B[1;33m\u001B[0m\u001B[0m\n\u001B[0m\u001B[0;32m   5699\u001B[0m             \u001B[1;32mreturn\u001B[0m \u001B[0mself\u001B[0m\u001B[1;33m.\u001B[0m\u001B[0m_constructor\u001B[0m\u001B[1;33m(\u001B[0m\u001B[0mnew_data\u001B[0m\u001B[1;33m)\u001B[0m\u001B[1;33m.\u001B[0m\u001B[0m__finalize__\u001B[0m\u001B[1;33m(\u001B[0m\u001B[0mself\u001B[0m\u001B[1;33m)\u001B[0m\u001B[1;33m\u001B[0m\u001B[1;33m\u001B[0m\u001B[0m\n\u001B[0;32m   5700\u001B[0m \u001B[1;33m\u001B[0m\u001B[0m\n",
      "\u001B[1;32m~\\Anaconda3\\lib\\site-packages\\pandas\\core\\internals\\managers.py\u001B[0m in \u001B[0;36mastype\u001B[1;34m(self, dtype, copy, errors)\u001B[0m\n\u001B[0;32m    580\u001B[0m \u001B[1;33m\u001B[0m\u001B[0m\n\u001B[0;32m    581\u001B[0m     \u001B[1;32mdef\u001B[0m \u001B[0mastype\u001B[0m\u001B[1;33m(\u001B[0m\u001B[0mself\u001B[0m\u001B[1;33m,\u001B[0m \u001B[0mdtype\u001B[0m\u001B[1;33m,\u001B[0m \u001B[0mcopy\u001B[0m\u001B[1;33m:\u001B[0m \u001B[0mbool\u001B[0m \u001B[1;33m=\u001B[0m \u001B[1;32mFalse\u001B[0m\u001B[1;33m,\u001B[0m \u001B[0merrors\u001B[0m\u001B[1;33m:\u001B[0m \u001B[0mstr\u001B[0m \u001B[1;33m=\u001B[0m \u001B[1;34m\"raise\"\u001B[0m\u001B[1;33m)\u001B[0m\u001B[1;33m:\u001B[0m\u001B[1;33m\u001B[0m\u001B[1;33m\u001B[0m\u001B[0m\n\u001B[1;32m--> 582\u001B[1;33m         \u001B[1;32mreturn\u001B[0m \u001B[0mself\u001B[0m\u001B[1;33m.\u001B[0m\u001B[0mapply\u001B[0m\u001B[1;33m(\u001B[0m\u001B[1;34m\"astype\"\u001B[0m\u001B[1;33m,\u001B[0m \u001B[0mdtype\u001B[0m\u001B[1;33m=\u001B[0m\u001B[0mdtype\u001B[0m\u001B[1;33m,\u001B[0m \u001B[0mcopy\u001B[0m\u001B[1;33m=\u001B[0m\u001B[0mcopy\u001B[0m\u001B[1;33m,\u001B[0m \u001B[0merrors\u001B[0m\u001B[1;33m=\u001B[0m\u001B[0merrors\u001B[0m\u001B[1;33m)\u001B[0m\u001B[1;33m\u001B[0m\u001B[1;33m\u001B[0m\u001B[0m\n\u001B[0m\u001B[0;32m    583\u001B[0m \u001B[1;33m\u001B[0m\u001B[0m\n\u001B[0;32m    584\u001B[0m     \u001B[1;32mdef\u001B[0m \u001B[0mconvert\u001B[0m\u001B[1;33m(\u001B[0m\u001B[0mself\u001B[0m\u001B[1;33m,\u001B[0m \u001B[1;33m**\u001B[0m\u001B[0mkwargs\u001B[0m\u001B[1;33m)\u001B[0m\u001B[1;33m:\u001B[0m\u001B[1;33m\u001B[0m\u001B[1;33m\u001B[0m\u001B[0m\n",
      "\u001B[1;32m~\\Anaconda3\\lib\\site-packages\\pandas\\core\\internals\\managers.py\u001B[0m in \u001B[0;36mapply\u001B[1;34m(self, f, filter, **kwargs)\u001B[0m\n\u001B[0;32m    440\u001B[0m                 \u001B[0mapplied\u001B[0m \u001B[1;33m=\u001B[0m \u001B[0mb\u001B[0m\u001B[1;33m.\u001B[0m\u001B[0mapply\u001B[0m\u001B[1;33m(\u001B[0m\u001B[0mf\u001B[0m\u001B[1;33m,\u001B[0m \u001B[1;33m**\u001B[0m\u001B[0mkwargs\u001B[0m\u001B[1;33m)\u001B[0m\u001B[1;33m\u001B[0m\u001B[1;33m\u001B[0m\u001B[0m\n\u001B[0;32m    441\u001B[0m             \u001B[1;32melse\u001B[0m\u001B[1;33m:\u001B[0m\u001B[1;33m\u001B[0m\u001B[1;33m\u001B[0m\u001B[0m\n\u001B[1;32m--> 442\u001B[1;33m                 \u001B[0mapplied\u001B[0m \u001B[1;33m=\u001B[0m \u001B[0mgetattr\u001B[0m\u001B[1;33m(\u001B[0m\u001B[0mb\u001B[0m\u001B[1;33m,\u001B[0m \u001B[0mf\u001B[0m\u001B[1;33m)\u001B[0m\u001B[1;33m(\u001B[0m\u001B[1;33m**\u001B[0m\u001B[0mkwargs\u001B[0m\u001B[1;33m)\u001B[0m\u001B[1;33m\u001B[0m\u001B[1;33m\u001B[0m\u001B[0m\n\u001B[0m\u001B[0;32m    443\u001B[0m             \u001B[0mresult_blocks\u001B[0m \u001B[1;33m=\u001B[0m \u001B[0m_extend_blocks\u001B[0m\u001B[1;33m(\u001B[0m\u001B[0mapplied\u001B[0m\u001B[1;33m,\u001B[0m \u001B[0mresult_blocks\u001B[0m\u001B[1;33m)\u001B[0m\u001B[1;33m\u001B[0m\u001B[1;33m\u001B[0m\u001B[0m\n\u001B[0;32m    444\u001B[0m \u001B[1;33m\u001B[0m\u001B[0m\n",
      "\u001B[1;32m~\\Anaconda3\\lib\\site-packages\\pandas\\core\\internals\\blocks.py\u001B[0m in \u001B[0;36mastype\u001B[1;34m(self, dtype, copy, errors)\u001B[0m\n\u001B[0;32m    623\u001B[0m             \u001B[0mvals1d\u001B[0m \u001B[1;33m=\u001B[0m \u001B[0mvalues\u001B[0m\u001B[1;33m.\u001B[0m\u001B[0mravel\u001B[0m\u001B[1;33m(\u001B[0m\u001B[1;33m)\u001B[0m\u001B[1;33m\u001B[0m\u001B[1;33m\u001B[0m\u001B[0m\n\u001B[0;32m    624\u001B[0m             \u001B[1;32mtry\u001B[0m\u001B[1;33m:\u001B[0m\u001B[1;33m\u001B[0m\u001B[1;33m\u001B[0m\u001B[0m\n\u001B[1;32m--> 625\u001B[1;33m                 \u001B[0mvalues\u001B[0m \u001B[1;33m=\u001B[0m \u001B[0mastype_nansafe\u001B[0m\u001B[1;33m(\u001B[0m\u001B[0mvals1d\u001B[0m\u001B[1;33m,\u001B[0m \u001B[0mdtype\u001B[0m\u001B[1;33m,\u001B[0m \u001B[0mcopy\u001B[0m\u001B[1;33m=\u001B[0m\u001B[1;32mTrue\u001B[0m\u001B[1;33m)\u001B[0m\u001B[1;33m\u001B[0m\u001B[1;33m\u001B[0m\u001B[0m\n\u001B[0m\u001B[0;32m    626\u001B[0m             \u001B[1;32mexcept\u001B[0m \u001B[1;33m(\u001B[0m\u001B[0mValueError\u001B[0m\u001B[1;33m,\u001B[0m \u001B[0mTypeError\u001B[0m\u001B[1;33m)\u001B[0m\u001B[1;33m:\u001B[0m\u001B[1;33m\u001B[0m\u001B[1;33m\u001B[0m\u001B[0m\n\u001B[0;32m    627\u001B[0m                 \u001B[1;31m# e.g. astype_nansafe can fail on object-dtype of strings\u001B[0m\u001B[1;33m\u001B[0m\u001B[1;33m\u001B[0m\u001B[1;33m\u001B[0m\u001B[0m\n",
      "\u001B[1;32m~\\Anaconda3\\lib\\site-packages\\pandas\\core\\dtypes\\cast.py\u001B[0m in \u001B[0;36mastype_nansafe\u001B[1;34m(arr, dtype, copy, skipna)\u001B[0m\n\u001B[0;32m    819\u001B[0m     \u001B[1;31m# dispatch on extension dtype if needed\u001B[0m\u001B[1;33m\u001B[0m\u001B[1;33m\u001B[0m\u001B[1;33m\u001B[0m\u001B[0m\n\u001B[0;32m    820\u001B[0m     \u001B[1;32mif\u001B[0m \u001B[0mis_extension_array_dtype\u001B[0m\u001B[1;33m(\u001B[0m\u001B[0mdtype\u001B[0m\u001B[1;33m)\u001B[0m\u001B[1;33m:\u001B[0m\u001B[1;33m\u001B[0m\u001B[1;33m\u001B[0m\u001B[0m\n\u001B[1;32m--> 821\u001B[1;33m         \u001B[1;32mreturn\u001B[0m \u001B[0mdtype\u001B[0m\u001B[1;33m.\u001B[0m\u001B[0mconstruct_array_type\u001B[0m\u001B[1;33m(\u001B[0m\u001B[1;33m)\u001B[0m\u001B[1;33m.\u001B[0m\u001B[0m_from_sequence\u001B[0m\u001B[1;33m(\u001B[0m\u001B[0marr\u001B[0m\u001B[1;33m,\u001B[0m \u001B[0mdtype\u001B[0m\u001B[1;33m=\u001B[0m\u001B[0mdtype\u001B[0m\u001B[1;33m,\u001B[0m \u001B[0mcopy\u001B[0m\u001B[1;33m=\u001B[0m\u001B[0mcopy\u001B[0m\u001B[1;33m)\u001B[0m\u001B[1;33m\u001B[0m\u001B[1;33m\u001B[0m\u001B[0m\n\u001B[0m\u001B[0;32m    822\u001B[0m \u001B[1;33m\u001B[0m\u001B[0m\n\u001B[0;32m    823\u001B[0m     \u001B[1;32mif\u001B[0m \u001B[1;32mnot\u001B[0m \u001B[0misinstance\u001B[0m\u001B[1;33m(\u001B[0m\u001B[0mdtype\u001B[0m\u001B[1;33m,\u001B[0m \u001B[0mnp\u001B[0m\u001B[1;33m.\u001B[0m\u001B[0mdtype\u001B[0m\u001B[1;33m)\u001B[0m\u001B[1;33m:\u001B[0m\u001B[1;33m\u001B[0m\u001B[1;33m\u001B[0m\u001B[0m\n",
      "\u001B[1;32m~\\Anaconda3\\lib\\site-packages\\pandas\\core\\arrays\\string_.py\u001B[0m in \u001B[0;36m_from_sequence\u001B[1;34m(cls, scalars, dtype, copy)\u001B[0m\n\u001B[0;32m    195\u001B[0m             \u001B[0mresult\u001B[0m\u001B[1;33m[\u001B[0m\u001B[0mna_values\u001B[0m\u001B[1;33m]\u001B[0m \u001B[1;33m=\u001B[0m \u001B[0mStringDtype\u001B[0m\u001B[1;33m.\u001B[0m\u001B[0mna_value\u001B[0m\u001B[1;33m\u001B[0m\u001B[1;33m\u001B[0m\u001B[0m\n\u001B[0;32m    196\u001B[0m \u001B[1;33m\u001B[0m\u001B[0m\n\u001B[1;32m--> 197\u001B[1;33m         \u001B[1;32mreturn\u001B[0m \u001B[0mcls\u001B[0m\u001B[1;33m(\u001B[0m\u001B[0mresult\u001B[0m\u001B[1;33m)\u001B[0m\u001B[1;33m\u001B[0m\u001B[1;33m\u001B[0m\u001B[0m\n\u001B[0m\u001B[0;32m    198\u001B[0m \u001B[1;33m\u001B[0m\u001B[0m\n\u001B[0;32m    199\u001B[0m     \u001B[1;33m@\u001B[0m\u001B[0mclassmethod\u001B[0m\u001B[1;33m\u001B[0m\u001B[1;33m\u001B[0m\u001B[0m\n",
      "\u001B[1;32m~\\Anaconda3\\lib\\site-packages\\pandas\\core\\arrays\\string_.py\u001B[0m in \u001B[0;36m__init__\u001B[1;34m(self, values, copy)\u001B[0m\n\u001B[0;32m    164\u001B[0m         \u001B[0mself\u001B[0m\u001B[1;33m.\u001B[0m\u001B[0m_dtype\u001B[0m \u001B[1;33m=\u001B[0m \u001B[0mStringDtype\u001B[0m\u001B[1;33m(\u001B[0m\u001B[1;33m)\u001B[0m\u001B[1;33m\u001B[0m\u001B[1;33m\u001B[0m\u001B[0m\n\u001B[0;32m    165\u001B[0m         \u001B[1;32mif\u001B[0m \u001B[1;32mnot\u001B[0m \u001B[0mskip_validation\u001B[0m\u001B[1;33m:\u001B[0m\u001B[1;33m\u001B[0m\u001B[1;33m\u001B[0m\u001B[0m\n\u001B[1;32m--> 166\u001B[1;33m             \u001B[0mself\u001B[0m\u001B[1;33m.\u001B[0m\u001B[0m_validate\u001B[0m\u001B[1;33m(\u001B[0m\u001B[1;33m)\u001B[0m\u001B[1;33m\u001B[0m\u001B[1;33m\u001B[0m\u001B[0m\n\u001B[0m\u001B[0;32m    167\u001B[0m \u001B[1;33m\u001B[0m\u001B[0m\n\u001B[0;32m    168\u001B[0m     \u001B[1;32mdef\u001B[0m \u001B[0m_validate\u001B[0m\u001B[1;33m(\u001B[0m\u001B[0mself\u001B[0m\u001B[1;33m)\u001B[0m\u001B[1;33m:\u001B[0m\u001B[1;33m\u001B[0m\u001B[1;33m\u001B[0m\u001B[0m\n",
      "\u001B[1;32m~\\Anaconda3\\lib\\site-packages\\pandas\\core\\arrays\\string_.py\u001B[0m in \u001B[0;36m_validate\u001B[1;34m(self)\u001B[0m\n\u001B[0;32m    169\u001B[0m         \u001B[1;34m\"\"\"Validate that we only store NA or strings.\"\"\"\u001B[0m\u001B[1;33m\u001B[0m\u001B[1;33m\u001B[0m\u001B[0m\n\u001B[0;32m    170\u001B[0m         \u001B[1;32mif\u001B[0m \u001B[0mlen\u001B[0m\u001B[1;33m(\u001B[0m\u001B[0mself\u001B[0m\u001B[1;33m.\u001B[0m\u001B[0m_ndarray\u001B[0m\u001B[1;33m)\u001B[0m \u001B[1;32mand\u001B[0m \u001B[1;32mnot\u001B[0m \u001B[0mlib\u001B[0m\u001B[1;33m.\u001B[0m\u001B[0mis_string_array\u001B[0m\u001B[1;33m(\u001B[0m\u001B[0mself\u001B[0m\u001B[1;33m.\u001B[0m\u001B[0m_ndarray\u001B[0m\u001B[1;33m,\u001B[0m \u001B[0mskipna\u001B[0m\u001B[1;33m=\u001B[0m\u001B[1;32mTrue\u001B[0m\u001B[1;33m)\u001B[0m\u001B[1;33m:\u001B[0m\u001B[1;33m\u001B[0m\u001B[1;33m\u001B[0m\u001B[0m\n\u001B[1;32m--> 171\u001B[1;33m             \u001B[1;32mraise\u001B[0m \u001B[0mValueError\u001B[0m\u001B[1;33m(\u001B[0m\u001B[1;34m\"StringArray requires a sequence of strings or pandas.NA\"\u001B[0m\u001B[1;33m)\u001B[0m\u001B[1;33m\u001B[0m\u001B[1;33m\u001B[0m\u001B[0m\n\u001B[0m\u001B[0;32m    172\u001B[0m         \u001B[1;32mif\u001B[0m \u001B[0mself\u001B[0m\u001B[1;33m.\u001B[0m\u001B[0m_ndarray\u001B[0m\u001B[1;33m.\u001B[0m\u001B[0mdtype\u001B[0m \u001B[1;33m!=\u001B[0m \u001B[1;34m\"object\"\u001B[0m\u001B[1;33m:\u001B[0m\u001B[1;33m\u001B[0m\u001B[1;33m\u001B[0m\u001B[0m\n\u001B[0;32m    173\u001B[0m             raise ValueError(\n",
      "\u001B[1;31mValueError\u001B[0m: StringArray requires a sequence of strings or pandas.NA"
     ]
    }
   ],
   "source": [
    "def extract_num(df, column, errors='coerce', verbose=False):\n",
    "    \"\"\"\n",
    "    Extracts numerical values out of a column and returns the DataFrame with said column in numerical dtype\n",
    "\n",
    "    Arguments\n",
    "    ---------\n",
    "    df: pandas.core.frame.DataFrame, Pandas DataFrame\n",
    "    column: str, Name of column whos numerical values should be extracted\n",
    "    errors: str, Determines how the function should handle errors (i.e nan's etc.), handled by pandas.to_numeric\n",
    "            - If 'raise', then invalid parsing will raise an exception.\n",
    "            - If 'coerce', then invalid parsing will be set as NaN.\n",
    "            - If 'ignore', then invalid parsing will return the input.\n",
    "\n",
    "    Returns\n",
    "    -------\n",
    "    df: pandas.core.frame.DataFrame\n",
    "    \"\"\"\n",
    "    if verbose:\n",
    "        print(\"Unique values before transformation:\")\n",
    "        print(df[column].unique())\n",
    "\n",
    "    # filter out decimal numbers of column\n",
    "    df[column] = df[column].astype('string')\n",
    "    df[column] = df[column].str.extract(r\"(\\d{1,}[.|,]\\d{1,}|\\d*)\", expand=False)\n",
    "    df[column] = pd.to_numeric(df[column], errors=errors)\n",
    "\n",
    "    if verbose:\n",
    "        print(\"Unique values after transformation:\")\n",
    "        print(df[column].unique())\n",
    "\n",
    "    return df\n",
    "\n",
    "extract_num(problem_df, 'Calcium (Blood)', errors='coerce', verbose=False)"
   ],
   "metadata": {
    "collapsed": false,
    "pycharm": {
     "name": "#%%\n"
    }
   }
  }
 ],
 "metadata": {
  "kernelspec": {
   "display_name": "Python 3",
   "language": "python",
   "name": "python3"
  },
  "language_info": {
   "codemirror_mode": {
    "name": "ipython",
    "version": 2
   },
   "file_extension": ".py",
   "mimetype": "text/x-python",
   "name": "python",
   "nbconvert_exporter": "python",
   "pygments_lexer": "ipython2",
   "version": "2.7.6"
  }
 },
 "nbformat": 4,
 "nbformat_minor": 0
}