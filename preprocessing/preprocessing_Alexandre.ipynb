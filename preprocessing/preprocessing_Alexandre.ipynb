{
 "cells": [
  {
   "cell_type": "code",
   "execution_count": 1,
   "metadata": {
    "collapsed": true,
    "pycharm": {
     "name": "#%%\n"
    }
   },
   "outputs": [
    {
     "name": "stdout",
     "output_type": "stream",
     "text": [
      "uveitis_data.xlsx will be read\n",
      "reading filetype .xlsx\n",
      "successfully created table with  126850 values and loaded as df\n",
      "the table is  118 wide and  1075 long\n"
     ]
    }
   ],
   "source": [
    "import os\n",
    "import pandas as pd\n",
    "\n",
    "os.chdir(\"D:/Drive/FHNW/zaRepos/fhnw_ds_fs2021_medical_challenge\")\n",
    "rel_path = \"./data/uveitis_data.xlsx\"\n",
    "\n",
    "#function that reads data\n",
    "def read_data(rel_path, **kwargs):\n",
    "    \"\"\"\n",
    "    Generalized function that reads a xlsx, csv, json or html data structure into a pandas dataframe\n",
    "    :param rel_path: relative path to data to be read\n",
    "    :param kwargs:  parameters for pd.read_ functions\n",
    "    \"\"\"\n",
    "    filename, file_extension = os.path.splitext(rel_path)\n",
    "    print(os.path.basename(rel_path) + \" will be read\")\n",
    "    if file_extension == \".xlsx\": #when reading excel a usefull kwargs will be na_values = \"dict of values to consider na\"\n",
    "        df = pd.read_excel(rel_path, **kwargs)\n",
    "        print(\"reading filetype \"+file_extension)\n",
    "    elif file_extension == \".csv\":\n",
    "        df = pd.read_csv(rel_path, **kwargs)\n",
    "        print(\"reading filetype \"+file_extension)\n",
    "    elif file_extension == \".json\":\n",
    "        df = pd.read_json(rel_path, **kwargs)\n",
    "        print(\"reading filetype \"+file_extension)\n",
    "    elif file_extension == \".html\":\n",
    "        df = pd.read_html(rel_path, **kwargs)\n",
    "        print(\"reading filetype \"+file_extension)\n",
    "    else:\n",
    "        print(\"Filetype not supported by function\")\n",
    "        df = 0\n",
    "\n",
    "    if df.size != 0:\n",
    "        print(\"successfully created table with \", df.size, \"values and loaded as df\")\n",
    "        print(\"the table is \",df.shape[1], \"wide and \",df.shape[0],\"long\")\n",
    "\n",
    "    return df\n",
    "\n",
    "df1 = read_data(rel_path)"
   ]
  },
  {
   "cell_type": "code",
   "execution_count": 2,
   "outputs": [],
   "source": [
    "#function to return list of columns to convert to which data type (with choice) according to given list\n",
    "col_name_data_type = \"data_type\"\n",
    "col_index= \"old col name\"\n",
    "list_path = \"./data/col_names&data_type-Copy1.xlsx\"\n",
    "data_type = \"numerical\"\n",
    "\n",
    "def list_of_totype(list_path, col_index, col_name_data_type, data_type):\n",
    "    \"\"\"\n",
    "    :param list_path: path of excel document to read data type from\n",
    "    :param col_index: index column to use (column name of data type)\n",
    "    :param col_name_data_type: name of column where data type is stored\n",
    "    :param data_type: type of data desired. Should be numerical, categorical, char or both (appelation for edge cases)\n",
    "    :return: returns a list of column names with the desired data type\n",
    "    \"\"\"\n",
    "    col = pd.read_excel(list_path, index_col = col_index)[col_name_data_type] #get content of column with name data_type\n",
    "    col_to_type = col.where(col == data_type).dropna().index.tolist()\n",
    "    return col_to_type\n",
    "\n",
    "#item_filter = list_of_totype(list_path, col_index, col_name_data_type, data_type)\n",
    "#print(item_filter)"
   ],
   "metadata": {
    "collapsed": false,
    "pycharm": {
     "name": "#%%\n"
    }
   }
  },
  {
   "cell_type": "code",
   "execution_count": 38,
   "outputs": [],
   "source": [
    "#function that should return all values that couldn't be correctly coerced by next function (to be used in another function)\n",
    "desired_dtype = [\"Int64\", \"float64\"]\n",
    "\n",
    "def problem_columns(matches, desired_dtype):\n",
    "    \"\"\"\n",
    "    :param matches: feeded from another function\n",
    "    :param desired_dtype: a list or string that contains the desired data_types that were transformed correctly\n",
    "    :return: returns a dataframe with all the problematic columns\n",
    "    \"\"\"\n",
    "    for key, value in matches.iteritems():\n",
    "        if value.dtype in desired_dtype:\n",
    "            print(\"\\n\", key, \"is desired\", value.dtype, \"and will be popped from problematic list \\n\")\n",
    "            matches.pop(key)\n",
    "        else:\n",
    "            print(key, \"has unwanted dtype, keeping for transformation\")\n",
    "    return matches"
   ],
   "metadata": {
    "collapsed": false,
    "pycharm": {
     "name": "#%%\n"
    }
   }
  },
  {
   "cell_type": "code",
   "execution_count": 39,
   "outputs": [],
   "source": [
    "#function to coerce columns to desired datatype\n",
    "def coerce_then_problems(dframe, list_path, col_index, col_name_data_type, data_type, desired_dtype):\n",
    "    \"\"\"\n",
    "    :param dframe: dataframe to be checked and wrecked\n",
    "    :param list_path: path of excel document to read data type from\n",
    "    :param col_index: index column to use (column name of data type)\n",
    "    :param col_name_data_type: name of column where data type is stored\n",
    "    :param data_type: type of data desired. Should be numerical, categorical, char or both (appelation for edge cases)\n",
    "    :param desired_dtype: a list or string that contains the desired data_types that were transformed correctly\n",
    "    :return: a dataframe with values that couldn't be coerced to the desired data_type automagically via convert_dtypes()\n",
    "    \"\"\"\n",
    "\n",
    "    item_filter = list_of_totype(list_path, col_index, col_name_data_type, data_type)\n",
    "    matches = dframe.filter(items = item_filter).convert_dtypes()\n",
    "    print(matches)\n",
    "    matches = problem_columns(matches, desired_dtype)\n",
    "    return matches"
   ],
   "metadata": {
    "collapsed": false,
    "pycharm": {
     "name": "#%%\n"
    }
   }
  },
  {
   "cell_type": "code",
   "execution_count": 40,
   "outputs": [
    {
     "name": "stdout",
     "output_type": "stream",
     "text": [
      "      SUBJECT ID Calcium (Blood) Lactate Dehydrogenase (LDH) (Blood)  \\\n",
      "0              1            2.27                                 184   \n",
      "1              2            2.32                                 209   \n",
      "2              3            2.44                                 194   \n",
      "3              4            2.45                                 156   \n",
      "4              5            2.28                                 175   \n",
      "...          ...             ...                                 ...   \n",
      "1070        1071            2.26                                 194   \n",
      "1071        1072            2.36                                 239   \n",
      "1072        1073            2.26                                 196   \n",
      "1073        1074            2.41                                 173   \n",
      "1074        1075            2.39                                 214   \n",
      "\n",
      "     C-Reactive Protein, Normal and High Sensitivity (Blood) WBC (Blood)  \\\n",
      "0                                                  1.83             6.91   \n",
      "1                                                 <0.15             4.24   \n",
      "2                                                 0.137             6.38   \n",
      "3                                                   3.5             5.24   \n",
      "4                                                     1             8.31   \n",
      "...                                                 ...              ...   \n",
      "1070                                               15.4             7.22   \n",
      "1071                                                0.8             7.65   \n",
      "1072                                                0.6             3.83   \n",
      "1073                                               6.97            16.65   \n",
      "1074                                               0.64             7.23   \n",
      "\n",
      "     RBC (Blood) Hemoglobin (Blood) Hematocrit (Blood) MCV (Blood)  \\\n",
      "0           4.97               14.6               41.4        83.3   \n",
      "1           4.22                 11                 36        85.3   \n",
      "2           4.31               13.6               38.7        89.8   \n",
      "3           4.82               14.6               43.6        90.5   \n",
      "4           4.72                 14               40.7        86.2   \n",
      "...          ...                ...                ...         ...   \n",
      "1070        5.49               12.7               40.6          74   \n",
      "1071        4.56               12.6               35.9        78.7   \n",
      "1072        4.54               14.5               42.8        94.3   \n",
      "1073        4.94               13.4               40.5          82   \n",
      "1074        4.54               16.2               43.7        96.3   \n",
      "\n",
      "     MCH (Blood)  ... Platelet Count (Blood) Neutrophil % (Blood)  \\\n",
      "0           29.4  ...                    194                 64.4   \n",
      "1           26.1  ...                    260                 40.1   \n",
      "2           31.6  ...                    344                 70.2   \n",
      "3           30.3  ...                    220                 56.6   \n",
      "4           29.7  ...                    324                 60.4   \n",
      "...          ...  ...                    ...                  ...   \n",
      "1070        23.1  ...                    292                 67.3   \n",
      "1071        27.6  ...                    219                 54.3   \n",
      "1072        31.9  ...                    239                 52.6   \n",
      "1073        27.1  ...                    369                 70.5   \n",
      "1074        35.7  ...                    224                 85.4   \n",
      "\n",
      "     Lymphocytes % (Blood) Angiotensin Conv#Enzyme (Blood)  \\\n",
      "0                     30.8                             NaN   \n",
      "1                     49.1                            27.3   \n",
      "2                     22.1                            60.2   \n",
      "3                     34.2                            38.9   \n",
      "4                     27.4                            18.3   \n",
      "...                    ...                             ...   \n",
      "1070                  17.7                           < 1.0   \n",
      "1071                  38.6                              53   \n",
      "1072                  35.5                            39.9   \n",
      "1073                  24.3                              23   \n",
      "1074                  13.6                            24.7   \n",
      "\n",
      "     Beta-2-Microglobulin (Blood) Lysozyme, Plasma (Blood)  \\\n",
      "0                             1.5                        3   \n",
      "1                             NaN                      NaN   \n",
      "2                             NaN                      4.8   \n",
      "3                             NaN                        :   \n",
      "4                             NaN                      4.5   \n",
      "...                           ...                      ...   \n",
      "1070                          3.7                      9.3   \n",
      "1071                          NaN                      3.6   \n",
      "1072                          NaN                      2.9   \n",
      "1073                          2.4                      3.6   \n",
      "1074                          1.2                      3.2   \n",
      "\n",
      "      Anti-Dnase B (Blood) Complement C3 (Blood) Complement C4 (Blood)  \\\n",
      "0                      NaN                 149.0                    33   \n",
      "1                      NaN                 130.8                  22.8   \n",
      "2                      NaN                 135.9                  18.2   \n",
      "3                      NaN                 130.0                  19.9   \n",
      "4                      NaN                 130.4                    19   \n",
      "...                    ...                   ...                   ...   \n",
      "1070                   NaN                 112.4                  36.1   \n",
      "1071                   NaN                 121.5                  22.3   \n",
      "1072                   NaN                 114.9                  24.6   \n",
      "1073                   NaN                 131.0                    26   \n",
      "1074                   NaN                 128.0                    25   \n",
      "\n",
      "      Rheumatoid Factor (Blood)  \n",
      "0                           <15  \n",
      "1                           <10  \n",
      "2                           <10  \n",
      "3                           <15  \n",
      "4                           <10  \n",
      "...                         ...  \n",
      "1070                        <15  \n",
      "1071                        <15  \n",
      "1072                        <15  \n",
      "1073                        <15  \n",
      "1074                        <15  \n",
      "\n",
      "[1075 rows x 22 columns]\n",
      "\n",
      " SUBJECT ID is desired Int64 will be popped from coercing list \n",
      "\n",
      "Calcium (Blood) has unwanted dtype, keeping for transformation\n",
      "Lactate Dehydrogenase (LDH) (Blood) has unwanted dtype, keeping for transformation\n",
      "C-Reactive Protein, Normal and High Sensitivity (Blood) has unwanted dtype, keeping for transformation\n",
      "WBC (Blood) has unwanted dtype, keeping for transformation\n",
      "RBC (Blood) has unwanted dtype, keeping for transformation\n",
      "Hemoglobin (Blood) has unwanted dtype, keeping for transformation\n",
      "Hematocrit (Blood) has unwanted dtype, keeping for transformation\n",
      "MCV (Blood) has unwanted dtype, keeping for transformation\n",
      "MCH (Blood) has unwanted dtype, keeping for transformation\n",
      "MCHC (Blood) has unwanted dtype, keeping for transformation\n",
      "RDW (Blood) has unwanted dtype, keeping for transformation\n",
      "Platelet Count (Blood) has unwanted dtype, keeping for transformation\n",
      "Neutrophil % (Blood) has unwanted dtype, keeping for transformation\n",
      "Lymphocytes % (Blood) has unwanted dtype, keeping for transformation\n",
      "Angiotensin Conv#Enzyme (Blood) has unwanted dtype, keeping for transformation\n",
      "\n",
      " Beta-2-Microglobulin (Blood) is desired float64 will be popped from coercing list \n",
      "\n",
      "Lysozyme, Plasma (Blood) has unwanted dtype, keeping for transformation\n",
      "Anti-Dnase B (Blood) has unwanted dtype, keeping for transformation\n",
      "\n",
      " Complement C3 (Blood) is desired float64 will be popped from coercing list \n",
      "\n",
      "Complement C4 (Blood) has unwanted dtype, keeping for transformation\n",
      "Rheumatoid Factor (Blood) has unwanted dtype, keeping for transformation\n"
     ]
    },
    {
     "name": "stderr",
     "output_type": "stream",
     "text": [
      "C:\\Users\\Lupo_Remastered\\Anaconda3\\lib\\site-packages\\ipykernel_launcher.py:11: DeprecationWarning: Numeric-style type codes are deprecated and will result in an error in the future.\n",
      "  # This is added back by InteractiveShellApp.init_path()\n"
     ]
    },
    {
     "data": {
      "text/plain": "     Calcium (Blood) Lactate Dehydrogenase (LDH) (Blood)  \\\n0               2.27                                 184   \n1               2.32                                 209   \n2               2.44                                 194   \n3               2.45                                 156   \n4               2.28                                 175   \n...              ...                                 ...   \n1070            2.26                                 194   \n1071            2.36                                 239   \n1072            2.26                                 196   \n1073            2.41                                 173   \n1074            2.39                                 214   \n\n     C-Reactive Protein, Normal and High Sensitivity (Blood) WBC (Blood)  \\\n0                                                  1.83             6.91   \n1                                                 <0.15             4.24   \n2                                                 0.137             6.38   \n3                                                   3.5             5.24   \n4                                                     1             8.31   \n...                                                 ...              ...   \n1070                                               15.4             7.22   \n1071                                                0.8             7.65   \n1072                                                0.6             3.83   \n1073                                               6.97            16.65   \n1074                                               0.64             7.23   \n\n     RBC (Blood) Hemoglobin (Blood) Hematocrit (Blood) MCV (Blood)  \\\n0           4.97               14.6               41.4        83.3   \n1           4.22                 11                 36        85.3   \n2           4.31               13.6               38.7        89.8   \n3           4.82               14.6               43.6        90.5   \n4           4.72                 14               40.7        86.2   \n...          ...                ...                ...         ...   \n1070        5.49               12.7               40.6          74   \n1071        4.56               12.6               35.9        78.7   \n1072        4.54               14.5               42.8        94.3   \n1073        4.94               13.4               40.5          82   \n1074        4.54               16.2               43.7        96.3   \n\n     MCH (Blood) MCHC (Blood) RDW (Blood) Platelet Count (Blood)  \\\n0           29.4         35.3        13.9                    194   \n1           26.1         30.6        14.8                    260   \n2           31.6         35.1        11.7                    344   \n3           30.3         33.5        12.4                    220   \n4           29.7         34.4        12.1                    324   \n...          ...          ...         ...                    ...   \n1070        23.1         31.3        15.4                    292   \n1071        27.6         35.1        13.5                    219   \n1072        31.9         33.9        14.9                    239   \n1073        27.1         33.1        15.7                    369   \n1074        35.7         37.1        12.3                    224   \n\n     Neutrophil % (Blood) Lymphocytes % (Blood)  \\\n0                    64.4                  30.8   \n1                    40.1                  49.1   \n2                    70.2                  22.1   \n3                    56.6                  34.2   \n4                    60.4                  27.4   \n...                   ...                   ...   \n1070                 67.3                  17.7   \n1071                 54.3                  38.6   \n1072                 52.6                  35.5   \n1073                 70.5                  24.3   \n1074                 85.4                  13.6   \n\n     Angiotensin Conv#Enzyme (Blood) Lysozyme, Plasma (Blood)  \\\n0                                NaN                        3   \n1                               27.3                      NaN   \n2                               60.2                      4.8   \n3                               38.9                        :   \n4                               18.3                      4.5   \n...                              ...                      ...   \n1070                           < 1.0                      9.3   \n1071                              53                      3.6   \n1072                            39.9                      2.9   \n1073                              23                      3.6   \n1074                            24.7                      3.2   \n\n     Anti-Dnase B (Blood) Complement C4 (Blood) Rheumatoid Factor (Blood)  \n0                     NaN                    33                       <15  \n1                     NaN                  22.8                       <10  \n2                     NaN                  18.2                       <10  \n3                     NaN                  19.9                       <15  \n4                     NaN                    19                       <10  \n...                   ...                   ...                       ...  \n1070                  NaN                  36.1                       <15  \n1071                  NaN                  22.3                       <15  \n1072                  NaN                  24.6                       <15  \n1073                  NaN                    26                       <15  \n1074                  NaN                    25                       <15  \n\n[1075 rows x 19 columns]",
      "text/html": "<div>\n<style scoped>\n    .dataframe tbody tr th:only-of-type {\n        vertical-align: middle;\n    }\n\n    .dataframe tbody tr th {\n        vertical-align: top;\n    }\n\n    .dataframe thead th {\n        text-align: right;\n    }\n</style>\n<table border=\"1\" class=\"dataframe\">\n  <thead>\n    <tr style=\"text-align: right;\">\n      <th></th>\n      <th>Calcium (Blood)</th>\n      <th>Lactate Dehydrogenase (LDH) (Blood)</th>\n      <th>C-Reactive Protein, Normal and High Sensitivity (Blood)</th>\n      <th>WBC (Blood)</th>\n      <th>RBC (Blood)</th>\n      <th>Hemoglobin (Blood)</th>\n      <th>Hematocrit (Blood)</th>\n      <th>MCV (Blood)</th>\n      <th>MCH (Blood)</th>\n      <th>MCHC (Blood)</th>\n      <th>RDW (Blood)</th>\n      <th>Platelet Count (Blood)</th>\n      <th>Neutrophil % (Blood)</th>\n      <th>Lymphocytes % (Blood)</th>\n      <th>Angiotensin Conv#Enzyme (Blood)</th>\n      <th>Lysozyme, Plasma (Blood)</th>\n      <th>Anti-Dnase B (Blood)</th>\n      <th>Complement C4 (Blood)</th>\n      <th>Rheumatoid Factor (Blood)</th>\n    </tr>\n  </thead>\n  <tbody>\n    <tr>\n      <th>0</th>\n      <td>2.27</td>\n      <td>184</td>\n      <td>1.83</td>\n      <td>6.91</td>\n      <td>4.97</td>\n      <td>14.6</td>\n      <td>41.4</td>\n      <td>83.3</td>\n      <td>29.4</td>\n      <td>35.3</td>\n      <td>13.9</td>\n      <td>194</td>\n      <td>64.4</td>\n      <td>30.8</td>\n      <td>NaN</td>\n      <td>3</td>\n      <td>NaN</td>\n      <td>33</td>\n      <td>&lt;15</td>\n    </tr>\n    <tr>\n      <th>1</th>\n      <td>2.32</td>\n      <td>209</td>\n      <td>&lt;0.15</td>\n      <td>4.24</td>\n      <td>4.22</td>\n      <td>11</td>\n      <td>36</td>\n      <td>85.3</td>\n      <td>26.1</td>\n      <td>30.6</td>\n      <td>14.8</td>\n      <td>260</td>\n      <td>40.1</td>\n      <td>49.1</td>\n      <td>27.3</td>\n      <td>NaN</td>\n      <td>NaN</td>\n      <td>22.8</td>\n      <td>&lt;10</td>\n    </tr>\n    <tr>\n      <th>2</th>\n      <td>2.44</td>\n      <td>194</td>\n      <td>0.137</td>\n      <td>6.38</td>\n      <td>4.31</td>\n      <td>13.6</td>\n      <td>38.7</td>\n      <td>89.8</td>\n      <td>31.6</td>\n      <td>35.1</td>\n      <td>11.7</td>\n      <td>344</td>\n      <td>70.2</td>\n      <td>22.1</td>\n      <td>60.2</td>\n      <td>4.8</td>\n      <td>NaN</td>\n      <td>18.2</td>\n      <td>&lt;10</td>\n    </tr>\n    <tr>\n      <th>3</th>\n      <td>2.45</td>\n      <td>156</td>\n      <td>3.5</td>\n      <td>5.24</td>\n      <td>4.82</td>\n      <td>14.6</td>\n      <td>43.6</td>\n      <td>90.5</td>\n      <td>30.3</td>\n      <td>33.5</td>\n      <td>12.4</td>\n      <td>220</td>\n      <td>56.6</td>\n      <td>34.2</td>\n      <td>38.9</td>\n      <td>:</td>\n      <td>NaN</td>\n      <td>19.9</td>\n      <td>&lt;15</td>\n    </tr>\n    <tr>\n      <th>4</th>\n      <td>2.28</td>\n      <td>175</td>\n      <td>1</td>\n      <td>8.31</td>\n      <td>4.72</td>\n      <td>14</td>\n      <td>40.7</td>\n      <td>86.2</td>\n      <td>29.7</td>\n      <td>34.4</td>\n      <td>12.1</td>\n      <td>324</td>\n      <td>60.4</td>\n      <td>27.4</td>\n      <td>18.3</td>\n      <td>4.5</td>\n      <td>NaN</td>\n      <td>19</td>\n      <td>&lt;10</td>\n    </tr>\n    <tr>\n      <th>...</th>\n      <td>...</td>\n      <td>...</td>\n      <td>...</td>\n      <td>...</td>\n      <td>...</td>\n      <td>...</td>\n      <td>...</td>\n      <td>...</td>\n      <td>...</td>\n      <td>...</td>\n      <td>...</td>\n      <td>...</td>\n      <td>...</td>\n      <td>...</td>\n      <td>...</td>\n      <td>...</td>\n      <td>...</td>\n      <td>...</td>\n      <td>...</td>\n    </tr>\n    <tr>\n      <th>1070</th>\n      <td>2.26</td>\n      <td>194</td>\n      <td>15.4</td>\n      <td>7.22</td>\n      <td>5.49</td>\n      <td>12.7</td>\n      <td>40.6</td>\n      <td>74</td>\n      <td>23.1</td>\n      <td>31.3</td>\n      <td>15.4</td>\n      <td>292</td>\n      <td>67.3</td>\n      <td>17.7</td>\n      <td>&lt; 1.0</td>\n      <td>9.3</td>\n      <td>NaN</td>\n      <td>36.1</td>\n      <td>&lt;15</td>\n    </tr>\n    <tr>\n      <th>1071</th>\n      <td>2.36</td>\n      <td>239</td>\n      <td>0.8</td>\n      <td>7.65</td>\n      <td>4.56</td>\n      <td>12.6</td>\n      <td>35.9</td>\n      <td>78.7</td>\n      <td>27.6</td>\n      <td>35.1</td>\n      <td>13.5</td>\n      <td>219</td>\n      <td>54.3</td>\n      <td>38.6</td>\n      <td>53</td>\n      <td>3.6</td>\n      <td>NaN</td>\n      <td>22.3</td>\n      <td>&lt;15</td>\n    </tr>\n    <tr>\n      <th>1072</th>\n      <td>2.26</td>\n      <td>196</td>\n      <td>0.6</td>\n      <td>3.83</td>\n      <td>4.54</td>\n      <td>14.5</td>\n      <td>42.8</td>\n      <td>94.3</td>\n      <td>31.9</td>\n      <td>33.9</td>\n      <td>14.9</td>\n      <td>239</td>\n      <td>52.6</td>\n      <td>35.5</td>\n      <td>39.9</td>\n      <td>2.9</td>\n      <td>NaN</td>\n      <td>24.6</td>\n      <td>&lt;15</td>\n    </tr>\n    <tr>\n      <th>1073</th>\n      <td>2.41</td>\n      <td>173</td>\n      <td>6.97</td>\n      <td>16.65</td>\n      <td>4.94</td>\n      <td>13.4</td>\n      <td>40.5</td>\n      <td>82</td>\n      <td>27.1</td>\n      <td>33.1</td>\n      <td>15.7</td>\n      <td>369</td>\n      <td>70.5</td>\n      <td>24.3</td>\n      <td>23</td>\n      <td>3.6</td>\n      <td>NaN</td>\n      <td>26</td>\n      <td>&lt;15</td>\n    </tr>\n    <tr>\n      <th>1074</th>\n      <td>2.39</td>\n      <td>214</td>\n      <td>0.64</td>\n      <td>7.23</td>\n      <td>4.54</td>\n      <td>16.2</td>\n      <td>43.7</td>\n      <td>96.3</td>\n      <td>35.7</td>\n      <td>37.1</td>\n      <td>12.3</td>\n      <td>224</td>\n      <td>85.4</td>\n      <td>13.6</td>\n      <td>24.7</td>\n      <td>3.2</td>\n      <td>NaN</td>\n      <td>25</td>\n      <td>&lt;15</td>\n    </tr>\n  </tbody>\n</table>\n<p>1075 rows × 19 columns</p>\n</div>"
     },
     "execution_count": 40,
     "metadata": {},
     "output_type": "execute_result"
    }
   ],
   "source": [
    "coerce_then_problems(df1, list_path, col_index, col_name_data_type, data_type, desired_dtype)\n",
    "\n",
    "#function that iterates trough columns given by previous function to coerce values that aren't numerical in nature to something else (0, , NaN, NA, 99)\n",
    "\n",
    "\n",
    "\n",
    "\n"
   ],
   "metadata": {
    "collapsed": false,
    "pycharm": {
     "name": "#%%\n"
    }
   }
  }
 ],
 "metadata": {
  "kernelspec": {
   "display_name": "Python 3",
   "language": "python",
   "name": "python3"
  },
  "language_info": {
   "codemirror_mode": {
    "name": "ipython",
    "version": 2
   },
   "file_extension": ".py",
   "mimetype": "text/x-python",
   "name": "python",
   "nbconvert_exporter": "python",
   "pygments_lexer": "ipython2",
   "version": "2.7.6"
  }
 },
 "nbformat": 4,
 "nbformat_minor": 0
}