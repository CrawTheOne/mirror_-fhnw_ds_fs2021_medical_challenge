{
 "cells": [
  {
   "cell_type": "code",
   "execution_count": 30,
   "metadata": {
    "pycharm": {
     "name": "#%%\n"
    }
   },
   "outputs": [],
   "source": [
    "import os\n",
    "import pandas as pd\n",
    "import preprocessing.pipe as pipe\n",
    "import regex as re\n",
    "import numpy as np"
   ]
  },
  {
   "cell_type": "code",
   "execution_count": 31,
   "metadata": {
    "collapsed": false,
    "jupyter": {
     "outputs_hidden": false
    },
    "pycharm": {
     "name": "#%%\n"
    }
   },
   "outputs": [],
   "source": [
    "#directories boredom\n",
    "os.chdir(\"D:/Drive/FHNW/zaRepos/fhnw_ds_fs2021_medical_challenge/preprocessing\")\n",
    "rel_path = \"../data/uveitis_data.xlsx\"\n",
    "\n",
    "#variables assignement\n",
    "list_path = \"../data/col_names&data_type-Copy1.xlsx\"\n",
    "col_index_name = \"new col name\"\n",
    "col_data_type_name = \"data_type\"\n",
    "data_type = \"numerical\"\n",
    "\n",
    "desired_dtype = [\"Int64\", \"float64\"]\n",
    "\n"
   ]
  },
  {
   "cell_type": "code",
   "execution_count": 32,
   "metadata": {
    "collapsed": false,
    "jupyter": {
     "outputs_hidden": false
    },
    "pycharm": {
     "name": "#%%\n"
    }
   },
   "outputs": [
    {
     "name": "stdout",
     "output_type": "stream",
     "text": [
      "uveitis_data.xlsx will be read\n",
      "reading filetype .xlsx\n",
      "\n",
      "Successfully created table with  126850 values and loaded as df\n",
      "The table is 118 wide and 1075 long \n",
      "\n",
      "['id', 'gender', 'race', 'loc', 'cat', 'other_', 'ehr_diagnosis', 'specific_diagnosis', 'notes', 'ac_abn_od_cells', 'ac_abn_os_cells', 'vit_abn_od_cells', 'vit_abn_os_cells', 'vit_abn_od_haze', 'vit_abn_os_haze', 'calcium', 'uom', 'range', 'lactate_dehydrogenase', 'uom1', 'range1', 'c-reactive_protein,_normal_and_high_sensitivity', 'uom2', 'range2', 'wbc', 'uom3', 'range3', 'rbc', 'uom4', 'range4', 'hemoglobin', 'uom5', 'range5', 'hematocrit', 'uom6', 'range6', 'mcv', 'uom7', 'range7', 'mch', 'uom8', 'range8', 'mchc', 'uom9', 'range9', 'rdw', 'uom10', 'range10', 'platelet_count', 'uom11', 'range11', 'neutrophil_%', 'uom12', 'range12', 'lymphocytes_%', 'uom13', 'range13', 'angiotensin_conv#enzyme', 'uom14', 'range14', 'beta-2-microglobulin', 'uom15', 'range15', 'lupus_anticoagulant', 'lysozyme,_plasma', 'uom18', 'range18', 'anti-ccp_ab', 'uom21', 'range21', 'anti-dnase_b', 'uom22', 'range22', 'anti-ena_screen', 'uom23', 'range23', 'antinuclear_antibody', 'uom24', 'range24', 'complement_c3', 'uom25', 'range25', 'complement_c4', 'uom26', 'range26', 'dna_double-stranded_ab', 'uom27', 'range27', 'hla-a*', 'hla_a_1', 'hla_a_2', 'hla-b*', 'hla_b_1', 'hla_b_2', 'hla-cw*', 'hla_c_1', 'hla_c_2', 'hla-drb1*', 'hla_drb1_1', 'hla_drb1_2', 'hla-dqb1*_/_dq*', 'hla_dq_1', 'hla_dq_2', 'hla-drb_*', 'hla_drb*_1', 'hla_drb*_2', 'myeloperoxidase_ab', 'uom34', 'range34', 'proteinase-3_antibodies', 'uom35', 'range35', 'rheumatoid_factor', 'uom36', 'range36', 'hbc__ab', 'hbs__ag', 'hcv__ab']\n"
     ]
    },
    {
     "data": {
      "text/plain": "        id  gender                    race           loc  \\\n0        1    Male  Black/African American      Anterior   \n1        2  Female  Black/African American  Intermediate   \n2        3  Female                   White           Pan   \n3        4  Female                   White      Anterior   \n4        5  Female            Unknown Race      Anterior   \n...    ...     ...                     ...           ...   \n1070  1071    Male                   Asian           Pan   \n1071  1072    Male            Unknown Race  Intermediate   \n1072  1073  Female            Unknown Race     Posterior   \n1073  1074  Female                   Asian     Posterior   \n1074  1075    Male                   White     Posterior   \n\n                           cat         other_  \\\n0     Nonneoplastic Masquerade            NaN   \n1                   Idiopathic            NaN   \n2                     Systemic            NaN   \n3                   Idiopathic            NaN   \n4                   Idiopathic            NaN   \n...                        ...            ...   \n1070                Infectious  granulomatous   \n1071                Idiopathic            NaN   \n1072                Infectious            NaN   \n1073                       WDS            NaN   \n1074  Nonneoplastic masquerade            NaN   \n\n                                          ehr_diagnosis  \\\n0     Posner-Schlossman                             ...   \n1     Ant/Int Uveitis                               ...   \n2                                                   VKH   \n3     chronic idiopathic anterior uveitis           ...   \n4     Acute Anterior Uveitis                        ...   \n...                                                 ...   \n1070                  TB assoc granulomatous panuveitis   \n1071               NG anterior and intermediate uveitis   \n1072                    toxoplasmosis retinochoroiditis   \n1073                  ampiginous-like chorioretinopathy   \n1074                    AIR (+ anti-retinal antibodies)   \n\n            specific_diagnosis          notes ac_abn_od_cells  ...  \\\n0          Idiopathic_anterior            NaN            0     ...   \n1                pars planitis  pars planitis            2     ...   \n2                          VKH            NaN            0.5   ...   \n3          Idiopathic_anterior            NaN            0     ...   \n4          Idiopathic_anterior            NaN            0     ...   \n...                        ...            ...             ...  ...   \n1070            Tuberculosis              NaN               0  ...   \n1071             pars planitis  pars planitis            0     ...   \n1072             Toxoplasmosis            NaN            0     ...   \n1073                       WDS            WDS            0     ...   \n1074  Nonneoplastic masquerade            NaN               0  ...   \n\n               range34 proteinase-3_antibodies  uom35           range35  \\\n0                  NaN                     NaN    NaN               NaN   \n1      <0.4 (Negative)                    <0.2      U   <0.4 (Negative)   \n2                  NaN                     NaN    NaN               NaN   \n3                  NaN                     NaN    NaN               NaN   \n4                  NaN                     NaN    NaN               NaN   \n...                ...                     ...    ...               ...   \n1070   <0.4 (Negative)                     0.7      U   <0.4 (Negative)   \n1071               NaN                     NaN    NaN               NaN   \n1072               NaN                     NaN    NaN               NaN   \n1073               NaN                     NaN    NaN               NaN   \n1074          0.0-10.0                NEGATIVE  units          0.0-10.0   \n\n     rheumatoid_factor  uom36 range36   hbc__ab   hbs__ag   hcv__ab  \n0                  <15  IU/mL     <15  NEGATIVE  NEGATIVE  NEGATIVE  \n1                  <10  IU/mL     <13  NEGATIVE  NEGATIVE  NEGATIVE  \n2                  <10  IU/mL     <13  NEGATIVE  NEGATIVE  NEGATIVE  \n3                  <15  IU/mL     <15  NEGATIVE  NEGATIVE  NEGATIVE  \n4                  <10  IU/mL     <13  NEGATIVE  NEGATIVE  NEGATIVE  \n...                ...    ...     ...       ...       ...       ...  \n1070               <15  IU/mL     <15  NEGATIVE  NEGATIVE  NEGATIVE  \n1071               <15  IU/mL     <15  NEGATIVE  NEGATIVE  NEGATIVE  \n1072               <15  IU/mL     <15  NEGATIVE  NEGATIVE  NEGATIVE  \n1073               <15  IU/mL     <15  NEGATIVE  NEGATIVE  NEGATIVE  \n1074               <15  IU/mL     <15  NEGATIVE  NEGATIVE  NEGATIVE  \n\n[1075 rows x 118 columns]",
      "text/html": "<div>\n<style scoped>\n    .dataframe tbody tr th:only-of-type {\n        vertical-align: middle;\n    }\n\n    .dataframe tbody tr th {\n        vertical-align: top;\n    }\n\n    .dataframe thead th {\n        text-align: right;\n    }\n</style>\n<table border=\"1\" class=\"dataframe\">\n  <thead>\n    <tr style=\"text-align: right;\">\n      <th></th>\n      <th>id</th>\n      <th>gender</th>\n      <th>race</th>\n      <th>loc</th>\n      <th>cat</th>\n      <th>other_</th>\n      <th>ehr_diagnosis</th>\n      <th>specific_diagnosis</th>\n      <th>notes</th>\n      <th>ac_abn_od_cells</th>\n      <th>...</th>\n      <th>range34</th>\n      <th>proteinase-3_antibodies</th>\n      <th>uom35</th>\n      <th>range35</th>\n      <th>rheumatoid_factor</th>\n      <th>uom36</th>\n      <th>range36</th>\n      <th>hbc__ab</th>\n      <th>hbs__ag</th>\n      <th>hcv__ab</th>\n    </tr>\n  </thead>\n  <tbody>\n    <tr>\n      <th>0</th>\n      <td>1</td>\n      <td>Male</td>\n      <td>Black/African American</td>\n      <td>Anterior</td>\n      <td>Nonneoplastic Masquerade</td>\n      <td>NaN</td>\n      <td>Posner-Schlossman                             ...</td>\n      <td>Idiopathic_anterior</td>\n      <td>NaN</td>\n      <td>0</td>\n      <td>...</td>\n      <td>NaN</td>\n      <td>NaN</td>\n      <td>NaN</td>\n      <td>NaN</td>\n      <td>&lt;15</td>\n      <td>IU/mL</td>\n      <td>&lt;15</td>\n      <td>NEGATIVE</td>\n      <td>NEGATIVE</td>\n      <td>NEGATIVE</td>\n    </tr>\n    <tr>\n      <th>1</th>\n      <td>2</td>\n      <td>Female</td>\n      <td>Black/African American</td>\n      <td>Intermediate</td>\n      <td>Idiopathic</td>\n      <td>NaN</td>\n      <td>Ant/Int Uveitis                               ...</td>\n      <td>pars planitis</td>\n      <td>pars planitis</td>\n      <td>2</td>\n      <td>...</td>\n      <td>&lt;0.4 (Negative)</td>\n      <td>&lt;0.2</td>\n      <td>U</td>\n      <td>&lt;0.4 (Negative)</td>\n      <td>&lt;10</td>\n      <td>IU/mL</td>\n      <td>&lt;13</td>\n      <td>NEGATIVE</td>\n      <td>NEGATIVE</td>\n      <td>NEGATIVE</td>\n    </tr>\n    <tr>\n      <th>2</th>\n      <td>3</td>\n      <td>Female</td>\n      <td>White</td>\n      <td>Pan</td>\n      <td>Systemic</td>\n      <td>NaN</td>\n      <td>VKH</td>\n      <td>VKH</td>\n      <td>NaN</td>\n      <td>0.5</td>\n      <td>...</td>\n      <td>NaN</td>\n      <td>NaN</td>\n      <td>NaN</td>\n      <td>NaN</td>\n      <td>&lt;10</td>\n      <td>IU/mL</td>\n      <td>&lt;13</td>\n      <td>NEGATIVE</td>\n      <td>NEGATIVE</td>\n      <td>NEGATIVE</td>\n    </tr>\n    <tr>\n      <th>3</th>\n      <td>4</td>\n      <td>Female</td>\n      <td>White</td>\n      <td>Anterior</td>\n      <td>Idiopathic</td>\n      <td>NaN</td>\n      <td>chronic idiopathic anterior uveitis           ...</td>\n      <td>Idiopathic_anterior</td>\n      <td>NaN</td>\n      <td>0</td>\n      <td>...</td>\n      <td>NaN</td>\n      <td>NaN</td>\n      <td>NaN</td>\n      <td>NaN</td>\n      <td>&lt;15</td>\n      <td>IU/mL</td>\n      <td>&lt;15</td>\n      <td>NEGATIVE</td>\n      <td>NEGATIVE</td>\n      <td>NEGATIVE</td>\n    </tr>\n    <tr>\n      <th>4</th>\n      <td>5</td>\n      <td>Female</td>\n      <td>Unknown Race</td>\n      <td>Anterior</td>\n      <td>Idiopathic</td>\n      <td>NaN</td>\n      <td>Acute Anterior Uveitis                        ...</td>\n      <td>Idiopathic_anterior</td>\n      <td>NaN</td>\n      <td>0</td>\n      <td>...</td>\n      <td>NaN</td>\n      <td>NaN</td>\n      <td>NaN</td>\n      <td>NaN</td>\n      <td>&lt;10</td>\n      <td>IU/mL</td>\n      <td>&lt;13</td>\n      <td>NEGATIVE</td>\n      <td>NEGATIVE</td>\n      <td>NEGATIVE</td>\n    </tr>\n    <tr>\n      <th>...</th>\n      <td>...</td>\n      <td>...</td>\n      <td>...</td>\n      <td>...</td>\n      <td>...</td>\n      <td>...</td>\n      <td>...</td>\n      <td>...</td>\n      <td>...</td>\n      <td>...</td>\n      <td>...</td>\n      <td>...</td>\n      <td>...</td>\n      <td>...</td>\n      <td>...</td>\n      <td>...</td>\n      <td>...</td>\n      <td>...</td>\n      <td>...</td>\n      <td>...</td>\n      <td>...</td>\n    </tr>\n    <tr>\n      <th>1070</th>\n      <td>1071</td>\n      <td>Male</td>\n      <td>Asian</td>\n      <td>Pan</td>\n      <td>Infectious</td>\n      <td>granulomatous</td>\n      <td>TB assoc granulomatous panuveitis</td>\n      <td>Tuberculosis</td>\n      <td>NaN</td>\n      <td>0</td>\n      <td>...</td>\n      <td>&lt;0.4 (Negative)</td>\n      <td>0.7</td>\n      <td>U</td>\n      <td>&lt;0.4 (Negative)</td>\n      <td>&lt;15</td>\n      <td>IU/mL</td>\n      <td>&lt;15</td>\n      <td>NEGATIVE</td>\n      <td>NEGATIVE</td>\n      <td>NEGATIVE</td>\n    </tr>\n    <tr>\n      <th>1071</th>\n      <td>1072</td>\n      <td>Male</td>\n      <td>Unknown Race</td>\n      <td>Intermediate</td>\n      <td>Idiopathic</td>\n      <td>NaN</td>\n      <td>NG anterior and intermediate uveitis</td>\n      <td>pars planitis</td>\n      <td>pars planitis</td>\n      <td>0</td>\n      <td>...</td>\n      <td>NaN</td>\n      <td>NaN</td>\n      <td>NaN</td>\n      <td>NaN</td>\n      <td>&lt;15</td>\n      <td>IU/mL</td>\n      <td>&lt;15</td>\n      <td>NEGATIVE</td>\n      <td>NEGATIVE</td>\n      <td>NEGATIVE</td>\n    </tr>\n    <tr>\n      <th>1072</th>\n      <td>1073</td>\n      <td>Female</td>\n      <td>Unknown Race</td>\n      <td>Posterior</td>\n      <td>Infectious</td>\n      <td>NaN</td>\n      <td>toxoplasmosis retinochoroiditis</td>\n      <td>Toxoplasmosis</td>\n      <td>NaN</td>\n      <td>0</td>\n      <td>...</td>\n      <td>NaN</td>\n      <td>NaN</td>\n      <td>NaN</td>\n      <td>NaN</td>\n      <td>&lt;15</td>\n      <td>IU/mL</td>\n      <td>&lt;15</td>\n      <td>NEGATIVE</td>\n      <td>NEGATIVE</td>\n      <td>NEGATIVE</td>\n    </tr>\n    <tr>\n      <th>1073</th>\n      <td>1074</td>\n      <td>Female</td>\n      <td>Asian</td>\n      <td>Posterior</td>\n      <td>WDS</td>\n      <td>NaN</td>\n      <td>ampiginous-like chorioretinopathy</td>\n      <td>WDS</td>\n      <td>WDS</td>\n      <td>0</td>\n      <td>...</td>\n      <td>NaN</td>\n      <td>NaN</td>\n      <td>NaN</td>\n      <td>NaN</td>\n      <td>&lt;15</td>\n      <td>IU/mL</td>\n      <td>&lt;15</td>\n      <td>NEGATIVE</td>\n      <td>NEGATIVE</td>\n      <td>NEGATIVE</td>\n    </tr>\n    <tr>\n      <th>1074</th>\n      <td>1075</td>\n      <td>Male</td>\n      <td>White</td>\n      <td>Posterior</td>\n      <td>Nonneoplastic masquerade</td>\n      <td>NaN</td>\n      <td>AIR (+ anti-retinal antibodies)</td>\n      <td>Nonneoplastic masquerade</td>\n      <td>NaN</td>\n      <td>0</td>\n      <td>...</td>\n      <td>0.0-10.0</td>\n      <td>NEGATIVE</td>\n      <td>units</td>\n      <td>0.0-10.0</td>\n      <td>&lt;15</td>\n      <td>IU/mL</td>\n      <td>&lt;15</td>\n      <td>NEGATIVE</td>\n      <td>NEGATIVE</td>\n      <td>NEGATIVE</td>\n    </tr>\n  </tbody>\n</table>\n<p>1075 rows × 118 columns</p>\n</div>"
     },
     "execution_count": 32,
     "metadata": {},
     "output_type": "execute_result"
    }
   ],
   "source": [
    "#read data\n",
    "df1 = pipe.read_data(rel_path)\n",
    "\n",
    "#rename columns of df1 according to external excel source\n",
    "df1 = pipe.rename(df1, list_path)\n",
    "print(list(df1.columns))\n",
    "\n",
    "#return list of all columns with specific dtype\n",
    "num_columns = pipe.list_of_totype(list_path, col_index_name, col_data_type_name, data_type)\n",
    "\n",
    "\n",
    "df1"
   ]
  },
  {
   "cell_type": "code",
   "execution_count": 33,
   "metadata": {
    "collapsed": false,
    "jupyter": {
     "outputs_hidden": false
    },
    "pycharm": {
     "name": "#%%\n"
    }
   },
   "outputs": [
    {
     "name": "stdout",
     "output_type": "stream",
     "text": [
      "['id', 'calcium', 'lactate_dehydrogenase', 'c-reactive_protein,_normal_and_high_sensitivity', 'wbc', 'rbc', 'hemoglobin', 'hematocrit', 'mcv', 'mch', 'mchc', 'rdw', 'platelet_count', 'neutrophil_%', 'lymphocytes_%', 'angiotensin_conv#enzyme', 'beta-2-microglobulin', 'lysozyme,_plasma', 'anti-dnase_b', 'complement_c3', 'complement_c4', 'rheumatoid_factor']\n"
     ]
    }
   ],
   "source": [
    "#function to return list of columns to convert to which data type (with choice) according to given list\n",
    "\n",
    "\n",
    "def list_of_totype(list_path, col_index_name, col_data_type_name=\"data_type\", data_type=\"numerical\"):\n",
    "    \"\"\"\n",
    "    Return list of columns, selected based on their data types from custom excel list\n",
    "    -----\n",
    "    :param list_path: path of excel document to read data type from\n",
    "    :param col_index_name: index column to use (column name of data type)\n",
    "    :param col_data_type_name: name of column where data type is stored\n",
    "    :param data_type: type of data desired. Should be numerical, categorical, char or both (appelation for edge cases)\n",
    "\n",
    "    :return: returns a list of column names with the desired data type\n",
    "    \"\"\"\n",
    "    col = pd.read_excel(list_path, index_col = col_index_name)[col_data_type_name] #get content of column with name data_type\n",
    "    col = col.reset_index()\n",
    "\n",
    "    new_col = col[col_index_name].str.strip().str.lower()\n",
    "    new_col = [c.replace(' ', '_') for c in new_col] # remove whitespace\n",
    "    new_col = [re.sub(r\"\\([^()]*\\)\", \"\", c) for c in new_col] # remove all text in parantheses\n",
    "    col[col_index_name] = new_col\n",
    "    \n",
    "    col_to_type = col.where(col.data_type == data_type).dropna()[col_index_name].tolist()\n",
    "    return col_to_type\n",
    "\n",
    "item_filter = list_of_totype(list_path, col_index_name, col_data_type_name, data_type)\n",
    "print(item_filter)"
   ]
  },
  {
   "cell_type": "code",
   "execution_count": 34,
   "metadata": {
    "collapsed": false,
    "jupyter": {
     "outputs_hidden": false
    },
    "pycharm": {
     "name": "#%%\n"
    }
   },
   "outputs": [],
   "source": [
    "#this function is pretty useless alone\n",
    "def problem_columns(matches, desired_dtype):\n",
    "    \"\"\"\n",
    "    Return all columns and their content that couldn't be correctly coerced to a desired dtype\n",
    "    -----\n",
    "    :param matches: feeded from another function\n",
    "    :param desired_dtype: a list or string that contains the desired data_types that were transformed correctly\n",
    "\n",
    "    :return: returns a dataframe with all the problematic columns\n",
    "    \"\"\"\n",
    "    for key, value in matches.iteritems():\n",
    "        #print(key, value)\n",
    "        if value.dtype in desired_dtype:\n",
    "            print(\"\\n\", key, \"is desired\", value.dtype, \"and will be popped from problematic list \\n\")\n",
    "            matches.pop(key)\n",
    "        else:\n",
    "            print(key, \"has unwanted dtype, keeping for transformation\")\n",
    "    return matches"
   ]
  },
  {
   "cell_type": "code",
   "execution_count": 35,
   "metadata": {
    "collapsed": false,
    "jupyter": {
     "outputs_hidden": false
    },
    "pycharm": {
     "name": "#%%\n"
    }
   },
   "outputs": [],
   "source": [
    "#function to coerce columns to desired datatype\n",
    "def coerce_then_problems(dframe, list_path, col_index_name, col_data_type_name, data_type, desired_dtype):\n",
    "    \"\"\"\n",
    "    Coerce with convert_dtypes pandas function all columns from the list_of_totype. Those that fail to\n",
    "    be converted into the desired dtype will be compiled into a dataframe for next steps\n",
    "    -----\n",
    "    :param dframe: dataframe to be checked and wrecked\n",
    "    :param list_path: path of excel document to read data type from\n",
    "    :param col_index_name: index column to use (column name of data type)\n",
    "    :param col_data_type_name: name of column where data type is stored\n",
    "    :param data_type: type of data desired. Should be numerical, categorical, char or both (appelation for edge cases)\n",
    "    :param desired_dtype: a list or string that contains the desired data_types that were transformed correctly\n",
    "\n",
    "    :return: a dataframe with values that couldn't be coerced to the desired data_type automagically via convert_dtypes()\n",
    "    \"\"\"\n",
    "\n",
    "    item_filter = list_of_totype(list_path, col_index_name, col_data_type_name, data_type)\n",
    "    matches = dframe.filter(items = item_filter).convert_dtypes()\n",
    "    print(matches)\n",
    "    matches = problem_columns(matches, desired_dtype)\n",
    "    return matches"
   ]
  },
  {
   "cell_type": "code",
   "execution_count": 36,
   "metadata": {
    "collapsed": false,
    "jupyter": {
     "outputs_hidden": false
    },
    "pycharm": {
     "name": "#%%\n"
    }
   },
   "outputs": [
    {
     "name": "stdout",
     "output_type": "stream",
     "text": [
      "        id calcium lactate_dehydrogenase  \\\n",
      "0        1    2.27                   184   \n",
      "1        2    2.32                   209   \n",
      "2        3    2.44                   194   \n",
      "3        4    2.45                   156   \n",
      "4        5    2.28                   175   \n",
      "...    ...     ...                   ...   \n",
      "1070  1071    2.26                   194   \n",
      "1071  1072    2.36                   239   \n",
      "1072  1073    2.26                   196   \n",
      "1073  1074    2.41                   173   \n",
      "1074  1075    2.39                   214   \n",
      "\n",
      "     c-reactive_protein,_normal_and_high_sensitivity    wbc   rbc hemoglobin  \\\n",
      "0                                               1.83   6.91  4.97       14.6   \n",
      "1                                              <0.15   4.24  4.22         11   \n",
      "2                                              0.137   6.38  4.31       13.6   \n",
      "3                                                3.5   5.24  4.82       14.6   \n",
      "4                                                  1   8.31  4.72         14   \n",
      "...                                              ...    ...   ...        ...   \n",
      "1070                                            15.4   7.22  5.49       12.7   \n",
      "1071                                             0.8   7.65  4.56       12.6   \n",
      "1072                                             0.6   3.83  4.54       14.5   \n",
      "1073                                            6.97  16.65  4.94       13.4   \n",
      "1074                                            0.64   7.23  4.54       16.2   \n",
      "\n",
      "     hematocrit   mcv   mch  ... platelet_count neutrophil_% lymphocytes_%  \\\n",
      "0          41.4  83.3  29.4  ...            194         64.4          30.8   \n",
      "1            36  85.3  26.1  ...            260         40.1          49.1   \n",
      "2          38.7  89.8  31.6  ...            344         70.2          22.1   \n",
      "3          43.6  90.5  30.3  ...            220         56.6          34.2   \n",
      "4          40.7  86.2  29.7  ...            324         60.4          27.4   \n",
      "...         ...   ...   ...  ...            ...          ...           ...   \n",
      "1070       40.6    74  23.1  ...            292         67.3          17.7   \n",
      "1071       35.9  78.7  27.6  ...            219         54.3          38.6   \n",
      "1072       42.8  94.3  31.9  ...            239         52.6          35.5   \n",
      "1073       40.5    82  27.1  ...            369         70.5          24.3   \n",
      "1074       43.7  96.3  35.7  ...            224         85.4          13.6   \n",
      "\n",
      "     angiotensin_conv#enzyme beta-2-microglobulin lysozyme,_plasma  \\\n",
      "0                        NaN                  1.5                3   \n",
      "1                       27.3                  NaN              NaN   \n",
      "2                       60.2                  NaN              4.8   \n",
      "3                       38.9                  NaN                :   \n",
      "4                       18.3                  NaN              4.5   \n",
      "...                      ...                  ...              ...   \n",
      "1070                   < 1.0                  3.7              9.3   \n",
      "1071                      53                  NaN              3.6   \n",
      "1072                    39.9                  NaN              2.9   \n",
      "1073                      23                  2.4              3.6   \n",
      "1074                    24.7                  1.2              3.2   \n",
      "\n",
      "      anti-dnase_b complement_c3 complement_c4  rheumatoid_factor  \n",
      "0              NaN         149.0            33                <15  \n",
      "1              NaN         130.8          22.8                <10  \n",
      "2              NaN         135.9          18.2                <10  \n",
      "3              NaN         130.0          19.9                <15  \n",
      "4              NaN         130.4            19                <10  \n",
      "...            ...           ...           ...                ...  \n",
      "1070           NaN         112.4          36.1                <15  \n",
      "1071           NaN         121.5          22.3                <15  \n",
      "1072           NaN         114.9          24.6                <15  \n",
      "1073           NaN         131.0            26                <15  \n",
      "1074           NaN         128.0            25                <15  \n",
      "\n",
      "[1075 rows x 22 columns]\n",
      "\n",
      " id is desired Int64 and will be popped from problematic list \n",
      "\n",
      "calcium has unwanted dtype, keeping for transformation\n",
      "lactate_dehydrogenase has unwanted dtype, keeping for transformation\n",
      "c-reactive_protein,_normal_and_high_sensitivity has unwanted dtype, keeping for transformation\n",
      "wbc has unwanted dtype, keeping for transformation\n",
      "rbc has unwanted dtype, keeping for transformation\n",
      "hemoglobin has unwanted dtype, keeping for transformation\n",
      "hematocrit has unwanted dtype, keeping for transformation\n",
      "mcv has unwanted dtype, keeping for transformation\n",
      "mch has unwanted dtype, keeping for transformation\n",
      "mchc has unwanted dtype, keeping for transformation\n",
      "rdw has unwanted dtype, keeping for transformation\n",
      "platelet_count has unwanted dtype, keeping for transformation\n",
      "neutrophil_% has unwanted dtype, keeping for transformation\n",
      "lymphocytes_% has unwanted dtype, keeping for transformation\n",
      "angiotensin_conv#enzyme has unwanted dtype, keeping for transformation\n",
      "\n",
      " beta-2-microglobulin is desired float64 and will be popped from problematic list \n",
      "\n",
      "lysozyme,_plasma has unwanted dtype, keeping for transformation\n",
      "anti-dnase_b has unwanted dtype, keeping for transformation\n",
      "\n",
      " complement_c3 is desired float64 and will be popped from problematic list \n",
      "\n",
      "complement_c4 has unwanted dtype, keeping for transformation\n",
      "rheumatoid_factor has unwanted dtype, keeping for transformation\n",
      "['calcium', 'lactate_dehydrogenase', 'c-reactive_protein,_normal_and_high_sensitivity', 'wbc', 'rbc', 'hemoglobin', 'hematocrit', 'mcv', 'mch', 'mchc', 'rdw', 'platelet_count', 'neutrophil_%', 'lymphocytes_%', 'angiotensin_conv#enzyme', 'lysozyme,_plasma', 'anti-dnase_b', 'complement_c4', 'rheumatoid_factor']\n"
     ]
    },
    {
     "name": "stderr",
     "output_type": "stream",
     "text": [
      "C:\\Users\\Lupo_Remastered\\Anaconda3\\lib\\site-packages\\ipykernel_launcher.py:13: DeprecationWarning: Numeric-style type codes are deprecated and will result in an error in the future.\n",
      "  del sys.path[0]\n"
     ]
    }
   ],
   "source": [
    "#create dataframe with columns that contain a mix of strings and numerical values\n",
    "problem_df = coerce_then_problems(df1, list_path, col_index_name, col_data_type_name, data_type, desired_dtype)\n",
    "problem_columns = list(problem_df)\n",
    "print(problem_columns)\n",
    "\n",
    "#function that iterates trough columns given by previous function to coerce values that aren't numerical in nature to something else (0, , NaN, NA, 99)\n"
   ]
  },
  {
   "cell_type": "code",
   "execution_count": 36,
   "metadata": {
    "collapsed": false,
    "jupyter": {
     "outputs_hidden": false
    },
    "pycharm": {
     "name": "#%%\n"
    }
   },
   "outputs": [],
   "source": []
  }
 ],
 "metadata": {
  "kernelspec": {
   "display_name": "Python 3",
   "language": "python",
   "name": "python3"
  },
  "language_info": {
   "codemirror_mode": {
    "name": "ipython",
    "version": 3
   },
   "file_extension": ".py",
   "mimetype": "text/x-python",
   "name": "python",
   "nbconvert_exporter": "python",
   "pygments_lexer": "ipython3",
   "version": "3.8.5"
  }
 },
 "nbformat": 4,
 "nbformat_minor": 4
}