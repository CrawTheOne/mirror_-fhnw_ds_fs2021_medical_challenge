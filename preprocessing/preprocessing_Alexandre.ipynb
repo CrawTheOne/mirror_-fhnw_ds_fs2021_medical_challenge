{
 "cells": [
  {
   "cell_type": "code",
   "execution_count": 164,
   "metadata": {
    "collapsed": true,
    "pycharm": {
     "name": "#%%\n"
    }
   },
   "outputs": [],
   "source": [
    "import os\n",
    "import pandas as pd\n",
    "import preprocessing.pipe as pipe"
   ]
  },
  {
   "cell_type": "code",
   "execution_count": 165,
   "outputs": [],
   "source": [
    "#directories boredom\n",
    "os.chdir(\"D:/Drive/FHNW/zaRepos/fhnw_ds_fs2021_medical_challenge/preprocessing\")\n",
    "rel_path = \"../data/uveitis_data.xlsx\"\n",
    "\n",
    "#variables assignement\n",
    "list_path = \"../data/col_names&data_type-Copy1.xlsx\"\n",
    "col_index_name = \"new col name\"\n",
    "col_data_type_name = \"data_type\"\n",
    "data_type = \"numerical\"\n",
    "\n",
    "desired_dtype = [\"Int64\", \"float64\"]\n",
    "\n"
   ],
   "metadata": {
    "collapsed": false,
    "pycharm": {
     "name": "#%%\n"
    }
   }
  },
  {
   "cell_type": "code",
   "execution_count": 166,
   "outputs": [
    {
     "name": "stdout",
     "output_type": "stream",
     "text": [
      "uveitis_data.xlsx will be read\n",
      "reading filetype .xlsx\n",
      "\n",
      "Successfully created table with  126850 values and loaded as df\n",
      "The table is 118 wide and 1075 long \n",
      "\n",
      "['id', 'gender', 'race', 'loc', 'cat', 'other_', 'ehr_diagnosis', 'specific_diagnosis', 'notes', 'ac_abn_od_cells', 'ac_abn_os_cells', 'vit_abn_od_cells', 'vit_abn_os_cells', 'vit_abn_od_haze', 'vit_abn_os_haze', 'calcium', 'uom', 'range', 'lactate_dehydrogenase', 'uom1', 'range1', 'c-reactive_protein,_normal_and_high_sensitivity', 'uom2', 'range2', 'wbc', 'uom3', 'range3', 'rbc', 'uom4', 'range4', 'hemoglobin', 'uom5', 'range5', 'hematocrit', 'uom6', 'range6', 'mcv', 'uom7', 'range7', 'mch', 'uom8', 'range8', 'mchc', 'uom9', 'range9', 'rdw', 'uom10', 'range10', 'platelet_count', 'uom11', 'range11', 'neutrophil_%', 'uom12', 'range12', 'lymphocytes_%', 'uom13', 'range13', 'angiotensin_conv#enzyme', 'uom14', 'range14', 'beta-2-microglobulin', 'uom15', 'range15', 'lupus_anticoagulant', 'lysozyme,_plasma', 'uom18', 'range18', 'anti-ccp_ab', 'uom21', 'range21', 'anti-dnase_b', 'uom22', 'range22', 'anti-ena_screen', 'uom23', 'range23', 'antinuclear_antibody', 'uom24', 'range24', 'complement_c3', 'uom25', 'range25', 'complement_c4', 'uom26', 'range26', 'dna_double-stranded_ab', 'uom27', 'range27', 'hla-a*', 'hla_a_1', 'hla_a_2', 'hla-b*', 'hla_b_1', 'hla_b_2', 'hla-cw*', 'hla_c_1', 'hla_c_2', 'hla-drb1*', 'hla_drb1_1', 'hla_drb1_2', 'hla-dqb1*_/_dq*', 'hla_dq_1', 'hla_dq_2', 'hla-drb_*', 'hla_drb*_1', 'hla_drb*_2', 'myeloperoxidase_ab', 'uom34', 'range34', 'proteinase-3_antibodies', 'uom35', 'range35', 'rheumatoid_factor', 'uom36', 'range36', 'hbc__ab', 'hbs__ag', 'hcv__ab']\n"
     ]
    },
    {
     "data": {
      "text/plain": "        id  gender                    race           loc  \\\n0        1    Male  Black/African American      Anterior   \n1        2  Female  Black/African American  Intermediate   \n2        3  Female                   White           Pan   \n3        4  Female                   White      Anterior   \n4        5  Female            Unknown Race      Anterior   \n...    ...     ...                     ...           ...   \n1070  1071    Male                   Asian           Pan   \n1071  1072    Male            Unknown Race  Intermediate   \n1072  1073  Female            Unknown Race     Posterior   \n1073  1074  Female                   Asian     Posterior   \n1074  1075    Male                   White     Posterior   \n\n                           cat         other_  \\\n0     Nonneoplastic Masquerade            NaN   \n1                   Idiopathic            NaN   \n2                     Systemic            NaN   \n3                   Idiopathic            NaN   \n4                   Idiopathic            NaN   \n...                        ...            ...   \n1070                Infectious  granulomatous   \n1071                Idiopathic            NaN   \n1072                Infectious            NaN   \n1073                       WDS            NaN   \n1074  Nonneoplastic masquerade            NaN   \n\n                                          ehr_diagnosis  \\\n0     Posner-Schlossman                             ...   \n1     Ant/Int Uveitis                               ...   \n2                                                   VKH   \n3     chronic idiopathic anterior uveitis           ...   \n4     Acute Anterior Uveitis                        ...   \n...                                                 ...   \n1070                  TB assoc granulomatous panuveitis   \n1071               NG anterior and intermediate uveitis   \n1072                    toxoplasmosis retinochoroiditis   \n1073                  ampiginous-like chorioretinopathy   \n1074                    AIR (+ anti-retinal antibodies)   \n\n            specific_diagnosis          notes ac_abn_od_cells  ...  \\\n0          Idiopathic_anterior            NaN            0     ...   \n1                pars planitis  pars planitis            2     ...   \n2                          VKH            NaN            0.5   ...   \n3          Idiopathic_anterior            NaN            0     ...   \n4          Idiopathic_anterior            NaN            0     ...   \n...                        ...            ...             ...  ...   \n1070            Tuberculosis              NaN               0  ...   \n1071             pars planitis  pars planitis            0     ...   \n1072             Toxoplasmosis            NaN            0     ...   \n1073                       WDS            WDS            0     ...   \n1074  Nonneoplastic masquerade            NaN               0  ...   \n\n               range34 proteinase-3_antibodies  uom35           range35  \\\n0                  NaN                     NaN    NaN               NaN   \n1      <0.4 (Negative)                    <0.2      U   <0.4 (Negative)   \n2                  NaN                     NaN    NaN               NaN   \n3                  NaN                     NaN    NaN               NaN   \n4                  NaN                     NaN    NaN               NaN   \n...                ...                     ...    ...               ...   \n1070   <0.4 (Negative)                     0.7      U   <0.4 (Negative)   \n1071               NaN                     NaN    NaN               NaN   \n1072               NaN                     NaN    NaN               NaN   \n1073               NaN                     NaN    NaN               NaN   \n1074          0.0-10.0                NEGATIVE  units          0.0-10.0   \n\n     rheumatoid_factor  uom36 range36   hbc__ab   hbs__ag   hcv__ab  \n0                  <15  IU/mL     <15  NEGATIVE  NEGATIVE  NEGATIVE  \n1                  <10  IU/mL     <13  NEGATIVE  NEGATIVE  NEGATIVE  \n2                  <10  IU/mL     <13  NEGATIVE  NEGATIVE  NEGATIVE  \n3                  <15  IU/mL     <15  NEGATIVE  NEGATIVE  NEGATIVE  \n4                  <10  IU/mL     <13  NEGATIVE  NEGATIVE  NEGATIVE  \n...                ...    ...     ...       ...       ...       ...  \n1070               <15  IU/mL     <15  NEGATIVE  NEGATIVE  NEGATIVE  \n1071               <15  IU/mL     <15  NEGATIVE  NEGATIVE  NEGATIVE  \n1072               <15  IU/mL     <15  NEGATIVE  NEGATIVE  NEGATIVE  \n1073               <15  IU/mL     <15  NEGATIVE  NEGATIVE  NEGATIVE  \n1074               <15  IU/mL     <15  NEGATIVE  NEGATIVE  NEGATIVE  \n\n[1075 rows x 118 columns]",
      "text/html": "<div>\n<style scoped>\n    .dataframe tbody tr th:only-of-type {\n        vertical-align: middle;\n    }\n\n    .dataframe tbody tr th {\n        vertical-align: top;\n    }\n\n    .dataframe thead th {\n        text-align: right;\n    }\n</style>\n<table border=\"1\" class=\"dataframe\">\n  <thead>\n    <tr style=\"text-align: right;\">\n      <th></th>\n      <th>id</th>\n      <th>gender</th>\n      <th>race</th>\n      <th>loc</th>\n      <th>cat</th>\n      <th>other_</th>\n      <th>ehr_diagnosis</th>\n      <th>specific_diagnosis</th>\n      <th>notes</th>\n      <th>ac_abn_od_cells</th>\n      <th>...</th>\n      <th>range34</th>\n      <th>proteinase-3_antibodies</th>\n      <th>uom35</th>\n      <th>range35</th>\n      <th>rheumatoid_factor</th>\n      <th>uom36</th>\n      <th>range36</th>\n      <th>hbc__ab</th>\n      <th>hbs__ag</th>\n      <th>hcv__ab</th>\n    </tr>\n  </thead>\n  <tbody>\n    <tr>\n      <th>0</th>\n      <td>1</td>\n      <td>Male</td>\n      <td>Black/African American</td>\n      <td>Anterior</td>\n      <td>Nonneoplastic Masquerade</td>\n      <td>NaN</td>\n      <td>Posner-Schlossman                             ...</td>\n      <td>Idiopathic_anterior</td>\n      <td>NaN</td>\n      <td>0</td>\n      <td>...</td>\n      <td>NaN</td>\n      <td>NaN</td>\n      <td>NaN</td>\n      <td>NaN</td>\n      <td>&lt;15</td>\n      <td>IU/mL</td>\n      <td>&lt;15</td>\n      <td>NEGATIVE</td>\n      <td>NEGATIVE</td>\n      <td>NEGATIVE</td>\n    </tr>\n    <tr>\n      <th>1</th>\n      <td>2</td>\n      <td>Female</td>\n      <td>Black/African American</td>\n      <td>Intermediate</td>\n      <td>Idiopathic</td>\n      <td>NaN</td>\n      <td>Ant/Int Uveitis                               ...</td>\n      <td>pars planitis</td>\n      <td>pars planitis</td>\n      <td>2</td>\n      <td>...</td>\n      <td>&lt;0.4 (Negative)</td>\n      <td>&lt;0.2</td>\n      <td>U</td>\n      <td>&lt;0.4 (Negative)</td>\n      <td>&lt;10</td>\n      <td>IU/mL</td>\n      <td>&lt;13</td>\n      <td>NEGATIVE</td>\n      <td>NEGATIVE</td>\n      <td>NEGATIVE</td>\n    </tr>\n    <tr>\n      <th>2</th>\n      <td>3</td>\n      <td>Female</td>\n      <td>White</td>\n      <td>Pan</td>\n      <td>Systemic</td>\n      <td>NaN</td>\n      <td>VKH</td>\n      <td>VKH</td>\n      <td>NaN</td>\n      <td>0.5</td>\n      <td>...</td>\n      <td>NaN</td>\n      <td>NaN</td>\n      <td>NaN</td>\n      <td>NaN</td>\n      <td>&lt;10</td>\n      <td>IU/mL</td>\n      <td>&lt;13</td>\n      <td>NEGATIVE</td>\n      <td>NEGATIVE</td>\n      <td>NEGATIVE</td>\n    </tr>\n    <tr>\n      <th>3</th>\n      <td>4</td>\n      <td>Female</td>\n      <td>White</td>\n      <td>Anterior</td>\n      <td>Idiopathic</td>\n      <td>NaN</td>\n      <td>chronic idiopathic anterior uveitis           ...</td>\n      <td>Idiopathic_anterior</td>\n      <td>NaN</td>\n      <td>0</td>\n      <td>...</td>\n      <td>NaN</td>\n      <td>NaN</td>\n      <td>NaN</td>\n      <td>NaN</td>\n      <td>&lt;15</td>\n      <td>IU/mL</td>\n      <td>&lt;15</td>\n      <td>NEGATIVE</td>\n      <td>NEGATIVE</td>\n      <td>NEGATIVE</td>\n    </tr>\n    <tr>\n      <th>4</th>\n      <td>5</td>\n      <td>Female</td>\n      <td>Unknown Race</td>\n      <td>Anterior</td>\n      <td>Idiopathic</td>\n      <td>NaN</td>\n      <td>Acute Anterior Uveitis                        ...</td>\n      <td>Idiopathic_anterior</td>\n      <td>NaN</td>\n      <td>0</td>\n      <td>...</td>\n      <td>NaN</td>\n      <td>NaN</td>\n      <td>NaN</td>\n      <td>NaN</td>\n      <td>&lt;10</td>\n      <td>IU/mL</td>\n      <td>&lt;13</td>\n      <td>NEGATIVE</td>\n      <td>NEGATIVE</td>\n      <td>NEGATIVE</td>\n    </tr>\n    <tr>\n      <th>...</th>\n      <td>...</td>\n      <td>...</td>\n      <td>...</td>\n      <td>...</td>\n      <td>...</td>\n      <td>...</td>\n      <td>...</td>\n      <td>...</td>\n      <td>...</td>\n      <td>...</td>\n      <td>...</td>\n      <td>...</td>\n      <td>...</td>\n      <td>...</td>\n      <td>...</td>\n      <td>...</td>\n      <td>...</td>\n      <td>...</td>\n      <td>...</td>\n      <td>...</td>\n      <td>...</td>\n    </tr>\n    <tr>\n      <th>1070</th>\n      <td>1071</td>\n      <td>Male</td>\n      <td>Asian</td>\n      <td>Pan</td>\n      <td>Infectious</td>\n      <td>granulomatous</td>\n      <td>TB assoc granulomatous panuveitis</td>\n      <td>Tuberculosis</td>\n      <td>NaN</td>\n      <td>0</td>\n      <td>...</td>\n      <td>&lt;0.4 (Negative)</td>\n      <td>0.7</td>\n      <td>U</td>\n      <td>&lt;0.4 (Negative)</td>\n      <td>&lt;15</td>\n      <td>IU/mL</td>\n      <td>&lt;15</td>\n      <td>NEGATIVE</td>\n      <td>NEGATIVE</td>\n      <td>NEGATIVE</td>\n    </tr>\n    <tr>\n      <th>1071</th>\n      <td>1072</td>\n      <td>Male</td>\n      <td>Unknown Race</td>\n      <td>Intermediate</td>\n      <td>Idiopathic</td>\n      <td>NaN</td>\n      <td>NG anterior and intermediate uveitis</td>\n      <td>pars planitis</td>\n      <td>pars planitis</td>\n      <td>0</td>\n      <td>...</td>\n      <td>NaN</td>\n      <td>NaN</td>\n      <td>NaN</td>\n      <td>NaN</td>\n      <td>&lt;15</td>\n      <td>IU/mL</td>\n      <td>&lt;15</td>\n      <td>NEGATIVE</td>\n      <td>NEGATIVE</td>\n      <td>NEGATIVE</td>\n    </tr>\n    <tr>\n      <th>1072</th>\n      <td>1073</td>\n      <td>Female</td>\n      <td>Unknown Race</td>\n      <td>Posterior</td>\n      <td>Infectious</td>\n      <td>NaN</td>\n      <td>toxoplasmosis retinochoroiditis</td>\n      <td>Toxoplasmosis</td>\n      <td>NaN</td>\n      <td>0</td>\n      <td>...</td>\n      <td>NaN</td>\n      <td>NaN</td>\n      <td>NaN</td>\n      <td>NaN</td>\n      <td>&lt;15</td>\n      <td>IU/mL</td>\n      <td>&lt;15</td>\n      <td>NEGATIVE</td>\n      <td>NEGATIVE</td>\n      <td>NEGATIVE</td>\n    </tr>\n    <tr>\n      <th>1073</th>\n      <td>1074</td>\n      <td>Female</td>\n      <td>Asian</td>\n      <td>Posterior</td>\n      <td>WDS</td>\n      <td>NaN</td>\n      <td>ampiginous-like chorioretinopathy</td>\n      <td>WDS</td>\n      <td>WDS</td>\n      <td>0</td>\n      <td>...</td>\n      <td>NaN</td>\n      <td>NaN</td>\n      <td>NaN</td>\n      <td>NaN</td>\n      <td>&lt;15</td>\n      <td>IU/mL</td>\n      <td>&lt;15</td>\n      <td>NEGATIVE</td>\n      <td>NEGATIVE</td>\n      <td>NEGATIVE</td>\n    </tr>\n    <tr>\n      <th>1074</th>\n      <td>1075</td>\n      <td>Male</td>\n      <td>White</td>\n      <td>Posterior</td>\n      <td>Nonneoplastic masquerade</td>\n      <td>NaN</td>\n      <td>AIR (+ anti-retinal antibodies)</td>\n      <td>Nonneoplastic masquerade</td>\n      <td>NaN</td>\n      <td>0</td>\n      <td>...</td>\n      <td>0.0-10.0</td>\n      <td>NEGATIVE</td>\n      <td>units</td>\n      <td>0.0-10.0</td>\n      <td>&lt;15</td>\n      <td>IU/mL</td>\n      <td>&lt;15</td>\n      <td>NEGATIVE</td>\n      <td>NEGATIVE</td>\n      <td>NEGATIVE</td>\n    </tr>\n  </tbody>\n</table>\n<p>1075 rows × 118 columns</p>\n</div>"
     },
     "execution_count": 166,
     "metadata": {},
     "output_type": "execute_result"
    }
   ],
   "source": [
    "#read data\n",
    "df1 = pipe.read_data(rel_path)\n",
    "\n",
    "#rename columns of df1 according to external excel source\n",
    "df1 = pipe.rename(df1, list_path)\n",
    "print(list(df1.columns))\n",
    "\n",
    "#return list of all columns with specific dtype\n",
    "num_columns = pipe.list_of_totype(list_path, col_index_name, col_data_type_name, data_type)\n",
    "\n",
    "\n",
    "df1"
   ],
   "metadata": {
    "collapsed": false,
    "pycharm": {
     "name": "#%%\n"
    }
   }
  },
  {
   "cell_type": "code",
   "execution_count": 195,
   "outputs": [
    {
     "name": "stdout",
     "output_type": "stream",
     "text": [
      "new col name\n",
      "id                         numerical\n",
      "gender                   categorical\n",
      "race                     categorical\n",
      "loc                      categorical\n",
      "cat                      categorical\n",
      "                            ...     \n",
      "UOM36                           char\n",
      "Range36                          NaN\n",
      "HBc (HepB core) Ab       categorical\n",
      "HBs (HepB surface) Ag    categorical\n",
      "HCV (HepC) Ab            categorical\n",
      "Name: data_type, Length: 118, dtype: object\n",
      "                                                 id\n",
      "0                                                id\n",
      "1                                           Calcium\n",
      "2                             Lactate Dehydrogenase\n",
      "3   C-Reactive Protein, Normal and High Sensitivity\n",
      "4                                               WBC\n",
      "5                                               RBC\n",
      "6                                        Hemoglobin\n",
      "7                                        Hematocrit\n",
      "8                                               MCV\n",
      "9                                               MCH\n",
      "10                                             MCHC\n",
      "11                                              RDW\n",
      "12                                   Platelet Count\n",
      "13                                     Neutrophil %\n",
      "14                                    Lymphocytes %\n",
      "15                          Angiotensin Conv#Enzyme\n",
      "16                             Beta-2-Microglobulin\n",
      "17                                 Lysozyme, Plasma\n",
      "18                                     Anti-Dnase B\n",
      "19                                    Complement C3\n",
      "20                                    Complement C4\n",
      "21                                Rheumatoid Factor\n",
      "                                                 id\n",
      "0                                                id\n",
      "1                                           Calcium\n",
      "2                             Lactate Dehydrogenase\n",
      "3   C-Reactive Protein, Normal and High Sensitivity\n",
      "4                                               WBC\n",
      "5                                               RBC\n",
      "6                                        Hemoglobin\n",
      "7                                        Hematocrit\n",
      "8                                               MCV\n",
      "9                                               MCH\n",
      "10                                             MCHC\n",
      "11                                              RDW\n",
      "12                                   Platelet Count\n",
      "13                                     Neutrophil %\n",
      "14                                    Lymphocytes %\n",
      "15                          Angiotensin Conv#Enzyme\n",
      "16                             Beta-2-Microglobulin\n",
      "17                                 Lysozyme, Plasma\n",
      "18                                     Anti-Dnase B\n",
      "19                                    Complement C3\n",
      "20                                    Complement C4\n",
      "21                                Rheumatoid Factor\n"
     ]
    }
   ],
   "source": [
    "#function to return list of columns to convert to which data type (with choice) according to given list\n",
    "\n",
    "\n",
    "def list_of_totype(list_path, col_index_name, col_data_type_name=\"data_type\", data_type=\"numerical\"):\n",
    "    \"\"\"\n",
    "    Return list of columns, selected based on their data types from custom excel list\n",
    "    -----\n",
    "    :param list_path: path of excel document to read data type from\n",
    "    :param col_index_name: index column to use (column name of data type)\n",
    "    :param col_data_type_name: name of column where data type is stored\n",
    "    :param data_type: type of data desired. Should be numerical, categorical, char or both (appelation for edge cases)\n",
    "\n",
    "    :return: returns a list of column names with the desired data type\n",
    "    \"\"\"\n",
    "    col = pd.read_excel(list_path, index_col = col_index_name)[col_data_type_name] #get content of column with name data_type\n",
    "    print(col)\n",
    "    col_to_type = col.where(col == data_type).dropna().index.tolist()\n",
    "    col_to_type = pipe.rename(pd.DataFrame(col_to_type), list_path)\n",
    "    return col_to_type\n",
    "\n",
    "item_filter = list_of_totype(list_path, col_index_name, col_data_type_name, data_type)\n",
    "print(item_filter)"
   ],
   "metadata": {
    "collapsed": false,
    "pycharm": {
     "name": "#%%\n"
    }
   }
  },
  {
   "cell_type": "code",
   "execution_count": 194,
   "outputs": [],
   "source": [
    "#this function is pretty useless alone\n",
    "def problem_columns(matches, desired_dtype):\n",
    "    \"\"\"\n",
    "    Return all columns and their content that couldn't be correctly coerced to a desired dtype\n",
    "    -----\n",
    "    :param matches: feeded from another function\n",
    "    :param desired_dtype: a list or string that contains the desired data_types that were transformed correctly\n",
    "\n",
    "    :return: returns a dataframe with all the problematic columns\n",
    "    \"\"\"\n",
    "    for key, value in matches.iteritems():\n",
    "        #print(key, value)\n",
    "        if value.dtype in desired_dtype:\n",
    "            print(\"\\n\", key, \"is desired\", value.dtype, \"and will be popped from problematic list \\n\")\n",
    "            matches.pop(key)\n",
    "        else:\n",
    "            print(key, \"has unwanted dtype, keeping for transformation\")\n",
    "    return matches"
   ],
   "metadata": {
    "collapsed": false,
    "pycharm": {
     "name": "#%%\n"
    }
   }
  },
  {
   "cell_type": "code",
   "execution_count": 190,
   "outputs": [],
   "source": [
    "#function to coerce columns to desired datatype\n",
    "def coerce_then_problems(dframe, list_path, col_index_name, col_data_type_name, data_type, desired_dtype):\n",
    "    \"\"\"\n",
    "    Coerce with convert_dtypes pandas function all columns from the list_of_totype. Those that fail to\n",
    "    be converted into the desired dtype will be compiled into a dataframe for next steps\n",
    "    -----\n",
    "    :param dframe: dataframe to be checked and wrecked\n",
    "    :param list_path: path of excel document to read data type from\n",
    "    :param col_index_name: index column to use (column name of data type)\n",
    "    :param col_data_type_name: name of column where data type is stored\n",
    "    :param data_type: type of data desired. Should be numerical, categorical, char or both (appelation for edge cases)\n",
    "    :param desired_dtype: a list or string that contains the desired data_types that were transformed correctly\n",
    "\n",
    "    :return: a dataframe with values that couldn't be coerced to the desired data_type automagically via convert_dtypes()\n",
    "    \"\"\"\n",
    "\n",
    "    item_filter = list_of_totype(list_path, col_index_name, col_data_type_name, data_type)\n",
    "    matches = dframe.filter(items = item_filter).convert_dtypes()\n",
    "    print(matches)\n",
    "    matches = problem_columns(matches, desired_dtype)\n",
    "    return matches"
   ],
   "metadata": {
    "collapsed": false,
    "pycharm": {
     "name": "#%%\n"
    }
   }
  },
  {
   "cell_type": "code",
   "execution_count": 191,
   "outputs": [
    {
     "name": "stdout",
     "output_type": "stream",
     "text": [
      "new col name\n",
      "id                         numerical\n",
      "gender                   categorical\n",
      "race                     categorical\n",
      "loc                      categorical\n",
      "cat                      categorical\n",
      "                            ...     \n",
      "UOM36                           char\n",
      "Range36                          NaN\n",
      "HBc (HepB core) Ab       categorical\n",
      "HBs (HepB surface) Ag    categorical\n",
      "HCV (HepC) Ab            categorical\n",
      "Name: data_type, Length: 118, dtype: object\n",
      "        id\n",
      "0        1\n",
      "1        2\n",
      "2        3\n",
      "3        4\n",
      "4        5\n",
      "...    ...\n",
      "1070  1071\n",
      "1071  1072\n",
      "1072  1073\n",
      "1073  1074\n",
      "1074  1075\n",
      "\n",
      "[1075 rows x 1 columns]\n",
      "\n",
      " id is desired Int64 and will be popped from problematic list \n",
      "\n",
      "[]\n"
     ]
    }
   ],
   "source": [
    "#create dataframe with columns that contain a mix of strings and numerical values\n",
    "problem_df = coerce_then_problems(df1, list_path, col_index_name, col_data_type_name, data_type, desired_dtype)\n",
    "problem_columns = list(problem_df)\n",
    "print(problem_columns)\n",
    "\n",
    "#function that iterates trough columns given by previous function to coerce values that aren't numerical in nature to something else (0, , NaN, NA, 99)\n"
   ],
   "metadata": {
    "collapsed": false,
    "pycharm": {
     "name": "#%%\n"
    }
   }
  },
  {
   "cell_type": "code",
   "execution_count": null,
   "outputs": [],
   "source": [],
   "metadata": {
    "collapsed": false,
    "pycharm": {
     "name": "#%%\n"
    }
   }
  }
 ],
 "metadata": {
  "kernelspec": {
   "display_name": "Python 3",
   "language": "python",
   "name": "python3"
  },
  "language_info": {
   "codemirror_mode": {
    "name": "ipython",
    "version": 2
   },
   "file_extension": ".py",
   "mimetype": "text/x-python",
   "name": "python",
   "nbconvert_exporter": "python",
   "pygments_lexer": "ipython2",
   "version": "2.7.6"
  }
 },
 "nbformat": 4,
 "nbformat_minor": 0
}