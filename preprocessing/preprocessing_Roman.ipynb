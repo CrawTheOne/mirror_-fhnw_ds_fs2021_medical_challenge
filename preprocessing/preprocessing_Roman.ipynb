{
 "cells": [
  {
   "cell_type": "markdown",
   "source": [
    "TODO:\n",
    "- Describe HBc.. Columns"
   ],
   "metadata": {
    "collapsed": false
   }
  },
  {
   "cell_type": "markdown",
   "source": [
    "# 4Da Medical Data Analysis and Visualisation FS\n",
    "**Authors:** Roman Studer, Alexandre Rau\n",
    "\n",
    "**Goal:** The goal of the Medical Challenge is the automated classification of the eye disease uveities. The goal is to find the best possible model for classifying the disease based on a data set of +1000 patients. Important features for the prediction are to be identified."
   ],
   "metadata": {
    "collapsed": false
   }
  },
  {
   "cell_type": "markdown",
   "source": [
    "## Detailed Description\n",
    "The detailed description was taken from the job description on the [DS-Spaces website](https://ds-spaces.technik.fhnw.ch/medical-data-analysis-and-visualisation-fs/#menu-second) on 08/03/2021: \n",
    "\n",
    "In this international challenge, you will work in collaboration with Prof. Dr. Nida Şen (MD, MHS, Director of the Uveitis Clinic at the National Eye Institute, Washington DC) and her team, including Dr. Shilpa Kodati. Dr. David Kuo (MD, Biomed Eng.) of University of California, San Diego is also glad to support to project (in an asynchronous manner due to the large differences in time zones). You can listen to a 25-min podcast interview with Dr. Şen to get a first impression of her research agenda. Using real data obtained from 1075 patients with 55 markers (more  detailed description below), you will delve into computational methods for medical research to identify which markers are relevant for the diagnosis of uveitis, a common eye disease. \n",
    "\n",
    "**International and interdisciplinary** setting As the description above suggests, an exciting and challenging aspect of this challenge is in its interdisciplinarity and internationality. You will experience different academic cultures, professional roles/backgrounds and fully practice your English in a professional setting. The collaborative international work means several virtual meetings with our international partner and requires some flexibility due to time zones. These interactions will serve as an opportunity to practice and reflect on questions related to intercultural competence, i.e., intercultural communication and collaboration. Since it is a medical challenge you will also need to learn new terminology and communicate your ideas to a client of a different field.\n",
    "\n",
    "**Description of the disease**  Uveitis is a group of inflammatory diseases of the uveal tract of the eye. It is a sight-threatening autoimmune disease and it is responsible for approximately 10-15% of blindness. This disease has a real and sizable impact: Besides its life-changing negative implications for the individual, it also has consequences for the society, because it affects people in their most productive work years and thus leads to a socioeconomic burden. Uveitis is a multifactorial condition and its causes are not fully understood despite recent advances. Challenges in clinical uveitis research include disease heterogeneity, lack of understanding of what triggers and what propagates the disease. \n",
    "\n",
    "## Tasks\n",
    "Imagine that you are a part of a scientific team, working in the team’s data science unit. The above-mentioned dataset, already pre-processed & cleaned, is delivered to you with the following request: Using an exploratory (agnostic) data science and machine learning approach, analyze which of the variables might \n",
    "\n",
    "a) have strong correlations with each other, and with the diagnosed diseases of patients and patient groups\n",
    "\n",
    "b) lead to the identification (prediction) of the uveitis subtypes which may inform eventual diagnosis\n",
    "\n",
    "c) compare the HLA haplotypes in healthy controls to those in the project data, check if they correlate with specific subgroups. This will help verifying genetic predictors of certain subtypes of disease in this uveitis cohort. Data from healthy controls, i.e., normative data is publicly available as a separate data set (also see “Data” section below)\n",
    "\n",
    "d) analyze if the steps in the preprocessing could be improved\n",
    "\n",
    "e) which missing value strategy is best.\n",
    "\n",
    "We expect that you use a combination of exploratory data analysis (see competence ‘eda‘) probability testing, machine learning (see competences ule, sul) and visual analytics (see competence ‘van‘) to conduct your analyses. Using machine learning (ML), you will search for patterns and anomalies in the data, profile patients and/or patient groups (e.g., genetic profiles or patient history, their state vs. normative baseline data). Using visual analytics (VA) you will visualize/plot to demonstrate the relationships between variables and what ML detects using multiple linked views.\n",
    "\n",
    "The project management will be inspired in scrum. Code and artifacts should be documented in a git repository. After 1 or 2 weeks in the project a proposal of focus of the challenge group should be submitted to the challenge owners, preferably with a rough roadmap.\n",
    "\n",
    "As a data scientist, you will need to interpret and give context to your findings in order to enhance their value.\n",
    "\n",
    "You may also explore (optional) visualizing ML algorithm’s decisions (as a meta tool to make ML “understandable”). Such an analysis will facilitate the dialogue with the domain expert when analyzing which factor was (potentially) responsible for which impact. Note that understandable (explainable, interpretable) machine learning is a large and advanced topic. If you are curious about it, a good starting point maybe to learn about the decision tree concept: Decision Tree for starters is although fine: https://www.youtube.com/watch?v=qB8HZpwqPEg\n",
    "\n",
    "We will guide you both by providing you some materials from this space and guiding you to the relevant competences. When you have suggestions and questions, please use the “Stream” space, also answer each other’s questions, come to our sessions (see “timelines”), or when it is really needed, request appointments. Main tools for communication should be the “Stream” and the provided office hours.\n",
    "\n",
    "## Approach\n",
    "1. Exploratory data analysis (EDA)\n",
    "\n",
    "This inital step acts as the foundation of the project. By analyzing the data set, initial questions of understanding can be clarified and necessary steps for preparing the data set can be found. Strategies for imputation of missing, btw. wrong values are also considered here.\n",
    "\n",
    "2. Data Preprocessing\n",
    "\n",
    "In parallel with the EDA process, the first transformations of the data are carried out. This includes, for example, normalization and simplification of column names, adaptation of the data types of individual features and elimination of entry errors.\n",
    "\n",
    "3. Feature extraction\n",
    "\n",
    "The data set is not in a \"Tidy Data\" state. This means that there are columns that contain more than one piece of information, i.e. more than one feature. Furthermore, columns exist that have values which should be transferred to more than one column. This step is necessary to prepare the dataset for a preprocessing pipeline that allows to transform the dataset for a machine learning model.\n",
    "\n",
    "4. Preprocessing pipeline\n",
    "\n",
    "At this point, the dataset was prepared in such a way that, with the support of the library sklearn.preprocessing, the dataset can be processed in such a way that a machine learning algorithm can work with it. \n",
    "\n",
    "5. Setup modular environment to test multiple algorithms\n",
    "\n",
    "By using the pipeline module of the sklearn library, we can build a modular environment that allows us to quickly apply and evaluate different machine learning algorithms.\n",
    "\n",
    "6. Identify useful models\n",
    "\n",
    "Of the models tested, the most promising can be taken out. Through parameter optimization, these can be refined to achieve higher accuracy. \n",
    "\n",
    "7. Identify useful features\n",
    "\n",
    "Depending on the algorithm, the influence of a feature is identifiable. This influence of individual features can be checked or increased by various methods.\n",
    "\n",
    "8. Document findings\n",
    "\n",
    "The insights gained will be recorded in a conference paper."
   ],
   "metadata": {
    "collapsed": false
   }
  },
  {
   "cell_type": "code",
   "execution_count": 39,
   "outputs": [],
   "source": [
    "# imports, libraries\n",
    "import pandas as pd\n",
    "import numpy as np\n",
    "import seaborn as sns\n",
    "import matplotlib.pyplot as plt\n",
    "import regex as re\n",
    "from sklearn.preprocessing import StandardScaler, Binarizer, LabelEncoder, Normalizer, OneHotEncoder\n",
    "from sklearn.impute import SimpleImputer\n",
    "from sklearn.compose import ColumnTransformer\n",
    "from sklearn.pipeline import Pipeline\n",
    "import os\n",
    "\n",
    "# import helperfunctions\n",
    "import pipe\n",
    "#import preprocessing.pipe as pipe"
   ],
   "metadata": {
    "collapsed": false,
    "pycharm": {
     "name": "#%%\n"
    }
   }
  },
  {
   "cell_type": "code",
   "execution_count": 40,
   "outputs": [],
   "source": [
    "os.getcwd()\n",
    "#os.chdir(\"D:/Drive/FHNW/zaRepos/fhnw_ds_fs2021_medical_challenge/preprocessing\")"
   ],
   "metadata": {
    "collapsed": false,
    "pycharm": {
     "name": "#%%\n"
    }
   }
  },
  {
   "cell_type": "markdown",
   "source": [
    "## Import and Renaming\n",
    "The dataset is imported with pandas `read_excel()`. The naming of the features, i.e. the names of the columns is not uniform. The features are renamed with the function `pipe.rename()`, which can be found in the script pipe.py, based on a given list. The list can be consulted in the document \"col_names&data_type-Copy1.xlsx\". All features are renamed in lowercase, and preceding and trailing spaces are removed. Brackets and their contents, e.g. \"(Blood)\", are removed. These would only complicate the readability of the code and are recognizable from the context as well as the name of the feature."
   ],
   "metadata": {
    "collapsed": false
   }
  },
  {
   "cell_type": "code",
   "execution_count": 41,
   "outputs": [],
   "source": [
    "# import dataframe\n",
    "df = pd.read_excel(\"../data/uveitis_data.xlsx\")\n",
    "assert len(df) >= 1075, \"Data is not complete\"\n",
    "\n",
    "# rename columns\n",
    "df = pipe.rename(df, \"../data/col_names&data_type-Copy1.xlsx\")"
   ],
   "metadata": {
    "collapsed": false,
    "pycharm": {
     "name": "#%%\n"
    }
   }
  },
  {
   "cell_type": "code",
   "execution_count": 42,
   "outputs": [],
   "source": [
    "df = df.applymap(lambda x: x.strip() if isinstance(x, str) else x)"
   ],
   "metadata": {
    "collapsed": false,
    "pycharm": {
     "name": "#%%\n"
    }
   }
  },
  {
   "cell_type": "code",
   "execution_count": 43,
   "outputs": [
    {
     "name": "stdout",
     "output_type": "stream",
     "text": [
      "The following columns have been removed from the dataset:\n",
      "\n",
      "                       index     ratio\n",
      "70              anti-dnase_b  0.996279\n",
      "5                     other_  0.790698\n",
      "8                      notes  0.790698\n",
      "60      beta-2-microglobulin  0.657674\n",
      "63       lupus_anticoagulant  0.651163\n",
      "106       myeloperoxidase_ab  0.624186\n",
      "109  proteinase-3_antibodies  0.621395\n"
     ]
    }
   ],
   "source": [
    "df = pipe.drop_nan_columns(df, nan_percentage=.5, verbose = True)"
   ],
   "metadata": {
    "collapsed": false,
    "pycharm": {
     "name": "#%%\n"
    }
   }
  },
  {
   "cell_type": "code",
   "execution_count": 44,
   "outputs": [],
   "source": [
    "# df = pipe.drop_via_filter(test, 'range', verbose=True)"
   ],
   "metadata": {
    "collapsed": false,
    "pycharm": {
     "name": "#%%\n"
    }
   }
  },
  {
   "cell_type": "markdown",
   "source": [
    "# Categorical Features\n",
    "This section deals with categorical variables that can be taken as such directly from the dataset. There are features/variables that contain both categorical and numerical values. These are treated seperately. For each feature, a description is given of how it was processed. Mostly it is a simple normalization of the values, uniformization of values that contain the same information or removal of wrong or useless values. The decision to evaluate a value as \"missing\" is discussed in each case. All changes made can be adjusted or undone.\n",
    "\n"
   ],
   "metadata": {
    "collapsed": false
   }
  },
  {
   "cell_type": "markdown",
   "source": [
    "## Feature Description \n",
    "- **Gender**, a qualitative, nominal feature describing the patients gender. A patient can either be in the \"male\" or \"female\" category.\n",
    "\n",
    "- **Race** describes the patients ethnicity.\n",
    "\n",
    "- **Location** locates the position of the inflammation in the eye. A distinction is made between posterior, anterior, intermediate, etc. \n",
    "\n",
    "- The feature **Categorical** records the source of the inflammation as seen by the specialists who recorded the data. Uveitis can be caused by systemic problems, infections, or often idopathic.\n",
    "\n",
    "- **EHR Diagnosos** is an electronic transmited diagnose, usually given beforehand by another doctor, that has had no knowledge about the lab tests and final diagnosis.\n",
    "\n",
    "- **Specific Diagnosis** is the diagnosis given by the team that collected the data. According to Dr. Nida Sen this is one of the most important outcome variables. This variable will be consired to be the target feature. \n",
    "\n",
    "- **AC Abn Od Cells and AC Abn Os Cells**. These qualitative, ordinal features describe the severity of the inflammation of the Anterior Chamber Cells (AC) in either the left eye (OS) or the right eye (OD). The inflammation can be rated as 0, +0.5, +1, +2, +3, +4. The higher the value the more severe the inflammation is. If either one of these values a patient can be considered as \"Active\", else as \"Quiet\". This information could be recorded in a new column.\n",
    "\n",
    "- **Vit Abn Od Cells, Vit Abn Os Cells, Vit Abn Od Haze and Vit Abn Os Haze** describe (similar to AC Abn O...) the inflammation of cells in the left (OS) and right (OD) eye. The same scale of 0, +0.5, +1, +2, +3, +4 is used. If one of the values is higher than 0 the patient is considered to be \"Active\" as well. This information can be recorded in a new column as well. \n",
    "\n",
    "- **HBc (HepB core) Ab (Blood), HBs (HepB surface) Ag (Blood), HCV (HepC) Ab (Blood)** \n",
    "\n",
    "Features that contain categorical and numerical information will be discussed in a later chapter."
   ],
   "metadata": {
    "collapsed": false
   }
  },
  {
   "cell_type": "markdown",
   "source": [
    "### Gender\n",
    "\n",
    "This features containes the gender of the patient (\"female\" or \"male\") and is currently of the data type 'Object' ('O'). This feature gets transfromed to the dtype 'catgory' via the `pd.DataFrame.astype('category')`-function. This way it can later on easily be OneHotEncoded. "
   ],
   "metadata": {
    "collapsed": false
   }
  },
  {
   "cell_type": "code",
   "execution_count": 45,
   "outputs": [
    {
     "data": {
      "text/plain": "['Male', 'Female']"
     },
     "execution_count": 45,
     "metadata": {},
     "output_type": "execute_result"
    }
   ],
   "source": [
    "df.gender.unique().tolist() # categories in feature 'gender'"
   ],
   "metadata": {
    "collapsed": false,
    "pycharm": {
     "name": "#%%\n"
    }
   }
  },
  {
   "cell_type": "code",
   "execution_count": 46,
   "outputs": [
    {
     "data": {
      "text/plain": "dtype('O')"
     },
     "execution_count": 46,
     "metadata": {},
     "output_type": "execute_result"
    }
   ],
   "source": [
    "df.gender.dtype # dtype before transformation"
   ],
   "metadata": {
    "collapsed": false,
    "pycharm": {
     "name": "#%%\n"
    }
   }
  },
  {
   "cell_type": "code",
   "execution_count": 47,
   "outputs": [
    {
     "data": {
      "text/plain": "CategoricalDtype(categories=['Female', 'Male'], ordered=False)"
     },
     "execution_count": 47,
     "metadata": {},
     "output_type": "execute_result"
    }
   ],
   "source": [
    "# gender\n",
    "def gender_dtype(df):\n",
    "    df.gender = df.gender.astype('category')\n",
    "    return df\n",
    "\n",
    "df = gender_dtype(df)\n",
    "df.gender.dtype # dtype after transformation"
   ],
   "metadata": {
    "collapsed": false,
    "pycharm": {
     "name": "#%%\n"
    }
   }
  },
  {
   "cell_type": "markdown",
   "source": [
    "### Race\n",
    "The categorical variable \"Race\" includes the category \"race or ethnic group data not provided by source\". These values are treated as missing values, aka in the category 'unknown', since they do not contain any information about the respective person. \"race or ethnic group data not provided by source\" and \"unknown race\" collaps into the category \"unknown\". Missing values (NaN's) are also marked with 'unknown'"
   ],
   "metadata": {
    "collapsed": false
   }
  },
  {
   "cell_type": "code",
   "execution_count": 48,
   "outputs": [
    {
     "data": {
      "text/plain": "White                                        490\nBlack/African American                       381\nAsian                                         94\nunknown                                       75\nMultiracial                                   31\nNative Hawaiian or Other Pacific Islander      3\nAmerican Indian or Alaska Native               1\nName: race, dtype: int64"
     },
     "execution_count": 48,
     "metadata": {},
     "output_type": "execute_result"
    }
   ],
   "source": [
    "def preprocessing_race(df):\n",
    "    df.race = df.race.replace({'Race or Ethnic Group Data Not Provided by Source':'unknown', \n",
    "                               'Unknown Race':'unknown'})\n",
    "    df.race = df.race.fillna(value='unknown')\n",
    "    df.race = df.race.astype('category')\n",
    "    assert df.race.isna().sum() == 0, 'Not all missing values are treated'\n",
    "    return df\n",
    "    \n",
    "df = preprocessing_race(df)\n",
    "df.race.value_counts()"
   ],
   "metadata": {
    "collapsed": false,
    "pycharm": {
     "name": "#%%\n"
    }
   }
  },
  {
   "cell_type": "markdown",
   "source": [
    "TODO: Categories with less than 10 values, aka 'Native Hawaiian or Other Pacific Islander', 'American Indian or Alaska Native' may should be collapsed or discarded,"
   ],
   "metadata": {
    "collapsed": false
   }
  },
  {
   "cell_type": "markdown",
   "source": [
    "### loc, \"Location\"\n",
    "The loc-Feature indicates the location of the inflammation of the eye. The category 'pan' is the same as 'panuveitis' and can be collapsed. \n",
    "We want to explore two diffrent approaches to treat this feature:\n",
    "\n",
    "1. We keep the categories 'anterior', 'intermediate', 'panuveitis', 'posterior' and 'sclerits'. All categories indicate a diffrent section of the eye (or multiple at once) that show inflammation. \n",
    "2. We collapse mutliple categories to get an 'anterior' and 'posterior' category. Aka, collapse the location to inflammations in the front and the back of the eye (binary feature). To achieve this we collapse the categories 'intermediate', 'posterior' and 'panuveities' to the category \"posterior_segment\". 'anterior' and 'scleritis' get collapsed to the category 'anterior_segment'."
   ],
   "metadata": {
    "collapsed": false
   }
  },
  {
   "cell_type": "code",
   "execution_count": 49,
   "outputs": [
    {
     "name": "stdout",
     "output_type": "stream",
     "text": [
      "Categories: \n",
      "\n",
      "posterior       341\n",
      "anterior        242\n",
      "panuveitis      228\n",
      "intermediate    182\n",
      "scleritis        71\n",
      "Name: loc, dtype: int64\n"
     ]
    }
   ],
   "source": [
    "df = pipe.preprocessing_loc(df,'multi', verbose=True)"
   ],
   "metadata": {
    "collapsed": false,
    "pycharm": {
     "name": "#%%\n"
    }
   }
  },
  {
   "cell_type": "markdown",
   "source": [
    "### cat, \"Category\" \n",
    "The cat-feature describes the origin of the inflammation. For example infectious or idiopathic origin. \n",
    "We can collapse the categories \"nonneoplastic masquerade\" and \" neoplastic masquerade\" to not_uveitits. As these are \"pseudo-uveitis\"-types. The row with the single occurance of scleritis should be dropped as it has to few records with this category. The single occurance of NaN is a \"not_uveitis\" case and can be filled with that category."
   ],
   "metadata": {
    "collapsed": false
   }
  },
  {
   "cell_type": "code",
   "execution_count": 50,
   "outputs": [
    {
     "data": {
      "text/plain": "idiopathic                  530\nsystemic                    192\nnot_uveitis                 141\nwds                         124\ninfectious                   87\nscleritis                     0\nnonneoplastic masquerade      0\nneoplastic masquerade         0\nName: cat, dtype: int64"
     },
     "execution_count": 50,
     "metadata": {},
     "output_type": "execute_result"
    }
   ],
   "source": [
    "df = pipe.preprocessing_cat(df)\n",
    "df.cat.value_counts()"
   ],
   "metadata": {
    "collapsed": false,
    "pycharm": {
     "name": "#%%\n"
    }
   }
  },
  {
   "cell_type": "markdown",
   "source": [
    "### ehr_diagnosis\n",
    "EHR diagnosos is an electronic transmitted diagnosis, usually given beforehand by another doctor, not knowing about the lab results and final diagnosis. This feature contains a lot of diffrent categories (533 unique values). Because of that we drop this feature."
   ],
   "metadata": {
    "collapsed": false
   }
  },
  {
   "cell_type": "code",
   "execution_count": 51,
   "outputs": [],
   "source": [
    "df.drop(columns=['ehr_diagnosis'], inplace=True)"
   ],
   "metadata": {
    "collapsed": false,
    "pycharm": {
     "name": "#%%\n"
    }
   }
  },
  {
   "cell_type": "markdown",
   "source": [
    "### specific_diagnosis\n",
    "Specific diagnoses which occur less or equal to 10 times in the dataset get collapsed into the catgory 'other'"
   ],
   "metadata": {
    "collapsed": false
   }
  },
  {
   "cell_type": "code",
   "execution_count": 52,
   "outputs": [
    {
     "data": {
      "text/plain": "idiopathic_anterior      169\npars planitis            145\nnot_uveitis              137\nidiopathic_panuveitis    107\nwds                       92\nidiopathic_posterior      58\nidiopathic_scleritis      56\nvkh                       45\ntoxoplasmosis             34\npresumed_sarcoidosis      33\nbcr                       32\nother                     26\nbx_proven_sarcoidosis     26\nviral                     25\nrheumatologic             24\nhla_b27                   21\nbehcet                    19\ntuberculosis              13\nmultiple_sclerosis        12\nName: specific_diagnosis, dtype: int64"
     },
     "execution_count": 52,
     "metadata": {},
     "output_type": "execute_result"
    }
   ],
   "source": [
    "df = pipe.preprocessing_specific(df)\n",
    "df.specific_diagnosis.value_counts()"
   ],
   "metadata": {
    "collapsed": false,
    "pycharm": {
     "name": "#%%\n"
    }
   }
  },
  {
   "cell_type": "markdown",
   "source": [
    "### notes\n",
    "This column contains notes to the diagnosis and is mostly missing. This feature will be dropped at the end of the preprocessing."
   ],
   "metadata": {
    "collapsed": false
   }
  },
  {
   "cell_type": "code",
   "execution_count": 53,
   "outputs": [],
   "source": [
    "if 'notes' in df.columns:\n",
    "    print(df.note.isna().sum()/len(df))"
   ],
   "metadata": {
    "collapsed": false,
    "pycharm": {
     "name": "#%%\n"
    }
   }
  },
  {
   "cell_type": "markdown",
   "source": [
    "### ac_abn_...-columns and vit_abn_...-columns\n",
    "Replace 'C' as Missing and change dtype to 'float'"
   ],
   "metadata": {
    "collapsed": false
   }
  },
  {
   "cell_type": "code",
   "execution_count": 54,
   "outputs": [],
   "source": [
    "def preprocessing_inflammation(df, col = ['ac_abn_od_cells', 'ac_abn_os_cells', 'vit_abn_od_cells',\n",
    "       'vit_abn_os_cells', 'vit_abn_od_haze', 'vit_abn_os_haze']):\n",
    "    for c in col: \n",
    "        # replace 'C' (for missing) with NaN\n",
    "        df[c] = df[c].replace('C',np.nan)\n",
    "        df[c] = df[c].astype('float')\n",
    "        df[c] = pd.Categorical(values=df[c], categories=df[c].unique().sort(), ordered=True)\n",
    "    return df\n",
    "df = preprocessing_inflammation(df)"
   ],
   "metadata": {
    "collapsed": false,
    "pycharm": {
     "name": "#%%\n"
    }
   }
  },
  {
   "cell_type": "markdown",
   "source": [
    "### hbc__ab, hbs__ag and hcv__ab\n",
    "These columns encode the lab results for diffrent types of hepatitis. We encode these in binary form. Negative results are '0' and positive results get encoded as '1'. There are some cases where neither a positive or negative result can be identified. These values will be set as missing values. "
   ],
   "metadata": {
    "collapsed": false
   }
  },
  {
   "cell_type": "code",
   "execution_count": 55,
   "outputs": [],
   "source": [
    "def preprocessing_hepatitis(df, col=['hbc__ab', 'hbs__ag', 'hcv__ab'], verbose=False):\n",
    "    for c in col:\n",
    "        df[c] = df[c].str.lower()\n",
    "        df.loc[df[c] == 'negative', c] = 0\n",
    "        df.loc[df[c] == 'see note | positive result s/co ratio is >5.0.  confirmatory testing i', c] = 1\n",
    "        df.loc[df[c] == 'see below | positive result s/co ratio is >5.0.  confirmatory testing', c] = 1\n",
    "        df.loc[df[c] == 'reactive', c] = 1\n",
    "        df.loc[df[c] == 'repeat reactive', c] = 1\n",
    "        df.loc[df[c] == 'invalid result', c] = np.nan\n",
    "        df.loc[df[c] == 'note:', c] = np.nan\n",
    "        df[c] = df[c].astype('category')\n",
    "        if verbose:\n",
    "            print(df[c].value_counts())\n",
    "    return df\n",
    "df = preprocessing_hepatitis(df)\n"
   ],
   "metadata": {
    "collapsed": false,
    "pycharm": {
     "name": "#%%\n"
    }
   }
  },
  {
   "cell_type": "markdown",
   "source": [
    "### hla-columns\n",
    "These columns contain genetic data about the patients. This data should be used for a seperate model and thus will not be used (at least for now) and dropped. A function has been defined to drop these columns."
   ],
   "metadata": {
    "collapsed": false
   }
  },
  {
   "cell_type": "code",
   "execution_count": 56,
   "outputs": [],
   "source": [
    "# df = pipe.drop_via_filter(test, 'hla', verbose=True)"
   ],
   "metadata": {
    "collapsed": false,
    "pycharm": {
     "name": "#%%\n"
    }
   }
  },
  {
   "cell_type": "markdown",
   "source": [
    "## Numerical Features\n",
    "This section deals with numerical variables that can be extracted from the dataset. As mentioned before, there are features/variables that contain both categorical and numerical values. These are treated seperately. For each feature, a description is given of how it was processed. All numerical features are extracted using the same method. All changes made can be adjusted or undone."
   ],
   "metadata": {
    "collapsed": false
   }
  },
  {
   "cell_type": "markdown",
   "source": [
    "## Feauture Description\n",
    "\n",
    "- **id** a numerical, nominal feature describing unique to each patient. It has no other use than to serve as an index\n",
    "\n",
    "- **calcium** is the concentration in mmol/L (millimole per liter) of calcium in blood.\n",
    "\n",
    "- **lactate_dehydrogenase** describes the ammount in U/L (units per liter) of lactate_dehydrogenase, an enzyme present in alot of cells and if a high presence is detected in blood it usually indicates some form of tissue damage.\n",
    "\n",
    "- **c-reactive_protein,_normal_and_high_sensitivity** Protein, measured in mg/L, found in blood that rise in response to inflammation. Low sensitivity tests only go from 10-1000 mg/L while high sensitivity tests range from 0.5-10 mg/L. Helthy patients have CRP from 0.8-3 mg/L\n",
    "\n",
    "- **wbc** The number of white blood cells in blood. Measured in K/uL (thousands per microliter). Healthy US patient count is between 4000-11'000 (Source: Wikipedia 25.03.21)\n",
    "\n",
    "- **rbc** is the number of red blood cells in blood. Measured in M/uL (million per microliter)\n",
    "\n",
    "- **hemoglobin** is the amount in g/dL of proteins that allow the transport of oxygen (these are mostly contained inside the rbc and make up 96% of it's dry content)\n",
    "\n",
    "- **hematocrit** is the volume in % of red blood cells in blood\n",
    "\n",
    "- **mcv** is the mean (average) corpuscolar (cell) volume measured in fL (femtoliter) of red blood cells\n",
    "\n",
    "- **mch** is the mean (average) corpuscolar (cell) hemoglobin measured in pg (picogram) of the average mass of hemoglobin per red blood cell in a sample\n",
    "\n",
    "- **mchc** is the mean (average) corpuscolar (cell) hemoglobin concentration in g/dL (grams per deciliter) in a given volume of packed blood cells\n",
    "\n",
    "- **rdw** is the red blood cell distribution width. This value, measured in % is a measure of the range of variation of red blood cell volume\n",
    "\n",
    "- **platelet_count** is the number of platelets, measured in K/uL (thousands per microliter) contained in the blood\n",
    "\n",
    "- **neutrophil_%** is a specific type of wbc that make up 40-70% of all wbc in humans. Measured in %\n",
    "\n",
    "- **lymphocytes_%** is another type of wbc that make up 18-40% of all wbc in humans. Measured in %\n",
    "\n",
    "- **angiotensin_conv#enzyme** is the angiotensin-converting enzyme which if present in quantities, undirectly raises blood pressure. Measured in U/L (units per liter)\n",
    "\n",
    "- **beta-2-microglobulin** is measured in mg/L (milligrams per liter), is a component of molecules present in nucleated cells\n",
    "\n",
    "- **lysozyme,_plasma** is measured in mcg/mL (micrograms per milliliter), is a antimicrobial enzyme, part of the immune system\n",
    "\n",
    "- **anti-dnase-b** is measured in U/mL (units per milliliter). It measures the presence of antibodies that combat streptococcus\n",
    "\n",
    "- **complement_c3** is measured in mg/dL (milligrams per deciliter). It is a protein of the (innate) immune system\n",
    "\n",
    "- **complement_c4** is measured in mg/dL (milligrams per deciliter). It is a protein involved in immunity, tolerance, and autoimmunity\n",
    "\n",
    "- **rheumatoid_factor** is measured in IU/mL (International Unit per milliliter). It is an autoantibody and if higher than 20 IU/mL it indicates (80% of cases) rheumatoid arthritis"
   ],
   "metadata": {
    "collapsed": false
   }
  },
  {
   "cell_type": "markdown",
   "source": [
    "### id\n",
    "\n",
    "A primary key that references each patient. Each value is unique and seems to be ordered but there is none.\n",
    "\n",
    "### calcium\n",
    "\n",
    "This feature indicates the content of calcium inside of the blood. These are mostly decimal values that range from 1.9 to 2.75 and contain some string values. For these reason the column uses the data type 'Object' ('O'). This feature gets transformed into a numerical datatype 'float64'."
   ],
   "metadata": {
    "collapsed": false
   }
  },
  {
   "cell_type": "markdown",
   "source": [
    "### lactate_dehydrogenase\n",
    "\n",
    "This numerical variable, if containing a high value indicates the potential presence of tissue damage. While most occurencies are numerical, as for calcium some string values are present which gives this feature an object data type.\n"
   ],
   "metadata": {
    "collapsed": false
   }
  },
  {
   "cell_type": "markdown",
   "source": [
    "### c-reactive_protein,_normal_and_high_sensitivity\n",
    "\n",
    "This protein acts as an indicator of inflammation in the body. Ideally it would be a numerical column but some strings are contained inside, some containing special characters like > and <. These are tricky because we still want to try and keep their numerical importance without having to outright discard them.\n"
   ],
   "metadata": {
    "collapsed": false
   }
  },
  {
   "cell_type": "markdown",
   "source": [
    "### wbc\n",
    "\n",
    "A pretty straightforward feature. Indicates the number of white blood cells in blood. It seems like some values are abnormaly high which could indicate UOM inconsistencies. It also is encoded as an object data type so it also has to be transformed into numerical.\n"
   ],
   "metadata": {
    "collapsed": false
   }
  },
  {
   "cell_type": "markdown",
   "source": [
    "### rbc\n",
    "\n",
    "This feature is the count of red blood cells in blood. Also an object data type, to be converted into numerical\n"
   ],
   "metadata": {
    "collapsed": false
   }
  },
  {
   "cell_type": "markdown",
   "source": [
    "### hemoglobin\n",
    "\n",
    "A numerical feature, an object data type, to be converted into numeric"
   ],
   "metadata": {
    "collapsed": false
   }
  },
  {
   "cell_type": "markdown",
   "source": [
    "### hematocrit\n",
    "\n",
    "A numerical feature, an object data type, to be converted into numeric"
   ],
   "metadata": {
    "collapsed": false
   }
  },
  {
   "cell_type": "markdown",
   "source": [
    "### mcv\n",
    "\n",
    "A numerical feature, an object data type, to be converted into numeric\n"
   ],
   "metadata": {
    "collapsed": false
   }
  },
  {
   "cell_type": "markdown",
   "source": [
    "### mch\n",
    "\n",
    "A numerical feature, an object data type, to be converted into numeric\n"
   ],
   "metadata": {
    "collapsed": false
   }
  },
  {
   "cell_type": "markdown",
   "source": [
    "### mchc\n",
    "\n",
    "A numerical feature, an object data type, to be converted into numeric"
   ],
   "metadata": {
    "collapsed": false
   }
  },
  {
   "cell_type": "markdown",
   "source": [
    "### rdw\n",
    "\n",
    "A numerical feature, an object data type, to be converted into numeric"
   ],
   "metadata": {
    "collapsed": false
   }
  },
  {
   "cell_type": "markdown",
   "source": [
    "### platelet_count\n",
    "\n",
    "A numerical feature, an object data type, to be converted into numeric"
   ],
   "metadata": {
    "collapsed": false
   }
  },
  {
   "cell_type": "markdown",
   "source": [
    "### neutrophil_%\n",
    "\n",
    "A numerical feature, an object data type, to be converted into numeric\n"
   ],
   "metadata": {
    "collapsed": false
   }
  },
  {
   "cell_type": "markdown",
   "source": [
    "### lymphocytes_%\n",
    "\n",
    "A numerical feature, an object data type, to be converted into numeric"
   ],
   "metadata": {
    "collapsed": false
   }
  },
  {
   "cell_type": "markdown",
   "source": [
    "### angiotensin_conv#enzyme\n",
    "\n",
    "A numerical feature, an object data type, to be converted into numeric"
   ],
   "metadata": {
    "collapsed": false
   }
  },
  {
   "cell_type": "markdown",
   "source": [
    "### beta-2-microglobulin\n",
    "\n",
    "A numerical feature, an object data type, to be converted into numeric"
   ],
   "metadata": {
    "collapsed": false
   }
  },
  {
   "cell_type": "markdown",
   "source": [
    "### lysozyme,_plasma\n",
    "\n",
    "A numerical feature, an object data type, to be converted into numeric\n"
   ],
   "metadata": {
    "collapsed": false
   }
  },
  {
   "cell_type": "markdown",
   "source": [
    "### anti-dnase_b\n",
    "\n",
    "A numerical feature, an object data type, to be converted into numeric"
   ],
   "metadata": {
    "collapsed": false
   }
  },
  {
   "cell_type": "markdown",
   "source": [
    "### complement_c3\n",
    "\n",
    "A numerical feature, an object data type, to be converted into numeric"
   ],
   "metadata": {
    "collapsed": false
   }
  },
  {
   "cell_type": "markdown",
   "source": [
    "### complement_c4\n",
    "\n",
    "A numerical feature, an object data type, to be converted into numeric"
   ],
   "metadata": {
    "collapsed": false
   }
  },
  {
   "cell_type": "markdown",
   "source": [
    "### rheumatoid_factor\n",
    "\n",
    "A numerical feature, an object data type, to be converted into numeric"
   ],
   "metadata": {
    "collapsed": false
   }
  },
  {
   "cell_type": "markdown",
   "source": [
    "## Features containing both numerical and categorical values\n",
    "Certain columns don't follow the tidy data principle that only one datatyp should be existant in a column/feature.\n",
    "This chapter deals with said columns and either splits them into a numeric and categorical feature or changes values to reach a uniform datatyp over a column."
   ],
   "metadata": {
    "collapsed": false
   }
  },
  {
   "cell_type": "markdown",
   "source": [
    "### Anti-CCP Ab\n",
    "Anti-CCP is a numeric column with mostly values set to '<20'. A value below or at 20 is viewed as a negative result. Above 20 the result is positive. This allows for a binarization of the column. We set every value below or at 20 to 0 (aka 'negative') and all values above 20 to 1 (aka postive). Some values are still missing."
   ],
   "metadata": {
    "collapsed": false
   }
  },
  {
   "cell_type": "code",
   "execution_count": 57,
   "outputs": [],
   "source": [
    "# df = pipe.num_to_binary(df, 'anti-ccp_ab', 20)\n",
    "# df['anti-ccp_ab'].value_counts(dropna=False)"
   ],
   "metadata": {
    "collapsed": false,
    "pycharm": {
     "name": "#%%\n"
    }
   }
  },
  {
   "cell_type": "markdown",
   "source": [
    "### Anti-ENA Screen\n",
    "Anti-ENA Screen consists of mostly 'NEG' (Negative) Values (1001 out of 1075), we assume that the other, numerical values can be regarded as positive. We encode these into 0 (Negative) and 1 (Positive) values. The singel occurance of 'see note | In-house test down.  Test re-ordered and sent to Referral L' gets dropped and replaced with `np.nan`."
   ],
   "metadata": {
    "collapsed": false
   }
  },
  {
   "cell_type": "code",
   "execution_count": 58,
   "outputs": [],
   "source": [
    "# df['anti-ena_screen'].value_counts(dropna=False)"
   ],
   "metadata": {
    "collapsed": false,
    "pycharm": {
     "name": "#%%\n"
    }
   }
  },
  {
   "cell_type": "markdown",
   "source": [
    "### Antinuclear Antibody"
   ],
   "metadata": {
    "collapsed": false
   }
  },
  {
   "cell_type": "code",
   "execution_count": 59,
   "outputs": [],
   "source": [
    "# df['antinuclear_antibody'].value_counts()"
   ],
   "metadata": {
    "collapsed": false,
    "pycharm": {
     "name": "#%%\n"
    }
   }
  },
  {
   "cell_type": "markdown",
   "source": [
    "### DNA Double-Stranded Ab"
   ],
   "metadata": {
    "collapsed": false
   }
  },
  {
   "cell_type": "code",
   "execution_count": 60,
   "outputs": [],
   "source": [
    "# df['dna_double-stranded_ab'].value_counts(dropna=False)"
   ],
   "metadata": {
    "collapsed": false,
    "pycharm": {
     "name": "#%%\n"
    }
   }
  },
  {
   "cell_type": "markdown",
   "source": [
    "The function `pipe.neg_col_to_cat` transforms a list of columns (in our case `['anti-ena_screen','antinuclear_antibody','dna_double-stranded_ab']`) to binary, categorical columns where 0 = 'Negative' and 1 = 'Postive"
   ],
   "metadata": {
    "collapsed": false
   }
  },
  {
   "cell_type": "markdown",
   "source": [
    "The function `pipe.neg_col_to_cat` changes the features 'anti-ccp_ab', 'anti-ena_screen', 'antinuclear_antibody', and 'dna_double-stranded_ab' to categorical variables."
   ],
   "metadata": {
    "collapsed": false
   }
  },
  {
   "cell_type": "code",
   "execution_count": 61,
   "outputs": [
    {
     "name": "stdout",
     "output_type": "stream",
     "text": [
      "0.0    988\n",
      "NaN     53\n",
      "1.0     33\n",
      "Name: anti-ccp_ab, dtype: int64\n",
      "0.0    1001\n",
      "1.0      60\n",
      "nan      13\n",
      "Name: anti-ena_screen, dtype: int64\n",
      "0.0    879\n",
      "1.0    185\n",
      "nan     10\n",
      "Name: antinuclear_antibody, dtype: int64\n",
      "0.0    1051\n",
      "1.0      23\n",
      "Name: dna_double-stranded_ab, dtype: int64\n",
      "category\n",
      "0.0    981\n",
      "1.0     68\n",
      "NaN     25\n",
      "Name: rheumatoid_factor, dtype: int64\n"
     ]
    }
   ],
   "source": [
    "df = pipe.neg_col_to_cat(df, ['anti-ccp_ab','anti-ena_screen','antinuclear_antibody','dna_double-stranded_ab', 'rheumatoid_factor'], verbose=True)"
   ],
   "metadata": {
    "collapsed": false,
    "pycharm": {
     "name": "#%%\n"
    }
   }
  },
  {
   "cell_type": "code",
   "execution_count": 62,
   "outputs": [
    {
     "data": {
      "text/plain": "0       0.0\n1       0.0\n2       0.0\n3       0.0\n4       0.0\n       ... \n1070    0.0\n1071    0.0\n1072    0.0\n1073    0.0\n1074    0.0\nName: rheumatoid_factor, Length: 1074, dtype: category\nCategories (2, float64): [0.0, 1.0]"
     },
     "execution_count": 62,
     "metadata": {},
     "output_type": "execute_result"
    }
   ],
   "source": [
    "df.rheumatoid_factor"
   ],
   "metadata": {
    "collapsed": false,
    "pycharm": {
     "name": "#%%\n"
    }
   }
  },
  {
   "cell_type": "markdown",
   "source": [
    "### Myeloperoxidase Ab\n",
    "This column has been dropped because of to many missing values"
   ],
   "metadata": {
    "collapsed": false
   }
  },
  {
   "cell_type": "markdown",
   "source": [
    "### Proteinase-3 Antibodies\n",
    "This column has been dropped because of to many missing values"
   ],
   "metadata": {
    "collapsed": false
   }
  },
  {
   "cell_type": "code",
   "execution_count": 63,
   "outputs": [],
   "source": [
    "# df['proteinase-3_antibodies'].value_counts(dropna=False)"
   ],
   "metadata": {
    "collapsed": false,
    "pycharm": {
     "name": "#%%\n"
    }
   }
  },
  {
   "cell_type": "markdown",
   "source": [
    "## Numerical Features\n",
    "This section deals with numerical variables that can be extracted from the dataset. As mentioned before, there are features/variables that contain both categorical and numerical values. These are treated seperately. For each feature, a description is given of how it was processed. Mostly it is a simple normalization of the values, uniformization of values that contain the same information or removal of wrong or useless values. The decision to evaluate a value as \"missing\" is discussed in each case. All changes made can be adjusted or undone."
   ],
   "metadata": {
    "collapsed": false
   }
  },
  {
   "cell_type": "code",
   "execution_count": 64,
   "outputs": [],
   "source": [
    "#variables assignement\n",
    "a = df.copy()\n",
    "a = pipe.preprocessing_numeric(a)"
   ],
   "metadata": {
    "collapsed": false,
    "pycharm": {
     "name": "#%%\n"
    }
   }
  },
  {
   "cell_type": "markdown",
   "source": [
    "####  Handle multiple Units of Measurment in Feat"
   ],
   "metadata": {
    "collapsed": false
   }
  },
  {
   "cell_type": "code",
   "execution_count": 65,
   "outputs": [],
   "source": [
    "df = pipe.uom_fix(df)"
   ],
   "metadata": {
    "collapsed": false,
    "pycharm": {
     "name": "#%%\n"
    }
   }
  },
  {
   "cell_type": "markdown",
   "source": [
    "### Numeric Features with ranges to categorical\n",
    "We propose to encode features that have a range of \"normal\" values associated with them to categorical features. Values in the range are considered 'normal'. We thus create three categories: 0 = 'below normal', 1 = 'normal', 2 = 'above normal.  "
   ],
   "metadata": {
    "collapsed": false
   }
  },
  {
   "cell_type": "code",
   "execution_count": 66,
   "outputs": [],
   "source": [
    "t = df.copy()\n",
    "t = pipe.preprocessing_numeric(t, num_to_cat = True, verbose=False)"
   ],
   "metadata": {
    "collapsed": false,
    "pycharm": {
     "name": "#%%\n"
    }
   }
  },
  {
   "cell_type": "markdown",
   "source": [
    "## Drop 'uom' and 'range' columns\n",
    "Every lab test is accompanied by two columns. One specifies the unit of measurement (uom) for said test and the other defines the acceptable/normal range of the test (range).\n",
    "Although these informations are important for the exploratory data analysis test and the preprocessing it is not advised to include these columns in the dataframe that serves as the input for a machine learning algorithmn. "
   ],
   "metadata": {
    "collapsed": false
   }
  },
  {
   "cell_type": "code",
   "execution_count": 67,
   "outputs": [],
   "source": [
    "# df = pipe.drop_uom_and_range(df, verbose=True)"
   ],
   "metadata": {
    "collapsed": false,
    "pycharm": {
     "name": "#%%\n"
    }
   }
  },
  {
   "cell_type": "markdown",
   "source": [
    "# Preprocessing Pipeline"
   ],
   "metadata": {
    "collapsed": false
   }
  },
  {
   "cell_type": "markdown",
   "source": [
    "CHECK IF EVERY COLUMN IS ACCOUNTED FOR:\n",
    "- 'id'\n",
    "- [x] 'gender' \n",
    "- [x] 'race'\n",
    "- [x] 'loc'\n",
    "- [x] 'ehr_diagnosis' (Dropped)\n",
    "- [x] 'anti-dnase_b' (Dropped, too many missing values)\n",
    "- [x] 'other_' (Dropped, too many missing values)\n",
    "- [x] 'notes' (Dropped, too many missing values)\n",
    "- [x] 'beta-2-microglobulin' (Dropped, too many missing values)\n",
    "- [x] 'lupus_anticoagulant' (Dropped, too many missing values)\n",
    "- [x] 'myeloperoxidase_ab' (Dropped, too many missing values)\n",
    "- [x] 'proteinase-3_antibodies' (Dropped, too many missing values)\n",
    "- [x] 'cat'\n",
    "- [x] 'specific_diagnosis'\n",
    "- [x] 'ac_abn_od_cells'\n",
    "- [x] 'ac_abn_os_cells'\n",
    "- [x] 'vit_abn_od_cells'\n",
    "- [x] 'vit_abn_os_cells'\n",
    "- [x] 'vit_abn_od_haze'\n",
    "- [x] 'vit_abn_os_haze'\n",
    "- 'calcium'\n",
    "- 'lactate_dehydrogenase'\n",
    "- 'c-reactive_protein,_normal_and_high_sensitivity'\n",
    "- 'wbc'\n",
    "- 'rbc'\n",
    "- 'hemoglobin'\n",
    "- 'hematocrit'\n",
    "- 'mcv'\n",
    "- 'mch'\n",
    "- 'mchc'\n",
    "- 'rdw'\n",
    "- 'platelet_count'\n",
    "- 'neutrophil_%'\n",
    "- 'lymphocytes_%'\n",
    "- 'angiotensin_conv#enzyme'\n",
    "- 'lysozyme,_plasma'\n",
    "- 'anti-ccp_ab'\n",
    "- 'anti-ena_screen'\n",
    "- 'antinuclear_antibody'\n",
    "- 'complement_c3'\n",
    "- 'complement_c4'\n",
    "- 'dna_double-stranded_ab'\n",
    "- [x] 'hla-a*' (Dropped)\n",
    "- [x] 'hla_a_1' (Dropped)\n",
    "- [x] 'hla_a_2' (Dropped)\n",
    "- [x] 'hla-b*' (Dropped)\n",
    "- [x] 'hla_b_1' (Dropped)\n",
    "- [x] 'hla_b_2' (Dropped)\n",
    "- [x] 'hla-cw*' (Dropped)\n",
    "- [x] 'hla_c_1' (Dropped)\n",
    "- [x] 'hla_c_2' (Dropped)\n",
    "- [x] 'hla-drb1*' (Dropped)\n",
    "- [x] 'hla_drb1_1' (Dropped)\n",
    "- [x] 'hla_drb1_2' (Dropped)\n",
    "- [x] 'hla-dqb1*_/_dq*' (Dropped)\n",
    "- [x] 'hla_dq_1' (Dropped)\n",
    "- [x] 'hla_dq_2' (Dropped)\n",
    "- [x] 'hla-drb_*' (Dropped)\n",
    "- [x] 'hla_drb*_1' (Dropped)\n",
    "- [x] 'hla_drb*_2' (Dropped)\n",
    "- 'rheumatoid_factor'\n",
    "- [x] 'hbc__ab'\n",
    "- [x] 'hbs__ag'\n",
    "- [x] 'hcv__ab'\n",
    "- [x] uom and range columns (Dropped, after used for transformation)"
   ],
   "metadata": {
    "collapsed": false
   }
  },
  {
   "cell_type": "code",
   "execution_count": 68,
   "outputs": [],
   "source": [
    "def preprocessing_pipe(num_to_cat = False):\n",
    "    # load dataset\n",
    "    df = pipe.read_data(rel_path=\"../data/uveitis_data.xlsx\")\n",
    "    \n",
    "    df = (df.pipe(pipe.rename, path=\"../data/col_names&data_type-Copy1.xlsx\") # rename columns\n",
    "        .pipe(pd.DataFrame.applymap, lambda x: x.strip() if isinstance(x, str) else x) # strip leading or trailing whitespace\n",
    "\n",
    "        # dropping columns\n",
    "        .pipe(pipe.drop_nan_columns, nan_percentage=.5, verbose = False) # drop columns with above nan_percantage missing values\n",
    "        .pipe(pd.DataFrame.drop, columns=['ehr_diagnosis'])\n",
    "        .pipe(pipe.drop_via_filter, filter_str = 'hla', verbose=False)\n",
    "        \n",
    "        .pipe(gender_dtype) # change dtype from 'gender' to catgory\n",
    "        .pipe(preprocessing_race) # collapse 'race' feature\n",
    "        .pipe(pipe.preprocessing_loc, approach='multi', verbose=False) # use approach ='binary' for binary classification\n",
    "        .pipe(pipe.preprocessing_cat)\n",
    "        .pipe(pipe.preprocessing_specific) # collapse 'specific_diagnosis'\n",
    "        .pipe(preprocessing_inflammation) # # transform collumns that contain information about severeness of inlamation\n",
    "        .pipe(preprocessing_hepatitis) # clean and binarize hepatitis-columns\n",
    "        .pipe(pipe.neg_col_to_cat, columns=['anti-ccp_ab','anti-ena_screen','antinuclear_antibody','dna_double-stranded_ab', 'rheumatoid_factor'])\n",
    "        .pipe(pipe.preprocessing_numeric, num_to_cat=num_to_cat)\n",
    "\n",
    "        # drop 'uom' amd 'range' columns after use\n",
    "        .pipe(pipe.drop_uom_and_range, verbose=False)\n",
    "        )\n",
    "    return df\n",
    "\n",
    "df = preprocessing_pipe()"
   ],
   "metadata": {
    "collapsed": false,
    "pycharm": {
     "name": "#%%\n"
    }
   }
  },
  {
   "cell_type": "code",
   "execution_count": 69,
   "outputs": [
    {
     "data": {
      "text/plain": "        id  gender                    race           loc          cat  \\\n0        1    Male  Black/African American      anterior  not_uveitis   \n1        2  Female  Black/African American  intermediate   idiopathic   \n2        3  Female                   White    panuveitis     systemic   \n3        4  Female                   White      anterior   idiopathic   \n4        5  Female                 unknown      anterior   idiopathic   \n...    ...     ...                     ...           ...          ...   \n1070  1071    Male                   Asian    panuveitis   infectious   \n1071  1072    Male                 unknown  intermediate   idiopathic   \n1072  1073  Female                 unknown     posterior   infectious   \n1073  1074  Female                   Asian     posterior          wds   \n1074  1075    Male                   White     posterior  not_uveitis   \n\n       specific_diagnosis ac_abn_od_cells ac_abn_os_cells vit_abn_od_cells  \\\n0     idiopathic_anterior             0.0             0.0              0.0   \n1           pars planitis             2.0             2.0              2.0   \n2                     vkh             0.5             0.5              1.0   \n3     idiopathic_anterior             0.0             0.0              0.0   \n4     idiopathic_anterior             0.0             0.0              0.0   \n...                   ...             ...             ...              ...   \n1070         tuberculosis             0.0             0.0              0.0   \n1071        pars planitis             0.0             1.0              0.0   \n1072        toxoplasmosis             0.0             0.0              0.0   \n1073                  wds             0.0             0.0              0.0   \n1074          not_uveitis             0.0             0.0              0.0   \n\n     vit_abn_os_cells vit_abn_od_haze vit_abn_os_haze  calcium  \\\n0                 0.5             0.0             0.0     2.27   \n1                 2.0             0.5             1.0     2.32   \n2                 1.0             0.0             0.0     2.44   \n3                 0.0             0.0             0.0     2.45   \n4                 0.0             0.0             0.0     2.28   \n...               ...             ...             ...      ...   \n1070              0.0             0.0             0.0     2.26   \n1071              2.0             0.0             2.0     2.36   \n1072              1.0             0.0             1.0     2.26   \n1073              0.0             0.0             0.0     2.41   \n1074              0.0             0.0             0.0     2.39   \n\n      lactate_dehydrogenase  c-reactive_protein,_normal_and_high_sensitivity  \\\n0                       184                                            1.830   \n1                       209                                            0.150   \n2                       194                                            0.137   \n3                       156                                            3.500   \n4                       175                                            1.000   \n...                     ...                                              ...   \n1070                    194                                           15.400   \n1071                    239                                            0.800   \n1072                    196                                            0.600   \n1073                    173                                            6.970   \n1074                    214                                            0.640   \n\n        wbc   rbc  hemoglobin  hematocrit   mcv   mch  mchc   rdw  \\\n0      6.91  4.97        14.6        41.4  83.3  29.4  35.3  13.9   \n1      4.24  4.22        11.0        36.0  85.3  26.1  30.6  14.8   \n2      6.38  4.31        13.6        38.7  89.8  31.6  35.1  11.7   \n3      5.24  4.82        14.6        43.6  90.5  30.3  33.5  12.4   \n4      8.31  4.72        14.0        40.7  86.2  29.7  34.4  12.1   \n...     ...   ...         ...         ...   ...   ...   ...   ...   \n1070   7.22  5.49        12.7        40.6  74.0  23.1  31.3  15.4   \n1071   7.65  4.56        12.6        35.9  78.7  27.6  35.1  13.5   \n1072   3.83  4.54        14.5        42.8  94.3  31.9  33.9  14.9   \n1073  16.65  4.94        13.4        40.5  82.0  27.1  33.1  15.7   \n1074   7.23  4.54        16.2        43.7  96.3  35.7  37.1  12.3   \n\n      platelet_count  neutrophil_%  lymphocytes_%  angiotensin_conv#enzyme  \\\n0                194          64.4           30.8                      NaN   \n1                260          40.1           49.1                     27.3   \n2                344          70.2           22.1                     60.2   \n3                220          56.6           34.2                     38.9   \n4                324          60.4           27.4                     18.3   \n...              ...           ...            ...                      ...   \n1070             292          67.3           17.7                      1.0   \n1071             219          54.3           38.6                     53.0   \n1072             239          52.6           35.5                     39.9   \n1073             369          70.5           24.3                     23.0   \n1074             224          85.4           13.6                     24.7   \n\n      lysozyme,_plasma anti-ccp_ab anti-ena_screen antinuclear_antibody  \\\n0                  3.0         0.0             0.0                  0.0   \n1                  NaN         0.0             0.0                  0.0   \n2                  4.8         0.0             0.0                  0.0   \n3                  NaN         0.0             0.0                  0.0   \n4                  4.5         0.0             0.0                  0.0   \n...                ...         ...             ...                  ...   \n1070               9.3         0.0             0.0                  0.0   \n1071               3.6         0.0             0.0                  0.0   \n1072               2.9         0.0             0.0                  0.0   \n1073               3.6         0.0             0.0                  0.0   \n1074               3.2         0.0             0.0                  0.0   \n\n      complement_c3  complement_c4 dna_double-stranded_ab  rheumatoid_factor  \\\n0             149.0           33.0                    0.0                  0   \n1             130.8           22.8                    0.0                  0   \n2             135.9           18.2                    0.0                  0   \n3             130.0           19.9                    0.0                  0   \n4             130.4           19.0                    1.0                  0   \n...             ...            ...                    ...                ...   \n1070          112.4           36.1                    0.0                  0   \n1071          121.5           22.3                    0.0                  0   \n1072          114.9           24.6                    0.0                  0   \n1073          131.0           26.0                    0.0                  0   \n1074          128.0           25.0                    0.0                  0   \n\n     hbc__ab hbs__ag hcv__ab  \n0          0       0       0  \n1          0       0       0  \n2          0       0       0  \n3          0       0       0  \n4          0       0       0  \n...      ...     ...     ...  \n1070       0       0       0  \n1071       0       0       0  \n1072       0       0       0  \n1073       0       0       0  \n1074       0       0       0  \n\n[1074 rows x 38 columns]",
      "text/html": "<div>\n<style scoped>\n    .dataframe tbody tr th:only-of-type {\n        vertical-align: middle;\n    }\n\n    .dataframe tbody tr th {\n        vertical-align: top;\n    }\n\n    .dataframe thead th {\n        text-align: right;\n    }\n</style>\n<table border=\"1\" class=\"dataframe\">\n  <thead>\n    <tr style=\"text-align: right;\">\n      <th></th>\n      <th>id</th>\n      <th>gender</th>\n      <th>race</th>\n      <th>loc</th>\n      <th>cat</th>\n      <th>specific_diagnosis</th>\n      <th>ac_abn_od_cells</th>\n      <th>ac_abn_os_cells</th>\n      <th>vit_abn_od_cells</th>\n      <th>vit_abn_os_cells</th>\n      <th>vit_abn_od_haze</th>\n      <th>vit_abn_os_haze</th>\n      <th>calcium</th>\n      <th>lactate_dehydrogenase</th>\n      <th>c-reactive_protein,_normal_and_high_sensitivity</th>\n      <th>wbc</th>\n      <th>rbc</th>\n      <th>hemoglobin</th>\n      <th>hematocrit</th>\n      <th>mcv</th>\n      <th>mch</th>\n      <th>mchc</th>\n      <th>rdw</th>\n      <th>platelet_count</th>\n      <th>neutrophil_%</th>\n      <th>lymphocytes_%</th>\n      <th>angiotensin_conv#enzyme</th>\n      <th>lysozyme,_plasma</th>\n      <th>anti-ccp_ab</th>\n      <th>anti-ena_screen</th>\n      <th>antinuclear_antibody</th>\n      <th>complement_c3</th>\n      <th>complement_c4</th>\n      <th>dna_double-stranded_ab</th>\n      <th>rheumatoid_factor</th>\n      <th>hbc__ab</th>\n      <th>hbs__ag</th>\n      <th>hcv__ab</th>\n    </tr>\n  </thead>\n  <tbody>\n    <tr>\n      <th>0</th>\n      <td>1</td>\n      <td>Male</td>\n      <td>Black/African American</td>\n      <td>anterior</td>\n      <td>not_uveitis</td>\n      <td>idiopathic_anterior</td>\n      <td>0.0</td>\n      <td>0.0</td>\n      <td>0.0</td>\n      <td>0.5</td>\n      <td>0.0</td>\n      <td>0.0</td>\n      <td>2.27</td>\n      <td>184</td>\n      <td>1.830</td>\n      <td>6.91</td>\n      <td>4.97</td>\n      <td>14.6</td>\n      <td>41.4</td>\n      <td>83.3</td>\n      <td>29.4</td>\n      <td>35.3</td>\n      <td>13.9</td>\n      <td>194</td>\n      <td>64.4</td>\n      <td>30.8</td>\n      <td>NaN</td>\n      <td>3.0</td>\n      <td>0.0</td>\n      <td>0.0</td>\n      <td>0.0</td>\n      <td>149.0</td>\n      <td>33.0</td>\n      <td>0.0</td>\n      <td>0</td>\n      <td>0</td>\n      <td>0</td>\n      <td>0</td>\n    </tr>\n    <tr>\n      <th>1</th>\n      <td>2</td>\n      <td>Female</td>\n      <td>Black/African American</td>\n      <td>intermediate</td>\n      <td>idiopathic</td>\n      <td>pars planitis</td>\n      <td>2.0</td>\n      <td>2.0</td>\n      <td>2.0</td>\n      <td>2.0</td>\n      <td>0.5</td>\n      <td>1.0</td>\n      <td>2.32</td>\n      <td>209</td>\n      <td>0.150</td>\n      <td>4.24</td>\n      <td>4.22</td>\n      <td>11.0</td>\n      <td>36.0</td>\n      <td>85.3</td>\n      <td>26.1</td>\n      <td>30.6</td>\n      <td>14.8</td>\n      <td>260</td>\n      <td>40.1</td>\n      <td>49.1</td>\n      <td>27.3</td>\n      <td>NaN</td>\n      <td>0.0</td>\n      <td>0.0</td>\n      <td>0.0</td>\n      <td>130.8</td>\n      <td>22.8</td>\n      <td>0.0</td>\n      <td>0</td>\n      <td>0</td>\n      <td>0</td>\n      <td>0</td>\n    </tr>\n    <tr>\n      <th>2</th>\n      <td>3</td>\n      <td>Female</td>\n      <td>White</td>\n      <td>panuveitis</td>\n      <td>systemic</td>\n      <td>vkh</td>\n      <td>0.5</td>\n      <td>0.5</td>\n      <td>1.0</td>\n      <td>1.0</td>\n      <td>0.0</td>\n      <td>0.0</td>\n      <td>2.44</td>\n      <td>194</td>\n      <td>0.137</td>\n      <td>6.38</td>\n      <td>4.31</td>\n      <td>13.6</td>\n      <td>38.7</td>\n      <td>89.8</td>\n      <td>31.6</td>\n      <td>35.1</td>\n      <td>11.7</td>\n      <td>344</td>\n      <td>70.2</td>\n      <td>22.1</td>\n      <td>60.2</td>\n      <td>4.8</td>\n      <td>0.0</td>\n      <td>0.0</td>\n      <td>0.0</td>\n      <td>135.9</td>\n      <td>18.2</td>\n      <td>0.0</td>\n      <td>0</td>\n      <td>0</td>\n      <td>0</td>\n      <td>0</td>\n    </tr>\n    <tr>\n      <th>3</th>\n      <td>4</td>\n      <td>Female</td>\n      <td>White</td>\n      <td>anterior</td>\n      <td>idiopathic</td>\n      <td>idiopathic_anterior</td>\n      <td>0.0</td>\n      <td>0.0</td>\n      <td>0.0</td>\n      <td>0.0</td>\n      <td>0.0</td>\n      <td>0.0</td>\n      <td>2.45</td>\n      <td>156</td>\n      <td>3.500</td>\n      <td>5.24</td>\n      <td>4.82</td>\n      <td>14.6</td>\n      <td>43.6</td>\n      <td>90.5</td>\n      <td>30.3</td>\n      <td>33.5</td>\n      <td>12.4</td>\n      <td>220</td>\n      <td>56.6</td>\n      <td>34.2</td>\n      <td>38.9</td>\n      <td>NaN</td>\n      <td>0.0</td>\n      <td>0.0</td>\n      <td>0.0</td>\n      <td>130.0</td>\n      <td>19.9</td>\n      <td>0.0</td>\n      <td>0</td>\n      <td>0</td>\n      <td>0</td>\n      <td>0</td>\n    </tr>\n    <tr>\n      <th>4</th>\n      <td>5</td>\n      <td>Female</td>\n      <td>unknown</td>\n      <td>anterior</td>\n      <td>idiopathic</td>\n      <td>idiopathic_anterior</td>\n      <td>0.0</td>\n      <td>0.0</td>\n      <td>0.0</td>\n      <td>0.0</td>\n      <td>0.0</td>\n      <td>0.0</td>\n      <td>2.28</td>\n      <td>175</td>\n      <td>1.000</td>\n      <td>8.31</td>\n      <td>4.72</td>\n      <td>14.0</td>\n      <td>40.7</td>\n      <td>86.2</td>\n      <td>29.7</td>\n      <td>34.4</td>\n      <td>12.1</td>\n      <td>324</td>\n      <td>60.4</td>\n      <td>27.4</td>\n      <td>18.3</td>\n      <td>4.5</td>\n      <td>0.0</td>\n      <td>0.0</td>\n      <td>0.0</td>\n      <td>130.4</td>\n      <td>19.0</td>\n      <td>1.0</td>\n      <td>0</td>\n      <td>0</td>\n      <td>0</td>\n      <td>0</td>\n    </tr>\n    <tr>\n      <th>...</th>\n      <td>...</td>\n      <td>...</td>\n      <td>...</td>\n      <td>...</td>\n      <td>...</td>\n      <td>...</td>\n      <td>...</td>\n      <td>...</td>\n      <td>...</td>\n      <td>...</td>\n      <td>...</td>\n      <td>...</td>\n      <td>...</td>\n      <td>...</td>\n      <td>...</td>\n      <td>...</td>\n      <td>...</td>\n      <td>...</td>\n      <td>...</td>\n      <td>...</td>\n      <td>...</td>\n      <td>...</td>\n      <td>...</td>\n      <td>...</td>\n      <td>...</td>\n      <td>...</td>\n      <td>...</td>\n      <td>...</td>\n      <td>...</td>\n      <td>...</td>\n      <td>...</td>\n      <td>...</td>\n      <td>...</td>\n      <td>...</td>\n      <td>...</td>\n      <td>...</td>\n      <td>...</td>\n      <td>...</td>\n    </tr>\n    <tr>\n      <th>1070</th>\n      <td>1071</td>\n      <td>Male</td>\n      <td>Asian</td>\n      <td>panuveitis</td>\n      <td>infectious</td>\n      <td>tuberculosis</td>\n      <td>0.0</td>\n      <td>0.0</td>\n      <td>0.0</td>\n      <td>0.0</td>\n      <td>0.0</td>\n      <td>0.0</td>\n      <td>2.26</td>\n      <td>194</td>\n      <td>15.400</td>\n      <td>7.22</td>\n      <td>5.49</td>\n      <td>12.7</td>\n      <td>40.6</td>\n      <td>74.0</td>\n      <td>23.1</td>\n      <td>31.3</td>\n      <td>15.4</td>\n      <td>292</td>\n      <td>67.3</td>\n      <td>17.7</td>\n      <td>1.0</td>\n      <td>9.3</td>\n      <td>0.0</td>\n      <td>0.0</td>\n      <td>0.0</td>\n      <td>112.4</td>\n      <td>36.1</td>\n      <td>0.0</td>\n      <td>0</td>\n      <td>0</td>\n      <td>0</td>\n      <td>0</td>\n    </tr>\n    <tr>\n      <th>1071</th>\n      <td>1072</td>\n      <td>Male</td>\n      <td>unknown</td>\n      <td>intermediate</td>\n      <td>idiopathic</td>\n      <td>pars planitis</td>\n      <td>0.0</td>\n      <td>1.0</td>\n      <td>0.0</td>\n      <td>2.0</td>\n      <td>0.0</td>\n      <td>2.0</td>\n      <td>2.36</td>\n      <td>239</td>\n      <td>0.800</td>\n      <td>7.65</td>\n      <td>4.56</td>\n      <td>12.6</td>\n      <td>35.9</td>\n      <td>78.7</td>\n      <td>27.6</td>\n      <td>35.1</td>\n      <td>13.5</td>\n      <td>219</td>\n      <td>54.3</td>\n      <td>38.6</td>\n      <td>53.0</td>\n      <td>3.6</td>\n      <td>0.0</td>\n      <td>0.0</td>\n      <td>0.0</td>\n      <td>121.5</td>\n      <td>22.3</td>\n      <td>0.0</td>\n      <td>0</td>\n      <td>0</td>\n      <td>0</td>\n      <td>0</td>\n    </tr>\n    <tr>\n      <th>1072</th>\n      <td>1073</td>\n      <td>Female</td>\n      <td>unknown</td>\n      <td>posterior</td>\n      <td>infectious</td>\n      <td>toxoplasmosis</td>\n      <td>0.0</td>\n      <td>0.0</td>\n      <td>0.0</td>\n      <td>1.0</td>\n      <td>0.0</td>\n      <td>1.0</td>\n      <td>2.26</td>\n      <td>196</td>\n      <td>0.600</td>\n      <td>3.83</td>\n      <td>4.54</td>\n      <td>14.5</td>\n      <td>42.8</td>\n      <td>94.3</td>\n      <td>31.9</td>\n      <td>33.9</td>\n      <td>14.9</td>\n      <td>239</td>\n      <td>52.6</td>\n      <td>35.5</td>\n      <td>39.9</td>\n      <td>2.9</td>\n      <td>0.0</td>\n      <td>0.0</td>\n      <td>0.0</td>\n      <td>114.9</td>\n      <td>24.6</td>\n      <td>0.0</td>\n      <td>0</td>\n      <td>0</td>\n      <td>0</td>\n      <td>0</td>\n    </tr>\n    <tr>\n      <th>1073</th>\n      <td>1074</td>\n      <td>Female</td>\n      <td>Asian</td>\n      <td>posterior</td>\n      <td>wds</td>\n      <td>wds</td>\n      <td>0.0</td>\n      <td>0.0</td>\n      <td>0.0</td>\n      <td>0.0</td>\n      <td>0.0</td>\n      <td>0.0</td>\n      <td>2.41</td>\n      <td>173</td>\n      <td>6.970</td>\n      <td>16.65</td>\n      <td>4.94</td>\n      <td>13.4</td>\n      <td>40.5</td>\n      <td>82.0</td>\n      <td>27.1</td>\n      <td>33.1</td>\n      <td>15.7</td>\n      <td>369</td>\n      <td>70.5</td>\n      <td>24.3</td>\n      <td>23.0</td>\n      <td>3.6</td>\n      <td>0.0</td>\n      <td>0.0</td>\n      <td>0.0</td>\n      <td>131.0</td>\n      <td>26.0</td>\n      <td>0.0</td>\n      <td>0</td>\n      <td>0</td>\n      <td>0</td>\n      <td>0</td>\n    </tr>\n    <tr>\n      <th>1074</th>\n      <td>1075</td>\n      <td>Male</td>\n      <td>White</td>\n      <td>posterior</td>\n      <td>not_uveitis</td>\n      <td>not_uveitis</td>\n      <td>0.0</td>\n      <td>0.0</td>\n      <td>0.0</td>\n      <td>0.0</td>\n      <td>0.0</td>\n      <td>0.0</td>\n      <td>2.39</td>\n      <td>214</td>\n      <td>0.640</td>\n      <td>7.23</td>\n      <td>4.54</td>\n      <td>16.2</td>\n      <td>43.7</td>\n      <td>96.3</td>\n      <td>35.7</td>\n      <td>37.1</td>\n      <td>12.3</td>\n      <td>224</td>\n      <td>85.4</td>\n      <td>13.6</td>\n      <td>24.7</td>\n      <td>3.2</td>\n      <td>0.0</td>\n      <td>0.0</td>\n      <td>0.0</td>\n      <td>128.0</td>\n      <td>25.0</td>\n      <td>0.0</td>\n      <td>0</td>\n      <td>0</td>\n      <td>0</td>\n      <td>0</td>\n    </tr>\n  </tbody>\n</table>\n<p>1074 rows × 38 columns</p>\n</div>"
     },
     "execution_count": 69,
     "metadata": {},
     "output_type": "execute_result"
    }
   ],
   "source": [
    "pd.set_option('max_columns', None)\n",
    "df"
   ],
   "metadata": {
    "collapsed": false,
    "pycharm": {
     "name": "#%%\n"
    }
   }
  },
  {
   "cell_type": "markdown",
   "source": [
    "## Export dataframe\n"
   ],
   "metadata": {
    "collapsed": false
   }
  },
  {
   "cell_type": "code",
   "execution_count": 70,
   "outputs": [],
   "source": [
    "df.to_csv('../data/cleaned_uveitis_data.csv')"
   ],
   "metadata": {
    "collapsed": false,
    "pycharm": {
     "name": "#%%\n"
    }
   }
  },
  {
   "cell_type": "markdown",
   "source": [
    "## Test\n",
    "(wird später umgezogen)"
   ],
   "metadata": {
    "collapsed": false
   }
  },
  {
   "cell_type": "code",
   "execution_count": 71,
   "outputs": [],
   "source": [
    "df = df[df['loc'].notna()]"
   ],
   "metadata": {
    "collapsed": false,
    "pycharm": {
     "name": "#%%\n"
    }
   }
  },
  {
   "cell_type": "code",
   "execution_count": 72,
   "outputs": [],
   "source": [
    "from sklearn.model_selection import train_test_split\n",
    "X = df.drop(columns=['loc']) # features\n",
    "y = df['loc'].cat.codes # target feature\n",
    "\n",
    "d = df['loc'].cat.categories\n",
    "\n",
    "\n",
    "# train-test split\n",
    "X_train, X_test, y_train, y_test = train_test_split(X, y, test_size = 0.25, random_state = 42, stratify = y)"
   ],
   "metadata": {
    "collapsed": false,
    "pycharm": {
     "name": "#%%\n"
    }
   }
  },
  {
   "cell_type": "code",
   "execution_count": 73,
   "outputs": [],
   "source": [
    "# filter for numeric and categorical features\n",
    "numerics = ['int16', 'int32', 'int64', 'float16', 'float32', 'float64']\n",
    "category = ['category']\n",
    "\n",
    "numeric_features = X.select_dtypes(include=numerics).columns.tolist()\n",
    "categorical_features = X.select_dtypes(include=category).columns.tolist()\n",
    "\n",
    "\n",
    "imputer = {'categorical':{'strategy':'most_frequent', 'fill_value':'missing'}, 'numerical':{'strategy':'median', 'fill_value':'mean'}}\n",
    "imputer_encoder = pipe.impute_and_encode(categorical_features, numeric_features, imputer)"
   ],
   "metadata": {
    "collapsed": false,
    "pycharm": {
     "name": "#%%\n"
    }
   }
  },
  {
   "cell_type": "code",
   "execution_count": 74,
   "outputs": [
    {
     "data": {
      "text/plain": "['id',\n 'gender',\n 'race',\n 'loc',\n 'cat',\n 'specific_diagnosis',\n 'ac_abn_od_cells',\n 'ac_abn_os_cells',\n 'vit_abn_od_cells',\n 'vit_abn_os_cells',\n 'vit_abn_od_haze',\n 'vit_abn_os_haze',\n 'calcium',\n 'lactate_dehydrogenase',\n 'c-reactive_protein,_normal_and_high_sensitivity',\n 'wbc',\n 'rbc',\n 'hemoglobin',\n 'hematocrit',\n 'mcv',\n 'mch',\n 'mchc',\n 'rdw',\n 'platelet_count',\n 'neutrophil_%',\n 'lymphocytes_%',\n 'angiotensin_conv#enzyme',\n 'lysozyme,_plasma',\n 'anti-ccp_ab',\n 'anti-ena_screen',\n 'antinuclear_antibody',\n 'complement_c3',\n 'complement_c4',\n 'dna_double-stranded_ab',\n 'rheumatoid_factor',\n 'hbc__ab',\n 'hbs__ag',\n 'hcv__ab']"
     },
     "execution_count": 74,
     "metadata": {},
     "output_type": "execute_result"
    }
   ],
   "source": [
    "df.columns.tolist()"
   ],
   "metadata": {
    "collapsed": false,
    "pycharm": {
     "name": "#%%\n"
    }
   }
  },
  {
   "cell_type": "code",
   "execution_count": 75,
   "outputs": [
    {
     "name": "stdout",
     "output_type": "stream",
     "text": [
      "Accuracy: 0.8233082706766918\n",
      "              precision    recall  f1-score   support\n",
      "\n",
      "           0       0.84      0.87      0.85        61\n",
      "           1       0.82      0.89      0.85        46\n",
      "           2       0.81      0.88      0.84        57\n",
      "           3       0.84      0.79      0.81        85\n",
      "           4       0.73      0.47      0.57        17\n",
      "\n",
      "    accuracy                           0.82       266\n",
      "   macro avg       0.81      0.78      0.79       266\n",
      "weighted avg       0.82      0.82      0.82       266\n",
      "\n",
      "{}\n"
     ]
    },
    {
     "data": {
      "text/plain": "<Figure size 432x288 with 2 Axes>",
      "image/png": "[encoded data removed]"
     },
     "metadata": {
      "needs_background": "light"
     },
     "output_type": "display_data"
    },
    {
     "data": {
      "text/plain": "<Figure size 1440x1440 with 1 Axes>",
      "image/png": "[encoded data removed]"
     },
     "metadata": {
      "needs_background": "light"
     },
     "output_type": "display_data"
    }
   ],
   "source": [
    "# sklearn imports\n",
    "from sklearn.tree import DecisionTreeClassifier, plot_tree, export_graphviz\n",
    "from sklearn.model_selection import GridSearchCV\n",
    "from sklearn.metrics import classification_report\n",
    "from sklearn.metrics import ConfusionMatrixDisplay\n",
    "from sklearn.metrics import confusion_matrix\n",
    "\n",
    "dectree = DecisionTreeClassifier()\n",
    "\n",
    "pipeline = Pipeline(steps=[('preprocessor', imputer_encoder),\n",
    "                      ('classifier', dectree)])\n",
    "\n",
    "# Specify the hyperparameter space\n",
    "parameters = {}\n",
    "\n",
    "# Instantiate the GridSearchCV object: cv\n",
    "cv = GridSearchCV(pipeline, parameters, cv = 5)\n",
    "\n",
    "# Fit to the training set\n",
    "t = cv.fit(X_train, y_train)\n",
    "\n",
    "# Predict the labels of the test set: y_pred\n",
    "y_pred = cv.predict(X_test)\n",
    "\n",
    "# Compute and print metrics\n",
    "print(\"Accuracy: {}\".format(cv.score(X_test, y_test)))\n",
    "print(classification_report(y_test, y_pred))\n",
    "\n",
    "ConfusionMatrixDisplay(confusion_matrix(y_test, y_pred)).plot();\n",
    "print(cv.best_params_);\n",
    "\n",
    "plt.figure(figsize=(20,20))\n",
    "plot_tree(cv.best_estimator_['classifier'], fontsize=8)\n",
    "plt.show()"
   ],
   "metadata": {
    "collapsed": false,
    "pycharm": {
     "name": "#%%\n"
    }
   }
  },
  {
   "cell_type": "code",
   "execution_count": 76,
   "outputs": [
    {
     "name": "stderr",
     "output_type": "stream",
     "text": [
      "C:\\Users\\Lupo_Remastered\\Anaconda3\\lib\\site-packages\\sklearn\\model_selection\\_validation.py:614: FitFailedWarning: Estimator fit failed. The score on this train-test partition for these parameters will be set to nan. Details: \n",
      "Traceback (most recent call last):\n",
      "  File \"C:\\Users\\Lupo_Remastered\\Anaconda3\\lib\\site-packages\\sklearn\\model_selection\\_validation.py\", line 593, in _fit_and_score\n",
      "    estimator.fit(X_train, y_train, **fit_params)\n",
      "  File \"C:\\Users\\Lupo_Remastered\\Anaconda3\\lib\\site-packages\\sklearn\\pipeline.py\", line 346, in fit\n",
      "    self._final_estimator.fit(Xt, y, **fit_params_last_step)\n",
      "  File \"C:\\Users\\Lupo_Remastered\\Anaconda3\\lib\\site-packages\\sklearn\\tree\\_classes.py\", line 902, in fit\n",
      "    X_idx_sorted=X_idx_sorted)\n",
      "  File \"C:\\Users\\Lupo_Remastered\\Anaconda3\\lib\\site-packages\\sklearn\\tree\\_classes.py\", line 158, in fit\n",
      "    check_y_params))\n",
      "  File \"C:\\Users\\Lupo_Remastered\\Anaconda3\\lib\\site-packages\\sklearn\\base.py\", line 430, in _validate_data\n",
      "    X = check_array(X, **check_X_params)\n",
      "  File \"C:\\Users\\Lupo_Remastered\\Anaconda3\\lib\\site-packages\\sklearn\\utils\\validation.py\", line 63, in inner_f\n",
      "    return f(*args, **kwargs)\n",
      "  File \"C:\\Users\\Lupo_Remastered\\Anaconda3\\lib\\site-packages\\sklearn\\utils\\validation.py\", line 560, in check_array\n",
      "    array = array.astype(dtype)\n",
      "  File \"C:\\Users\\Lupo_Remastered\\Anaconda3\\lib\\site-packages\\pandas\\core\\generic.py\", line 5698, in astype\n",
      "    new_data = self._data.astype(dtype=dtype, copy=copy, errors=errors)\n",
      "  File \"C:\\Users\\Lupo_Remastered\\Anaconda3\\lib\\site-packages\\pandas\\core\\internals\\managers.py\", line 582, in astype\n",
      "    return self.apply(\"astype\", dtype=dtype, copy=copy, errors=errors)\n",
      "  File \"C:\\Users\\Lupo_Remastered\\Anaconda3\\lib\\site-packages\\pandas\\core\\internals\\managers.py\", line 442, in apply\n",
      "    applied = getattr(b, f)(**kwargs)\n",
      "  File \"C:\\Users\\Lupo_Remastered\\Anaconda3\\lib\\site-packages\\pandas\\core\\internals\\blocks.py\", line 607, in astype\n",
      "    values = self.values.astype(dtype)\n",
      "  File \"C:\\Users\\Lupo_Remastered\\Anaconda3\\lib\\site-packages\\pandas\\core\\arrays\\categorical.py\", line 502, in astype\n",
      "    return np.array(self, dtype=dtype, copy=copy)\n",
      "  File \"C:\\Users\\Lupo_Remastered\\Anaconda3\\lib\\site-packages\\pandas\\core\\arrays\\categorical.py\", line 1286, in __array__\n",
      "    return np.asarray(ret, dtype)\n",
      "  File \"C:\\Users\\Lupo_Remastered\\Anaconda3\\lib\\site-packages\\numpy\\core\\_asarray.py\", line 83, in asarray\n",
      "    return array(a, dtype, copy=False, order=order)\n",
      "ValueError: could not convert string to float: 'Female'\n",
      "\n",
      "  FitFailedWarning)\n",
      "C:\\Users\\Lupo_Remastered\\Anaconda3\\lib\\site-packages\\sklearn\\model_selection\\_validation.py:614: FitFailedWarning: Estimator fit failed. The score on this train-test partition for these parameters will be set to nan. Details: \n",
      "Traceback (most recent call last):\n",
      "  File \"C:\\Users\\Lupo_Remastered\\Anaconda3\\lib\\site-packages\\sklearn\\model_selection\\_validation.py\", line 593, in _fit_and_score\n",
      "    estimator.fit(X_train, y_train, **fit_params)\n",
      "  File \"C:\\Users\\Lupo_Remastered\\Anaconda3\\lib\\site-packages\\sklearn\\pipeline.py\", line 346, in fit\n",
      "    self._final_estimator.fit(Xt, y, **fit_params_last_step)\n",
      "  File \"C:\\Users\\Lupo_Remastered\\Anaconda3\\lib\\site-packages\\sklearn\\tree\\_classes.py\", line 902, in fit\n",
      "    X_idx_sorted=X_idx_sorted)\n",
      "  File \"C:\\Users\\Lupo_Remastered\\Anaconda3\\lib\\site-packages\\sklearn\\tree\\_classes.py\", line 158, in fit\n",
      "    check_y_params))\n",
      "  File \"C:\\Users\\Lupo_Remastered\\Anaconda3\\lib\\site-packages\\sklearn\\base.py\", line 430, in _validate_data\n",
      "    X = check_array(X, **check_X_params)\n",
      "  File \"C:\\Users\\Lupo_Remastered\\Anaconda3\\lib\\site-packages\\sklearn\\utils\\validation.py\", line 63, in inner_f\n",
      "    return f(*args, **kwargs)\n",
      "  File \"C:\\Users\\Lupo_Remastered\\Anaconda3\\lib\\site-packages\\sklearn\\utils\\validation.py\", line 560, in check_array\n",
      "    array = array.astype(dtype)\n",
      "  File \"C:\\Users\\Lupo_Remastered\\Anaconda3\\lib\\site-packages\\pandas\\core\\generic.py\", line 5698, in astype\n",
      "    new_data = self._data.astype(dtype=dtype, copy=copy, errors=errors)\n",
      "  File \"C:\\Users\\Lupo_Remastered\\Anaconda3\\lib\\site-packages\\pandas\\core\\internals\\managers.py\", line 582, in astype\n",
      "    return self.apply(\"astype\", dtype=dtype, copy=copy, errors=errors)\n",
      "  File \"C:\\Users\\Lupo_Remastered\\Anaconda3\\lib\\site-packages\\pandas\\core\\internals\\managers.py\", line 442, in apply\n",
      "    applied = getattr(b, f)(**kwargs)\n",
      "  File \"C:\\Users\\Lupo_Remastered\\Anaconda3\\lib\\site-packages\\pandas\\core\\internals\\blocks.py\", line 607, in astype\n",
      "    values = self.values.astype(dtype)\n",
      "  File \"C:\\Users\\Lupo_Remastered\\Anaconda3\\lib\\site-packages\\pandas\\core\\arrays\\categorical.py\", line 502, in astype\n",
      "    return np.array(self, dtype=dtype, copy=copy)\n",
      "  File \"C:\\Users\\Lupo_Remastered\\Anaconda3\\lib\\site-packages\\pandas\\core\\arrays\\categorical.py\", line 1286, in __array__\n",
      "    return np.asarray(ret, dtype)\n",
      "  File \"C:\\Users\\Lupo_Remastered\\Anaconda3\\lib\\site-packages\\numpy\\core\\_asarray.py\", line 83, in asarray\n",
      "    return array(a, dtype, copy=False, order=order)\n",
      "ValueError: could not convert string to float: 'Female'\n",
      "\n",
      "  FitFailedWarning)\n",
      "C:\\Users\\Lupo_Remastered\\Anaconda3\\lib\\site-packages\\sklearn\\model_selection\\_validation.py:614: FitFailedWarning: Estimator fit failed. The score on this train-test partition for these parameters will be set to nan. Details: \n",
      "Traceback (most recent call last):\n",
      "  File \"C:\\Users\\Lupo_Remastered\\Anaconda3\\lib\\site-packages\\sklearn\\model_selection\\_validation.py\", line 593, in _fit_and_score\n",
      "    estimator.fit(X_train, y_train, **fit_params)\n",
      "  File \"C:\\Users\\Lupo_Remastered\\Anaconda3\\lib\\site-packages\\sklearn\\pipeline.py\", line 346, in fit\n",
      "    self._final_estimator.fit(Xt, y, **fit_params_last_step)\n",
      "  File \"C:\\Users\\Lupo_Remastered\\Anaconda3\\lib\\site-packages\\sklearn\\tree\\_classes.py\", line 902, in fit\n",
      "    X_idx_sorted=X_idx_sorted)\n",
      "  File \"C:\\Users\\Lupo_Remastered\\Anaconda3\\lib\\site-packages\\sklearn\\tree\\_classes.py\", line 158, in fit\n",
      "    check_y_params))\n",
      "  File \"C:\\Users\\Lupo_Remastered\\Anaconda3\\lib\\site-packages\\sklearn\\base.py\", line 430, in _validate_data\n",
      "    X = check_array(X, **check_X_params)\n",
      "  File \"C:\\Users\\Lupo_Remastered\\Anaconda3\\lib\\site-packages\\sklearn\\utils\\validation.py\", line 63, in inner_f\n",
      "    return f(*args, **kwargs)\n",
      "  File \"C:\\Users\\Lupo_Remastered\\Anaconda3\\lib\\site-packages\\sklearn\\utils\\validation.py\", line 560, in check_array\n",
      "    array = array.astype(dtype)\n",
      "  File \"C:\\Users\\Lupo_Remastered\\Anaconda3\\lib\\site-packages\\pandas\\core\\generic.py\", line 5698, in astype\n",
      "    new_data = self._data.astype(dtype=dtype, copy=copy, errors=errors)\n",
      "  File \"C:\\Users\\Lupo_Remastered\\Anaconda3\\lib\\site-packages\\pandas\\core\\internals\\managers.py\", line 582, in astype\n",
      "    return self.apply(\"astype\", dtype=dtype, copy=copy, errors=errors)\n",
      "  File \"C:\\Users\\Lupo_Remastered\\Anaconda3\\lib\\site-packages\\pandas\\core\\internals\\managers.py\", line 442, in apply\n",
      "    applied = getattr(b, f)(**kwargs)\n",
      "  File \"C:\\Users\\Lupo_Remastered\\Anaconda3\\lib\\site-packages\\pandas\\core\\internals\\blocks.py\", line 607, in astype\n",
      "    values = self.values.astype(dtype)\n",
      "  File \"C:\\Users\\Lupo_Remastered\\Anaconda3\\lib\\site-packages\\pandas\\core\\arrays\\categorical.py\", line 502, in astype\n",
      "    return np.array(self, dtype=dtype, copy=copy)\n",
      "  File \"C:\\Users\\Lupo_Remastered\\Anaconda3\\lib\\site-packages\\pandas\\core\\arrays\\categorical.py\", line 1286, in __array__\n",
      "    return np.asarray(ret, dtype)\n",
      "  File \"C:\\Users\\Lupo_Remastered\\Anaconda3\\lib\\site-packages\\numpy\\core\\_asarray.py\", line 83, in asarray\n",
      "    return array(a, dtype, copy=False, order=order)\n",
      "ValueError: could not convert string to float: 'Female'\n",
      "\n",
      "  FitFailedWarning)\n",
      "C:\\Users\\Lupo_Remastered\\Anaconda3\\lib\\site-packages\\sklearn\\model_selection\\_validation.py:614: FitFailedWarning: Estimator fit failed. The score on this train-test partition for these parameters will be set to nan. Details: \n",
      "Traceback (most recent call last):\n",
      "  File \"C:\\Users\\Lupo_Remastered\\Anaconda3\\lib\\site-packages\\sklearn\\model_selection\\_validation.py\", line 593, in _fit_and_score\n",
      "    estimator.fit(X_train, y_train, **fit_params)\n",
      "  File \"C:\\Users\\Lupo_Remastered\\Anaconda3\\lib\\site-packages\\sklearn\\pipeline.py\", line 346, in fit\n",
      "    self._final_estimator.fit(Xt, y, **fit_params_last_step)\n",
      "  File \"C:\\Users\\Lupo_Remastered\\Anaconda3\\lib\\site-packages\\sklearn\\tree\\_classes.py\", line 902, in fit\n",
      "    X_idx_sorted=X_idx_sorted)\n",
      "  File \"C:\\Users\\Lupo_Remastered\\Anaconda3\\lib\\site-packages\\sklearn\\tree\\_classes.py\", line 158, in fit\n",
      "    check_y_params))\n",
      "  File \"C:\\Users\\Lupo_Remastered\\Anaconda3\\lib\\site-packages\\sklearn\\base.py\", line 430, in _validate_data\n",
      "    X = check_array(X, **check_X_params)\n",
      "  File \"C:\\Users\\Lupo_Remastered\\Anaconda3\\lib\\site-packages\\sklearn\\utils\\validation.py\", line 63, in inner_f\n",
      "    return f(*args, **kwargs)\n",
      "  File \"C:\\Users\\Lupo_Remastered\\Anaconda3\\lib\\site-packages\\sklearn\\utils\\validation.py\", line 560, in check_array\n",
      "    array = array.astype(dtype)\n",
      "  File \"C:\\Users\\Lupo_Remastered\\Anaconda3\\lib\\site-packages\\pandas\\core\\generic.py\", line 5698, in astype\n",
      "    new_data = self._data.astype(dtype=dtype, copy=copy, errors=errors)\n",
      "  File \"C:\\Users\\Lupo_Remastered\\Anaconda3\\lib\\site-packages\\pandas\\core\\internals\\managers.py\", line 582, in astype\n",
      "    return self.apply(\"astype\", dtype=dtype, copy=copy, errors=errors)\n",
      "  File \"C:\\Users\\Lupo_Remastered\\Anaconda3\\lib\\site-packages\\pandas\\core\\internals\\managers.py\", line 442, in apply\n",
      "    applied = getattr(b, f)(**kwargs)\n",
      "  File \"C:\\Users\\Lupo_Remastered\\Anaconda3\\lib\\site-packages\\pandas\\core\\internals\\blocks.py\", line 607, in astype\n",
      "    values = self.values.astype(dtype)\n",
      "  File \"C:\\Users\\Lupo_Remastered\\Anaconda3\\lib\\site-packages\\pandas\\core\\arrays\\categorical.py\", line 502, in astype\n",
      "    return np.array(self, dtype=dtype, copy=copy)\n",
      "  File \"C:\\Users\\Lupo_Remastered\\Anaconda3\\lib\\site-packages\\pandas\\core\\arrays\\categorical.py\", line 1286, in __array__\n",
      "    return np.asarray(ret, dtype)\n",
      "  File \"C:\\Users\\Lupo_Remastered\\Anaconda3\\lib\\site-packages\\numpy\\core\\_asarray.py\", line 83, in asarray\n",
      "    return array(a, dtype, copy=False, order=order)\n",
      "ValueError: could not convert string to float: 'Female'\n",
      "\n",
      "  FitFailedWarning)\n",
      "C:\\Users\\Lupo_Remastered\\Anaconda3\\lib\\site-packages\\sklearn\\model_selection\\_validation.py:614: FitFailedWarning: Estimator fit failed. The score on this train-test partition for these parameters will be set to nan. Details: \n",
      "Traceback (most recent call last):\n",
      "  File \"C:\\Users\\Lupo_Remastered\\Anaconda3\\lib\\site-packages\\sklearn\\model_selection\\_validation.py\", line 593, in _fit_and_score\n",
      "    estimator.fit(X_train, y_train, **fit_params)\n",
      "  File \"C:\\Users\\Lupo_Remastered\\Anaconda3\\lib\\site-packages\\sklearn\\pipeline.py\", line 346, in fit\n",
      "    self._final_estimator.fit(Xt, y, **fit_params_last_step)\n",
      "  File \"C:\\Users\\Lupo_Remastered\\Anaconda3\\lib\\site-packages\\sklearn\\tree\\_classes.py\", line 902, in fit\n",
      "    X_idx_sorted=X_idx_sorted)\n",
      "  File \"C:\\Users\\Lupo_Remastered\\Anaconda3\\lib\\site-packages\\sklearn\\tree\\_classes.py\", line 158, in fit\n",
      "    check_y_params))\n",
      "  File \"C:\\Users\\Lupo_Remastered\\Anaconda3\\lib\\site-packages\\sklearn\\base.py\", line 430, in _validate_data\n",
      "    X = check_array(X, **check_X_params)\n",
      "  File \"C:\\Users\\Lupo_Remastered\\Anaconda3\\lib\\site-packages\\sklearn\\utils\\validation.py\", line 63, in inner_f\n",
      "    return f(*args, **kwargs)\n",
      "  File \"C:\\Users\\Lupo_Remastered\\Anaconda3\\lib\\site-packages\\sklearn\\utils\\validation.py\", line 560, in check_array\n",
      "    array = array.astype(dtype)\n",
      "  File \"C:\\Users\\Lupo_Remastered\\Anaconda3\\lib\\site-packages\\pandas\\core\\generic.py\", line 5698, in astype\n",
      "    new_data = self._data.astype(dtype=dtype, copy=copy, errors=errors)\n",
      "  File \"C:\\Users\\Lupo_Remastered\\Anaconda3\\lib\\site-packages\\pandas\\core\\internals\\managers.py\", line 582, in astype\n",
      "    return self.apply(\"astype\", dtype=dtype, copy=copy, errors=errors)\n",
      "  File \"C:\\Users\\Lupo_Remastered\\Anaconda3\\lib\\site-packages\\pandas\\core\\internals\\managers.py\", line 442, in apply\n",
      "    applied = getattr(b, f)(**kwargs)\n",
      "  File \"C:\\Users\\Lupo_Remastered\\Anaconda3\\lib\\site-packages\\pandas\\core\\internals\\blocks.py\", line 607, in astype\n",
      "    values = self.values.astype(dtype)\n",
      "  File \"C:\\Users\\Lupo_Remastered\\Anaconda3\\lib\\site-packages\\pandas\\core\\arrays\\categorical.py\", line 502, in astype\n",
      "    return np.array(self, dtype=dtype, copy=copy)\n",
      "  File \"C:\\Users\\Lupo_Remastered\\Anaconda3\\lib\\site-packages\\pandas\\core\\arrays\\categorical.py\", line 1286, in __array__\n",
      "    return np.asarray(ret, dtype)\n",
      "  File \"C:\\Users\\Lupo_Remastered\\Anaconda3\\lib\\site-packages\\numpy\\core\\_asarray.py\", line 83, in asarray\n",
      "    return array(a, dtype, copy=False, order=order)\n",
      "ValueError: could not convert string to float: 'Female'\n",
      "\n",
      "  FitFailedWarning)\n",
      "C:\\Users\\Lupo_Remastered\\Anaconda3\\lib\\site-packages\\sklearn\\model_selection\\_search.py:921: UserWarning: One or more of the test scores are non-finite: [nan]\n",
      "  category=UserWarning\n"
     ]
    },
    {
     "ename": "ValueError",
     "evalue": "could not convert string to float: 'Female'",
     "output_type": "error",
     "traceback": [
      "\u001B[1;31m---------------------------------------------------------------------------\u001B[0m",
      "\u001B[1;31mValueError\u001B[0m                                Traceback (most recent call last)",
      "\u001B[1;32m<ipython-input-76-af30a8b0c3dc>\u001B[0m in \u001B[0;36m<module>\u001B[1;34m\u001B[0m\n\u001B[0;32m     10\u001B[0m \u001B[1;33m\u001B[0m\u001B[0m\n\u001B[0;32m     11\u001B[0m \u001B[1;31m# Fit to the training set\u001B[0m\u001B[1;33m\u001B[0m\u001B[1;33m\u001B[0m\u001B[1;33m\u001B[0m\u001B[0m\n\u001B[1;32m---> 12\u001B[1;33m \u001B[0mt\u001B[0m \u001B[1;33m=\u001B[0m \u001B[0mcv\u001B[0m\u001B[1;33m.\u001B[0m\u001B[0mfit\u001B[0m\u001B[1;33m(\u001B[0m\u001B[0mX_train\u001B[0m\u001B[1;33m,\u001B[0m \u001B[0my_train\u001B[0m\u001B[1;33m)\u001B[0m\u001B[1;33m\u001B[0m\u001B[1;33m\u001B[0m\u001B[0m\n\u001B[0m\u001B[0;32m     13\u001B[0m \u001B[1;33m\u001B[0m\u001B[0m\n\u001B[0;32m     14\u001B[0m \u001B[1;31m# Predict the labels of the test set: y_pred\u001B[0m\u001B[1;33m\u001B[0m\u001B[1;33m\u001B[0m\u001B[1;33m\u001B[0m\u001B[0m\n",
      "\u001B[1;32m~\\Anaconda3\\lib\\site-packages\\sklearn\\utils\\validation.py\u001B[0m in \u001B[0;36minner_f\u001B[1;34m(*args, **kwargs)\u001B[0m\n\u001B[0;32m     61\u001B[0m             \u001B[0mextra_args\u001B[0m \u001B[1;33m=\u001B[0m \u001B[0mlen\u001B[0m\u001B[1;33m(\u001B[0m\u001B[0margs\u001B[0m\u001B[1;33m)\u001B[0m \u001B[1;33m-\u001B[0m \u001B[0mlen\u001B[0m\u001B[1;33m(\u001B[0m\u001B[0mall_args\u001B[0m\u001B[1;33m)\u001B[0m\u001B[1;33m\u001B[0m\u001B[1;33m\u001B[0m\u001B[0m\n\u001B[0;32m     62\u001B[0m             \u001B[1;32mif\u001B[0m \u001B[0mextra_args\u001B[0m \u001B[1;33m<=\u001B[0m \u001B[1;36m0\u001B[0m\u001B[1;33m:\u001B[0m\u001B[1;33m\u001B[0m\u001B[1;33m\u001B[0m\u001B[0m\n\u001B[1;32m---> 63\u001B[1;33m                 \u001B[1;32mreturn\u001B[0m \u001B[0mf\u001B[0m\u001B[1;33m(\u001B[0m\u001B[1;33m*\u001B[0m\u001B[0margs\u001B[0m\u001B[1;33m,\u001B[0m \u001B[1;33m**\u001B[0m\u001B[0mkwargs\u001B[0m\u001B[1;33m)\u001B[0m\u001B[1;33m\u001B[0m\u001B[1;33m\u001B[0m\u001B[0m\n\u001B[0m\u001B[0;32m     64\u001B[0m \u001B[1;33m\u001B[0m\u001B[0m\n\u001B[0;32m     65\u001B[0m             \u001B[1;31m# extra_args > 0\u001B[0m\u001B[1;33m\u001B[0m\u001B[1;33m\u001B[0m\u001B[1;33m\u001B[0m\u001B[0m\n",
      "\u001B[1;32m~\\Anaconda3\\lib\\site-packages\\sklearn\\model_selection\\_search.py\u001B[0m in \u001B[0;36mfit\u001B[1;34m(self, X, y, groups, **fit_params)\u001B[0m\n\u001B[0;32m    878\u001B[0m             \u001B[0mrefit_start_time\u001B[0m \u001B[1;33m=\u001B[0m \u001B[0mtime\u001B[0m\u001B[1;33m.\u001B[0m\u001B[0mtime\u001B[0m\u001B[1;33m(\u001B[0m\u001B[1;33m)\u001B[0m\u001B[1;33m\u001B[0m\u001B[1;33m\u001B[0m\u001B[0m\n\u001B[0;32m    879\u001B[0m             \u001B[1;32mif\u001B[0m \u001B[0my\u001B[0m \u001B[1;32mis\u001B[0m \u001B[1;32mnot\u001B[0m \u001B[1;32mNone\u001B[0m\u001B[1;33m:\u001B[0m\u001B[1;33m\u001B[0m\u001B[1;33m\u001B[0m\u001B[0m\n\u001B[1;32m--> 880\u001B[1;33m                 \u001B[0mself\u001B[0m\u001B[1;33m.\u001B[0m\u001B[0mbest_estimator_\u001B[0m\u001B[1;33m.\u001B[0m\u001B[0mfit\u001B[0m\u001B[1;33m(\u001B[0m\u001B[0mX\u001B[0m\u001B[1;33m,\u001B[0m \u001B[0my\u001B[0m\u001B[1;33m,\u001B[0m \u001B[1;33m**\u001B[0m\u001B[0mfit_params\u001B[0m\u001B[1;33m)\u001B[0m\u001B[1;33m\u001B[0m\u001B[1;33m\u001B[0m\u001B[0m\n\u001B[0m\u001B[0;32m    881\u001B[0m             \u001B[1;32melse\u001B[0m\u001B[1;33m:\u001B[0m\u001B[1;33m\u001B[0m\u001B[1;33m\u001B[0m\u001B[0m\n\u001B[0;32m    882\u001B[0m                 \u001B[0mself\u001B[0m\u001B[1;33m.\u001B[0m\u001B[0mbest_estimator_\u001B[0m\u001B[1;33m.\u001B[0m\u001B[0mfit\u001B[0m\u001B[1;33m(\u001B[0m\u001B[0mX\u001B[0m\u001B[1;33m,\u001B[0m \u001B[1;33m**\u001B[0m\u001B[0mfit_params\u001B[0m\u001B[1;33m)\u001B[0m\u001B[1;33m\u001B[0m\u001B[1;33m\u001B[0m\u001B[0m\n",
      "\u001B[1;32m~\\Anaconda3\\lib\\site-packages\\sklearn\\pipeline.py\u001B[0m in \u001B[0;36mfit\u001B[1;34m(self, X, y, **fit_params)\u001B[0m\n\u001B[0;32m    344\u001B[0m             \u001B[1;32mif\u001B[0m \u001B[0mself\u001B[0m\u001B[1;33m.\u001B[0m\u001B[0m_final_estimator\u001B[0m \u001B[1;33m!=\u001B[0m \u001B[1;34m'passthrough'\u001B[0m\u001B[1;33m:\u001B[0m\u001B[1;33m\u001B[0m\u001B[1;33m\u001B[0m\u001B[0m\n\u001B[0;32m    345\u001B[0m                 \u001B[0mfit_params_last_step\u001B[0m \u001B[1;33m=\u001B[0m \u001B[0mfit_params_steps\u001B[0m\u001B[1;33m[\u001B[0m\u001B[0mself\u001B[0m\u001B[1;33m.\u001B[0m\u001B[0msteps\u001B[0m\u001B[1;33m[\u001B[0m\u001B[1;33m-\u001B[0m\u001B[1;36m1\u001B[0m\u001B[1;33m]\u001B[0m\u001B[1;33m[\u001B[0m\u001B[1;36m0\u001B[0m\u001B[1;33m]\u001B[0m\u001B[1;33m]\u001B[0m\u001B[1;33m\u001B[0m\u001B[1;33m\u001B[0m\u001B[0m\n\u001B[1;32m--> 346\u001B[1;33m                 \u001B[0mself\u001B[0m\u001B[1;33m.\u001B[0m\u001B[0m_final_estimator\u001B[0m\u001B[1;33m.\u001B[0m\u001B[0mfit\u001B[0m\u001B[1;33m(\u001B[0m\u001B[0mXt\u001B[0m\u001B[1;33m,\u001B[0m \u001B[0my\u001B[0m\u001B[1;33m,\u001B[0m \u001B[1;33m**\u001B[0m\u001B[0mfit_params_last_step\u001B[0m\u001B[1;33m)\u001B[0m\u001B[1;33m\u001B[0m\u001B[1;33m\u001B[0m\u001B[0m\n\u001B[0m\u001B[0;32m    347\u001B[0m \u001B[1;33m\u001B[0m\u001B[0m\n\u001B[0;32m    348\u001B[0m         \u001B[1;32mreturn\u001B[0m \u001B[0mself\u001B[0m\u001B[1;33m\u001B[0m\u001B[1;33m\u001B[0m\u001B[0m\n",
      "\u001B[1;32m~\\Anaconda3\\lib\\site-packages\\sklearn\\tree\\_classes.py\u001B[0m in \u001B[0;36mfit\u001B[1;34m(self, X, y, sample_weight, check_input, X_idx_sorted)\u001B[0m\n\u001B[0;32m    900\u001B[0m             \u001B[0msample_weight\u001B[0m\u001B[1;33m=\u001B[0m\u001B[0msample_weight\u001B[0m\u001B[1;33m,\u001B[0m\u001B[1;33m\u001B[0m\u001B[1;33m\u001B[0m\u001B[0m\n\u001B[0;32m    901\u001B[0m             \u001B[0mcheck_input\u001B[0m\u001B[1;33m=\u001B[0m\u001B[0mcheck_input\u001B[0m\u001B[1;33m,\u001B[0m\u001B[1;33m\u001B[0m\u001B[1;33m\u001B[0m\u001B[0m\n\u001B[1;32m--> 902\u001B[1;33m             X_idx_sorted=X_idx_sorted)\n\u001B[0m\u001B[0;32m    903\u001B[0m         \u001B[1;32mreturn\u001B[0m \u001B[0mself\u001B[0m\u001B[1;33m\u001B[0m\u001B[1;33m\u001B[0m\u001B[0m\n\u001B[0;32m    904\u001B[0m \u001B[1;33m\u001B[0m\u001B[0m\n",
      "\u001B[1;32m~\\Anaconda3\\lib\\site-packages\\sklearn\\tree\\_classes.py\u001B[0m in \u001B[0;36mfit\u001B[1;34m(self, X, y, sample_weight, check_input, X_idx_sorted)\u001B[0m\n\u001B[0;32m    156\u001B[0m             X, y = self._validate_data(X, y,\n\u001B[0;32m    157\u001B[0m                                        validate_separately=(check_X_params,\n\u001B[1;32m--> 158\u001B[1;33m                                                             check_y_params))\n\u001B[0m\u001B[0;32m    159\u001B[0m             \u001B[1;32mif\u001B[0m \u001B[0missparse\u001B[0m\u001B[1;33m(\u001B[0m\u001B[0mX\u001B[0m\u001B[1;33m)\u001B[0m\u001B[1;33m:\u001B[0m\u001B[1;33m\u001B[0m\u001B[1;33m\u001B[0m\u001B[0m\n\u001B[0;32m    160\u001B[0m                 \u001B[0mX\u001B[0m\u001B[1;33m.\u001B[0m\u001B[0msort_indices\u001B[0m\u001B[1;33m(\u001B[0m\u001B[1;33m)\u001B[0m\u001B[1;33m\u001B[0m\u001B[1;33m\u001B[0m\u001B[0m\n",
      "\u001B[1;32m~\\Anaconda3\\lib\\site-packages\\sklearn\\base.py\u001B[0m in \u001B[0;36m_validate_data\u001B[1;34m(self, X, y, reset, validate_separately, **check_params)\u001B[0m\n\u001B[0;32m    428\u001B[0m                 \u001B[1;31m# :(\u001B[0m\u001B[1;33m\u001B[0m\u001B[1;33m\u001B[0m\u001B[1;33m\u001B[0m\u001B[0m\n\u001B[0;32m    429\u001B[0m                 \u001B[0mcheck_X_params\u001B[0m\u001B[1;33m,\u001B[0m \u001B[0mcheck_y_params\u001B[0m \u001B[1;33m=\u001B[0m \u001B[0mvalidate_separately\u001B[0m\u001B[1;33m\u001B[0m\u001B[1;33m\u001B[0m\u001B[0m\n\u001B[1;32m--> 430\u001B[1;33m                 \u001B[0mX\u001B[0m \u001B[1;33m=\u001B[0m \u001B[0mcheck_array\u001B[0m\u001B[1;33m(\u001B[0m\u001B[0mX\u001B[0m\u001B[1;33m,\u001B[0m \u001B[1;33m**\u001B[0m\u001B[0mcheck_X_params\u001B[0m\u001B[1;33m)\u001B[0m\u001B[1;33m\u001B[0m\u001B[1;33m\u001B[0m\u001B[0m\n\u001B[0m\u001B[0;32m    431\u001B[0m                 \u001B[0my\u001B[0m \u001B[1;33m=\u001B[0m \u001B[0mcheck_array\u001B[0m\u001B[1;33m(\u001B[0m\u001B[0my\u001B[0m\u001B[1;33m,\u001B[0m \u001B[1;33m**\u001B[0m\u001B[0mcheck_y_params\u001B[0m\u001B[1;33m)\u001B[0m\u001B[1;33m\u001B[0m\u001B[1;33m\u001B[0m\u001B[0m\n\u001B[0;32m    432\u001B[0m             \u001B[1;32melse\u001B[0m\u001B[1;33m:\u001B[0m\u001B[1;33m\u001B[0m\u001B[1;33m\u001B[0m\u001B[0m\n",
      "\u001B[1;32m~\\Anaconda3\\lib\\site-packages\\sklearn\\utils\\validation.py\u001B[0m in \u001B[0;36minner_f\u001B[1;34m(*args, **kwargs)\u001B[0m\n\u001B[0;32m     61\u001B[0m             \u001B[0mextra_args\u001B[0m \u001B[1;33m=\u001B[0m \u001B[0mlen\u001B[0m\u001B[1;33m(\u001B[0m\u001B[0margs\u001B[0m\u001B[1;33m)\u001B[0m \u001B[1;33m-\u001B[0m \u001B[0mlen\u001B[0m\u001B[1;33m(\u001B[0m\u001B[0mall_args\u001B[0m\u001B[1;33m)\u001B[0m\u001B[1;33m\u001B[0m\u001B[1;33m\u001B[0m\u001B[0m\n\u001B[0;32m     62\u001B[0m             \u001B[1;32mif\u001B[0m \u001B[0mextra_args\u001B[0m \u001B[1;33m<=\u001B[0m \u001B[1;36m0\u001B[0m\u001B[1;33m:\u001B[0m\u001B[1;33m\u001B[0m\u001B[1;33m\u001B[0m\u001B[0m\n\u001B[1;32m---> 63\u001B[1;33m                 \u001B[1;32mreturn\u001B[0m \u001B[0mf\u001B[0m\u001B[1;33m(\u001B[0m\u001B[1;33m*\u001B[0m\u001B[0margs\u001B[0m\u001B[1;33m,\u001B[0m \u001B[1;33m**\u001B[0m\u001B[0mkwargs\u001B[0m\u001B[1;33m)\u001B[0m\u001B[1;33m\u001B[0m\u001B[1;33m\u001B[0m\u001B[0m\n\u001B[0m\u001B[0;32m     64\u001B[0m \u001B[1;33m\u001B[0m\u001B[0m\n\u001B[0;32m     65\u001B[0m             \u001B[1;31m# extra_args > 0\u001B[0m\u001B[1;33m\u001B[0m\u001B[1;33m\u001B[0m\u001B[1;33m\u001B[0m\u001B[0m\n",
      "\u001B[1;32m~\\Anaconda3\\lib\\site-packages\\sklearn\\utils\\validation.py\u001B[0m in \u001B[0;36mcheck_array\u001B[1;34m(array, accept_sparse, accept_large_sparse, dtype, order, copy, force_all_finite, ensure_2d, allow_nd, ensure_min_samples, ensure_min_features, estimator)\u001B[0m\n\u001B[0;32m    558\u001B[0m     \u001B[1;32mif\u001B[0m \u001B[0mhas_pd_integer_array\u001B[0m\u001B[1;33m:\u001B[0m\u001B[1;33m\u001B[0m\u001B[1;33m\u001B[0m\u001B[0m\n\u001B[0;32m    559\u001B[0m         \u001B[1;31m# If there are any pandas integer extension arrays,\u001B[0m\u001B[1;33m\u001B[0m\u001B[1;33m\u001B[0m\u001B[1;33m\u001B[0m\u001B[0m\n\u001B[1;32m--> 560\u001B[1;33m         \u001B[0marray\u001B[0m \u001B[1;33m=\u001B[0m \u001B[0marray\u001B[0m\u001B[1;33m.\u001B[0m\u001B[0mastype\u001B[0m\u001B[1;33m(\u001B[0m\u001B[0mdtype\u001B[0m\u001B[1;33m)\u001B[0m\u001B[1;33m\u001B[0m\u001B[1;33m\u001B[0m\u001B[0m\n\u001B[0m\u001B[0;32m    561\u001B[0m \u001B[1;33m\u001B[0m\u001B[0m\n\u001B[0;32m    562\u001B[0m     \u001B[1;32mif\u001B[0m \u001B[0mforce_all_finite\u001B[0m \u001B[1;32mnot\u001B[0m \u001B[1;32min\u001B[0m \u001B[1;33m(\u001B[0m\u001B[1;32mTrue\u001B[0m\u001B[1;33m,\u001B[0m \u001B[1;32mFalse\u001B[0m\u001B[1;33m,\u001B[0m \u001B[1;34m'allow-nan'\u001B[0m\u001B[1;33m)\u001B[0m\u001B[1;33m:\u001B[0m\u001B[1;33m\u001B[0m\u001B[1;33m\u001B[0m\u001B[0m\n",
      "\u001B[1;32m~\\Anaconda3\\lib\\site-packages\\pandas\\core\\generic.py\u001B[0m in \u001B[0;36mastype\u001B[1;34m(self, dtype, copy, errors)\u001B[0m\n\u001B[0;32m   5696\u001B[0m         \u001B[1;32melse\u001B[0m\u001B[1;33m:\u001B[0m\u001B[1;33m\u001B[0m\u001B[1;33m\u001B[0m\u001B[0m\n\u001B[0;32m   5697\u001B[0m             \u001B[1;31m# else, only a single dtype is given\u001B[0m\u001B[1;33m\u001B[0m\u001B[1;33m\u001B[0m\u001B[1;33m\u001B[0m\u001B[0m\n\u001B[1;32m-> 5698\u001B[1;33m             \u001B[0mnew_data\u001B[0m \u001B[1;33m=\u001B[0m \u001B[0mself\u001B[0m\u001B[1;33m.\u001B[0m\u001B[0m_data\u001B[0m\u001B[1;33m.\u001B[0m\u001B[0mastype\u001B[0m\u001B[1;33m(\u001B[0m\u001B[0mdtype\u001B[0m\u001B[1;33m=\u001B[0m\u001B[0mdtype\u001B[0m\u001B[1;33m,\u001B[0m \u001B[0mcopy\u001B[0m\u001B[1;33m=\u001B[0m\u001B[0mcopy\u001B[0m\u001B[1;33m,\u001B[0m \u001B[0merrors\u001B[0m\u001B[1;33m=\u001B[0m\u001B[0merrors\u001B[0m\u001B[1;33m)\u001B[0m\u001B[1;33m\u001B[0m\u001B[1;33m\u001B[0m\u001B[0m\n\u001B[0m\u001B[0;32m   5699\u001B[0m             \u001B[1;32mreturn\u001B[0m \u001B[0mself\u001B[0m\u001B[1;33m.\u001B[0m\u001B[0m_constructor\u001B[0m\u001B[1;33m(\u001B[0m\u001B[0mnew_data\u001B[0m\u001B[1;33m)\u001B[0m\u001B[1;33m.\u001B[0m\u001B[0m__finalize__\u001B[0m\u001B[1;33m(\u001B[0m\u001B[0mself\u001B[0m\u001B[1;33m)\u001B[0m\u001B[1;33m\u001B[0m\u001B[1;33m\u001B[0m\u001B[0m\n\u001B[0;32m   5700\u001B[0m \u001B[1;33m\u001B[0m\u001B[0m\n",
      "\u001B[1;32m~\\Anaconda3\\lib\\site-packages\\pandas\\core\\internals\\managers.py\u001B[0m in \u001B[0;36mastype\u001B[1;34m(self, dtype, copy, errors)\u001B[0m\n\u001B[0;32m    580\u001B[0m \u001B[1;33m\u001B[0m\u001B[0m\n\u001B[0;32m    581\u001B[0m     \u001B[1;32mdef\u001B[0m \u001B[0mastype\u001B[0m\u001B[1;33m(\u001B[0m\u001B[0mself\u001B[0m\u001B[1;33m,\u001B[0m \u001B[0mdtype\u001B[0m\u001B[1;33m,\u001B[0m \u001B[0mcopy\u001B[0m\u001B[1;33m:\u001B[0m \u001B[0mbool\u001B[0m \u001B[1;33m=\u001B[0m \u001B[1;32mFalse\u001B[0m\u001B[1;33m,\u001B[0m \u001B[0merrors\u001B[0m\u001B[1;33m:\u001B[0m \u001B[0mstr\u001B[0m \u001B[1;33m=\u001B[0m \u001B[1;34m\"raise\"\u001B[0m\u001B[1;33m)\u001B[0m\u001B[1;33m:\u001B[0m\u001B[1;33m\u001B[0m\u001B[1;33m\u001B[0m\u001B[0m\n\u001B[1;32m--> 582\u001B[1;33m         \u001B[1;32mreturn\u001B[0m \u001B[0mself\u001B[0m\u001B[1;33m.\u001B[0m\u001B[0mapply\u001B[0m\u001B[1;33m(\u001B[0m\u001B[1;34m\"astype\"\u001B[0m\u001B[1;33m,\u001B[0m \u001B[0mdtype\u001B[0m\u001B[1;33m=\u001B[0m\u001B[0mdtype\u001B[0m\u001B[1;33m,\u001B[0m \u001B[0mcopy\u001B[0m\u001B[1;33m=\u001B[0m\u001B[0mcopy\u001B[0m\u001B[1;33m,\u001B[0m \u001B[0merrors\u001B[0m\u001B[1;33m=\u001B[0m\u001B[0merrors\u001B[0m\u001B[1;33m)\u001B[0m\u001B[1;33m\u001B[0m\u001B[1;33m\u001B[0m\u001B[0m\n\u001B[0m\u001B[0;32m    583\u001B[0m \u001B[1;33m\u001B[0m\u001B[0m\n\u001B[0;32m    584\u001B[0m     \u001B[1;32mdef\u001B[0m \u001B[0mconvert\u001B[0m\u001B[1;33m(\u001B[0m\u001B[0mself\u001B[0m\u001B[1;33m,\u001B[0m \u001B[1;33m**\u001B[0m\u001B[0mkwargs\u001B[0m\u001B[1;33m)\u001B[0m\u001B[1;33m:\u001B[0m\u001B[1;33m\u001B[0m\u001B[1;33m\u001B[0m\u001B[0m\n",
      "\u001B[1;32m~\\Anaconda3\\lib\\site-packages\\pandas\\core\\internals\\managers.py\u001B[0m in \u001B[0;36mapply\u001B[1;34m(self, f, filter, **kwargs)\u001B[0m\n\u001B[0;32m    440\u001B[0m                 \u001B[0mapplied\u001B[0m \u001B[1;33m=\u001B[0m \u001B[0mb\u001B[0m\u001B[1;33m.\u001B[0m\u001B[0mapply\u001B[0m\u001B[1;33m(\u001B[0m\u001B[0mf\u001B[0m\u001B[1;33m,\u001B[0m \u001B[1;33m**\u001B[0m\u001B[0mkwargs\u001B[0m\u001B[1;33m)\u001B[0m\u001B[1;33m\u001B[0m\u001B[1;33m\u001B[0m\u001B[0m\n\u001B[0;32m    441\u001B[0m             \u001B[1;32melse\u001B[0m\u001B[1;33m:\u001B[0m\u001B[1;33m\u001B[0m\u001B[1;33m\u001B[0m\u001B[0m\n\u001B[1;32m--> 442\u001B[1;33m                 \u001B[0mapplied\u001B[0m \u001B[1;33m=\u001B[0m \u001B[0mgetattr\u001B[0m\u001B[1;33m(\u001B[0m\u001B[0mb\u001B[0m\u001B[1;33m,\u001B[0m \u001B[0mf\u001B[0m\u001B[1;33m)\u001B[0m\u001B[1;33m(\u001B[0m\u001B[1;33m**\u001B[0m\u001B[0mkwargs\u001B[0m\u001B[1;33m)\u001B[0m\u001B[1;33m\u001B[0m\u001B[1;33m\u001B[0m\u001B[0m\n\u001B[0m\u001B[0;32m    443\u001B[0m             \u001B[0mresult_blocks\u001B[0m \u001B[1;33m=\u001B[0m \u001B[0m_extend_blocks\u001B[0m\u001B[1;33m(\u001B[0m\u001B[0mapplied\u001B[0m\u001B[1;33m,\u001B[0m \u001B[0mresult_blocks\u001B[0m\u001B[1;33m)\u001B[0m\u001B[1;33m\u001B[0m\u001B[1;33m\u001B[0m\u001B[0m\n\u001B[0;32m    444\u001B[0m \u001B[1;33m\u001B[0m\u001B[0m\n",
      "\u001B[1;32m~\\Anaconda3\\lib\\site-packages\\pandas\\core\\internals\\blocks.py\u001B[0m in \u001B[0;36mastype\u001B[1;34m(self, dtype, copy, errors)\u001B[0m\n\u001B[0;32m    605\u001B[0m         \u001B[1;32mif\u001B[0m \u001B[0mself\u001B[0m\u001B[1;33m.\u001B[0m\u001B[0mis_extension\u001B[0m\u001B[1;33m:\u001B[0m\u001B[1;33m\u001B[0m\u001B[1;33m\u001B[0m\u001B[0m\n\u001B[0;32m    606\u001B[0m             \u001B[1;31m# TODO: Should we try/except this astype?\u001B[0m\u001B[1;33m\u001B[0m\u001B[1;33m\u001B[0m\u001B[1;33m\u001B[0m\u001B[0m\n\u001B[1;32m--> 607\u001B[1;33m             \u001B[0mvalues\u001B[0m \u001B[1;33m=\u001B[0m \u001B[0mself\u001B[0m\u001B[1;33m.\u001B[0m\u001B[0mvalues\u001B[0m\u001B[1;33m.\u001B[0m\u001B[0mastype\u001B[0m\u001B[1;33m(\u001B[0m\u001B[0mdtype\u001B[0m\u001B[1;33m)\u001B[0m\u001B[1;33m\u001B[0m\u001B[1;33m\u001B[0m\u001B[0m\n\u001B[0m\u001B[0;32m    608\u001B[0m         \u001B[1;32melse\u001B[0m\u001B[1;33m:\u001B[0m\u001B[1;33m\u001B[0m\u001B[1;33m\u001B[0m\u001B[0m\n\u001B[0;32m    609\u001B[0m             \u001B[1;32mif\u001B[0m \u001B[0missubclass\u001B[0m\u001B[1;33m(\u001B[0m\u001B[0mdtype\u001B[0m\u001B[1;33m.\u001B[0m\u001B[0mtype\u001B[0m\u001B[1;33m,\u001B[0m \u001B[0mstr\u001B[0m\u001B[1;33m)\u001B[0m\u001B[1;33m:\u001B[0m\u001B[1;33m\u001B[0m\u001B[1;33m\u001B[0m\u001B[0m\n",
      "\u001B[1;32m~\\Anaconda3\\lib\\site-packages\\pandas\\core\\arrays\\categorical.py\u001B[0m in \u001B[0;36mastype\u001B[1;34m(self, dtype, copy)\u001B[0m\n\u001B[0;32m    500\u001B[0m         \u001B[1;32mif\u001B[0m \u001B[0mis_integer_dtype\u001B[0m\u001B[1;33m(\u001B[0m\u001B[0mdtype\u001B[0m\u001B[1;33m)\u001B[0m \u001B[1;32mand\u001B[0m \u001B[0mself\u001B[0m\u001B[1;33m.\u001B[0m\u001B[0misna\u001B[0m\u001B[1;33m(\u001B[0m\u001B[1;33m)\u001B[0m\u001B[1;33m.\u001B[0m\u001B[0many\u001B[0m\u001B[1;33m(\u001B[0m\u001B[1;33m)\u001B[0m\u001B[1;33m:\u001B[0m\u001B[1;33m\u001B[0m\u001B[1;33m\u001B[0m\u001B[0m\n\u001B[0;32m    501\u001B[0m             \u001B[1;32mraise\u001B[0m \u001B[0mValueError\u001B[0m\u001B[1;33m(\u001B[0m\u001B[1;34m\"Cannot convert float NaN to integer\"\u001B[0m\u001B[1;33m)\u001B[0m\u001B[1;33m\u001B[0m\u001B[1;33m\u001B[0m\u001B[0m\n\u001B[1;32m--> 502\u001B[1;33m         \u001B[1;32mreturn\u001B[0m \u001B[0mnp\u001B[0m\u001B[1;33m.\u001B[0m\u001B[0marray\u001B[0m\u001B[1;33m(\u001B[0m\u001B[0mself\u001B[0m\u001B[1;33m,\u001B[0m \u001B[0mdtype\u001B[0m\u001B[1;33m=\u001B[0m\u001B[0mdtype\u001B[0m\u001B[1;33m,\u001B[0m \u001B[0mcopy\u001B[0m\u001B[1;33m=\u001B[0m\u001B[0mcopy\u001B[0m\u001B[1;33m)\u001B[0m\u001B[1;33m\u001B[0m\u001B[1;33m\u001B[0m\u001B[0m\n\u001B[0m\u001B[0;32m    503\u001B[0m \u001B[1;33m\u001B[0m\u001B[0m\n\u001B[0;32m    504\u001B[0m     \u001B[1;33m@\u001B[0m\u001B[0mcache_readonly\u001B[0m\u001B[1;33m\u001B[0m\u001B[1;33m\u001B[0m\u001B[0m\n",
      "\u001B[1;32m~\\Anaconda3\\lib\\site-packages\\pandas\\core\\arrays\\categorical.py\u001B[0m in \u001B[0;36m__array__\u001B[1;34m(self, dtype)\u001B[0m\n\u001B[0;32m   1284\u001B[0m         \u001B[0mret\u001B[0m \u001B[1;33m=\u001B[0m \u001B[0mtake_1d\u001B[0m\u001B[1;33m(\u001B[0m\u001B[0mself\u001B[0m\u001B[1;33m.\u001B[0m\u001B[0mcategories\u001B[0m\u001B[1;33m.\u001B[0m\u001B[0mvalues\u001B[0m\u001B[1;33m,\u001B[0m \u001B[0mself\u001B[0m\u001B[1;33m.\u001B[0m\u001B[0m_codes\u001B[0m\u001B[1;33m)\u001B[0m\u001B[1;33m\u001B[0m\u001B[1;33m\u001B[0m\u001B[0m\n\u001B[0;32m   1285\u001B[0m         \u001B[1;32mif\u001B[0m \u001B[0mdtype\u001B[0m \u001B[1;32mand\u001B[0m \u001B[1;32mnot\u001B[0m \u001B[0mis_dtype_equal\u001B[0m\u001B[1;33m(\u001B[0m\u001B[0mdtype\u001B[0m\u001B[1;33m,\u001B[0m \u001B[0mself\u001B[0m\u001B[1;33m.\u001B[0m\u001B[0mcategories\u001B[0m\u001B[1;33m.\u001B[0m\u001B[0mdtype\u001B[0m\u001B[1;33m)\u001B[0m\u001B[1;33m:\u001B[0m\u001B[1;33m\u001B[0m\u001B[1;33m\u001B[0m\u001B[0m\n\u001B[1;32m-> 1286\u001B[1;33m             \u001B[1;32mreturn\u001B[0m \u001B[0mnp\u001B[0m\u001B[1;33m.\u001B[0m\u001B[0masarray\u001B[0m\u001B[1;33m(\u001B[0m\u001B[0mret\u001B[0m\u001B[1;33m,\u001B[0m \u001B[0mdtype\u001B[0m\u001B[1;33m)\u001B[0m\u001B[1;33m\u001B[0m\u001B[1;33m\u001B[0m\u001B[0m\n\u001B[0m\u001B[0;32m   1287\u001B[0m         \u001B[1;32mif\u001B[0m \u001B[0mis_extension_array_dtype\u001B[0m\u001B[1;33m(\u001B[0m\u001B[0mret\u001B[0m\u001B[1;33m)\u001B[0m\u001B[1;33m:\u001B[0m\u001B[1;33m\u001B[0m\u001B[1;33m\u001B[0m\u001B[0m\n\u001B[0;32m   1288\u001B[0m             \u001B[1;31m# When we're a Categorical[ExtensionArray], like Interval,\u001B[0m\u001B[1;33m\u001B[0m\u001B[1;33m\u001B[0m\u001B[1;33m\u001B[0m\u001B[0m\n",
      "\u001B[1;32m~\\Anaconda3\\lib\\site-packages\\numpy\\core\\_asarray.py\u001B[0m in \u001B[0;36masarray\u001B[1;34m(a, dtype, order)\u001B[0m\n\u001B[0;32m     81\u001B[0m \u001B[1;33m\u001B[0m\u001B[0m\n\u001B[0;32m     82\u001B[0m     \"\"\"\n\u001B[1;32m---> 83\u001B[1;33m     \u001B[1;32mreturn\u001B[0m \u001B[0marray\u001B[0m\u001B[1;33m(\u001B[0m\u001B[0ma\u001B[0m\u001B[1;33m,\u001B[0m \u001B[0mdtype\u001B[0m\u001B[1;33m,\u001B[0m \u001B[0mcopy\u001B[0m\u001B[1;33m=\u001B[0m\u001B[1;32mFalse\u001B[0m\u001B[1;33m,\u001B[0m \u001B[0morder\u001B[0m\u001B[1;33m=\u001B[0m\u001B[0morder\u001B[0m\u001B[1;33m)\u001B[0m\u001B[1;33m\u001B[0m\u001B[1;33m\u001B[0m\u001B[0m\n\u001B[0m\u001B[0;32m     84\u001B[0m \u001B[1;33m\u001B[0m\u001B[0m\n\u001B[0;32m     85\u001B[0m \u001B[1;33m\u001B[0m\u001B[0m\n",
      "\u001B[1;31mValueError\u001B[0m: could not convert string to float: 'Female'"
     ]
    }
   ],
   "source": [
    "dectree = DecisionTreeClassifier()\n",
    "\n",
    "pipeline = Pipeline(steps=[('classifier', dectree)])\n",
    "\n",
    "# Specify the hyperparameter space\n",
    "parameters = {}\n",
    "\n",
    "# Instantiate the GridSearchCV object: cv\n",
    "cv = GridSearchCV(pipeline, parameters, cv = 5)\n",
    "\n",
    "# Fit to the training set\n",
    "t = cv.fit(X_train, y_train)\n",
    "\n",
    "# Predict the labels of the test set: y_pred\n",
    "y_pred = cv.predict(X_test)\n",
    "\n",
    "# Compute and print metrics\n",
    "print(\"Accuracy: {}\".format(cv.score(X_test, y_test)))\n",
    "print(classification_report(y_test, y_pred))\n",
    "\n",
    "ConfusionMatrixDisplay(confusion_matrix(y_test, y_pred)).plot();\n",
    "print(cv.best_params_);\n",
    "\n",
    "plt.figure(figsize=(20,20))\n",
    "plot_tree(cv.best_estimator_['classifier'], fontsize=8, )\n",
    "plt.show()"
   ],
   "metadata": {
    "collapsed": false,
    "pycharm": {
     "name": "#%%\n"
    }
   }
  }
 ],
 "metadata": {
  "kernelspec": {
   "display_name": "Python 3",
   "language": "python",
   "name": "python3"
  },
  "language_info": {
   "codemirror_mode": {
    "name": "ipython",
    "version": 3
   },
   "file_extension": ".py",
   "mimetype": "text/x-python",
   "name": "python",
   "nbconvert_exporter": "python",
   "pygments_lexer": "ipython3",
   "version": "3.8.5"
  }
 },
 "nbformat": 4,
 "nbformat_minor": 4
}