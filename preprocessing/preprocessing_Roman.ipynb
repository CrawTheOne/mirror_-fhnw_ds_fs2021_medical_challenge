{
 "cells": [
  {
   "cell_type": "code",
   "execution_count": 78,
   "metadata": {
    "pycharm": {
     "name": "#%%\n"
    }
   },
   "outputs": [],
   "source": [
    "import pandas as pd\n",
    "import numpy as np\n",
    "import seaborn as sns\n",
    "import matplotlib.pyplot as plt\n",
    "import regex as re\n",
    "from sklearn.preprocessing import StandardScaler, Binarizer, LabelEncoder, Normalizer, OneHotEncoder\n",
    "from sklearn.impute import SimpleImputer\n",
    "from sklearn.compose import ColumnTransformer\n",
    "from sklearn.pipeline import Pipeline\n",
    "import pipe"
   ]
  },
  {
   "cell_type": "markdown",
   "metadata": {},
   "source": [
    "# Preprocessing Pipeline, uveitis_data.xlsx"
   ]
  },
  {
   "cell_type": "code",
   "execution_count": 79,
   "metadata": {},
   "outputs": [],
   "source": [
    "# import dataframe\n",
    "df = pd.read_excel(\"../data/uveitis_data.xlsx\")\n",
    "assert len(df) >= 1075, \"Data is not complete\"\n",
    "\n",
    "df = pipe.rename(df, \"../data/col_names&data_type-Copy1.xlsx\")\n",
    "\n",
    "# def function \n",
    "    # get list of categorical variables\n",
    "    # split if numeric and categorical is both included\n",
    "    # transform d type to categorical\n",
    "    # encode   "
   ]
  },
  {
   "cell_type": "code",
   "execution_count": 80,
   "metadata": {},
   "outputs": [
    {
     "name": "stdout",
     "output_type": "stream",
     "text": [
      "<class 'pandas.core.frame.DataFrame'>\n",
      "RangeIndex: 1075 entries, 0 to 1074\n",
      "Data columns (total 5 columns):\n",
      " #   Column  Non-Null Count  Dtype \n",
      "---  ------  --------------  ----- \n",
      " 0   id      1075 non-null   int64 \n",
      " 1   gender  1075 non-null   object\n",
      " 2   race    1075 non-null   object\n",
      " 3   loc     1064 non-null   object\n",
      " 4   cat     1074 non-null   object\n",
      "dtypes: int64(1), object(4)\n",
      "memory usage: 42.1+ KB\n"
     ]
    }
   ],
   "source": [
    "df.iloc[:,:5].info()"
   ]
  },
  {
   "cell_type": "code",
   "execution_count": 81,
   "metadata": {},
   "outputs": [],
   "source": [
    "def dtype_transform(df, path):\n",
    "    '''\n",
    "    Converts zero values recorded as text to NaN's. \n",
    "    \n",
    "    Arguments\n",
    "    ---------\n",
    "    \n",
    "    Returns\n",
    "    -------\n",
    "    '''\n",
    "    # remove leading or trailing whitespace in all categorical or text features\n",
    "    df = df.applymap(lambda x: x.strip() if isinstance(x, str) else x)\n",
    "    return df\n",
    "df = dtype_transform(df, \"../data/col_names&data_type-Copy1.xlsx\")"
   ]
  },
  {
   "cell_type": "code",
   "execution_count": 82,
   "metadata": {},
   "outputs": [],
   "source": [
    "def val_to_nan():\n",
    "    '''\n",
    "    \n",
    "    \n",
    "    Arguments\n",
    "    ---------\n",
    "    df: df, Original DataFrame\n",
    "    path: str, Path to excel-file with dtypes linked to features\n",
    "    \n",
    "    Returns\n",
    "    -------\n",
    "    df: df, Returns original DataFrame with changed dtypes\n",
    "    '''"
   ]
  },
  {
   "cell_type": "code",
   "execution_count": 83,
   "metadata": {},
   "outputs": [],
   "source": [
    "# transform categorical data\n",
    "\n",
    "# gender\n",
    "df.gender = df.gender.astype('category')"
   ]
  },
  {
   "cell_type": "markdown",
   "metadata": {},
   "source": [
    "**Feature Race**\n",
    "The categorical variable \"Race\" includes the category \"race or ethnic group data not provided by source\". These values are treated as missing values, since they do not contain any information about the respective person. "
   ]
  },
  {
   "cell_type": "code",
   "execution_count": 85,
   "metadata": {},
   "outputs": [],
   "source": [
    "df.race = df.race.replace('Race or Ethnic Group Data Not Provided by Source',np.NaN)\n",
    "df.race = df.race.astype('category')"
   ]
  },
  {
   "cell_type": "code",
   "execution_count": 86,
   "metadata": {},
   "outputs": [
    {
     "data": {
      "text/plain": [
       "['anterior', 'intermediate', 'pan', 'posterior', 'scleritis', 'panuveitis', NaN]\n",
       "Categories (6, object): ['anterior', 'intermediate', 'pan', 'posterior', 'scleritis', 'panuveitis']"
      ]
     },
     "execution_count": 86,
     "metadata": {},
     "output_type": "execute_result"
    }
   ],
   "source": [
    "df['loc'] = df['loc'].str.lower().astype('category')"
   ]
  },
  {
   "cell_type": "code",
   "execution_count": 87,
   "metadata": {},
   "outputs": [],
   "source": [
    "df.cat = df.cat.str.lower().astype('category')"
   ]
  },
  {
   "cell_type": "code",
   "execution_count": 88,
   "metadata": {},
   "outputs": [],
   "source": [
    "df.specific_diagnosis = df.specific_diagnosis.str.lower().astype('category')"
   ]
  },
  {
   "cell_type": "code",
   "execution_count": 89,
   "metadata": {},
   "outputs": [
    {
     "data": {
      "text/plain": [
       "NaN              850\n",
       "pars planitis    142\n",
       "WDS               80\n",
       "lymphoma           2\n",
       "PIC                1\n",
       "Name: notes, dtype: int64"
      ]
     },
     "execution_count": 89,
     "metadata": {},
     "output_type": "execute_result"
    }
   ],
   "source": [
    "df.notes.value_counts(dropna=False)"
   ]
  },
  {
   "cell_type": "markdown",
   "metadata": {},
   "source": [
    "todo: describe change with 'c'"
   ]
  },
  {
   "cell_type": "code",
   "execution_count": 90,
   "metadata": {},
   "outputs": [],
   "source": [
    "col = ['ac_abn_od_cells', 'ac_abn_os_cells', 'vit_abn_od_cells',\n",
    "       'vit_abn_os_cells', 'vit_abn_od_haze', 'vit_abn_os_haze']\n",
    "for c in col: \n",
    "    # replace 'C' (for missing) with NaN\n",
    "    df[c] = df[c].replace('C',np.nan)\n",
    "    df[c] = df[c].astype('float')\n",
    "    df[c] = pd.Categorical(values=df[c], categories=df[c].unique().sort(), ordered=True)"
   ]
  },
  {
   "cell_type": "code",
   "execution_count": 91,
   "metadata": {},
   "outputs": [
    {
     "name": "stdout",
     "output_type": "stream",
     "text": [
      "[0, 1, NaN]\n",
      "Categories (2, int64): [0, 1]\n",
      "[0, NaN, 1]\n",
      "Categories (2, int64): [0, 1]\n",
      "[0, NaN, 1]\n",
      "Categories (2, int64): [0, 1]\n"
     ]
    }
   ],
   "source": [
    "col = ['hbc__ab', 'hbs__ag', 'hcv__ab']\n",
    "for c in col:\n",
    "    df[c] = df[c].str.lower()\n",
    "    df.loc[df[c] == 'negative', c] = 0\n",
    "    df.loc[df[c] == 'see note | positive result s/co ratio is >5.0.  confirmatory testing i', c] = 1\n",
    "    df.loc[df[c] == 'see below | positive result s/co ratio is >5.0.  confirmatory testing', c] = 1\n",
    "    df.loc[df[c] == 'reactive', c] = 1\n",
    "    df.loc[df[c] == 'repeat reactive', c] = 1\n",
    "    df.loc[df[c] == 'invalid result', c] = np.nan\n",
    "    df.loc[df[c] == 'note:', c] = np.nan\n",
    "    df[c] = df[c].astype('category')"
   ]
  },
  {
   "cell_type": "code",
   "execution_count": null,
   "metadata": {},
   "outputs": [],
   "source": [
    "def preprocessing(cat_features, num_features, imputer):\n",
    "    if num_features is not None:\n",
    "        numeric_transformer = Pipeline(steps=[\n",
    "            ('imputer', SimpleImputer(strategy=imputer['numeric']['strategy'])),\n",
    "            ('scaler', StandardScaler())])\n",
    "\n",
    "    if cat_features is not None:\n",
    "        categorical_transformer = Pipeline(steps=[\n",
    "            ('imputer', SimpleImputer(strategy='constant', fill_value='missing')),\n",
    "            ('onehot', OneHotEncoder(handle_unknown='ignore', sparse=False))])\n",
    "\n",
    "    if cat_features is None and num_features is not None:\n",
    "        preprocessor = ColumnTransformer(\n",
    "            transformers=[\n",
    "                ('num', numeric_transformer, num_features)])\n",
    "    elif cat_features is not None and num_features is  None:\n",
    "        preprocessor = ColumnTransformer(\n",
    "            transformers=[\n",
    "                ('cat', categorical_transformer, cat_features)])\n",
    "    elif cat_features is not None and num_features is not None:\n",
    "        preprocessor = ColumnTransformer(\n",
    "            transformers=[\n",
    "                ('num', numeric_transformer, num_features),\n",
    "                ('cat', categorical_transformer, cat_features)])\n",
    "    return preprocessor\n",
    "\n",
    "numeric_features = []\n",
    "categorical_features = []\n",
    "imputer = {'categorical':{'strategy':'constant', 'fill_value'='missing'}, 'numerical':{'strategy':'median'}}\n",
    "preprocessor = preprocessing(categorical_features, numeric_features, imputer)"
   ]
  }
 ],
 "metadata": {
  "kernelspec": {
   "display_name": "Python 3",
   "language": "python",
   "name": "python3"
  },
  "language_info": {
   "codemirror_mode": {
    "name": "ipython",
    "version": 3
   },
   "file_extension": ".py",
   "mimetype": "text/x-python",
   "name": "python",
   "nbconvert_exporter": "python",
   "pygments_lexer": "ipython3",
   "version": "3.8.5"
  }
 },
 "nbformat": 4,
 "nbformat_minor": 4
}
