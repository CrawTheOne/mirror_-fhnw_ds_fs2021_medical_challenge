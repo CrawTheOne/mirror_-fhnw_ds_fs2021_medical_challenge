{
 "cells": [
  {
   "cell_type": "code",
   "execution_count": 1,
   "metadata": {
    "pycharm": {
     "name": "#%%\n"
    }
   },
   "outputs": [],
   "source": [
    "import pandas as pd\n",
    "import numpy as np\n",
    "import seaborn as sns\n",
    "import matplotlib.pyplot as plt\n",
    "import regex as re\n",
    "from sklearn.preprocessing import StandardScaler, Binarizer, LabelEncoder, Normalizer, OneHotEncoder\n",
    "from sklearn.impute import SimpleImputer\n",
    "from sklearn.compose import ColumnTransformer\n",
    "from sklearn.pipeline import Pipeline\n",
    "import pipe"
   ]
  },
  {
   "cell_type": "markdown",
   "metadata": {},
   "source": [
    "# Preprocessing Pipeline, uveitis_data.xlsx"
   ]
  },
  {
   "cell_type": "code",
   "execution_count": 2,
   "metadata": {},
   "outputs": [],
   "source": [
    "# import dataframe\n",
    "df = pd.read_excel(\"../data/uveitis_data.xlsx\")\n",
    "assert len(df) >= 1075, \"Data is not complete\"\n",
    "\n",
    "df = pipe.rename(df, \"../data/col_names&data_type-Copy1.xlsx\")\n",
    "\n",
    "# def function \n",
    "    # get list of categorical variables\n",
    "    # split if numeric and categorical is both included\n",
    "    # transform d type to categorical\n",
    "    # encode   "
   ]
  },
  {
   "cell_type": "code",
   "execution_count": 3,
   "metadata": {},
   "outputs": [],
   "source": [
    "def dtype_transform(df, path):\n",
    "    '''\n",
    "    Converts zero values recorded as text to NaN's. \n",
    "    \n",
    "    Arguments\n",
    "    ---------\n",
    "    \n",
    "    Returns\n",
    "    -------\n",
    "    '''\n",
    "    # remove leading or trailing whitespace in all categorical or text features\n",
    "    df = df.applymap(lambda x: x.strip() if isinstance(x, str) else x)\n",
    "    return df\n",
    "\n",
    "df = dtype_transform(df, \"../data/col_names&data_type-Copy1.xlsx\")"
   ]
  },
  {
   "cell_type": "code",
   "execution_count": 4,
   "metadata": {},
   "outputs": [],
   "source": [
    "def val_to_nan():\n",
    "    '''\n",
    "    \n",
    "    \n",
    "    Arguments\n",
    "    ---------\n",
    "    df: df, Original DataFrame\n",
    "    path: str, Path to excel-file with dtypes linked to features\n",
    "    \n",
    "    Returns\n",
    "    -------\n",
    "    df: df, Returns original DataFrame with changed dtypes\n",
    "    '''"
   ]
  },
  {
   "cell_type": "code",
   "execution_count": 5,
   "metadata": {},
   "outputs": [],
   "source": [
    "# transform categorical data\n",
    "\n",
    "# gender\n",
    "df.gender = df.gender.astype('category')"
   ]
  },
  {
   "cell_type": "markdown",
   "metadata": {},
   "source": [
    "**Feature Race**\n",
    "The categorical variable \"Race\" includes the category \"race or ethnic group data not provided by source\". These values are treated as missing values, since they do not contain any information about the respective person. "
   ]
  },
  {
   "cell_type": "code",
   "execution_count": 6,
   "metadata": {},
   "outputs": [],
   "source": [
    "df.race = df.race.replace('Race or Ethnic Group Data Not Provided by Source',np.NaN)\n",
    "df.race = df.race.astype('category')"
   ]
  },
  {
   "cell_type": "code",
   "execution_count": 7,
   "metadata": {},
   "outputs": [],
   "source": [
    "df['loc'] = df['loc'].str.lower().astype('category')"
   ]
  },
  {
   "cell_type": "code",
   "execution_count": 8,
   "metadata": {},
   "outputs": [],
   "source": [
    "df.cat = df.cat.str.lower().astype('category')"
   ]
  },
  {
   "cell_type": "code",
   "execution_count": 9,
   "metadata": {},
   "outputs": [],
   "source": [
    "df.specific_diagnosis = df.specific_diagnosis.str.lower().astype('category')"
   ]
  },
  {
   "cell_type": "code",
   "execution_count": 10,
   "metadata": {},
   "outputs": [
    {
     "data": {
      "text/plain": [
       "NaN              850\n",
       "pars planitis    142\n",
       "WDS               80\n",
       "lymphoma           2\n",
       "PIC                1\n",
       "Name: notes, dtype: int64"
      ]
     },
     "execution_count": 10,
     "metadata": {},
     "output_type": "execute_result"
    }
   ],
   "source": [
    "df.notes.value_counts(dropna=False)"
   ]
  },
  {
   "cell_type": "markdown",
   "metadata": {},
   "source": [
    "todo: describe change with 'c'"
   ]
  },
  {
   "cell_type": "code",
   "execution_count": 11,
   "metadata": {},
   "outputs": [],
   "source": [
    "col = ['ac_abn_od_cells', 'ac_abn_os_cells', 'vit_abn_od_cells',\n",
    "       'vit_abn_os_cells', 'vit_abn_od_haze', 'vit_abn_os_haze']\n",
    "for c in col: \n",
    "    # replace 'C' (for missing) with NaN\n",
    "    df[c] = df[c].replace('C',np.nan)\n",
    "    df[c] = df[c].astype('float')\n",
    "    df[c] = pd.Categorical(values=df[c], categories=df[c].unique().sort(), ordered=True)"
   ]
  },
  {
   "cell_type": "code",
   "execution_count": 12,
   "metadata": {},
   "outputs": [],
   "source": [
    "col = ['hbc__ab', 'hbs__ag', 'hcv__ab']\n",
    "for c in col:\n",
    "    df[c] = df[c].str.lower()\n",
    "    df.loc[df[c] == 'negative', c] = 0\n",
    "    df.loc[df[c] == 'see note | positive result s/co ratio is >5.0.  confirmatory testing i', c] = 1\n",
    "    df.loc[df[c] == 'see below | positive result s/co ratio is >5.0.  confirmatory testing', c] = 1\n",
    "    df.loc[df[c] == 'reactive', c] = 1\n",
    "    df.loc[df[c] == 'repeat reactive', c] = 1\n",
    "    df.loc[df[c] == 'invalid result', c] = np.nan\n",
    "    df.loc[df[c] == 'note:', c] = np.nan\n",
    "    df[c] = df[c].astype('category')"
   ]
  },
  {
   "cell_type": "code",
   "execution_count": 13,
   "metadata": {},
   "outputs": [],
   "source": [
    "numeric_features = []\n",
    "categorical_features = []\n",
    "imputer = {'categorical':{'strategy':'constant', 'fill_value':'missing'}, 'numerical':{'strategy':'median'}}\n",
    "# preprocessor = pipe.preprocessing(categorical_features, numeric_features, imputer)"
   ]
  },
  {
   "cell_type": "code",
   "execution_count": 14,
   "metadata": {},
   "outputs": [
    {
     "data": {
      "text/plain": [
       "Index(['calcium', 'uom', 'range', 'lactate_dehydrogenase', 'uom1', 'range1',\n",
       "       'c-reactive_protein,_normal_and_high_sensitivity', 'uom2', 'range2',\n",
       "       'wbc',\n",
       "       ...\n",
       "       'range34', 'proteinase-3_antibodies', 'uom35', 'range35',\n",
       "       'rheumatoid_factor', 'uom36', 'range36', 'hbc__ab', 'hbs__ag',\n",
       "       'hcv__ab'],\n",
       "      dtype='object', length=103)"
      ]
     },
     "execution_count": 14,
     "metadata": {},
     "output_type": "execute_result"
    }
   ],
   "source": [
    "df_test = df.loc[:,\"calcium\":]\n",
    "df_test.columns"
   ]
  },
  {
   "cell_type": "code",
   "execution_count": 16,
   "metadata": {},
   "outputs": [
    {
     "name": "stdout",
     "output_type": "stream",
     "text": [
      "Unique values before transformation:\n",
      "[2.27 2.32 2.44 2.45 2.28 2.36 2.23 2.29 2.25 2.3 2.33 2.4 2.34 2.46 2.22\n",
      " 2.38 2.31 2.42 2.13 2.18 2.47 2.24 2.15 2.49 2.53 2.37 2.61 2.21 2.39\n",
      " 2.14 2.19 2.2 2.6 2.51 1.76 2.35 2.43 2.41 2.5 2.09 2.26 2.16 2.17 2.52\n",
      " 2.48 2.63 2.08 2.59 2.81 2.07 2.56 nan 2.54 2.12 1.87 2.06 2.55 2.57 2.58\n",
      " 1.9 2.1 2.7 3.04 2.75 2.11 2.62 2.04 'HEMOLYZED|2.30' 2.01 2.64]\n",
      "Unique values after transformation:\n",
      "[2.27 2.32 2.44 2.45 2.28 2.36 2.23 2.29 2.25 2.3  2.33 2.4  2.34 2.46\n",
      " 2.22 2.38 2.31 2.42 2.13 2.18 2.47 2.24 2.15 2.49 2.53 2.37 2.61 2.21\n",
      " 2.39 2.14 2.19 2.2  2.6  2.51 1.76 2.35 2.43 2.41 2.5  2.09 2.26 2.16\n",
      " 2.17 2.52 2.48 2.63 2.08 2.59 2.81 2.07 2.56  nan 2.54 2.12 1.87 2.06\n",
      " 2.55 2.57 2.58 1.9  2.1  2.7  3.04 2.75 2.11 2.62 2.04 2.01 2.64]\n"
     ]
    },
    {
     "data": {
      "image/png": "[encoded data removed]",
      "text/plain": [
       "<Figure size 432x288 with 1 Axes>"
      ]
     },
     "metadata": {
      "needs_background": "light"
     },
     "output_type": "display_data"
    }
   ],
   "source": [
    "df = pipe.extract_num(df, \"calcium\", verbose=True)\n",
    "df = pipe.extract_num(df, 'lactate_dehydrogenase')\n",
    "\n",
    "def plot_range(data, feat):\n",
    "    # extract uom and ranges for feat\n",
    "    sub_data = data.loc[:,feat:].iloc[:,:3]\n",
    "    sub_range = sub_data.loc[:,sub_data.columns[sub_data.columns.str.contains(pat = 'range')]]\n",
    "    # plot boxplot for every \"range\" and corresponding uom\n",
    "    g = sns.boxplot(x=sub_range.iloc[:,0],y=sub_data[feat])\n",
    "    # overlay min and max range\n",
    "    for num, rang in enumerate(sub_range.iloc[:,0].unique()):\n",
    "        if isinstance(rang, str):\n",
    "            min_range, max_range = rang.split('-')\n",
    "            min_range, max_range = float(min_range), float(max_range)\n",
    "            g.axhline(min_range, xmin=num/2+0.05, xmax=num/2+0.45, ls='--')\n",
    "            g.axhline(max_range, xmin=num/2+0.05, xmax=num/2+0.45, ls='--')\n",
    "            g.text(num+0.25,max_range+0.05, \"max.\")\n",
    "            g.text(num+0.25,min_range+0.05, \"min.\")\n",
    "    \n",
    "\n",
    "\n",
    "plot_range(df, \"calcium\")"
   ]
  },
  {
   "cell_type": "code",
   "execution_count": 17,
   "metadata": {},
   "outputs": [
    {
     "ename": "SyntaxError",
     "evalue": "closing parenthesis ']' does not match opening parenthesis '(' (<ipython-input-17-489dddcb29c7>, line 1)",
     "output_type": "error",
     "traceback": [
      "\u001b[1;36m  File \u001b[1;32m\"<ipython-input-17-489dddcb29c7>\"\u001b[1;36m, line \u001b[1;32m1\u001b[0m\n\u001b[1;33m    df[plot_range(df, 'lactate_dehydrogenase']\u001b[0m\n\u001b[1;37m                                             ^\u001b[0m\n\u001b[1;31mSyntaxError\u001b[0m\u001b[1;31m:\u001b[0m closing parenthesis ']' does not match opening parenthesis '('\n"
     ]
    }
   ],
   "source": [
    "df[plot_range(df, 'lactate_dehydrogenase']"
   ]
  },
  {
   "cell_type": "code",
   "execution_count": null,
   "metadata": {},
   "outputs": [],
   "source": [
    "plot_range(df, 'lactate_dehydrogenase')"
   ]
  }
 ],
 "metadata": {
  "kernelspec": {
   "display_name": "Python 3",
   "language": "python",
   "name": "python3"
  },
  "language_info": {
   "codemirror_mode": {
    "name": "ipython",
    "version": 3
   },
   "file_extension": ".py",
   "mimetype": "text/x-python",
   "name": "python",
   "nbconvert_exporter": "python",
   "pygments_lexer": "ipython3",
   "version": "3.8.5"
  }
 },
 "nbformat": 4,
 "nbformat_minor": 4
}
